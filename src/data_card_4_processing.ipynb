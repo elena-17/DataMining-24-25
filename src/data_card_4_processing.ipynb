{
 "cells": [
  {
   "cell_type": "markdown",
   "metadata": {},
   "source": [
    "# Tarjeta de datos 4"
   ]
  },
  {
   "cell_type": "markdown",
   "metadata": {},
   "source": [
    "Hipótesis 4: Las provincias situadas en el sur de España (aquellas al sur de Madrid) tienden a utilizar menos dispositivos de aprovechamiento de energías renovables que las del norte.  \n"
   ]
  },
  {
   "cell_type": "markdown",
   "metadata": {},
   "source": [
    "### Preparación del entorno"
   ]
  },
  {
   "cell_type": "code",
   "execution_count": null,
   "metadata": {},
   "outputs": [],
   "source": [
    "import pandas as pd\n",
    "from sklearn.preprocessing import MinMaxScaler\n",
    "import matplotlib.pyplot as plt\n",
    "import scipy.cluster.hierarchy as sch\n",
    "import os\n",
    "\n",
    "DATA_PATH = os.path.join(\"..\", \"data/silver/\")"
   ]
  },
  {
   "cell_type": "markdown",
   "metadata": {},
   "source": [
    "### Carga de Datos"
   ]
  },
  {
   "cell_type": "code",
   "execution_count": null,
   "metadata": {},
   "outputs": [],
   "source": [
    "dispositivos_df = pd.read_csv(DATA_PATH + 'dispositivos_renovable.csv', sep=';', encoding='latin')\n",
    "dispositivos_df.info()"
   ]
  },
  {
   "cell_type": "code",
   "execution_count": null,
   "metadata": {},
   "outputs": [],
   "source": [
    "renta_df = pd.read_csv(DATA_PATH + 'renta_media_hogar.csv', sep=';', encoding='latin')\n",
    "renta_df.info()"
   ]
  },
  {
   "cell_type": "code",
   "execution_count": null,
   "metadata": {},
   "outputs": [],
   "source": [
    "hogar_df = pd.read_csv(DATA_PATH + 'tipo_nucleo_familiar.csv', sep=';', encoding='latin')\n",
    "hogar_df.info()"
   ]
  },
  {
   "cell_type": "code",
   "execution_count": null,
   "metadata": {},
   "outputs": [],
   "source": [
    "edad_df = pd.read_csv(DATA_PATH + 'distribucion_edad.csv', sep=';', encoding='latin')\n",
    "edad_df.info()"
   ]
  },
  {
   "cell_type": "code",
   "execution_count": null,
   "metadata": {},
   "outputs": [],
   "source": [
    "produccion_df = pd.read_csv(DATA_PATH + 'produccion_lugar.csv', sep=';', encoding='latin')\n",
    "produccion_df.info()"
   ]
  },
  {
   "cell_type": "markdown",
   "metadata": {},
   "source": [
    "### Procesamiento"
   ]
  },
  {
   "cell_type": "code",
   "execution_count": null,
   "metadata": {},
   "outputs": [],
   "source": [
    "scaler = MinMaxScaler()\n",
    "renta_df['Renta normalizada'] = scaler.fit_transform(renta_df[['Total']])\n",
    "renta_df = renta_df.groupby('Provincias')['Renta normalizada'].mean().reset_index()"
   ]
  },
  {
   "cell_type": "code",
   "execution_count": null,
   "metadata": {},
   "outputs": [],
   "source": [
    "hogar_df['Número de hijos'] = hogar_df['Número de hijos'].replace({\n",
    "    '0 hijos conviviendo': 0,\n",
    "    '1 hijo conviviendo': 1,\n",
    "    '2 o más hijos conviviendo': 2,\n",
    "    '0 hijos conviviendo menores de 25 años': 0,\n",
    "    '1 hijo conviviendo menor de 25 años': 1,\n",
    "    '2 hijos o más conviviendo menores de 25 años': 2\n",
    "})\n",
    "hogar_df['Ponderación'] = hogar_df['Total'] * hogar_df['Número de hijos']\n",
    "n_hijos_medio_df = hogar_df.groupby('Provincias').apply(lambda x: x['Ponderación'].sum() / x['Total'].sum()).reset_index()\n",
    "n_hijos_medio_df.columns = ['Provincias', 'Número de hijos medio']"
   ]
  },
  {
   "cell_type": "code",
   "execution_count": null,
   "metadata": {},
   "outputs": [],
   "source": [
    "edad_df['Edad (grupos quinquenales)'] = edad_df['Edad (grupos quinquenales)'].replace({\n",
    "    'De 0 a 4 años': 2,\n",
    "    'De 5 a 9 años': 7,\n",
    "    'De 10 a 14 años  ': 12,\n",
    "    'De 15 a 19 años  ': 17,\n",
    "    'De 20 a 24 años': 22,\n",
    "    'De 25 a 29 años': 27,\n",
    "    'De 30 a 34 años': 32,\n",
    "    'De 35 a 39 años': 37,\n",
    "    'De 40 a 44 años': 42,\n",
    "    'De 45 a 49 años': 47,\n",
    "    'De 50 a 54 años': 52,\n",
    "    'De 55 a 59 años': 57,\n",
    "    'De 60 a 64 años': 62,\n",
    "    'De 65 a 69 años': 67,\n",
    "    'De 70 a 74 años  ': 72,\n",
    "    'De 75 a 79 años  ': 77,\n",
    "    'De 80 a 84 años  ': 82,\n",
    "    'De 85 a 89 años  ': 87,\n",
    "    'De 90 a 94 años  ': 92,\n",
    "    'De 95 a 99 años  ': 97,\n",
    "    '100 y más años': 100\n",
    "})\n",
    "mediana_edad_df = edad_df.groupby('Provincias').apply(lambda x: x.loc[x['Total'].cumsum() >= x['Total'].sum() / 2, 'Edad (grupos quinquenales)'].iloc[0]).reset_index()\n",
    "mediana_edad_df.columns = ['Provincias', 'Mediana edad']"
   ]
  },
  {
   "cell_type": "code",
   "execution_count": null,
   "metadata": {},
   "outputs": [],
   "source": [
    "produccion_df['Provincia'] = produccion_df['Provincia'].replace({\n",
    "    'Alicante': 'Alicante/Alacant',\n",
    "    'Álava': 'Araba/Álava',\n",
    "    'Guipúzcoa': 'Gipuzkoa',\n",
    "    'Lérida': 'Lleida',\n",
    "    'La Rioja': 'Rioja, La',\n",
    "    'Gerona': 'Girona',\n",
    "    'Vizcaya': 'Bizkaia',\n",
    "    'Castellón': 'Castellón/Castelló',\n",
    "    'Valencia': 'Valencia/València',\n",
    "    ' Madrid': 'Madrid',\n",
    "    'A Coruña': 'La Coruña',\n",
    "    'Región de Murcia': 'Murcia'\n",
    "})\n",
    "\n",
    "produccion_agrupada = produccion_df.groupby('Provincia')['Potencia kWh'].agg(['mean', 'median', lambda x: x.quantile(0.25), lambda x: x.quantile(0.75)]).reset_index()\n",
    "produccion_agrupada.columns = ['Provincia', 'Producción media', 'Producción mediana', 'Producción percentil 25', 'Producción percentil 75']\n",
    "\n",
    "todas_provincias = dispositivos_df['Provincias'].unique()\n",
    "faltantes = set(todas_provincias) - set(produccion_agrupada['Provincia'])\n",
    "faltantes_df = pd.DataFrame(faltantes, columns=['Provincia'])\n",
    "faltantes_df['Producción media'] = 0\n",
    "faltantes_df['Producción mediana'] = 0\n",
    "faltantes_df['Producción percentil 25'] = 0\n",
    "faltantes_df['Producción percentil 75'] = 0\n",
    "produccion_agrupada = pd.concat([produccion_agrupada, faltantes_df], ignore_index=True)"
   ]
  },
  {
   "cell_type": "code",
   "execution_count": null,
   "metadata": {},
   "outputs": [],
   "source": [
    "dispositivos_agrupados = dispositivos_df.groupby(['Provincias', 'Dispone de dispositivo de energía renovable'])['Total'].sum().unstack().fillna(0)\n",
    "dispositivos_agrupados['Porcentaje con dispositivo'] = dispositivos_agrupados['Si'] / (dispositivos_agrupados['Si'] + dispositivos_agrupados['No']) * 100"
   ]
  },
  {
   "cell_type": "code",
   "execution_count": null,
   "metadata": {},
   "outputs": [],
   "source": [
    "combined_df = pd.DataFrame({\n",
    "    'Provincias': dispositivos_agrupados.index,\n",
    "    'Porcentaje con dispositivo': dispositivos_agrupados['Porcentaje con dispositivo'],\n",
    "    'Renta normalizada': renta_df.set_index('Provincias')['Renta normalizada'],\n",
    "    'Número de hijos medio': n_hijos_medio_df.set_index('Provincias')['Número de hijos medio'],\n",
    "    'Mediana edad': mediana_edad_df.set_index('Provincias')['Mediana edad'],\n",
    "    'Producción media': produccion_agrupada.set_index('Provincia')['Producción media']\n",
    "})\n",
    "\n",
    "dendrogram = sch.dendrogram(sch.linkage(combined_df.drop('Provincias', axis=1), method='complete'), labels=combined_df['Provincias'].values)\n",
    "plt.show()"
   ]
  }
 ],
 "metadata": {
  "kernelspec": {
   "display_name": "Python 3",
   "language": "python",
   "name": "python3"
  },
  "language_info": {
   "codemirror_mode": {
    "name": "ipython",
    "version": 3
   },
   "file_extension": ".py",
   "mimetype": "text/x-python",
   "name": "python",
   "nbconvert_exporter": "python",
   "pygments_lexer": "ipython3",
   "version": "3.11.6"
  }
 },
 "nbformat": 4,
 "nbformat_minor": 2
}

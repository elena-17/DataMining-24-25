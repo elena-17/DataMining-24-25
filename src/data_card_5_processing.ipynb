{
 "cells": [
  {
   "cell_type": "markdown",
   "metadata": {},
   "source": [
    "# Tarjeta de datos 5"
   ]
  },
  {
   "cell_type": "markdown",
   "metadata": {},
   "source": [
    "Hipótesis 5: *¿Qué cantidad de placas solares fotovoltaicas se necesitarían instalar para abastecer el consumo eléctrico de los hogares de Castilla-La Mancha en el año 2028?*\n",
    "\n",
    "Esta hipótesis es interesante para conocer cuál es el verdadero potencial y la rentabilidad de uno de los dispositivos de aprovechamiento de energía renovables más comunes y utilizados actualmente, las placas solares fotovoltaicas. "
   ]
  },
  {
   "cell_type": "markdown",
   "metadata": {},
   "source": [
    "El objetivo es obtener una tarjeta de datos con la siguente estructura:\n",
    "\n",
    "| Provincia   | Producción eléctrica anual (MWh) | Consumo (MWh) Año X | Consumo (MWh) Año X+1 | ... |\n",
    "|-------------|----------------------------------|---------------------|-----------------------|-----|\n",
    "| Albacete    |                                  |                     |                       |     |\n",
    "| Ciudad Real |                                  |                     |                       |     |\n",
    "| Cuenca      |                                  |                     |                       |     |\n",
    "| Guadalajara |                                  |                     |                       |     |\n",
    "| Toledo      |                                  |                     |                       |     |\n",
    "\n",
    "\n",
    "Así, con esta tarjeta, sabiendo el histórico de consumo eléctrico de los hogares de Castilla-La Mancha, se podrá calcular el consumo para un año concreto. Además, con la producción anual eléctrica de energía que ya tiene en cuenta la meteorología de cada zona y la geografía, se podrá calcular cuántas placas solares fotovoltaicas se necesitarían instalar para abastecer el consumo eléctrico de los hogares.\n"
   ]
  },
  {
   "cell_type": "markdown",
   "metadata": {},
   "source": [
    "--------------------------------------------"
   ]
  },
  {
   "cell_type": "markdown",
   "metadata": {},
   "source": [
    "## Preparación del entorno"
   ]
  },
  {
   "cell_type": "code",
   "execution_count": null,
   "metadata": {},
   "outputs": [],
   "source": [
    "import pandas as pd\n",
    "import os \n",
    "\n",
    "SILVER_DATA_PATH = os.path.join(\"..\", \"data/silver/\")\n",
    "GOLD_DATA_PATH = os.path.join(\"..\", \"data/gold/\")"
   ]
  },
  {
   "cell_type": "code",
   "execution_count": null,
   "metadata": {},
   "outputs": [],
   "source": [
    "PROVINCIAS = ['Albacete', 'Ciudad Real', 'Cuenca', 'Guadalajara', 'Toledo']"
   ]
  },
  {
   "cell_type": "markdown",
   "metadata": {},
   "source": [
    "## Datos\n",
    "\n",
    "Primero, cargamos los datasets que vamos a necesitar para realizar el análisis:\n",
    "* El dataset `consumo_electrico_clm.csv` que contiene el histórico del consumo eléctrico de Castilla-La Mancha desde el 2000 al 2023.\n",
    "* El dataset de `produccion_lugar.csv` que contiene la producción teórica de un metro cuadrado de placa solar fotovoltaica con un rendimiento del 100%."
   ]
  },
  {
   "cell_type": "code",
   "execution_count": null,
   "metadata": {},
   "outputs": [],
   "source": [
    "consumo_df = pd.read_csv(os.path.join(SILVER_DATA_PATH, \"consumo_electrico_clm.csv\"), sep=\";\", encoding=\"latin1\")\n",
    "consumo_df.info()"
   ]
  },
  {
   "cell_type": "code",
   "execution_count": null,
   "metadata": {},
   "outputs": [],
   "source": [
    "produccion_df = pd.read_csv(os.path.join(SILVER_DATA_PATH, \"produccion_lugar.csv\"), sep=\";\", encoding=\"latin1\")\n",
    "produccion_df.info()"
   ]
  },
  {
   "cell_type": "markdown",
   "metadata": {},
   "source": [
    "## Procesamiento"
   ]
  },
  {
   "cell_type": "markdown",
   "metadata": {},
   "source": [
    "### consumo_df\n",
    "\n",
    "Con los datos de `consumo_df` queremos predecir el consumo eléctrico de Castilla-La Mancha en el año 2028. Para ello, vamos a realizar una regresión con los datos de consumo eléctrico de los años 2000 al 2023.\n",
    "\n",
    "Los datos de `consumo_df` son los siguientes:\n",
    "\n",
    "| Columna | Descripción | Unidades | Tipo de dato |\n",
    "| --- | --- | --- | ---- |\n",
    "| Año | Año de la observación |  | int64 |\n",
    "| Mes | Nombre del mes de la observación |  | object |\n",
    "| Albacete | Consumo eléctrico de la provincia de Albacete | MWh | float64 |\n",
    "| Ciudad Real | Consumo eléctrico de la provincia de Ciudad Real | MWh | float64 |\n",
    "| Cuenca | Consumo eléctrico de la provincia de Cuenca | MWh | float64 |\n",
    "| Guadalajara | Consumo eléctrico de la provincia de Guadalajara | MWh | float64 |\n",
    "| Toledo | Consumo eléctrico de la provincia de Toledo | MWh | float64 |"
   ]
  },
  {
   "cell_type": "code",
   "execution_count": null,
   "metadata": {},
   "outputs": [],
   "source": [
    "consumo_df.drop(columns=[\"Unnamed: 0\"], inplace=True)\n",
    "consumo_df.head()"
   ]
  },
  {
   "cell_type": "markdown",
   "metadata": {},
   "source": [
    "Se transforma la fecha a un formato datetime para establecerla como índice y poder representarla en un gráfico."
   ]
  },
  {
   "cell_type": "code",
   "execution_count": null,
   "metadata": {},
   "outputs": [],
   "source": [
    "encode_mes = {}\n",
    "for i, mes in enumerate(consumo_df[\"Mes\"].unique()):\n",
    "    encode_mes[mes] = i + 1\n",
    "\n",
    "# Reemplazar los nombres de los meses por números\n",
    "consumo_df[\"Mes\"] = consumo_df[\"Mes\"].replace(encode_mes)"
   ]
  },
  {
   "cell_type": "code",
   "execution_count": null,
   "metadata": {},
   "outputs": [],
   "source": [
    "# Combinar Año y Mes en una columna Fecha\n",
    "consumo_df.rename(columns={'Año': 'year', 'Mes': 'month'}, inplace=True)\n",
    "consumo_df[\"Fecha\"] = pd.to_datetime(consumo_df[['month', 'year']].assign(day=1), yearfirst=False)\n",
    "\n",
    "consumo_df.drop(columns=[\"year\", \"month\"], inplace=True)\n",
    "# Establecer la fecha como índice\n",
    "consumo_df.set_index(\"Fecha\", inplace=True)"
   ]
  },
  {
   "cell_type": "markdown",
   "metadata": {},
   "source": [
    "Se realizará un análisis exploratorio de los datos mediante un gráfico de líneas.\n",
    "* Albacete con el color azul\n",
    "* Ciudad Real con el color naranja\n",
    "* Cuenca con el color verde\n",
    "* Guadalajara con el color rojo\n",
    "* Toledo con el color morado\n"
   ]
  },
  {
   "cell_type": "code",
   "execution_count": null,
   "metadata": {},
   "outputs": [],
   "source": [
    "from tkinter import font\n",
    "import matplotlib.pyplot as plt\n",
    "\n",
    "# Vector de colores para las provincias\n",
    "colors = plt.cm.tab10(range(len(PROVINCIAS)))\n",
    "\n",
    "# Crear un gráfico de lineas para mostrar fecha vs consumo para cada provincia\n",
    "for provincia, color in zip(PROVINCIAS, colors):\n",
    "    plt.figure(figsize=(20, 8))\n",
    "    plt.plot(consumo_df.index, consumo_df[provincia], color=color)\n",
    "    plt.title(f\"Evolución del Consumo en {provincia}\", fontsize=20)\n",
    "    plt.xlabel(\"Fecha\")\n",
    "    plt.ylabel(\"Consumo (MWh)\")\n",
    "    plt.grid(alpha = 0.8)\n",
    "    plt.tight_layout()\n",
    "    plt.show()\n"
   ]
  },
  {
   "cell_type": "code",
   "execution_count": null,
   "metadata": {},
   "outputs": [],
   "source": [
    "consumo_df.describe()"
   ]
  },
  {
   "cell_type": "markdown",
   "metadata": {},
   "source": [
    "A continuación se muestra la gráfica de consumo para un año en una provincia, en este caso Albacete en el año 2000."
   ]
  },
  {
   "cell_type": "code",
   "execution_count": null,
   "metadata": {},
   "outputs": [],
   "source": [
    "albacete_2000 = consumo_df[:12][\"Albacete\"]\n",
    "plt.figure(figsize=(14, 8))\n",
    "plt.bar(albacete_2000.index, albacete_2000, width=20)\n",
    "plt.title(\"Consumo de Albacete en el año 2000\")\n",
    "plt.xlabel(\"Mes\")\n",
    "plt.ylabel(\"Consumo (MWh)\")\n",
    "plt.grid(axis='y', linestyle='--', alpha=0.7)\n",
    "plt.tight_layout()\n",
    "plt.show()"
   ]
  },
  {
   "cell_type": "markdown",
   "metadata": {},
   "source": [
    "Con este análisis exploratorio inicial, se observa que los datos presentan una gran variación y además hay valores atípicos, como en Ciudad Real y Guadalajara poco antes del año 2020. \n",
    "\n",
    "La gran variación de los datos se debe a su granularidad a nivel mensual. En los meses más fríos el consumo es mayor que en los meses más cálidos y ello, sumado a la variación entre años, hace difícil establecer una tendencia clara. Por ello, vamos a agrupar los datos por año para obtener una mejor predicción."
   ]
  },
  {
   "cell_type": "code",
   "execution_count": null,
   "metadata": {},
   "outputs": [],
   "source": [
    "consumo_anual = consumo_df.index.year\n",
    "consumo_anual = consumo_df.groupby(consumo_anual).sum()\n",
    "consumo_anual.head(2)"
   ]
  },
  {
   "cell_type": "markdown",
   "metadata": {},
   "source": [
    "A continuación, se muestra de nuevo la gráfica del consumo por años."
   ]
  },
  {
   "cell_type": "code",
   "execution_count": null,
   "metadata": {},
   "outputs": [],
   "source": [
    "import matplotlib.pyplot as plt\n",
    "\n",
    "# Colores \n",
    "colors = plt.cm.tab10(range(len(PROVINCIAS)))\n",
    "\n",
    "# Crear un gráfico con todas las provincias juntas\n",
    "plt.figure(figsize=(16, 10))\n",
    "for provincia, color in zip(PROVINCIAS, colors):\n",
    "    plt.plot(consumo_anual.index, consumo_anual[provincia], color=color, label=provincia)\n",
    "    plt.xticks(consumo_anual.index)\n",
    "    \n",
    "plt.title(f\"Evolución del Consumo en Castilla - La Mancha\")\n",
    "plt.xlabel(\"Año\")\n",
    "plt.ylabel(\"Consumo\")\n",
    "plt.legend()\n",
    "plt.grid()\n",
    "plt.tight_layout()\n",
    "plt.show()\n"
   ]
  },
  {
   "cell_type": "markdown",
   "metadata": {},
   "source": [
    "Los datos muestran una tendencia creciente desde el año 2000 hasta el año 2009 aproximaadamente, a partir de entonces disminuye hasta el año 2014, en el que la mayoría de las provincias se mantienen o aumentan. Por esta razón, y para mejorar la precisión de la predicción, se seleccionarán solo los datos del 2014 a 2023."
   ]
  },
  {
   "cell_type": "code",
   "execution_count": null,
   "metadata": {},
   "outputs": [],
   "source": [
    "consumo_anual = consumo_anual[consumo_anual.index > 2013]"
   ]
  },
  {
   "cell_type": "markdown",
   "metadata": {},
   "source": [
    "Se rota la tabla para que las provincias sean los índices y los años las columnas."
   ]
  },
  {
   "cell_type": "code",
   "execution_count": null,
   "metadata": {},
   "outputs": [],
   "source": [
    "consumo_anual = consumo_anual.transpose()\n",
    "consumo_anual.head()"
   ]
  },
  {
   "cell_type": "markdown",
   "metadata": {},
   "source": [
    "### produccion_df\n",
    "\n",
    "Con los datos de `produccion_df` queremos calcular la producción de energía eléctrica para un panel solar de un metro cuadrado en un año. Para ello, vamos a filtrar los datos de las provincias de Castilla-La Mancha y agrupar los datos por año.\n",
    "\n",
    "| Columna   | Descripción                                                            | Unidades | Tipo de dato |\n",
    "| --------- | ---------------------------------------------------------------------- | -------- | ------------ |\n",
    "| Provincia | Nombre de la provincia                                                 |          | object       |\n",
    "| Potencia  | Producción de energía eléctrica de un panel solar de un metro cuadrado | MWh      | float64      |\n",
    "| Mes       | Nombre del mes de la observación                                       |          | object       |\n"
   ]
  },
  {
   "cell_type": "code",
   "execution_count": null,
   "metadata": {},
   "outputs": [],
   "source": [
    "# Filtrado por provincias de Castilla - La Mancha\n",
    "produccion_clm = produccion_df[produccion_df[\"Provincia\"].isin(PROVINCIAS)]\n",
    "produccion_clm.head(3)"
   ]
  },
  {
   "cell_type": "code",
   "execution_count": null,
   "metadata": {},
   "outputs": [],
   "source": [
    "print(\"Provincias: \", produccion_clm[\"Provincia\"].unique())"
   ]
  },
  {
   "cell_type": "markdown",
   "metadata": {},
   "source": [
    "Calculamos el total de la producción de un año para cada provincia, sumando la producción de cada mes."
   ]
  },
  {
   "cell_type": "code",
   "execution_count": null,
   "metadata": {},
   "outputs": [],
   "source": [
    "produccion_anual = produccion_clm.groupby(\"Provincia\").sum()\n",
    "produccion_anual.drop(columns=[\"Mes\"], inplace=True)\n",
    "produccion_anual"
   ]
  },
  {
   "cell_type": "markdown",
   "metadata": {},
   "source": [
    "Este dato sería la producción ideal de energía, es decir, si la placa solar tuviera un rendimiento del 100%. Para obtener la producción real, tendríamos que multiplicar la producción ideal por el rendimiento de la placa solar que es del 80%, o lo que es lo mismo, tiene una eficiencia del 20%."
   ]
  },
  {
   "cell_type": "code",
   "execution_count": null,
   "metadata": {},
   "outputs": [],
   "source": [
    "produccion_anual = produccion_anual.apply(lambda x: x * 0.8, axis=1)\n",
    "produccion_anual"
   ]
  },
  {
   "cell_type": "code",
   "execution_count": null,
   "metadata": {},
   "outputs": [],
   "source": [
    "produccion_anual = produccion_anual.apply(lambda x: x / 1000, axis=1)\n",
    "produccion_anual.rename({\"Potencia kWh\": \"Potencia MWh\"}, axis=1, inplace=True)\n",
    "produccion_anual"
   ]
  },
  {
   "cell_type": "markdown",
   "metadata": {},
   "source": [
    "### Resultado"
   ]
  },
  {
   "cell_type": "markdown",
   "metadata": {},
   "source": [
    "Unimos los datos en un solo dataframe para obtener la tarjeta."
   ]
  },
  {
   "cell_type": "code",
   "execution_count": null,
   "metadata": {},
   "outputs": [],
   "source": [
    "tarjeta_5 = pd.concat([produccion_anual, consumo_anual], axis=1)\n",
    "tarjeta_5.head()"
   ]
  },
  {
   "cell_type": "markdown",
   "metadata": {},
   "source": [
    "Guardamos los datos en el archivo `gold/tarjeta_5.csv`."
   ]
  },
  {
   "cell_type": "code",
   "execution_count": null,
   "metadata": {},
   "outputs": [],
   "source": [
    "with open(GOLD_DATA_PATH + \"tarjeta_5.csv\", \"w\") as f:\n",
    "    tarjeta_5.to_csv(f, sep=';', encoding='utf-8')"
   ]
  },
  {
   "cell_type": "markdown",
   "metadata": {},
   "source": [
    "### Profiling de la tarjeta resultante"
   ]
  },
  {
   "cell_type": "code",
   "execution_count": null,
   "metadata": {},
   "outputs": [],
   "source": [
    "from  ydata_profiling import ProfileReport"
   ]
  },
  {
   "cell_type": "code",
   "execution_count": null,
   "metadata": {},
   "outputs": [],
   "source": [
    "profile = ProfileReport(tarjeta_5, title=\"Tarjeta 5\")\n",
    "profile.to_file(\"tarjeta_5.html\")"
   ]
  }
 ],
 "metadata": {
  "language_info": {
   "name": "python"
  }
 },
 "nbformat": 4,
 "nbformat_minor": 2
}

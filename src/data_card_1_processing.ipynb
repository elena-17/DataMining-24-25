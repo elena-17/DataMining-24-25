{
 "cells": [
  {
   "cell_type": "markdown",
   "metadata": {},
   "source": [
    "# Tarjeta de datos 1"
   ]
  },
  {
   "cell_type": "markdown",
   "metadata": {},
   "source": [
    "### Hipótesis 1: \"Las provincias con una edad media menor y una renta media por hogar mayor a la nacional, suelen estar más concienciadas con el uso de energías renovables y utilizan más dispositivos que aprovechan este tipo de energía.\""
   ]
  },
  {
   "cell_type": "markdown",
   "metadata": {},
   "source": [
    "La justificación de esta hipótesis es que las personas jóvenes suelen estar más concienciadas con el medio ambiente, además de que tienen más tiempo para amortizar la inversión de este tipo de tecnología a lo largo de su vida.\n",
    "<br>\n",
    "<br>"
   ]
  },
  {
   "cell_type": "markdown",
   "metadata": {},
   "source": [
    "### Preparación del entorno"
   ]
  },
  {
   "cell_type": "code",
   "execution_count": 1,
   "metadata": {},
   "outputs": [],
   "source": [
    "import pandas as pd\n",
    "import os \n",
    "\n",
    "SILVER_DATA_PATH = os.path.join(\"..\", \"data/silver/\")"
   ]
  },
  {
   "cell_type": "markdown",
   "metadata": {},
   "source": [
    "### Datos"
   ]
  },
  {
   "cell_type": "markdown",
   "metadata": {},
   "source": [
    "Primero, cargamos los datasets que utilizaremos en esta tarjeta, los cuales han sido generados a partir del procesamiento inicial de los datos y corresponden a la capa silver."
   ]
  },
  {
   "cell_type": "code",
   "execution_count": 2,
   "metadata": {},
   "outputs": [
    {
     "name": "stdout",
     "output_type": "stream",
     "text": [
      "<class 'pandas.core.frame.DataFrame'>\n",
      "RangeIndex: 987 entries, 0 to 986\n",
      "Data columns (total 3 columns):\n",
      " #   Column                      Non-Null Count  Dtype  \n",
      "---  ------                      --------------  -----  \n",
      " 0   Provincias                  987 non-null    object \n",
      " 1   Edad (grupos quinquenales)  987 non-null    object \n",
      " 2   Total                       987 non-null    float64\n",
      "dtypes: float64(1), object(2)\n",
      "memory usage: 23.3+ KB\n"
     ]
    }
   ],
   "source": [
    "# Distribución de edad\n",
    "distribucion_edad_df=pd.read_csv(SILVER_DATA_PATH+\"distribucion_edad.csv\", sep = \";\", encoding = \"latin\")\n",
    "distribucion_edad_df.info()"
   ]
  },
  {
   "cell_type": "code",
   "execution_count": 3,
   "metadata": {},
   "outputs": [
    {
     "name": "stdout",
     "output_type": "stream",
     "text": [
      "<class 'pandas.core.frame.DataFrame'>\n",
      "RangeIndex: 141 entries, 0 to 140\n",
      "Data columns (total 3 columns):\n",
      " #   Column      Non-Null Count  Dtype  \n",
      "---  ------      --------------  -----  \n",
      " 0   Provincias  141 non-null    object \n",
      " 1   Periodo     141 non-null    int64  \n",
      " 2   Total       141 non-null    float64\n",
      "dtypes: float64(1), int64(1), object(1)\n",
      "memory usage: 3.4+ KB\n"
     ]
    }
   ],
   "source": [
    "# Renta media\n",
    "renta_media_hogar_df = pd.read_csv(SILVER_DATA_PATH+\"renta_media_hogar.csv\", sep = \";\", encoding = \"latin\")\n",
    "renta_media_hogar_df.info()"
   ]
  },
  {
   "cell_type": "code",
   "execution_count": 4,
   "metadata": {},
   "outputs": [
    {
     "name": "stdout",
     "output_type": "stream",
     "text": [
      "<class 'pandas.core.frame.DataFrame'>\n",
      "RangeIndex: 470 entries, 0 to 469\n",
      "Data columns (total 4 columns):\n",
      " #   Column                                       Non-Null Count  Dtype \n",
      "---  ------                                       --------------  ----- \n",
      " 0   Provincias                                   470 non-null    object\n",
      " 1   Ingresos netos                               470 non-null    object\n",
      " 2   Dispone de dispositivo de energía renovable  470 non-null    object\n",
      " 3   Total                                        470 non-null    int64 \n",
      "dtypes: int64(1), object(3)\n",
      "memory usage: 14.8+ KB\n"
     ]
    }
   ],
   "source": [
    "# Dispositivos de energía renovable\n",
    "dispositivos_renovable_df=pd.read_csv(SILVER_DATA_PATH+\"dispositivos_renovable.csv\", sep = \";\", encoding = \"latin\")\n",
    "dispositivos_renovable_df.info()"
   ]
  },
  {
   "cell_type": "markdown",
   "metadata": {},
   "source": [
    "### Procesamiento"
   ]
  },
  {
   "cell_type": "markdown",
   "metadata": {},
   "source": [
    "#### distribucion_edad_df"
   ]
  },
  {
   "cell_type": "markdown",
   "metadata": {},
   "source": [
    "Del dataset distribucion_edad_df.csv queremos obtener la información sobre los intervalos de edad de cada año por provincia, además de:\n",
    "\n",
    "- El total nacional del número de habitantes.\n",
    "- La edad media a nivel nacional.\n",
    "- El número de habitantes por provincia."
   ]
  },
  {
   "cell_type": "code",
   "execution_count": 5,
   "metadata": {},
   "outputs": [
    {
     "data": {
      "text/html": [
       "<div>\n",
       "<style scoped>\n",
       "    .dataframe tbody tr th:only-of-type {\n",
       "        vertical-align: middle;\n",
       "    }\n",
       "\n",
       "    .dataframe tbody tr th {\n",
       "        vertical-align: top;\n",
       "    }\n",
       "\n",
       "    .dataframe thead th {\n",
       "        text-align: right;\n",
       "    }\n",
       "</style>\n",
       "<table border=\"1\" class=\"dataframe\">\n",
       "  <thead>\n",
       "    <tr style=\"text-align: right;\">\n",
       "      <th></th>\n",
       "      <th>Provincias</th>\n",
       "      <th>Edad (grupos quinquenales)</th>\n",
       "      <th>Total</th>\n",
       "    </tr>\n",
       "  </thead>\n",
       "  <tbody>\n",
       "    <tr>\n",
       "      <th>0</th>\n",
       "      <td>Almería</td>\n",
       "      <td>De 0 a 4 años</td>\n",
       "      <td>36.360</td>\n",
       "    </tr>\n",
       "    <tr>\n",
       "      <th>1</th>\n",
       "      <td>Almería</td>\n",
       "      <td>De 5 a 9 años</td>\n",
       "      <td>41.033</td>\n",
       "    </tr>\n",
       "    <tr>\n",
       "      <th>2</th>\n",
       "      <td>Almería</td>\n",
       "      <td>De 10 a 14 años</td>\n",
       "      <td>43.411</td>\n",
       "    </tr>\n",
       "    <tr>\n",
       "      <th>3</th>\n",
       "      <td>Almería</td>\n",
       "      <td>De 15 a 19 años</td>\n",
       "      <td>40.722</td>\n",
       "    </tr>\n",
       "    <tr>\n",
       "      <th>4</th>\n",
       "      <td>Almería</td>\n",
       "      <td>De 20 a 24 años</td>\n",
       "      <td>41.532</td>\n",
       "    </tr>\n",
       "  </tbody>\n",
       "</table>\n",
       "</div>"
      ],
      "text/plain": [
       "  Provincias Edad (grupos quinquenales)   Total\n",
       "0    Almería              De 0 a 4 años  36.360\n",
       "1    Almería              De 5 a 9 años  41.033\n",
       "2    Almería          De 10 a 14 años    43.411\n",
       "3    Almería          De 15 a 19 años    40.722\n",
       "4    Almería            De 20 a 24 años  41.532"
      ]
     },
     "execution_count": 5,
     "metadata": {},
     "output_type": "execute_result"
    }
   ],
   "source": [
    "# Ejemplo de los datos que presenta la tabla\n",
    "distribucion_edad_df.head(5)"
   ]
  },
  {
   "cell_type": "markdown",
   "metadata": {},
   "source": [
    "La columna \"Total\" es de tipo float. Este número en verdad representa un valor entero. La fila 1 del dataset en la columna \"Total\" tiene el valor \"36.360\" y el programa lo identifica como un float, pero su significado sería un entero \"36360\"."
   ]
  },
  {
   "cell_type": "code",
   "execution_count": 6,
   "metadata": {},
   "outputs": [
    {
     "data": {
      "text/plain": [
       "Provincias                     object\n",
       "Edad (grupos quinquenales)     object\n",
       "Total                         float64\n",
       "dtype: object"
      ]
     },
     "execution_count": 6,
     "metadata": {},
     "output_type": "execute_result"
    }
   ],
   "source": [
    "distribucion_edad_df.dtypes"
   ]
  },
  {
   "cell_type": "code",
   "execution_count": 7,
   "metadata": {},
   "outputs": [
    {
     "data": {
      "text/html": [
       "<div>\n",
       "<style scoped>\n",
       "    .dataframe tbody tr th:only-of-type {\n",
       "        vertical-align: middle;\n",
       "    }\n",
       "\n",
       "    .dataframe tbody tr th {\n",
       "        vertical-align: top;\n",
       "    }\n",
       "\n",
       "    .dataframe thead th {\n",
       "        text-align: right;\n",
       "    }\n",
       "</style>\n",
       "<table border=\"1\" class=\"dataframe\">\n",
       "  <thead>\n",
       "    <tr style=\"text-align: right;\">\n",
       "      <th></th>\n",
       "      <th>Provincias</th>\n",
       "      <th>Edad (grupos quinquenales)</th>\n",
       "      <th>Total</th>\n",
       "    </tr>\n",
       "  </thead>\n",
       "  <tbody>\n",
       "    <tr>\n",
       "      <th>0</th>\n",
       "      <td>Almería</td>\n",
       "      <td>De 0 a 4 años</td>\n",
       "      <td>36360</td>\n",
       "    </tr>\n",
       "    <tr>\n",
       "      <th>1</th>\n",
       "      <td>Almería</td>\n",
       "      <td>De 5 a 9 años</td>\n",
       "      <td>41033</td>\n",
       "    </tr>\n",
       "    <tr>\n",
       "      <th>2</th>\n",
       "      <td>Almería</td>\n",
       "      <td>De 10 a 14 años</td>\n",
       "      <td>43411</td>\n",
       "    </tr>\n",
       "    <tr>\n",
       "      <th>3</th>\n",
       "      <td>Almería</td>\n",
       "      <td>De 15 a 19 años</td>\n",
       "      <td>40722</td>\n",
       "    </tr>\n",
       "    <tr>\n",
       "      <th>4</th>\n",
       "      <td>Almería</td>\n",
       "      <td>De 20 a 24 años</td>\n",
       "      <td>41532</td>\n",
       "    </tr>\n",
       "  </tbody>\n",
       "</table>\n",
       "</div>"
      ],
      "text/plain": [
       "  Provincias Edad (grupos quinquenales)  Total\n",
       "0    Almería              De 0 a 4 años  36360\n",
       "1    Almería              De 5 a 9 años  41033\n",
       "2    Almería          De 10 a 14 años    43411\n",
       "3    Almería          De 15 a 19 años    40722\n",
       "4    Almería            De 20 a 24 años  41532"
      ]
     },
     "execution_count": 7,
     "metadata": {},
     "output_type": "execute_result"
    }
   ],
   "source": [
    "# Recorremos la columna 'Total' por filas\n",
    "for index, row in distribucion_edad_df.iterrows():\n",
    "    if row['Total'] % 1 != 0:\n",
    "        distribucion_edad_df.at[index, 'Total'] = row['Total'] * 1000  # Multiplicamos el valor por 1000\n",
    "\n",
    "# Pasamos la fila de \"Total\" a tipo entero\n",
    "distribucion_edad_df['Total'] = distribucion_edad_df['Total'].astype(int) \n",
    "\n",
    "distribucion_edad_df.head(5) "
   ]
  },
  {
   "cell_type": "markdown",
   "metadata": {},
   "source": [
    "Total nacional del número de habitantes."
   ]
  },
  {
   "cell_type": "code",
   "execution_count": 8,
   "metadata": {},
   "outputs": [
    {
     "name": "stdout",
     "output_type": "stream",
     "text": [
      "Hay un total de 43869845 habitantes en España.\n"
     ]
    }
   ],
   "source": [
    "# Calcular la suma de la columna 'Total'\n",
    "poblacion_total_nacional = distribucion_edad_df['Total'].sum()\n",
    "print(f\"Hay un total de {poblacion_total_nacional} habitantes en España.\")"
   ]
  },
  {
   "cell_type": "markdown",
   "metadata": {},
   "source": [
    "Edad media a nivel nacional"
   ]
  },
  {
   "cell_type": "code",
   "execution_count": 9,
   "metadata": {},
   "outputs": [
    {
     "name": "stdout",
     "output_type": "stream",
     "text": [
      "La edad media en España es de 43.685917878214525 años.\n"
     ]
    }
   ],
   "source": [
    "# Función para obtener la edad media de cada grupo quinquenal\n",
    "def obtener_edad_media(grupo):\n",
    "    # Comprobar si el grupo es \"100 y más años\"\n",
    "    if \"100 y más años\" in grupo:\n",
    "        return 100  # Asignamos 100 años como la edad media para este grupo\n",
    "    else:\n",
    "        # Extraer los valores del rango (e.g., \"De 0 a 4 años\" -> 0, 4)\n",
    "        partes = grupo.split(' a ')\n",
    "        edad_inferior = int(partes[0].split(' ')[1])\n",
    "        edad_superior = int(partes[1].split(' ')[0])\n",
    "        # Calcular la edad media del grupo\n",
    "        return (edad_inferior + edad_superior) / 2\n",
    "    \n",
    "edad_media_nivel_nacional = 0\n",
    "\n",
    "# Se calcula la edad media nacional\n",
    "for index, row in distribucion_edad_df.iterrows():\n",
    "    rango_edad = row['Edad (grupos quinquenales)']\n",
    "    media_rango = obtener_edad_media(rango_edad)\n",
    "    edad_media_nivel_nacional = edad_media_nivel_nacional + (row['Total'] * media_rango)\n",
    "\n",
    "edad_media_nivel_nacional = edad_media_nivel_nacional/poblacion_total_nacional\n",
    "print(f\"La edad media en España es de {edad_media_nivel_nacional} años.\")"
   ]
  },
  {
   "cell_type": "markdown",
   "metadata": {},
   "source": [
    "Número de habitantes por provincia"
   ]
  },
  {
   "cell_type": "code",
   "execution_count": 10,
   "metadata": {},
   "outputs": [
    {
     "data": {
      "text/html": [
       "<div>\n",
       "<style scoped>\n",
       "    .dataframe tbody tr th:only-of-type {\n",
       "        vertical-align: middle;\n",
       "    }\n",
       "\n",
       "    .dataframe tbody tr th {\n",
       "        vertical-align: top;\n",
       "    }\n",
       "\n",
       "    .dataframe thead th {\n",
       "        text-align: right;\n",
       "    }\n",
       "</style>\n",
       "<table border=\"1\" class=\"dataframe\">\n",
       "  <thead>\n",
       "    <tr style=\"text-align: right;\">\n",
       "      <th></th>\n",
       "      <th>Provincias</th>\n",
       "      <th>Total</th>\n",
       "    </tr>\n",
       "  </thead>\n",
       "  <tbody>\n",
       "    <tr>\n",
       "      <th>0</th>\n",
       "      <td>Albacete</td>\n",
       "      <td>385727</td>\n",
       "    </tr>\n",
       "    <tr>\n",
       "      <th>1</th>\n",
       "      <td>Alicante/Alacant</td>\n",
       "      <td>1901594</td>\n",
       "    </tr>\n",
       "    <tr>\n",
       "      <th>2</th>\n",
       "      <td>Almería</td>\n",
       "      <td>739535</td>\n",
       "    </tr>\n",
       "    <tr>\n",
       "      <th>3</th>\n",
       "      <td>Araba/Álava</td>\n",
       "      <td>334412</td>\n",
       "    </tr>\n",
       "    <tr>\n",
       "      <th>4</th>\n",
       "      <td>Asturias</td>\n",
       "      <td>1004686</td>\n",
       "    </tr>\n",
       "  </tbody>\n",
       "</table>\n",
       "</div>"
      ],
      "text/plain": [
       "         Provincias    Total\n",
       "0          Albacete   385727\n",
       "1  Alicante/Alacant  1901594\n",
       "2           Almería   739535\n",
       "3       Araba/Álava   334412\n",
       "4          Asturias  1004686"
      ]
     },
     "execution_count": 10,
     "metadata": {},
     "output_type": "execute_result"
    }
   ],
   "source": [
    "# Agrupar por 'Provincias' y calcular el sumatorio de la columna 'Total'\n",
    "poblacion_total_provincias = distribucion_edad_df.groupby('Provincias')['Total'].sum().reset_index()\n",
    "poblacion_total_provincias.head(5)\n"
   ]
  },
  {
   "cell_type": "markdown",
   "metadata": {},
   "source": [
    "<br>\n",
    "<br>"
   ]
  },
  {
   "cell_type": "markdown",
   "metadata": {},
   "source": [
    "#### renta_media_hogar_df "
   ]
  },
  {
   "cell_type": "markdown",
   "metadata": {},
   "source": [
    "El objetivo con el dataset renta_media_hogar_df es calcular la renta media nacional a partir de la media ponderada usando el número de habitantes."
   ]
  },
  {
   "cell_type": "code",
   "execution_count": 11,
   "metadata": {},
   "outputs": [
    {
     "data": {
      "text/html": [
       "<div>\n",
       "<style scoped>\n",
       "    .dataframe tbody tr th:only-of-type {\n",
       "        vertical-align: middle;\n",
       "    }\n",
       "\n",
       "    .dataframe tbody tr th {\n",
       "        vertical-align: top;\n",
       "    }\n",
       "\n",
       "    .dataframe thead th {\n",
       "        text-align: right;\n",
       "    }\n",
       "</style>\n",
       "<table border=\"1\" class=\"dataframe\">\n",
       "  <thead>\n",
       "    <tr style=\"text-align: right;\">\n",
       "      <th></th>\n",
       "      <th>Provincias</th>\n",
       "      <th>Periodo</th>\n",
       "      <th>Total</th>\n",
       "    </tr>\n",
       "  </thead>\n",
       "  <tbody>\n",
       "    <tr>\n",
       "      <th>0</th>\n",
       "      <td>Almería</td>\n",
       "      <td>2022</td>\n",
       "      <td>28.442</td>\n",
       "    </tr>\n",
       "    <tr>\n",
       "      <th>1</th>\n",
       "      <td>Almería</td>\n",
       "      <td>2021</td>\n",
       "      <td>27.184</td>\n",
       "    </tr>\n",
       "    <tr>\n",
       "      <th>2</th>\n",
       "      <td>Almería</td>\n",
       "      <td>2020</td>\n",
       "      <td>26.276</td>\n",
       "    </tr>\n",
       "    <tr>\n",
       "      <th>3</th>\n",
       "      <td>Cádiz</td>\n",
       "      <td>2022</td>\n",
       "      <td>30.055</td>\n",
       "    </tr>\n",
       "    <tr>\n",
       "      <th>4</th>\n",
       "      <td>Cádiz</td>\n",
       "      <td>2021</td>\n",
       "      <td>28.501</td>\n",
       "    </tr>\n",
       "  </tbody>\n",
       "</table>\n",
       "</div>"
      ],
      "text/plain": [
       "  Provincias  Periodo   Total\n",
       "0    Almería     2022  28.442\n",
       "1    Almería     2021  27.184\n",
       "2    Almería     2020  26.276\n",
       "3      Cádiz     2022  30.055\n",
       "4      Cádiz     2021  28.501"
      ]
     },
     "execution_count": 11,
     "metadata": {},
     "output_type": "execute_result"
    }
   ],
   "source": [
    "# Ejemplo de los datos que presenta la tabla\n",
    "renta_media_hogar_df.head(5)"
   ]
  },
  {
   "cell_type": "code",
   "execution_count": 12,
   "metadata": {},
   "outputs": [
    {
     "data": {
      "text/html": [
       "<div>\n",
       "<style scoped>\n",
       "    .dataframe tbody tr th:only-of-type {\n",
       "        vertical-align: middle;\n",
       "    }\n",
       "\n",
       "    .dataframe tbody tr th {\n",
       "        vertical-align: top;\n",
       "    }\n",
       "\n",
       "    .dataframe thead th {\n",
       "        text-align: right;\n",
       "    }\n",
       "</style>\n",
       "<table border=\"1\" class=\"dataframe\">\n",
       "  <thead>\n",
       "    <tr style=\"text-align: right;\">\n",
       "      <th></th>\n",
       "      <th>Provincias</th>\n",
       "      <th>Total</th>\n",
       "    </tr>\n",
       "  </thead>\n",
       "  <tbody>\n",
       "    <tr>\n",
       "      <th>0</th>\n",
       "      <td>Almería</td>\n",
       "      <td>28.442</td>\n",
       "    </tr>\n",
       "    <tr>\n",
       "      <th>1</th>\n",
       "      <td>Cádiz</td>\n",
       "      <td>30.055</td>\n",
       "    </tr>\n",
       "    <tr>\n",
       "      <th>2</th>\n",
       "      <td>Córdoba</td>\n",
       "      <td>29.082</td>\n",
       "    </tr>\n",
       "    <tr>\n",
       "      <th>3</th>\n",
       "      <td>Granada</td>\n",
       "      <td>29.113</td>\n",
       "    </tr>\n",
       "    <tr>\n",
       "      <th>4</th>\n",
       "      <td>Huelva</td>\n",
       "      <td>29.133</td>\n",
       "    </tr>\n",
       "  </tbody>\n",
       "</table>\n",
       "</div>"
      ],
      "text/plain": [
       "  Provincias   Total\n",
       "0    Almería  28.442\n",
       "1      Cádiz  30.055\n",
       "2    Córdoba  29.082\n",
       "3    Granada  29.113\n",
       "4     Huelva  29.133"
      ]
     },
     "execution_count": 12,
     "metadata": {},
     "output_type": "execute_result"
    }
   ],
   "source": [
    "# Nos quedamos con los datos del 2022\n",
    "renta_media_hogar_df = renta_media_hogar_df[renta_media_hogar_df['Periodo'] == 2022]\n",
    "renta_media_hogar_df = renta_media_hogar_df.reset_index(drop=True)\n",
    "\n",
    "# Eliminamos la columna 'Periodo'\n",
    "renta_media_hogar_df = renta_media_hogar_df.drop('Periodo', axis=1)\n",
    "\n",
    "renta_media_hogar_df.head(5)"
   ]
  },
  {
   "cell_type": "markdown",
   "metadata": {},
   "source": [
    "Vemos que pasa lo mismo que en el caso anterior. La columna \"Total\" representa un valor entero (aunque se detecte como float). La fila 1 del dataset en la columna \"Total\" tiene el valor \"28.442\" y el programa lo identifica como un float, pero su significado sería un entero \"28442\"."
   ]
  },
  {
   "cell_type": "code",
   "execution_count": 13,
   "metadata": {},
   "outputs": [
    {
     "data": {
      "text/html": [
       "<div>\n",
       "<style scoped>\n",
       "    .dataframe tbody tr th:only-of-type {\n",
       "        vertical-align: middle;\n",
       "    }\n",
       "\n",
       "    .dataframe tbody tr th {\n",
       "        vertical-align: top;\n",
       "    }\n",
       "\n",
       "    .dataframe thead th {\n",
       "        text-align: right;\n",
       "    }\n",
       "</style>\n",
       "<table border=\"1\" class=\"dataframe\">\n",
       "  <thead>\n",
       "    <tr style=\"text-align: right;\">\n",
       "      <th></th>\n",
       "      <th>Provincias</th>\n",
       "      <th>Total</th>\n",
       "    </tr>\n",
       "  </thead>\n",
       "  <tbody>\n",
       "    <tr>\n",
       "      <th>0</th>\n",
       "      <td>Almería</td>\n",
       "      <td>28442</td>\n",
       "    </tr>\n",
       "    <tr>\n",
       "      <th>1</th>\n",
       "      <td>Cádiz</td>\n",
       "      <td>30055</td>\n",
       "    </tr>\n",
       "    <tr>\n",
       "      <th>2</th>\n",
       "      <td>Córdoba</td>\n",
       "      <td>29082</td>\n",
       "    </tr>\n",
       "    <tr>\n",
       "      <th>3</th>\n",
       "      <td>Granada</td>\n",
       "      <td>29113</td>\n",
       "    </tr>\n",
       "    <tr>\n",
       "      <th>4</th>\n",
       "      <td>Huelva</td>\n",
       "      <td>29133</td>\n",
       "    </tr>\n",
       "  </tbody>\n",
       "</table>\n",
       "</div>"
      ],
      "text/plain": [
       "  Provincias  Total\n",
       "0    Almería  28442\n",
       "1      Cádiz  30055\n",
       "2    Córdoba  29082\n",
       "3    Granada  29113\n",
       "4     Huelva  29133"
      ]
     },
     "execution_count": 13,
     "metadata": {},
     "output_type": "execute_result"
    }
   ],
   "source": [
    "# Recorremos la columna 'Total' por filas\n",
    "for index, row in renta_media_hogar_df.iterrows():\n",
    "    if row['Total'] % 1 != 0:\n",
    "        renta_media_hogar_df.at[index, 'Total'] = row['Total'] * 1000  # Multiplicamos el valor por 1000\n",
    "\n",
    "# Pasamos la fila de \"Total\" a tipo entero\n",
    "renta_media_hogar_df['Total'] = renta_media_hogar_df['Total'].astype(int) \n",
    "\n",
    "renta_media_hogar_df.head(5) "
   ]
  },
  {
   "cell_type": "markdown",
   "metadata": {},
   "source": [
    "Calculamos la renta media nacional a partir de la media ponderada usando el número de habitantes calculado previamente"
   ]
  },
  {
   "cell_type": "code",
   "execution_count": 14,
   "metadata": {},
   "outputs": [
    {
     "name": "stdout",
     "output_type": "stream",
     "text": [
      "La renta media nacional ponderada es de 238.47304388697978\n"
     ]
    }
   ],
   "source": [
    "df_resultado = pd.DataFrame()\n",
    "df_resultado ['producto'] = renta_media_hogar_df['Total'] * poblacion_total_provincias['Total']\n",
    "\n",
    "renta_media_nacional = df_resultado['producto'].sum()/poblacion_total_nacional\n",
    "\n",
    "print(f\"La renta media nacional ponderada es de {renta_media_nacional}\")\n"
   ]
  },
  {
   "cell_type": "markdown",
   "metadata": {},
   "source": [
    "<br>\n",
    "<br>\n"
   ]
  },
  {
   "cell_type": "markdown",
   "metadata": {},
   "source": [
    "#### dispositivos_renovable_df"
   ]
  },
  {
   "cell_type": "code",
   "execution_count": 15,
   "metadata": {},
   "outputs": [
    {
     "data": {
      "text/html": [
       "<div>\n",
       "<style scoped>\n",
       "    .dataframe tbody tr th:only-of-type {\n",
       "        vertical-align: middle;\n",
       "    }\n",
       "\n",
       "    .dataframe tbody tr th {\n",
       "        vertical-align: top;\n",
       "    }\n",
       "\n",
       "    .dataframe thead th {\n",
       "        text-align: right;\n",
       "    }\n",
       "</style>\n",
       "<table border=\"1\" class=\"dataframe\">\n",
       "  <thead>\n",
       "    <tr style=\"text-align: right;\">\n",
       "      <th></th>\n",
       "      <th>Provincias</th>\n",
       "      <th>Ingresos netos</th>\n",
       "      <th>Dispone de dispositivo de energía renovable</th>\n",
       "      <th>Total</th>\n",
       "    </tr>\n",
       "  </thead>\n",
       "  <tbody>\n",
       "    <tr>\n",
       "      <th>0</th>\n",
       "      <td>Albacete</td>\n",
       "      <td>3.000 euros o más</td>\n",
       "      <td>No</td>\n",
       "      <td>13390</td>\n",
       "    </tr>\n",
       "    <tr>\n",
       "      <th>1</th>\n",
       "      <td>Albacete</td>\n",
       "      <td>3.000 euros o más</td>\n",
       "      <td>Si</td>\n",
       "      <td>1344</td>\n",
       "    </tr>\n",
       "    <tr>\n",
       "      <th>2</th>\n",
       "      <td>Albacete</td>\n",
       "      <td>De 1.000 euros a menos de 1.500 euros</td>\n",
       "      <td>No</td>\n",
       "      <td>38883</td>\n",
       "    </tr>\n",
       "    <tr>\n",
       "      <th>3</th>\n",
       "      <td>Albacete</td>\n",
       "      <td>De 1.000 euros a menos de 1.500 euros</td>\n",
       "      <td>Si</td>\n",
       "      <td>2260</td>\n",
       "    </tr>\n",
       "    <tr>\n",
       "      <th>4</th>\n",
       "      <td>Albacete</td>\n",
       "      <td>De 1.500 euros a menos de 2.000 euros</td>\n",
       "      <td>No</td>\n",
       "      <td>22329</td>\n",
       "    </tr>\n",
       "  </tbody>\n",
       "</table>\n",
       "</div>"
      ],
      "text/plain": [
       "  Provincias                         Ingresos netos  \\\n",
       "0   Albacete                      3.000 euros o más   \n",
       "1   Albacete                      3.000 euros o más   \n",
       "2   Albacete  De 1.000 euros a menos de 1.500 euros   \n",
       "3   Albacete  De 1.000 euros a menos de 1.500 euros   \n",
       "4   Albacete  De 1.500 euros a menos de 2.000 euros   \n",
       "\n",
       "  Dispone de dispositivo de energía renovable  Total  \n",
       "0                                          No  13390  \n",
       "1                                          Si   1344  \n",
       "2                                          No  38883  \n",
       "3                                          Si   2260  \n",
       "4                                          No  22329  "
      ]
     },
     "execution_count": 15,
     "metadata": {},
     "output_type": "execute_result"
    }
   ],
   "source": [
    "# Ejemplo de los datos que presenta la tabla\n",
    "dispositivos_renovable_df.head(5)"
   ]
  },
  {
   "cell_type": "markdown",
   "metadata": {},
   "source": [
    "Queremos generar un dataset que indique el porcentaje de la provincia que utiliza dispositivos de energía renovable"
   ]
  },
  {
   "cell_type": "code",
   "execution_count": 16,
   "metadata": {},
   "outputs": [
    {
     "data": {
      "text/html": [
       "<div>\n",
       "<style scoped>\n",
       "    .dataframe tbody tr th:only-of-type {\n",
       "        vertical-align: middle;\n",
       "    }\n",
       "\n",
       "    .dataframe tbody tr th {\n",
       "        vertical-align: top;\n",
       "    }\n",
       "\n",
       "    .dataframe thead th {\n",
       "        text-align: right;\n",
       "    }\n",
       "</style>\n",
       "<table border=\"1\" class=\"dataframe\">\n",
       "  <thead>\n",
       "    <tr style=\"text-align: right;\">\n",
       "      <th>Dispone de dispositivo de energía renovable</th>\n",
       "      <th>No</th>\n",
       "      <th>Si</th>\n",
       "    </tr>\n",
       "    <tr>\n",
       "      <th>Provincias</th>\n",
       "      <th></th>\n",
       "      <th></th>\n",
       "    </tr>\n",
       "  </thead>\n",
       "  <tbody>\n",
       "    <tr>\n",
       "      <th>Albacete</th>\n",
       "      <td>146255</td>\n",
       "      <td>6594</td>\n",
       "    </tr>\n",
       "    <tr>\n",
       "      <th>Alicante/Alacant</th>\n",
       "      <td>735245</td>\n",
       "      <td>30923</td>\n",
       "    </tr>\n",
       "    <tr>\n",
       "      <th>Almería</th>\n",
       "      <td>248102</td>\n",
       "      <td>17856</td>\n",
       "    </tr>\n",
       "    <tr>\n",
       "      <th>Araba/Álava</th>\n",
       "      <td>126383</td>\n",
       "      <td>14741</td>\n",
       "    </tr>\n",
       "    <tr>\n",
       "      <th>Asturias</th>\n",
       "      <td>431584</td>\n",
       "      <td>22865</td>\n",
       "    </tr>\n",
       "  </tbody>\n",
       "</table>\n",
       "</div>"
      ],
      "text/plain": [
       "Dispone de dispositivo de energía renovable      No     Si\n",
       "Provincias                                                \n",
       "Albacete                                     146255   6594\n",
       "Alicante/Alacant                             735245  30923\n",
       "Almería                                      248102  17856\n",
       "Araba/Álava                                  126383  14741\n",
       "Asturias                                     431584  22865"
      ]
     },
     "execution_count": 16,
     "metadata": {},
     "output_type": "execute_result"
    }
   ],
   "source": [
    "# Agrupar por 'Provincias' y 'Dispone de dispositivo de energía renovable', sumando el total\n",
    "dispositivos_renovable_df = dispositivos_renovable_df.groupby(['Provincias', 'Dispone de dispositivo de energía renovable'])['Total'].sum().unstack(fill_value=0)\n",
    "dispositivos_renovable_df.head(5)"
   ]
  },
  {
   "cell_type": "code",
   "execution_count": 17,
   "metadata": {},
   "outputs": [
    {
     "data": {
      "text/html": [
       "<div>\n",
       "<style scoped>\n",
       "    .dataframe tbody tr th:only-of-type {\n",
       "        vertical-align: middle;\n",
       "    }\n",
       "\n",
       "    .dataframe tbody tr th {\n",
       "        vertical-align: top;\n",
       "    }\n",
       "\n",
       "    .dataframe thead th {\n",
       "        text-align: right;\n",
       "    }\n",
       "</style>\n",
       "<table border=\"1\" class=\"dataframe\">\n",
       "  <thead>\n",
       "    <tr style=\"text-align: right;\">\n",
       "      <th>Dispone de dispositivo de energía renovable</th>\n",
       "      <th>Proporcion hogares con dispositivos de energía renovable</th>\n",
       "    </tr>\n",
       "    <tr>\n",
       "      <th>Provincias</th>\n",
       "      <th></th>\n",
       "    </tr>\n",
       "  </thead>\n",
       "  <tbody>\n",
       "    <tr>\n",
       "      <th>Albacete</th>\n",
       "      <td>0.043141</td>\n",
       "    </tr>\n",
       "    <tr>\n",
       "      <th>Alicante/Alacant</th>\n",
       "      <td>0.040361</td>\n",
       "    </tr>\n",
       "    <tr>\n",
       "      <th>Almería</th>\n",
       "      <td>0.067138</td>\n",
       "    </tr>\n",
       "    <tr>\n",
       "      <th>Araba/Álava</th>\n",
       "      <td>0.104454</td>\n",
       "    </tr>\n",
       "    <tr>\n",
       "      <th>Asturias</th>\n",
       "      <td>0.050314</td>\n",
       "    </tr>\n",
       "  </tbody>\n",
       "</table>\n",
       "</div>"
      ],
      "text/plain": [
       "Dispone de dispositivo de energía renovable  Proporcion hogares con dispositivos de energía renovable\n",
       "Provincias                                                                                           \n",
       "Albacete                                                                              0.043141       \n",
       "Alicante/Alacant                                                                      0.040361       \n",
       "Almería                                                                               0.067138       \n",
       "Araba/Álava                                                                           0.104454       \n",
       "Asturias                                                                              0.050314       "
      ]
     },
     "execution_count": 17,
     "metadata": {},
     "output_type": "execute_result"
    }
   ],
   "source": [
    "# Se calcula la proporción de hogares con dispositivos de energía renovable y se eliminan las columnas \"Si\" y \"No\"\n",
    "dispositivos_renovable_df['Proporcion hogares con dispositivos de energía renovable'] = dispositivos_renovable_df['Si'] / (dispositivos_renovable_df['Si'] + dispositivos_renovable_df['No'])\n",
    "dispositivos_renovable_df.drop(columns=['No', 'Si'], inplace=True)\n",
    "dispositivos_renovable_df.head(5)"
   ]
  },
  {
   "cell_type": "code",
   "execution_count": 18,
   "metadata": {},
   "outputs": [
    {
     "data": {
      "text/html": [
       "<div>\n",
       "<style scoped>\n",
       "    .dataframe tbody tr th:only-of-type {\n",
       "        vertical-align: middle;\n",
       "    }\n",
       "\n",
       "    .dataframe tbody tr th {\n",
       "        vertical-align: top;\n",
       "    }\n",
       "\n",
       "    .dataframe thead th {\n",
       "        text-align: right;\n",
       "    }\n",
       "</style>\n",
       "<table border=\"1\" class=\"dataframe\">\n",
       "  <thead>\n",
       "    <tr style=\"text-align: right;\">\n",
       "      <th></th>\n",
       "      <th>Provincias</th>\n",
       "      <th>Proporcion hogares con dispositivos de energía renovable</th>\n",
       "    </tr>\n",
       "  </thead>\n",
       "  <tbody>\n",
       "    <tr>\n",
       "      <th>0</th>\n",
       "      <td>Albacete</td>\n",
       "      <td>0.043141</td>\n",
       "    </tr>\n",
       "    <tr>\n",
       "      <th>1</th>\n",
       "      <td>Alicante/Alacant</td>\n",
       "      <td>0.040361</td>\n",
       "    </tr>\n",
       "    <tr>\n",
       "      <th>2</th>\n",
       "      <td>Almería</td>\n",
       "      <td>0.067138</td>\n",
       "    </tr>\n",
       "    <tr>\n",
       "      <th>3</th>\n",
       "      <td>Araba/Álava</td>\n",
       "      <td>0.104454</td>\n",
       "    </tr>\n",
       "    <tr>\n",
       "      <th>4</th>\n",
       "      <td>Asturias</td>\n",
       "      <td>0.050314</td>\n",
       "    </tr>\n",
       "  </tbody>\n",
       "</table>\n",
       "</div>"
      ],
      "text/plain": [
       "         Provincias  Proporcion hogares con dispositivos de energía renovable\n",
       "0          Albacete                                           0.043141       \n",
       "1  Alicante/Alacant                                           0.040361       \n",
       "2           Almería                                           0.067138       \n",
       "3       Araba/Álava                                           0.104454       \n",
       "4          Asturias                                           0.050314       "
      ]
     },
     "execution_count": 18,
     "metadata": {},
     "output_type": "execute_result"
    }
   ],
   "source": [
    "# Las columnas están estructuradas como un MultiIndex, el objetivo es \"aplanarlas\" y dejar el dataset como | Provincias | Proporción ... |\n",
    "dispositivos_renovable_df.columns = ['_'.join(col).strip() if isinstance(col, tuple) else col for col in dispositivos_renovable_df.columns]\n",
    "dispositivos_renovable_df.reset_index(inplace=True)\n",
    "\n",
    "dispositivos_renovable_df.head(5)"
   ]
  },
  {
   "cell_type": "markdown",
   "metadata": {},
   "source": [
    "<br>\n"
   ]
  },
  {
   "cell_type": "markdown",
   "metadata": {},
   "source": [
    "### Resultado"
   ]
  },
  {
   "cell_type": "code",
   "execution_count": 19,
   "metadata": {},
   "outputs": [
    {
     "data": {
      "text/html": [
       "<div>\n",
       "<style scoped>\n",
       "    .dataframe tbody tr th:only-of-type {\n",
       "        vertical-align: middle;\n",
       "    }\n",
       "\n",
       "    .dataframe tbody tr th {\n",
       "        vertical-align: top;\n",
       "    }\n",
       "\n",
       "    .dataframe thead th {\n",
       "        text-align: right;\n",
       "    }\n",
       "</style>\n",
       "<table border=\"1\" class=\"dataframe\">\n",
       "  <thead>\n",
       "    <tr style=\"text-align: right;\">\n",
       "      <th></th>\n",
       "      <th>Provincias</th>\n",
       "      <th>Poblacion_Total</th>\n",
       "      <th>Proporcion hogares con dispositivos de energía renovable</th>\n",
       "    </tr>\n",
       "  </thead>\n",
       "  <tbody>\n",
       "    <tr>\n",
       "      <th>0</th>\n",
       "      <td>Albacete</td>\n",
       "      <td>385727</td>\n",
       "      <td>0.043141</td>\n",
       "    </tr>\n",
       "    <tr>\n",
       "      <th>1</th>\n",
       "      <td>Alicante/Alacant</td>\n",
       "      <td>1901594</td>\n",
       "      <td>0.040361</td>\n",
       "    </tr>\n",
       "    <tr>\n",
       "      <th>2</th>\n",
       "      <td>Almería</td>\n",
       "      <td>739535</td>\n",
       "      <td>0.067138</td>\n",
       "    </tr>\n",
       "    <tr>\n",
       "      <th>3</th>\n",
       "      <td>Araba/Álava</td>\n",
       "      <td>334412</td>\n",
       "      <td>0.104454</td>\n",
       "    </tr>\n",
       "    <tr>\n",
       "      <th>4</th>\n",
       "      <td>Asturias</td>\n",
       "      <td>1004686</td>\n",
       "      <td>0.050314</td>\n",
       "    </tr>\n",
       "  </tbody>\n",
       "</table>\n",
       "</div>"
      ],
      "text/plain": [
       "         Provincias  Poblacion_Total  \\\n",
       "0          Albacete           385727   \n",
       "1  Alicante/Alacant          1901594   \n",
       "2           Almería           739535   \n",
       "3       Araba/Álava           334412   \n",
       "4          Asturias          1004686   \n",
       "\n",
       "   Proporcion hogares con dispositivos de energía renovable  \n",
       "0                                           0.043141         \n",
       "1                                           0.040361         \n",
       "2                                           0.067138         \n",
       "3                                           0.104454         \n",
       "4                                           0.050314         "
      ]
     },
     "execution_count": 19,
     "metadata": {},
     "output_type": "execute_result"
    }
   ],
   "source": [
    "# Unir ambos DataFrames: poblacion_total_provincias, dispositivos_renovable_df\n",
    "data_card_1_df = pd.merge(poblacion_total_provincias, dispositivos_renovable_df, on='Provincias')\n",
    "# Renombrar las columnas del DataFrame resultante\n",
    "data_card_1_df.rename(columns={'Total': 'Poblacion_Total'}, inplace=True)\n",
    "\n",
    "data_card_1_df.head(5)"
   ]
  }
 ],
 "metadata": {
  "kernelspec": {
   "display_name": "Python 3",
   "language": "python",
   "name": "python3"
  },
  "language_info": {
   "codemirror_mode": {
    "name": "ipython",
    "version": 3
   },
   "file_extension": ".py",
   "mimetype": "text/x-python",
   "name": "python",
   "nbconvert_exporter": "python",
   "pygments_lexer": "ipython3",
   "version": "3.11.8"
  }
 },
 "nbformat": 4,
 "nbformat_minor": 2
}

{
 "cells": [
  {
   "cell_type": "markdown",
   "metadata": {},
   "source": [
    "# Tarjeta de datos 1"
   ]
  },
  {
   "cell_type": "markdown",
   "metadata": {},
   "source": [
    "### Hipótesis 1: \"Las provincias con una edad media menor y una renta media por hogar mayor a la nacional, suelen estar más concienciadas con el uso de energías renovables y utilizan más dispositivos que aprovechan este tipo de energía.\""
   ]
  },
  {
   "cell_type": "markdown",
   "metadata": {},
   "source": [
    "La justificación de esta hipótesis es que las personas jóvenes suelen estar más concienciadas con el medio ambiente, además de que tienen más tiempo para amortizar la inversión de este tipo de tecnología a lo largo de su vida.\n",
    "<br>\n",
    "<br>"
   ]
  },
  {
   "cell_type": "markdown",
   "metadata": {},
   "source": [
    "### Preparación del entorno"
   ]
  },
  {
   "cell_type": "code",
   "execution_count": null,
   "metadata": {},
   "outputs": [],
   "source": [
    "import pandas as pd\n",
    "import matplotlib.pyplot as plt\n",
    "import matplotlib.cm as cm  \n",
    "import numpy as np\n",
    "from ydata_profiling import ProfileReport\n",
    "import os \n",
    "\n",
    "SILVER_DATA_PATH = os.path.join(\"..\", \"data/silver/\")\n",
    "GOLD_DATA_PATH = os.path.join(\"..\", \"data/gold/\")"
   ]
  },
  {
   "cell_type": "markdown",
   "metadata": {},
   "source": [
    "### Datos"
   ]
  },
  {
   "cell_type": "markdown",
   "metadata": {},
   "source": [
    "Primero, cargamos los datasets que utilizaremos en esta tarjeta, los cuales han sido generados a partir del procesamiento inicial de los datos y corresponden a la capa silver."
   ]
  },
  {
   "cell_type": "code",
   "execution_count": null,
   "metadata": {},
   "outputs": [],
   "source": [
    "# Distribución de edad\n",
    "distribucion_edad_df=pd.read_csv(SILVER_DATA_PATH+\"distribucion_edad.csv\", sep = \";\", encoding = \"latin\")\n",
    "distribucion_edad_df.info()"
   ]
  },
  {
   "cell_type": "code",
   "execution_count": null,
   "metadata": {},
   "outputs": [],
   "source": [
    "# Renta media\n",
    "renta_media_hogar_df = pd.read_csv(SILVER_DATA_PATH+\"renta_media_hogar.csv\", sep = \";\", encoding = \"latin\")\n",
    "renta_media_hogar_df.info()"
   ]
  },
  {
   "cell_type": "code",
   "execution_count": null,
   "metadata": {},
   "outputs": [],
   "source": [
    "# Dispositivos de energía renovable\n",
    "dispositivos_renovable_df=pd.read_csv(SILVER_DATA_PATH+\"dispositivos_renovable.csv\", sep = \";\", encoding = \"latin\")\n",
    "dispositivos_renovable_df.info()"
   ]
  },
  {
   "cell_type": "markdown",
   "metadata": {},
   "source": [
    "### Procesamiento"
   ]
  },
  {
   "cell_type": "markdown",
   "metadata": {},
   "source": [
    "#### distribucion_edad_df"
   ]
  },
  {
   "cell_type": "markdown",
   "metadata": {},
   "source": [
    "Del dataset distribucion_edad_df.csv queremos obtener la información sobre los intervalos de edad de cada año por provincia, además de:\n",
    "\n",
    "- El total nacional del número de habitantes.\n",
    "- La edad media por provincia.\n",
    "- El número de habitantes por provincia."
   ]
  },
  {
   "cell_type": "code",
   "execution_count": null,
   "metadata": {},
   "outputs": [],
   "source": [
    "# Ejemplo de los datos que presenta la tabla\n",
    "distribucion_edad_df.head(5)"
   ]
  },
  {
   "cell_type": "markdown",
   "metadata": {},
   "source": [
    "Total nacional del número de habitantes."
   ]
  },
  {
   "cell_type": "code",
   "execution_count": null,
   "metadata": {},
   "outputs": [],
   "source": [
    "# Calcular la suma de la columna 'Total'\n",
    "poblacion_total_nacional = distribucion_edad_df['Total'].sum()\n",
    "print(f\"Hay un total de {poblacion_total_nacional} habitantes en España.\")"
   ]
  },
  {
   "cell_type": "markdown",
   "metadata": {},
   "source": [
    "Edad media por provincia"
   ]
  },
  {
   "cell_type": "code",
   "execution_count": null,
   "metadata": {},
   "outputs": [],
   "source": [
    "# Función para obtener la edad media de cada grupo quinquenal\n",
    "def obtener_edad_media(grupo):\n",
    "    # Comprobar si el grupo es \"100 y más años\"\n",
    "    if \"100 y más años\" in grupo:\n",
    "        return 100  # Asignamos 100 años como la edad media para este grupo\n",
    "    else:\n",
    "        # Extraer los valores del rango (e.g., \"De 0 a 4 años\" -> 0, 4)\n",
    "        partes = grupo.split(' a ')\n",
    "        edad_inferior = int(partes[0].split(' ')[1])\n",
    "        edad_superior = int(partes[1].split(' ')[0])\n",
    "        # Calcular la edad media del grupo\n",
    "        return (edad_inferior + edad_superior) / 2\n",
    "    \n",
    "# Crear un contenedor para almacenar los resultados de edad media por provincia\n",
    "edad_media_por_provincia = []\n",
    "# Agrupamos los datos por provincia\n",
    "for provincia, grupo in distribucion_edad_df.groupby('Provincias'):\n",
    "    edad_media_nivel_provincia = 0\n",
    "    poblacion_total_provincia = 0\n",
    "    \n",
    "    # Calculamos la edad media ponderada para cada grupo quinquenal en la provincia\n",
    "    for index, row in grupo.iterrows():\n",
    "        rango_edad = row['Edad (grupos quinquenales)']\n",
    "        media_rango = obtener_edad_media(rango_edad)\n",
    "        \n",
    "        # Sumar la edad media ponderada por la población\n",
    "        edad_media_ponderada = media_rango * row['Total']\n",
    "        edad_media_nivel_provincia += edad_media_ponderada\n",
    "        poblacion_total_provincia += row['Total']\n",
    "    \n",
    "    # Calcular la edad media real de la provincia\n",
    "    edad_media_provincia = edad_media_nivel_provincia / poblacion_total_provincia\n",
    "    edad_media_por_provincia.append({'Provincias': provincia, 'Edad media': edad_media_provincia})\n",
    "\n",
    "# Crear un DataFrame con las provincias y su edad media\n",
    "df_edad_media_provincia = pd.DataFrame(edad_media_por_provincia)\n",
    "\n",
    "# Mostrar el DataFrame con la edad media por provincia\n",
    "print(df_edad_media_provincia)\n",
    "\n"
   ]
  },
  {
   "cell_type": "markdown",
   "metadata": {},
   "source": [
    "Número de habitantes por provincia"
   ]
  },
  {
   "cell_type": "code",
   "execution_count": null,
   "metadata": {},
   "outputs": [],
   "source": [
    "# Agrupar por 'Provincias' y calcular el sumatorio de la columna 'Total'\n",
    "poblacion_total_provincias = distribucion_edad_df.groupby('Provincias')['Total'].sum().reset_index()\n",
    "poblacion_total_provincias.head(5)\n"
   ]
  },
  {
   "cell_type": "markdown",
   "metadata": {},
   "source": [
    "Se modifica el nombre de la columna \"Total\" para mejorar su comprensión."
   ]
  },
  {
   "cell_type": "code",
   "execution_count": null,
   "metadata": {},
   "outputs": [],
   "source": [
    "poblacion_total_provincias = poblacion_total_provincias.rename(columns={'Total': 'Población Total'})"
   ]
  },
  {
   "cell_type": "markdown",
   "metadata": {},
   "source": [
    "<br>\n",
    "<br>"
   ]
  },
  {
   "cell_type": "markdown",
   "metadata": {},
   "source": [
    "#### renta_media_hogar_df "
   ]
  },
  {
   "cell_type": "markdown",
   "metadata": {},
   "source": [
    "El objetivo con el dataset renta_media_hogar_df es conocer la renta media de cada provincia."
   ]
  },
  {
   "cell_type": "code",
   "execution_count": null,
   "metadata": {},
   "outputs": [],
   "source": [
    "# Ejemplo de los datos que presenta la tabla\n",
    "renta_media_hogar_df.head(5)"
   ]
  },
  {
   "cell_type": "code",
   "execution_count": null,
   "metadata": {},
   "outputs": [],
   "source": [
    "# Nos quedamos con los datos del 2022\n",
    "renta_media_hogar_df = renta_media_hogar_df[renta_media_hogar_df['Periodo'] == 2022]\n",
    "renta_media_hogar_df = renta_media_hogar_df.reset_index(drop=True)\n",
    "\n",
    "# Eliminamos la columna 'Periodo'\n",
    "renta_media_hogar_df = renta_media_hogar_df.drop('Periodo', axis=1)\n",
    "\n",
    "renta_media_hogar_df.head(5)"
   ]
  },
  {
   "cell_type": "markdown",
   "metadata": {},
   "source": [
    "Calculamos la renta media nacional."
   ]
  },
  {
   "cell_type": "code",
   "execution_count": null,
   "metadata": {},
   "outputs": [],
   "source": [
    "renta_media_nacional = renta_media_hogar_df['Total'].mean()\n",
    "\n",
    "print(f\"La renta media nacional por hogar es de {renta_media_nacional} euros.\")\n"
   ]
  },
  {
   "cell_type": "markdown",
   "metadata": {},
   "source": [
    "Se modifica el nombre de la columna \"Total\" para mejorar su comprensión."
   ]
  },
  {
   "cell_type": "code",
   "execution_count": null,
   "metadata": {},
   "outputs": [],
   "source": [
    "renta_media_hogar_df = renta_media_hogar_df.rename(columns={'Total': 'Renta media por hogar'})"
   ]
  },
  {
   "cell_type": "markdown",
   "metadata": {},
   "source": [
    "<br>\n",
    "<br>\n"
   ]
  },
  {
   "cell_type": "markdown",
   "metadata": {},
   "source": [
    "#### dispositivos_renovable_df"
   ]
  },
  {
   "cell_type": "code",
   "execution_count": null,
   "metadata": {},
   "outputs": [],
   "source": [
    "# Ejemplo de los datos que presenta la tabla\n",
    "dispositivos_renovable_df.head(5)"
   ]
  },
  {
   "cell_type": "markdown",
   "metadata": {},
   "source": [
    "Queremos generar un dataset que indique el porcentaje de la provincia que utiliza dispositivos de energía renovable"
   ]
  },
  {
   "cell_type": "code",
   "execution_count": null,
   "metadata": {},
   "outputs": [],
   "source": [
    "# Agrupar por 'Provincias' y 'Dispone de dispositivo de energía renovable', sumando el total\n",
    "dispositivos_renovable_df = dispositivos_renovable_df.groupby(['Provincias', 'Dispone de dispositivo de energía renovable'])['Total'].sum().unstack(fill_value=0)\n",
    "dispositivos_renovable_df.head(5)"
   ]
  },
  {
   "cell_type": "code",
   "execution_count": null,
   "metadata": {},
   "outputs": [],
   "source": [
    "# Se calcula el porcentaje de hogares con dispositivos de energía renovable y se eliminan las columnas \"Si\" y \"No\"\n",
    "dispositivos_renovable_df['Porcentaje de hogares con dispositivos de energía renovable'] = (dispositivos_renovable_df['Si'] / (dispositivos_renovable_df['Si'] + dispositivos_renovable_df['No']))*100\n",
    "dispositivos_renovable_df.drop(columns=['No', 'Si'], inplace=True)\n",
    "dispositivos_renovable_df.head(5)"
   ]
  },
  {
   "cell_type": "code",
   "execution_count": null,
   "metadata": {},
   "outputs": [],
   "source": [
    "# Las columnas están estructuradas como un MultiIndex, el objetivo es \"aplanarlas\" y dejar el dataset como | Provincias | Proporción ... |\n",
    "dispositivos_renovable_df.columns = ['_'.join(col).strip() if isinstance(col, tuple) else col for col in dispositivos_renovable_df.columns]\n",
    "dispositivos_renovable_df.reset_index(inplace=True)\n",
    "\n",
    "dispositivos_renovable_df.head(5)"
   ]
  },
  {
   "cell_type": "markdown",
   "metadata": {},
   "source": [
    "<br>\n"
   ]
  },
  {
   "cell_type": "markdown",
   "metadata": {},
   "source": [
    "### Resultado"
   ]
  },
  {
   "cell_type": "code",
   "execution_count": null,
   "metadata": {},
   "outputs": [],
   "source": [
    "# Unir DataFrames\n",
    "data_card_1_df = pd.merge(poblacion_total_provincias, renta_media_hogar_df, on='Provincias')\n",
    "data_card_1_df = pd.merge(data_card_1_df, df_edad_media_provincia, on='Provincias')\n",
    "data_card_1_df = pd.merge(data_card_1_df, dispositivos_renovable_df, on='Provincias')\n",
    "\n",
    "\n",
    "data_card_1_df.head(5)"
   ]
  },
  {
   "cell_type": "markdown",
   "metadata": {},
   "source": [
    "Datos importantes"
   ]
  },
  {
   "cell_type": "code",
   "execution_count": null,
   "metadata": {},
   "outputs": [],
   "source": [
    "print(f\"Hay un total de {poblacion_total_nacional} habitantes en España.\")\n",
    "print(f\"La renta media nacional por hogar es de {renta_media_nacional} euros.\")"
   ]
  },
  {
   "cell_type": "markdown",
   "metadata": {},
   "source": [
    "<br>"
   ]
  },
  {
   "cell_type": "markdown",
   "metadata": {},
   "source": [
    "### Data Profiling"
   ]
  },
  {
   "cell_type": "markdown",
   "metadata": {},
   "source": [
    "Estudio sobre población total de España."
   ]
  },
  {
   "cell_type": "code",
   "execution_count": null,
   "metadata": {},
   "outputs": [],
   "source": [
    "df = pd.DataFrame(data_card_1_df)\n",
    "df = df.sort_values(by=\"Población Total\", ascending=False)\n",
    "\n",
    "# Crear el gráfico de barras\n",
    "plt.figure(figsize=(10, 6))  # Tamaño del gráfico\n",
    "plt.bar(df[\"Provincias\"], df[\"Población Total\"], color='skyblue')\n",
    "\n",
    "# Agregar títulos y etiquetas\n",
    "plt.title(\"Población por provincia\", fontsize=20)\n",
    "plt.xlabel(\"Provincias\", fontsize=12)\n",
    "plt.ylabel(\"Población\", fontsize=12)\n",
    "plt.xticks(rotation=45, ha='right')  # Rotar etiquetas si son largas\n",
    "\n",
    "# Mostrar el gráfico\n",
    "plt.tight_layout()\n",
    "plt.show()"
   ]
  },
  {
   "cell_type": "markdown",
   "metadata": {},
   "source": [
    "Estudio sobre la renta media por hogar en cada provincia."
   ]
  },
  {
   "cell_type": "code",
   "execution_count": null,
   "metadata": {},
   "outputs": [],
   "source": [
    "df = pd.DataFrame(data_card_1_df)\n",
    "df = df.sort_values(by=\"Renta media por hogar\", ascending=False)\n",
    "\n",
    "# Crear el gráfico de barras\n",
    "plt.figure(figsize=(10, 6))  # Tamaño del gráfico\n",
    "plt.bar(df[\"Provincias\"], df[\"Renta media por hogar\"], color='skyblue')\n",
    "\n",
    "# Agregar títulos y etiquetas\n",
    "plt.title(\"Renta media por hogar\", fontsize=20)\n",
    "plt.xlabel(\"Provincias\", fontsize=12)\n",
    "plt.ylabel(\"Renta\", fontsize=12)\n",
    "plt.xticks(rotation=45, ha='right')  # Rotar etiquetas si son largas\n",
    "\n",
    "# Mostrar el gráfico\n",
    "plt.tight_layout()\n",
    "plt.show()"
   ]
  },
  {
   "cell_type": "markdown",
   "metadata": {},
   "source": [
    "Estudio sobre la edad media en cada provincia."
   ]
  },
  {
   "cell_type": "code",
   "execution_count": null,
   "metadata": {},
   "outputs": [],
   "source": [
    "df = pd.DataFrame(data_card_1_df)\n",
    "df = df.sort_values(by=\"Edad media\", ascending=False)\n",
    "\n",
    "# Crear el gráfico de barras\n",
    "plt.figure(figsize=(10, 6))  # Tamaño del gráfico\n",
    "plt.bar(df[\"Provincias\"], df[\"Edad media\"], color='skyblue')\n",
    "\n",
    "# Agregar títulos y etiquetas\n",
    "plt.title(\"Edad media\", fontsize=20)\n",
    "plt.xlabel(\"Provincias\", fontsize=12)\n",
    "plt.ylabel(\"Edad\", fontsize=12)\n",
    "plt.xticks(rotation=45, ha='right')  # Rotar etiquetas si son largas\n",
    "\n",
    "# Mostrar el gráfico\n",
    "plt.tight_layout()\n",
    "plt.show()"
   ]
  },
  {
   "cell_type": "markdown",
   "metadata": {},
   "source": [
    "Estudio sobre la proporción de hogares con dispositivos de energía renovable."
   ]
  },
  {
   "cell_type": "code",
   "execution_count": null,
   "metadata": {},
   "outputs": [],
   "source": [
    "df = pd.DataFrame(data_card_1_df)\n",
    "df = df.sort_values(by=\"Porcentaje de hogares con dispositivos de energía renovable\", ascending=False)\n",
    "\n",
    "# Crear el gráfico de barras\n",
    "plt.figure(figsize=(10, 6))  # Tamaño del gráfico\n",
    "plt.bar(df[\"Provincias\"], df[\"Porcentaje de hogares con dispositivos de energía renovable\"], color='skyblue')\n",
    "\n",
    "# Agregar títulos y etiquetas\n",
    "plt.title(\"Porcentaje de hogares con dispositivos de energía renovable\", fontsize=20)\n",
    "plt.xlabel(\"Provincias\", fontsize=12)\n",
    "plt.ylabel(\"%\", fontsize=12)\n",
    "plt.xticks(rotation=45, ha='right')  # Rotar etiquetas si son largas\n",
    "\n",
    "# Mostrar el gráfico\n",
    "plt.tight_layout()\n",
    "plt.show()"
   ]
  },
  {
   "cell_type": "markdown",
   "metadata": {},
   "source": [
    "Generamos un profile report del estudio."
   ]
  },
  {
   "cell_type": "code",
   "execution_count": null,
   "metadata": {},
   "outputs": [],
   "source": [
    "profile = ProfileReport(data_card_1_df, title=\"Data Card 1 - Profile\", explorative=True)\n",
    "profile.to_file(\"../profiling/data_card_1_profile_report.html\")"
   ]
  },
  {
   "cell_type": "markdown",
   "metadata": {},
   "source": [
    "<br>"
   ]
  },
  {
   "cell_type": "markdown",
   "metadata": {},
   "source": [
    "### Generar dataset"
   ]
  },
  {
   "cell_type": "code",
   "execution_count": null,
   "metadata": {},
   "outputs": [],
   "source": [
    "with open(GOLD_DATA_PATH + \"data_card_1_df.csv\", \"w\") as f:\n",
    "    data_card_1_df.to_csv(f, sep=';', encoding='utf-8', index=False)"
   ]
  }
 ],
 "metadata": {
  "language_info": {
   "name": "python"
  }
 },
 "nbformat": 4,
 "nbformat_minor": 2
}

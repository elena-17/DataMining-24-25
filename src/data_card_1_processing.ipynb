{
 "cells": [
  {
   "cell_type": "markdown",
   "metadata": {},
   "source": [
    "# Tarjeta de datos 1"
   ]
  },
  {
   "cell_type": "markdown",
   "metadata": {},
   "source": [
    "### Hipótesis 1: \"Las provincias con una edad media menor y una renta media por hogar mayor a la nacional, suelen estar más concienciadas con el uso de energías renovables y utilizan más dispositivos que aprovechan este tipo de energía.\""
   ]
  },
  {
   "cell_type": "markdown",
   "metadata": {},
   "source": [
    "La justificación de esta hipótesis es que las personas jóvenes suelen estar más concienciadas con el medio ambiente, además de que tienen más tiempo para amortizar la inversión de este tipo de tecnología a lo largo de su vida.\n",
    "<br>\n",
    "<br>"
   ]
  },
  {
   "cell_type": "markdown",
   "metadata": {},
   "source": [
    "### Preparación del entorno"
   ]
  },
  {
   "cell_type": "code",
   "execution_count": 86,
   "metadata": {},
   "outputs": [],
   "source": [
    "import pandas as pd\n",
    "import os \n",
    "\n",
    "SILVER_DATA_PATH = os.path.join(\"..\", \"data/silver/\")"
   ]
  },
  {
   "cell_type": "markdown",
   "metadata": {},
   "source": [
    "### Datos"
   ]
  },
  {
   "cell_type": "markdown",
   "metadata": {},
   "source": [
    "Primero, cargamos los datasets que utilizaremos en esta tarjeta, los cuales han sido generados a partir del procesamiento inicial de los datos y corresponden a la capa silver."
   ]
  },
  {
   "cell_type": "code",
   "execution_count": 87,
   "metadata": {},
   "outputs": [
    {
     "name": "stdout",
     "output_type": "stream",
     "text": [
      "<class 'pandas.core.frame.DataFrame'>\n",
      "RangeIndex: 987 entries, 0 to 986\n",
      "Data columns (total 3 columns):\n",
      " #   Column                      Non-Null Count  Dtype  \n",
      "---  ------                      --------------  -----  \n",
      " 0   Provincias                  987 non-null    object \n",
      " 1   Edad (grupos quinquenales)  987 non-null    object \n",
      " 2   Total                       987 non-null    float64\n",
      "dtypes: float64(1), object(2)\n",
      "memory usage: 23.3+ KB\n"
     ]
    }
   ],
   "source": [
    "# Distribución de edad\n",
    "distribucion_edad_df=pd.read_csv(SILVER_DATA_PATH+\"distribucion_edad.csv\", sep = \";\", encoding = \"latin\")\n",
    "distribucion_edad_df.info()"
   ]
  },
  {
   "cell_type": "code",
   "execution_count": 88,
   "metadata": {},
   "outputs": [
    {
     "name": "stdout",
     "output_type": "stream",
     "text": [
      "<class 'pandas.core.frame.DataFrame'>\n",
      "RangeIndex: 141 entries, 0 to 140\n",
      "Data columns (total 3 columns):\n",
      " #   Column      Non-Null Count  Dtype  \n",
      "---  ------      --------------  -----  \n",
      " 0   Provincias  141 non-null    object \n",
      " 1   Periodo     141 non-null    int64  \n",
      " 2   Total       141 non-null    float64\n",
      "dtypes: float64(1), int64(1), object(1)\n",
      "memory usage: 3.4+ KB\n"
     ]
    }
   ],
   "source": [
    "# Renta media\n",
    "renta_media_hogar_df = pd.read_csv(SILVER_DATA_PATH+\"renta_media_hogar.csv\", sep = \";\", encoding = \"latin\")\n",
    "renta_media_hogar_df.info()"
   ]
  },
  {
   "cell_type": "code",
   "execution_count": 89,
   "metadata": {},
   "outputs": [
    {
     "name": "stdout",
     "output_type": "stream",
     "text": [
      "<class 'pandas.core.frame.DataFrame'>\n",
      "RangeIndex: 470 entries, 0 to 469\n",
      "Data columns (total 4 columns):\n",
      " #   Column                                       Non-Null Count  Dtype \n",
      "---  ------                                       --------------  ----- \n",
      " 0   Provincias                                   470 non-null    object\n",
      " 1   Ingresos netos                               470 non-null    object\n",
      " 2   Dispone de dispositivo de energía renovable  470 non-null    object\n",
      " 3   Total                                        470 non-null    int64 \n",
      "dtypes: int64(1), object(3)\n",
      "memory usage: 14.8+ KB\n"
     ]
    }
   ],
   "source": [
    "# Dispositivos de energía renovable\n",
    "dispositivos_renovable_df=pd.read_csv(SILVER_DATA_PATH+\"dispositivos_renovable.csv\", sep = \";\", encoding = \"latin\")\n",
    "dispositivos_renovable_df.info()"
   ]
  },
  {
   "cell_type": "markdown",
   "metadata": {},
   "source": [
    "### Procesamiento"
   ]
  },
  {
   "cell_type": "markdown",
   "metadata": {},
   "source": [
    "#### distribucion_edad_df"
   ]
  },
  {
   "cell_type": "markdown",
   "metadata": {},
   "source": [
    "Del dataset distribucion_edad_df.csv queremos obtener la información sobre los intervalos de edad de cada año por provincia, además de:\n",
    "\n",
    "- El total nacional del número de habitantes.\n",
    "- La edad media a nivel nacional.\n",
    "- El número de habitantes por provincia."
   ]
  },
  {
   "cell_type": "code",
   "execution_count": 90,
   "metadata": {},
   "outputs": [
    {
     "data": {
      "text/html": [
       "<div>\n",
       "<style scoped>\n",
       "    .dataframe tbody tr th:only-of-type {\n",
       "        vertical-align: middle;\n",
       "    }\n",
       "\n",
       "    .dataframe tbody tr th {\n",
       "        vertical-align: top;\n",
       "    }\n",
       "\n",
       "    .dataframe thead th {\n",
       "        text-align: right;\n",
       "    }\n",
       "</style>\n",
       "<table border=\"1\" class=\"dataframe\">\n",
       "  <thead>\n",
       "    <tr style=\"text-align: right;\">\n",
       "      <th></th>\n",
       "      <th>Provincias</th>\n",
       "      <th>Edad (grupos quinquenales)</th>\n",
       "      <th>Total</th>\n",
       "    </tr>\n",
       "  </thead>\n",
       "  <tbody>\n",
       "    <tr>\n",
       "      <th>0</th>\n",
       "      <td>Almería</td>\n",
       "      <td>De 0 a 4 años</td>\n",
       "      <td>36.360</td>\n",
       "    </tr>\n",
       "    <tr>\n",
       "      <th>1</th>\n",
       "      <td>Almería</td>\n",
       "      <td>De 5 a 9 años</td>\n",
       "      <td>41.033</td>\n",
       "    </tr>\n",
       "    <tr>\n",
       "      <th>2</th>\n",
       "      <td>Almería</td>\n",
       "      <td>De 10 a 14 años</td>\n",
       "      <td>43.411</td>\n",
       "    </tr>\n",
       "    <tr>\n",
       "      <th>3</th>\n",
       "      <td>Almería</td>\n",
       "      <td>De 15 a 19 años</td>\n",
       "      <td>40.722</td>\n",
       "    </tr>\n",
       "    <tr>\n",
       "      <th>4</th>\n",
       "      <td>Almería</td>\n",
       "      <td>De 20 a 24 años</td>\n",
       "      <td>41.532</td>\n",
       "    </tr>\n",
       "  </tbody>\n",
       "</table>\n",
       "</div>"
      ],
      "text/plain": [
       "  Provincias Edad (grupos quinquenales)   Total\n",
       "0    Almería              De 0 a 4 años  36.360\n",
       "1    Almería              De 5 a 9 años  41.033\n",
       "2    Almería          De 10 a 14 años    43.411\n",
       "3    Almería          De 15 a 19 años    40.722\n",
       "4    Almería            De 20 a 24 años  41.532"
      ]
     },
     "execution_count": 90,
     "metadata": {},
     "output_type": "execute_result"
    }
   ],
   "source": [
    "# Ejemplo de los datos que presenta la tabla\n",
    "distribucion_edad_df.head(5)"
   ]
  },
  {
   "cell_type": "markdown",
   "metadata": {},
   "source": [
    "Total nacional del número de habitantes."
   ]
  },
  {
   "cell_type": "code",
   "execution_count": 91,
   "metadata": {},
   "outputs": [
    {
     "data": {
      "text/html": [
       "<div>\n",
       "<style scoped>\n",
       "    .dataframe tbody tr th:only-of-type {\n",
       "        vertical-align: middle;\n",
       "    }\n",
       "\n",
       "    .dataframe tbody tr th {\n",
       "        vertical-align: top;\n",
       "    }\n",
       "\n",
       "    .dataframe thead th {\n",
       "        text-align: right;\n",
       "    }\n",
       "</style>\n",
       "<table border=\"1\" class=\"dataframe\">\n",
       "  <thead>\n",
       "    <tr style=\"text-align: right;\">\n",
       "      <th></th>\n",
       "      <th>Provincias</th>\n",
       "      <th>Edad (grupos quinquenales)</th>\n",
       "      <th>Total</th>\n",
       "    </tr>\n",
       "  </thead>\n",
       "  <tbody>\n",
       "    <tr>\n",
       "      <th>0</th>\n",
       "      <td>Almería</td>\n",
       "      <td>De 0 a 4 años</td>\n",
       "      <td>36360</td>\n",
       "    </tr>\n",
       "    <tr>\n",
       "      <th>1</th>\n",
       "      <td>Almería</td>\n",
       "      <td>De 5 a 9 años</td>\n",
       "      <td>41033</td>\n",
       "    </tr>\n",
       "    <tr>\n",
       "      <th>2</th>\n",
       "      <td>Almería</td>\n",
       "      <td>De 10 a 14 años</td>\n",
       "      <td>43411</td>\n",
       "    </tr>\n",
       "    <tr>\n",
       "      <th>3</th>\n",
       "      <td>Almería</td>\n",
       "      <td>De 15 a 19 años</td>\n",
       "      <td>40722</td>\n",
       "    </tr>\n",
       "    <tr>\n",
       "      <th>4</th>\n",
       "      <td>Almería</td>\n",
       "      <td>De 20 a 24 años</td>\n",
       "      <td>41532</td>\n",
       "    </tr>\n",
       "  </tbody>\n",
       "</table>\n",
       "</div>"
      ],
      "text/plain": [
       "  Provincias Edad (grupos quinquenales)  Total\n",
       "0    Almería              De 0 a 4 años  36360\n",
       "1    Almería              De 5 a 9 años  41033\n",
       "2    Almería          De 10 a 14 años    43411\n",
       "3    Almería          De 15 a 19 años    40722\n",
       "4    Almería            De 20 a 24 años  41532"
      ]
     },
     "execution_count": 91,
     "metadata": {},
     "output_type": "execute_result"
    }
   ],
   "source": [
    "# Elimina los puntos y convierte los valores de 'Total' a enteros\n",
    "distribucion_edad_df['Total'] = distribucion_edad_df['Total'].apply(lambda x: f\"{x:.3f}\").str.replace('.', '', regex=False).astype(int)\n",
    "distribucion_edad_df.head(5)"
   ]
  },
  {
   "cell_type": "code",
   "execution_count": 92,
   "metadata": {},
   "outputs": [
    {
     "name": "stdout",
     "output_type": "stream",
     "text": [
      "Población total: 66706996 habitantes\n"
     ]
    }
   ],
   "source": [
    "# Sumatorio\n",
    "poblacion_total = distribucion_edad_df['Total'].sum()\n",
    "print(f\"Población total: {poblacion_total} habitantes\")\n"
   ]
  },
  {
   "cell_type": "markdown",
   "metadata": {},
   "source": [
    "Edad media a nivel nacional"
   ]
  },
  {
   "cell_type": "markdown",
   "metadata": {},
   "source": [
    "Número de habitantes por provincia"
   ]
  },
  {
   "cell_type": "markdown",
   "metadata": {},
   "source": [
    "<br>\n",
    "<br>\n",
    "\n",
    "#### dispositivos_renovable_df"
   ]
  },
  {
   "cell_type": "code",
   "execution_count": 93,
   "metadata": {},
   "outputs": [
    {
     "data": {
      "text/html": [
       "<div>\n",
       "<style scoped>\n",
       "    .dataframe tbody tr th:only-of-type {\n",
       "        vertical-align: middle;\n",
       "    }\n",
       "\n",
       "    .dataframe tbody tr th {\n",
       "        vertical-align: top;\n",
       "    }\n",
       "\n",
       "    .dataframe thead th {\n",
       "        text-align: right;\n",
       "    }\n",
       "</style>\n",
       "<table border=\"1\" class=\"dataframe\">\n",
       "  <thead>\n",
       "    <tr style=\"text-align: right;\">\n",
       "      <th></th>\n",
       "      <th>Provincias</th>\n",
       "      <th>Ingresos netos</th>\n",
       "      <th>Dispone de dispositivo de energía renovable</th>\n",
       "      <th>Total</th>\n",
       "    </tr>\n",
       "  </thead>\n",
       "  <tbody>\n",
       "    <tr>\n",
       "      <th>0</th>\n",
       "      <td>Albacete</td>\n",
       "      <td>3.000 euros o más</td>\n",
       "      <td>No</td>\n",
       "      <td>13390</td>\n",
       "    </tr>\n",
       "    <tr>\n",
       "      <th>1</th>\n",
       "      <td>Albacete</td>\n",
       "      <td>3.000 euros o más</td>\n",
       "      <td>Si</td>\n",
       "      <td>1344</td>\n",
       "    </tr>\n",
       "    <tr>\n",
       "      <th>2</th>\n",
       "      <td>Albacete</td>\n",
       "      <td>De 1.000 euros a menos de 1.500 euros</td>\n",
       "      <td>No</td>\n",
       "      <td>38883</td>\n",
       "    </tr>\n",
       "    <tr>\n",
       "      <th>3</th>\n",
       "      <td>Albacete</td>\n",
       "      <td>De 1.000 euros a menos de 1.500 euros</td>\n",
       "      <td>Si</td>\n",
       "      <td>2260</td>\n",
       "    </tr>\n",
       "    <tr>\n",
       "      <th>4</th>\n",
       "      <td>Albacete</td>\n",
       "      <td>De 1.500 euros a menos de 2.000 euros</td>\n",
       "      <td>No</td>\n",
       "      <td>22329</td>\n",
       "    </tr>\n",
       "    <tr>\n",
       "      <th>5</th>\n",
       "      <td>Albacete</td>\n",
       "      <td>De 1.500 euros a menos de 2.000 euros</td>\n",
       "      <td>Si</td>\n",
       "      <td>956</td>\n",
       "    </tr>\n",
       "    <tr>\n",
       "      <th>6</th>\n",
       "      <td>Albacete</td>\n",
       "      <td>De 2.000 euros a menos de 3.000 euros</td>\n",
       "      <td>No</td>\n",
       "      <td>24122</td>\n",
       "    </tr>\n",
       "    <tr>\n",
       "      <th>7</th>\n",
       "      <td>Albacete</td>\n",
       "      <td>De 2.000 euros a menos de 3.000 euros</td>\n",
       "      <td>Si</td>\n",
       "      <td>1080</td>\n",
       "    </tr>\n",
       "    <tr>\n",
       "      <th>8</th>\n",
       "      <td>Albacete</td>\n",
       "      <td>Menos de 1.000 euros</td>\n",
       "      <td>No</td>\n",
       "      <td>47531</td>\n",
       "    </tr>\n",
       "    <tr>\n",
       "      <th>9</th>\n",
       "      <td>Albacete</td>\n",
       "      <td>Menos de 1.000 euros</td>\n",
       "      <td>Si</td>\n",
       "      <td>954</td>\n",
       "    </tr>\n",
       "    <tr>\n",
       "      <th>10</th>\n",
       "      <td>Alicante/Alacant</td>\n",
       "      <td>3.000 euros o más</td>\n",
       "      <td>No</td>\n",
       "      <td>69103</td>\n",
       "    </tr>\n",
       "    <tr>\n",
       "      <th>11</th>\n",
       "      <td>Alicante/Alacant</td>\n",
       "      <td>3.000 euros o más</td>\n",
       "      <td>Si</td>\n",
       "      <td>6930</td>\n",
       "    </tr>\n",
       "  </tbody>\n",
       "</table>\n",
       "</div>"
      ],
      "text/plain": [
       "          Provincias                         Ingresos netos  \\\n",
       "0           Albacete                      3.000 euros o más   \n",
       "1           Albacete                      3.000 euros o más   \n",
       "2           Albacete  De 1.000 euros a menos de 1.500 euros   \n",
       "3           Albacete  De 1.000 euros a menos de 1.500 euros   \n",
       "4           Albacete  De 1.500 euros a menos de 2.000 euros   \n",
       "5           Albacete  De 1.500 euros a menos de 2.000 euros   \n",
       "6           Albacete  De 2.000 euros a menos de 3.000 euros   \n",
       "7           Albacete  De 2.000 euros a menos de 3.000 euros   \n",
       "8           Albacete                   Menos de 1.000 euros   \n",
       "9           Albacete                   Menos de 1.000 euros   \n",
       "10  Alicante/Alacant                      3.000 euros o más   \n",
       "11  Alicante/Alacant                      3.000 euros o más   \n",
       "\n",
       "   Dispone de dispositivo de energía renovable  Total  \n",
       "0                                           No  13390  \n",
       "1                                           Si   1344  \n",
       "2                                           No  38883  \n",
       "3                                           Si   2260  \n",
       "4                                           No  22329  \n",
       "5                                           Si    956  \n",
       "6                                           No  24122  \n",
       "7                                           Si   1080  \n",
       "8                                           No  47531  \n",
       "9                                           Si    954  \n",
       "10                                          No  69103  \n",
       "11                                          Si   6930  "
      ]
     },
     "execution_count": 93,
     "metadata": {},
     "output_type": "execute_result"
    }
   ],
   "source": [
    "# Ejemplo de los datos que presenta la tabla\n",
    "dispositivos_renovable_df.head(12)"
   ]
  },
  {
   "cell_type": "markdown",
   "metadata": {},
   "source": [
    "Queremos generar un dataset que indique el porcentaje de la provincia que utiliza dispositivos de energía renovable"
   ]
  },
  {
   "cell_type": "code",
   "execution_count": null,
   "metadata": {},
   "outputs": [],
   "source": [
    "# Paso 1: Agrupar por 'Provincias' y 'Dispone de dispositivo de energía renovable' y sumar la columna 'Total'\n",
    "resultado = dispositivos_renovable_df.groupby(['Provincias', 'Dispone de dispositivo de energía renovable'])['Total'].sum().unstack(fill_value=0)\n"
   ]
  }
 ],
 "metadata": {
  "kernelspec": {
   "display_name": "Python 3",
   "language": "python",
   "name": "python3"
  },
  "language_info": {
   "codemirror_mode": {
    "name": "ipython",
    "version": 3
   },
   "file_extension": ".py",
   "mimetype": "text/x-python",
   "name": "python",
   "nbconvert_exporter": "python",
   "pygments_lexer": "ipython3",
   "version": "3.11.8"
  }
 },
 "nbformat": 4,
 "nbformat_minor": 2
}

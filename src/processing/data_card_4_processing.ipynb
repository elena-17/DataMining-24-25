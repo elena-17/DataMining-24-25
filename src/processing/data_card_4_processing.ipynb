{
 "cells": [
  {
   "cell_type": "markdown",
   "metadata": {},
   "source": [
    "# Tarjeta de datos 4"
   ]
  },
  {
   "cell_type": "markdown",
   "metadata": {},
   "source": [
    "#### Hipótesis 4: Las provincias situadas en el sur de España (aquellas al sur de Madrid) tienden a utilizar menos dispositivos de aprovechamiento de energías renovables que las del norte.  \n",
    "\n",
    "Las diferencias climáticas entre el norte y sur de España pueden ser una variable crucial a la hora de instalar dispositivos de energía renovable pero no la única. El clima influye en cuanto a la cantidad de energía que se puede producir pero también a la consumida.\n",
    "\n",
    "Además pueden influir el ámbito socioeconómico, las provincias con mayor poder adquisitivo podrían gastarse más en energías renovables o las más pobres quieren ahorrarse en las facturas de la luz. Otra posible influencia pueden ser los tamaños familiares o la edad."
   ]
  },
  {
   "cell_type": "markdown",
   "metadata": {},
   "source": [
    "### Preparación del entorno"
   ]
  },
  {
   "cell_type": "code",
   "execution_count": null,
   "metadata": {},
   "outputs": [],
   "source": [
    "import pandas as pd\n",
    "from sklearn.preprocessing import MinMaxScaler\n",
    "import os\n",
    "import warnings\n",
    "warnings.filterwarnings(\"ignore\")\n",
    "\n",
    "DATA_PATH = os.path.join(\"..\", \"..\", \"data/silver/\")\n",
    "GOLD_DATA_PATH = os.path.join(\"..\", \"..\", \"data/gold/\")\n",
    "PROFILING_PATH = os.path.join(\"..\", \"..\", \"profiling/\")"
   ]
  },
  {
   "cell_type": "markdown",
   "metadata": {},
   "source": [
    "### Carga de Datos"
   ]
  },
  {
   "cell_type": "code",
   "execution_count": null,
   "metadata": {},
   "outputs": [],
   "source": [
    "dispositivos_df = pd.read_csv(DATA_PATH + 'dispositivos_renovable.csv', sep=';', encoding='latin')\n",
    "dispositivos_df.info()"
   ]
  },
  {
   "cell_type": "code",
   "execution_count": null,
   "metadata": {},
   "outputs": [],
   "source": [
    "renta_df = pd.read_csv(DATA_PATH + 'renta_media_hogar.csv', sep=';', encoding='latin')\n",
    "renta_df.info()"
   ]
  },
  {
   "cell_type": "code",
   "execution_count": null,
   "metadata": {},
   "outputs": [],
   "source": [
    "hogar_df = pd.read_csv(DATA_PATH + 'tipo_nucleo_familiar.csv', sep=';', encoding='latin')\n",
    "hogar_df.info()"
   ]
  },
  {
   "cell_type": "code",
   "execution_count": null,
   "metadata": {},
   "outputs": [],
   "source": [
    "edad_df = pd.read_csv(DATA_PATH + 'distribucion_edad.csv', sep=';', encoding='latin')\n",
    "edad_df.info()"
   ]
  },
  {
   "cell_type": "code",
   "execution_count": null,
   "metadata": {},
   "outputs": [],
   "source": [
    "produccion_df = pd.read_csv(DATA_PATH + 'produccion_lugar.csv', sep=';', encoding='latin')\n",
    "produccion_df.info()"
   ]
  },
  {
   "cell_type": "markdown",
   "metadata": {},
   "source": [
    "### Procesamiento"
   ]
  },
  {
   "cell_type": "markdown",
   "metadata": {},
   "source": [
    "- El dataFrame de la renta queremos normalizarlo para tener una visión global y como con todos los datos los queremos agrupados por provincias."
   ]
  },
  {
   "cell_type": "code",
   "execution_count": null,
   "metadata": {},
   "outputs": [],
   "source": [
    "scaler = MinMaxScaler()\n",
    "renta_df['Renta normalizada'] = scaler.fit_transform(renta_df[['Total']])\n",
    "renta_df = renta_df.groupby('Provincias')['Renta normalizada'].mean().reset_index()"
   ]
  },
  {
   "cell_type": "markdown",
   "metadata": {},
   "source": [
    "- Para los datos familiares vamos a juntar algunas columnas que no nos aportan nada separadas y posterior las agrupamos por provincias."
   ]
  },
  {
   "cell_type": "code",
   "execution_count": null,
   "metadata": {},
   "outputs": [],
   "source": [
    "hogar_df['Número de hijos'] = hogar_df['Número de hijos'].replace({\n",
    "    '0 hijos conviviendo': '0',\n",
    "    '1 hijo conviviendo': '1',\n",
    "    '2 o más hijos conviviendo': '2',\n",
    "    '0 hijos conviviendo menores de 25 años': '0',\n",
    "    '1 hijo conviviendo menor de 25 años': '1',\n",
    "    '2 hijos o más conviviendo menores de 25 años': '2'\n",
    "})\n",
    "hogar_df['Tipo de núcleo familiar'] = hogar_df['Tipo de núcleo familiar'].replace({\n",
    "    'Pareja casada, con o sin hijos convivientes': '2',\n",
    "    'Pareja no casada, con o sin hijos convivientes': '2',\n",
    "    'Padre sólo con hijos convivientes': '1',\n",
    "    'Madre sóla con hijos convivientes': '1'\n",
    "})\n",
    "hogar_df.rename(columns={'Tipo de núcleo familiar': 'Número de Padres'}, inplace=True)\n",
    "hogar_df = hogar_df.groupby(['Provincias', 'Número de hijos', 'Número de Padres'])['Total'].sum().reset_index()\n",
    "hogar_df['Total_Provincia'] = hogar_df.groupby('Provincias')['Total'].transform('sum')\n",
    "hogar_df['Total'] = hogar_df['Total'] / hogar_df['Total_Provincia']\n",
    "hogar_df.drop(columns=['Total_Provincia'], inplace=True)\n",
    "hogar_df['Tipo de familia'] = 'Familia de ' + hogar_df['Número de Padres'] + ' padres y ' + hogar_df['Número de hijos'] + ' hijos'\n",
    "hogar_df = hogar_df.pivot(index='Provincias', columns='Tipo de familia', values='Total')\n"
   ]
  },
  {
   "cell_type": "markdown",
   "metadata": {},
   "source": [
    "- En cuanto a la edad queremos saber un dato más significativo por provincia y por eso buscamos la mediana para lo cual tenemos que cambiar los datos de String con un rango a números. Elegimos el número medio del rango."
   ]
  },
  {
   "cell_type": "code",
   "execution_count": null,
   "metadata": {},
   "outputs": [],
   "source": [
    "edad_df['Edad (grupos quinquenales)'] = edad_df['Edad (grupos quinquenales)'].replace({\n",
    "    'De 0 a 4 años': 2,\n",
    "    'De 5 a 9 años': 7,\n",
    "    'De 10 a 14 años  ': 12,\n",
    "    'De 15 a 19 años  ': 17,\n",
    "    'De 20 a 24 años': 22,\n",
    "    'De 25 a 29 años': 27,\n",
    "    'De 30 a 34 años': 32,\n",
    "    'De 35 a 39 años': 37,\n",
    "    'De 40 a 44 años': 42,\n",
    "    'De 45 a 49 años': 47,\n",
    "    'De 50 a 54 años': 52,\n",
    "    'De 55 a 59 años': 57,\n",
    "    'De 60 a 64 años': 62,\n",
    "    'De 65 a 69 años': 67,\n",
    "    'De 70 a 74 años  ': 72,\n",
    "    'De 75 a 79 años  ': 77,\n",
    "    'De 80 a 84 años  ': 82,\n",
    "    'De 85 a 89 años  ': 87,\n",
    "    'De 90 a 94 años  ': 92,\n",
    "    'De 95 a 99 años  ': 97,\n",
    "    '100 y más años': 100\n",
    "})\n",
    "mediana_edad_df = edad_df.groupby('Provincias').apply(lambda x: x.loc[x['Total'].cumsum() >= x['Total'].sum() / 2, 'Edad (grupos quinquenales)'].iloc[0]).reset_index()\n",
    "mediana_edad_df.columns = ['Provincias', 'Mediana edad']"
   ]
  },
  {
   "cell_type": "markdown",
   "metadata": {},
   "source": [
    "- La producción tiene las provincias listadas diferentes así que las igualamos al resto. Tiene los valores divididos por meses y nos interesa el anual para no centrarnos en distintas estaciones del año por tanto hacemos la media. Y a su vez le faltan algunas provincias que las añadimos y vamos a tener valores 0."
   ]
  },
  {
   "cell_type": "code",
   "execution_count": null,
   "metadata": {},
   "outputs": [],
   "source": [
    "produccion_df['Provincia'] = produccion_df['Provincia'].replace({\n",
    "    'Alicante': 'Alicante/Alacant',\n",
    "    'Álava': 'Araba/Álava',\n",
    "    'Guipúzcoa': 'Gipuzkoa',\n",
    "    'Lérida': 'Lleida',\n",
    "    'La Rioja': 'Rioja, La',\n",
    "    'Gerona': 'Girona',\n",
    "    'Vizcaya': 'Bizkaia',\n",
    "    'Castellón': 'Castellón/Castelló',\n",
    "    'Valencia': 'Valencia/València',\n",
    "    ' Madrid': 'Madrid',\n",
    "    'La Coruña': 'Coruña, A',\n",
    "    'Orense': 'Ourense',\n",
    "    'Región de Murcia': 'Murcia'\n",
    "})\n",
    "\n",
    "produccion_agrupada = produccion_df.groupby('Provincia')['Potencia kWh'].agg(['mean']).reset_index()\n",
    "produccion_agrupada.columns = ['Provincia', 'Producción media']"
   ]
  },
  {
   "cell_type": "markdown",
   "metadata": {},
   "source": [
    "- Los dispositivos se dividen por los hogares que tienen y los que no. A nosotros nos interesa saber cuantos los tienen asi que vamos a escoger estos."
   ]
  },
  {
   "cell_type": "code",
   "execution_count": null,
   "metadata": {},
   "outputs": [],
   "source": [
    "dispositivos_agrupados = dispositivos_df.groupby(['Provincias', 'Dispone de dispositivo de energía renovable'])['Total'].sum().unstack().fillna(0)\n",
    "dispositivos_agrupados['Porcentaje con dispositivo'] = dispositivos_agrupados['Si'] / (dispositivos_agrupados['Si'] + dispositivos_agrupados['No']) * 100"
   ]
  },
  {
   "cell_type": "markdown",
   "metadata": {},
   "source": [
    "- Con todos los datasets transformados solo nos queda combinarlos en uno que lo hacemos a continuación escogiendo las columnas que nos interesan de cada uno"
   ]
  },
  {
   "cell_type": "code",
   "execution_count": null,
   "metadata": {},
   "outputs": [],
   "source": [
    "combined_df = pd.DataFrame({\n",
    "    'Provincias': dispositivos_agrupados.index,\n",
    "    'Porcentaje con dispositivo': dispositivos_agrupados['Porcentaje con dispositivo'],\n",
    "    'Renta normalizada': renta_df.set_index('Provincias')['Renta normalizada'],\n",
    "    'Mediana edad': mediana_edad_df.set_index('Provincias')['Mediana edad'],\n",
    "    'Producción media': produccion_agrupada.set_index('Provincia')['Producción media']\n",
    "}).reset_index(drop=True)\n",
    "combined_df = pd.merge(combined_df, hogar_df, on='Provincias', how='left')"
   ]
  },
  {
   "cell_type": "code",
   "execution_count": null,
   "metadata": {
    "vscode": {
     "languageId": "ruby"
    }
   },
   "outputs": [],
   "source": [
    "provincias_sur = [\n",
    "    'Albacete', 'Alicante/Alacant', 'Almería', 'Badajoz', 'Castellón/Castelló',\n",
    "    'Ciudad Real', 'Cuenca', 'Cáceres', 'Cádiz', 'Córdoba', 'Granada',\n",
    "    'Guadalajara', 'Huelva', 'Jaén', 'Murcia', 'Málaga', 'Sevilla', 'Toledo',\n",
    "    'Valencia/València'\n",
    "]\n",
    "\n",
    "provincias_norte = [\n",
    "    'Araba/Álava', 'Asturias', 'Barcelona', 'Bizkaia', 'Burgos', 'Cantabria',\n",
    "    'Coruña, A', 'Gipuzkoa', 'Girona', 'Huesca', 'León', 'Lleida', 'Lugo',\n",
    "    'Navarra', 'Ourense', 'Palencia', 'Pontevedra', 'Rioja, La', 'Salamanca',\n",
    "    'Segovia', 'Soria', 'Tarragona', 'Teruel', 'Valladolid', 'Zamora',\n",
    "    'Zaragoza', 'Ávila'\n",
    "]\n",
    "\n",
    "df_sur = combined_df[combined_df['Provincias'].isin(provincias_sur)]\n",
    "df_norte = combined_df[combined_df['Provincias'].isin(provincias_norte)]"
   ]
  },
  {
   "cell_type": "markdown",
   "metadata": {},
   "source": [
    "### Almacenamiento y profiling"
   ]
  },
  {
   "cell_type": "markdown",
   "metadata": {},
   "source": [
    "- Guardamos el datafram combined_df en la carpeta de datos gold como data_card_4_df.csv"
   ]
  },
  {
   "cell_type": "code",
   "execution_count": null,
   "metadata": {},
   "outputs": [],
   "source": [
    "with open(GOLD_DATA_PATH + \"data_card_4_df.csv\", \"w\") as f:\n",
    "    combined_df.to_csv(f, sep=';', encoding='utf-8')"
   ]
  },
  {
   "cell_type": "code",
   "execution_count": null,
   "metadata": {},
   "outputs": [],
   "source": [
    "from  ydata_profiling import ProfileReport\n",
    "\n",
    "profile = ProfileReport(combined_df, title=\"Data Card 4 Profiling Report\")\n",
    "profile.to_file(PROFILING_PATH + \"data_card_4_profile_report.html\")"
   ]
  }
 ],
 "metadata": {
  "kernelspec": {
   "display_name": ".venv",
   "language": "python",
   "name": "python3"
  },
  "language_info": {
   "codemirror_mode": {
    "name": "ipython",
    "version": 3
   },
   "file_extension": ".py",
   "mimetype": "text/x-python",
   "name": "python",
   "nbconvert_exporter": "python",
   "pygments_lexer": "ipython3",
   "version": "3.12.6"
  }
 },
 "nbformat": 4,
 "nbformat_minor": 2
}

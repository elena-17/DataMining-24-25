{
 "cells": [
  {
   "cell_type": "code",
   "execution_count": null,
   "metadata": {},
   "outputs": [],
   "source": [
    "import pandas as pd\n",
    "import matplotlib.pyplot as plt\n",
    "import os \n",
    "import numpy as np\n",
    "\n",
    "GOLD_DATA_PATH = os.path.join(\"..\", \"..\", \"data/gold/\")"
   ]
  },
  {
   "cell_type": "code",
   "execution_count": null,
   "metadata": {},
   "outputs": [],
   "source": [
    "df4 = pd.read_csv(GOLD_DATA_PATH + \"data_card_4_df.csv\", sep=\";\", encoding = 'latin')"
   ]
  },
  {
   "cell_type": "code",
   "execution_count": null,
   "metadata": {},
   "outputs": [],
   "source": [
    "df4 = df4.drop(columns=[\"Unnamed: 0\"])\n",
    "df4.set_index(\"Provincias\", inplace=True)\n",
    "df4.head()"
   ]
  },
  {
   "cell_type": "code",
   "execution_count": null,
   "metadata": {},
   "outputs": [],
   "source": [
    "from sklearn.preprocessing import MinMaxScaler\n",
    "scaler = MinMaxScaler()\n",
    "df4['Producción media'] = scaler.fit_transform(df4['Producción media'].values.reshape(-1, 1))\n",
    "df4['Porcentaje con dispositivo'] = scaler.fit_transform(df4['Porcentaje con dispositivo'].values.reshape(-1, 1))\n",
    "df4['Mediana edad'] = scaler.fit_transform(df4['Mediana edad'].values.reshape(-1, 1))"
   ]
  },
  {
   "cell_type": "code",
   "execution_count": null,
   "metadata": {},
   "outputs": [],
   "source": [
    "from sklearn.decomposition import PCA\n",
    "from sklearn.preprocessing import StandardScaler\n",
    "scaler = StandardScaler()\n",
    "df4_scaled = scaler.fit_transform(df4)\n",
    "estimator = PCA(n_components=2)\n",
    "X_pca = estimator.fit_transform(df4_scaled)\n",
    "print(estimator.explained_variance_ratio_)\n",
    "pd.DataFrame(np.matrix.transpose(estimator.components_), columns=['PC-1', 'PC-2'], index=df4.columns)\n"
   ]
  },
  {
   "cell_type": "code",
   "execution_count": null,
   "metadata": {},
   "outputs": [],
   "source": [
    "fig, ax = plt.subplots()\n",
    "ax.scatter(X_pca[:,0], X_pca[:,1], s=50)\n",
    "\n",
    "# anotación \n",
    "for i in range(0, len(X_pca)):\n",
    "    ax.annotate(df4.iloc[i, :].name, (X_pca[i, 0], X_pca[i, 1]), fontsize=8)"
   ]
  },
  {
   "cell_type": "code",
   "execution_count": null,
   "metadata": {},
   "outputs": [],
   "source": [
    "from scipy.cluster.hierarchy import dendrogram, linkage\n",
    "\n",
    "link_matrix_avg = linkage(df4, method='ward', metric='euclidean')\n",
    "plt.figure(figsize=(8, 5))\n",
    "dendrogram(link_matrix_avg, labels=df4.index)\n",
    "plt.show()"
   ]
  },
  {
   "cell_type": "code",
   "execution_count": null,
   "metadata": {},
   "outputs": [],
   "source": [
    "from scipy.cluster.hierarchy import dendrogram, linkage\n",
    "\n",
    "link_matrix = linkage(df4, method='single', metric='euclidean')\n",
    "plt.figure(figsize=(8, 5))\n",
    "dendrogram(link_matrix, labels=df4.index)\n",
    "plt.show()"
   ]
  },
  {
   "cell_type": "code",
   "execution_count": null,
   "metadata": {},
   "outputs": [],
   "source": [
    "from scipy.cluster.hierarchy import dendrogram, linkage\n",
    "\n",
    "link_matrix = linkage(df4, method='complete', metric='euclidean')\n",
    "plt.figure(figsize=(8, 5))\n",
    "dendrogram(link_matrix, labels=df4.index)\n",
    "plt.show()"
   ]
  },
  {
   "cell_type": "code",
   "execution_count": null,
   "metadata": {},
   "outputs": [],
   "source": [
    "from scipy.cluster.hierarchy import dendrogram, linkage\n",
    "\n",
    "link_matrix = linkage(df4, method='average', metric='euclidean')\n",
    "plt.figure(figsize=(8, 5))\n",
    "dendrogram(link_matrix, labels=df4.index)\n",
    "plt.show()"
   ]
  },
  {
   "cell_type": "code",
   "execution_count": null,
   "metadata": {},
   "outputs": [],
   "source": [
    "from scipy.cluster.hierarchy import fcluster\n",
    "import numpy as np\n",
    "\n",
    "# Realizar el clustering jerárquico (usando la matriz de enlace creada previamente)\n",
    "# 'linkage_matrix' debe estar calculada con el método 'ward' u otro método.\n",
    "# # Paso 1: Generar muchos clusters inicialmente (granularidad alta)\n",
    "# clusters_granular = fcluster(link_matrix_avg, t=10, criterion='maxclust')  # Generar 10 clusters\n",
    "\n",
    "# # Agregar los clusters al DataFrame original para observar los resultados\n",
    "# df4[\"Cluster_Granular\"] = clusters_granular\n",
    "# df4_reset = df4.reset_index()  # Reset the index to access \"Provincias\" column\n",
    "# print(\"Clusters iniciales con granularidad alta:\")\n",
    "# print(df4_reset[[\"Provincias\", \"Cluster_Granular\"]])"
   ]
  },
  {
   "cell_type": "code",
   "execution_count": null,
   "metadata": {},
   "outputs": [],
   "source": [
    "# # Paso 2: Reagrupar o inspeccionar los clusters manualmente\n",
    "# # Aquí observamos los tamaños de los clusters\n",
    "# cluster_sizes = df4[\"Cluster_Granular\"].value_counts()\n",
    "# print(\"\\nTamaño de cada cluster inicial:\")\n",
    "# print(cluster_sizes)"
   ]
  },
  {
   "cell_type": "code",
   "execution_count": null,
   "metadata": {},
   "outputs": [],
   "source": [
    "# Paso 3: Cortar a un nivel lógico, por ejemplo, para obtener 5 clusters\n",
    "clusters_final = fcluster(link_matrix_avg, t=4, criterion='maxclust')  # Cortar a 5 clusters"
   ]
  },
  {
   "cell_type": "code",
   "execution_count": null,
   "metadata": {},
   "outputs": [],
   "source": [
    "# tratamos el cluster -1 como cluster de outliers\n",
    "from sklearn import metrics\n",
    "n_clusters_ = len(set(clusters_final)) - (1 if -1 in clusters_final else 0)\n",
    "print('Estimated number of clusters: %d' % n_clusters_)\n",
    "print(\"Silhouette Coefficient: %0.3f\"\n",
    "      % metrics.silhouette_score(df4, clusters_final))"
   ]
  },
  {
   "cell_type": "code",
   "execution_count": null,
   "metadata": {},
   "outputs": [],
   "source": [
    "#plotting orginal points with color related to label\n",
    "scatter = plt.scatter(X_pca[:,0], X_pca[:,1], c=clusters_final, s=50)\n",
    "plt.legend(*scatter.legend_elements(), title=\"Clusters\", bbox_to_anchor=(1.05, 1), loc='upper left')\n",
    "plt.show()"
   ]
  },
  {
   "cell_type": "code",
   "execution_count": null,
   "metadata": {},
   "outputs": [],
   "source": [
    "df4[\"Cluster\"] = clusters_final\n",
    "res = df4[['Producción media', 'Porcentaje con dispositivo', 'Mediana edad', 'Cluster']].groupby('Cluster').mean()\n",
    "res.plot(kind='bar', legend=True, xlabel='Cluster', ylabel='Media', title='Media de las variables por cluster')\n",
    "plt.legend(bbox_to_anchor=(1.05, 1), loc='upper left')\n",
    "plt.show()"
   ]
  },
  {
   "cell_type": "code",
   "execution_count": null,
   "metadata": {},
   "outputs": [],
   "source": [
    "df4[\"Cluster\"] = clusters_final\n",
    "res = df4[['Familia de 1 padres y 0 hijos','Familia de 1 padres y 1 hijos','Familia de 1 padres y 2 hijos','Familia de 2 padres y 0 hijos','Familia de 2 padres y 1 hijos','Familia de 2 padres y 2 hijos', 'Cluster']].groupby('Cluster').mean()\n",
    "res.plot(kind='bar', legend=True, xlabel='Cluster', ylabel='Media', title='Media de las variables por cluster')\n",
    "plt.legend(bbox_to_anchor=(1.05, 1), loc='upper left')\n",
    "plt.show()"
   ]
  },
  {
   "cell_type": "code",
   "execution_count": null,
   "metadata": {},
   "outputs": [],
   "source": [
    "cluster_1 = df4[df4['Cluster'] == 1]\n",
    "cluster_2 = df4[df4['Cluster'] == 2]\n",
    "cluster_3 = df4[df4['Cluster'] == 3]\n",
    "cluster_4 = df4[df4['Cluster'] == 4]"
   ]
  },
  {
   "cell_type": "code",
   "execution_count": null,
   "metadata": {},
   "outputs": [],
   "source": [
    "cluster_1"
   ]
  },
  {
   "cell_type": "code",
   "execution_count": null,
   "metadata": {},
   "outputs": [],
   "source": [
    "df4[[\"Cluster\"]].to_csv(\"clusters_mapa.csv\")"
   ]
  }
 ],
 "metadata": {
  "kernelspec": {
   "display_name": ".venv",
   "language": "python",
   "name": "python3"
  },
  "language_info": {
   "codemirror_mode": {
    "name": "ipython",
    "version": 3
   },
   "file_extension": ".py",
   "mimetype": "text/x-python",
   "name": "python",
   "nbconvert_exporter": "python",
   "pygments_lexer": "ipython3",
   "version": "3.12.6"
  }
 },
 "nbformat": 4,
 "nbformat_minor": 2
}

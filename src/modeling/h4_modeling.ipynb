{
 "cells": [
  {
   "cell_type": "markdown",
   "metadata": {},
   "source": [
    "# Hipótesis 4"
   ]
  },
  {
   "cell_type": "markdown",
   "metadata": {},
   "source": [
    "#### \"Las provincias situadas en el sur de España (aquellas al sur de Madrid) tienden a utilizar menos dispositivos de aprovechamiento de energía renovable que las del norte.\" \n",
    "\n",
    "Las diferencias climáticas entre el norte y sur de España pueden ser una variable crucial a la hora de instalar dispositivos de energía renovable pero no la única. El clima influye en la cantidad de energía que se puede producir pero también en la que se consume.\n",
    "\n",
    "Además puede influir el ámbito socioeconómico, las provincias con mayor poder adquisitivo podrían gastarse más en energía renovable o las más pobres podrían estar motivadas por el ahorro en la factura de la luz. Otras posibles factores de influencia, pueden ser los tamaños familiares o la edad."
   ]
  },
  {
   "cell_type": "markdown",
   "metadata": {},
   "source": [
    "Con estos factores, se pretende agrupar las provincias mediante clustering y ver si se pueden diferenciar entre las del norte y sur de España y las características que las definen."
   ]
  },
  {
   "cell_type": "markdown",
   "metadata": {},
   "source": [
    "## Preparación del entorno"
   ]
  },
  {
   "cell_type": "code",
   "execution_count": null,
   "metadata": {},
   "outputs": [],
   "source": [
    "import os \n",
    "import pandas as pd\n",
    "import matplotlib.pyplot as plt\n",
    "import numpy as np\n",
    "import seaborn as sns\n",
    "import scipy\n",
    "from scipy.cluster.hierarchy import dendrogram, linkage, fcluster\n",
    "from sklearn.metrics import silhouette_score\n",
    "\n",
    "GOLD_DATA_PATH = os.path.join(\"..\", \"..\", \"data/gold/\")"
   ]
  },
  {
   "cell_type": "markdown",
   "metadata": {},
   "source": [
    "## Datos\n",
    "\n",
    "Los datos que se usarán están en el dataset de la tarjeta de datos 4: `data_card_4_df.csv`"
   ]
  },
  {
   "cell_type": "code",
   "execution_count": null,
   "metadata": {},
   "outputs": [],
   "source": [
    "# Cargar de los datos\n",
    "df4 = pd.read_csv(GOLD_DATA_PATH + \"data_card_4_df.csv\", sep=\";\", encoding = 'latin')\n",
    "df4.info()"
   ]
  },
  {
   "cell_type": "code",
   "execution_count": null,
   "metadata": {},
   "outputs": [],
   "source": [
    "# Formateado de la tabla\n",
    "df4 = df4.drop(columns=[\"Unnamed: 0\"])\n",
    "df4.set_index(\"Provincias\", inplace=True)\n",
    "df4.head(3)"
   ]
  },
  {
   "cell_type": "markdown",
   "metadata": {},
   "source": [
    "### Estandarización de los datos\n",
    "\n",
    "Cada variable tiene una escala diferente, por lo que es necesario estandarizar los datos para que todas tengan la misma importancia en el análisis.\n",
    "Se ha elegido el MinMaxScaler para que los valores estén entre 0 y 1, intentando modificar lo menos posible la distribución de los datos.\n"
   ]
  },
  {
   "cell_type": "code",
   "execution_count": null,
   "metadata": {},
   "outputs": [],
   "source": [
    "# Escalado de los datos a un rango de 0 a 1\n",
    "from sklearn.preprocessing import MinMaxScaler\n",
    "\n",
    "scaler = MinMaxScaler()\n",
    "scaled_data = scaler.fit_transform(df4)\n",
    "df4_scaled = pd.DataFrame(scaled_data, columns=df4.columns)\n",
    "\n",
    "df4_scaled.head(3)"
   ]
  },
  {
   "cell_type": "markdown",
   "metadata": {},
   "source": [
    "### Análisis de componentes principales (PCA)\n",
    "\n",
    "Para reducir la dimensionalidad de los datos y poder visualizarlos, se aplicará PCA. La representación se hará tanto en 2D como en 3D."
   ]
  },
  {
   "cell_type": "code",
   "execution_count": null,
   "metadata": {},
   "outputs": [],
   "source": [
    "# Calculo de PCA\n",
    "from sklearn.decomposition import PCA\n",
    "\n",
    "estimator = PCA(n_components=3)\n",
    "X_pca = estimator.fit_transform(scaled_data)\n",
    "\n",
    "print(\"Porcentaje de varianza explicado por cada componente:\\n\", estimator.explained_variance_ratio_)\n",
    "pd.DataFrame(np.matrix.transpose(estimator.components_), index=df4.columns)"
   ]
  },
  {
   "cell_type": "code",
   "execution_count": null,
   "metadata": {},
   "outputs": [],
   "source": [
    "#Representación 2D\n",
    "fig, ax = plt.subplots()\n",
    "ax.scatter(X_pca[:,0], X_pca[:,1], s=50)\n",
    "\n",
    "# anotación \n",
    "for i in range(0, len(X_pca)):\n",
    "    ax.annotate(df4.iloc[i, :].name, (X_pca[i, 0], X_pca[i, 1]), fontsize=8)"
   ]
  },
  {
   "cell_type": "code",
   "execution_count": null,
   "metadata": {},
   "outputs": [],
   "source": [
    "# Representación 3D\n",
    "import plotly.express as px\n",
    "\n",
    "fig = px.scatter_3d(df4, x=X_pca[:,0], y=X_pca[:,1], z=X_pca[:,2], color=df4.index, color_discrete_sequence=px.colors.qualitative.Alphabet)\n",
    "fig.show()"
   ]
  },
  {
   "cell_type": "markdown",
   "metadata": {},
   "source": [
    "## Modelado"
   ]
  },
  {
   "cell_type": "markdown",
   "metadata": {},
   "source": [
    "### Clustering jerárquico"
   ]
  },
  {
   "cell_type": "markdown",
   "metadata": {},
   "source": [
    "Para el clustering jerárquico se usará el método de Ward, que minimiza la varianza intra-cluster. Y la métrica de distancia será la euclídea."
   ]
  },
  {
   "cell_type": "code",
   "execution_count": null,
   "metadata": {},
   "outputs": [],
   "source": [
    "# Creación del dendrograma\n",
    "link_matrix_avg = linkage(scaled_data, method='ward', metric='euclidean')\n",
    "\n",
    "plt.figure(figsize=(8, 5))\n",
    "dendrogram(link_matrix_avg, labels=df4.index)\n",
    "plt.show()"
   ]
  },
  {
   "cell_type": "code",
   "execution_count": null,
   "metadata": {},
   "outputs": [],
   "source": [
    "# probar varias configuraciones de clusters cambiando n\n",
    "n = 2\n",
    "clusters = fcluster(link_matrix_avg, t=n, criterion='maxclust')\n",
    "coef = silhouette_score(df4_scaled, clusters)\n",
    "print(f\"Coeficiente de silhouette para {n} clusters: {coef:.4f}\")"
   ]
  },
  {
   "cell_type": "code",
   "execution_count": null,
   "metadata": {},
   "outputs": [],
   "source": [
    "# visualización del resultado\n",
    "plt.figure(figsize=(8, 5))\n",
    "scatter = plt.scatter(X_pca[:,0], X_pca[:,1], s=50, c=clusters, cmap='plasma_r')\n",
    "\n",
    "# nombres de las provincias \n",
    "for i in range(0, len(X_pca)):\n",
    "    plt.annotate(df4.iloc[i, :].name, (X_pca[i, 0], X_pca[i, 1]), fontsize=8)\n",
    "\n",
    "handles, labels = scatter.legend_elements()\n",
    "legend = plt.legend(handles, labels, title=\"Clusters\", bbox_to_anchor=(1.05, 1), loc='upper left')\n",
    "\n",
    "plt.show()"
   ]
  },
  {
   "cell_type": "code",
   "execution_count": null,
   "metadata": {},
   "outputs": [],
   "source": [
    "import plotly.express as px\n",
    "\n",
    "fig = px.scatter_3d(df4, x=X_pca[:,0], y=X_pca[:,1], z=X_pca[:,2], color=clusters, color_continuous_scale='plasma_r')\n",
    "fig.show()"
   ]
  },
  {
   "cell_type": "markdown",
   "metadata": {},
   "source": [
    "## Resultados"
   ]
  },
  {
   "cell_type": "markdown",
   "metadata": {},
   "source": [
    "Mapa de la península con las provincias coloreadas según el cluster al que pertenecen.   \n",
    "![img](img/Edad_mediana_2C.png)"
   ]
  },
  {
   "cell_type": "code",
   "execution_count": null,
   "metadata": {},
   "outputs": [],
   "source": [
    "df4_scaled['Cluster'] = clusters\n",
    "df4_melted = df4_scaled.melt(id_vars=\"Cluster\", var_name=\"Variable\", value_name=\"Valor\")\n",
    "plt.figure(figsize=(12, 6))\n",
    "sns.boxplot(x=\"Variable\", y=\"Valor\", hue=\"Cluster\", data=df4_melted, palette=\"Set3\")\n",
    "plt.title(\"Distribución de las variables por cluster (estandarizadas)\")\n",
    "plt.xticks(rotation=90)\n",
    "plt.show()"
   ]
  },
  {
   "cell_type": "markdown",
   "metadata": {},
   "source": [
    "**Extra**\n",
    "\n",
    "Este sería el resultado si se hubieran elegido 3 clusters. Es difícil interpretarlo.\n",
    "\n",
    "![img](img/Edad_mediana_3C.png)"
   ]
  }
 ],
 "metadata": {
  "kernelspec": {
   "display_name": ".venv",
   "language": "python",
   "name": "python3"
  },
  "language_info": {
   "codemirror_mode": {
    "name": "ipython",
    "version": 3
   },
   "file_extension": ".py",
   "mimetype": "text/x-python",
   "name": "python",
   "nbconvert_exporter": "python",
   "pygments_lexer": "ipython3",
   "version": "3.12.6"
  }
 },
 "nbformat": 4,
 "nbformat_minor": 2
}

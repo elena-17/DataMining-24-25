{
 "cells": [
  {
   "cell_type": "markdown",
   "metadata": {},
   "source": [
    "# Hipótesis 4"
   ]
  },
  {
   "cell_type": "markdown",
   "metadata": {},
   "source": [
    "#### \"Las provincias situadas en el sur de España (aquellas al sur de Madrid) tienden a utilizar menos dispositivos de aprovechamiento de energía renovable que las del norte.\" \n",
    "\n",
    "Las diferencias climáticas entre el norte y sur de España pueden ser una variable crucial a la hora de instalar dispositivos de energía renovable pero no la única. El clima influye en la cantidad de energía que se puede producir pero también en la que se consume.\n",
    "\n",
    "Además puede influir el ámbito socioeconómico, las provincias con mayor poder adquisitivo podrían gastarse más en energía renovable o las más pobres podrían estar motivadas por el ahorro en la factura de la luz. Otras posibles factores de influencia, pueden ser los tamaños familiares o la edad."
   ]
  },
  {
   "cell_type": "markdown",
   "metadata": {},
   "source": [
    "## Preparación del entorno"
   ]
  },
  {
   "cell_type": "code",
   "execution_count": null,
   "metadata": {},
   "outputs": [],
   "source": [
    "import os \n",
    "import pandas as pd\n",
    "import matplotlib.pyplot as plt\n",
    "import numpy as np\n",
    "import seaborn as sns\n",
    "import scipy\n",
    "from scipy.cluster.hierarchy import dendrogram, linkage, fcluster\n",
    "from sklearn.metrics import silhouette_score, DistanceMetric\n",
    "\n",
    "from datawrapper import Datawrapper\n",
    "\n",
    "GOLD_DATA_PATH = os.path.join(\"..\", \"..\", \"data/gold/\")"
   ]
  },
  {
   "cell_type": "markdown",
   "metadata": {},
   "source": [
    "## Datos\n",
    "\n",
    "Los datos tendrá como base la tarjeta de datos 4 (`data_card_4_df.csv`), de la que se eliminará la variable edad para añadir la variable de `Edad media` de la tarjeta de datos 1 (`data_card_1_df.csv`).\n",
    "\n",
    "La mediana es una medida más representativa que la media, al no estar influida por valores extremos. Sin embargo, en este caso, la forma de calcular la mediana en el paso de preprocesamiento, hace que la variable de edad esté segmentada en: 42, 47 y 52 años. Por esto, se ha decidido utilizar la media, con valores continuos, y comparar los resultados con los obtenidos usando la mediana."
   ]
  },
  {
   "cell_type": "code",
   "execution_count": null,
   "metadata": {},
   "outputs": [],
   "source": [
    "# cargar los datos\n",
    "df1 = pd.read_csv(GOLD_DATA_PATH + \"data_card_1_df.csv\", sep=\";\", encoding = 'latin')\n",
    "\n",
    "df4 = pd.read_csv(GOLD_DATA_PATH + \"data_card_4_df.csv\", sep=\";\", encoding = 'latin')\n",
    "df4.drop(columns=[\"Unnamed: 0\"], inplace=True)"
   ]
  },
  {
   "cell_type": "code",
   "execution_count": null,
   "metadata": {},
   "outputs": [],
   "source": [
    "# comprobamos valores de edad mediana\n",
    "print(\"Valores de la columna de edad mediana: \",df4['Mediana edad'].unique())\n",
    "print(\"Valores de la columna de edad media: \",df1['Edad media'].unique())\n",
    "df4.drop(columns=[\"Mediana edad\"], inplace=True)"
   ]
  },
  {
   "cell_type": "code",
   "execution_count": null,
   "metadata": {},
   "outputs": [],
   "source": [
    "# sustituir la variable edad\n",
    "df4 = pd.concat([df4, df1['Edad media']], axis=1)\n",
    "df4.set_index('Provincias', inplace=True)"
   ]
  },
  {
   "cell_type": "code",
   "execution_count": null,
   "metadata": {},
   "outputs": [],
   "source": [
    "df4.head()"
   ]
  },
  {
   "cell_type": "markdown",
   "metadata": {},
   "source": [
    "## Análisis de datos con clasificación manual"
   ]
  },
  {
   "cell_type": "markdown",
   "metadata": {},
   "source": [
    "En principio, consideramos la siguiente división de provincias en el norte y sur de España:"
   ]
  },
  {
   "cell_type": "code",
   "execution_count": null,
   "metadata": {},
   "outputs": [],
   "source": [
    "norte=['Araba/Álava', 'Asturias', 'Barcelona', 'Bizkaia', 'Burgos', 'Cantabria', 'Coruña, A', 'Gipuzkoa', 'Girona', 'Guadalajara', 'Huesca', 'León', 'Lleida', 'Lugo', 'Navarra', 'Ourense', 'Palencia', 'Pontevedra', 'Rioja, La', 'Salamanca', 'Segovia', 'Soria', 'Tarragona', 'Teruel', 'Valladolid', 'Zamora', 'Zaragoza', 'Ávila']\n",
    "\n",
    "df4['Grupo'] = [0 if x in norte else 1 for x in df4.index]"
   ]
  },
  {
   "cell_type": "code",
   "execution_count": null,
   "metadata": {},
   "outputs": [],
   "source": [
    "df4.groupby('Grupo').mean()"
   ]
  },
  {
   "cell_type": "code",
   "execution_count": null,
   "metadata": {},
   "outputs": [],
   "source": [
    "mean_dispositivo = df4.groupby('Grupo').mean()['Porcentaje con dispositivo']\n",
    "mean_dispositivo.plot(kind='bar', color=['blue', 'red'], alpha=0.8)\n",
    "plt.title('Porcentaje de hogares con dispositivo por grupo')\n",
    "plt.xticks([0, 1], ['Norte', 'Sur'], rotation=0)\n",
    "plt.show()"
   ]
  },
  {
   "cell_type": "markdown",
   "metadata": {},
   "source": [
    "Los datos muestran que la implantación de energías renovables es muy similar, aunque en el sur es mayor. Sin embargo, la división hecha puede no ser la más adecuada ya que el criterio de división es muy subjetivo. Por ello, se realizará un análisis de clustering para determinar la división más adecuada."
   ]
  },
  {
   "cell_type": "code",
   "execution_count": null,
   "metadata": {},
   "outputs": [],
   "source": [
    "df4.drop(columns=['Grupo'], inplace=True)"
   ]
  },
  {
   "cell_type": "markdown",
   "metadata": {},
   "source": [
    "## Estandarización de los datos"
   ]
  },
  {
   "cell_type": "code",
   "execution_count": null,
   "metadata": {},
   "outputs": [],
   "source": [
    "sns.pairplot(df4, diag_kind='kde')"
   ]
  },
  {
   "cell_type": "markdown",
   "metadata": {},
   "source": [
    "Cada variable tiene una escala diferente, por lo que es necesario estandarizar los datos para que todas tengan la misma importancia en el análisis.\n",
    "Se ha elegido el MinMaxScaler para que los valores estén entre 0 y 1, intentando modificar lo menos posible la distribución de los datos."
   ]
  },
  {
   "cell_type": "code",
   "execution_count": null,
   "metadata": {},
   "outputs": [],
   "source": [
    "# Escalado de los datos a un rango de 0 a 1\n",
    "from sklearn.preprocessing import MinMaxScaler\n",
    "\n",
    "scaler = MinMaxScaler()\n",
    "scaled_data = scaler.fit_transform(df4)\n",
    "df4_scaled = pd.DataFrame(scaled_data, columns=df4.columns, index=df4.index)\n",
    "\n",
    "df4_scaled.head(3)"
   ]
  },
  {
   "cell_type": "markdown",
   "metadata": {},
   "source": [
    "## Análisis de componentes principales\n",
    "\n",
    "Para reducir la dimensionalidad de los datos y poder visualizarlos, se aplicará PCA con 2 componentes."
   ]
  },
  {
   "cell_type": "code",
   "execution_count": null,
   "metadata": {},
   "outputs": [],
   "source": [
    "# Calculo de PCA\n",
    "from sklearn.decomposition import PCA\n",
    "\n",
    "estimator = PCA(n_components=2)\n",
    "X_pca = estimator.fit_transform(scaled_data)\n",
    "\n",
    "print(\"Porcentaje de varianza explicado por cada componente:\\n\", estimator.explained_variance_ratio_)\n",
    "pd.DataFrame(np.matrix.transpose(estimator.components_), index=df4.columns)"
   ]
  },
  {
   "cell_type": "code",
   "execution_count": null,
   "metadata": {},
   "outputs": [],
   "source": [
    "#Representación 2D\n",
    "fig, ax = plt.subplots()\n",
    "ax.scatter(X_pca[:,0], X_pca[:,1], s=50)\n",
    "\n",
    "# anotación \n",
    "for i in range(0, len(X_pca)):\n",
    "    ax.annotate(df4.iloc[i, :].name, (X_pca[i, 0], X_pca[i, 1]), fontsize=8)\n",
    "ax.set_title(\"Representación 2D de los datos\")"
   ]
  },
  {
   "cell_type": "markdown",
   "metadata": {},
   "source": [
    "Si se compara este gráfico con el que se obtiene con la mediana, es una versión espejada.\n",
    "\n",
    "> 💡 **NOTA**  \n",
    "> El gráfico de la mediana junto con otras técnicas de clustering que se han ejecutado para validar la hipótesis están en el archivo `h4_modeling_otros.ipynb`."
   ]
  },
  {
   "cell_type": "markdown",
   "metadata": {},
   "source": [
    "## Modelado"
   ]
  },
  {
   "cell_type": "markdown",
   "metadata": {},
   "source": [
    "### Clustering jerárquico\n",
    "\n",
    "Hemos elegido el clustering jerárquico porque es más flexible a la hora de definir los grupos, no necesita definir el número de clusters de antemano y permite ver cómo se agrupan los datos a diferentes niveles de granularidad. Además, el volumen de datos es pequeño, por lo que la complejidad computacional no es un problema.\t\n",
    "\n",
    "El clustering con KMeans es más sensible a la inicialización de los centroides, a la elección del número de clusters y a la presencia de outliers. Además, los clusters que se forman son esféricos y al tener pocos datos, no es necesario asumir esta forma, de hecho en la visualización con PCA se ve que el algoritmo ha dividido los datos simplemente por la mitad del gráfico.\n",
    "\n",
    "Para el clustering jerárquico se usará el método de Ward, que minimiza la varianza intra-cluster. Y la métrica de distancia será la euclídea."
   ]
  },
  {
   "cell_type": "code",
   "execution_count": null,
   "metadata": {},
   "outputs": [],
   "source": [
    "# distancia euclidea entre las provincias\n",
    "dist = DistanceMetric.get_metric('euclidean')\n",
    "matsim = dist.pairwise(scaled_data)\n",
    "ax = sns.heatmap(matsim,vmin=0, vmax=1)\n",
    "plt.show()"
   ]
  },
  {
   "cell_type": "markdown",
   "metadata": {},
   "source": [
    "En el gráfico predominan los colores claros, lo que indica que en general, las provincias están bastante distantes entre sí. A continuación, se mostrará un dendrograma para ver la jerarquía de los clusters."
   ]
  },
  {
   "cell_type": "code",
   "execution_count": null,
   "metadata": {},
   "outputs": [],
   "source": [
    "# metodo ward y dendrograma\n",
    "link_matrix_avg = linkage(df4_scaled, method='ward', metric='euclidean')\n",
    "\n",
    "plt.figure(figsize=(8, 5))\n",
    "dendrogram(link_matrix_avg, labels=df4_scaled.index)\n",
    "plt.title('Dendrograma jerárquico')\n",
    "plt.ylabel('Distancia euclidea')\n",
    "plt.show()"
   ]
  },
  {
   "cell_type": "markdown",
   "metadata": {},
   "source": [
    "El dendrograma muestra que hay 2 clusters. \n",
    "\n",
    "Se calculará el coeficiente de silhouette para evaluar la calidad del distintas configuraciones de clusters."
   ]
  },
  {
   "cell_type": "code",
   "execution_count": null,
   "metadata": {},
   "outputs": [],
   "source": [
    "# Visualización de diferente número de clusters\n",
    "fig, axes = plt.subplots(2, 4, figsize=(20, 10))\n",
    "axes = axes.flatten()\n",
    "\n",
    "for i in range(2, 10):\n",
    "    clusters = fcluster(link_matrix_avg, t=i, criterion='maxclust')  # Generar i clusters\n",
    "    scatter = axes[i-2].scatter(X_pca[:, 0], X_pca[:, 1], c=clusters, s=50, cmap='rainbow')\n",
    "    coef = silhouette_score(df4_scaled, clusters)\n",
    "    axes[i-2].legend(*scatter.legend_elements(), title=\"Clusters\")\n",
    "    axes[i-2].set_title(f'{i} Clusters score: {coef:.3f}')\n",
    "\n",
    "plt.tight_layout()\n",
    "plt.show()"
   ]
  },
  {
   "cell_type": "markdown",
   "metadata": {},
   "source": [
    "De todas las combinaciones mostradas, desde 2 a 10 clusters, el gráfico muestra que la configuración con 2 clusters es la que tiene un coeficiente de silhouette más alto, con un valor de 0.329. Aunque este valor no es muy alto, es el más alto de todos."
   ]
  },
  {
   "cell_type": "code",
   "execution_count": null,
   "metadata": {},
   "outputs": [],
   "source": [
    "# seleccionamos 2 clusters usando el criterio de maxclust\n",
    "clusters = fcluster(link_matrix_avg, t=2, criterion='maxclust')"
   ]
  },
  {
   "cell_type": "code",
   "execution_count": null,
   "metadata": {},
   "outputs": [],
   "source": [
    "# visualización del resultado\n",
    "plt.figure(figsize=(8, 5))\n",
    "scatter = plt.scatter(X_pca[:,0], X_pca[:,1], s=50, c=clusters, cmap='plasma_r')\n",
    "\n",
    "# nombres de las provincias \n",
    "for i in range(0, len(X_pca)):\n",
    "    plt.annotate(df4.iloc[i, :].name, (X_pca[i, 0], X_pca[i, 1]), fontsize=8)\n",
    "\n",
    "handles, labels = scatter.legend_elements()\n",
    "legend = plt.legend(handles, labels, title=\"Clusters\", bbox_to_anchor=(1, 1), loc='upper left')\n",
    "plt.title('Clustering jerárquico con 2 clusters')\n",
    "plt.show()"
   ]
  },
  {
   "cell_type": "markdown",
   "metadata": {},
   "source": [
    "## Resultados"
   ]
  },
  {
   "attachments": {
    "Jerarquico_edad_media_2C.png": {
     "image/png": "[encoded data removed]"
    }
   },
   "cell_type": "markdown",
   "metadata": {},
   "source": [
    "![Jerarquico edad media 2C](attachment:Jerarquico_edad_media_2C.png)"
   ]
  },
  {
   "cell_type": "markdown",
   "metadata": {},
   "source": [
    "Estos resultados indican que sí se pueden agrupar las provincias en 2 grupos de norte y sur, aunque los grupos no son los que habíamos definido en la hipótesis inicial. En el mapa las provincias con una sombra gris son las que originalmente pertenencían al grupo del sur, y el resto al del norte. \n",
    "\n",
    "Sin embargo, los colores indican dos grupos: noroeste y el resto de la península. En el noroeste están las provincias de Asturias, Ourense, Lugo, A Coruña, Pontevedra, Cantabria, León y Zamora.\n",
    "\n",
    "A continuación, se analizarán las características de los clusters."
   ]
  },
  {
   "cell_type": "code",
   "execution_count": null,
   "metadata": {},
   "outputs": [],
   "source": [
    "df4_scaled['Cluster'] = clusters\n",
    "df4_melted = df4_scaled.melt(id_vars=\"Cluster\", var_name=\"Variable\", value_name=\"Valor\")\n",
    "plt.figure(figsize=(12, 6))\n",
    "sns.boxplot(x=\"Variable\", y=\"Valor\", hue=\"Cluster\", data=df4_melted, palette=\"Set3\")\n",
    "plt.title(\"Distribución de las variables por cluster\")\n",
    "plt.xticks(rotation=45)\n",
    "plt.show()"
   ]
  },
  {
   "cell_type": "code",
   "execution_count": null,
   "metadata": {},
   "outputs": [],
   "source": [
    "df4_grouped = df4_scaled.groupby('Cluster').mean()\n",
    "\n",
    "df4_grouped.plot(kind='bar', figsize=(8, 5))\n",
    "plt.title('Media de las variables por cluster')\n",
    "plt.xlabel('Variables')\n",
    "plt.ylabel('Media')\n",
    "plt.legend(title='Cluster', bbox_to_anchor=(1, 1))\n",
    "plt.show()\n",
    "print(df4_grouped)"
   ]
  },
  {
   "cell_type": "code",
   "execution_count": null,
   "metadata": {},
   "outputs": [],
   "source": [
    "df4[df4_scaled['Cluster'] == 1].describe()"
   ]
  },
  {
   "cell_type": "markdown",
   "metadata": {},
   "source": [
    "Las características del cluster 1, las provincias del noroeste, son:\n",
    "- Menor implantación de energía renovable, con una media de **3.7%** de hogares con dispositivos de energía renovable.\n",
    "- Renta media por hogar ligeramente inferior al otro cluster, con una media de **30.483€**.\n",
    "- Menor producción media de energía solar y con valores más dispersos (por el clima de la zona, tienen menos horas de sol).\n",
    "- Mayor porcentaje de familias con 0 y 1 hijos.\n",
    "- Menor porcentaje de familias con muchos hijos.\n",
    "- Edad media mayor, con un valor de **48.6 años**."
   ]
  },
  {
   "cell_type": "markdown",
   "metadata": {},
   "source": [
    "## Conclusión \n",
    "\n",
    "Hipótesis: *\"Las provincias situadas en el sur de España (aquellas al sur de Madrid) tienden a utilizar menos dispositivos de aprovechamiento de energía renovable que las del norte.\"*\n",
    "\n",
    "El resultado del clustering jerárquico demuestra que la división inicial de las provincias era incorrecta y que la división ideal, si queremos comparar dos grupos, es: noroeste y resto de la península. \n",
    "\n",
    "Las provincias del noroeste tienen una menor implantación de energía renovable, agrupando estas provincias por: edad, climatología, tamaño de la familia y renta."
   ]
  },
  {
   "cell_type": "markdown",
   "metadata": {},
   "source": [
    "----------------------------"
   ]
  },
  {
   "cell_type": "markdown",
   "metadata": {},
   "source": [
    "## Clasificación y clustering"
   ]
  },
  {
   "cell_type": "markdown",
   "metadata": {},
   "source": [
    "Para verificar los resultados obtenidos, se realizará una división de las provincias en norte y sur y se etiquetarán los grupos. De esta forma, se quiere comprobar si forzando la división en 2 grupos, se obtienen los mismos resultados que con el clustering jerárquico."
   ]
  },
  {
   "cell_type": "code",
   "execution_count": null,
   "metadata": {},
   "outputs": [],
   "source": [
    "# Provincias en el dataset\n",
    "df4.index"
   ]
  },
  {
   "cell_type": "code",
   "execution_count": null,
   "metadata": {},
   "outputs": [],
   "source": [
    "norte=['Araba/Álava', 'Asturias', 'Barcelona', 'Bizkaia', 'Burgos', 'Cantabria', 'Coruña, A', 'Gipuzkoa', 'Girona', 'Guadalajara', 'Huesca', 'León', 'Lleida', 'Lugo', 'Navarra', 'Ourense', 'Palencia', 'Pontevedra', 'Rioja, La', 'Salamanca', 'Segovia', 'Soria', 'Tarragona', 'Teruel', 'Valladolid', 'Zamora', 'Zaragoza', 'Ávila']\n",
    "\n",
    "df4['Grupo'] = [0 if x in norte else 1 for x in df4.index]"
   ]
  },
  {
   "cell_type": "code",
   "execution_count": null,
   "metadata": {},
   "outputs": [],
   "source": [
    "df4['Grupo'].to_csv('a.csv')"
   ]
  },
  {
   "cell_type": "code",
   "execution_count": null,
   "metadata": {},
   "outputs": [],
   "source": [
    "df4.head()"
   ]
  },
  {
   "cell_type": "code",
   "execution_count": null,
   "metadata": {},
   "outputs": [],
   "source": [
    "df4['Grupo'].value_counts()"
   ]
  },
  {
   "cell_type": "markdown",
   "metadata": {},
   "source": [
    "## Entrenamiento y validación\n",
    "\n",
    "Se entrenará un modelo de clasificación, en este caso se ha elegido un árbol de decisión, para extraer el valor de relevancia de cada variable y así volver a clusterizar y comparar los resultados."
   ]
  },
  {
   "cell_type": "code",
   "execution_count": null,
   "metadata": {},
   "outputs": [],
   "source": [
    "from sklearn.ensemble import RandomForestClassifier\n",
    "from sklearn.model_selection import train_test_split\n",
    "\n",
    "X = df4.drop(columns=[\"Grupo\"])\n",
    "y = df4[\"Grupo\"]\n",
    "\n",
    "# se divide el dataset en 30-70 para que el modelo no entrene con demasiados datos y evitar el overfitting\n",
    "X_train, X_test, y_train, y_test = train_test_split(X, y, test_size=0.3, random_state=42, stratify=y)"
   ]
  },
  {
   "cell_type": "code",
   "execution_count": null,
   "metadata": {},
   "outputs": [],
   "source": [
    "from sklearn.model_selection import GridSearchCV\n",
    "from sklearn.tree import DecisionTreeClassifier\n",
    "\n",
    "param_grid = {\n",
    "    'max_depth': [None, 3, 4, 5, 10, 15, 20, 30, 40, 50],\n",
    "    'min_samples_split': [2, 4, 5, 6, 7],\n",
    "    'min_samples_leaf': [1, 2, 3, 4],\n",
    "    'criterion': ['gini', 'entropy', 'log_loss']\n",
    "}\n",
    "\n",
    "grid_search = GridSearchCV(\n",
    "    estimator=DecisionTreeClassifier(random_state=42),\n",
    "    param_grid=param_grid,\n",
    "    cv=5,\n",
    "    scoring='f1',\n",
    "    verbose=1\n",
    ")\n",
    "\n",
    "grid_search.fit(X_train, y_train)\n",
    "\n",
    "# Mejor modelo\n",
    "best_tree = grid_search.best_estimator_\n",
    "print(f\"Mejores hiperparámetros: {grid_search.best_params_}\")\n",
    "print(f\"Mejor score (f1-score): {grid_search.best_score_}\")"
   ]
  },
  {
   "cell_type": "code",
   "execution_count": null,
   "metadata": {},
   "outputs": [],
   "source": [
    "pred = best_tree.predict(X_test)"
   ]
  },
  {
   "cell_type": "code",
   "execution_count": null,
   "metadata": {},
   "outputs": [],
   "source": [
    "# Evaluación de resultados\n",
    "from sklearn.metrics import ConfusionMatrixDisplay, classification_report, confusion_matrix\n",
    "cm = confusion_matrix(y_test, pred)\n",
    "cm_display = ConfusionMatrixDisplay(confusion_matrix=cm, display_labels=best_tree.classes_)\n",
    "cm_display.plot()\n",
    "plt.title(\"Confussion Matrix\")\n",
    "print(classification_report(y_test, pred))"
   ]
  },
  {
   "cell_type": "markdown",
   "metadata": {},
   "source": [
    "El modelo muestra buenos resultados durante el entrenamiento. Pero al tener muy pocos datos, se comprobarán los resultados usando validación cruzada del tipo Leave One Out. Este tipo de validación tiene un gran coste computacional con grandes volumenes de datos, pero al tener pocos, es la mejor opción."
   ]
  },
  {
   "cell_type": "code",
   "execution_count": null,
   "metadata": {},
   "outputs": [],
   "source": [
    "from sklearn.model_selection import cross_val_score\n",
    "from sklearn.model_selection import LeaveOneOut\n",
    "\n",
    "scores = cross_val_score(best_tree, X, y, cv=LeaveOneOut())\n",
    "print(f\"Accuracy: {scores.mean():.2f}\")"
   ]
  },
  {
   "cell_type": "code",
   "execution_count": null,
   "metadata": {},
   "outputs": [],
   "source": [
    "print ('================= Feature Relevances ====================')\n",
    "importance = pd.DataFrame({'Attributes': X_train.columns,\n",
    "            'Feature importance':best_tree.feature_importances_}).sort_values('Feature importance', ascending=False)\n",
    "print(importance)"
   ]
  },
  {
   "cell_type": "code",
   "execution_count": null,
   "metadata": {},
   "outputs": [],
   "source": [
    "# seleccion de las dos variables más importantes\n",
    "variables = importance.iloc[:3]['Attributes'].values"
   ]
  },
  {
   "cell_type": "code",
   "execution_count": null,
   "metadata": {},
   "outputs": [],
   "source": [
    "selection = df4_scaled[variables]\n",
    "\n",
    "link_matrix_avg = linkage(selection, method='ward', metric='euclidean')\n",
    "\n",
    "plt.figure(figsize=(8, 5))\n",
    "dendrogram(link_matrix_avg, labels=df4.index)\n",
    "plt.show()"
   ]
  },
  {
   "cell_type": "code",
   "execution_count": null,
   "metadata": {},
   "outputs": [],
   "source": [
    "selection['Cluster'] = fcluster(link_matrix_avg, t=2, criterion='maxclust')\n",
    "selection['Cluster'].to_csv('a.csv')"
   ]
  },
  {
   "cell_type": "code",
   "execution_count": null,
   "metadata": {},
   "outputs": [],
   "source": [
    "clusters = fcluster(link_matrix_avg, t=2, criterion='maxclust')\n",
    "print(\"coeficiente de silhouette: \",silhouette_score(selection, clusters))"
   ]
  },
  {
   "cell_type": "markdown",
   "metadata": {},
   "source": [
    "Los resultados son similares a los obtenidos en el primer clustering jerárquico, aunque tenía un menor coeficiente de silhouette. Las provincias de Galicia, Asturias y Cantabria siguen agrupadas en el mismo cluster.\n",
    "\n",
    "Sin embargo, la selección de características depende del parámetro `random_state` del modelo Random Forest, por lo que los resultados pueden variar y no se usarán para la interpretación final."
   ]
  }
 ],
 "metadata": {
  "kernelspec": {
   "display_name": ".venv",
   "language": "python",
   "name": "python3"
  },
  "language_info": {
   "codemirror_mode": {
    "name": "ipython",
    "version": 3
   },
   "file_extension": ".py",
   "mimetype": "text/x-python",
   "name": "python",
   "nbconvert_exporter": "python",
   "pygments_lexer": "ipython3",
   "version": "3.12.6"
  }
 },
 "nbformat": 4,
 "nbformat_minor": 2
}

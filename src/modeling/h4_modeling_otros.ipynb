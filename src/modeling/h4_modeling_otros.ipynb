{
 "cells": [
  {
   "cell_type": "markdown",
   "metadata": {},
   "source": [
    "# Hipótesis 4\n",
    "\n",
    "Probando otros métodos para validar la hipótesis 4."
   ]
  },
  {
   "cell_type": "markdown",
   "metadata": {},
   "source": [
    "## Preparación del entorno"
   ]
  },
  {
   "cell_type": "code",
   "execution_count": 176,
   "metadata": {},
   "outputs": [],
   "source": [
    "import os \n",
    "import pandas as pd\n",
    "import matplotlib.pyplot as plt\n",
    "import numpy as np\n",
    "import seaborn as sns\n",
    "import scipy\n",
    "from scipy.cluster.hierarchy import dendrogram, linkage, fcluster\n",
    "from sklearn.metrics import silhouette_score\n",
    "\n",
    "GOLD_DATA_PATH = os.path.join(\"..\", \"..\", \"data/gold/\")"
   ]
  },
  {
   "cell_type": "markdown",
   "metadata": {},
   "source": [
    "## Datos mediana\n",
    "\n",
    "Los datos que se usarán están en el dataset de la tarjeta de datos 4: `data_card_4_df.csv`. En los que se usa la mediana de la edad."
   ]
  },
  {
   "cell_type": "code",
   "execution_count": 177,
   "metadata": {},
   "outputs": [],
   "source": [
    "# Cargar de los datos\n",
    "df4 = pd.read_csv(GOLD_DATA_PATH + \"data_card_4_df.csv\", sep=\";\", encoding = 'latin')\n"
   ]
  },
  {
   "cell_type": "code",
   "execution_count": 178,
   "metadata": {},
   "outputs": [
    {
     "data": {
      "text/html": [
       "<div>\n",
       "<style scoped>\n",
       "    .dataframe tbody tr th:only-of-type {\n",
       "        vertical-align: middle;\n",
       "    }\n",
       "\n",
       "    .dataframe tbody tr th {\n",
       "        vertical-align: top;\n",
       "    }\n",
       "\n",
       "    .dataframe thead th {\n",
       "        text-align: right;\n",
       "    }\n",
       "</style>\n",
       "<table border=\"1\" class=\"dataframe\">\n",
       "  <thead>\n",
       "    <tr style=\"text-align: right;\">\n",
       "      <th></th>\n",
       "      <th>Porcentaje con dispositivo</th>\n",
       "      <th>Renta</th>\n",
       "      <th>Mediana edad</th>\n",
       "      <th>Producción media</th>\n",
       "      <th>Familia de 1 padres y 0 hijos</th>\n",
       "      <th>Familia de 1 padres y 1 hijos</th>\n",
       "      <th>Familia de 1 padres y 2 hijos</th>\n",
       "      <th>Familia de 2 padres y 0 hijos</th>\n",
       "      <th>Familia de 2 padres y 1 hijos</th>\n",
       "      <th>Familia de 2 padres y 2 hijos</th>\n",
       "    </tr>\n",
       "    <tr>\n",
       "      <th>Provincias</th>\n",
       "      <th></th>\n",
       "      <th></th>\n",
       "      <th></th>\n",
       "      <th></th>\n",
       "      <th></th>\n",
       "      <th></th>\n",
       "      <th></th>\n",
       "      <th></th>\n",
       "      <th></th>\n",
       "      <th></th>\n",
       "    </tr>\n",
       "  </thead>\n",
       "  <tbody>\n",
       "    <tr>\n",
       "      <th>Albacete</th>\n",
       "      <td>4.314062</td>\n",
       "      <td>29549.0</td>\n",
       "      <td>47</td>\n",
       "      <td>136.528958</td>\n",
       "      <td>0.033132</td>\n",
       "      <td>0.072565</td>\n",
       "      <td>0.044648</td>\n",
       "      <td>0.356690</td>\n",
       "      <td>0.204834</td>\n",
       "      <td>0.288130</td>\n",
       "    </tr>\n",
       "    <tr>\n",
       "      <th>Alicante/Alacant</th>\n",
       "      <td>4.036060</td>\n",
       "      <td>27540.0</td>\n",
       "      <td>47</td>\n",
       "      <td>135.823750</td>\n",
       "      <td>0.041038</td>\n",
       "      <td>0.094143</td>\n",
       "      <td>0.045081</td>\n",
       "      <td>0.394342</td>\n",
       "      <td>0.197734</td>\n",
       "      <td>0.227663</td>\n",
       "    </tr>\n",
       "    <tr>\n",
       "      <th>Almería</th>\n",
       "      <td>6.713842</td>\n",
       "      <td>27301.0</td>\n",
       "      <td>42</td>\n",
       "      <td>140.478389</td>\n",
       "      <td>0.030276</td>\n",
       "      <td>0.090071</td>\n",
       "      <td>0.042470</td>\n",
       "      <td>0.349780</td>\n",
       "      <td>0.201309</td>\n",
       "      <td>0.286094</td>\n",
       "    </tr>\n",
       "  </tbody>\n",
       "</table>\n",
       "</div>"
      ],
      "text/plain": [
       "                  Porcentaje con dispositivo    Renta  Mediana edad  \\\n",
       "Provincias                                                            \n",
       "Albacete                            4.314062  29549.0            47   \n",
       "Alicante/Alacant                    4.036060  27540.0            47   \n",
       "Almería                             6.713842  27301.0            42   \n",
       "\n",
       "                  Producción media  Familia de 1 padres y 0 hijos  \\\n",
       "Provincias                                                          \n",
       "Albacete                136.528958                       0.033132   \n",
       "Alicante/Alacant        135.823750                       0.041038   \n",
       "Almería                 140.478389                       0.030276   \n",
       "\n",
       "                  Familia de 1 padres y 1 hijos  \\\n",
       "Provincias                                        \n",
       "Albacete                               0.072565   \n",
       "Alicante/Alacant                       0.094143   \n",
       "Almería                                0.090071   \n",
       "\n",
       "                  Familia de 1 padres y 2 hijos  \\\n",
       "Provincias                                        \n",
       "Albacete                               0.044648   \n",
       "Alicante/Alacant                       0.045081   \n",
       "Almería                                0.042470   \n",
       "\n",
       "                  Familia de 2 padres y 0 hijos  \\\n",
       "Provincias                                        \n",
       "Albacete                               0.356690   \n",
       "Alicante/Alacant                       0.394342   \n",
       "Almería                                0.349780   \n",
       "\n",
       "                  Familia de 2 padres y 1 hijos  Familia de 2 padres y 2 hijos  \n",
       "Provincias                                                                      \n",
       "Albacete                               0.204834                       0.288130  \n",
       "Alicante/Alacant                       0.197734                       0.227663  \n",
       "Almería                                0.201309                       0.286094  "
      ]
     },
     "execution_count": 178,
     "metadata": {},
     "output_type": "execute_result"
    }
   ],
   "source": [
    "# Formateado de la tabla\n",
    "df4 = df4.drop(columns=[\"Unnamed: 0\"])\n",
    "df4.set_index(\"Provincias\", inplace=True)\n",
    "df4.head(3)"
   ]
  },
  {
   "cell_type": "markdown",
   "metadata": {},
   "source": [
    "### Estandarización de los datos\n",
    "\n",
    "Cada variable tiene una escala diferente, por lo que es necesario estandarizar los datos para que todas tengan la misma importancia en el análisis.\n",
    "Se ha elegido el MinMaxScaler para que los valores estén entre 0 y 1, intentando modificar lo menos posible la distribución de los datos.\n"
   ]
  },
  {
   "cell_type": "code",
   "execution_count": 179,
   "metadata": {},
   "outputs": [
    {
     "data": {
      "text/html": [
       "<div>\n",
       "<style scoped>\n",
       "    .dataframe tbody tr th:only-of-type {\n",
       "        vertical-align: middle;\n",
       "    }\n",
       "\n",
       "    .dataframe tbody tr th {\n",
       "        vertical-align: top;\n",
       "    }\n",
       "\n",
       "    .dataframe thead th {\n",
       "        text-align: right;\n",
       "    }\n",
       "</style>\n",
       "<table border=\"1\" class=\"dataframe\">\n",
       "  <thead>\n",
       "    <tr style=\"text-align: right;\">\n",
       "      <th></th>\n",
       "      <th>Porcentaje con dispositivo</th>\n",
       "      <th>Renta</th>\n",
       "      <th>Mediana edad</th>\n",
       "      <th>Producción media</th>\n",
       "      <th>Familia de 1 padres y 0 hijos</th>\n",
       "      <th>Familia de 1 padres y 1 hijos</th>\n",
       "      <th>Familia de 1 padres y 2 hijos</th>\n",
       "      <th>Familia de 2 padres y 0 hijos</th>\n",
       "      <th>Familia de 2 padres y 1 hijos</th>\n",
       "      <th>Familia de 2 padres y 2 hijos</th>\n",
       "    </tr>\n",
       "  </thead>\n",
       "  <tbody>\n",
       "    <tr>\n",
       "      <th>0</th>\n",
       "      <td>0.157519</td>\n",
       "      <td>0.226017</td>\n",
       "      <td>0.5</td>\n",
       "      <td>0.918039</td>\n",
       "      <td>0.171973</td>\n",
       "      <td>0.252788</td>\n",
       "      <td>0.614710</td>\n",
       "      <td>0.245278</td>\n",
       "      <td>0.422595</td>\n",
       "      <td>0.943885</td>\n",
       "    </tr>\n",
       "    <tr>\n",
       "      <th>1</th>\n",
       "      <td>0.128196</td>\n",
       "      <td>0.114808</td>\n",
       "      <td>0.5</td>\n",
       "      <td>0.903404</td>\n",
       "      <td>0.412220</td>\n",
       "      <td>0.630817</td>\n",
       "      <td>0.629123</td>\n",
       "      <td>0.506302</td>\n",
       "      <td>0.258196</td>\n",
       "      <td>0.550791</td>\n",
       "    </tr>\n",
       "    <tr>\n",
       "      <th>2</th>\n",
       "      <td>0.410642</td>\n",
       "      <td>0.101578</td>\n",
       "      <td>0.0</td>\n",
       "      <td>1.000000</td>\n",
       "      <td>0.085170</td>\n",
       "      <td>0.559481</td>\n",
       "      <td>0.542252</td>\n",
       "      <td>0.197373</td>\n",
       "      <td>0.340967</td>\n",
       "      <td>0.930649</td>\n",
       "    </tr>\n",
       "  </tbody>\n",
       "</table>\n",
       "</div>"
      ],
      "text/plain": [
       "   Porcentaje con dispositivo     Renta  Mediana edad  Producción media  \\\n",
       "0                    0.157519  0.226017           0.5          0.918039   \n",
       "1                    0.128196  0.114808           0.5          0.903404   \n",
       "2                    0.410642  0.101578           0.0          1.000000   \n",
       "\n",
       "   Familia de 1 padres y 0 hijos  Familia de 1 padres y 1 hijos  \\\n",
       "0                       0.171973                       0.252788   \n",
       "1                       0.412220                       0.630817   \n",
       "2                       0.085170                       0.559481   \n",
       "\n",
       "   Familia de 1 padres y 2 hijos  Familia de 2 padres y 0 hijos  \\\n",
       "0                       0.614710                       0.245278   \n",
       "1                       0.629123                       0.506302   \n",
       "2                       0.542252                       0.197373   \n",
       "\n",
       "   Familia de 2 padres y 1 hijos  Familia de 2 padres y 2 hijos  \n",
       "0                       0.422595                       0.943885  \n",
       "1                       0.258196                       0.550791  \n",
       "2                       0.340967                       0.930649  "
      ]
     },
     "execution_count": 179,
     "metadata": {},
     "output_type": "execute_result"
    }
   ],
   "source": [
    "# Escalado de los datos a un rango de 0 a 1\n",
    "from sklearn.preprocessing import MinMaxScaler\n",
    "\n",
    "scaler = MinMaxScaler()\n",
    "scaled_data = scaler.fit_transform(df4)\n",
    "df4_scaled = pd.DataFrame(scaled_data, columns=df4.columns)\n",
    "\n",
    "df4_scaled.head(3)"
   ]
  },
  {
   "cell_type": "markdown",
   "metadata": {},
   "source": [
    "### Análisis de componentes principales (PCA)\n",
    "\n",
    "Para reducir la dimensionalidad de los datos y poder visualizarlos, se aplicará PCA. La representación se hará tanto en 2D como en 3D."
   ]
  },
  {
   "cell_type": "code",
   "execution_count": 180,
   "metadata": {},
   "outputs": [
    {
     "name": "stdout",
     "output_type": "stream",
     "text": [
      "Porcentaje de varianza explicado por cada componente:\n",
      " [0.47793154 0.17721048 0.10623954]\n"
     ]
    },
    {
     "data": {
      "text/html": [
       "<div>\n",
       "<style scoped>\n",
       "    .dataframe tbody tr th:only-of-type {\n",
       "        vertical-align: middle;\n",
       "    }\n",
       "\n",
       "    .dataframe tbody tr th {\n",
       "        vertical-align: top;\n",
       "    }\n",
       "\n",
       "    .dataframe thead th {\n",
       "        text-align: right;\n",
       "    }\n",
       "</style>\n",
       "<table border=\"1\" class=\"dataframe\">\n",
       "  <thead>\n",
       "    <tr style=\"text-align: right;\">\n",
       "      <th></th>\n",
       "      <th>0</th>\n",
       "      <th>1</th>\n",
       "      <th>2</th>\n",
       "    </tr>\n",
       "  </thead>\n",
       "  <tbody>\n",
       "    <tr>\n",
       "      <th>Porcentaje con dispositivo</th>\n",
       "      <td>-0.207976</td>\n",
       "      <td>0.171516</td>\n",
       "      <td>-0.071669</td>\n",
       "    </tr>\n",
       "    <tr>\n",
       "      <th>Renta</th>\n",
       "      <td>-0.048365</td>\n",
       "      <td>0.548332</td>\n",
       "      <td>-0.132476</td>\n",
       "    </tr>\n",
       "    <tr>\n",
       "      <th>Mediana edad</th>\n",
       "      <td>0.567023</td>\n",
       "      <td>-0.260546</td>\n",
       "      <td>-0.354971</td>\n",
       "    </tr>\n",
       "    <tr>\n",
       "      <th>Producción media</th>\n",
       "      <td>-0.290303</td>\n",
       "      <td>-0.520709</td>\n",
       "      <td>0.078656</td>\n",
       "    </tr>\n",
       "    <tr>\n",
       "      <th>Familia de 1 padres y 0 hijos</th>\n",
       "      <td>0.356787</td>\n",
       "      <td>0.105319</td>\n",
       "      <td>0.142546</td>\n",
       "    </tr>\n",
       "    <tr>\n",
       "      <th>Familia de 1 padres y 1 hijos</th>\n",
       "      <td>0.179703</td>\n",
       "      <td>0.385980</td>\n",
       "      <td>0.341566</td>\n",
       "    </tr>\n",
       "    <tr>\n",
       "      <th>Familia de 1 padres y 2 hijos</th>\n",
       "      <td>-0.272816</td>\n",
       "      <td>0.345208</td>\n",
       "      <td>-0.064045</td>\n",
       "    </tr>\n",
       "    <tr>\n",
       "      <th>Familia de 2 padres y 0 hijos</th>\n",
       "      <td>0.332894</td>\n",
       "      <td>-0.025264</td>\n",
       "      <td>-0.244155</td>\n",
       "    </tr>\n",
       "    <tr>\n",
       "      <th>Familia de 2 padres y 1 hijos</th>\n",
       "      <td>0.119318</td>\n",
       "      <td>-0.152353</td>\n",
       "      <td>0.790839</td>\n",
       "    </tr>\n",
       "    <tr>\n",
       "      <th>Familia de 2 padres y 2 hijos</th>\n",
       "      <td>-0.435365</td>\n",
       "      <td>-0.166739</td>\n",
       "      <td>-0.137824</td>\n",
       "    </tr>\n",
       "  </tbody>\n",
       "</table>\n",
       "</div>"
      ],
      "text/plain": [
       "                                      0         1         2\n",
       "Porcentaje con dispositivo    -0.207976  0.171516 -0.071669\n",
       "Renta                         -0.048365  0.548332 -0.132476\n",
       "Mediana edad                   0.567023 -0.260546 -0.354971\n",
       "Producción media              -0.290303 -0.520709  0.078656\n",
       "Familia de 1 padres y 0 hijos  0.356787  0.105319  0.142546\n",
       "Familia de 1 padres y 1 hijos  0.179703  0.385980  0.341566\n",
       "Familia de 1 padres y 2 hijos -0.272816  0.345208 -0.064045\n",
       "Familia de 2 padres y 0 hijos  0.332894 -0.025264 -0.244155\n",
       "Familia de 2 padres y 1 hijos  0.119318 -0.152353  0.790839\n",
       "Familia de 2 padres y 2 hijos -0.435365 -0.166739 -0.137824"
      ]
     },
     "execution_count": 180,
     "metadata": {},
     "output_type": "execute_result"
    }
   ],
   "source": [
    "# Calculo de PCA\n",
    "from sklearn.decomposition import PCA\n",
    "\n",
    "estimator = PCA(n_components=3)\n",
    "X_pca = estimator.fit_transform(scaled_data)\n",
    "\n",
    "print(\"Porcentaje de varianza explicado por cada componente:\\n\", estimator.explained_variance_ratio_)\n",
    "pd.DataFrame(np.matrix.transpose(estimator.components_), index=df4.columns)"
   ]
  },
  {
   "cell_type": "code",
   "execution_count": 181,
   "metadata": {},
   "outputs": [
    {
     "data": {
      "image/png": "[encoded data removed]",
      "text/plain": [
       "<Figure size 640x480 with 1 Axes>"
      ]
     },
     "metadata": {},
     "output_type": "display_data"
    }
   ],
   "source": [
    "#Representación 2D\n",
    "fig, ax = plt.subplots()\n",
    "ax.scatter(X_pca[:,0], X_pca[:,1], s=50)\n",
    "\n",
    "# anotación \n",
    "for i in range(0, len(X_pca)):\n",
    "    ax.annotate(df4.iloc[i, :].name, (X_pca[i, 0], X_pca[i, 1]), fontsize=8)"
   ]
  },
  {
   "cell_type": "code",
   "execution_count": 182,
   "metadata": {},
   "outputs": [
    {
     "data": {
      "application/vnd.plotly.v1+json": {
       "config": {
        "plotlyServerURL": "https://plot.ly"
       },
       "data": [
        {
         "hovertemplate": "Provincias=Albacete<br>x=%{x}<br>y=%{y}<br>z=%{z}<extra></extra>",
         "legendgroup": "Albacete",
         "marker": {
          "color": "#AA0DFE",
          "symbol": "circle"
         },
         "mode": "markers",
         "name": "Albacete",
         "scene": "scene",
         "showlegend": true,
         "type": "scatter3d",
         "x": [
          -0.39460322764017536
         ],
         "y": [
          -0.3493492019798791
         ],
         "z": [
          -0.1548921422545025
         ]
        },
        {
         "hovertemplate": "Provincias=Alicante/Alacant<br>x=%{x}<br>y=%{y}<br>z=%{z}<extra></extra>",
         "legendgroup": "Alicante/Alacant",
         "marker": {
          "color": "#3283FE",
          "symbol": "circle"
         },
         "mode": "markers",
         "name": "Alicante/Alacant",
         "scene": "scene",
         "showlegend": true,
         "type": "scatter3d",
         "x": [
          0.00925724872374519
         ],
         "y": [
          -0.14755170161751235
         ],
         "z": [
          -0.11632964283323576
         ]
        },
        {
         "hovertemplate": "Provincias=Almería<br>x=%{x}<br>y=%{y}<br>z=%{z}<extra></extra>",
         "legendgroup": "Almería",
         "marker": {
          "color": "#85660D",
          "symbol": "circle"
         },
         "mode": "markers",
         "name": "Almería",
         "scene": "scene",
         "showlegend": true,
         "type": "scatter3d",
         "x": [
          -0.7245469095083653
         ],
         "y": [
          -0.1864982616795299
         ],
         "z": [
          0.07337377262635426
         ]
        },
        {
         "hovertemplate": "Provincias=Araba/Álava<br>x=%{x}<br>y=%{y}<br>z=%{z}<extra></extra>",
         "legendgroup": "Araba/Álava",
         "marker": {
          "color": "#782AB6",
          "symbol": "circle"
         },
         "mode": "markers",
         "name": "Araba/Álava",
         "scene": "scene",
         "showlegend": true,
         "type": "scatter3d",
         "x": [
          -0.04916385405503097
         ],
         "y": [
          0.5638693914810741
         ],
         "z": [
          -0.35669612298569164
         ]
        },
        {
         "hovertemplate": "Provincias=Asturias<br>x=%{x}<br>y=%{y}<br>z=%{z}<extra></extra>",
         "legendgroup": "Asturias",
         "marker": {
          "color": "#565656",
          "symbol": "circle"
         },
         "mode": "markers",
         "name": "Asturias",
         "scene": "scene",
         "showlegend": true,
         "type": "scatter3d",
         "x": [
          1.193113396924838
         ],
         "y": [
          0.45203402476965066
         ],
         "z": [
          0.0686743808282983
         ]
        },
        {
         "hovertemplate": "Provincias=Badajoz<br>x=%{x}<br>y=%{y}<br>z=%{z}<extra></extra>",
         "legendgroup": "Badajoz",
         "marker": {
          "color": "#1C8356",
          "symbol": "circle"
         },
         "mode": "markers",
         "name": "Badajoz",
         "scene": "scene",
         "showlegend": true,
         "type": "scatter3d",
         "x": [
          -0.1144774856875327
         ],
         "y": [
          -0.5623305651025203
         ],
         "z": [
          0.2280853080276471
         ]
        },
        {
         "hovertemplate": "Provincias=Barcelona<br>x=%{x}<br>y=%{y}<br>z=%{z}<extra></extra>",
         "legendgroup": "Barcelona",
         "marker": {
          "color": "#16FF32",
          "symbol": "circle"
         },
         "mode": "markers",
         "name": "Barcelona",
         "scene": "scene",
         "showlegend": true,
         "type": "scatter3d",
         "x": [
          -0.46273439841111286
         ],
         "y": [
          0.6901675535471826
         ],
         "z": [
          -0.18416651923872615
         ]
        },
        {
         "hovertemplate": "Provincias=Bizkaia<br>x=%{x}<br>y=%{y}<br>z=%{z}<extra></extra>",
         "legendgroup": "Bizkaia",
         "marker": {
          "color": "#F7E1A0",
          "symbol": "circle"
         },
         "mode": "markers",
         "name": "Bizkaia",
         "scene": "scene",
         "showlegend": true,
         "type": "scatter3d",
         "x": [
          0.22446686802390325
         ],
         "y": [
          0.6823037367052576
         ],
         "z": [
          -0.2412963109867206
         ]
        },
        {
         "hovertemplate": "Provincias=Burgos<br>x=%{x}<br>y=%{y}<br>z=%{z}<extra></extra>",
         "legendgroup": "Burgos",
         "marker": {
          "color": "#E2E2E2",
          "symbol": "circle"
         },
         "mode": "markers",
         "name": "Burgos",
         "scene": "scene",
         "showlegend": true,
         "type": "scatter3d",
         "x": [
          0.24302335894605545
         ],
         "y": [
          -0.05673570090611789
         ],
         "z": [
          0.099819012082252
         ]
        },
        {
         "hovertemplate": "Provincias=Cantabria<br>x=%{x}<br>y=%{y}<br>z=%{z}<extra></extra>",
         "legendgroup": "Cantabria",
         "marker": {
          "color": "#1CBE4F",
          "symbol": "circle"
         },
         "mode": "markers",
         "name": "Cantabria",
         "scene": "scene",
         "showlegend": true,
         "type": "scatter3d",
         "x": [
          0.46729957994644905
         ],
         "y": [
          0.515011760229958
         ],
         "z": [
          0.12028480261662354
         ]
        },
        {
         "hovertemplate": "Provincias=Castellón/Castelló<br>x=%{x}<br>y=%{y}<br>z=%{z}<extra></extra>",
         "legendgroup": "Castellón/Castelló",
         "marker": {
          "color": "#C4451C",
          "symbol": "circle"
         },
         "mode": "markers",
         "name": "Castellón/Castelló",
         "scene": "scene",
         "showlegend": true,
         "type": "scatter3d",
         "x": [
          -0.13874644932605798
         ],
         "y": [
          -0.30228424848795815
         ],
         "z": [
          -0.06492821508897868
         ]
        },
        {
         "hovertemplate": "Provincias=Ciudad Real<br>x=%{x}<br>y=%{y}<br>z=%{z}<extra></extra>",
         "legendgroup": "Ciudad Real",
         "marker": {
          "color": "#DEA0FD",
          "symbol": "circle"
         },
         "mode": "markers",
         "name": "Ciudad Real",
         "scene": "scene",
         "showlegend": true,
         "type": "scatter3d",
         "x": [
          -0.34757411255143683
         ],
         "y": [
          -0.5415482198325909
         ],
         "z": [
          -0.4108696230959427
         ]
        },
        {
         "hovertemplate": "Provincias=Coruña, A<br>x=%{x}<br>y=%{y}<br>z=%{z}<extra></extra>",
         "legendgroup": "Coruña, A",
         "marker": {
          "color": "#FE00FA",
          "symbol": "circle"
         },
         "mode": "markers",
         "name": "Coruña, A",
         "scene": "scene",
         "showlegend": true,
         "type": "scatter3d",
         "x": [
          0.5859597638059484
         ],
         "y": [
          0.17531429141258292
         ],
         "z": [
          0.39391668941897023
         ]
        },
        {
         "hovertemplate": "Provincias=Cuenca<br>x=%{x}<br>y=%{y}<br>z=%{z}<extra></extra>",
         "legendgroup": "Cuenca",
         "marker": {
          "color": "#325A9B",
          "symbol": "circle"
         },
         "mode": "markers",
         "name": "Cuenca",
         "scene": "scene",
         "showlegend": true,
         "type": "scatter3d",
         "x": [
          -0.06690595926727132
         ],
         "y": [
          -0.42787382292729237
         ],
         "z": [
          -0.5505462744916937
         ]
        },
        {
         "hovertemplate": "Provincias=Cáceres<br>x=%{x}<br>y=%{y}<br>z=%{z}<extra></extra>",
         "legendgroup": "Cáceres",
         "marker": {
          "color": "#FEAF16",
          "symbol": "circle"
         },
         "mode": "markers",
         "name": "Cáceres",
         "scene": "scene",
         "showlegend": true,
         "type": "scatter3d",
         "x": [
          0.13136827425017436
         ],
         "y": [
          -0.38609056730213903
         ],
         "z": [
          0.10967940931097656
         ]
        },
        {
         "hovertemplate": "Provincias=Cádiz<br>x=%{x}<br>y=%{y}<br>z=%{z}<extra></extra>",
         "legendgroup": "Cádiz",
         "marker": {
          "color": "#F8A19F",
          "symbol": "circle"
         },
         "mode": "markers",
         "name": "Cádiz",
         "scene": "scene",
         "showlegend": true,
         "type": "scatter3d",
         "x": [
          -0.6250922170764945
         ],
         "y": [
          -0.0392005387359275
         ],
         "z": [
          0.571927752159063
         ]
        },
        {
         "hovertemplate": "Provincias=Córdoba<br>x=%{x}<br>y=%{y}<br>z=%{z}<extra></extra>",
         "legendgroup": "Córdoba",
         "marker": {
          "color": "#90AD1C",
          "symbol": "circle"
         },
         "mode": "markers",
         "name": "Córdoba",
         "scene": "scene",
         "showlegend": true,
         "type": "scatter3d",
         "x": [
          -0.3624635437197256
         ],
         "y": [
          -0.18919864024313593
         ],
         "z": [
          -0.28212512228223807
         ]
        },
        {
         "hovertemplate": "Provincias=Gipuzkoa<br>x=%{x}<br>y=%{y}<br>z=%{z}<extra></extra>",
         "legendgroup": "Gipuzkoa",
         "marker": {
          "color": "#F6222E",
          "symbol": "circle"
         },
         "mode": "markers",
         "name": "Gipuzkoa",
         "scene": "scene",
         "showlegend": true,
         "type": "scatter3d",
         "x": [
          0.10046076295490684
         ],
         "y": [
          0.5787045980038162
         ],
         "z": [
          -0.42980298991332283
         ]
        },
        {
         "hovertemplate": "Provincias=Girona<br>x=%{x}<br>y=%{y}<br>z=%{z}<extra></extra>",
         "legendgroup": "Girona",
         "marker": {
          "color": "#1CFFCE",
          "symbol": "circle"
         },
         "mode": "markers",
         "name": "Girona",
         "scene": "scene",
         "showlegend": true,
         "type": "scatter3d",
         "x": [
          -0.34023026385264965
         ],
         "y": [
          0.1503406577761907
         ],
         "z": [
          0.1513767462064932
         ]
        },
        {
         "hovertemplate": "Provincias=Granada<br>x=%{x}<br>y=%{y}<br>z=%{z}<extra></extra>",
         "legendgroup": "Granada",
         "marker": {
          "color": "#2ED9FF",
          "symbol": "circle"
         },
         "mode": "markers",
         "name": "Granada",
         "scene": "scene",
         "showlegend": true,
         "type": "scatter3d",
         "x": [
          -0.5554967151530761
         ],
         "y": [
          -0.0037861814621505726
         ],
         "z": [
          0.11911545649238287
         ]
        },
        {
         "hovertemplate": "Provincias=Guadalajara<br>x=%{x}<br>y=%{y}<br>z=%{z}<extra></extra>",
         "legendgroup": "Guadalajara",
         "marker": {
          "color": "#B10DA1",
          "symbol": "circle"
         },
         "mode": "markers",
         "name": "Guadalajara",
         "scene": "scene",
         "showlegend": true,
         "type": "scatter3d",
         "x": [
          -0.6522105451386713
         ],
         "y": [
          0.015520317036033324
         ],
         "z": [
          0.13218140223785954
         ]
        },
        {
         "hovertemplate": "Provincias=Huelva<br>x=%{x}<br>y=%{y}<br>z=%{z}<extra></extra>",
         "legendgroup": "Huelva",
         "marker": {
          "color": "#C075A6",
          "symbol": "circle"
         },
         "mode": "markers",
         "name": "Huelva",
         "scene": "scene",
         "showlegend": true,
         "type": "scatter3d",
         "x": [
          -0.5561273077044262
         ],
         "y": [
          -0.21198844983853773
         ],
         "z": [
          0.23108577038403574
         ]
        },
        {
         "hovertemplate": "Provincias=Huesca<br>x=%{x}<br>y=%{y}<br>z=%{z}<extra></extra>",
         "legendgroup": "Huesca",
         "marker": {
          "color": "#FC1CBF",
          "symbol": "circle"
         },
         "mode": "markers",
         "name": "Huesca",
         "scene": "scene",
         "showlegend": true,
         "type": "scatter3d",
         "x": [
          0.16823841763452163
         ],
         "y": [
          -0.13232155028958345
         ],
         "z": [
          0.059535464184901236
         ]
        },
        {
         "hovertemplate": "Provincias=Jaén<br>x=%{x}<br>y=%{y}<br>z=%{z}<extra></extra>",
         "legendgroup": "Jaén",
         "marker": {
          "color": "#B00068",
          "symbol": "circle"
         },
         "mode": "markers",
         "name": "Jaén",
         "scene": "scene",
         "showlegend": true,
         "type": "scatter3d",
         "x": [
          -0.20811954463104332
         ],
         "y": [
          -0.3834805725608277
         ],
         "z": [
          -0.02141599957777104
         ]
        },
        {
         "hovertemplate": "Provincias=León<br>x=%{x}<br>y=%{y}<br>z=%{z}<extra></extra>",
         "legendgroup": "León",
         "marker": {
          "color": "#FBE426",
          "symbol": "circle"
         },
         "mode": "markers",
         "name": "León",
         "scene": "scene",
         "showlegend": true,
         "type": "scatter3d",
         "x": [
          0.9649680048311842
         ],
         "y": [
          -0.057828877556906653
         ],
         "z": [
          0.14201528855727433
         ]
        },
        {
         "hovertemplate": "Provincias=Lleida<br>x=%{x}<br>y=%{y}<br>z=%{z}<extra></extra>",
         "legendgroup": "Lleida",
         "marker": {
          "color": "#FA0087",
          "symbol": "circle"
         },
         "mode": "markers",
         "name": "Lleida",
         "scene": "scene",
         "showlegend": true,
         "type": "scatter3d",
         "x": [
          -0.32457181365579546
         ],
         "y": [
          0.5258435539537847
         ],
         "z": [
          0.1991332596339758
         ]
        },
        {
         "hovertemplate": "Provincias=Lugo<br>x=%{x}<br>y=%{y}<br>z=%{z}<extra></extra>",
         "legendgroup": "Lugo",
         "marker": {
          "color": "#AA0DFE",
          "symbol": "circle"
         },
         "mode": "markers",
         "name": "Lugo",
         "scene": "scene",
         "showlegend": true,
         "type": "scatter3d",
         "x": [
          1.2975097573075078
         ],
         "y": [
          -0.005274015424488411
         ],
         "z": [
          0.38389206489220823
         ]
        },
        {
         "hovertemplate": "Provincias=Madrid<br>x=%{x}<br>y=%{y}<br>z=%{z}<extra></extra>",
         "legendgroup": "Madrid",
         "marker": {
          "color": "#3283FE",
          "symbol": "circle"
         },
         "mode": "markers",
         "name": "Madrid",
         "scene": "scene",
         "showlegend": true,
         "type": "scatter3d",
         "x": [
          -0.5066733413653514
         ],
         "y": [
          0.47547054925289683
         ],
         "z": [
          -0.02952425446899453
         ]
        },
        {
         "hovertemplate": "Provincias=Murcia<br>x=%{x}<br>y=%{y}<br>z=%{z}<extra></extra>",
         "legendgroup": "Murcia",
         "marker": {
          "color": "#85660D",
          "symbol": "circle"
         },
         "mode": "markers",
         "name": "Murcia",
         "scene": "scene",
         "showlegend": true,
         "type": "scatter3d",
         "x": [
          -0.7262285259031528
         ],
         "y": [
          -0.07710906205686129
         ],
         "z": [
          0.0736586839942451
         ]
        },
        {
         "hovertemplate": "Provincias=Málaga<br>x=%{x}<br>y=%{y}<br>z=%{z}<extra></extra>",
         "legendgroup": "Málaga",
         "marker": {
          "color": "#782AB6",
          "symbol": "circle"
         },
         "mode": "markers",
         "name": "Málaga",
         "scene": "scene",
         "showlegend": true,
         "type": "scatter3d",
         "x": [
          -0.5385640066700879
         ],
         "y": [
          0.12895152861486828
         ],
         "z": [
          0.005939202001584499
         ]
        },
        {
         "hovertemplate": "Provincias=Navarra<br>x=%{x}<br>y=%{y}<br>z=%{z}<extra></extra>",
         "legendgroup": "Navarra",
         "marker": {
          "color": "#565656",
          "symbol": "circle"
         },
         "mode": "markers",
         "name": "Navarra",
         "scene": "scene",
         "showlegend": true,
         "type": "scatter3d",
         "x": [
          -0.5001901766522003
         ],
         "y": [
          0.4779482567453359
         ],
         "z": [
          -0.26072324909877176
         ]
        },
        {
         "hovertemplate": "Provincias=Ourense<br>x=%{x}<br>y=%{y}<br>z=%{z}<extra></extra>",
         "legendgroup": "Ourense",
         "marker": {
          "color": "#1C8356",
          "symbol": "circle"
         },
         "mode": "markers",
         "name": "Ourense",
         "scene": "scene",
         "showlegend": true,
         "type": "scatter3d",
         "x": [
          1.2240896455401133
         ],
         "y": [
          -0.03573239629347863
         ],
         "z": [
          -0.1326674002106913
         ]
        },
        {
         "hovertemplate": "Provincias=Palencia<br>x=%{x}<br>y=%{y}<br>z=%{z}<extra></extra>",
         "legendgroup": "Palencia",
         "marker": {
          "color": "#16FF32",
          "symbol": "circle"
         },
         "mode": "markers",
         "name": "Palencia",
         "scene": "scene",
         "showlegend": true,
         "type": "scatter3d",
         "x": [
          0.5315051389498436
         ],
         "y": [
          -0.2018853717630393
         ],
         "z": [
          -0.3844018441458931
         ]
        },
        {
         "hovertemplate": "Provincias=Pontevedra<br>x=%{x}<br>y=%{y}<br>z=%{z}<extra></extra>",
         "legendgroup": "Pontevedra",
         "marker": {
          "color": "#F7E1A0",
          "symbol": "circle"
         },
         "mode": "markers",
         "name": "Pontevedra",
         "scene": "scene",
         "showlegend": true,
         "type": "scatter3d",
         "x": [
          0.5002337473749511
         ],
         "y": [
          0.15372556848124508
         ],
         "z": [
          0.5390993486181493
         ]
        },
        {
         "hovertemplate": "Provincias=Rioja, La<br>x=%{x}<br>y=%{y}<br>z=%{z}<extra></extra>",
         "legendgroup": "Rioja, La",
         "marker": {
          "color": "#E2E2E2",
          "symbol": "circle"
         },
         "mode": "markers",
         "name": "Rioja, La",
         "scene": "scene",
         "showlegend": true,
         "type": "scatter3d",
         "x": [
          0.0035792361471204256
         ],
         "y": [
          0.19821650620999326
         ],
         "z": [
          -0.2198869284532085
         ]
        },
        {
         "hovertemplate": "Provincias=Salamanca<br>x=%{x}<br>y=%{y}<br>z=%{z}<extra></extra>",
         "legendgroup": "Salamanca",
         "marker": {
          "color": "#1CBE4F",
          "symbol": "circle"
         },
         "mode": "markers",
         "name": "Salamanca",
         "scene": "scene",
         "showlegend": true,
         "type": "scatter3d",
         "x": [
          0.6010608783368451
         ],
         "y": [
          -0.12635397463092973
         ],
         "z": [
          -0.2109181063991342
         ]
        },
        {
         "hovertemplate": "Provincias=Segovia<br>x=%{x}<br>y=%{y}<br>z=%{z}<extra></extra>",
         "legendgroup": "Segovia",
         "marker": {
          "color": "#C4451C",
          "symbol": "circle"
         },
         "mode": "markers",
         "name": "Segovia",
         "scene": "scene",
         "showlegend": true,
         "type": "scatter3d",
         "x": [
          0.05195358828352129
         ],
         "y": [
          -0.025926629907197817
         ],
         "z": [
          -0.12719164056814217
         ]
        },
        {
         "hovertemplate": "Provincias=Sevilla<br>x=%{x}<br>y=%{y}<br>z=%{z}<extra></extra>",
         "legendgroup": "Sevilla",
         "marker": {
          "color": "#DEA0FD",
          "symbol": "circle"
         },
         "mode": "markers",
         "name": "Sevilla",
         "scene": "scene",
         "showlegend": true,
         "type": "scatter3d",
         "x": [
          -0.8804334799856268
         ],
         "y": [
          0.1628893726274982
         ],
         "z": [
          0.08081467390446584
         ]
        },
        {
         "hovertemplate": "Provincias=Soria<br>x=%{x}<br>y=%{y}<br>z=%{z}<extra></extra>",
         "legendgroup": "Soria",
         "marker": {
          "color": "#FE00FA",
          "symbol": "circle"
         },
         "mode": "markers",
         "name": "Soria",
         "scene": "scene",
         "showlegend": true,
         "type": "scatter3d",
         "x": [
          -0.017858004376508654
         ],
         "y": [
          -0.03231288357485544
         ],
         "z": [
          -0.31680612581858997
         ]
        },
        {
         "hovertemplate": "Provincias=Tarragona<br>x=%{x}<br>y=%{y}<br>z=%{z}<extra></extra>",
         "legendgroup": "Tarragona",
         "marker": {
          "color": "#325A9B",
          "symbol": "circle"
         },
         "mode": "markers",
         "name": "Tarragona",
         "scene": "scene",
         "showlegend": true,
         "type": "scatter3d",
         "x": [
          -0.2919668693362405
         ],
         "y": [
          0.14560511517301533
         ],
         "z": [
          0.4675042204774768
         ]
        },
        {
         "hovertemplate": "Provincias=Teruel<br>x=%{x}<br>y=%{y}<br>z=%{z}<extra></extra>",
         "legendgroup": "Teruel",
         "marker": {
          "color": "#FEAF16",
          "symbol": "circle"
         },
         "mode": "markers",
         "name": "Teruel",
         "scene": "scene",
         "showlegend": true,
         "type": "scatter3d",
         "x": [
          0.08599495943603284
         ],
         "y": [
          -0.26335930617210074
         ],
         "z": [
          -0.14480987526734132
         ]
        },
        {
         "hovertemplate": "Provincias=Toledo<br>x=%{x}<br>y=%{y}<br>z=%{z}<extra></extra>",
         "legendgroup": "Toledo",
         "marker": {
          "color": "#F8A19F",
          "symbol": "circle"
         },
         "mode": "markers",
         "name": "Toledo",
         "scene": "scene",
         "showlegend": true,
         "type": "scatter3d",
         "x": [
          -0.5015901514134656
         ],
         "y": [
          -0.3657460756291395
         ],
         "z": [
          0.17609403069335633
         ]
        },
        {
         "hovertemplate": "Provincias=Valencia/València<br>x=%{x}<br>y=%{y}<br>z=%{z}<extra></extra>",
         "legendgroup": "Valencia/València",
         "marker": {
          "color": "#90AD1C",
          "symbol": "circle"
         },
         "mode": "markers",
         "name": "Valencia/València",
         "scene": "scene",
         "showlegend": true,
         "type": "scatter3d",
         "x": [
          -0.03730840851793019
         ],
         "y": [
          -0.02838241310586826
         ],
         "z": [
          0.24840516773929075
         ]
        },
        {
         "hovertemplate": "Provincias=Valladolid<br>x=%{x}<br>y=%{y}<br>z=%{z}<extra></extra>",
         "legendgroup": "Valladolid",
         "marker": {
          "color": "#F6222E",
          "symbol": "circle"
         },
         "mode": "markers",
         "name": "Valladolid",
         "scene": "scene",
         "showlegend": true,
         "type": "scatter3d",
         "x": [
          0.2026832842497224
         ],
         "y": [
          -0.18123680751461282
         ],
         "z": [
          0.1446620008495233
         ]
        },
        {
         "hovertemplate": "Provincias=Zamora<br>x=%{x}<br>y=%{y}<br>z=%{z}<extra></extra>",
         "legendgroup": "Zamora",
         "marker": {
          "color": "#1CFFCE",
          "symbol": "circle"
         },
         "mode": "markers",
         "name": "Zamora",
         "scene": "scene",
         "showlegend": true,
         "type": "scatter3d",
         "x": [
          0.8751888522056902
         ],
         "y": [
          -0.4219122785959796
         ],
         "z": [
          -0.13198041617153305
         ]
        },
        {
         "hovertemplate": "Provincias=Zaragoza<br>x=%{x}<br>y=%{y}<br>z=%{z}<extra></extra>",
         "legendgroup": "Zaragoza",
         "marker": {
          "color": "#2ED9FF",
          "symbol": "circle"
         },
         "mode": "markers",
         "name": "Zaragoza",
         "scene": "scene",
         "showlegend": true,
         "type": "scatter3d",
         "x": [
          -0.06930338217995977
         ],
         "y": [
          -0.009291511914974687
         ],
         "z": [
          0.022324420679293425
         ]
        },
        {
         "hovertemplate": "Provincias=Ávila<br>x=%{x}<br>y=%{y}<br>z=%{z}<extra></extra>",
         "legendgroup": "Ávila",
         "marker": {
          "color": "#B10DA1",
          "symbol": "circle"
         },
         "mode": "markers",
         "name": "Ávila",
         "scene": "scene",
         "showlegend": true,
         "type": "scatter3d",
         "x": [
          0.5312259299063149
         ],
         "y": [
          -0.33932695491424764
         ],
         "z": [
          -0.07061952526557828
         ]
        }
       ],
       "layout": {
        "legend": {
         "title": {
          "text": "Provincias"
         },
         "tracegroupgap": 0
        },
        "margin": {
         "t": 60
        },
        "scene": {
         "domain": {
          "x": [
           0,
           1
          ],
          "y": [
           0,
           1
          ]
         },
         "xaxis": {
          "title": {
           "text": "x"
          }
         },
         "yaxis": {
          "title": {
           "text": "y"
          }
         },
         "zaxis": {
          "title": {
           "text": "z"
          }
         }
        },
        "template": {
         "data": {
          "bar": [
           {
            "error_x": {
             "color": "#2a3f5f"
            },
            "error_y": {
             "color": "#2a3f5f"
            },
            "marker": {
             "line": {
              "color": "#E5ECF6",
              "width": 0.5
             },
             "pattern": {
              "fillmode": "overlay",
              "size": 10,
              "solidity": 0.2
             }
            },
            "type": "bar"
           }
          ],
          "barpolar": [
           {
            "marker": {
             "line": {
              "color": "#E5ECF6",
              "width": 0.5
             },
             "pattern": {
              "fillmode": "overlay",
              "size": 10,
              "solidity": 0.2
             }
            },
            "type": "barpolar"
           }
          ],
          "carpet": [
           {
            "aaxis": {
             "endlinecolor": "#2a3f5f",
             "gridcolor": "white",
             "linecolor": "white",
             "minorgridcolor": "white",
             "startlinecolor": "#2a3f5f"
            },
            "baxis": {
             "endlinecolor": "#2a3f5f",
             "gridcolor": "white",
             "linecolor": "white",
             "minorgridcolor": "white",
             "startlinecolor": "#2a3f5f"
            },
            "type": "carpet"
           }
          ],
          "choropleth": [
           {
            "colorbar": {
             "outlinewidth": 0,
             "ticks": ""
            },
            "type": "choropleth"
           }
          ],
          "contour": [
           {
            "colorbar": {
             "outlinewidth": 0,
             "ticks": ""
            },
            "colorscale": [
             [
              0,
              "#0d0887"
             ],
             [
              0.1111111111111111,
              "#46039f"
             ],
             [
              0.2222222222222222,
              "#7201a8"
             ],
             [
              0.3333333333333333,
              "#9c179e"
             ],
             [
              0.4444444444444444,
              "#bd3786"
             ],
             [
              0.5555555555555556,
              "#d8576b"
             ],
             [
              0.6666666666666666,
              "#ed7953"
             ],
             [
              0.7777777777777778,
              "#fb9f3a"
             ],
             [
              0.8888888888888888,
              "#fdca26"
             ],
             [
              1,
              "#f0f921"
             ]
            ],
            "type": "contour"
           }
          ],
          "contourcarpet": [
           {
            "colorbar": {
             "outlinewidth": 0,
             "ticks": ""
            },
            "type": "contourcarpet"
           }
          ],
          "heatmap": [
           {
            "colorbar": {
             "outlinewidth": 0,
             "ticks": ""
            },
            "colorscale": [
             [
              0,
              "#0d0887"
             ],
             [
              0.1111111111111111,
              "#46039f"
             ],
             [
              0.2222222222222222,
              "#7201a8"
             ],
             [
              0.3333333333333333,
              "#9c179e"
             ],
             [
              0.4444444444444444,
              "#bd3786"
             ],
             [
              0.5555555555555556,
              "#d8576b"
             ],
             [
              0.6666666666666666,
              "#ed7953"
             ],
             [
              0.7777777777777778,
              "#fb9f3a"
             ],
             [
              0.8888888888888888,
              "#fdca26"
             ],
             [
              1,
              "#f0f921"
             ]
            ],
            "type": "heatmap"
           }
          ],
          "heatmapgl": [
           {
            "colorbar": {
             "outlinewidth": 0,
             "ticks": ""
            },
            "colorscale": [
             [
              0,
              "#0d0887"
             ],
             [
              0.1111111111111111,
              "#46039f"
             ],
             [
              0.2222222222222222,
              "#7201a8"
             ],
             [
              0.3333333333333333,
              "#9c179e"
             ],
             [
              0.4444444444444444,
              "#bd3786"
             ],
             [
              0.5555555555555556,
              "#d8576b"
             ],
             [
              0.6666666666666666,
              "#ed7953"
             ],
             [
              0.7777777777777778,
              "#fb9f3a"
             ],
             [
              0.8888888888888888,
              "#fdca26"
             ],
             [
              1,
              "#f0f921"
             ]
            ],
            "type": "heatmapgl"
           }
          ],
          "histogram": [
           {
            "marker": {
             "pattern": {
              "fillmode": "overlay",
              "size": 10,
              "solidity": 0.2
             }
            },
            "type": "histogram"
           }
          ],
          "histogram2d": [
           {
            "colorbar": {
             "outlinewidth": 0,
             "ticks": ""
            },
            "colorscale": [
             [
              0,
              "#0d0887"
             ],
             [
              0.1111111111111111,
              "#46039f"
             ],
             [
              0.2222222222222222,
              "#7201a8"
             ],
             [
              0.3333333333333333,
              "#9c179e"
             ],
             [
              0.4444444444444444,
              "#bd3786"
             ],
             [
              0.5555555555555556,
              "#d8576b"
             ],
             [
              0.6666666666666666,
              "#ed7953"
             ],
             [
              0.7777777777777778,
              "#fb9f3a"
             ],
             [
              0.8888888888888888,
              "#fdca26"
             ],
             [
              1,
              "#f0f921"
             ]
            ],
            "type": "histogram2d"
           }
          ],
          "histogram2dcontour": [
           {
            "colorbar": {
             "outlinewidth": 0,
             "ticks": ""
            },
            "colorscale": [
             [
              0,
              "#0d0887"
             ],
             [
              0.1111111111111111,
              "#46039f"
             ],
             [
              0.2222222222222222,
              "#7201a8"
             ],
             [
              0.3333333333333333,
              "#9c179e"
             ],
             [
              0.4444444444444444,
              "#bd3786"
             ],
             [
              0.5555555555555556,
              "#d8576b"
             ],
             [
              0.6666666666666666,
              "#ed7953"
             ],
             [
              0.7777777777777778,
              "#fb9f3a"
             ],
             [
              0.8888888888888888,
              "#fdca26"
             ],
             [
              1,
              "#f0f921"
             ]
            ],
            "type": "histogram2dcontour"
           }
          ],
          "mesh3d": [
           {
            "colorbar": {
             "outlinewidth": 0,
             "ticks": ""
            },
            "type": "mesh3d"
           }
          ],
          "parcoords": [
           {
            "line": {
             "colorbar": {
              "outlinewidth": 0,
              "ticks": ""
             }
            },
            "type": "parcoords"
           }
          ],
          "pie": [
           {
            "automargin": true,
            "type": "pie"
           }
          ],
          "scatter": [
           {
            "fillpattern": {
             "fillmode": "overlay",
             "size": 10,
             "solidity": 0.2
            },
            "type": "scatter"
           }
          ],
          "scatter3d": [
           {
            "line": {
             "colorbar": {
              "outlinewidth": 0,
              "ticks": ""
             }
            },
            "marker": {
             "colorbar": {
              "outlinewidth": 0,
              "ticks": ""
             }
            },
            "type": "scatter3d"
           }
          ],
          "scattercarpet": [
           {
            "marker": {
             "colorbar": {
              "outlinewidth": 0,
              "ticks": ""
             }
            },
            "type": "scattercarpet"
           }
          ],
          "scattergeo": [
           {
            "marker": {
             "colorbar": {
              "outlinewidth": 0,
              "ticks": ""
             }
            },
            "type": "scattergeo"
           }
          ],
          "scattergl": [
           {
            "marker": {
             "colorbar": {
              "outlinewidth": 0,
              "ticks": ""
             }
            },
            "type": "scattergl"
           }
          ],
          "scattermapbox": [
           {
            "marker": {
             "colorbar": {
              "outlinewidth": 0,
              "ticks": ""
             }
            },
            "type": "scattermapbox"
           }
          ],
          "scatterpolar": [
           {
            "marker": {
             "colorbar": {
              "outlinewidth": 0,
              "ticks": ""
             }
            },
            "type": "scatterpolar"
           }
          ],
          "scatterpolargl": [
           {
            "marker": {
             "colorbar": {
              "outlinewidth": 0,
              "ticks": ""
             }
            },
            "type": "scatterpolargl"
           }
          ],
          "scatterternary": [
           {
            "marker": {
             "colorbar": {
              "outlinewidth": 0,
              "ticks": ""
             }
            },
            "type": "scatterternary"
           }
          ],
          "surface": [
           {
            "colorbar": {
             "outlinewidth": 0,
             "ticks": ""
            },
            "colorscale": [
             [
              0,
              "#0d0887"
             ],
             [
              0.1111111111111111,
              "#46039f"
             ],
             [
              0.2222222222222222,
              "#7201a8"
             ],
             [
              0.3333333333333333,
              "#9c179e"
             ],
             [
              0.4444444444444444,
              "#bd3786"
             ],
             [
              0.5555555555555556,
              "#d8576b"
             ],
             [
              0.6666666666666666,
              "#ed7953"
             ],
             [
              0.7777777777777778,
              "#fb9f3a"
             ],
             [
              0.8888888888888888,
              "#fdca26"
             ],
             [
              1,
              "#f0f921"
             ]
            ],
            "type": "surface"
           }
          ],
          "table": [
           {
            "cells": {
             "fill": {
              "color": "#EBF0F8"
             },
             "line": {
              "color": "white"
             }
            },
            "header": {
             "fill": {
              "color": "#C8D4E3"
             },
             "line": {
              "color": "white"
             }
            },
            "type": "table"
           }
          ]
         },
         "layout": {
          "annotationdefaults": {
           "arrowcolor": "#2a3f5f",
           "arrowhead": 0,
           "arrowwidth": 1
          },
          "autotypenumbers": "strict",
          "coloraxis": {
           "colorbar": {
            "outlinewidth": 0,
            "ticks": ""
           }
          },
          "colorscale": {
           "diverging": [
            [
             0,
             "#8e0152"
            ],
            [
             0.1,
             "#c51b7d"
            ],
            [
             0.2,
             "#de77ae"
            ],
            [
             0.3,
             "#f1b6da"
            ],
            [
             0.4,
             "#fde0ef"
            ],
            [
             0.5,
             "#f7f7f7"
            ],
            [
             0.6,
             "#e6f5d0"
            ],
            [
             0.7,
             "#b8e186"
            ],
            [
             0.8,
             "#7fbc41"
            ],
            [
             0.9,
             "#4d9221"
            ],
            [
             1,
             "#276419"
            ]
           ],
           "sequential": [
            [
             0,
             "#0d0887"
            ],
            [
             0.1111111111111111,
             "#46039f"
            ],
            [
             0.2222222222222222,
             "#7201a8"
            ],
            [
             0.3333333333333333,
             "#9c179e"
            ],
            [
             0.4444444444444444,
             "#bd3786"
            ],
            [
             0.5555555555555556,
             "#d8576b"
            ],
            [
             0.6666666666666666,
             "#ed7953"
            ],
            [
             0.7777777777777778,
             "#fb9f3a"
            ],
            [
             0.8888888888888888,
             "#fdca26"
            ],
            [
             1,
             "#f0f921"
            ]
           ],
           "sequentialminus": [
            [
             0,
             "#0d0887"
            ],
            [
             0.1111111111111111,
             "#46039f"
            ],
            [
             0.2222222222222222,
             "#7201a8"
            ],
            [
             0.3333333333333333,
             "#9c179e"
            ],
            [
             0.4444444444444444,
             "#bd3786"
            ],
            [
             0.5555555555555556,
             "#d8576b"
            ],
            [
             0.6666666666666666,
             "#ed7953"
            ],
            [
             0.7777777777777778,
             "#fb9f3a"
            ],
            [
             0.8888888888888888,
             "#fdca26"
            ],
            [
             1,
             "#f0f921"
            ]
           ]
          },
          "colorway": [
           "#636efa",
           "#EF553B",
           "#00cc96",
           "#ab63fa",
           "#FFA15A",
           "#19d3f3",
           "#FF6692",
           "#B6E880",
           "#FF97FF",
           "#FECB52"
          ],
          "font": {
           "color": "#2a3f5f"
          },
          "geo": {
           "bgcolor": "white",
           "lakecolor": "white",
           "landcolor": "#E5ECF6",
           "showlakes": true,
           "showland": true,
           "subunitcolor": "white"
          },
          "hoverlabel": {
           "align": "left"
          },
          "hovermode": "closest",
          "mapbox": {
           "style": "light"
          },
          "paper_bgcolor": "white",
          "plot_bgcolor": "#E5ECF6",
          "polar": {
           "angularaxis": {
            "gridcolor": "white",
            "linecolor": "white",
            "ticks": ""
           },
           "bgcolor": "#E5ECF6",
           "radialaxis": {
            "gridcolor": "white",
            "linecolor": "white",
            "ticks": ""
           }
          },
          "scene": {
           "xaxis": {
            "backgroundcolor": "#E5ECF6",
            "gridcolor": "white",
            "gridwidth": 2,
            "linecolor": "white",
            "showbackground": true,
            "ticks": "",
            "zerolinecolor": "white"
           },
           "yaxis": {
            "backgroundcolor": "#E5ECF6",
            "gridcolor": "white",
            "gridwidth": 2,
            "linecolor": "white",
            "showbackground": true,
            "ticks": "",
            "zerolinecolor": "white"
           },
           "zaxis": {
            "backgroundcolor": "#E5ECF6",
            "gridcolor": "white",
            "gridwidth": 2,
            "linecolor": "white",
            "showbackground": true,
            "ticks": "",
            "zerolinecolor": "white"
           }
          },
          "shapedefaults": {
           "line": {
            "color": "#2a3f5f"
           }
          },
          "ternary": {
           "aaxis": {
            "gridcolor": "white",
            "linecolor": "white",
            "ticks": ""
           },
           "baxis": {
            "gridcolor": "white",
            "linecolor": "white",
            "ticks": ""
           },
           "bgcolor": "#E5ECF6",
           "caxis": {
            "gridcolor": "white",
            "linecolor": "white",
            "ticks": ""
           }
          },
          "title": {
           "x": 0.05
          },
          "xaxis": {
           "automargin": true,
           "gridcolor": "white",
           "linecolor": "white",
           "ticks": "",
           "title": {
            "standoff": 15
           },
           "zerolinecolor": "white",
           "zerolinewidth": 2
          },
          "yaxis": {
           "automargin": true,
           "gridcolor": "white",
           "linecolor": "white",
           "ticks": "",
           "title": {
            "standoff": 15
           },
           "zerolinecolor": "white",
           "zerolinewidth": 2
          }
         }
        }
       }
      }
     },
     "metadata": {},
     "output_type": "display_data"
    }
   ],
   "source": [
    "# Representación 3D\n",
    "import plotly.express as px\n",
    "\n",
    "fig = px.scatter_3d(df4, x=X_pca[:,0], y=X_pca[:,1], z=X_pca[:,2], color=df4.index, color_discrete_sequence=px.colors.qualitative.Alphabet)\n",
    "fig.show()"
   ]
  },
  {
   "cell_type": "markdown",
   "metadata": {},
   "source": [
    "## Modelado"
   ]
  },
  {
   "cell_type": "markdown",
   "metadata": {},
   "source": [
    "### Clustering jerárquico"
   ]
  },
  {
   "cell_type": "code",
   "execution_count": 183,
   "metadata": {},
   "outputs": [
    {
     "data": {
      "image/png": "[encoded data removed]",
      "text/plain": [
       "<Figure size 1600x1000 with 4 Axes>"
      ]
     },
     "metadata": {},
     "output_type": "display_data"
    }
   ],
   "source": [
    "# Dendrograma probando con distintos métodos\n",
    "\n",
    "methods = ['single', 'complete', 'average', 'ward']\n",
    "plt.figure(figsize=(16, 10))\n",
    "for method in methods:\n",
    "    link_matrix = linkage(scaled_data, method=method, metric='euclidean')\n",
    "    plt.subplot(2, 2, methods.index(method) + 1)\n",
    "    dendrogram(link_matrix, labels=df4.index)\n",
    "    plt.title('Dendrograma ' + method.upper())\n",
    "\n",
    "plt.tight_layout()\n",
    "plt.show()"
   ]
  },
  {
   "cell_type": "markdown",
   "metadata": {},
   "source": [
    "El método ward es el que mejor se ajusta a los datos, por lo que se usará para el clustering jerárquico. Este método minimiza la distancia intra-cluster y maximiza la distancia inter-cluster."
   ]
  },
  {
   "cell_type": "code",
   "execution_count": 184,
   "metadata": {},
   "outputs": [
    {
     "data": {
      "image/png": "[encoded data removed]",
      "text/plain": [
       "<Figure size 800x500 with 1 Axes>"
      ]
     },
     "metadata": {},
     "output_type": "display_data"
    }
   ],
   "source": [
    "# Selección del método ward\n",
    "link_matrix_avg = linkage(scaled_data, method='ward', metric='euclidean')\n",
    "\n",
    "plt.figure(figsize=(8, 5))\n",
    "dendrogram(link_matrix_avg, labels=df4.index)\n",
    "plt.title('Dendrograma WARD')\n",
    "plt.show()"
   ]
  },
  {
   "cell_type": "code",
   "execution_count": 185,
   "metadata": {},
   "outputs": [
    {
     "name": "stdout",
     "output_type": "stream",
     "text": [
      "Coeficiente de silhouette para 2 clusters: 0.3085\n"
     ]
    }
   ],
   "source": [
    "# selección de número de clusters n = 2\n",
    "n = 2\n",
    "clusters = fcluster(link_matrix_avg, t=n, criterion='maxclust')\n",
    "coef = silhouette_score(df4_scaled, clusters)\n",
    "print(f\"Coeficiente de silhouette para {n} clusters: {coef:.4f}\")"
   ]
  },
  {
   "cell_type": "code",
   "execution_count": 186,
   "metadata": {},
   "outputs": [
    {
     "data": {
      "image/png": "[encoded data removed]",
      "text/plain": [
       "<Figure size 800x500 with 1 Axes>"
      ]
     },
     "metadata": {},
     "output_type": "display_data"
    }
   ],
   "source": [
    "# visualización del resultado\n",
    "plt.figure(figsize=(8, 5))\n",
    "scatter = plt.scatter(X_pca[:,0], X_pca[:,1], s=50, c=clusters, cmap='plasma_r')\n",
    "\n",
    "# nombres de las provincias \n",
    "for i in range(0, len(X_pca)):\n",
    "    plt.annotate(df4.iloc[i, :].name, (X_pca[i, 0], X_pca[i, 1]), fontsize=8)\n",
    "\n",
    "handles, labels = scatter.legend_elements()\n",
    "legend = plt.legend(handles, labels, title=\"Clusters\", bbox_to_anchor=(1.05, 1), loc='upper left')\n",
    "\n",
    "plt.show()"
   ]
  },
  {
   "cell_type": "code",
   "execution_count": 187,
   "metadata": {},
   "outputs": [
    {
     "data": {
      "application/vnd.plotly.v1+json": {
       "config": {
        "plotlyServerURL": "https://plot.ly"
       },
       "data": [
        {
         "hovertemplate": "x=%{x}<br>y=%{y}<br>z=%{z}<br>color=%{marker.color}<extra></extra>",
         "legendgroup": "",
         "marker": {
          "color": [
           2,
           2,
           2,
           2,
           1,
           2,
           2,
           2,
           2,
           1,
           2,
           2,
           1,
           2,
           2,
           2,
           2,
           2,
           2,
           2,
           2,
           2,
           2,
           2,
           1,
           2,
           1,
           2,
           2,
           2,
           2,
           1,
           1,
           1,
           2,
           1,
           2,
           2,
           2,
           2,
           2,
           2,
           2,
           2,
           1,
           2,
           1
          ],
          "coloraxis": "coloraxis",
          "symbol": "circle"
         },
         "mode": "markers",
         "name": "",
         "scene": "scene",
         "showlegend": false,
         "type": "scatter3d",
         "x": [
          -0.39460322764017536,
          0.00925724872374519,
          -0.7245469095083653,
          -0.04916385405503097,
          1.193113396924838,
          -0.1144774856875327,
          -0.46273439841111286,
          0.22446686802390325,
          0.24302335894605545,
          0.46729957994644905,
          -0.13874644932605798,
          -0.34757411255143683,
          0.5859597638059484,
          -0.06690595926727132,
          0.13136827425017436,
          -0.6250922170764945,
          -0.3624635437197256,
          0.10046076295490684,
          -0.34023026385264965,
          -0.5554967151530761,
          -0.6522105451386713,
          -0.5561273077044262,
          0.16823841763452163,
          -0.20811954463104332,
          0.9649680048311842,
          -0.32457181365579546,
          1.2975097573075078,
          -0.5066733413653514,
          -0.7262285259031528,
          -0.5385640066700879,
          -0.5001901766522003,
          1.2240896455401133,
          0.5315051389498436,
          0.5002337473749511,
          0.0035792361471204256,
          0.6010608783368451,
          0.05195358828352129,
          -0.8804334799856268,
          -0.017858004376508654,
          -0.2919668693362405,
          0.08599495943603284,
          -0.5015901514134656,
          -0.03730840851793019,
          0.2026832842497224,
          0.8751888522056902,
          -0.06930338217995977,
          0.5312259299063149
         ],
         "y": [
          -0.3493492019798791,
          -0.14755170161751235,
          -0.1864982616795299,
          0.5638693914810741,
          0.45203402476965066,
          -0.5623305651025203,
          0.6901675535471826,
          0.6823037367052576,
          -0.05673570090611789,
          0.515011760229958,
          -0.30228424848795815,
          -0.5415482198325909,
          0.17531429141258292,
          -0.42787382292729237,
          -0.38609056730213903,
          -0.0392005387359275,
          -0.18919864024313593,
          0.5787045980038162,
          0.1503406577761907,
          -0.0037861814621505726,
          0.015520317036033324,
          -0.21198844983853773,
          -0.13232155028958345,
          -0.3834805725608277,
          -0.057828877556906653,
          0.5258435539537847,
          -0.005274015424488411,
          0.47547054925289683,
          -0.07710906205686129,
          0.12895152861486828,
          0.4779482567453359,
          -0.03573239629347863,
          -0.2018853717630393,
          0.15372556848124508,
          0.19821650620999326,
          -0.12635397463092973,
          -0.025926629907197817,
          0.1628893726274982,
          -0.03231288357485544,
          0.14560511517301533,
          -0.26335930617210074,
          -0.3657460756291395,
          -0.02838241310586826,
          -0.18123680751461282,
          -0.4219122785959796,
          -0.009291511914974687,
          -0.33932695491424764
         ],
         "z": [
          -0.1548921422545025,
          -0.11632964283323576,
          0.07337377262635426,
          -0.35669612298569164,
          0.0686743808282983,
          0.2280853080276471,
          -0.18416651923872615,
          -0.2412963109867206,
          0.099819012082252,
          0.12028480261662354,
          -0.06492821508897868,
          -0.4108696230959427,
          0.39391668941897023,
          -0.5505462744916937,
          0.10967940931097656,
          0.571927752159063,
          -0.28212512228223807,
          -0.42980298991332283,
          0.1513767462064932,
          0.11911545649238287,
          0.13218140223785954,
          0.23108577038403574,
          0.059535464184901236,
          -0.02141599957777104,
          0.14201528855727433,
          0.1991332596339758,
          0.38389206489220823,
          -0.02952425446899453,
          0.0736586839942451,
          0.005939202001584499,
          -0.26072324909877176,
          -0.1326674002106913,
          -0.3844018441458931,
          0.5390993486181493,
          -0.2198869284532085,
          -0.2109181063991342,
          -0.12719164056814217,
          0.08081467390446584,
          -0.31680612581858997,
          0.4675042204774768,
          -0.14480987526734132,
          0.17609403069335633,
          0.24840516773929075,
          0.1446620008495233,
          -0.13198041617153305,
          0.022324420679293425,
          -0.07061952526557828
         ]
        }
       ],
       "layout": {
        "coloraxis": {
         "colorbar": {
          "title": {
           "text": "color"
          }
         },
         "colorscale": [
          [
           0,
           "#f0f921"
          ],
          [
           0.1111111111111111,
           "#fdca26"
          ],
          [
           0.2222222222222222,
           "#fb9f3a"
          ],
          [
           0.3333333333333333,
           "#ed7953"
          ],
          [
           0.4444444444444444,
           "#d8576b"
          ],
          [
           0.5555555555555556,
           "#bd3786"
          ],
          [
           0.6666666666666666,
           "#9c179e"
          ],
          [
           0.7777777777777778,
           "#7201a8"
          ],
          [
           0.8888888888888888,
           "#46039f"
          ],
          [
           1,
           "#0d0887"
          ]
         ]
        },
        "legend": {
         "tracegroupgap": 0
        },
        "margin": {
         "t": 60
        },
        "scene": {
         "domain": {
          "x": [
           0,
           1
          ],
          "y": [
           0,
           1
          ]
         },
         "xaxis": {
          "title": {
           "text": "x"
          }
         },
         "yaxis": {
          "title": {
           "text": "y"
          }
         },
         "zaxis": {
          "title": {
           "text": "z"
          }
         }
        },
        "template": {
         "data": {
          "bar": [
           {
            "error_x": {
             "color": "#2a3f5f"
            },
            "error_y": {
             "color": "#2a3f5f"
            },
            "marker": {
             "line": {
              "color": "#E5ECF6",
              "width": 0.5
             },
             "pattern": {
              "fillmode": "overlay",
              "size": 10,
              "solidity": 0.2
             }
            },
            "type": "bar"
           }
          ],
          "barpolar": [
           {
            "marker": {
             "line": {
              "color": "#E5ECF6",
              "width": 0.5
             },
             "pattern": {
              "fillmode": "overlay",
              "size": 10,
              "solidity": 0.2
             }
            },
            "type": "barpolar"
           }
          ],
          "carpet": [
           {
            "aaxis": {
             "endlinecolor": "#2a3f5f",
             "gridcolor": "white",
             "linecolor": "white",
             "minorgridcolor": "white",
             "startlinecolor": "#2a3f5f"
            },
            "baxis": {
             "endlinecolor": "#2a3f5f",
             "gridcolor": "white",
             "linecolor": "white",
             "minorgridcolor": "white",
             "startlinecolor": "#2a3f5f"
            },
            "type": "carpet"
           }
          ],
          "choropleth": [
           {
            "colorbar": {
             "outlinewidth": 0,
             "ticks": ""
            },
            "type": "choropleth"
           }
          ],
          "contour": [
           {
            "colorbar": {
             "outlinewidth": 0,
             "ticks": ""
            },
            "colorscale": [
             [
              0,
              "#0d0887"
             ],
             [
              0.1111111111111111,
              "#46039f"
             ],
             [
              0.2222222222222222,
              "#7201a8"
             ],
             [
              0.3333333333333333,
              "#9c179e"
             ],
             [
              0.4444444444444444,
              "#bd3786"
             ],
             [
              0.5555555555555556,
              "#d8576b"
             ],
             [
              0.6666666666666666,
              "#ed7953"
             ],
             [
              0.7777777777777778,
              "#fb9f3a"
             ],
             [
              0.8888888888888888,
              "#fdca26"
             ],
             [
              1,
              "#f0f921"
             ]
            ],
            "type": "contour"
           }
          ],
          "contourcarpet": [
           {
            "colorbar": {
             "outlinewidth": 0,
             "ticks": ""
            },
            "type": "contourcarpet"
           }
          ],
          "heatmap": [
           {
            "colorbar": {
             "outlinewidth": 0,
             "ticks": ""
            },
            "colorscale": [
             [
              0,
              "#0d0887"
             ],
             [
              0.1111111111111111,
              "#46039f"
             ],
             [
              0.2222222222222222,
              "#7201a8"
             ],
             [
              0.3333333333333333,
              "#9c179e"
             ],
             [
              0.4444444444444444,
              "#bd3786"
             ],
             [
              0.5555555555555556,
              "#d8576b"
             ],
             [
              0.6666666666666666,
              "#ed7953"
             ],
             [
              0.7777777777777778,
              "#fb9f3a"
             ],
             [
              0.8888888888888888,
              "#fdca26"
             ],
             [
              1,
              "#f0f921"
             ]
            ],
            "type": "heatmap"
           }
          ],
          "heatmapgl": [
           {
            "colorbar": {
             "outlinewidth": 0,
             "ticks": ""
            },
            "colorscale": [
             [
              0,
              "#0d0887"
             ],
             [
              0.1111111111111111,
              "#46039f"
             ],
             [
              0.2222222222222222,
              "#7201a8"
             ],
             [
              0.3333333333333333,
              "#9c179e"
             ],
             [
              0.4444444444444444,
              "#bd3786"
             ],
             [
              0.5555555555555556,
              "#d8576b"
             ],
             [
              0.6666666666666666,
              "#ed7953"
             ],
             [
              0.7777777777777778,
              "#fb9f3a"
             ],
             [
              0.8888888888888888,
              "#fdca26"
             ],
             [
              1,
              "#f0f921"
             ]
            ],
            "type": "heatmapgl"
           }
          ],
          "histogram": [
           {
            "marker": {
             "pattern": {
              "fillmode": "overlay",
              "size": 10,
              "solidity": 0.2
             }
            },
            "type": "histogram"
           }
          ],
          "histogram2d": [
           {
            "colorbar": {
             "outlinewidth": 0,
             "ticks": ""
            },
            "colorscale": [
             [
              0,
              "#0d0887"
             ],
             [
              0.1111111111111111,
              "#46039f"
             ],
             [
              0.2222222222222222,
              "#7201a8"
             ],
             [
              0.3333333333333333,
              "#9c179e"
             ],
             [
              0.4444444444444444,
              "#bd3786"
             ],
             [
              0.5555555555555556,
              "#d8576b"
             ],
             [
              0.6666666666666666,
              "#ed7953"
             ],
             [
              0.7777777777777778,
              "#fb9f3a"
             ],
             [
              0.8888888888888888,
              "#fdca26"
             ],
             [
              1,
              "#f0f921"
             ]
            ],
            "type": "histogram2d"
           }
          ],
          "histogram2dcontour": [
           {
            "colorbar": {
             "outlinewidth": 0,
             "ticks": ""
            },
            "colorscale": [
             [
              0,
              "#0d0887"
             ],
             [
              0.1111111111111111,
              "#46039f"
             ],
             [
              0.2222222222222222,
              "#7201a8"
             ],
             [
              0.3333333333333333,
              "#9c179e"
             ],
             [
              0.4444444444444444,
              "#bd3786"
             ],
             [
              0.5555555555555556,
              "#d8576b"
             ],
             [
              0.6666666666666666,
              "#ed7953"
             ],
             [
              0.7777777777777778,
              "#fb9f3a"
             ],
             [
              0.8888888888888888,
              "#fdca26"
             ],
             [
              1,
              "#f0f921"
             ]
            ],
            "type": "histogram2dcontour"
           }
          ],
          "mesh3d": [
           {
            "colorbar": {
             "outlinewidth": 0,
             "ticks": ""
            },
            "type": "mesh3d"
           }
          ],
          "parcoords": [
           {
            "line": {
             "colorbar": {
              "outlinewidth": 0,
              "ticks": ""
             }
            },
            "type": "parcoords"
           }
          ],
          "pie": [
           {
            "automargin": true,
            "type": "pie"
           }
          ],
          "scatter": [
           {
            "fillpattern": {
             "fillmode": "overlay",
             "size": 10,
             "solidity": 0.2
            },
            "type": "scatter"
           }
          ],
          "scatter3d": [
           {
            "line": {
             "colorbar": {
              "outlinewidth": 0,
              "ticks": ""
             }
            },
            "marker": {
             "colorbar": {
              "outlinewidth": 0,
              "ticks": ""
             }
            },
            "type": "scatter3d"
           }
          ],
          "scattercarpet": [
           {
            "marker": {
             "colorbar": {
              "outlinewidth": 0,
              "ticks": ""
             }
            },
            "type": "scattercarpet"
           }
          ],
          "scattergeo": [
           {
            "marker": {
             "colorbar": {
              "outlinewidth": 0,
              "ticks": ""
             }
            },
            "type": "scattergeo"
           }
          ],
          "scattergl": [
           {
            "marker": {
             "colorbar": {
              "outlinewidth": 0,
              "ticks": ""
             }
            },
            "type": "scattergl"
           }
          ],
          "scattermapbox": [
           {
            "marker": {
             "colorbar": {
              "outlinewidth": 0,
              "ticks": ""
             }
            },
            "type": "scattermapbox"
           }
          ],
          "scatterpolar": [
           {
            "marker": {
             "colorbar": {
              "outlinewidth": 0,
              "ticks": ""
             }
            },
            "type": "scatterpolar"
           }
          ],
          "scatterpolargl": [
           {
            "marker": {
             "colorbar": {
              "outlinewidth": 0,
              "ticks": ""
             }
            },
            "type": "scatterpolargl"
           }
          ],
          "scatterternary": [
           {
            "marker": {
             "colorbar": {
              "outlinewidth": 0,
              "ticks": ""
             }
            },
            "type": "scatterternary"
           }
          ],
          "surface": [
           {
            "colorbar": {
             "outlinewidth": 0,
             "ticks": ""
            },
            "colorscale": [
             [
              0,
              "#0d0887"
             ],
             [
              0.1111111111111111,
              "#46039f"
             ],
             [
              0.2222222222222222,
              "#7201a8"
             ],
             [
              0.3333333333333333,
              "#9c179e"
             ],
             [
              0.4444444444444444,
              "#bd3786"
             ],
             [
              0.5555555555555556,
              "#d8576b"
             ],
             [
              0.6666666666666666,
              "#ed7953"
             ],
             [
              0.7777777777777778,
              "#fb9f3a"
             ],
             [
              0.8888888888888888,
              "#fdca26"
             ],
             [
              1,
              "#f0f921"
             ]
            ],
            "type": "surface"
           }
          ],
          "table": [
           {
            "cells": {
             "fill": {
              "color": "#EBF0F8"
             },
             "line": {
              "color": "white"
             }
            },
            "header": {
             "fill": {
              "color": "#C8D4E3"
             },
             "line": {
              "color": "white"
             }
            },
            "type": "table"
           }
          ]
         },
         "layout": {
          "annotationdefaults": {
           "arrowcolor": "#2a3f5f",
           "arrowhead": 0,
           "arrowwidth": 1
          },
          "autotypenumbers": "strict",
          "coloraxis": {
           "colorbar": {
            "outlinewidth": 0,
            "ticks": ""
           }
          },
          "colorscale": {
           "diverging": [
            [
             0,
             "#8e0152"
            ],
            [
             0.1,
             "#c51b7d"
            ],
            [
             0.2,
             "#de77ae"
            ],
            [
             0.3,
             "#f1b6da"
            ],
            [
             0.4,
             "#fde0ef"
            ],
            [
             0.5,
             "#f7f7f7"
            ],
            [
             0.6,
             "#e6f5d0"
            ],
            [
             0.7,
             "#b8e186"
            ],
            [
             0.8,
             "#7fbc41"
            ],
            [
             0.9,
             "#4d9221"
            ],
            [
             1,
             "#276419"
            ]
           ],
           "sequential": [
            [
             0,
             "#0d0887"
            ],
            [
             0.1111111111111111,
             "#46039f"
            ],
            [
             0.2222222222222222,
             "#7201a8"
            ],
            [
             0.3333333333333333,
             "#9c179e"
            ],
            [
             0.4444444444444444,
             "#bd3786"
            ],
            [
             0.5555555555555556,
             "#d8576b"
            ],
            [
             0.6666666666666666,
             "#ed7953"
            ],
            [
             0.7777777777777778,
             "#fb9f3a"
            ],
            [
             0.8888888888888888,
             "#fdca26"
            ],
            [
             1,
             "#f0f921"
            ]
           ],
           "sequentialminus": [
            [
             0,
             "#0d0887"
            ],
            [
             0.1111111111111111,
             "#46039f"
            ],
            [
             0.2222222222222222,
             "#7201a8"
            ],
            [
             0.3333333333333333,
             "#9c179e"
            ],
            [
             0.4444444444444444,
             "#bd3786"
            ],
            [
             0.5555555555555556,
             "#d8576b"
            ],
            [
             0.6666666666666666,
             "#ed7953"
            ],
            [
             0.7777777777777778,
             "#fb9f3a"
            ],
            [
             0.8888888888888888,
             "#fdca26"
            ],
            [
             1,
             "#f0f921"
            ]
           ]
          },
          "colorway": [
           "#636efa",
           "#EF553B",
           "#00cc96",
           "#ab63fa",
           "#FFA15A",
           "#19d3f3",
           "#FF6692",
           "#B6E880",
           "#FF97FF",
           "#FECB52"
          ],
          "font": {
           "color": "#2a3f5f"
          },
          "geo": {
           "bgcolor": "white",
           "lakecolor": "white",
           "landcolor": "#E5ECF6",
           "showlakes": true,
           "showland": true,
           "subunitcolor": "white"
          },
          "hoverlabel": {
           "align": "left"
          },
          "hovermode": "closest",
          "mapbox": {
           "style": "light"
          },
          "paper_bgcolor": "white",
          "plot_bgcolor": "#E5ECF6",
          "polar": {
           "angularaxis": {
            "gridcolor": "white",
            "linecolor": "white",
            "ticks": ""
           },
           "bgcolor": "#E5ECF6",
           "radialaxis": {
            "gridcolor": "white",
            "linecolor": "white",
            "ticks": ""
           }
          },
          "scene": {
           "xaxis": {
            "backgroundcolor": "#E5ECF6",
            "gridcolor": "white",
            "gridwidth": 2,
            "linecolor": "white",
            "showbackground": true,
            "ticks": "",
            "zerolinecolor": "white"
           },
           "yaxis": {
            "backgroundcolor": "#E5ECF6",
            "gridcolor": "white",
            "gridwidth": 2,
            "linecolor": "white",
            "showbackground": true,
            "ticks": "",
            "zerolinecolor": "white"
           },
           "zaxis": {
            "backgroundcolor": "#E5ECF6",
            "gridcolor": "white",
            "gridwidth": 2,
            "linecolor": "white",
            "showbackground": true,
            "ticks": "",
            "zerolinecolor": "white"
           }
          },
          "shapedefaults": {
           "line": {
            "color": "#2a3f5f"
           }
          },
          "ternary": {
           "aaxis": {
            "gridcolor": "white",
            "linecolor": "white",
            "ticks": ""
           },
           "baxis": {
            "gridcolor": "white",
            "linecolor": "white",
            "ticks": ""
           },
           "bgcolor": "#E5ECF6",
           "caxis": {
            "gridcolor": "white",
            "linecolor": "white",
            "ticks": ""
           }
          },
          "title": {
           "x": 0.05
          },
          "xaxis": {
           "automargin": true,
           "gridcolor": "white",
           "linecolor": "white",
           "ticks": "",
           "title": {
            "standoff": 15
           },
           "zerolinecolor": "white",
           "zerolinewidth": 2
          },
          "yaxis": {
           "automargin": true,
           "gridcolor": "white",
           "linecolor": "white",
           "ticks": "",
           "title": {
            "standoff": 15
           },
           "zerolinecolor": "white",
           "zerolinewidth": 2
          }
         }
        }
       }
      }
     },
     "metadata": {},
     "output_type": "display_data"
    }
   ],
   "source": [
    "import plotly.express as px\n",
    "\n",
    "fig = px.scatter_3d(df4, x=X_pca[:,0], y=X_pca[:,1], z=X_pca[:,2], color=clusters, color_continuous_scale='plasma_r')\n",
    "fig.show()"
   ]
  },
  {
   "cell_type": "markdown",
   "metadata": {},
   "source": [
    "## Resultados"
   ]
  },
  {
   "attachments": {
    "Edad_mediana_2C.png": {
     "image/png": "[encoded data removed]"
    }
   },
   "cell_type": "markdown",
   "metadata": {},
   "source": [
    "Mapa de la península con las provincias coloreadas según el cluster al que pertenecen.   \n",
    "\n",
    "![Edad_mediana_2C.png](attachment:Edad_mediana_2C.png)"
   ]
  },
  {
   "attachments": {
    "Edad_mediana_3C.png": {
     "image/png": "[encoded data removed]"
    }
   },
   "cell_type": "markdown",
   "metadata": {},
   "source": [
    "**Extra**\n",
    "\n",
    "Este sería el resultado si se hubieran elegido 3 clusters. Es difícil interpretarlo, ya que ni siquiera coincide con los diferentes climas de la península ni con la división por ciudades más grandes.\n",
    "\n",
    "\n",
    "![Edad_mediana_3C.png](attachment:Edad_mediana_3C.png)"
   ]
  },
  {
   "cell_type": "code",
   "execution_count": 188,
   "metadata": {},
   "outputs": [
    {
     "data": {
      "image/png": "[encoded data removed]",
      "text/plain": [
       "<Figure size 800x500 with 1 Axes>"
      ]
     },
     "metadata": {},
     "output_type": "display_data"
    }
   ],
   "source": [
    "clusters = fcluster(link_matrix_avg, t=3, criterion='maxclust')\n",
    "\n",
    "# visualización del resultado\n",
    "plt.figure(figsize=(8, 5))\n",
    "scatter = plt.scatter(X_pca[:,0], X_pca[:,1], s=50, c=clusters, cmap='plasma_r')\n",
    "\n",
    "handles, labels = scatter.legend_elements()\n",
    "legend = plt.legend(handles, labels, title=\"Clusters\", bbox_to_anchor=(1.05, 1), loc='upper left')\n",
    "\n",
    "plt.show()"
   ]
  },
  {
   "cell_type": "markdown",
   "metadata": {},
   "source": [
    "----------------"
   ]
  },
  {
   "cell_type": "markdown",
   "metadata": {},
   "source": [
    "## Datos K-Means\n",
    "\n",
    "Usando la edad media."
   ]
  },
  {
   "cell_type": "code",
   "execution_count": 189,
   "metadata": {},
   "outputs": [],
   "source": [
    "# cargar los datos\n",
    "df1 = pd.read_csv(GOLD_DATA_PATH + \"data_card_1_df.csv\", sep=\";\", encoding = 'latin')\n",
    "\n",
    "df4 = pd.read_csv(GOLD_DATA_PATH + \"data_card_4_df.csv\", sep=\";\", encoding = 'latin')\n",
    "df4.drop(columns=[\"Unnamed: 0\"], inplace=True)"
   ]
  },
  {
   "cell_type": "code",
   "execution_count": 190,
   "metadata": {},
   "outputs": [],
   "source": [
    "df4.drop(columns=[\"Mediana edad\"], inplace=True)"
   ]
  },
  {
   "cell_type": "code",
   "execution_count": 191,
   "metadata": {},
   "outputs": [],
   "source": [
    "# sustituir la variable edad\n",
    "df4 = pd.concat([df4, df1['Edad media']], axis=1)\n",
    "df4.set_index('Provincias', inplace=True)"
   ]
  },
  {
   "cell_type": "code",
   "execution_count": 192,
   "metadata": {},
   "outputs": [
    {
     "data": {
      "text/html": [
       "<div>\n",
       "<style scoped>\n",
       "    .dataframe tbody tr th:only-of-type {\n",
       "        vertical-align: middle;\n",
       "    }\n",
       "\n",
       "    .dataframe tbody tr th {\n",
       "        vertical-align: top;\n",
       "    }\n",
       "\n",
       "    .dataframe thead th {\n",
       "        text-align: right;\n",
       "    }\n",
       "</style>\n",
       "<table border=\"1\" class=\"dataframe\">\n",
       "  <thead>\n",
       "    <tr style=\"text-align: right;\">\n",
       "      <th></th>\n",
       "      <th>Porcentaje con dispositivo</th>\n",
       "      <th>Renta</th>\n",
       "      <th>Producción media</th>\n",
       "      <th>Familia de 1 padres y 0 hijos</th>\n",
       "      <th>Familia de 1 padres y 1 hijos</th>\n",
       "      <th>Familia de 1 padres y 2 hijos</th>\n",
       "      <th>Familia de 2 padres y 0 hijos</th>\n",
       "      <th>Familia de 2 padres y 1 hijos</th>\n",
       "      <th>Familia de 2 padres y 2 hijos</th>\n",
       "      <th>Edad media</th>\n",
       "    </tr>\n",
       "    <tr>\n",
       "      <th>Provincias</th>\n",
       "      <th></th>\n",
       "      <th></th>\n",
       "      <th></th>\n",
       "      <th></th>\n",
       "      <th></th>\n",
       "      <th></th>\n",
       "      <th></th>\n",
       "      <th></th>\n",
       "      <th></th>\n",
       "      <th></th>\n",
       "    </tr>\n",
       "  </thead>\n",
       "  <tbody>\n",
       "    <tr>\n",
       "      <th>Albacete</th>\n",
       "      <td>4.314062</td>\n",
       "      <td>29549.0</td>\n",
       "      <td>136.528958</td>\n",
       "      <td>0.033132</td>\n",
       "      <td>0.072565</td>\n",
       "      <td>0.044648</td>\n",
       "      <td>0.356690</td>\n",
       "      <td>0.204834</td>\n",
       "      <td>0.288130</td>\n",
       "      <td>43.677523</td>\n",
       "    </tr>\n",
       "    <tr>\n",
       "      <th>Alicante/Alacant</th>\n",
       "      <td>4.036060</td>\n",
       "      <td>27540.0</td>\n",
       "      <td>135.823750</td>\n",
       "      <td>0.041038</td>\n",
       "      <td>0.094143</td>\n",
       "      <td>0.045081</td>\n",
       "      <td>0.394342</td>\n",
       "      <td>0.197734</td>\n",
       "      <td>0.227663</td>\n",
       "      <td>43.766889</td>\n",
       "    </tr>\n",
       "    <tr>\n",
       "      <th>Almería</th>\n",
       "      <td>6.713842</td>\n",
       "      <td>27301.0</td>\n",
       "      <td>140.478389</td>\n",
       "      <td>0.030276</td>\n",
       "      <td>0.090071</td>\n",
       "      <td>0.042470</td>\n",
       "      <td>0.349780</td>\n",
       "      <td>0.201309</td>\n",
       "      <td>0.286094</td>\n",
       "      <td>40.320448</td>\n",
       "    </tr>\n",
       "    <tr>\n",
       "      <th>Araba/Álava</th>\n",
       "      <td>10.445424</td>\n",
       "      <td>36848.0</td>\n",
       "      <td>107.768333</td>\n",
       "      <td>0.033775</td>\n",
       "      <td>0.097398</td>\n",
       "      <td>0.045232</td>\n",
       "      <td>0.401223</td>\n",
       "      <td>0.194786</td>\n",
       "      <td>0.227587</td>\n",
       "      <td>44.565691</td>\n",
       "    </tr>\n",
       "    <tr>\n",
       "      <th>Asturias</th>\n",
       "      <td>5.031368</td>\n",
       "      <td>31841.0</td>\n",
       "      <td>92.622917</td>\n",
       "      <td>0.056932</td>\n",
       "      <td>0.115216</td>\n",
       "      <td>0.035539</td>\n",
       "      <td>0.432127</td>\n",
       "      <td>0.211392</td>\n",
       "      <td>0.148794</td>\n",
       "      <td>48.683390</td>\n",
       "    </tr>\n",
       "  </tbody>\n",
       "</table>\n",
       "</div>"
      ],
      "text/plain": [
       "                  Porcentaje con dispositivo    Renta  Producción media  \\\n",
       "Provincias                                                                \n",
       "Albacete                            4.314062  29549.0        136.528958   \n",
       "Alicante/Alacant                    4.036060  27540.0        135.823750   \n",
       "Almería                             6.713842  27301.0        140.478389   \n",
       "Araba/Álava                        10.445424  36848.0        107.768333   \n",
       "Asturias                            5.031368  31841.0         92.622917   \n",
       "\n",
       "                  Familia de 1 padres y 0 hijos  \\\n",
       "Provincias                                        \n",
       "Albacete                               0.033132   \n",
       "Alicante/Alacant                       0.041038   \n",
       "Almería                                0.030276   \n",
       "Araba/Álava                            0.033775   \n",
       "Asturias                               0.056932   \n",
       "\n",
       "                  Familia de 1 padres y 1 hijos  \\\n",
       "Provincias                                        \n",
       "Albacete                               0.072565   \n",
       "Alicante/Alacant                       0.094143   \n",
       "Almería                                0.090071   \n",
       "Araba/Álava                            0.097398   \n",
       "Asturias                               0.115216   \n",
       "\n",
       "                  Familia de 1 padres y 2 hijos  \\\n",
       "Provincias                                        \n",
       "Albacete                               0.044648   \n",
       "Alicante/Alacant                       0.045081   \n",
       "Almería                                0.042470   \n",
       "Araba/Álava                            0.045232   \n",
       "Asturias                               0.035539   \n",
       "\n",
       "                  Familia de 2 padres y 0 hijos  \\\n",
       "Provincias                                        \n",
       "Albacete                               0.356690   \n",
       "Alicante/Alacant                       0.394342   \n",
       "Almería                                0.349780   \n",
       "Araba/Álava                            0.401223   \n",
       "Asturias                               0.432127   \n",
       "\n",
       "                  Familia de 2 padres y 1 hijos  \\\n",
       "Provincias                                        \n",
       "Albacete                               0.204834   \n",
       "Alicante/Alacant                       0.197734   \n",
       "Almería                                0.201309   \n",
       "Araba/Álava                            0.194786   \n",
       "Asturias                               0.211392   \n",
       "\n",
       "                  Familia de 2 padres y 2 hijos  Edad media  \n",
       "Provincias                                                   \n",
       "Albacete                               0.288130   43.677523  \n",
       "Alicante/Alacant                       0.227663   43.766889  \n",
       "Almería                                0.286094   40.320448  \n",
       "Araba/Álava                            0.227587   44.565691  \n",
       "Asturias                               0.148794   48.683390  "
      ]
     },
     "execution_count": 192,
     "metadata": {},
     "output_type": "execute_result"
    }
   ],
   "source": [
    "df4.head()"
   ]
  },
  {
   "cell_type": "markdown",
   "metadata": {},
   "source": [
    "## Estandarización de los datos"
   ]
  },
  {
   "cell_type": "markdown",
   "metadata": {},
   "source": [
    "Cada variable tiene una escala diferente, por lo que es necesario estandarizar los datos para que todas tengan la misma importancia en el análisis.\n",
    "Se ha elegido el MinMaxScaler para que los valores estén entre 0 y 1, intentando modificar lo menos posible la distribución de los datos."
   ]
  },
  {
   "cell_type": "code",
   "execution_count": 193,
   "metadata": {},
   "outputs": [
    {
     "data": {
      "text/html": [
       "<div>\n",
       "<style scoped>\n",
       "    .dataframe tbody tr th:only-of-type {\n",
       "        vertical-align: middle;\n",
       "    }\n",
       "\n",
       "    .dataframe tbody tr th {\n",
       "        vertical-align: top;\n",
       "    }\n",
       "\n",
       "    .dataframe thead th {\n",
       "        text-align: right;\n",
       "    }\n",
       "</style>\n",
       "<table border=\"1\" class=\"dataframe\">\n",
       "  <thead>\n",
       "    <tr style=\"text-align: right;\">\n",
       "      <th></th>\n",
       "      <th>Porcentaje con dispositivo</th>\n",
       "      <th>Renta</th>\n",
       "      <th>Producción media</th>\n",
       "      <th>Familia de 1 padres y 0 hijos</th>\n",
       "      <th>Familia de 1 padres y 1 hijos</th>\n",
       "      <th>Familia de 1 padres y 2 hijos</th>\n",
       "      <th>Familia de 2 padres y 0 hijos</th>\n",
       "      <th>Familia de 2 padres y 1 hijos</th>\n",
       "      <th>Familia de 2 padres y 2 hijos</th>\n",
       "      <th>Edad media</th>\n",
       "    </tr>\n",
       "    <tr>\n",
       "      <th>Provincias</th>\n",
       "      <th></th>\n",
       "      <th></th>\n",
       "      <th></th>\n",
       "      <th></th>\n",
       "      <th></th>\n",
       "      <th></th>\n",
       "      <th></th>\n",
       "      <th></th>\n",
       "      <th></th>\n",
       "      <th></th>\n",
       "    </tr>\n",
       "  </thead>\n",
       "  <tbody>\n",
       "    <tr>\n",
       "      <th>Albacete</th>\n",
       "      <td>0.157519</td>\n",
       "      <td>0.226017</td>\n",
       "      <td>0.918039</td>\n",
       "      <td>0.171973</td>\n",
       "      <td>0.252788</td>\n",
       "      <td>0.614710</td>\n",
       "      <td>0.245278</td>\n",
       "      <td>0.422595</td>\n",
       "      <td>0.943885</td>\n",
       "      <td>0.312311</td>\n",
       "    </tr>\n",
       "    <tr>\n",
       "      <th>Alicante/Alacant</th>\n",
       "      <td>0.128196</td>\n",
       "      <td>0.114808</td>\n",
       "      <td>0.903404</td>\n",
       "      <td>0.412220</td>\n",
       "      <td>0.630817</td>\n",
       "      <td>0.629123</td>\n",
       "      <td>0.506302</td>\n",
       "      <td>0.258196</td>\n",
       "      <td>0.550791</td>\n",
       "      <td>0.320625</td>\n",
       "    </tr>\n",
       "    <tr>\n",
       "      <th>Almería</th>\n",
       "      <td>0.410642</td>\n",
       "      <td>0.101578</td>\n",
       "      <td>1.000000</td>\n",
       "      <td>0.085170</td>\n",
       "      <td>0.559481</td>\n",
       "      <td>0.542252</td>\n",
       "      <td>0.197373</td>\n",
       "      <td>0.340967</td>\n",
       "      <td>0.930649</td>\n",
       "      <td>0.000000</td>\n",
       "    </tr>\n",
       "  </tbody>\n",
       "</table>\n",
       "</div>"
      ],
      "text/plain": [
       "                  Porcentaje con dispositivo     Renta  Producción media  \\\n",
       "Provincias                                                                 \n",
       "Albacete                            0.157519  0.226017          0.918039   \n",
       "Alicante/Alacant                    0.128196  0.114808          0.903404   \n",
       "Almería                             0.410642  0.101578          1.000000   \n",
       "\n",
       "                  Familia de 1 padres y 0 hijos  \\\n",
       "Provincias                                        \n",
       "Albacete                               0.171973   \n",
       "Alicante/Alacant                       0.412220   \n",
       "Almería                                0.085170   \n",
       "\n",
       "                  Familia de 1 padres y 1 hijos  \\\n",
       "Provincias                                        \n",
       "Albacete                               0.252788   \n",
       "Alicante/Alacant                       0.630817   \n",
       "Almería                                0.559481   \n",
       "\n",
       "                  Familia de 1 padres y 2 hijos  \\\n",
       "Provincias                                        \n",
       "Albacete                               0.614710   \n",
       "Alicante/Alacant                       0.629123   \n",
       "Almería                                0.542252   \n",
       "\n",
       "                  Familia de 2 padres y 0 hijos  \\\n",
       "Provincias                                        \n",
       "Albacete                               0.245278   \n",
       "Alicante/Alacant                       0.506302   \n",
       "Almería                                0.197373   \n",
       "\n",
       "                  Familia de 2 padres y 1 hijos  \\\n",
       "Provincias                                        \n",
       "Albacete                               0.422595   \n",
       "Alicante/Alacant                       0.258196   \n",
       "Almería                                0.340967   \n",
       "\n",
       "                  Familia de 2 padres y 2 hijos  Edad media  \n",
       "Provincias                                                   \n",
       "Albacete                               0.943885    0.312311  \n",
       "Alicante/Alacant                       0.550791    0.320625  \n",
       "Almería                                0.930649    0.000000  "
      ]
     },
     "execution_count": 193,
     "metadata": {},
     "output_type": "execute_result"
    }
   ],
   "source": [
    "# Escalado de los datos a un rango de 0 a 1\n",
    "from sklearn.preprocessing import MinMaxScaler\n",
    "\n",
    "scaler = MinMaxScaler()\n",
    "scaled_data = scaler.fit_transform(df4)\n",
    "df4_scaled = pd.DataFrame(scaled_data, columns=df4.columns, index=df4.index)\n",
    "\n",
    "df4_scaled.head(3)"
   ]
  },
  {
   "cell_type": "markdown",
   "metadata": {},
   "source": [
    "## Análisis de componentes principales\n",
    "\n",
    "Para reducir la dimensionalidad de los datos y poder visualizarlos, se aplicará PCA con 2 componentes."
   ]
  },
  {
   "cell_type": "code",
   "execution_count": 194,
   "metadata": {},
   "outputs": [
    {
     "name": "stdout",
     "output_type": "stream",
     "text": [
      "Porcentaje de varianza explicado por cada componente:\n",
      " [0.46993859 0.18378319]\n"
     ]
    },
    {
     "data": {
      "text/html": [
       "<div>\n",
       "<style scoped>\n",
       "    .dataframe tbody tr th:only-of-type {\n",
       "        vertical-align: middle;\n",
       "    }\n",
       "\n",
       "    .dataframe tbody tr th {\n",
       "        vertical-align: top;\n",
       "    }\n",
       "\n",
       "    .dataframe thead th {\n",
       "        text-align: right;\n",
       "    }\n",
       "</style>\n",
       "<table border=\"1\" class=\"dataframe\">\n",
       "  <thead>\n",
       "    <tr style=\"text-align: right;\">\n",
       "      <th></th>\n",
       "      <th>0</th>\n",
       "      <th>1</th>\n",
       "    </tr>\n",
       "  </thead>\n",
       "  <tbody>\n",
       "    <tr>\n",
       "      <th>Porcentaje con dispositivo</th>\n",
       "      <td>0.205603</td>\n",
       "      <td>0.220431</td>\n",
       "    </tr>\n",
       "    <tr>\n",
       "      <th>Renta</th>\n",
       "      <td>0.008813</td>\n",
       "      <td>0.569415</td>\n",
       "    </tr>\n",
       "    <tr>\n",
       "      <th>Producción media</th>\n",
       "      <td>0.336520</td>\n",
       "      <td>-0.489870</td>\n",
       "    </tr>\n",
       "    <tr>\n",
       "      <th>Familia de 1 padres y 0 hijos</th>\n",
       "      <td>-0.390473</td>\n",
       "      <td>0.026589</td>\n",
       "    </tr>\n",
       "    <tr>\n",
       "      <th>Familia de 1 padres y 1 hijos</th>\n",
       "      <td>-0.226515</td>\n",
       "      <td>0.320956</td>\n",
       "    </tr>\n",
       "    <tr>\n",
       "      <th>Familia de 1 padres y 2 hijos</th>\n",
       "      <td>0.277720</td>\n",
       "      <td>0.429889</td>\n",
       "    </tr>\n",
       "    <tr>\n",
       "      <th>Familia de 2 padres y 0 hijos</th>\n",
       "      <td>-0.348278</td>\n",
       "      <td>-0.063164</td>\n",
       "    </tr>\n",
       "    <tr>\n",
       "      <th>Familia de 2 padres y 1 hijos</th>\n",
       "      <td>-0.137704</td>\n",
       "      <td>-0.273299</td>\n",
       "    </tr>\n",
       "    <tr>\n",
       "      <th>Familia de 2 padres y 2 hijos</th>\n",
       "      <td>0.478571</td>\n",
       "      <td>-0.072816</td>\n",
       "    </tr>\n",
       "    <tr>\n",
       "      <th>Edad media</th>\n",
       "      <td>-0.440690</td>\n",
       "      <td>-0.121222</td>\n",
       "    </tr>\n",
       "  </tbody>\n",
       "</table>\n",
       "</div>"
      ],
      "text/plain": [
       "                                      0         1\n",
       "Porcentaje con dispositivo     0.205603  0.220431\n",
       "Renta                          0.008813  0.569415\n",
       "Producción media               0.336520 -0.489870\n",
       "Familia de 1 padres y 0 hijos -0.390473  0.026589\n",
       "Familia de 1 padres y 1 hijos -0.226515  0.320956\n",
       "Familia de 1 padres y 2 hijos  0.277720  0.429889\n",
       "Familia de 2 padres y 0 hijos -0.348278 -0.063164\n",
       "Familia de 2 padres y 1 hijos -0.137704 -0.273299\n",
       "Familia de 2 padres y 2 hijos  0.478571 -0.072816\n",
       "Edad media                    -0.440690 -0.121222"
      ]
     },
     "execution_count": 194,
     "metadata": {},
     "output_type": "execute_result"
    }
   ],
   "source": [
    "# Calculo de PCA\n",
    "from sklearn.decomposition import PCA\n",
    "\n",
    "estimator = PCA(n_components=2)\n",
    "X_pca = estimator.fit_transform(scaled_data)\n",
    "\n",
    "print(\"Porcentaje de varianza explicado por cada componente:\\n\", estimator.explained_variance_ratio_)\n",
    "pd.DataFrame(np.matrix.transpose(estimator.components_), index=df4.columns)"
   ]
  },
  {
   "cell_type": "code",
   "execution_count": 195,
   "metadata": {},
   "outputs": [
    {
     "data": {
      "text/plain": [
       "Text(0.5, 1.0, 'Representación 2D de los datos')"
      ]
     },
     "execution_count": 195,
     "metadata": {},
     "output_type": "execute_result"
    },
    {
     "data": {
      "image/png": "[encoded data removed]",
      "text/plain": [
       "<Figure size 640x480 with 1 Axes>"
      ]
     },
     "metadata": {},
     "output_type": "display_data"
    }
   ],
   "source": [
    "#Representación 2D\n",
    "fig, ax = plt.subplots()\n",
    "ax.scatter(X_pca[:,0], X_pca[:,1], s=50)\n",
    "\n",
    "# anotación \n",
    "for i in range(0, len(X_pca)):\n",
    "    ax.annotate(df4.iloc[i, :].name, (X_pca[i, 0], X_pca[i, 1]), fontsize=8)\n",
    "ax.set_title(\"Representación 2D de los datos\")"
   ]
  },
  {
   "cell_type": "markdown",
   "metadata": {},
   "source": [
    "## Modelado"
   ]
  },
  {
   "cell_type": "markdown",
   "metadata": {},
   "source": [
    "### K-means"
   ]
  },
  {
   "cell_type": "markdown",
   "metadata": {},
   "source": [
    "El algoritmo de K-means es un algoritmo de clustering que divide los datos en K clusters. Se ha elegido K=2 para comparar los resultados con el clustering jerárquico. Para otro de los parámetros que es la inicialización de los centroides, se ha elegido el método k-means++, que es el que mejor se ajusta a los datos.\n",
    "\n",
    "Primero se ha hecho una búsqueda de los mejores valores de K, con el método del codo."
   ]
  },
  {
   "cell_type": "code",
   "execution_count": 196,
   "metadata": {},
   "outputs": [],
   "source": [
    "from sklearn.cluster import KMeans\n",
    "from sklearn import metrics\n",
    "\n",
    "distortions = []\n",
    "silhouettes = []\n",
    "# visualizar diferentes configuraciones de k\n",
    "for i in range(2, 11):\n",
    "    km = KMeans(n_clusters = i, init = 'k-means++',random_state = 30)\n",
    "    labels = km.fit_predict(X_pca)\n",
    "    distortions.append(km.inertia_)\n",
    "    silhouettes.append(metrics.silhouette_score(scaled_data, labels))"
   ]
  },
  {
   "cell_type": "code",
   "execution_count": 197,
   "metadata": {},
   "outputs": [
    {
     "data": {
      "image/png": "[encoded data removed]",
      "text/plain": [
       "<Figure size 640x480 with 1 Axes>"
      ]
     },
     "metadata": {},
     "output_type": "display_data"
    }
   ],
   "source": [
    "# distorsión de los clusters, visualizar el codo\n",
    "plt.plot(range(2,11), distortions, marker='o')\n",
    "plt.xlabel('K')\n",
    "plt.ylabel('Inertia')\n",
    "plt.show()\n",
    "# el k óptimo es 4"
   ]
  },
  {
   "cell_type": "code",
   "execution_count": 198,
   "metadata": {},
   "outputs": [
    {
     "data": {
      "image/png": "[encoded data removed]",
      "text/plain": [
       "<Figure size 640x480 with 1 Axes>"
      ]
     },
     "metadata": {},
     "output_type": "display_data"
    }
   ],
   "source": [
    "#plot Silhouette score\n",
    "plt.plot(range(2,11), silhouettes, marker='o')\n",
    "plt.xlabel('K')\n",
    "plt.ylabel('Silhouette score')\n",
    "plt.show()"
   ]
  },
  {
   "cell_type": "markdown",
   "metadata": {},
   "source": [
    "Aunque k=2 no es el mejor valor, se ha elegido para comparar los resultados con el clustering jerárquico aunque el mejor valor sea k=4."
   ]
  },
  {
   "cell_type": "code",
   "execution_count": 199,
   "metadata": {},
   "outputs": [],
   "source": [
    "k = 2\n",
    "km = KMeans(k, init = \"k-means++\", random_state = 30)\n",
    "\n",
    "y_km = km.fit_predict(X_pca)"
   ]
  },
  {
   "cell_type": "code",
   "execution_count": 200,
   "metadata": {},
   "outputs": [
    {
     "name": "stdout",
     "output_type": "stream",
     "text": [
      "Coeficiente de Silhouette:  0.2756609303476603\n",
      "Distorsión:  8.589717874658024\n"
     ]
    }
   ],
   "source": [
    "print(\"Coeficiente de Silhouette: \",silhouette_score(scaled_data, y_km))\n",
    "print(\"Distorsión: \", km.inertia_)"
   ]
  },
  {
   "cell_type": "code",
   "execution_count": 201,
   "metadata": {},
   "outputs": [
    {
     "data": {
      "image/png": "[encoded data removed]",
      "text/plain": [
       "<Figure size 640x480 with 1 Axes>"
      ]
     },
     "metadata": {},
     "output_type": "display_data"
    }
   ],
   "source": [
    "plt.scatter(X_pca[:, 0], X_pca[:, 1], c=km.labels_, s=50)\n",
    "# Plot los centroides\n",
    "plt.scatter(km.cluster_centers_[:, 0], km.cluster_centers_[:, 1], c='red', s=70, marker='x', label='Centroides')\n",
    "\n",
    "for i in range(len(X_pca)):\n",
    "    plt.annotate(df4.iloc[i, :].name, (X_pca[i, 0], X_pca[i, 1]), fontsize=8)\n",
    "plt.legend()\n",
    "plt.title(\"Kmeans\")\n",
    "plt.show()"
   ]
  },
  {
   "cell_type": "markdown",
   "metadata": {},
   "source": [
    "El algoritmo de KMeans simplemente ha dividido los datos en dos clusters por la mitad del gráfico. Al utilizar una agrupación esférica, es posible que no pueda separar los datos correctamente adaptándose para encontrar las mejores características. Dentro del cluster amarillo parece que provincias como Bizkaia, podría ser un outlier.Además, la selección del número de clusters no es la más adecuada, como se ha comprobado con el método del codo y el valor del coeficiente de Silhouette. \n",
    "\n",
    "**No utilizar este método para la hipótesis 4.**"
   ]
  },
  {
   "cell_type": "markdown",
   "metadata": {},
   "source": [
    "## DBSCAN\n",
    "\n",
    "Con DBSCAN buscamos obtener las provincias que sean outliers, es decir, que no pertenezcan a ningún cluster. "
   ]
  },
  {
   "cell_type": "code",
   "execution_count": 202,
   "metadata": {},
   "outputs": [],
   "source": [
    "from sklearn.metrics import DistanceMetric\n",
    "\n",
    "# matriz de distancias euclídeas\n",
    "dist = DistanceMetric.get_metric('euclidean')\n",
    "matsim = dist.pairwise(scaled_data)"
   ]
  },
  {
   "cell_type": "code",
   "execution_count": 203,
   "metadata": {},
   "outputs": [
    {
     "name": "stdout",
     "output_type": "stream",
     "text": [
      "Heuristica ln(n): 3 minPts\n",
      "Heurística nº dimensiones: 11 minPts\n"
     ]
    }
   ],
   "source": [
    "import math\n",
    "minPtsA= int(math.log(len(df4_scaled))) # heurística minPts = ln(n)\n",
    "minPtsB = int(df4_scaled.shape[1]+1) # heurística minPts = nº de dimensiones\n",
    "print(f\"Heuristica ln(n): {minPtsA} minPts\\nHeurística nº dimensiones: {minPtsB} minPts\")"
   ]
  },
  {
   "cell_type": "code",
   "execution_count": 204,
   "metadata": {},
   "outputs": [
    {
     "data": {
      "image/png": "[encoded data removed]",
      "text/plain": [
       "<Figure size 1500x1000 with 6 Axes>"
      ]
     },
     "metadata": {},
     "output_type": "display_data"
    }
   ],
   "source": [
    "from sklearn.neighbors import kneighbors_graph\n",
    "from kneed import KneeLocator\n",
    "\n",
    "minPts_values = [2, 3, 4, 5, 7, 11]\n",
    "fig, axes = plt.subplots(3, 2, figsize=(15, 10))\n",
    "\n",
    "for ax, minPts in zip(axes.flatten(), minPts_values):\n",
    "    A = kneighbors_graph(df4_scaled, minPts, include_self=False)\n",
    "    Ar = A.toarray()\n",
    "\n",
    "    seq = []\n",
    "    for i, s in enumerate(df4_scaled):\n",
    "        for j in range(len(df4_scaled)):\n",
    "            if Ar[i][j] != 0:\n",
    "                seq.append(matsim[i][j])  # almacenar la distancia\n",
    "\n",
    "    seq.sort()\n",
    "    knee_locator = KneeLocator(range(len(seq)), seq, curve=\"convex\", direction=\"increasing\")\n",
    "    ax.axvline(x=knee_locator.knee, color=\"r\", linestyle=\"--\", label=f\"Codo en {knee_locator.knee}\")\n",
    "    ax.plot(seq)\n",
    "    ax.set_title(f'minPts = {minPts}')\n",
    "    ax.set_xticks(np.arange(0, 30, 5))\n",
    "    ax.set_yticks(np.arange(0.2, 1.3, 0.1))\n",
    "    ax.grid(axis='y')\n",
    "\n",
    "plt.tight_layout()\n",
    "plt.show()"
   ]
  },
  {
   "cell_type": "markdown",
   "metadata": {},
   "source": [
    "La heurística A con el minPts = ln(samples) = 3, no tiene un codo claro, asi que hemos usado la librería kneed para encontrar el valor de eps. En la gráfica, la línea vertical roja, marca que el eps es 0.7, vamos a probar distintas distancias para ver aquellas que tengan un mejor resultado."
   ]
  },
  {
   "cell_type": "code",
   "execution_count": 205,
   "metadata": {},
   "outputs": [
    {
     "name": "stdout",
     "output_type": "stream",
     "text": [
      "eps    n_clusters  n_outliers\n",
      "0.60   2           13\n",
      "0.62   2           7\n",
      "0.64   1           2\n",
      "0.66   1           2\n",
      "0.68   1           1\n",
      "0.70   1           0\n",
      "0.72   1           0\n",
      "0.74   1           0\n",
      "0.76   1           0\n",
      "0.78   1           0\n",
      "0.80   1           0\n"
     ]
    }
   ],
   "source": [
    "from sklearn.cluster import DBSCAN\n",
    "import numpy as np\n",
    "print (\"eps    n_clusters  n_outliers\")\n",
    "for eps in np.arange(0.6, 0.8, 0.02):\n",
    "  db = DBSCAN(eps, min_samples=3).fit(df4_scaled)\n",
    "  core_samples_mask = np.zeros_like(db.labels_, dtype=bool)\n",
    "  core_samples_mask[db.core_sample_indices_] = True\n",
    "  labels = db.labels_\n",
    "  n_clusters_ = len(set(labels)) - (1 if -1 in labels else 0)\n",
    "  n_outliers = list(labels).count(-1)\n",
    "  print (\"%.2f   %d           %d\" % (eps, n_clusters_, n_outliers))"
   ]
  },
  {
   "cell_type": "markdown",
   "metadata": {},
   "source": [
    "Queremos hacer 2 clusters con el menor número de outliers posibles, por lo que seleccionaremos los siguientes parámetros para DBSCAN: \n",
    "* minPts = 3\n",
    "* eps = 0.62"
   ]
  },
  {
   "cell_type": "code",
   "execution_count": 206,
   "metadata": {},
   "outputs": [],
   "source": [
    "db = DBSCAN(eps=0.62, min_samples=3).fit(df4_scaled)"
   ]
  },
  {
   "cell_type": "code",
   "execution_count": 207,
   "metadata": {},
   "outputs": [
    {
     "data": {
      "image/png": "[encoded data removed]",
      "text/plain": [
       "<Figure size 640x480 with 1 Axes>"
      ]
     },
     "metadata": {},
     "output_type": "display_data"
    }
   ],
   "source": [
    "db = DBSCAN(eps=0.62, min_samples=3).fit(df4_scaled)\n",
    "scatter = plt.scatter(X_pca[:,0], X_pca[:,1], c=db.labels_, s=50, cmap='plasma_r')\n",
    "plt.grid()\n",
    "\n",
    "# Añadir la leyenda manualmente porque no mostraba el grupo -1\n",
    "unique_labels = np.unique(db.labels_)\n",
    "handles = []\n",
    "for label in unique_labels:\n",
    "    color = scatter.cmap(scatter.norm(label))  # Obtener el color correspondiente a cada etiqueta\n",
    "    handles.append(plt.Line2D([0], [0], marker='o', color='w', markerfacecolor=color, markersize=10, label=str(label)))\n",
    "plt.legend(handles=handles, title=\"Cluster Labels\")\n",
    "\n",
    "plt.title(\"DBSCAN\")\n",
    "\n",
    "plt.show()"
   ]
  },
  {
   "cell_type": "markdown",
   "metadata": {},
   "source": [
    "La segunda heurística, que minPts = n + 1, en este caso son 11 puntos. No se tendrá en cuenta ya que el codo está al final de la gráfica."
   ]
  },
  {
   "cell_type": "markdown",
   "metadata": {},
   "source": [
    "------------"
   ]
  },
  {
   "cell_type": "markdown",
   "metadata": {},
   "source": [
    "## Clasificación manual"
   ]
  },
  {
   "cell_type": "code",
   "execution_count": 208,
   "metadata": {},
   "outputs": [],
   "source": [
    "norte=['Araba/Álava', 'Asturias', 'Barcelona', 'Bizkaia', 'Burgos', 'Cantabria', 'Coruña, A', 'Gipuzkoa', 'Girona', 'Guadalajara', 'Huesca', 'León', 'Lleida', 'Lugo', 'Navarra', 'Ourense', 'Palencia', 'Pontevedra', 'Rioja, La', 'Salamanca', 'Segovia', 'Soria', 'Tarragona', 'Teruel', 'Valladolid', 'Zamora', 'Zaragoza', 'Ávila']\n",
    "\n",
    "df4['Grupo'] = ['Norte' if x in norte else 'Sur' for x in df4.index]"
   ]
  },
  {
   "cell_type": "code",
   "execution_count": 209,
   "metadata": {},
   "outputs": [
    {
     "data": {
      "text/html": [
       "<div>\n",
       "<style scoped>\n",
       "    .dataframe tbody tr th:only-of-type {\n",
       "        vertical-align: middle;\n",
       "    }\n",
       "\n",
       "    .dataframe tbody tr th {\n",
       "        vertical-align: top;\n",
       "    }\n",
       "\n",
       "    .dataframe thead th {\n",
       "        text-align: right;\n",
       "    }\n",
       "</style>\n",
       "<table border=\"1\" class=\"dataframe\">\n",
       "  <thead>\n",
       "    <tr style=\"text-align: right;\">\n",
       "      <th></th>\n",
       "      <th>Porcentaje con dispositivo</th>\n",
       "      <th>Renta</th>\n",
       "      <th>Producción media</th>\n",
       "      <th>Familia de 1 padres y 0 hijos</th>\n",
       "      <th>Familia de 1 padres y 1 hijos</th>\n",
       "      <th>Familia de 1 padres y 2 hijos</th>\n",
       "      <th>Familia de 2 padres y 0 hijos</th>\n",
       "      <th>Familia de 2 padres y 1 hijos</th>\n",
       "      <th>Familia de 2 padres y 2 hijos</th>\n",
       "      <th>Edad media</th>\n",
       "      <th>Grupo</th>\n",
       "    </tr>\n",
       "    <tr>\n",
       "      <th>Provincias</th>\n",
       "      <th></th>\n",
       "      <th></th>\n",
       "      <th></th>\n",
       "      <th></th>\n",
       "      <th></th>\n",
       "      <th></th>\n",
       "      <th></th>\n",
       "      <th></th>\n",
       "      <th></th>\n",
       "      <th></th>\n",
       "      <th></th>\n",
       "    </tr>\n",
       "  </thead>\n",
       "  <tbody>\n",
       "    <tr>\n",
       "      <th>Albacete</th>\n",
       "      <td>4.314062</td>\n",
       "      <td>29549.0</td>\n",
       "      <td>136.528958</td>\n",
       "      <td>0.033132</td>\n",
       "      <td>0.072565</td>\n",
       "      <td>0.044648</td>\n",
       "      <td>0.356690</td>\n",
       "      <td>0.204834</td>\n",
       "      <td>0.288130</td>\n",
       "      <td>43.677523</td>\n",
       "      <td>Sur</td>\n",
       "    </tr>\n",
       "    <tr>\n",
       "      <th>Alicante/Alacant</th>\n",
       "      <td>4.036060</td>\n",
       "      <td>27540.0</td>\n",
       "      <td>135.823750</td>\n",
       "      <td>0.041038</td>\n",
       "      <td>0.094143</td>\n",
       "      <td>0.045081</td>\n",
       "      <td>0.394342</td>\n",
       "      <td>0.197734</td>\n",
       "      <td>0.227663</td>\n",
       "      <td>43.766889</td>\n",
       "      <td>Sur</td>\n",
       "    </tr>\n",
       "    <tr>\n",
       "      <th>Almería</th>\n",
       "      <td>6.713842</td>\n",
       "      <td>27301.0</td>\n",
       "      <td>140.478389</td>\n",
       "      <td>0.030276</td>\n",
       "      <td>0.090071</td>\n",
       "      <td>0.042470</td>\n",
       "      <td>0.349780</td>\n",
       "      <td>0.201309</td>\n",
       "      <td>0.286094</td>\n",
       "      <td>40.320448</td>\n",
       "      <td>Sur</td>\n",
       "    </tr>\n",
       "    <tr>\n",
       "      <th>Araba/Álava</th>\n",
       "      <td>10.445424</td>\n",
       "      <td>36848.0</td>\n",
       "      <td>107.768333</td>\n",
       "      <td>0.033775</td>\n",
       "      <td>0.097398</td>\n",
       "      <td>0.045232</td>\n",
       "      <td>0.401223</td>\n",
       "      <td>0.194786</td>\n",
       "      <td>0.227587</td>\n",
       "      <td>44.565691</td>\n",
       "      <td>Norte</td>\n",
       "    </tr>\n",
       "    <tr>\n",
       "      <th>Asturias</th>\n",
       "      <td>5.031368</td>\n",
       "      <td>31841.0</td>\n",
       "      <td>92.622917</td>\n",
       "      <td>0.056932</td>\n",
       "      <td>0.115216</td>\n",
       "      <td>0.035539</td>\n",
       "      <td>0.432127</td>\n",
       "      <td>0.211392</td>\n",
       "      <td>0.148794</td>\n",
       "      <td>48.683390</td>\n",
       "      <td>Norte</td>\n",
       "    </tr>\n",
       "  </tbody>\n",
       "</table>\n",
       "</div>"
      ],
      "text/plain": [
       "                  Porcentaje con dispositivo    Renta  Producción media  \\\n",
       "Provincias                                                                \n",
       "Albacete                            4.314062  29549.0        136.528958   \n",
       "Alicante/Alacant                    4.036060  27540.0        135.823750   \n",
       "Almería                             6.713842  27301.0        140.478389   \n",
       "Araba/Álava                        10.445424  36848.0        107.768333   \n",
       "Asturias                            5.031368  31841.0         92.622917   \n",
       "\n",
       "                  Familia de 1 padres y 0 hijos  \\\n",
       "Provincias                                        \n",
       "Albacete                               0.033132   \n",
       "Alicante/Alacant                       0.041038   \n",
       "Almería                                0.030276   \n",
       "Araba/Álava                            0.033775   \n",
       "Asturias                               0.056932   \n",
       "\n",
       "                  Familia de 1 padres y 1 hijos  \\\n",
       "Provincias                                        \n",
       "Albacete                               0.072565   \n",
       "Alicante/Alacant                       0.094143   \n",
       "Almería                                0.090071   \n",
       "Araba/Álava                            0.097398   \n",
       "Asturias                               0.115216   \n",
       "\n",
       "                  Familia de 1 padres y 2 hijos  \\\n",
       "Provincias                                        \n",
       "Albacete                               0.044648   \n",
       "Alicante/Alacant                       0.045081   \n",
       "Almería                                0.042470   \n",
       "Araba/Álava                            0.045232   \n",
       "Asturias                               0.035539   \n",
       "\n",
       "                  Familia de 2 padres y 0 hijos  \\\n",
       "Provincias                                        \n",
       "Albacete                               0.356690   \n",
       "Alicante/Alacant                       0.394342   \n",
       "Almería                                0.349780   \n",
       "Araba/Álava                            0.401223   \n",
       "Asturias                               0.432127   \n",
       "\n",
       "                  Familia de 2 padres y 1 hijos  \\\n",
       "Provincias                                        \n",
       "Albacete                               0.204834   \n",
       "Alicante/Alacant                       0.197734   \n",
       "Almería                                0.201309   \n",
       "Araba/Álava                            0.194786   \n",
       "Asturias                               0.211392   \n",
       "\n",
       "                  Familia de 2 padres y 2 hijos  Edad media  Grupo  \n",
       "Provincias                                                          \n",
       "Albacete                               0.288130   43.677523    Sur  \n",
       "Alicante/Alacant                       0.227663   43.766889    Sur  \n",
       "Almería                                0.286094   40.320448    Sur  \n",
       "Araba/Álava                            0.227587   44.565691  Norte  \n",
       "Asturias                               0.148794   48.683390  Norte  "
      ]
     },
     "execution_count": 209,
     "metadata": {},
     "output_type": "execute_result"
    }
   ],
   "source": [
    "df4.head()"
   ]
  },
  {
   "cell_type": "code",
   "execution_count": 210,
   "metadata": {},
   "outputs": [
    {
     "data": {
      "text/html": [
       "<div>\n",
       "<style scoped>\n",
       "    .dataframe tbody tr th:only-of-type {\n",
       "        vertical-align: middle;\n",
       "    }\n",
       "\n",
       "    .dataframe tbody tr th {\n",
       "        vertical-align: top;\n",
       "    }\n",
       "\n",
       "    .dataframe thead th {\n",
       "        text-align: right;\n",
       "    }\n",
       "</style>\n",
       "<table border=\"1\" class=\"dataframe\">\n",
       "  <thead>\n",
       "    <tr style=\"text-align: right;\">\n",
       "      <th></th>\n",
       "      <th>Porcentaje con dispositivo</th>\n",
       "      <th>Renta</th>\n",
       "      <th>Producción media</th>\n",
       "      <th>Familia de 1 padres y 0 hijos</th>\n",
       "      <th>Familia de 1 padres y 1 hijos</th>\n",
       "      <th>Familia de 1 padres y 2 hijos</th>\n",
       "      <th>Familia de 2 padres y 0 hijos</th>\n",
       "      <th>Familia de 2 padres y 1 hijos</th>\n",
       "      <th>Familia de 2 padres y 2 hijos</th>\n",
       "      <th>Edad media</th>\n",
       "    </tr>\n",
       "    <tr>\n",
       "      <th>Grupo</th>\n",
       "      <th></th>\n",
       "      <th></th>\n",
       "      <th></th>\n",
       "      <th></th>\n",
       "      <th></th>\n",
       "      <th></th>\n",
       "      <th></th>\n",
       "      <th></th>\n",
       "      <th></th>\n",
       "      <th></th>\n",
       "    </tr>\n",
       "  </thead>\n",
       "  <tbody>\n",
       "    <tr>\n",
       "      <th>Norte</th>\n",
       "      <td>5.155543</td>\n",
       "      <td>33132.964286</td>\n",
       "      <td>118.608126</td>\n",
       "      <td>0.043806</td>\n",
       "      <td>0.092551</td>\n",
       "      <td>0.038844</td>\n",
       "      <td>0.401841</td>\n",
       "      <td>0.207682</td>\n",
       "      <td>0.215275</td>\n",
       "      <td>46.134766</td>\n",
       "    </tr>\n",
       "    <tr>\n",
       "      <th>Sur</th>\n",
       "      <td>5.732830</td>\n",
       "      <td>29330.842105</td>\n",
       "      <td>135.241652</td>\n",
       "      <td>0.035833</td>\n",
       "      <td>0.083094</td>\n",
       "      <td>0.042401</td>\n",
       "      <td>0.367766</td>\n",
       "      <td>0.205703</td>\n",
       "      <td>0.265203</td>\n",
       "      <td>43.108917</td>\n",
       "    </tr>\n",
       "  </tbody>\n",
       "</table>\n",
       "</div>"
      ],
      "text/plain": [
       "       Porcentaje con dispositivo         Renta  Producción media  \\\n",
       "Grupo                                                               \n",
       "Norte                    5.155543  33132.964286        118.608126   \n",
       "Sur                      5.732830  29330.842105        135.241652   \n",
       "\n",
       "       Familia de 1 padres y 0 hijos  Familia de 1 padres y 1 hijos  \\\n",
       "Grupo                                                                 \n",
       "Norte                       0.043806                       0.092551   \n",
       "Sur                         0.035833                       0.083094   \n",
       "\n",
       "       Familia de 1 padres y 2 hijos  Familia de 2 padres y 0 hijos  \\\n",
       "Grupo                                                                 \n",
       "Norte                       0.038844                       0.401841   \n",
       "Sur                         0.042401                       0.367766   \n",
       "\n",
       "       Familia de 2 padres y 1 hijos  Familia de 2 padres y 2 hijos  \\\n",
       "Grupo                                                                 \n",
       "Norte                       0.207682                       0.215275   \n",
       "Sur                         0.205703                       0.265203   \n",
       "\n",
       "       Edad media  \n",
       "Grupo              \n",
       "Norte   46.134766  \n",
       "Sur     43.108917  "
      ]
     },
     "execution_count": 210,
     "metadata": {},
     "output_type": "execute_result"
    }
   ],
   "source": [
    "df4.groupby('Grupo').mean()"
   ]
  }
 ],
 "metadata": {
  "kernelspec": {
   "display_name": ".venv",
   "language": "python",
   "name": "python3"
  },
  "language_info": {
   "codemirror_mode": {
    "name": "ipython",
    "version": 3
   },
   "file_extension": ".py",
   "mimetype": "text/x-python",
   "name": "python",
   "nbconvert_exporter": "python",
   "pygments_lexer": "ipython3",
   "version": "3.12.6"
  }
 },
 "nbformat": 4,
 "nbformat_minor": 2
}

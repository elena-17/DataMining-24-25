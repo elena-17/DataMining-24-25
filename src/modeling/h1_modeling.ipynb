{
 "cells": [
  {
   "cell_type": "markdown",
   "metadata": {},
   "source": [
    "# Hipótesis 1:"
   ]
  },
  {
   "cell_type": "markdown",
   "metadata": {},
   "source": [
    "### \"Las provincias con una edad media menor y una renta media por hogar mayor a la nacional, suelen estar más concienciadas con el uso de energías renovables y utilizan más dispositivos que aprovechan este tipo de energía.\""
   ]
  },
  {
   "cell_type": "markdown",
   "metadata": {},
   "source": [
    "La justificación de esta hipótesis radica en que las personas jóvenes suelen estar más concienciadas con el medio ambiente, además de que tienen más tiempo para amortizar la inversión de este tipo de tecnología a lo largo de su vida."
   ]
  },
  {
   "cell_type": "markdown",
   "metadata": {},
   "source": [
    "<br>"
   ]
  },
  {
   "cell_type": "markdown",
   "metadata": {},
   "source": [
    "### Preparación del entorno"
   ]
  },
  {
   "cell_type": "code",
   "execution_count": 302,
   "metadata": {},
   "outputs": [],
   "source": [
    "import pandas as pd\n",
    "import matplotlib.pyplot as plt\n",
    "import matplotlib.cm as cm  \n",
    "import numpy as np\n",
    "from ydata_profiling import ProfileReport\n",
    "import os \n",
    "import scipy\n",
    "import seaborn as sns\n",
    "\n",
    "GOLD_DATA_PATH = os.path.join(\"..\", \"..\", \"data/gold/\")"
   ]
  },
  {
   "cell_type": "markdown",
   "metadata": {},
   "source": [
    "<br>"
   ]
  },
  {
   "cell_type": "markdown",
   "metadata": {},
   "source": [
    "### Datos"
   ]
  },
  {
   "cell_type": "markdown",
   "metadata": {},
   "source": [
    "Primero, cargamos el dataset correspondiente a la tarjeta de datos 1."
   ]
  },
  {
   "cell_type": "code",
   "execution_count": 303,
   "metadata": {},
   "outputs": [
    {
     "name": "stdout",
     "output_type": "stream",
     "text": [
      "<class 'pandas.core.frame.DataFrame'>\n",
      "RangeIndex: 47 entries, 0 to 46\n",
      "Data columns (total 5 columns):\n",
      " #   Column                                                       Non-Null Count  Dtype  \n",
      "---  ------                                                       --------------  -----  \n",
      " 0   Provincias                                                   47 non-null     object \n",
      " 1   Población Total                                              47 non-null     int64  \n",
      " 2   Renta media por hogar                                        47 non-null     int64  \n",
      " 3   Edad media                                                   47 non-null     float64\n",
      " 4   Porcentaje de hogares con dispositivos de energía renovable  47 non-null     float64\n",
      "dtypes: float64(2), int64(2), object(1)\n",
      "memory usage: 2.0+ KB\n"
     ]
    }
   ],
   "source": [
    "h1_df=pd.read_csv(GOLD_DATA_PATH+\"data_card_1_df.csv\", sep = \";\", encoding = \"latin\")\n",
    "h1_df.info()"
   ]
  },
  {
   "cell_type": "code",
   "execution_count": 304,
   "metadata": {},
   "outputs": [
    {
     "data": {
      "text/html": [
       "<div>\n",
       "<style scoped>\n",
       "    .dataframe tbody tr th:only-of-type {\n",
       "        vertical-align: middle;\n",
       "    }\n",
       "\n",
       "    .dataframe tbody tr th {\n",
       "        vertical-align: top;\n",
       "    }\n",
       "\n",
       "    .dataframe thead th {\n",
       "        text-align: right;\n",
       "    }\n",
       "</style>\n",
       "<table border=\"1\" class=\"dataframe\">\n",
       "  <thead>\n",
       "    <tr style=\"text-align: right;\">\n",
       "      <th></th>\n",
       "      <th>Provincias</th>\n",
       "      <th>Población Total</th>\n",
       "      <th>Renta media por hogar</th>\n",
       "      <th>Edad media</th>\n",
       "      <th>Porcentaje de hogares con dispositivos de energía renovable</th>\n",
       "    </tr>\n",
       "  </thead>\n",
       "  <tbody>\n",
       "    <tr>\n",
       "      <th>0</th>\n",
       "      <td>Albacete</td>\n",
       "      <td>385727</td>\n",
       "      <td>30908</td>\n",
       "      <td>43.677523</td>\n",
       "      <td>4.314062</td>\n",
       "    </tr>\n",
       "    <tr>\n",
       "      <th>1</th>\n",
       "      <td>Alicante/Alacant</td>\n",
       "      <td>1901594</td>\n",
       "      <td>28965</td>\n",
       "      <td>43.766889</td>\n",
       "      <td>4.036060</td>\n",
       "    </tr>\n",
       "    <tr>\n",
       "      <th>2</th>\n",
       "      <td>Almería</td>\n",
       "      <td>740534</td>\n",
       "      <td>28442</td>\n",
       "      <td>40.320448</td>\n",
       "      <td>6.713842</td>\n",
       "    </tr>\n",
       "    <tr>\n",
       "      <th>3</th>\n",
       "      <td>Araba/Álava</td>\n",
       "      <td>334412</td>\n",
       "      <td>38586</td>\n",
       "      <td>44.565691</td>\n",
       "      <td>10.445424</td>\n",
       "    </tr>\n",
       "    <tr>\n",
       "      <th>4</th>\n",
       "      <td>Asturias</td>\n",
       "      <td>1004686</td>\n",
       "      <td>33242</td>\n",
       "      <td>48.683390</td>\n",
       "      <td>5.031368</td>\n",
       "    </tr>\n",
       "  </tbody>\n",
       "</table>\n",
       "</div>"
      ],
      "text/plain": [
       "         Provincias  Población Total  Renta media por hogar  Edad media  \\\n",
       "0          Albacete           385727                  30908   43.677523   \n",
       "1  Alicante/Alacant          1901594                  28965   43.766889   \n",
       "2           Almería           740534                  28442   40.320448   \n",
       "3       Araba/Álava           334412                  38586   44.565691   \n",
       "4          Asturias          1004686                  33242   48.683390   \n",
       "\n",
       "   Porcentaje de hogares con dispositivos de energía renovable  \n",
       "0                                           4.314062            \n",
       "1                                           4.036060            \n",
       "2                                           6.713842            \n",
       "3                                          10.445424            \n",
       "4                                           5.031368            "
      ]
     },
     "execution_count": 304,
     "metadata": {},
     "output_type": "execute_result"
    }
   ],
   "source": [
    "# Ejemplo de los datos que presenta la tabla\n",
    "h1_df.head(5)"
   ]
  },
  {
   "cell_type": "markdown",
   "metadata": {},
   "source": [
    "<br>"
   ]
  },
  {
   "cell_type": "markdown",
   "metadata": {},
   "source": [
    "### Correlación de variables"
   ]
  },
  {
   "cell_type": "code",
   "execution_count": 305,
   "metadata": {},
   "outputs": [
    {
     "data": {
      "text/html": [
       "<div>\n",
       "<style scoped>\n",
       "    .dataframe tbody tr th:only-of-type {\n",
       "        vertical-align: middle;\n",
       "    }\n",
       "\n",
       "    .dataframe tbody tr th {\n",
       "        vertical-align: top;\n",
       "    }\n",
       "\n",
       "    .dataframe thead th {\n",
       "        text-align: right;\n",
       "    }\n",
       "</style>\n",
       "<table border=\"1\" class=\"dataframe\">\n",
       "  <thead>\n",
       "    <tr style=\"text-align: right;\">\n",
       "      <th></th>\n",
       "      <th>Feature 1</th>\n",
       "      <th>Feature 2</th>\n",
       "      <th>Pearson Correlation</th>\n",
       "      <th>Pearson p-value</th>\n",
       "      <th>Spearman Correlation</th>\n",
       "      <th>Spearman p-value</th>\n",
       "    </tr>\n",
       "  </thead>\n",
       "  <tbody>\n",
       "    <tr>\n",
       "      <th>0</th>\n",
       "      <td>Población Total</td>\n",
       "      <td>Renta media por hogar</td>\n",
       "      <td>0.499812</td>\n",
       "      <td>0.000348</td>\n",
       "      <td>0.192183</td>\n",
       "      <td>0.195608</td>\n",
       "    </tr>\n",
       "    <tr>\n",
       "      <th>1</th>\n",
       "      <td>Población Total</td>\n",
       "      <td>Edad media</td>\n",
       "      <td>-0.350727</td>\n",
       "      <td>0.015647</td>\n",
       "      <td>-0.535037</td>\n",
       "      <td>0.000107</td>\n",
       "    </tr>\n",
       "    <tr>\n",
       "      <th>2</th>\n",
       "      <td>Población Total</td>\n",
       "      <td>Porcentaje de hogares con dispositivos de ener...</td>\n",
       "      <td>0.213060</td>\n",
       "      <td>0.150462</td>\n",
       "      <td>0.207447</td>\n",
       "      <td>0.161765</td>\n",
       "    </tr>\n",
       "    <tr>\n",
       "      <th>3</th>\n",
       "      <td>Renta media por hogar</td>\n",
       "      <td>Edad media</td>\n",
       "      <td>-0.164277</td>\n",
       "      <td>0.269846</td>\n",
       "      <td>-0.113205</td>\n",
       "      <td>0.448667</td>\n",
       "    </tr>\n",
       "    <tr>\n",
       "      <th>4</th>\n",
       "      <td>Renta media por hogar</td>\n",
       "      <td>Porcentaje de hogares con dispositivos de ener...</td>\n",
       "      <td>0.254432</td>\n",
       "      <td>0.084373</td>\n",
       "      <td>0.312905</td>\n",
       "      <td>0.032234</td>\n",
       "    </tr>\n",
       "    <tr>\n",
       "      <th>5</th>\n",
       "      <td>Edad media</td>\n",
       "      <td>Porcentaje de hogares con dispositivos de ener...</td>\n",
       "      <td>-0.444344</td>\n",
       "      <td>0.001754</td>\n",
       "      <td>-0.511101</td>\n",
       "      <td>0.000241</td>\n",
       "    </tr>\n",
       "  </tbody>\n",
       "</table>\n",
       "</div>"
      ],
      "text/plain": [
       "               Feature 1                                          Feature 2  \\\n",
       "0        Población Total                              Renta media por hogar   \n",
       "1        Población Total                                         Edad media   \n",
       "2        Población Total  Porcentaje de hogares con dispositivos de ener...   \n",
       "3  Renta media por hogar                                         Edad media   \n",
       "4  Renta media por hogar  Porcentaje de hogares con dispositivos de ener...   \n",
       "5             Edad media  Porcentaje de hogares con dispositivos de ener...   \n",
       "\n",
       "   Pearson Correlation  Pearson p-value  Spearman Correlation  \\\n",
       "0             0.499812         0.000348              0.192183   \n",
       "1            -0.350727         0.015647             -0.535037   \n",
       "2             0.213060         0.150462              0.207447   \n",
       "3            -0.164277         0.269846             -0.113205   \n",
       "4             0.254432         0.084373              0.312905   \n",
       "5            -0.444344         0.001754             -0.511101   \n",
       "\n",
       "   Spearman p-value  \n",
       "0          0.195608  \n",
       "1          0.000107  \n",
       "2          0.161765  \n",
       "3          0.448667  \n",
       "4          0.032234  \n",
       "5          0.000241  "
      ]
     },
     "execution_count": 305,
     "metadata": {},
     "output_type": "execute_result"
    }
   ],
   "source": [
    "columns = h1_df.columns[1:]\n",
    "crr_results = []\n",
    "\n",
    "for i in range(len(columns)):\n",
    "    for j in range(i + 1, len(columns)):\n",
    "        col1 = columns[i]\n",
    "        col2 = columns[j]\n",
    "\n",
    "        # Calculate Pearson correlation\n",
    "        pearson = scipy.stats.pearsonr(h1_df[col1], h1_df[col2])\n",
    "        pearson_corr = pearson[0]\n",
    "        pearson_pval = pearson[1]\n",
    "        \n",
    "        # Calculate Spearman correlation\n",
    "        spear = scipy.stats.spearmanr(h1_df[col1], h1_df[col2])\n",
    "        spear_corr = spear.correlation\n",
    "        spear_pval = spear.pvalue\n",
    "\n",
    "            \n",
    "        # Save results\n",
    "        crr_results.append({\n",
    "            'Feature 1': col1,\n",
    "            'Feature 2': col2,\n",
    "            'Pearson Correlation': pearson_corr,\n",
    "            'Pearson p-value': pearson_pval,\n",
    "            'Spearman Correlation': spear_corr,\n",
    "            'Spearman p-value': spear_pval\n",
    "        })\n",
    "\n",
    "\n",
    "crr_results_df = pd.DataFrame(crr_results)\n",
    "crr_results_df.head(10)"
   ]
  },
  {
   "cell_type": "markdown",
   "metadata": {},
   "source": [
    "Nos centraremos en la fila 5 de la tabla de correlaciones. \n",
    "- Correlación de Pearson:\n",
    "    - Valor de la correlación de Pearson: -0.444344.\n",
    "        - El valor de la correlación de Pearson es negativo, lo que sugiere una relación inversa entre la edad media y el porcentaje de hogares con dispositivos de energía renovable. En otras palabras, cuando uno de estos valores aumenta, el otro tiende a disminuir.\n",
    "        - El valor de la correlación de -0.444344 indica que hay una relación negativa moderada entre estas dos características.\n",
    "\n",
    "    - Valor p de Pearson: 0.001754.\n",
    "        - El valor p asociado con la correlación de Pearson es muy bajo (menor que 0.05), lo que sugiere que esta correlación es estadísticamente significativa. Es decir, la relación observada probablemente no sea aleatoria.\n",
    "\n",
    "- Correlación de Spearman:\n",
    "    - Valor de la correlación de Spearman: -0.511101.\n",
    "        - La correlación de Spearman también es negativa, pero un poco más fuerte que la de Pearson.\n",
    "        - Este valor también sugiere que conforme aumenta la edad media, tiende a disminuir el porcentaje de hogares con dispositivos de energía renovable.\n",
    "\n",
    "\n",
    "    - Valor p de Spearman: 0.000241.\n",
    "        - Al igual que el valor p de Pearson, el valor p de Spearman es extremadamente bajo, lo que indica que la correlación observada es estadísticamente significativa. Esto refuerza la conclusión de que existe una relación no aleatoria entre estas dos variables."
   ]
  },
  {
   "cell_type": "code",
   "execution_count": 306,
   "metadata": {},
   "outputs": [
    {
     "data": {
      "image/png": "[encoded data removed]",
      "text/plain": [
       "<Figure size 600x300 with 1 Axes>"
      ]
     },
     "metadata": {},
     "output_type": "display_data"
    }
   ],
   "source": [
    "plt.figure(figsize=(6, 3))\n",
    "sns.scatterplot(data=h1_df, x='Edad media', y='Porcentaje de hogares con dispositivos de energía renovable', color='green', alpha=0.6)\n",
    "plt.title('Correlación entre variables')\n",
    "plt.xlabel('Edad media')\n",
    "plt.ylabel('% dispositivos de energía renovable')\n",
    "plt.grid(True)\n",
    "plt.show()"
   ]
  },
  {
   "cell_type": "markdown",
   "metadata": {},
   "source": [
    "##### Conclusiones"
   ]
  },
  {
   "cell_type": "markdown",
   "metadata": {},
   "source": [
    "Mediante el estudio de correlación, hemos podido confirmar que existe una relación negativa moderada entre la edad media y el porcentaje de hogares con dispositivos de energía renovable. Esto nos acerca a validar nuestra hipótesis, pero tenemos que tener en cuenta la renta media y la correlación entre variables no nos aporta nada para esta variable."
   ]
  },
  {
   "cell_type": "markdown",
   "metadata": {},
   "source": [
    "<br>"
   ]
  },
  {
   "cell_type": "markdown",
   "metadata": {},
   "source": [
    "### Modelado"
   ]
  },
  {
   "cell_type": "markdown",
   "metadata": {},
   "source": [
    "#### K-Means Clustering"
   ]
  },
  {
   "cell_type": "code",
   "execution_count": 307,
   "metadata": {},
   "outputs": [],
   "source": [
    "# Preparación del entorno\n",
    "from sklearn.cluster import KMeans\n",
    "from sklearn.preprocessing import StandardScaler"
   ]
  },
  {
   "cell_type": "code",
   "execution_count": 308,
   "metadata": {},
   "outputs": [],
   "source": [
    "# Se prepara el dataset para entrenar el modelo\n",
    "X = h1_df.drop(columns=['Provincias', 'Población Total'])\n",
    "scaler = StandardScaler() \n",
    "h1_df_scaled = scaler.fit_transform(X) # escalado de los datos (Media = 0 & Desviación estándar = 1)"
   ]
  },
  {
   "cell_type": "markdown",
   "metadata": {},
   "source": [
    "¿Cuántos grupos queremos sacar del conjunto de datos?"
   ]
  },
  {
   "cell_type": "markdown",
   "metadata": {},
   "source": [
    "Para responder a la hipótesis, sería beneficioso que el modelo identificara un grupo de provincias que presenten una edad media inferior a la media nacional y, simultáneamente, una renta media superior a la nacional.\n",
    "\n",
    "Para determinar el número óptimo de grupos, se utilizará el método del codo (Elbow Method). Este método nos indica la ganancia que se obtiene al hacer n clusters. El objetivo es buscar el punto óptimo ganancia/clusters."
   ]
  },
  {
   "cell_type": "code",
   "execution_count": 309,
   "metadata": {},
   "outputs": [
    {
     "data": {
      "image/png": "[encoded data removed]",
      "text/plain": [
       "<Figure size 640x480 with 1 Axes>"
      ]
     },
     "metadata": {},
     "output_type": "display_data"
    }
   ],
   "source": [
    "wcss = []\n",
    "\n",
    "for i in range(2, 11):\n",
    "    kmeans = KMeans(n_clusters=i, init='k-means++', max_iter=300, n_init=10, random_state=0)\n",
    "    kmeans.fit(h1_df_scaled)\n",
    "    wcss.append(kmeans.inertia_)\n",
    "\n",
    "# Se dibuja la gráfica\n",
    "plt.plot(range(2, 11), wcss, marker = 'o')\n",
    "plt.title('Elbow Method')\n",
    "plt.xlabel('Number of Clusters')\n",
    "plt.ylabel('WCSS')\n",
    "plt.show()"
   ]
  },
  {
   "cell_type": "markdown",
   "metadata": {},
   "source": [
    "Entrenamos el modelo y vemos los resultados."
   ]
  },
  {
   "cell_type": "code",
   "execution_count": 310,
   "metadata": {},
   "outputs": [
    {
     "data": {
      "image/png": "[encoded data removed]",
      "text/plain": [
       "<Figure size 640x480 with 1 Axes>"
      ]
     },
     "metadata": {},
     "output_type": "display_data"
    }
   ],
   "source": [
    "k = 4 # grupos\n",
    "\n",
    "# Se entrena el modelo\n",
    "kmeans = KMeans(n_clusters=k, init='k-means++', max_iter=300, n_init=10, random_state=0)\n",
    "kmeans.fit(h1_df_scaled)\n",
    "\n",
    "# Clusters\n",
    "cluster_labels = kmeans.labels_\n",
    "\n",
    "# Gráfica para visualizar los clusters\n",
    "plt.scatter(h1_df_scaled[:, 0], h1_df_scaled[:, 1], c=cluster_labels, cmap='viridis', s= 50, alpha=0.5)\n",
    "plt.scatter(kmeans.cluster_centers_[:, 0], kmeans.cluster_centers_[:, 1], c= 'red', marker='x', s=200, label= 'Center')\n",
    "plt.xlabel('Renta media por hogar')\n",
    "plt.ylabel('Edad media')\n",
    "plt.title('KMeans Clustering')\n",
    "plt.legend()\n",
    "plt.show()"
   ]
  },
  {
   "cell_type": "code",
   "execution_count": 311,
   "metadata": {},
   "outputs": [
    {
     "data": {
      "text/html": [
       "<div>\n",
       "<style scoped>\n",
       "    .dataframe tbody tr th:only-of-type {\n",
       "        vertical-align: middle;\n",
       "    }\n",
       "\n",
       "    .dataframe tbody tr th {\n",
       "        vertical-align: top;\n",
       "    }\n",
       "\n",
       "    .dataframe thead th {\n",
       "        text-align: right;\n",
       "    }\n",
       "</style>\n",
       "<table border=\"1\" class=\"dataframe\">\n",
       "  <thead>\n",
       "    <tr style=\"text-align: right;\">\n",
       "      <th></th>\n",
       "      <th>Provincias</th>\n",
       "      <th>Población Total</th>\n",
       "      <th>Renta media por hogar</th>\n",
       "      <th>Edad media</th>\n",
       "      <th>Porcentaje de hogares con dispositivos de energía renovable</th>\n",
       "      <th>Cluster_K-Means</th>\n",
       "    </tr>\n",
       "  </thead>\n",
       "  <tbody>\n",
       "    <tr>\n",
       "      <th>0</th>\n",
       "      <td>Albacete</td>\n",
       "      <td>385727</td>\n",
       "      <td>30908</td>\n",
       "      <td>43.677523</td>\n",
       "      <td>4.314062</td>\n",
       "      <td>1</td>\n",
       "    </tr>\n",
       "    <tr>\n",
       "      <th>1</th>\n",
       "      <td>Alicante/Alacant</td>\n",
       "      <td>1901594</td>\n",
       "      <td>28965</td>\n",
       "      <td>43.766889</td>\n",
       "      <td>4.036060</td>\n",
       "      <td>1</td>\n",
       "    </tr>\n",
       "    <tr>\n",
       "      <th>2</th>\n",
       "      <td>Almería</td>\n",
       "      <td>740534</td>\n",
       "      <td>28442</td>\n",
       "      <td>40.320448</td>\n",
       "      <td>6.713842</td>\n",
       "      <td>1</td>\n",
       "    </tr>\n",
       "    <tr>\n",
       "      <th>3</th>\n",
       "      <td>Araba/Álava</td>\n",
       "      <td>334412</td>\n",
       "      <td>38586</td>\n",
       "      <td>44.565691</td>\n",
       "      <td>10.445424</td>\n",
       "      <td>3</td>\n",
       "    </tr>\n",
       "    <tr>\n",
       "      <th>4</th>\n",
       "      <td>Asturias</td>\n",
       "      <td>1004686</td>\n",
       "      <td>33242</td>\n",
       "      <td>48.683390</td>\n",
       "      <td>5.031368</td>\n",
       "      <td>2</td>\n",
       "    </tr>\n",
       "  </tbody>\n",
       "</table>\n",
       "</div>"
      ],
      "text/plain": [
       "         Provincias  Población Total  Renta media por hogar  Edad media  \\\n",
       "0          Albacete           385727                  30908   43.677523   \n",
       "1  Alicante/Alacant          1901594                  28965   43.766889   \n",
       "2           Almería           740534                  28442   40.320448   \n",
       "3       Araba/Álava           334412                  38586   44.565691   \n",
       "4          Asturias          1004686                  33242   48.683390   \n",
       "\n",
       "   Porcentaje de hogares con dispositivos de energía renovable  \\\n",
       "0                                           4.314062             \n",
       "1                                           4.036060             \n",
       "2                                           6.713842             \n",
       "3                                          10.445424             \n",
       "4                                           5.031368             \n",
       "\n",
       "   Cluster_K-Means  \n",
       "0                1  \n",
       "1                1  \n",
       "2                1  \n",
       "3                3  \n",
       "4                2  "
      ]
     },
     "execution_count": 311,
     "metadata": {},
     "output_type": "execute_result"
    }
   ],
   "source": [
    "# Agregar etiquetas de clusters al DataFrame original\n",
    "h1_df['Cluster_K-Means'] = cluster_labels\n",
    "h1_df.head(5)"
   ]
  },
  {
   "cell_type": "markdown",
   "metadata": {},
   "source": [
    "<br>"
   ]
  },
  {
   "cell_type": "markdown",
   "metadata": {},
   "source": [
    "#### DBSCAN"
   ]
  },
  {
   "cell_type": "code",
   "execution_count": 312,
   "metadata": {},
   "outputs": [],
   "source": [
    "# Preparación del entorno\n",
    "from sklearn.cluster import DBSCAN\n",
    "# https://www.youtube.com/watch?v=HMis89lGdkA\n",
    "\n",
    "X = h1_df.drop(columns=['Provincias', 'Población Total', 'Cluster_K-Means'])"
   ]
  },
  {
   "cell_type": "code",
   "execution_count": 313,
   "metadata": {},
   "outputs": [],
   "source": [
    "# Entrenamiento del modelo\n",
    "clusters_DBSCAN = DBSCAN(eps = 2, min_samples=2).fit_predict(X)"
   ]
  },
  {
   "cell_type": "markdown",
   "metadata": {},
   "source": [
    ":)"
   ]
  }
 ],
 "metadata": {
  "kernelspec": {
   "display_name": "Python 3",
   "language": "python",
   "name": "python3"
  },
  "language_info": {
   "codemirror_mode": {
    "name": "ipython",
    "version": 3
   },
   "file_extension": ".py",
   "mimetype": "text/x-python",
   "name": "python",
   "nbconvert_exporter": "python",
   "pygments_lexer": "ipython3",
   "version": "3.11.8"
  }
 },
 "nbformat": 4,
 "nbformat_minor": 2
}

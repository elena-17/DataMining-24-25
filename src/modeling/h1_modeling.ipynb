{
 "cells": [
  {
   "cell_type": "markdown",
   "metadata": {},
   "source": [
    "# Hipótesis 1:"
   ]
  },
  {
   "cell_type": "markdown",
   "metadata": {},
   "source": [
    "### \"Las provincias con una edad media menor y una renta media por hogar mayor a la nacional, suelen estar más concienciadas con el uso de energías renovables y utilizan más dispositivos que aprovechan este tipo de energía.\""
   ]
  },
  {
   "cell_type": "markdown",
   "metadata": {},
   "source": [
    "La justificación de esta hipótesis radica en que las personas jóvenes suelen estar más concienciadas con el medio ambiente, además de que tienen más tiempo para amortizar la inversión de este tipo de tecnología a lo largo de su vida."
   ]
  },
  {
   "cell_type": "markdown",
   "metadata": {},
   "source": [
    "<br>"
   ]
  },
  {
   "cell_type": "markdown",
   "metadata": {},
   "source": [
    "### Preparación del entorno"
   ]
  },
  {
   "cell_type": "code",
   "execution_count": 973,
   "metadata": {},
   "outputs": [],
   "source": [
    "import pandas as pd\n",
    "import matplotlib.pyplot as plt\n",
    "import matplotlib.cm as cm  \n",
    "import numpy as np\n",
    "from ydata_profiling import ProfileReport\n",
    "from sklearn import preprocessing \n",
    "import os \n",
    "import scipy\n",
    "import seaborn as sns\n",
    "import plotly.express as px\n",
    "from sklearn.metrics import DistanceMetric\n",
    "from sklearn import metrics\n",
    "from scipy import cluster\n",
    "from sklearn.cluster import KMeans\n",
    "from sklearn.preprocessing import StandardScaler\n",
    "\n",
    "GOLD_DATA_PATH = os.path.join(\"..\", \"..\", \"data/gold/\")"
   ]
  },
  {
   "cell_type": "markdown",
   "metadata": {},
   "source": [
    "<br>"
   ]
  },
  {
   "cell_type": "markdown",
   "metadata": {},
   "source": [
    "### Datos"
   ]
  },
  {
   "cell_type": "markdown",
   "metadata": {},
   "source": [
    "Primero, cargamos el dataset correspondiente a la tarjeta de datos 1."
   ]
  },
  {
   "cell_type": "code",
   "execution_count": 974,
   "metadata": {},
   "outputs": [
    {
     "name": "stdout",
     "output_type": "stream",
     "text": [
      "<class 'pandas.core.frame.DataFrame'>\n",
      "RangeIndex: 47 entries, 0 to 46\n",
      "Data columns (total 5 columns):\n",
      " #   Column                                                       Non-Null Count  Dtype  \n",
      "---  ------                                                       --------------  -----  \n",
      " 0   Provincias                                                   47 non-null     object \n",
      " 1   Población Total                                              47 non-null     int64  \n",
      " 2   Renta media por hogar                                        47 non-null     int64  \n",
      " 3   Edad media                                                   47 non-null     float64\n",
      " 4   Porcentaje de hogares con dispositivos de energía renovable  47 non-null     float64\n",
      "dtypes: float64(2), int64(2), object(1)\n",
      "memory usage: 2.0+ KB\n"
     ]
    }
   ],
   "source": [
    "h1_df=pd.read_csv(GOLD_DATA_PATH+\"data_card_1_df.csv\", sep = \";\", encoding = \"latin\")\n",
    "h1_original=pd.read_csv(GOLD_DATA_PATH+\"data_card_1_df.csv\", sep = \";\", encoding = \"latin\") # ya que al h1_df se hará modificaciones \n",
    "h1_df.info()"
   ]
  },
  {
   "cell_type": "code",
   "execution_count": 975,
   "metadata": {},
   "outputs": [
    {
     "data": {
      "text/html": [
       "<div>\n",
       "<style scoped>\n",
       "    .dataframe tbody tr th:only-of-type {\n",
       "        vertical-align: middle;\n",
       "    }\n",
       "\n",
       "    .dataframe tbody tr th {\n",
       "        vertical-align: top;\n",
       "    }\n",
       "\n",
       "    .dataframe thead th {\n",
       "        text-align: right;\n",
       "    }\n",
       "</style>\n",
       "<table border=\"1\" class=\"dataframe\">\n",
       "  <thead>\n",
       "    <tr style=\"text-align: right;\">\n",
       "      <th></th>\n",
       "      <th>Provincias</th>\n",
       "      <th>Población Total</th>\n",
       "      <th>Renta media por hogar</th>\n",
       "      <th>Edad media</th>\n",
       "      <th>Porcentaje de hogares con dispositivos de energía renovable</th>\n",
       "    </tr>\n",
       "  </thead>\n",
       "  <tbody>\n",
       "    <tr>\n",
       "      <th>0</th>\n",
       "      <td>Albacete</td>\n",
       "      <td>385727</td>\n",
       "      <td>30908</td>\n",
       "      <td>43.677523</td>\n",
       "      <td>4.314062</td>\n",
       "    </tr>\n",
       "    <tr>\n",
       "      <th>1</th>\n",
       "      <td>Alicante/Alacant</td>\n",
       "      <td>1901594</td>\n",
       "      <td>28965</td>\n",
       "      <td>43.766889</td>\n",
       "      <td>4.036060</td>\n",
       "    </tr>\n",
       "    <tr>\n",
       "      <th>2</th>\n",
       "      <td>Almería</td>\n",
       "      <td>740534</td>\n",
       "      <td>28442</td>\n",
       "      <td>40.320448</td>\n",
       "      <td>6.713842</td>\n",
       "    </tr>\n",
       "    <tr>\n",
       "      <th>3</th>\n",
       "      <td>Araba/Álava</td>\n",
       "      <td>334412</td>\n",
       "      <td>38586</td>\n",
       "      <td>44.565691</td>\n",
       "      <td>10.445424</td>\n",
       "    </tr>\n",
       "    <tr>\n",
       "      <th>4</th>\n",
       "      <td>Asturias</td>\n",
       "      <td>1004686</td>\n",
       "      <td>33242</td>\n",
       "      <td>48.683390</td>\n",
       "      <td>5.031368</td>\n",
       "    </tr>\n",
       "  </tbody>\n",
       "</table>\n",
       "</div>"
      ],
      "text/plain": [
       "         Provincias  Población Total  Renta media por hogar  Edad media  \\\n",
       "0          Albacete           385727                  30908   43.677523   \n",
       "1  Alicante/Alacant          1901594                  28965   43.766889   \n",
       "2           Almería           740534                  28442   40.320448   \n",
       "3       Araba/Álava           334412                  38586   44.565691   \n",
       "4          Asturias          1004686                  33242   48.683390   \n",
       "\n",
       "   Porcentaje de hogares con dispositivos de energía renovable  \n",
       "0                                           4.314062            \n",
       "1                                           4.036060            \n",
       "2                                           6.713842            \n",
       "3                                          10.445424            \n",
       "4                                           5.031368            "
      ]
     },
     "execution_count": 975,
     "metadata": {},
     "output_type": "execute_result"
    }
   ],
   "source": [
    "# Ejemplo de los datos que presenta la tabla\n",
    "h1_df.head(5)"
   ]
  },
  {
   "cell_type": "markdown",
   "metadata": {},
   "source": [
    "Visualizamos los datos."
   ]
  },
  {
   "cell_type": "code",
   "execution_count": 976,
   "metadata": {},
   "outputs": [
    {
     "data": {
      "application/vnd.plotly.v1+json": {
       "config": {
        "plotlyServerURL": "https://plot.ly"
       },
       "data": [
        {
         "hovertemplate": "Renta media por hogar=%{x}<br>Edad media=%{y}<br>Porcentaje de hogares con dispositivos de energía renovable=%{z}<extra></extra>",
         "legendgroup": "",
         "marker": {
          "color": "#636efa",
          "symbol": "circle"
         },
         "mode": "markers",
         "name": "",
         "scene": "scene",
         "showlegend": false,
         "type": "scatter3d",
         "x": [
          30908,
          28965,
          28442,
          38586,
          33242,
          27243,
          41594,
          40694,
          34530,
          34461,
          32694,
          29290,
          34683,
          29064,
          26529,
          30055,
          29082,
          43392,
          37444,
          29113,
          35509,
          29133,
          34901,
          27429,
          31392,
          35640,
          30709,
          45726,
          32743,
          30644,
          40760,
          29073,
          32105,
          33230,
          33314,
          30435,
          33362,
          31899,
          33830,
          34872,
          32889,
          30626,
          34198,
          34708,
          27928,
          36098,
          28227
         ],
         "y": [
          43.67752322238267,
          43.76688925185923,
          40.32044848717277,
          44.56569142255661,
          48.68338963616493,
          43.78070110994331,
          42.89217780873889,
          46.103247591669685,
          46.68604543086088,
          45.91393264799232,
          43.51042470911726,
          44.066242058980535,
          47.24261334191104,
          45.921312399149656,
          46.53167184538621,
          42.21228507652908,
          43.69378508254106,
          45.14539809888766,
          42.2436702718916,
          42.74662549471956,
          41.69619620552947,
          42.09964388582409,
          45.25832978496913,
          43.76587026120581,
          49.24604231791316,
          43.24068112984009,
          49.98722796144313,
          42.52777298789275,
          40.696911242279086,
          42.41661504136235,
          43.27407369484594,
          50.72758971999474,
          48.20278720064807,
          46.04912329072178,
          44.45862353544321,
          48.311732505262384,
          45.849528292686095,
          41.71263395013224,
          47.28416895798681,
          42.88057705629009,
          46.11338258159068,
          42.21760228073889,
          43.40447056268102,
          46.250527535112695,
          51.06958705857728,
          44.531061485579,
          47.86603009991147
         ],
         "z": [
          4.314061590196861,
          4.036059976402042,
          6.713842035208567,
          10.445423882543013,
          5.0313676562166485,
          4.284820916745457,
          6.148334823194686,
          5.066981026531365,
          5.041191843882249,
          3.450025990823397,
          4.248335365281815,
          4.2337207090981055,
          3.763714481050372,
          4.592573977508325,
          4.726792827479327,
          8.209187456271342,
          6.240187873833897,
          5.352706704655504,
          5.622456412346883,
          6.498633545656589,
          7.19346102519821,
          7.828205305948643,
          5.696279912416223,
          4.610367750544508,
          4.7350366749387085,
          4.726341316583086,
          2.8206825804480204,
          7.618574712083433,
          4.774558746962079,
          6.058336270708495,
          6.4650613385626166,
          2.8646559323694065,
          4.656689478829811,
          3.622916051437623,
          4.419237127381597,
          4.042366773596371,
          4.45177769668893,
          12.301336612791774,
          9.921941376380628,
          5.281246455102047,
          5.284367535238234,
          4.016496934231516,
          3.6176838115770105,
          3.979309406052906,
          3.3244380717197064,
          6.736766565808996,
          4.210416883251898
         ]
        }
       ],
       "layout": {
        "legend": {
         "tracegroupgap": 0
        },
        "margin": {
         "t": 60
        },
        "scene": {
         "domain": {
          "x": [
           0,
           1
          ],
          "y": [
           0,
           1
          ]
         },
         "xaxis": {
          "title": {
           "text": "Renta media por hogar"
          }
         },
         "yaxis": {
          "title": {
           "text": "Edad media"
          }
         },
         "zaxis": {
          "title": {
           "text": "Porcentaje de hogares con dispositivos de energía renovable"
          }
         }
        },
        "template": {
         "data": {
          "bar": [
           {
            "error_x": {
             "color": "#2a3f5f"
            },
            "error_y": {
             "color": "#2a3f5f"
            },
            "marker": {
             "line": {
              "color": "#E5ECF6",
              "width": 0.5
             },
             "pattern": {
              "fillmode": "overlay",
              "size": 10,
              "solidity": 0.2
             }
            },
            "type": "bar"
           }
          ],
          "barpolar": [
           {
            "marker": {
             "line": {
              "color": "#E5ECF6",
              "width": 0.5
             },
             "pattern": {
              "fillmode": "overlay",
              "size": 10,
              "solidity": 0.2
             }
            },
            "type": "barpolar"
           }
          ],
          "carpet": [
           {
            "aaxis": {
             "endlinecolor": "#2a3f5f",
             "gridcolor": "white",
             "linecolor": "white",
             "minorgridcolor": "white",
             "startlinecolor": "#2a3f5f"
            },
            "baxis": {
             "endlinecolor": "#2a3f5f",
             "gridcolor": "white",
             "linecolor": "white",
             "minorgridcolor": "white",
             "startlinecolor": "#2a3f5f"
            },
            "type": "carpet"
           }
          ],
          "choropleth": [
           {
            "colorbar": {
             "outlinewidth": 0,
             "ticks": ""
            },
            "type": "choropleth"
           }
          ],
          "contour": [
           {
            "colorbar": {
             "outlinewidth": 0,
             "ticks": ""
            },
            "colorscale": [
             [
              0,
              "#0d0887"
             ],
             [
              0.1111111111111111,
              "#46039f"
             ],
             [
              0.2222222222222222,
              "#7201a8"
             ],
             [
              0.3333333333333333,
              "#9c179e"
             ],
             [
              0.4444444444444444,
              "#bd3786"
             ],
             [
              0.5555555555555556,
              "#d8576b"
             ],
             [
              0.6666666666666666,
              "#ed7953"
             ],
             [
              0.7777777777777778,
              "#fb9f3a"
             ],
             [
              0.8888888888888888,
              "#fdca26"
             ],
             [
              1,
              "#f0f921"
             ]
            ],
            "type": "contour"
           }
          ],
          "contourcarpet": [
           {
            "colorbar": {
             "outlinewidth": 0,
             "ticks": ""
            },
            "type": "contourcarpet"
           }
          ],
          "heatmap": [
           {
            "colorbar": {
             "outlinewidth": 0,
             "ticks": ""
            },
            "colorscale": [
             [
              0,
              "#0d0887"
             ],
             [
              0.1111111111111111,
              "#46039f"
             ],
             [
              0.2222222222222222,
              "#7201a8"
             ],
             [
              0.3333333333333333,
              "#9c179e"
             ],
             [
              0.4444444444444444,
              "#bd3786"
             ],
             [
              0.5555555555555556,
              "#d8576b"
             ],
             [
              0.6666666666666666,
              "#ed7953"
             ],
             [
              0.7777777777777778,
              "#fb9f3a"
             ],
             [
              0.8888888888888888,
              "#fdca26"
             ],
             [
              1,
              "#f0f921"
             ]
            ],
            "type": "heatmap"
           }
          ],
          "heatmapgl": [
           {
            "colorbar": {
             "outlinewidth": 0,
             "ticks": ""
            },
            "colorscale": [
             [
              0,
              "#0d0887"
             ],
             [
              0.1111111111111111,
              "#46039f"
             ],
             [
              0.2222222222222222,
              "#7201a8"
             ],
             [
              0.3333333333333333,
              "#9c179e"
             ],
             [
              0.4444444444444444,
              "#bd3786"
             ],
             [
              0.5555555555555556,
              "#d8576b"
             ],
             [
              0.6666666666666666,
              "#ed7953"
             ],
             [
              0.7777777777777778,
              "#fb9f3a"
             ],
             [
              0.8888888888888888,
              "#fdca26"
             ],
             [
              1,
              "#f0f921"
             ]
            ],
            "type": "heatmapgl"
           }
          ],
          "histogram": [
           {
            "marker": {
             "pattern": {
              "fillmode": "overlay",
              "size": 10,
              "solidity": 0.2
             }
            },
            "type": "histogram"
           }
          ],
          "histogram2d": [
           {
            "colorbar": {
             "outlinewidth": 0,
             "ticks": ""
            },
            "colorscale": [
             [
              0,
              "#0d0887"
             ],
             [
              0.1111111111111111,
              "#46039f"
             ],
             [
              0.2222222222222222,
              "#7201a8"
             ],
             [
              0.3333333333333333,
              "#9c179e"
             ],
             [
              0.4444444444444444,
              "#bd3786"
             ],
             [
              0.5555555555555556,
              "#d8576b"
             ],
             [
              0.6666666666666666,
              "#ed7953"
             ],
             [
              0.7777777777777778,
              "#fb9f3a"
             ],
             [
              0.8888888888888888,
              "#fdca26"
             ],
             [
              1,
              "#f0f921"
             ]
            ],
            "type": "histogram2d"
           }
          ],
          "histogram2dcontour": [
           {
            "colorbar": {
             "outlinewidth": 0,
             "ticks": ""
            },
            "colorscale": [
             [
              0,
              "#0d0887"
             ],
             [
              0.1111111111111111,
              "#46039f"
             ],
             [
              0.2222222222222222,
              "#7201a8"
             ],
             [
              0.3333333333333333,
              "#9c179e"
             ],
             [
              0.4444444444444444,
              "#bd3786"
             ],
             [
              0.5555555555555556,
              "#d8576b"
             ],
             [
              0.6666666666666666,
              "#ed7953"
             ],
             [
              0.7777777777777778,
              "#fb9f3a"
             ],
             [
              0.8888888888888888,
              "#fdca26"
             ],
             [
              1,
              "#f0f921"
             ]
            ],
            "type": "histogram2dcontour"
           }
          ],
          "mesh3d": [
           {
            "colorbar": {
             "outlinewidth": 0,
             "ticks": ""
            },
            "type": "mesh3d"
           }
          ],
          "parcoords": [
           {
            "line": {
             "colorbar": {
              "outlinewidth": 0,
              "ticks": ""
             }
            },
            "type": "parcoords"
           }
          ],
          "pie": [
           {
            "automargin": true,
            "type": "pie"
           }
          ],
          "scatter": [
           {
            "fillpattern": {
             "fillmode": "overlay",
             "size": 10,
             "solidity": 0.2
            },
            "type": "scatter"
           }
          ],
          "scatter3d": [
           {
            "line": {
             "colorbar": {
              "outlinewidth": 0,
              "ticks": ""
             }
            },
            "marker": {
             "colorbar": {
              "outlinewidth": 0,
              "ticks": ""
             }
            },
            "type": "scatter3d"
           }
          ],
          "scattercarpet": [
           {
            "marker": {
             "colorbar": {
              "outlinewidth": 0,
              "ticks": ""
             }
            },
            "type": "scattercarpet"
           }
          ],
          "scattergeo": [
           {
            "marker": {
             "colorbar": {
              "outlinewidth": 0,
              "ticks": ""
             }
            },
            "type": "scattergeo"
           }
          ],
          "scattergl": [
           {
            "marker": {
             "colorbar": {
              "outlinewidth": 0,
              "ticks": ""
             }
            },
            "type": "scattergl"
           }
          ],
          "scattermapbox": [
           {
            "marker": {
             "colorbar": {
              "outlinewidth": 0,
              "ticks": ""
             }
            },
            "type": "scattermapbox"
           }
          ],
          "scatterpolar": [
           {
            "marker": {
             "colorbar": {
              "outlinewidth": 0,
              "ticks": ""
             }
            },
            "type": "scatterpolar"
           }
          ],
          "scatterpolargl": [
           {
            "marker": {
             "colorbar": {
              "outlinewidth": 0,
              "ticks": ""
             }
            },
            "type": "scatterpolargl"
           }
          ],
          "scatterternary": [
           {
            "marker": {
             "colorbar": {
              "outlinewidth": 0,
              "ticks": ""
             }
            },
            "type": "scatterternary"
           }
          ],
          "surface": [
           {
            "colorbar": {
             "outlinewidth": 0,
             "ticks": ""
            },
            "colorscale": [
             [
              0,
              "#0d0887"
             ],
             [
              0.1111111111111111,
              "#46039f"
             ],
             [
              0.2222222222222222,
              "#7201a8"
             ],
             [
              0.3333333333333333,
              "#9c179e"
             ],
             [
              0.4444444444444444,
              "#bd3786"
             ],
             [
              0.5555555555555556,
              "#d8576b"
             ],
             [
              0.6666666666666666,
              "#ed7953"
             ],
             [
              0.7777777777777778,
              "#fb9f3a"
             ],
             [
              0.8888888888888888,
              "#fdca26"
             ],
             [
              1,
              "#f0f921"
             ]
            ],
            "type": "surface"
           }
          ],
          "table": [
           {
            "cells": {
             "fill": {
              "color": "#EBF0F8"
             },
             "line": {
              "color": "white"
             }
            },
            "header": {
             "fill": {
              "color": "#C8D4E3"
             },
             "line": {
              "color": "white"
             }
            },
            "type": "table"
           }
          ]
         },
         "layout": {
          "annotationdefaults": {
           "arrowcolor": "#2a3f5f",
           "arrowhead": 0,
           "arrowwidth": 1
          },
          "autotypenumbers": "strict",
          "coloraxis": {
           "colorbar": {
            "outlinewidth": 0,
            "ticks": ""
           }
          },
          "colorscale": {
           "diverging": [
            [
             0,
             "#8e0152"
            ],
            [
             0.1,
             "#c51b7d"
            ],
            [
             0.2,
             "#de77ae"
            ],
            [
             0.3,
             "#f1b6da"
            ],
            [
             0.4,
             "#fde0ef"
            ],
            [
             0.5,
             "#f7f7f7"
            ],
            [
             0.6,
             "#e6f5d0"
            ],
            [
             0.7,
             "#b8e186"
            ],
            [
             0.8,
             "#7fbc41"
            ],
            [
             0.9,
             "#4d9221"
            ],
            [
             1,
             "#276419"
            ]
           ],
           "sequential": [
            [
             0,
             "#0d0887"
            ],
            [
             0.1111111111111111,
             "#46039f"
            ],
            [
             0.2222222222222222,
             "#7201a8"
            ],
            [
             0.3333333333333333,
             "#9c179e"
            ],
            [
             0.4444444444444444,
             "#bd3786"
            ],
            [
             0.5555555555555556,
             "#d8576b"
            ],
            [
             0.6666666666666666,
             "#ed7953"
            ],
            [
             0.7777777777777778,
             "#fb9f3a"
            ],
            [
             0.8888888888888888,
             "#fdca26"
            ],
            [
             1,
             "#f0f921"
            ]
           ],
           "sequentialminus": [
            [
             0,
             "#0d0887"
            ],
            [
             0.1111111111111111,
             "#46039f"
            ],
            [
             0.2222222222222222,
             "#7201a8"
            ],
            [
             0.3333333333333333,
             "#9c179e"
            ],
            [
             0.4444444444444444,
             "#bd3786"
            ],
            [
             0.5555555555555556,
             "#d8576b"
            ],
            [
             0.6666666666666666,
             "#ed7953"
            ],
            [
             0.7777777777777778,
             "#fb9f3a"
            ],
            [
             0.8888888888888888,
             "#fdca26"
            ],
            [
             1,
             "#f0f921"
            ]
           ]
          },
          "colorway": [
           "#636efa",
           "#EF553B",
           "#00cc96",
           "#ab63fa",
           "#FFA15A",
           "#19d3f3",
           "#FF6692",
           "#B6E880",
           "#FF97FF",
           "#FECB52"
          ],
          "font": {
           "color": "#2a3f5f"
          },
          "geo": {
           "bgcolor": "white",
           "lakecolor": "white",
           "landcolor": "#E5ECF6",
           "showlakes": true,
           "showland": true,
           "subunitcolor": "white"
          },
          "hoverlabel": {
           "align": "left"
          },
          "hovermode": "closest",
          "mapbox": {
           "style": "light"
          },
          "paper_bgcolor": "white",
          "plot_bgcolor": "#E5ECF6",
          "polar": {
           "angularaxis": {
            "gridcolor": "white",
            "linecolor": "white",
            "ticks": ""
           },
           "bgcolor": "#E5ECF6",
           "radialaxis": {
            "gridcolor": "white",
            "linecolor": "white",
            "ticks": ""
           }
          },
          "scene": {
           "xaxis": {
            "backgroundcolor": "#E5ECF6",
            "gridcolor": "white",
            "gridwidth": 2,
            "linecolor": "white",
            "showbackground": true,
            "ticks": "",
            "zerolinecolor": "white"
           },
           "yaxis": {
            "backgroundcolor": "#E5ECF6",
            "gridcolor": "white",
            "gridwidth": 2,
            "linecolor": "white",
            "showbackground": true,
            "ticks": "",
            "zerolinecolor": "white"
           },
           "zaxis": {
            "backgroundcolor": "#E5ECF6",
            "gridcolor": "white",
            "gridwidth": 2,
            "linecolor": "white",
            "showbackground": true,
            "ticks": "",
            "zerolinecolor": "white"
           }
          },
          "shapedefaults": {
           "line": {
            "color": "#2a3f5f"
           }
          },
          "ternary": {
           "aaxis": {
            "gridcolor": "white",
            "linecolor": "white",
            "ticks": ""
           },
           "baxis": {
            "gridcolor": "white",
            "linecolor": "white",
            "ticks": ""
           },
           "bgcolor": "#E5ECF6",
           "caxis": {
            "gridcolor": "white",
            "linecolor": "white",
            "ticks": ""
           }
          },
          "title": {
           "x": 0.05
          },
          "xaxis": {
           "automargin": true,
           "gridcolor": "white",
           "linecolor": "white",
           "ticks": "",
           "title": {
            "standoff": 15
           },
           "zerolinecolor": "white",
           "zerolinewidth": 2
          },
          "yaxis": {
           "automargin": true,
           "gridcolor": "white",
           "linecolor": "white",
           "ticks": "",
           "title": {
            "standoff": 15
           },
           "zerolinecolor": "white",
           "zerolinewidth": 2
          }
         }
        }
       }
      }
     },
     "metadata": {},
     "output_type": "display_data"
    }
   ],
   "source": [
    "fig = px.scatter_3d(h1_df, x='Renta media por hogar', y='Edad media', \n",
    "                    z='Porcentaje de hogares con dispositivos de energía renovable')\n",
    "fig.show()"
   ]
  },
  {
   "cell_type": "markdown",
   "metadata": {},
   "source": [
    "<br>"
   ]
  },
  {
   "cell_type": "markdown",
   "metadata": {},
   "source": [
    "### Población total"
   ]
  },
  {
   "cell_type": "code",
   "execution_count": 977,
   "metadata": {},
   "outputs": [
    {
     "name": "stdout",
     "output_type": "stream",
     "text": [
      "La población total es de 43952773 habitantes.\n"
     ]
    }
   ],
   "source": [
    "poblacion_total_nacional = h1_df['Población Total'].sum()\n",
    "print(f\"La población total es de {poblacion_total_nacional} habitantes.\")"
   ]
  },
  {
   "cell_type": "markdown",
   "metadata": {},
   "source": [
    "<br>"
   ]
  },
  {
   "cell_type": "markdown",
   "metadata": {},
   "source": [
    "### Cálculo de la edad media nacional"
   ]
  },
  {
   "cell_type": "code",
   "execution_count": 978,
   "metadata": {},
   "outputs": [
    {
     "name": "stdout",
     "output_type": "stream",
     "text": [
      "La edad media nacional es de 43.69820011128763 habitantes.\n"
     ]
    }
   ],
   "source": [
    "# Edad media nacional ponderada\n",
    "edad_media_nacional = ((h1_df['Edad media'] * h1_df['Población Total']).sum()) / poblacion_total_nacional\n",
    "print(f\"La edad media nacional es de {edad_media_nacional} habitantes.\")"
   ]
  },
  {
   "cell_type": "markdown",
   "metadata": {},
   "source": [
    "<br>"
   ]
  },
  {
   "cell_type": "markdown",
   "metadata": {},
   "source": [
    "### Cálculo de la renta media nacional"
   ]
  },
  {
   "cell_type": "code",
   "execution_count": 979,
   "metadata": {},
   "outputs": [
    {
     "name": "stdout",
     "output_type": "stream",
     "text": [
      "La renta media nacional ponderada es: 35878.80028661673\n"
     ]
    }
   ],
   "source": [
    "# Renta total nacional ponderada\n",
    "renta_total_nacional = (h1_df['Renta media por hogar'] * h1_df['Población Total']).sum()\n",
    "\n",
    "# Renta media nacional ponderada\n",
    "renta_media_nacional = renta_total_nacional / poblacion_total_nacional\n",
    "\n",
    "print(\"La renta media nacional ponderada es:\", renta_media_nacional)"
   ]
  },
  {
   "cell_type": "markdown",
   "metadata": {},
   "source": [
    "<br>"
   ]
  },
  {
   "cell_type": "markdown",
   "metadata": {},
   "source": [
    "### Correlación de variables"
   ]
  },
  {
   "cell_type": "code",
   "execution_count": 980,
   "metadata": {},
   "outputs": [
    {
     "data": {
      "text/html": [
       "<div>\n",
       "<style scoped>\n",
       "    .dataframe tbody tr th:only-of-type {\n",
       "        vertical-align: middle;\n",
       "    }\n",
       "\n",
       "    .dataframe tbody tr th {\n",
       "        vertical-align: top;\n",
       "    }\n",
       "\n",
       "    .dataframe thead th {\n",
       "        text-align: right;\n",
       "    }\n",
       "</style>\n",
       "<table border=\"1\" class=\"dataframe\">\n",
       "  <thead>\n",
       "    <tr style=\"text-align: right;\">\n",
       "      <th></th>\n",
       "      <th>Feature 1</th>\n",
       "      <th>Feature 2</th>\n",
       "      <th>Pearson Correlation</th>\n",
       "      <th>Pearson p-value</th>\n",
       "      <th>Spearman Correlation</th>\n",
       "      <th>Spearman p-value</th>\n",
       "    </tr>\n",
       "  </thead>\n",
       "  <tbody>\n",
       "    <tr>\n",
       "      <th>0</th>\n",
       "      <td>Población Total</td>\n",
       "      <td>Renta media por hogar</td>\n",
       "      <td>0.499812</td>\n",
       "      <td>0.000348</td>\n",
       "      <td>0.192183</td>\n",
       "      <td>0.195608</td>\n",
       "    </tr>\n",
       "    <tr>\n",
       "      <th>1</th>\n",
       "      <td>Población Total</td>\n",
       "      <td>Edad media</td>\n",
       "      <td>-0.350727</td>\n",
       "      <td>0.015647</td>\n",
       "      <td>-0.535037</td>\n",
       "      <td>0.000107</td>\n",
       "    </tr>\n",
       "    <tr>\n",
       "      <th>2</th>\n",
       "      <td>Población Total</td>\n",
       "      <td>Porcentaje de hogares con dispositivos de ener...</td>\n",
       "      <td>0.213060</td>\n",
       "      <td>0.150462</td>\n",
       "      <td>0.207447</td>\n",
       "      <td>0.161765</td>\n",
       "    </tr>\n",
       "    <tr>\n",
       "      <th>3</th>\n",
       "      <td>Renta media por hogar</td>\n",
       "      <td>Edad media</td>\n",
       "      <td>-0.164277</td>\n",
       "      <td>0.269846</td>\n",
       "      <td>-0.113205</td>\n",
       "      <td>0.448667</td>\n",
       "    </tr>\n",
       "    <tr>\n",
       "      <th>4</th>\n",
       "      <td>Renta media por hogar</td>\n",
       "      <td>Porcentaje de hogares con dispositivos de ener...</td>\n",
       "      <td>0.254432</td>\n",
       "      <td>0.084373</td>\n",
       "      <td>0.312905</td>\n",
       "      <td>0.032234</td>\n",
       "    </tr>\n",
       "    <tr>\n",
       "      <th>5</th>\n",
       "      <td>Edad media</td>\n",
       "      <td>Porcentaje de hogares con dispositivos de ener...</td>\n",
       "      <td>-0.444344</td>\n",
       "      <td>0.001754</td>\n",
       "      <td>-0.511101</td>\n",
       "      <td>0.000241</td>\n",
       "    </tr>\n",
       "  </tbody>\n",
       "</table>\n",
       "</div>"
      ],
      "text/plain": [
       "               Feature 1                                          Feature 2  \\\n",
       "0        Población Total                              Renta media por hogar   \n",
       "1        Población Total                                         Edad media   \n",
       "2        Población Total  Porcentaje de hogares con dispositivos de ener...   \n",
       "3  Renta media por hogar                                         Edad media   \n",
       "4  Renta media por hogar  Porcentaje de hogares con dispositivos de ener...   \n",
       "5             Edad media  Porcentaje de hogares con dispositivos de ener...   \n",
       "\n",
       "   Pearson Correlation  Pearson p-value  Spearman Correlation  \\\n",
       "0             0.499812         0.000348              0.192183   \n",
       "1            -0.350727         0.015647             -0.535037   \n",
       "2             0.213060         0.150462              0.207447   \n",
       "3            -0.164277         0.269846             -0.113205   \n",
       "4             0.254432         0.084373              0.312905   \n",
       "5            -0.444344         0.001754             -0.511101   \n",
       "\n",
       "   Spearman p-value  \n",
       "0          0.195608  \n",
       "1          0.000107  \n",
       "2          0.161765  \n",
       "3          0.448667  \n",
       "4          0.032234  \n",
       "5          0.000241  "
      ]
     },
     "execution_count": 980,
     "metadata": {},
     "output_type": "execute_result"
    }
   ],
   "source": [
    "columns = h1_df.columns[1:]\n",
    "crr_results = []\n",
    "\n",
    "for i in range(len(columns)):\n",
    "    for j in range(i + 1, len(columns)):\n",
    "        col1 = columns[i]\n",
    "        col2 = columns[j]\n",
    "\n",
    "        # Calculate Pearson correlation\n",
    "        pearson = scipy.stats.pearsonr(h1_df[col1], h1_df[col2])\n",
    "        pearson_corr = pearson[0]\n",
    "        pearson_pval = pearson[1]\n",
    "        \n",
    "        # Calculate Spearman correlation\n",
    "        spear = scipy.stats.spearmanr(h1_df[col1], h1_df[col2])\n",
    "        spear_corr = spear.correlation\n",
    "        spear_pval = spear.pvalue\n",
    "\n",
    "            \n",
    "        # Save results\n",
    "        crr_results.append({\n",
    "            'Feature 1': col1,\n",
    "            'Feature 2': col2,\n",
    "            'Pearson Correlation': pearson_corr,\n",
    "            'Pearson p-value': pearson_pval,\n",
    "            'Spearman Correlation': spear_corr,\n",
    "            'Spearman p-value': spear_pval\n",
    "        })\n",
    "\n",
    "\n",
    "crr_results_df = pd.DataFrame(crr_results)\n",
    "crr_results_df.head(10)"
   ]
  },
  {
   "cell_type": "markdown",
   "metadata": {},
   "source": [
    "Nos centraremos en la fila 5 de la tabla de correlaciones. \n",
    "- Correlación de Pearson:\n",
    "    - Valor de la correlación de Pearson: -0.444344.\n",
    "        - El valor de la correlación de Pearson es negativo, lo que sugiere una relación inversa entre la edad media y el porcentaje de hogares con dispositivos de energía renovable. En otras palabras, cuando uno de estos valores aumenta, el otro tiende a disminuir.\n",
    "        - El valor de la correlación de -0.444344 indica que hay una relación negativa moderada entre estas dos características.\n",
    "\n",
    "    - Valor p de Pearson: 0.001754.\n",
    "        - El valor p asociado con la correlación de Pearson es muy bajo (menor que 0.05), lo que sugiere que esta correlación es estadísticamente significativa. Es decir, la relación observada probablemente no sea aleatoria.\n",
    "\n",
    "- Correlación de Spearman:\n",
    "    - Valor de la correlación de Spearman: -0.511101.\n",
    "        - La correlación de Spearman también es negativa, pero un poco más fuerte que la de Pearson.\n",
    "        - Este valor también sugiere que conforme aumenta la edad media, tiende a disminuir el porcentaje de hogares con dispositivos de energía renovable.\n",
    "\n",
    "\n",
    "    - Valor p de Spearman: 0.000241.\n",
    "        - Al igual que el valor p de Pearson, el valor p de Spearman es extremadamente bajo, lo que indica que la correlación observada es estadísticamente significativa. Esto refuerza la conclusión de que existe una relación no aleatoria entre estas dos variables."
   ]
  },
  {
   "cell_type": "code",
   "execution_count": 981,
   "metadata": {},
   "outputs": [
    {
     "data": {
      "image/png": "[encoded data removed]",
      "text/plain": [
       "<Figure size 600x300 with 1 Axes>"
      ]
     },
     "metadata": {},
     "output_type": "display_data"
    }
   ],
   "source": [
    "plt.figure(figsize=(6, 3))\n",
    "sns.scatterplot(data=h1_df, x='Edad media', y='Porcentaje de hogares con dispositivos de energía renovable', color='green', alpha=0.6)\n",
    "plt.title('Correlación entre variables')\n",
    "plt.xlabel('Edad media')\n",
    "plt.ylabel('% dispositivos de energía renovable')\n",
    "plt.grid(True)\n",
    "plt.show()"
   ]
  },
  {
   "cell_type": "markdown",
   "metadata": {},
   "source": [
    "##### Conclusiones"
   ]
  },
  {
   "cell_type": "markdown",
   "metadata": {},
   "source": [
    "Mediante el estudio de correlación, hemos podido confirmar que existe una relación negativa moderada entre la edad media y el porcentaje de hogares con dispositivos de energía renovable. Esto nos acerca a validar nuestra hipótesis, pero tenemos que tener en cuenta la renta media y la correlación entre variables no nos aporta nada para esta variable."
   ]
  },
  {
   "cell_type": "markdown",
   "metadata": {},
   "source": [
    "<br>"
   ]
  },
  {
   "cell_type": "markdown",
   "metadata": {},
   "source": [
    "### Transformaciones previas"
   ]
  },
  {
   "cell_type": "markdown",
   "metadata": {},
   "source": [
    "Antes de continuar, necesitamos poner todos los datos en la misma escala. Se va a usar MinMaxScaler, que ajusta los valores para que el mínimo sea 0 y el máximo 1. Esto puede distorsionar un poco los datos, pero suele ayudar a obtener mejores resultados en técnicas de clustering."
   ]
  },
  {
   "cell_type": "code",
   "execution_count": 982,
   "metadata": {},
   "outputs": [],
   "source": [
    "h1_df.drop('Población Total', axis=1, inplace=True)"
   ]
  },
  {
   "cell_type": "code",
   "execution_count": 983,
   "metadata": {},
   "outputs": [
    {
     "data": {
      "text/html": [
       "<div>\n",
       "<style scoped>\n",
       "    .dataframe tbody tr th:only-of-type {\n",
       "        vertical-align: middle;\n",
       "    }\n",
       "\n",
       "    .dataframe tbody tr th {\n",
       "        vertical-align: top;\n",
       "    }\n",
       "\n",
       "    .dataframe thead th {\n",
       "        text-align: right;\n",
       "    }\n",
       "</style>\n",
       "<table border=\"1\" class=\"dataframe\">\n",
       "  <thead>\n",
       "    <tr style=\"text-align: right;\">\n",
       "      <th></th>\n",
       "      <th>Provincias</th>\n",
       "      <th>Renta media por hogar</th>\n",
       "      <th>Edad media</th>\n",
       "      <th>Porcentaje de hogares con dispositivos de energía renovable</th>\n",
       "    </tr>\n",
       "  </thead>\n",
       "  <tbody>\n",
       "    <tr>\n",
       "      <th>0</th>\n",
       "      <td>Albacete</td>\n",
       "      <td>30908</td>\n",
       "      <td>43.677523</td>\n",
       "      <td>4.314062</td>\n",
       "    </tr>\n",
       "    <tr>\n",
       "      <th>1</th>\n",
       "      <td>Alicante/Alacant</td>\n",
       "      <td>28965</td>\n",
       "      <td>43.766889</td>\n",
       "      <td>4.036060</td>\n",
       "    </tr>\n",
       "    <tr>\n",
       "      <th>2</th>\n",
       "      <td>Almería</td>\n",
       "      <td>28442</td>\n",
       "      <td>40.320448</td>\n",
       "      <td>6.713842</td>\n",
       "    </tr>\n",
       "    <tr>\n",
       "      <th>3</th>\n",
       "      <td>Araba/Álava</td>\n",
       "      <td>38586</td>\n",
       "      <td>44.565691</td>\n",
       "      <td>10.445424</td>\n",
       "    </tr>\n",
       "    <tr>\n",
       "      <th>4</th>\n",
       "      <td>Asturias</td>\n",
       "      <td>33242</td>\n",
       "      <td>48.683390</td>\n",
       "      <td>5.031368</td>\n",
       "    </tr>\n",
       "  </tbody>\n",
       "</table>\n",
       "</div>"
      ],
      "text/plain": [
       "         Provincias  Renta media por hogar  Edad media  \\\n",
       "0          Albacete                  30908   43.677523   \n",
       "1  Alicante/Alacant                  28965   43.766889   \n",
       "2           Almería                  28442   40.320448   \n",
       "3       Araba/Álava                  38586   44.565691   \n",
       "4          Asturias                  33242   48.683390   \n",
       "\n",
       "   Porcentaje de hogares con dispositivos de energía renovable  \n",
       "0                                           4.314062            \n",
       "1                                           4.036060            \n",
       "2                                           6.713842            \n",
       "3                                          10.445424            \n",
       "4                                           5.031368            "
      ]
     },
     "execution_count": 983,
     "metadata": {},
     "output_type": "execute_result"
    }
   ],
   "source": [
    "h1_df.head()"
   ]
  },
  {
   "cell_type": "code",
   "execution_count": 984,
   "metadata": {},
   "outputs": [],
   "source": [
    "min_max_scaler = preprocessing.RobustScaler()\n",
    "datanorm = min_max_scaler.fit_transform(h1_df.iloc[:, 1:])"
   ]
  },
  {
   "cell_type": "markdown",
   "metadata": {},
   "source": [
    "<br>"
   ]
  },
  {
   "cell_type": "markdown",
   "metadata": {},
   "source": [
    "### Modelado"
   ]
  },
  {
   "cell_type": "markdown",
   "metadata": {},
   "source": [
    "#### a) Clustering Jerárquico"
   ]
  },
  {
   "cell_type": "markdown",
   "metadata": {},
   "source": [
    "El clustering jerárquico organiza los datos en una estructura de árbol llamada dendrograma, que muestra cómo se relacionan los clusters entre sí. La raíz del árbol representa todos los elementos, mientras que las hojas corresponden a los grupos con mayor similitud. Los niveles intermedios reflejan la fusión o división de los clusters en diferentes etapas."
   ]
  },
  {
   "cell_type": "markdown",
   "metadata": {},
   "source": [
    "Similarity matrix."
   ]
  },
  {
   "cell_type": "code",
   "execution_count": 985,
   "metadata": {},
   "outputs": [
    {
     "data": {
      "application/vnd.plotly.v1+json": {
       "config": {
        "plotlyServerURL": "https://plot.ly"
       },
       "data": [
        {
         "coloraxis": "coloraxis",
         "hovertemplate": "x: %{x}<br>y: %{y}<br>color: %{z}<extra></extra>",
         "name": "0",
         "type": "heatmap",
         "xaxis": "x",
         "yaxis": "y",
         "z": [
          [
           0,
           0.3766086113336931,
           1.6104512182391455,
           3.4093806716247164,
           1.5321344888755262,
           0.6578130212622431,
           2.1411778895649447,
           1.9240923488022694,
           1.1377082231693807,
           1.002388065611732,
           0.3253995074635404,
           0.3131861927270693,
           1.2532146226945196,
           0.7342272301174119,
           1.1502994745713278,
           2.024570157624157,
           1.0300461331575863,
           2.336849909687493,
           1.4072136756378295,
           1.183662521987207,
           1.7695897559340548,
           1.8651841019707391,
           1.0986304191431724,
           0.641981601543607,
           1.6054819844312047,
           0.8824828106220968,
           1.9534299710893568,
           3.1576680830593493,
           0.9412745526219789,
           0.9559816789721172,
           2.0788914472693056,
           2.1667506160060217,
           1.3203774703149607,
           0.8683165991876768,
           0.4883994360974979,
           1.33213403661238,
           0.7631936224374765,
           4.0924253829995445,
           3.068993498733424,
           0.8928278296725595,
           0.9226152102380937,
           0.44591591884358756,
           0.6917877157459662,
           1.0157790571357184,
           2.232882296865993,
           1.5601034045308122,
           1.2891883484304245
          ],
          [
           0.3766086113336931,
           0,
           1.679090274853815,
           3.686194176643337,
           1.676430775530759,
           0.33348445001886273,
           2.5168435466519847,
           2.266782389312981,
           1.3959470310291726,
           1.1975953015772358,
           0.6810123065313173,
           0.143994967030097,
           1.4329092062844662,
           0.6766250639617745,
           0.9673019621787635,
           2.1707887676152167,
           1.1179941704585215,
           2.6997642711687204,
           1.773738966580706,
           1.2824080826967288,
           2.07081076060987,
           1.9810090568911973,
           1.4219786182304013,
           0.4007652265440635,
           1.6610221411169943,
           1.2557066983699035,
           1.9046217858350953,
           3.52876345579305,
           1.1688335291455487,
           1.1359828740981333,
           2.4509636650604256,
           2.0730954248337152,
           1.4205048521218449,
           1.0258923428950508,
           0.827333585363882,
           1.3232835133082579,
           1.0093649991807043,
           4.264256835254087,
           3.2671989896890463,
           1.2585011725493456,
           1.1591742880288183,
           0.5330741162330952,
           0.967296817100259,
           1.2501462485572212,
           2.1228398380251003,
           1.8861993593501847,
           1.180378535433518
          ],
          [
           1.6104512182391455,
           1.679090274853815,
           0,
           2.8903077842310685,
           2.6762022356395083,
           1.5930801539521908,
           2.485770252038966,
           2.871147276581986,
           2.282372527291448,
           2.539701407640032,
           1.7240235021646269,
           1.6573558640246622,
           2.7184980916049177,
           1.9295639382945402,
           2.0672611649038415,
           0.9746153411323129,
           0.9986345394643639,
           3.0908999097219363,
           1.7920319057520984,
           0.7110546058821058,
           1.3483632602908224,
           0.7696273701644143,
           1.895220422523863,
           1.461842931685679,
           2.787869351767761,
           1.8370507988917186,
           3.416091031941921,
           3.194796377550841,
           1.2541442652794121,
           0.7899399231476547,
           2.3668429975932384,
           3.5552425227842823,
           2.5646550365718577,
           2.4217219883366097,
           1.873654846798202,
           2.6761117578867206,
           2.1406213284086046,
           2.9271992001334852,
           2.7435189696584237,
           1.5459081119756986,
           1.97304111388527,
           1.5221257986312278,
           2.0745094548925844,
           2.4590904415782253,
           3.516934163020986,
           1.8240172167445519,
           2.4996135486533144
          ],
          [
           3.4093806716247164,
           3.686194176643337,
           2.8903077842310685,
           0,
           3.1359509735171542,
           3.7339464577201795,
           2.2947977135329944,
           2.787928486354282,
           2.898869541033734,
           3.6436368100122998,
           3.328639744672126,
           3.566152441432167,
           3.542764519441512,
           3.445333302940127,
           3.659766576126119,
           2.018724112431781,
           2.740617030132355,
           2.72720640453621,
           2.541901949345529,
           2.675426933226068,
           1.921845880545427,
           2.2644344545474016,
           2.50482164843123,
           3.578515984966058,
           3.4394903008888287,
           2.9717015190334344,
           4.3970116926144005,
           2.0076848878193947,
           3.253246198892293,
           2.711300353315636,
           2.088299681143013,
           4.557873470672888,
           3.3229457240043327,
           3.6149812848681306,
           3.1985337838451304,
           3.7172919803942013,
           3.201112839247056,
           1.727760447771909,
           1.1827769207217338,
           2.7442576099070575,
           2.843621194164003,
           3.620931320551204,
           3.5656672575465995,
           3.3858324500535986,
           4.486773160631634,
           1.9326653332633,
           3.785480203992483
          ],
          [
           1.5321344888755262,
           1.676430775530759,
           2.6762022356395083,
           3.1359509735171542,
           0,
           1.8046042571399763,
           2.300594150228218,
           1.525378140929399,
           0.6149149080990328,
           1.146774303976602,
           1.5316199222272728,
           1.5495221322237456,
           0.8055247702448955,
           1.109742064361983,
           1.3597359871813905,
           2.5163250843600267,
           1.7200727939003448,
           2.087139400705889,
           2.0083325237425242,
           1.9926745100881167,
           2.311198992352719,
           2.466283351068282,
           1.0757157345555675,
           1.7607194281064975,
           0.39790533027652025,
           1.618765741279255,
           1.265327939041416,
           3.132713104294867,
           2.284245880913563,
           1.9197207340759457,
           2.1741398011931916,
           1.451103518173277,
           0.31054645083751625,
           1.036810054560602,
           1.2448339433870805,
           0.7182704264894394,
           0.8606023520456478,
           4.195505524089061,
           2.5139083628591954,
           1.6860646613300734,
           0.7471193563664231,
           1.9718742507387832,
           1.6768757786504918,
           0.9140532429017004,
           1.4560449339820467,
           1.5535634291888494,
           1.0177636430887234
          ],
          [
           0.6578130212622431,
           0.33348445001886273,
           1.5930801539521908,
           3.7339464577201795,
           1.8046042571399763,
           0,
           2.7522972063114,
           2.5318838136426383,
           1.593932919749095,
           1.491247476757225,
           0.9803573674304223,
           0.37677249028749726,
           1.6805561986604436,
           0.7099009216038074,
           0.8262702914515263,
           2.1009202542479573,
           1.045131432405352,
           2.9706990917609497,
           1.999058424994577,
           1.2080817888456694,
           2.1735859927110557,
           1.8902082782395448,
           1.6045100208601024,
           0.168455394843914,
           1.7427195213264213,
           1.529581093771127,
           2.018236078411412,
           3.736690236575294,
           1.3445944286565799,
           1.1540559368005505,
           2.6672440348405337,
           2.134261502165825,
           1.5450521105220996,
           1.2974538575336658,
           1.1074411407952292,
           1.4191362482130343,
           1.2485129031875697,
           4.191323069015227,
           3.250141495750343,
           1.4803649627846573,
           1.3130928794357746,
           0.7649762462009407,
           1.2962791346078832,
           1.520304749010442,
           2.1395089950553925,
           2.0276076732610044,
           1.1795380868978833
          ],
          [
           2.1411778895649447,
           2.5168435466519847,
           2.485770252038966,
           2.2947977135329944,
           2.300594150228218,
           2.7522972063114,
           0,
           1.079864272982217,
           1.757966029808309,
           2.0616155308119706,
           1.8720532656779532,
           2.432982287688669,
           2.130164315527979,
           2.532660376989263,
           2.98175824597424,
           2.325545617640171,
           2.255009787129394,
           0.8246006603844022,
           0.8116451098089866,
           2.2447633668491154,
           1.2598060848903194,
           2.401316674686875,
           1.3956457059776488,
           2.6679349836000497,
           2.672982246184347,
           1.2918649584009978,
           3.279112022718345,
           1.0560286634461036,
           1.8425374281370597,
           1.9681068752523847,
           0.24498110892832298,
           3.578861094349457,
           2.4003088458988247,
           2.1677368427007018,
           1.7808691986468115,
           2.744616450582774,
           1.9051588147253857,
           3.5871004570479554,
           2.677419323443379,
           1.2826902668025146,
           1.8632451584791845,
           2.2519155260429353,
           1.8508482966923374,
           1.91088551687057,
           3.673639368515001,
           1.1306334559041509,
           2.9531735195350435
          ],
          [
           1.9240923488022694,
           2.266782389312981,
           2.871147276581986,
           2.787928486354282,
           1.525378140929399,
           2.5318838136426383,
           1.079864272982217,
           0,
           1.1174757529464057,
           1.3869145842082433,
           1.6661924278561397,
           2.1668854964516537,
           1.305159554825408,
           2.099263380815764,
           2.5479991450742685,
           2.721803759943913,
           2.2714364531640134,
           0.5741025996935504,
           1.2773007624763613,
           2.398756155836894,
           1.899391855089868,
           2.749563835877956,
           1.1127965647491729,
           2.4804636083526823,
           1.9007692363124506,
           1.2319696942887992,
           2.3935735264798104,
           1.8783848741525409,
           2.105473529149243,
           2.1458782008758486,
           1.0743931629988235,
           2.7069528116148076,
           1.6651455357656406,
           1.525320459445838,
           1.4416090474712657,
           2.0122146078572376,
           1.3527803709688644,
           4.1845674505929455,
           2.7726370817710038,
           1.395180815753058,
           1.403459803255043,
           2.1840689738217174,
           1.5776507898844454,
           1.207209607884707,
           2.8329466249152264,
           1.263664716774246,
           2.3315408391055317
          ],
          [
           1.1377082231693807,
           1.3959470310291726,
           2.282372527291448,
           2.898869541033734,
           0.6149149080990328,
           1.593932919749095,
           1.757966029808309,
           1.1174757529464057,
           0,
           0.8364298433023173,
           1.0444863654178245,
           1.2683536071517765,
           0.6674912384183758,
           1.029285279494494,
           1.4437608486930786,
           2.2030082175462304,
           1.4325865575997672,
           1.6558494433213315,
           1.4022788153338868,
           1.6590659219978157,
           1.80244726876829,
           2.155346606634811,
           0.5298154175153358,
           1.536975654946961,
           0.9349166270977778,
           1.015624217085847,
           1.6198920231997187,
           2.6727567345521868,
           1.743889185367923,
           1.4950726887530104,
           1.6480992029233146,
           1.8720784782100062,
           0.6436372635312326,
           0.7774899578022326,
           0.7422200691051627,
           1.0052435575871101,
           0.43603467145414476,
           3.9733878262812103,
           2.4838326201121337,
           1.094331399568677,
           0.35837868422555935,
           1.5444366394255917,
           1.183737760371597,
           0.5535017664521361,
           1.9294363306699551,
           1.0937264439086964,
           1.251965439624167
          ],
          [
           1.002388065611732,
           1.1975953015772358,
           2.539701407640032,
           3.6436368100122998,
           1.146774303976602,
           1.491247476757225,
           2.0616155308119706,
           1.3869145842082433,
           0.8364298433023173,
           0,
           0.8570241510476362,
           1.138017722166691,
           0.4130471903803422,
           1.127658471494659,
           1.572239894596818,
           2.7500098417176035,
           1.8255310784819765,
           1.8820029186624951,
           1.6112123918049337,
           2.0310770765250274,
           2.255301555905303,
           2.6504466755841327,
           1.1569139259107912,
           1.5201335433473964,
           1.2771538114526175,
           1.0223874878536705,
           1.380209032922807,
           3.0787770726480175,
           1.6618467462617776,
           1.792505606904223,
           2.0443817127127977,
           1.7051116820689742,
           0.9895574242364166,
           0.2405567435899097,
           0.6754359452085208,
           1.0388148829986625,
           0.5451149403814379,
           4.6680381088916185,
           3.3067270884992435,
           1.2714861776915096,
           0.9735187084515387,
           1.2912918456104017,
           0.722591588166407,
           0.2884585550424292,
           1.881370160249689,
           1.7375731510167085,
           1.3067933433690726
          ],
          [
           0.3253995074635404,
           0.6810123065313173,
           1.7240235021646269,
           3.328639744672126,
           1.5316199222272728,
           0.9803573674304223,
           1.8720532656779532,
           1.6661924278561397,
           1.0444863654178245,
           0.8570241510476362,
           0,
           0.6305155829562341,
           1.1495763814732727,
           0.9628579226735096,
           1.4224315781713859,
           2.0962952719432546,
           1.2008379079117089,
           2.0515469561634387,
           1.1580682353168128,
           1.3272074545657078,
           1.6591030197885224,
           1.9658001971657006,
           0.9717358655030655,
           0.9642469441370354,
           1.6714178586153978,
           0.5861372133739241,
           2.016387467387155,
           2.9079718366340455,
           0.8460042411264513,
           1.0366927770108043,
           1.8326357866712117,
           2.2702758423510305,
           1.3588926279398326,
           0.7965557981920474,
           0.30505450574485754,
           1.432362757800814,
           0.6858735721839232,
           4.117834505047599,
           3.078451898660314,
           0.6775187769051418,
           0.9103771489644639,
           0.5360191770124477,
           0.41935145496964993,
           0.8719003519652129,
           2.3667229997849297,
           1.4314980629869614,
           1.4785403973102489
          ],
          [
           0.3131861927270693,
           0.143994967030097,
           1.6573558640246622,
           3.566152441432167,
           1.5495221322237456,
           0.37677249028749726,
           2.432982287688669,
           2.1668854964516537,
           1.2683536071517765,
           1.138017722166691,
           0.6305155829562341,
           0,
           1.3464012639565615,
           0.5611721977163772,
           0.8957247092236725,
           2.0885215772071493,
           1.023593707589809,
           2.609044180658647,
           1.7037579872253452,
           1.208989334848247,
           1.9880463059486628,
           1.9072140881332789,
           1.295120000161543,
           0.39383840068734216,
           1.5462624635896545,
           1.1889503140405877,
           1.8526265611308417,
           3.437891580967742,
           1.1758290183195201,
           1.0660204480900275,
           2.357697711846675,
           2.0238529413979833,
           1.3014177700825909,
           0.9564807578665194,
           0.7360133466050682,
           1.232453885046252,
           0.8966307306816137,
           4.171739382251694,
           3.1343331659880223,
           1.182295844419588,
           1.0203973804149424,
           0.5896721293500268,
           0.9525140523914971,
           1.1611869669334893,
           2.065240955285017,
           1.7657167332341923,
           1.1008723906975943
          ],
          [
           1.2532146226945196,
           1.4329092062844662,
           2.7184980916049177,
           3.542764519441512,
           0.8055247702448955,
           1.6805561986604436,
           2.130164315527979,
           1.305159554825408,
           0.6674912384183758,
           0.4130471903803422,
           1.1495763814732727,
           1.3464012639565615,
           0,
           1.154701550026631,
           1.5543912035758483,
           2.798071904189565,
           1.9000479174552423,
           1.8559331528883412,
           1.779797885068487,
           2.136743998661952,
           2.355994427360418,
           2.718546566360778,
           1.1323861135949143,
           1.6909466926492762,
           0.9577928652204446,
           1.2536088685982796,
           1.1616361906859087,
           3.090136823760973,
           1.9677084949252528,
           1.9426910187150455,
           2.084473321236388,
           1.4859017582201155,
           0.7025916200532656,
           0.4346312914051023,
           0.8953774100213735,
           0.8324024548603638,
           0.5794746002922883,
           4.634540103505063,
           3.126292383164561,
           1.4636578742523167,
           0.8954045139174523,
           1.6127814166318981,
           1.1010727780739793,
           0.30347925320695296,
           1.6456722735164597,
           1.713313031925789,
           1.1925969546036805
          ],
          [
           0.7342272301174119,
           0.6766250639617745,
           1.9295639382945402,
           3.445333302940127,
           1.109742064361983,
           0.7099009216038074,
           2.532660376989263,
           2.099263380815764,
           1.029285279494494,
           1.127658471494659,
           0.9628579226735096,
           0.5611721977163772,
           1.154701550026631,
           0,
           0.4913872883309211,
           2.1247070202031,
           1.0497149683709313,
           2.6066091901993977,
           1.9053608222159333,
           1.3246382097925722,
           2.127748301061808,
           1.9699884967390746,
           1.2015820230214562,
           0.6813378014508653,
           1.0388909527459456,
           1.4068446820600335,
           1.4966746085165392,
           3.494689936072933,
           1.6326547246074217,
           1.2777218428361576,
           2.4223531838429277,
           1.6273554242399393,
           0.8496976953837357,
           0.8948565285828622,
           0.8731121999757114,
           0.7768097072483546,
           0.7740295194464922,
           4.120495080848303,
           2.8606491536263947,
           1.3995199109806424,
           0.7721311752268395,
           1.1315927157628711,
           1.2676933196604887,
           1.0626090891977247,
           1.6164013241295714,
           1.7115156710834085,
           0.6065948344557502
          ],
          [
           1.1502994745713278,
           0.9673019621787635,
           2.0672611649038415,
           3.659766576126119,
           1.3597359871813905,
           0.8262702914515263,
           2.98175824597424,
           2.5479991450742685,
           1.4437608486930786,
           1.572239894596818,
           1.4224315781713859,
           0.8957247092236725,
           1.5543912035758483,
           0.4913872883309211,
           0,
           2.2441712071635056,
           1.2058032938809171,
           3.065099498269385,
           2.3519228862138446,
           1.4792129817770199,
           2.4615423856854832,
           2.0712449084159816,
           1.6204746590109318,
           0.8076470387251218,
           1.1660967101990907,
           1.8839339303915685,
           1.570893670266214,
           3.911176448338655,
           2.0032614300711917,
           1.5422684256406929,
           2.8545789779491346,
           1.5914797578476847,
           1.1080266279123239,
           1.332355571278312,
           1.361441275981403,
           0.9320219834748064,
           1.2480634387227765,
           4.191427394067929,
           2.9492369032086847,
           1.8441854345890405,
           1.1806703577955762,
           1.4779325503626595,
           1.7327284881179583,
           1.51648399664279,
           1.4983364600523137,
           2.0753089855739413,
           0.5533168485742449
          ],
          [
           2.024570157624157,
           2.1707887676152167,
           0.9746153411323129,
           2.018724112431781,
           2.5163250843600267,
           2.1009202542479573,
           2.325545617640171,
           2.721803759943913,
           2.2030082175462304,
           2.7500098417176035,
           2.0962952719432546,
           2.0885215772071493,
           2.798071904189565,
           2.1247070202031,
           2.2441712071635056,
           0,
           1.098123462110852,
           2.9178869560415515,
           1.8640844408953323,
           0.896678063296998,
           1.114807712302148,
           0.2562555851481415,
           1.770173409459636,
           1.935954158186238,
           2.681111589256434,
           2.051123493819104,
           3.5214013142219565,
           2.8265291704914732,
           1.857969967842671,
           1.0972379087110467,
           2.1345582202008377,
           3.643907458240369,
           2.510237430148132,
           2.632534702125091,
           2.108321000340065,
           2.7381246677417836,
           2.2490541389730194,
           2.1059201885581844,
           1.818351469828402,
           1.7280204887951007,
           1.922615144236725,
           2.1283664781025897,
           2.4672706644560582,
           2.573584701156769,
           3.5590667499373145,
           1.4726159040972944,
           2.61166434996579
          ],
          [
           1.0300461331575863,
           1.1179941704585215,
           0.9986345394643639,
           2.740617030132355,
           1.7200727939003448,
           1.045131432405352,
           2.255009787129394,
           2.2714364531640134,
           1.4325865575997672,
           1.8255310784819765,
           1.2008379079117089,
           1.023593707589809,
           1.9000479174552423,
           1.0497149683709313,
           1.2058032938809171,
           1.098123462110852,
           0,
           2.6371062312840055,
           1.5862577265181355,
           0.30039971769985996,
           1.3732586021632014,
           0.9248407488959117,
           1.167657535329927,
           0.878159135858099,
           1.8065666124160258,
           1.4099351759214962,
           2.513142353778376,
           3.0823723794599878,
           1.3092541659095125,
           0.46872368627050265,
           2.0999147934828906,
           2.6376697458379357,
           1.6104467169264927,
           1.6630403023433982,
           1.2147617310399212,
           1.7426666953636807,
           1.337646453264587,
           3.165397814623817,
           2.2932419636993626,
           1.1694117611482606,
           1.0850060449389867,
           1.2350383713417281,
           1.6174308133894615,
           1.6921805770412737,
           2.580234010812697,
           1.3047010101098893,
           1.5811190653842206
          ],
          [
           2.336849909687493,
           2.6997642711687204,
           3.0908999097219363,
           2.72720640453621,
           2.087139400705889,
           2.9706990917609497,
           0.8246006603844022,
           0.5741025996935504,
           1.6558494433213315,
           1.8820029186624951,
           2.0515469561634387,
           2.609044180658647,
           1.8559331528883412,
           2.6066091901993977,
           3.065099498269385,
           2.9178869560415515,
           2.6371062312840055,
           0,
           1.3568588324314825,
           2.7125392923490477,
           1.9587191054858777,
           2.9772850561836046,
           1.5323695331443938,
           2.9128891650864475,
           2.468677140312104,
           1.5255413208631157,
           2.953966846940674,
           1.4327872150517909,
           2.311072256377587,
           2.44057016212654,
           0.9087461991047154,
           3.273683254295375,
           2.2314399271225716,
           2.038170402031405,
           1.877805600538445,
           2.579232388201717,
           1.865946690032061,
           4.197328627043094,
           2.945875744295113,
           1.6587750571017508,
           1.9032301510873588,
           2.5285996485023583,
           1.933125381720348,
           1.7342615836176825,
           3.4057774739402595,
           1.494269021295095,
           2.885856652654189
          ],
          [
           1.4072136756378295,
           1.773738966580706,
           1.7920319057520984,
           2.541901949345529,
           2.0083325237425242,
           1.999058424994577,
           0.8116451098089866,
           1.2773007624763613,
           1.4022788153338868,
           1.6112123918049337,
           1.1580682353168128,
           1.7037579872253452,
           1.779797885068487,
           1.9053608222159333,
           2.3519228862138446,
           1.8640844408953323,
           1.5862577265181355,
           1.3568588324314825,
           0,
           1.5646873090384947,
           0.8827540682031365,
           1.8633698428755874,
           0.9742180174765744,
           1.9170404561743164,
           2.3176205521689948,
           0.6260678955300151,
           2.8909433108244293,
           1.7986392603065409,
           1.043914083757526,
           1.2398221763316486,
           0.7888700707150472,
           3.1728458795636376,
           2.011674115849225,
           1.6665931256811488,
           1.1487959271816262,
           2.284348304227035,
           1.3951126012632822,
           3.532639017401204,
           2.690866038685792,
           0.5249097439288339,
           1.383920315128718,
           1.4686376301286816,
           1.2172071656366141,
           1.4972548276373365,
           3.2572051600774294,
           0.8963368443148649,
           2.4116465353144356
          ],
          [
           1.183662521987207,
           1.2824080826967288,
           0.7110546058821058,
           2.675426933226068,
           1.9926745100881167,
           1.2080817888456694,
           2.2447633668491154,
           2.398756155836894,
           1.6590659219978157,
           2.0310770765250274,
           1.3272074545657078,
           1.208989334848247,
           2.136743998661952,
           1.3246382097925722,
           1.4792129817770199,
           0.896678063296998,
           0.30039971769985996,
           2.7125392923490477,
           1.5646873090384947,
           0,
           1.2363332199698192,
           0.6989861845047668,
           1.3250053483977056,
           1.045181709716445,
           2.0989577194688223,
           1.4820229474017854,
           2.7978377803713084,
           3.0323419299139527,
           1.2368024669998756,
           0.3660998199779547,
           2.0933234962475726,
           2.9293188797993763,
           1.8930339950117714,
           1.8864621661742456,
           1.3847022046035729,
           2.03191882316829,
           1.56241481610256,
           2.998891905289125,
           2.324688643449675,
           1.2034326314223347,
           1.3266761540672445,
           1.2962777245168253,
           1.732057272557011,
           1.907161725021957,
           2.8766539594589107,
           1.3570708862615775,
           1.872184218770853
          ],
          [
           1.7695897559340548,
           2.07081076060987,
           1.3483632602908224,
           1.921845880545427,
           2.311198992352719,
           2.1735859927110557,
           1.2598060848903194,
           1.899391855089868,
           1.80244726876829,
           2.255301555905303,
           1.6591030197885224,
           1.9880463059486628,
           2.355994427360418,
           2.127748301061808,
           2.4615423856854832,
           1.114807712302148,
           1.3732586021632014,
           1.9587191054858777,
           0.8827540682031365,
           1.2363332199698192,
           0,
           1.192976806461019,
           1.2732679603650952,
           2.040126097860281,
           2.595973436417177,
           1.326513900176483,
           3.354524354697465,
           1.8593384196903695,
           1.3533138428314702,
           1.064933694408821,
           1.1068573085138256,
           3.5762069920448276,
           2.339552187499442,
           2.2332075441105004,
           1.659760325697504,
           2.634996610264326,
           1.8668377627382646,
           2.6695739306654858,
           2.1323093098240076,
           1.0331227876474012,
           1.6571375257939676,
           1.8393637330633459,
           1.892123315142454,
           2.0893332237050926,
           3.584462383715293,
           0.847963520486284,
           2.6628802854486184
          ],
          [
           1.8651841019707391,
           1.9810090568911973,
           0.7696273701644143,
           2.2644344545474016,
           2.466283351068282,
           1.8902082782395448,
           2.401316674686875,
           2.749563835877956,
           2.155346606634811,
           2.6504466755841327,
           1.9658001971657006,
           1.9072140881332789,
           2.718546566360778,
           1.9699884967390746,
           2.0712449084159816,
           0.2562555851481415,
           0.9248407488959117,
           2.9772850561836046,
           1.8633698428755874,
           0.6989861845047668,
           1.192976806461019,
           0,
           1.74640144490375,
           1.7266916987186136,
           2.6041634113883143,
           1.9850148996826786,
           3.404654806501684,
           2.9788598952986654,
           1.7252123601133458,
           0.9417502649338935,
           2.221290303145296,
           3.5206136652222475,
           2.429478567524439,
           2.5211025619466043,
           2.000635585640454,
           2.623184451299864,
           2.1565016117509344,
           2.32429002221171,
           2.0060682021011327,
           1.6660807632232988,
           1.851653381552974,
           1.9514589351338747,
           2.349674964411653,
           2.4920168784020467,
           3.4368753516981236,
           1.531803983687734,
           2.4695084240519307
          ],
          [
           1.0986304191431724,
           1.4219786182304013,
           1.895220422523863,
           2.50482164843123,
           1.0757157345555675,
           1.6045100208601024,
           1.3956457059776488,
           1.1127965647491729,
           0.5298154175153358,
           1.1569139259107912,
           0.9717358655030655,
           1.295120000161543,
           1.1323861135949143,
           1.2015820230214562,
           1.6204746590109318,
           1.770173409459636,
           1.167657535329927,
           1.5323695331443938,
           0.9742180174765744,
           1.3250053483977056,
           1.2732679603650952,
           1.74640144490375,
           0,
           1.509497520910703,
           1.3884669396903413,
           0.7686659699595211,
           2.123970590527562,
           2.307061563644694,
           1.4359631068361751,
           1.1284824432372433,
           1.2552249431983926,
           2.3639342872694358,
           1.111263534439542,
           1.1161842053347149,
           0.7431591649898663,
           1.4502514404563676,
           0.7090538357587982,
           3.539708454522542,
           2.22751085309511,
           0.7103502253900807,
           0.4829367101103559,
           1.4371724438886542,
           1.1859572635515438,
           0.9161172083047926,
           2.399616805166508,
           0.6061698905379773,
           1.5976731821436259
          ],
          [
           0.641981601543607,
           0.4007652265440635,
           1.461842931685679,
           3.578515984966058,
           1.7607194281064975,
           0.168455394843914,
           2.6679349836000497,
           2.4804636083526823,
           1.536975654946961,
           1.5201335433473964,
           0.9642469441370354,
           0.39383840068734216,
           1.6909466926492762,
           0.6813378014508653,
           0.8076470387251218,
           1.935954158186238,
           0.878159135858099,
           2.9128891650864475,
           1.9170404561743164,
           1.045181709716445,
           2.040126097860281,
           1.7266916987186136,
           1.509497520910703,
           0,
           1.718629005151748,
           1.480677625599822,
           2.078533274273728,
           3.6344470867655154,
           1.296587138062954,
           1.0096504283161232,
           2.5719255273596575,
           2.1945567369798615,
           1.5185101102322027,
           1.3253203531354112,
           1.0776676597876078,
           1.433769771357254,
           1.2210913341914464,
           4.024050587818923,
           3.0948160394796433,
           1.3998894416081253,
           1.234265649825999,
           0.7837523066594037,
           1.3177045279946722,
           1.519070052515635,
           2.185418321215592,
           1.9039656035856782,
           1.195928542771085
          ],
          [
           1.6054819844312047,
           1.6610221411169943,
           2.787869351767761,
           3.4394903008888287,
           0.39790533027652025,
           1.7427195213264213,
           2.672982246184347,
           1.9007692363124506,
           0.9349166270977778,
           1.2771538114526175,
           1.6714178586153978,
           1.5462624635896545,
           0.9577928652204446,
           1.0388909527459456,
           1.1660967101990907,
           2.681111589256434,
           1.8065666124160258,
           2.468677140312104,
           2.3176205521689948,
           2.0989577194688223,
           2.595973436417177,
           2.6041634113883143,
           1.3884669396903413,
           1.718629005151748,
           0,
           1.875098804827902,
           1.0009599929509805,
           3.5234471220745522,
           2.4513921632046185,
           2.0652780207421872,
           2.548155969203898,
           1.118448256915357,
           0.3263775048940892,
           1.121874863153702,
           1.417842500735041,
           0.4731302320321924,
           1.0414128823895443,
           4.398555087586604,
           2.72421647047269,
           1.9402675886534526,
           0.9739329898671234,
           2.04286672947093,
           1.830880231999041,
           1.1093704742483315,
           1.0806862384673332,
           1.8846018666819913,
           0.740067255926977
          ],
          [
           0.8824828106220968,
           1.2557066983699035,
           1.8370507988917186,
           2.9717015190334344,
           1.618765741279255,
           1.529581093771127,
           1.2918649584009978,
           1.2319696942887992,
           1.015624217085847,
           1.0223874878536705,
           0.5861372133739241,
           1.1889503140405877,
           1.2536088685982796,
           1.4068446820600335,
           1.8839339303915685,
           2.051123493819104,
           1.4099351759214962,
           1.5255413208631157,
           0.6260678955300151,
           1.4820229474017854,
           1.326513900176483,
           1.9850148996826786,
           0.7686659699595211,
           1.480677625599822,
           1.875098804827902,
           0,
           2.3282127310015897,
           2.336863147337486,
           0.8927985629472658,
           1.1460806186719714,
           1.2726801929209228,
           2.6154096670863334,
           1.5515760138813979,
           1.068550284606343,
           0.564684176483404,
           1.756254196286776,
           0.8603699886012344,
           3.9233057189565415,
           2.8942304730824264,
           0.3296614190250306,
           0.9975478219140816,
           1.0112451655261516,
           0.6204909421106942,
           0.9533737559256777,
           2.721468554368171,
           1.086943934490081,
           1.8910355206346146
          ],
          [
           1.9534299710893568,
           1.9046217858350953,
           3.416091031941921,
           4.3970116926144005,
           1.265327939041416,
           2.018236078411412,
           3.279112022718345,
           2.3935735264798104,
           1.6198920231997187,
           1.380209032922807,
           2.016387467387155,
           1.8526265611308417,
           1.1616361906859087,
           1.4966746085165392,
           1.570893670266214,
           3.5214013142219565,
           2.513142353778376,
           2.953966846940674,
           2.8909433108244293,
           2.7978377803713084,
           3.354524354697465,
           3.404654806501684,
           2.123970590527562,
           2.078533274273728,
           1.0009599929509805,
           2.3282127310015897,
           0,
           4.206544635002196,
           2.8532777905111852,
           2.713165252399962,
           3.21401864787011,
           0.36211736960713176,
           1.0901939321197813,
           1.2776126440841615,
           1.833976376929885,
           0.7840189787030448,
           1.51789702495944,
           5.359905049033983,
           3.7246257549663713,
           2.4950332097436654,
           1.7131778125453074,
           2.2983735370694185,
           2.020475351834355,
           1.4127220052600342,
           0.639642530513454,
           2.7017882198165357,
           1.0299629107935173
          ],
          [
           3.1576680830593493,
           3.52876345579305,
           3.194796377550841,
           2.0076848878193947,
           3.132713104294867,
           3.736690236575294,
           1.0560286634461036,
           1.8783848741525409,
           2.6727567345521868,
           3.0787770726480175,
           2.9079718366340455,
           3.437891580967742,
           3.090136823760973,
           3.494689936072933,
           3.911176448338655,
           2.8265291704914732,
           3.0823723794599878,
           1.4327872150517909,
           1.7986392603065409,
           3.0323419299139527,
           1.8593384196903695,
           2.9788598952986654,
           2.307061563644694,
           3.6344470867655154,
           3.5234471220745522,
           2.336863147337486,
           4.206544635002196,
           0,
           2.78727243428655,
           2.817143256786442,
           1.086232571804751,
           4.493976306581507,
           3.292311675904443,
           3.183065951640447,
           2.8081358938751655,
           3.677651518278574,
           2.896367303537507,
           3.4402637267580887,
           2.784476386375916,
           2.280434738490424,
           2.782593164056261,
           3.2665837358671808,
           2.9066207174193353,
           2.904192892657162,
           4.567270779158794,
           1.8722745965119882,
           3.891823615257952
          ],
          [
           0.9412745526219789,
           1.1688335291455487,
           1.2541442652794121,
           3.253246198892293,
           2.284245880913563,
           1.3445944286565799,
           1.8425374281370597,
           2.105473529149243,
           1.743889185367923,
           1.6618467462617776,
           0.8460042411264513,
           1.1758290183195201,
           1.9677084949252528,
           1.6326547246074217,
           2.0032614300711917,
           1.857969967842671,
           1.3092541659095125,
           2.311072256377587,
           1.043914083757526,
           1.2368024669998756,
           1.3533138428314702,
           1.7252123601133458,
           1.4359631068361751,
           1.296587138062954,
           2.4513921632046185,
           0.8927985629472658,
           2.8532777905111852,
           2.78727243428655,
           0,
           0.8978122008706803,
           1.827783131178137,
           3.092240343241604,
           2.1455305584582414,
           1.6373066876527649,
           1.0931455160858412,
           2.2427146843111903,
           1.4834303645473033,
           3.830429187351966,
           3.2222080865521048,
           0.7745104172087792,
           1.5671658672415805,
           0.6928392346975139,
           1.0044638492948765,
           1.6726205106806784,
           3.1693919077325545,
           1.5963795200925,
           2.21844265191419
          ],
          [
           0.9559816789721172,
           1.1359828740981333,
           0.7899399231476547,
           2.711300353315636,
           1.9197207340759457,
           1.1540559368005505,
           1.9681068752523847,
           2.1458782008758486,
           1.4950726887530104,
           1.792505606904223,
           1.0366927770108043,
           1.0660204480900275,
           1.9426910187150455,
           1.2777218428361576,
           1.5422684256406929,
           1.0972379087110467,
           0.46872368627050265,
           2.44057016212654,
           1.2398221763316486,
           0.3660998199779547,
           1.064933694408821,
           0.9417502649338935,
           1.1284824432372433,
           1.0096504283161232,
           2.0652780207421872,
           1.1460806186719714,
           2.713165252399962,
           2.817143256786442,
           0.8978122008706803,
           0,
           1.8414054875223995,
           2.8853058868147343,
           1.8164184601250946,
           1.6775195980075905,
           1.122181302550779,
           1.968649832731273,
           1.3639699812306099,
           3.179847345118529,
           2.468388082528198,
           0.8644111628559731,
           1.1952242261908994,
           1.0368754735255106,
           1.4201465943861975,
           1.6848386752865867,
           2.873038874715568,
           1.1992432199964804,
           1.8663637885463722
          ],
          [
           2.0788914472693056,
           2.4509636650604256,
           2.3668429975932384,
           2.088299681143013,
           2.1741398011931916,
           2.6672440348405337,
           0.24498110892832298,
           1.0743931629988235,
           1.6480992029233146,
           2.0443817127127977,
           1.8326357866712117,
           2.357697711846675,
           2.084473321236388,
           2.4223531838429277,
           2.8545789779491346,
           2.1345582202008377,
           2.0999147934828906,
           0.9087461991047154,
           0.7888700707150472,
           2.0933234962475726,
           1.1068573085138256,
           2.221290303145296,
           1.2552249431983926,
           2.5719255273596575,
           2.548155969203898,
           1.2726801929209228,
           3.21401864787011,
           1.086232571804751,
           1.827783131178137,
           1.8414054875223995,
           0,
           3.499242639642926,
           2.2859561688113095,
           2.1273872500864432,
           1.7239207806020629,
           2.6459016762772802,
           1.8277913494468663,
           3.38805603118441,
           2.4340843925342255,
           1.2194054627745927,
           1.733642965139898,
           2.220900343465249,
           1.8626648554271625,
           1.8673057811772098,
           3.574151711524013,
           0.9197948301331673,
           2.840969619504476
          ],
          [
           2.1667506160060217,
           2.0730954248337152,
           3.5552425227842823,
           4.557873470672888,
           1.451103518173277,
           2.134261502165825,
           3.578861094349457,
           2.7069528116148076,
           1.8720784782100062,
           1.7051116820689742,
           2.2702758423510305,
           2.0238529413979833,
           1.4859017582201155,
           1.6273554242399393,
           1.5914797578476847,
           3.643907458240369,
           2.6376697458379357,
           3.273683254295375,
           3.1728458795636376,
           2.9293188797993763,
           3.5762069920448276,
           3.5206136652222475,
           2.3639342872694358,
           2.1945567369798615,
           1.118448256915357,
           2.6154096670863334,
           0.36211736960713176,
           4.493976306581507,
           3.092240343241604,
           2.8853058868147343,
           3.499242639642926,
           0,
           1.280636878677863,
           1.5764155689100798,
           2.0973369261762254,
           0.9441201648877742,
           1.782134080422311,
           5.45600259841602,
           3.807545438394314,
           2.7559205300487757,
           1.9252539994785571,
           2.512869244643255,
           2.3142647758642836,
           1.7238440799387498,
           0.3255786900932701,
           2.926874618466595,
           1.0748374747948504
          ],
          [
           1.3203774703149607,
           1.4205048521218449,
           2.5646550365718577,
           3.3229457240043327,
           0.31054645083751625,
           1.5450521105220996,
           2.4003088458988247,
           1.6651455357656406,
           0.6436372635312326,
           0.9895574242364166,
           1.3588926279398326,
           1.3014177700825909,
           0.7025916200532656,
           0.8496976953837357,
           1.1080266279123239,
           2.510237430148132,
           1.6104467169264927,
           2.2314399271225716,
           2.011674115849225,
           1.8930339950117714,
           2.339552187499442,
           2.429478567524439,
           1.111263534439542,
           1.5185101102322027,
           0.3263775048940892,
           1.5515760138813979,
           1.0901939321197813,
           3.292311675904443,
           2.1455305584582414,
           1.8164184601250946,
           2.2859561688113095,
           1.280636878677863,
           0,
           0.8324921752765376,
           1.0967099793817965,
           0.4331423576174172,
           0.7158343293509005,
           4.29601014078774,
           2.7003444268721544,
           1.628621383492064,
           0.6902609255721021,
           1.7584277942661752,
           1.514183347428749,
           0.803732697889594,
           1.2984883431078982,
           1.6499445835150883,
           0.7373576307107195
          ],
          [
           0.8683165991876768,
           1.0258923428950508,
           2.4217219883366097,
           3.6149812848681306,
           1.036810054560602,
           1.2974538575336658,
           2.1677368427007018,
           1.525320459445838,
           0.7774899578022326,
           0.2405567435899097,
           0.7965557981920474,
           0.9564807578665194,
           0.4346312914051023,
           0.8948565285828622,
           1.332355571278312,
           2.632534702125091,
           1.6630403023433982,
           2.038170402031405,
           1.6665931256811488,
           1.8864621661742456,
           2.2332075441105004,
           2.5211025619466043,
           1.1161842053347149,
           1.3253203531354112,
           1.121874863153702,
           1.068550284606343,
           1.2776126440841615,
           3.183065951640447,
           1.6373066876527649,
           1.6775195980075905,
           2.1273872500864432,
           1.5764155689100798,
           0.8324921752765376,
           0,
           0.6076263148123036,
           0.8444231416467053,
           0.42477481415314833,
           4.5772652963388785,
           3.215101172497268,
           1.2692662738162261,
           0.844852558526564,
           1.2053656549942433,
           0.774295775946728,
           0.3258135720379254,
           1.7257594177464024,
           1.7160381797780957,
           1.0778732126178336
          ],
          [
           0.4883994360974979,
           0.827333585363882,
           1.873654846798202,
           3.1985337838451304,
           1.2448339433870805,
           1.1074411407952292,
           1.7808691986468115,
           1.4416090474712657,
           0.7422200691051627,
           0.6754359452085208,
           0.30505450574485754,
           0.7360133466050682,
           0.8953774100213735,
           0.8731121999757114,
           1.361441275981403,
           2.108321000340065,
           1.2147617310399212,
           1.877805600538445,
           1.1487959271816262,
           1.3847022046035729,
           1.659760325697504,
           2.000635585640454,
           0.7431591649898663,
           1.0776676597876078,
           1.417842500735041,
           0.564684176483404,
           1.833976376929885,
           2.8081358938751655,
           1.0931455160858412,
           1.122181302550779,
           1.7239207806020629,
           2.0973369261762254,
           1.0967099793817965,
           0.6076263148123036,
           0,
           1.2294530493127103,
           0.3973019256836093,
           4.080585971276905,
           2.905760498665269,
           0.686861055188129,
           0.6489663838786942,
           0.8262870993548732,
           0.5298714063332636,
           0.6112382203129503,
           2.190540016881148,
           1.2768531986553933,
           1.337160599831813
          ],
          [
           1.33213403661238,
           1.3232835133082579,
           2.6761117578867206,
           3.7172919803942013,
           0.7182704264894394,
           1.4191362482130343,
           2.744616450582774,
           2.0122146078572376,
           1.0052435575871101,
           1.0388148829986625,
           1.432362757800814,
           1.232453885046252,
           0.8324024548603638,
           0.7768097072483546,
           0.9320219834748064,
           2.7381246677417836,
           1.7426666953636807,
           2.579232388201717,
           2.284348304227035,
           2.03191882316829,
           2.634996610264326,
           2.623184451299864,
           1.4502514404563676,
           1.433769771357254,
           0.4731302320321924,
           1.756254196286776,
           0.7840189787030448,
           3.677651518278574,
           2.2427146843111903,
           1.968649832731273,
           2.6459016762772802,
           0.9441201648877742,
           0.4331423576174172,
           0.8444231416467053,
           1.2294530493127103,
           0,
           0.9010872351754287,
           4.599038894323607,
           3.0568150023913594,
           1.8516733923659392,
           0.9917434382347404,
           1.7392205227196509,
           1.5690482895722657,
           0.9662453291214564,
           0.9765680206511014,
           2.0151142172349212,
           0.4243763311110383
          ],
          [
           0.7631936224374765,
           1.0093649991807043,
           2.1406213284086046,
           3.201112839247056,
           0.8606023520456478,
           1.2485129031875697,
           1.9051588147253857,
           1.3527803709688644,
           0.43603467145414476,
           0.5451149403814379,
           0.6858735721839232,
           0.8966307306816137,
           0.5794746002922883,
           0.7740295194464922,
           1.2480634387227765,
           2.2490541389730194,
           1.337646453264587,
           1.865946690032061,
           1.3951126012632822,
           1.56241481610256,
           1.8668377627382646,
           2.1565016117509344,
           0.7090538357587982,
           1.2210913341914464,
           1.0414128823895443,
           0.8603699886012344,
           1.51789702495944,
           2.896367303537507,
           1.4834303645473033,
           1.3639699812306099,
           1.8277913494468663,
           1.782134080422311,
           0.7158343293509005,
           0.42477481415314833,
           0.3973019256836093,
           0.9010872351754287,
           0,
           4.159736495831712,
           2.804944341690749,
           0.9837607835530001,
           0.4371271336211297,
           1.1675466903562082,
           0.8294797200969457,
           0.358748275017576,
           1.8692325638012832,
           1.3131761444057013,
           1.0924018581445996
          ],
          [
           4.0924253829995445,
           4.264256835254087,
           2.9271992001334852,
           1.727760447771909,
           4.195505524089061,
           4.191323069015227,
           3.5871004570479554,
           4.1845674505929455,
           3.9733878262812103,
           4.6680381088916185,
           4.117834505047599,
           4.171739382251694,
           4.634540103505063,
           4.120495080848303,
           4.191427394067929,
           2.1059201885581844,
           3.165397814623817,
           4.197328627043094,
           3.532639017401204,
           2.998891905289125,
           2.6695739306654858,
           2.32429002221171,
           3.539708454522542,
           4.024050587818923,
           4.398555087586604,
           3.9233057189565415,
           5.359905049033983,
           3.4402637267580887,
           3.830429187351966,
           3.179847345118529,
           3.38805603118441,
           5.45600259841602,
           4.29601014078774,
           4.5772652963388785,
           4.080585971276905,
           4.599038894323607,
           4.159736495831712,
           0,
           2.0254905190098005,
           3.6146056683760714,
           3.7771967205873485,
           4.209487036843745,
           4.448558911076841,
           4.44249574473229,
           5.3247452991357695,
           3.0288982014664696,
           4.510701191895468
          ],
          [
           3.068993498733424,
           3.2671989896890463,
           2.7435189696584237,
           1.1827769207217338,
           2.5139083628591954,
           3.250141495750343,
           2.677419323443379,
           2.7726370817710038,
           2.4838326201121337,
           3.3067270884992435,
           3.078451898660314,
           3.1343331659880223,
           3.126292383164561,
           2.8606491536263947,
           2.9492369032086847,
           1.818351469828402,
           2.2932419636993626,
           2.945875744295113,
           2.690866038685792,
           2.324688643449675,
           2.1323093098240076,
           2.0060682021011327,
           2.22751085309511,
           3.0948160394796433,
           2.72421647047269,
           2.8942304730824264,
           3.7246257549663713,
           2.784476386375916,
           3.2222080865521048,
           2.468388082528198,
           2.4340843925342255,
           3.807545438394314,
           2.7003444268721544,
           3.215101172497268,
           2.905760498665269,
           3.0568150023913594,
           2.804944341690749,
           2.0254905190098005,
           0,
           2.674046712562702,
           2.381074144615983,
           3.374301684573907,
           3.3834688678619,
           3.0316981698608694,
           3.6710660943024407,
           1.8413936933215733,
           3.0697464797144245
          ],
          [
           0.8928278296725595,
           1.2585011725493456,
           1.5459081119756986,
           2.7442576099070575,
           1.6860646613300734,
           1.4803649627846573,
           1.2826902668025146,
           1.395180815753058,
           1.094331399568677,
           1.2714861776915096,
           0.6775187769051418,
           1.182295844419588,
           1.4636578742523167,
           1.3995199109806424,
           1.8441854345890405,
           1.7280204887951007,
           1.1694117611482606,
           1.6587750571017508,
           0.5249097439288339,
           1.2034326314223347,
           1.0331227876474012,
           1.6660807632232988,
           0.7103502253900807,
           1.3998894416081253,
           1.9402675886534526,
           0.3296614190250306,
           2.4950332097436654,
           2.280434738490424,
           0.7745104172087792,
           0.8644111628559731,
           1.2194054627745927,
           2.7559205300487757,
           1.628621383492064,
           1.2692662738162261,
           0.686861055188129,
           1.8516733923659392,
           0.9837607835530001,
           3.6146056683760714,
           2.674046712562702,
           0,
           0.9885396834297699,
           1.0130976641844183,
           0.8651303237789293,
           1.1667169454774848,
           2.8272723368527375,
           0.9026360749723946,
           1.933187860667066
          ],
          [
           0.9226152102380937,
           1.1591742880288183,
           1.97304111388527,
           2.843621194164003,
           0.7471193563664231,
           1.3130928794357746,
           1.8632451584791845,
           1.403459803255043,
           0.35837868422555935,
           0.9735187084515387,
           0.9103771489644639,
           1.0203973804149424,
           0.8954045139174523,
           0.7721311752268395,
           1.1806703577955762,
           1.922615144236725,
           1.0850060449389867,
           1.9032301510873588,
           1.383920315128718,
           1.3266761540672445,
           1.6571375257939676,
           1.851653381552974,
           0.4829367101103559,
           1.234265649825999,
           0.9739329898671234,
           0.9975478219140816,
           1.7131778125453074,
           2.782593164056261,
           1.5671658672415805,
           1.1952242261908994,
           1.733642965139898,
           1.9252539994785571,
           0.6902609255721021,
           0.844852558526564,
           0.6489663838786942,
           0.9917434382347404,
           0.4371271336211297,
           3.7771967205873485,
           2.381074144615983,
           0.9885396834297699,
           0,
           1.3466480987406406,
           1.1690445061782306,
           0.7387429215197507,
           1.943782736142318,
           1.0378268216134252,
           1.1158052718874452
          ],
          [
           0.44591591884358756,
           0.5330741162330952,
           1.5221257986312278,
           3.620931320551204,
           1.9718742507387832,
           0.7649762462009407,
           2.2519155260429353,
           2.1840689738217174,
           1.5444366394255917,
           1.2912918456104017,
           0.5360191770124477,
           0.5896721293500268,
           1.6127814166318981,
           1.1315927157628711,
           1.4779325503626595,
           2.1283664781025897,
           1.2350383713417281,
           2.5285996485023583,
           1.4686376301286816,
           1.2962777245168253,
           1.8393637330633459,
           1.9514589351338747,
           1.4371724438886542,
           0.7837523066594037,
           2.04286672947093,
           1.0112451655261516,
           2.2983735370694185,
           3.2665837358671808,
           0.6928392346975139,
           1.0368754735255106,
           2.220900343465249,
           2.512869244643255,
           1.7584277942661752,
           1.2053656549942433,
           0.8262870993548732,
           1.7392205227196509,
           1.1675466903562082,
           4.209487036843745,
           3.374301684573907,
           1.0130976641844183,
           1.3466480987406406,
           0,
           0.752049728911893,
           1.3637938178802738,
           2.595450370480413,
           1.816704119797856,
           1.6709459940932663
          ],
          [
           0.6917877157459662,
           0.967296817100259,
           2.0745094548925844,
           3.5656672575465995,
           1.6768757786504918,
           1.2962791346078832,
           1.8508482966923374,
           1.5776507898844454,
           1.183737760371597,
           0.722591588166407,
           0.41935145496964993,
           0.9525140523914971,
           1.1010727780739793,
           1.2676933196604887,
           1.7327284881179583,
           2.4672706644560582,
           1.6174308133894615,
           1.933125381720348,
           1.2172071656366141,
           1.732057272557011,
           1.892123315142454,
           2.349674964411653,
           1.1859572635515438,
           1.3177045279946722,
           1.830880231999041,
           0.6204909421106942,
           2.020475351834355,
           2.9066207174193353,
           1.0044638492948765,
           1.4201465943861975,
           1.8626648554271625,
           2.3142647758642836,
           1.514183347428749,
           0.774295775946728,
           0.5298714063332636,
           1.5690482895722657,
           0.8294797200969457,
           4.448558911076841,
           3.3834688678619,
           0.8651303237789293,
           1.1690445061782306,
           0.752049728911893,
           0,
           0.8375123081025566,
           2.463477231842185,
           1.6494157780273944,
           1.690136284672577
          ],
          [
           1.0157790571357184,
           1.2501462485572212,
           2.4590904415782253,
           3.3858324500535986,
           0.9140532429017004,
           1.520304749010442,
           1.91088551687057,
           1.207209607884707,
           0.5535017664521361,
           0.2884585550424292,
           0.8719003519652129,
           1.1611869669334893,
           0.30347925320695296,
           1.0626090891977247,
           1.51648399664279,
           2.573584701156769,
           1.6921805770412737,
           1.7342615836176825,
           1.4972548276373365,
           1.907161725021957,
           2.0893332237050926,
           2.4920168784020467,
           0.9161172083047926,
           1.519070052515635,
           1.1093704742483315,
           0.9533737559256777,
           1.4127220052600342,
           2.904192892657162,
           1.6726205106806784,
           1.6848386752865867,
           1.8673057811772098,
           1.7238440799387498,
           0.803732697889594,
           0.3258135720379254,
           0.6112382203129503,
           0.9662453291214564,
           0.358748275017576,
           4.44249574473229,
           3.0316981698608694,
           1.1667169454774848,
           0.7387429215197507,
           1.3637938178802738,
           0.8375123081025566,
           0,
           1.864962638285361,
           1.5025521564704047,
           1.2553660938064601
          ],
          [
           2.232882296865993,
           2.1228398380251003,
           3.516934163020986,
           4.486773160631634,
           1.4560449339820467,
           2.1395089950553925,
           3.673639368515001,
           2.8329466249152264,
           1.9294363306699551,
           1.881370160249689,
           2.3667229997849297,
           2.065240955285017,
           1.6456722735164597,
           1.6164013241295714,
           1.4983364600523137,
           3.5590667499373145,
           2.580234010812697,
           3.4057774739402595,
           3.2572051600774294,
           2.8766539594589107,
           3.584462383715293,
           3.4368753516981236,
           2.399616805166508,
           2.185418321215592,
           1.0806862384673332,
           2.721468554368171,
           0.639642530513454,
           4.567270779158794,
           3.1693919077325545,
           2.873038874715568,
           3.574151711524013,
           0.3255786900932701,
           1.2984883431078982,
           1.7257594177464024,
           2.190540016881148,
           0.9765680206511014,
           1.8692325638012832,
           5.3247452991357695,
           3.6710660943024407,
           2.8272723368527375,
           1.943782736142318,
           2.595450370480413,
           2.463477231842185,
           1.864962638285361,
           0,
           2.93584080858332,
           1.0199053457567917
          ],
          [
           1.5601034045308122,
           1.8861993593501847,
           1.8240172167445519,
           1.9326653332633,
           1.5535634291888494,
           2.0276076732610044,
           1.1306334559041509,
           1.263664716774246,
           1.0937264439086964,
           1.7375731510167085,
           1.4314980629869614,
           1.7657167332341923,
           1.713313031925789,
           1.7115156710834085,
           2.0753089855739413,
           1.4726159040972944,
           1.3047010101098893,
           1.494269021295095,
           0.8963368443148649,
           1.3570708862615775,
           0.847963520486284,
           1.531803983687734,
           0.6061698905379773,
           1.9039656035856782,
           1.8846018666819913,
           1.086943934490081,
           2.7017882198165357,
           1.8722745965119882,
           1.5963795200925,
           1.1992432199964804,
           0.9197948301331673,
           2.926874618466595,
           1.6499445835150883,
           1.7160381797780957,
           1.2768531986553933,
           2.0151142172349212,
           1.3131761444057013,
           3.0288982014664696,
           1.8413936933215733,
           0.9026360749723946,
           1.0378268216134252,
           1.816704119797856,
           1.6494157780273944,
           1.5025521564704047,
           2.93584080858332,
           0,
           2.13006706402927
          ],
          [
           1.2891883484304245,
           1.180378535433518,
           2.4996135486533144,
           3.785480203992483,
           1.0177636430887234,
           1.1795380868978833,
           2.9531735195350435,
           2.3315408391055317,
           1.251965439624167,
           1.3067933433690726,
           1.4785403973102489,
           1.1008723906975943,
           1.1925969546036805,
           0.6065948344557502,
           0.5533168485742449,
           2.61166434996579,
           1.5811190653842206,
           2.885856652654189,
           2.4116465353144356,
           1.872184218770853,
           2.6628802854486184,
           2.4695084240519307,
           1.5976731821436259,
           1.195928542771085,
           0.740067255926977,
           1.8910355206346146,
           1.0299629107935173,
           3.891823615257952,
           2.21844265191419,
           1.8663637885463722,
           2.840969619504476,
           1.0748374747948504,
           0.7373576307107195,
           1.0778732126178336,
           1.337160599831813,
           0.4243763311110383,
           1.0924018581445996,
           4.510701191895468,
           3.0697464797144245,
           1.933187860667066,
           1.1158052718874452,
           1.6709459940932663,
           1.690136284672577,
           1.2553660938064601,
           1.0199053457567917,
           2.13006706402927,
           0
          ]
         ]
        }
       ],
       "layout": {
        "coloraxis": {
         "colorscale": [
          [
           0,
           "#0d0887"
          ],
          [
           0.1111111111111111,
           "#46039f"
          ],
          [
           0.2222222222222222,
           "#7201a8"
          ],
          [
           0.3333333333333333,
           "#9c179e"
          ],
          [
           0.4444444444444444,
           "#bd3786"
          ],
          [
           0.5555555555555556,
           "#d8576b"
          ],
          [
           0.6666666666666666,
           "#ed7953"
          ],
          [
           0.7777777777777778,
           "#fb9f3a"
          ],
          [
           0.8888888888888888,
           "#fdca26"
          ],
          [
           1,
           "#f0f921"
          ]
         ]
        },
        "margin": {
         "t": 60
        },
        "template": {
         "data": {
          "bar": [
           {
            "error_x": {
             "color": "#2a3f5f"
            },
            "error_y": {
             "color": "#2a3f5f"
            },
            "marker": {
             "line": {
              "color": "#E5ECF6",
              "width": 0.5
             },
             "pattern": {
              "fillmode": "overlay",
              "size": 10,
              "solidity": 0.2
             }
            },
            "type": "bar"
           }
          ],
          "barpolar": [
           {
            "marker": {
             "line": {
              "color": "#E5ECF6",
              "width": 0.5
             },
             "pattern": {
              "fillmode": "overlay",
              "size": 10,
              "solidity": 0.2
             }
            },
            "type": "barpolar"
           }
          ],
          "carpet": [
           {
            "aaxis": {
             "endlinecolor": "#2a3f5f",
             "gridcolor": "white",
             "linecolor": "white",
             "minorgridcolor": "white",
             "startlinecolor": "#2a3f5f"
            },
            "baxis": {
             "endlinecolor": "#2a3f5f",
             "gridcolor": "white",
             "linecolor": "white",
             "minorgridcolor": "white",
             "startlinecolor": "#2a3f5f"
            },
            "type": "carpet"
           }
          ],
          "choropleth": [
           {
            "colorbar": {
             "outlinewidth": 0,
             "ticks": ""
            },
            "type": "choropleth"
           }
          ],
          "contour": [
           {
            "colorbar": {
             "outlinewidth": 0,
             "ticks": ""
            },
            "colorscale": [
             [
              0,
              "#0d0887"
             ],
             [
              0.1111111111111111,
              "#46039f"
             ],
             [
              0.2222222222222222,
              "#7201a8"
             ],
             [
              0.3333333333333333,
              "#9c179e"
             ],
             [
              0.4444444444444444,
              "#bd3786"
             ],
             [
              0.5555555555555556,
              "#d8576b"
             ],
             [
              0.6666666666666666,
              "#ed7953"
             ],
             [
              0.7777777777777778,
              "#fb9f3a"
             ],
             [
              0.8888888888888888,
              "#fdca26"
             ],
             [
              1,
              "#f0f921"
             ]
            ],
            "type": "contour"
           }
          ],
          "contourcarpet": [
           {
            "colorbar": {
             "outlinewidth": 0,
             "ticks": ""
            },
            "type": "contourcarpet"
           }
          ],
          "heatmap": [
           {
            "colorbar": {
             "outlinewidth": 0,
             "ticks": ""
            },
            "colorscale": [
             [
              0,
              "#0d0887"
             ],
             [
              0.1111111111111111,
              "#46039f"
             ],
             [
              0.2222222222222222,
              "#7201a8"
             ],
             [
              0.3333333333333333,
              "#9c179e"
             ],
             [
              0.4444444444444444,
              "#bd3786"
             ],
             [
              0.5555555555555556,
              "#d8576b"
             ],
             [
              0.6666666666666666,
              "#ed7953"
             ],
             [
              0.7777777777777778,
              "#fb9f3a"
             ],
             [
              0.8888888888888888,
              "#fdca26"
             ],
             [
              1,
              "#f0f921"
             ]
            ],
            "type": "heatmap"
           }
          ],
          "heatmapgl": [
           {
            "colorbar": {
             "outlinewidth": 0,
             "ticks": ""
            },
            "colorscale": [
             [
              0,
              "#0d0887"
             ],
             [
              0.1111111111111111,
              "#46039f"
             ],
             [
              0.2222222222222222,
              "#7201a8"
             ],
             [
              0.3333333333333333,
              "#9c179e"
             ],
             [
              0.4444444444444444,
              "#bd3786"
             ],
             [
              0.5555555555555556,
              "#d8576b"
             ],
             [
              0.6666666666666666,
              "#ed7953"
             ],
             [
              0.7777777777777778,
              "#fb9f3a"
             ],
             [
              0.8888888888888888,
              "#fdca26"
             ],
             [
              1,
              "#f0f921"
             ]
            ],
            "type": "heatmapgl"
           }
          ],
          "histogram": [
           {
            "marker": {
             "pattern": {
              "fillmode": "overlay",
              "size": 10,
              "solidity": 0.2
             }
            },
            "type": "histogram"
           }
          ],
          "histogram2d": [
           {
            "colorbar": {
             "outlinewidth": 0,
             "ticks": ""
            },
            "colorscale": [
             [
              0,
              "#0d0887"
             ],
             [
              0.1111111111111111,
              "#46039f"
             ],
             [
              0.2222222222222222,
              "#7201a8"
             ],
             [
              0.3333333333333333,
              "#9c179e"
             ],
             [
              0.4444444444444444,
              "#bd3786"
             ],
             [
              0.5555555555555556,
              "#d8576b"
             ],
             [
              0.6666666666666666,
              "#ed7953"
             ],
             [
              0.7777777777777778,
              "#fb9f3a"
             ],
             [
              0.8888888888888888,
              "#fdca26"
             ],
             [
              1,
              "#f0f921"
             ]
            ],
            "type": "histogram2d"
           }
          ],
          "histogram2dcontour": [
           {
            "colorbar": {
             "outlinewidth": 0,
             "ticks": ""
            },
            "colorscale": [
             [
              0,
              "#0d0887"
             ],
             [
              0.1111111111111111,
              "#46039f"
             ],
             [
              0.2222222222222222,
              "#7201a8"
             ],
             [
              0.3333333333333333,
              "#9c179e"
             ],
             [
              0.4444444444444444,
              "#bd3786"
             ],
             [
              0.5555555555555556,
              "#d8576b"
             ],
             [
              0.6666666666666666,
              "#ed7953"
             ],
             [
              0.7777777777777778,
              "#fb9f3a"
             ],
             [
              0.8888888888888888,
              "#fdca26"
             ],
             [
              1,
              "#f0f921"
             ]
            ],
            "type": "histogram2dcontour"
           }
          ],
          "mesh3d": [
           {
            "colorbar": {
             "outlinewidth": 0,
             "ticks": ""
            },
            "type": "mesh3d"
           }
          ],
          "parcoords": [
           {
            "line": {
             "colorbar": {
              "outlinewidth": 0,
              "ticks": ""
             }
            },
            "type": "parcoords"
           }
          ],
          "pie": [
           {
            "automargin": true,
            "type": "pie"
           }
          ],
          "scatter": [
           {
            "fillpattern": {
             "fillmode": "overlay",
             "size": 10,
             "solidity": 0.2
            },
            "type": "scatter"
           }
          ],
          "scatter3d": [
           {
            "line": {
             "colorbar": {
              "outlinewidth": 0,
              "ticks": ""
             }
            },
            "marker": {
             "colorbar": {
              "outlinewidth": 0,
              "ticks": ""
             }
            },
            "type": "scatter3d"
           }
          ],
          "scattercarpet": [
           {
            "marker": {
             "colorbar": {
              "outlinewidth": 0,
              "ticks": ""
             }
            },
            "type": "scattercarpet"
           }
          ],
          "scattergeo": [
           {
            "marker": {
             "colorbar": {
              "outlinewidth": 0,
              "ticks": ""
             }
            },
            "type": "scattergeo"
           }
          ],
          "scattergl": [
           {
            "marker": {
             "colorbar": {
              "outlinewidth": 0,
              "ticks": ""
             }
            },
            "type": "scattergl"
           }
          ],
          "scattermapbox": [
           {
            "marker": {
             "colorbar": {
              "outlinewidth": 0,
              "ticks": ""
             }
            },
            "type": "scattermapbox"
           }
          ],
          "scatterpolar": [
           {
            "marker": {
             "colorbar": {
              "outlinewidth": 0,
              "ticks": ""
             }
            },
            "type": "scatterpolar"
           }
          ],
          "scatterpolargl": [
           {
            "marker": {
             "colorbar": {
              "outlinewidth": 0,
              "ticks": ""
             }
            },
            "type": "scatterpolargl"
           }
          ],
          "scatterternary": [
           {
            "marker": {
             "colorbar": {
              "outlinewidth": 0,
              "ticks": ""
             }
            },
            "type": "scatterternary"
           }
          ],
          "surface": [
           {
            "colorbar": {
             "outlinewidth": 0,
             "ticks": ""
            },
            "colorscale": [
             [
              0,
              "#0d0887"
             ],
             [
              0.1111111111111111,
              "#46039f"
             ],
             [
              0.2222222222222222,
              "#7201a8"
             ],
             [
              0.3333333333333333,
              "#9c179e"
             ],
             [
              0.4444444444444444,
              "#bd3786"
             ],
             [
              0.5555555555555556,
              "#d8576b"
             ],
             [
              0.6666666666666666,
              "#ed7953"
             ],
             [
              0.7777777777777778,
              "#fb9f3a"
             ],
             [
              0.8888888888888888,
              "#fdca26"
             ],
             [
              1,
              "#f0f921"
             ]
            ],
            "type": "surface"
           }
          ],
          "table": [
           {
            "cells": {
             "fill": {
              "color": "#EBF0F8"
             },
             "line": {
              "color": "white"
             }
            },
            "header": {
             "fill": {
              "color": "#C8D4E3"
             },
             "line": {
              "color": "white"
             }
            },
            "type": "table"
           }
          ]
         },
         "layout": {
          "annotationdefaults": {
           "arrowcolor": "#2a3f5f",
           "arrowhead": 0,
           "arrowwidth": 1
          },
          "autotypenumbers": "strict",
          "coloraxis": {
           "colorbar": {
            "outlinewidth": 0,
            "ticks": ""
           }
          },
          "colorscale": {
           "diverging": [
            [
             0,
             "#8e0152"
            ],
            [
             0.1,
             "#c51b7d"
            ],
            [
             0.2,
             "#de77ae"
            ],
            [
             0.3,
             "#f1b6da"
            ],
            [
             0.4,
             "#fde0ef"
            ],
            [
             0.5,
             "#f7f7f7"
            ],
            [
             0.6,
             "#e6f5d0"
            ],
            [
             0.7,
             "#b8e186"
            ],
            [
             0.8,
             "#7fbc41"
            ],
            [
             0.9,
             "#4d9221"
            ],
            [
             1,
             "#276419"
            ]
           ],
           "sequential": [
            [
             0,
             "#0d0887"
            ],
            [
             0.1111111111111111,
             "#46039f"
            ],
            [
             0.2222222222222222,
             "#7201a8"
            ],
            [
             0.3333333333333333,
             "#9c179e"
            ],
            [
             0.4444444444444444,
             "#bd3786"
            ],
            [
             0.5555555555555556,
             "#d8576b"
            ],
            [
             0.6666666666666666,
             "#ed7953"
            ],
            [
             0.7777777777777778,
             "#fb9f3a"
            ],
            [
             0.8888888888888888,
             "#fdca26"
            ],
            [
             1,
             "#f0f921"
            ]
           ],
           "sequentialminus": [
            [
             0,
             "#0d0887"
            ],
            [
             0.1111111111111111,
             "#46039f"
            ],
            [
             0.2222222222222222,
             "#7201a8"
            ],
            [
             0.3333333333333333,
             "#9c179e"
            ],
            [
             0.4444444444444444,
             "#bd3786"
            ],
            [
             0.5555555555555556,
             "#d8576b"
            ],
            [
             0.6666666666666666,
             "#ed7953"
            ],
            [
             0.7777777777777778,
             "#fb9f3a"
            ],
            [
             0.8888888888888888,
             "#fdca26"
            ],
            [
             1,
             "#f0f921"
            ]
           ]
          },
          "colorway": [
           "#636efa",
           "#EF553B",
           "#00cc96",
           "#ab63fa",
           "#FFA15A",
           "#19d3f3",
           "#FF6692",
           "#B6E880",
           "#FF97FF",
           "#FECB52"
          ],
          "font": {
           "color": "#2a3f5f"
          },
          "geo": {
           "bgcolor": "white",
           "lakecolor": "white",
           "landcolor": "#E5ECF6",
           "showlakes": true,
           "showland": true,
           "subunitcolor": "white"
          },
          "hoverlabel": {
           "align": "left"
          },
          "hovermode": "closest",
          "mapbox": {
           "style": "light"
          },
          "paper_bgcolor": "white",
          "plot_bgcolor": "#E5ECF6",
          "polar": {
           "angularaxis": {
            "gridcolor": "white",
            "linecolor": "white",
            "ticks": ""
           },
           "bgcolor": "#E5ECF6",
           "radialaxis": {
            "gridcolor": "white",
            "linecolor": "white",
            "ticks": ""
           }
          },
          "scene": {
           "xaxis": {
            "backgroundcolor": "#E5ECF6",
            "gridcolor": "white",
            "gridwidth": 2,
            "linecolor": "white",
            "showbackground": true,
            "ticks": "",
            "zerolinecolor": "white"
           },
           "yaxis": {
            "backgroundcolor": "#E5ECF6",
            "gridcolor": "white",
            "gridwidth": 2,
            "linecolor": "white",
            "showbackground": true,
            "ticks": "",
            "zerolinecolor": "white"
           },
           "zaxis": {
            "backgroundcolor": "#E5ECF6",
            "gridcolor": "white",
            "gridwidth": 2,
            "linecolor": "white",
            "showbackground": true,
            "ticks": "",
            "zerolinecolor": "white"
           }
          },
          "shapedefaults": {
           "line": {
            "color": "#2a3f5f"
           }
          },
          "ternary": {
           "aaxis": {
            "gridcolor": "white",
            "linecolor": "white",
            "ticks": ""
           },
           "baxis": {
            "gridcolor": "white",
            "linecolor": "white",
            "ticks": ""
           },
           "bgcolor": "#E5ECF6",
           "caxis": {
            "gridcolor": "white",
            "linecolor": "white",
            "ticks": ""
           }
          },
          "title": {
           "x": 0.05
          },
          "xaxis": {
           "automargin": true,
           "gridcolor": "white",
           "linecolor": "white",
           "ticks": "",
           "title": {
            "standoff": 15
           },
           "zerolinecolor": "white",
           "zerolinewidth": 2
          },
          "yaxis": {
           "automargin": true,
           "gridcolor": "white",
           "linecolor": "white",
           "ticks": "",
           "title": {
            "standoff": 15
           },
           "zerolinecolor": "white",
           "zerolinewidth": 2
          }
         }
        },
        "xaxis": {
         "anchor": "y",
         "constrain": "domain",
         "domain": [
          0,
          1
         ],
         "scaleanchor": "y"
        },
        "yaxis": {
         "anchor": "x",
         "autorange": "reversed",
         "constrain": "domain",
         "domain": [
          0,
          1
         ]
        }
       }
      }
     },
     "metadata": {},
     "output_type": "display_data"
    }
   ],
   "source": [
    "dist = DistanceMetric.get_metric('euclidean')\n",
    "matsim = dist.pairwise(datanorm)\n",
    "\n",
    "fig = px.imshow(matsim)\n",
    "fig.show()"
   ]
  },
  {
   "cell_type": "markdown",
   "metadata": {},
   "source": [
    "Dendrogram."
   ]
  },
  {
   "cell_type": "markdown",
   "metadata": {},
   "source": [
    "Una vez calculada la matriz de similitud, pasamos a construir el dendrograma. Para ello, se ha seleccionado el método Ward, que emplea el algoritmo de minimización de varianza de Ward. La nueva entrada d(u,v) se calcula de la siguiente manera:"
   ]
  },
  {
   "attachments": {
    "image.png": {
     "image/png": "[encoded data removed]"
    }
   },
   "cell_type": "markdown",
   "metadata": {},
   "source": [
    "![image.png](attachment:image.png)"
   ]
  },
  {
   "cell_type": "markdown",
   "metadata": {},
   "source": [
    "Para más información sobre luster.hierarchy.linkage ver [aquí](https://docs.scipy.org/doc/scipy/reference/generated/scipy.cluster.hierarchy.linkage.html)."
   ]
  },
  {
   "cell_type": "code",
   "execution_count": 986,
   "metadata": {},
   "outputs": [
    {
     "name": "stderr",
     "output_type": "stream",
     "text": [
      "C:\\Users\\Public\\Documents\\iSkysoft\\CreatorTemp\\ipykernel_19780\\2858820463.py:2: ClusterWarning:\n",
      "\n",
      "scipy.cluster: The symmetric non-negative hollow observation matrix looks suspiciously like an uncondensed distance matrix\n",
      "\n"
     ]
    },
    {
     "data": {
      "image/png": "[encoded data removed]",
      "text/plain": [
       "<Figure size 640x480 with 1 Axes>"
      ]
     },
     "metadata": {},
     "output_type": "display_data"
    },
    {
     "data": {
      "text/plain": [
       "<Figure size 640x480 with 0 Axes>"
      ]
     },
     "metadata": {},
     "output_type": "display_data"
    }
   ],
   "source": [
    "# métodos posibles ['single', 'complete', 'average', 'weighted', 'centroid', 'median', 'ward']\n",
    "clusters = cluster.hierarchy.linkage(matsim, method = 'ward')\n",
    "cluster.hierarchy.dendrogram(clusters, color_threshold=18, labels = h1_df.index)\n",
    "f = plt.figure()\n",
    "plt.show()"
   ]
  },
  {
   "cell_type": "markdown",
   "metadata": {},
   "source": [
    "Se han probado los diferentes métodos ('single', 'complete', 'average'...). Sin embargo, el método 'complete' genera 2 grupos y 'ward' crea 4. Los demás métodos clasifican todos los datos en un solo grupo. Por esta razón, se ha decidido utilizar el método Ward para el cálculo de la distancia entre los clusters."
   ]
  },
  {
   "cell_type": "markdown",
   "metadata": {},
   "source": [
    "El resultado del clustering jerárquico muestra que los datos se han dividido en 4 grupos."
   ]
  },
  {
   "cell_type": "code",
   "execution_count": 987,
   "metadata": {},
   "outputs": [
    {
     "data": {
      "text/plain": [
       "array([2, 2, 4, 3, 1, 2, 4, 4, 2, 2, 2, 2, 2, 2, 2, 4, 4, 4, 4, 4, 4, 4,\n",
       "       2, 2, 1, 2, 1, 3, 4, 4, 4, 1, 1, 2, 2, 1, 2, 3, 3, 2, 2, 2, 2, 2,\n",
       "       1, 4, 1], dtype=int32)"
      ]
     },
     "execution_count": 987,
     "metadata": {},
     "output_type": "execute_result"
    }
   ],
   "source": [
    "cut = 16 # !!!! ad-hoc\n",
    "labels = cluster.hierarchy.fcluster(clusters, cut , criterion = 'distance')\n",
    "\n",
    "labels"
   ]
  },
  {
   "cell_type": "markdown",
   "metadata": {},
   "source": [
    "Ahora pasamos a interpretar los resultados obtenidos del clustering y a aplicar métricas de calidad para evaluar la efectividad de la agrupación."
   ]
  },
  {
   "cell_type": "markdown",
   "metadata": {},
   "source": [
    "Silhouette Coefficient."
   ]
  },
  {
   "cell_type": "code",
   "execution_count": 988,
   "metadata": {},
   "outputs": [
    {
     "name": "stdout",
     "output_type": "stream",
     "text": [
      "Estimated number of clusters: 4\n",
      "Silhouette Coefficient: 0.254\n"
     ]
    }
   ],
   "source": [
    "n_clusters_ = len(set(labels)) - (1 if -1 in labels else 0)\n",
    "print('Estimated number of clusters: %d' % n_clusters_)\n",
    "print(\"Silhouette Coefficient: %0.3f\"\n",
    "      % metrics.silhouette_score(datanorm, labels))"
   ]
  },
  {
   "cell_type": "markdown",
   "metadata": {},
   "source": [
    "Conclusión: (valor cercano a 0) los puntos están en la frontera entre dos grupos. No es claro a qué grupo pertenecen, lo que indica que la calidad del clustering no es alta."
   ]
  },
  {
   "cell_type": "markdown",
   "metadata": {},
   "source": [
    "Visualizamos los datos."
   ]
  },
  {
   "cell_type": "code",
   "execution_count": 989,
   "metadata": {},
   "outputs": [
    {
     "data": {
      "application/vnd.plotly.v1+json": {
       "config": {
        "plotlyServerURL": "https://plot.ly"
       },
       "data": [
        {
         "hovertemplate": "Renta media por hogar=%{x}<br>Edad media=%{y}<br>Porcentaje de hogares con dispositivos de energía renovable=%{z}<br>color=%{marker.color}<extra></extra>",
         "legendgroup": "",
         "marker": {
          "color": [
           2,
           2,
           4,
           3,
           1,
           2,
           4,
           4,
           2,
           2,
           2,
           2,
           2,
           2,
           2,
           4,
           4,
           4,
           4,
           4,
           4,
           4,
           2,
           2,
           1,
           2,
           1,
           3,
           4,
           4,
           4,
           1,
           1,
           2,
           2,
           1,
           2,
           3,
           3,
           2,
           2,
           2,
           2,
           2,
           1,
           4,
           1
          ],
          "coloraxis": "coloraxis",
          "symbol": "circle"
         },
         "mode": "markers",
         "name": "",
         "scene": "scene",
         "showlegend": false,
         "type": "scatter3d",
         "x": [
          30908,
          28965,
          28442,
          38586,
          33242,
          27243,
          41594,
          40694,
          34530,
          34461,
          32694,
          29290,
          34683,
          29064,
          26529,
          30055,
          29082,
          43392,
          37444,
          29113,
          35509,
          29133,
          34901,
          27429,
          31392,
          35640,
          30709,
          45726,
          32743,
          30644,
          40760,
          29073,
          32105,
          33230,
          33314,
          30435,
          33362,
          31899,
          33830,
          34872,
          32889,
          30626,
          34198,
          34708,
          27928,
          36098,
          28227
         ],
         "y": [
          43.67752322238267,
          43.76688925185923,
          40.32044848717277,
          44.56569142255661,
          48.68338963616493,
          43.78070110994331,
          42.89217780873889,
          46.103247591669685,
          46.68604543086088,
          45.91393264799232,
          43.51042470911726,
          44.066242058980535,
          47.24261334191104,
          45.921312399149656,
          46.53167184538621,
          42.21228507652908,
          43.69378508254106,
          45.14539809888766,
          42.2436702718916,
          42.74662549471956,
          41.69619620552947,
          42.09964388582409,
          45.25832978496913,
          43.76587026120581,
          49.24604231791316,
          43.24068112984009,
          49.98722796144313,
          42.52777298789275,
          40.696911242279086,
          42.41661504136235,
          43.27407369484594,
          50.72758971999474,
          48.20278720064807,
          46.04912329072178,
          44.45862353544321,
          48.311732505262384,
          45.849528292686095,
          41.71263395013224,
          47.28416895798681,
          42.88057705629009,
          46.11338258159068,
          42.21760228073889,
          43.40447056268102,
          46.250527535112695,
          51.06958705857728,
          44.531061485579,
          47.86603009991147
         ],
         "z": [
          4.314061590196861,
          4.036059976402042,
          6.713842035208567,
          10.445423882543013,
          5.0313676562166485,
          4.284820916745457,
          6.148334823194686,
          5.066981026531365,
          5.041191843882249,
          3.450025990823397,
          4.248335365281815,
          4.2337207090981055,
          3.763714481050372,
          4.592573977508325,
          4.726792827479327,
          8.209187456271342,
          6.240187873833897,
          5.352706704655504,
          5.622456412346883,
          6.498633545656589,
          7.19346102519821,
          7.828205305948643,
          5.696279912416223,
          4.610367750544508,
          4.7350366749387085,
          4.726341316583086,
          2.8206825804480204,
          7.618574712083433,
          4.774558746962079,
          6.058336270708495,
          6.4650613385626166,
          2.8646559323694065,
          4.656689478829811,
          3.622916051437623,
          4.419237127381597,
          4.042366773596371,
          4.45177769668893,
          12.301336612791774,
          9.921941376380628,
          5.281246455102047,
          5.284367535238234,
          4.016496934231516,
          3.6176838115770105,
          3.979309406052906,
          3.3244380717197064,
          6.736766565808996,
          4.210416883251898
         ]
        }
       ],
       "layout": {
        "coloraxis": {
         "colorbar": {
          "title": {
           "text": "color"
          }
         },
         "colorscale": [
          [
           0,
           "#0d0887"
          ],
          [
           0.1111111111111111,
           "#46039f"
          ],
          [
           0.2222222222222222,
           "#7201a8"
          ],
          [
           0.3333333333333333,
           "#9c179e"
          ],
          [
           0.4444444444444444,
           "#bd3786"
          ],
          [
           0.5555555555555556,
           "#d8576b"
          ],
          [
           0.6666666666666666,
           "#ed7953"
          ],
          [
           0.7777777777777778,
           "#fb9f3a"
          ],
          [
           0.8888888888888888,
           "#fdca26"
          ],
          [
           1,
           "#f0f921"
          ]
         ]
        },
        "legend": {
         "tracegroupgap": 0
        },
        "margin": {
         "t": 60
        },
        "scene": {
         "domain": {
          "x": [
           0,
           1
          ],
          "y": [
           0,
           1
          ]
         },
         "xaxis": {
          "title": {
           "text": "Renta media por hogar"
          }
         },
         "yaxis": {
          "title": {
           "text": "Edad media"
          }
         },
         "zaxis": {
          "title": {
           "text": "Porcentaje de hogares con dispositivos de energía renovable"
          }
         }
        },
        "template": {
         "data": {
          "bar": [
           {
            "error_x": {
             "color": "#2a3f5f"
            },
            "error_y": {
             "color": "#2a3f5f"
            },
            "marker": {
             "line": {
              "color": "#E5ECF6",
              "width": 0.5
             },
             "pattern": {
              "fillmode": "overlay",
              "size": 10,
              "solidity": 0.2
             }
            },
            "type": "bar"
           }
          ],
          "barpolar": [
           {
            "marker": {
             "line": {
              "color": "#E5ECF6",
              "width": 0.5
             },
             "pattern": {
              "fillmode": "overlay",
              "size": 10,
              "solidity": 0.2
             }
            },
            "type": "barpolar"
           }
          ],
          "carpet": [
           {
            "aaxis": {
             "endlinecolor": "#2a3f5f",
             "gridcolor": "white",
             "linecolor": "white",
             "minorgridcolor": "white",
             "startlinecolor": "#2a3f5f"
            },
            "baxis": {
             "endlinecolor": "#2a3f5f",
             "gridcolor": "white",
             "linecolor": "white",
             "minorgridcolor": "white",
             "startlinecolor": "#2a3f5f"
            },
            "type": "carpet"
           }
          ],
          "choropleth": [
           {
            "colorbar": {
             "outlinewidth": 0,
             "ticks": ""
            },
            "type": "choropleth"
           }
          ],
          "contour": [
           {
            "colorbar": {
             "outlinewidth": 0,
             "ticks": ""
            },
            "colorscale": [
             [
              0,
              "#0d0887"
             ],
             [
              0.1111111111111111,
              "#46039f"
             ],
             [
              0.2222222222222222,
              "#7201a8"
             ],
             [
              0.3333333333333333,
              "#9c179e"
             ],
             [
              0.4444444444444444,
              "#bd3786"
             ],
             [
              0.5555555555555556,
              "#d8576b"
             ],
             [
              0.6666666666666666,
              "#ed7953"
             ],
             [
              0.7777777777777778,
              "#fb9f3a"
             ],
             [
              0.8888888888888888,
              "#fdca26"
             ],
             [
              1,
              "#f0f921"
             ]
            ],
            "type": "contour"
           }
          ],
          "contourcarpet": [
           {
            "colorbar": {
             "outlinewidth": 0,
             "ticks": ""
            },
            "type": "contourcarpet"
           }
          ],
          "heatmap": [
           {
            "colorbar": {
             "outlinewidth": 0,
             "ticks": ""
            },
            "colorscale": [
             [
              0,
              "#0d0887"
             ],
             [
              0.1111111111111111,
              "#46039f"
             ],
             [
              0.2222222222222222,
              "#7201a8"
             ],
             [
              0.3333333333333333,
              "#9c179e"
             ],
             [
              0.4444444444444444,
              "#bd3786"
             ],
             [
              0.5555555555555556,
              "#d8576b"
             ],
             [
              0.6666666666666666,
              "#ed7953"
             ],
             [
              0.7777777777777778,
              "#fb9f3a"
             ],
             [
              0.8888888888888888,
              "#fdca26"
             ],
             [
              1,
              "#f0f921"
             ]
            ],
            "type": "heatmap"
           }
          ],
          "heatmapgl": [
           {
            "colorbar": {
             "outlinewidth": 0,
             "ticks": ""
            },
            "colorscale": [
             [
              0,
              "#0d0887"
             ],
             [
              0.1111111111111111,
              "#46039f"
             ],
             [
              0.2222222222222222,
              "#7201a8"
             ],
             [
              0.3333333333333333,
              "#9c179e"
             ],
             [
              0.4444444444444444,
              "#bd3786"
             ],
             [
              0.5555555555555556,
              "#d8576b"
             ],
             [
              0.6666666666666666,
              "#ed7953"
             ],
             [
              0.7777777777777778,
              "#fb9f3a"
             ],
             [
              0.8888888888888888,
              "#fdca26"
             ],
             [
              1,
              "#f0f921"
             ]
            ],
            "type": "heatmapgl"
           }
          ],
          "histogram": [
           {
            "marker": {
             "pattern": {
              "fillmode": "overlay",
              "size": 10,
              "solidity": 0.2
             }
            },
            "type": "histogram"
           }
          ],
          "histogram2d": [
           {
            "colorbar": {
             "outlinewidth": 0,
             "ticks": ""
            },
            "colorscale": [
             [
              0,
              "#0d0887"
             ],
             [
              0.1111111111111111,
              "#46039f"
             ],
             [
              0.2222222222222222,
              "#7201a8"
             ],
             [
              0.3333333333333333,
              "#9c179e"
             ],
             [
              0.4444444444444444,
              "#bd3786"
             ],
             [
              0.5555555555555556,
              "#d8576b"
             ],
             [
              0.6666666666666666,
              "#ed7953"
             ],
             [
              0.7777777777777778,
              "#fb9f3a"
             ],
             [
              0.8888888888888888,
              "#fdca26"
             ],
             [
              1,
              "#f0f921"
             ]
            ],
            "type": "histogram2d"
           }
          ],
          "histogram2dcontour": [
           {
            "colorbar": {
             "outlinewidth": 0,
             "ticks": ""
            },
            "colorscale": [
             [
              0,
              "#0d0887"
             ],
             [
              0.1111111111111111,
              "#46039f"
             ],
             [
              0.2222222222222222,
              "#7201a8"
             ],
             [
              0.3333333333333333,
              "#9c179e"
             ],
             [
              0.4444444444444444,
              "#bd3786"
             ],
             [
              0.5555555555555556,
              "#d8576b"
             ],
             [
              0.6666666666666666,
              "#ed7953"
             ],
             [
              0.7777777777777778,
              "#fb9f3a"
             ],
             [
              0.8888888888888888,
              "#fdca26"
             ],
             [
              1,
              "#f0f921"
             ]
            ],
            "type": "histogram2dcontour"
           }
          ],
          "mesh3d": [
           {
            "colorbar": {
             "outlinewidth": 0,
             "ticks": ""
            },
            "type": "mesh3d"
           }
          ],
          "parcoords": [
           {
            "line": {
             "colorbar": {
              "outlinewidth": 0,
              "ticks": ""
             }
            },
            "type": "parcoords"
           }
          ],
          "pie": [
           {
            "automargin": true,
            "type": "pie"
           }
          ],
          "scatter": [
           {
            "fillpattern": {
             "fillmode": "overlay",
             "size": 10,
             "solidity": 0.2
            },
            "type": "scatter"
           }
          ],
          "scatter3d": [
           {
            "line": {
             "colorbar": {
              "outlinewidth": 0,
              "ticks": ""
             }
            },
            "marker": {
             "colorbar": {
              "outlinewidth": 0,
              "ticks": ""
             }
            },
            "type": "scatter3d"
           }
          ],
          "scattercarpet": [
           {
            "marker": {
             "colorbar": {
              "outlinewidth": 0,
              "ticks": ""
             }
            },
            "type": "scattercarpet"
           }
          ],
          "scattergeo": [
           {
            "marker": {
             "colorbar": {
              "outlinewidth": 0,
              "ticks": ""
             }
            },
            "type": "scattergeo"
           }
          ],
          "scattergl": [
           {
            "marker": {
             "colorbar": {
              "outlinewidth": 0,
              "ticks": ""
             }
            },
            "type": "scattergl"
           }
          ],
          "scattermapbox": [
           {
            "marker": {
             "colorbar": {
              "outlinewidth": 0,
              "ticks": ""
             }
            },
            "type": "scattermapbox"
           }
          ],
          "scatterpolar": [
           {
            "marker": {
             "colorbar": {
              "outlinewidth": 0,
              "ticks": ""
             }
            },
            "type": "scatterpolar"
           }
          ],
          "scatterpolargl": [
           {
            "marker": {
             "colorbar": {
              "outlinewidth": 0,
              "ticks": ""
             }
            },
            "type": "scatterpolargl"
           }
          ],
          "scatterternary": [
           {
            "marker": {
             "colorbar": {
              "outlinewidth": 0,
              "ticks": ""
             }
            },
            "type": "scatterternary"
           }
          ],
          "surface": [
           {
            "colorbar": {
             "outlinewidth": 0,
             "ticks": ""
            },
            "colorscale": [
             [
              0,
              "#0d0887"
             ],
             [
              0.1111111111111111,
              "#46039f"
             ],
             [
              0.2222222222222222,
              "#7201a8"
             ],
             [
              0.3333333333333333,
              "#9c179e"
             ],
             [
              0.4444444444444444,
              "#bd3786"
             ],
             [
              0.5555555555555556,
              "#d8576b"
             ],
             [
              0.6666666666666666,
              "#ed7953"
             ],
             [
              0.7777777777777778,
              "#fb9f3a"
             ],
             [
              0.8888888888888888,
              "#fdca26"
             ],
             [
              1,
              "#f0f921"
             ]
            ],
            "type": "surface"
           }
          ],
          "table": [
           {
            "cells": {
             "fill": {
              "color": "#EBF0F8"
             },
             "line": {
              "color": "white"
             }
            },
            "header": {
             "fill": {
              "color": "#C8D4E3"
             },
             "line": {
              "color": "white"
             }
            },
            "type": "table"
           }
          ]
         },
         "layout": {
          "annotationdefaults": {
           "arrowcolor": "#2a3f5f",
           "arrowhead": 0,
           "arrowwidth": 1
          },
          "autotypenumbers": "strict",
          "coloraxis": {
           "colorbar": {
            "outlinewidth": 0,
            "ticks": ""
           }
          },
          "colorscale": {
           "diverging": [
            [
             0,
             "#8e0152"
            ],
            [
             0.1,
             "#c51b7d"
            ],
            [
             0.2,
             "#de77ae"
            ],
            [
             0.3,
             "#f1b6da"
            ],
            [
             0.4,
             "#fde0ef"
            ],
            [
             0.5,
             "#f7f7f7"
            ],
            [
             0.6,
             "#e6f5d0"
            ],
            [
             0.7,
             "#b8e186"
            ],
            [
             0.8,
             "#7fbc41"
            ],
            [
             0.9,
             "#4d9221"
            ],
            [
             1,
             "#276419"
            ]
           ],
           "sequential": [
            [
             0,
             "#0d0887"
            ],
            [
             0.1111111111111111,
             "#46039f"
            ],
            [
             0.2222222222222222,
             "#7201a8"
            ],
            [
             0.3333333333333333,
             "#9c179e"
            ],
            [
             0.4444444444444444,
             "#bd3786"
            ],
            [
             0.5555555555555556,
             "#d8576b"
            ],
            [
             0.6666666666666666,
             "#ed7953"
            ],
            [
             0.7777777777777778,
             "#fb9f3a"
            ],
            [
             0.8888888888888888,
             "#fdca26"
            ],
            [
             1,
             "#f0f921"
            ]
           ],
           "sequentialminus": [
            [
             0,
             "#0d0887"
            ],
            [
             0.1111111111111111,
             "#46039f"
            ],
            [
             0.2222222222222222,
             "#7201a8"
            ],
            [
             0.3333333333333333,
             "#9c179e"
            ],
            [
             0.4444444444444444,
             "#bd3786"
            ],
            [
             0.5555555555555556,
             "#d8576b"
            ],
            [
             0.6666666666666666,
             "#ed7953"
            ],
            [
             0.7777777777777778,
             "#fb9f3a"
            ],
            [
             0.8888888888888888,
             "#fdca26"
            ],
            [
             1,
             "#f0f921"
            ]
           ]
          },
          "colorway": [
           "#636efa",
           "#EF553B",
           "#00cc96",
           "#ab63fa",
           "#FFA15A",
           "#19d3f3",
           "#FF6692",
           "#B6E880",
           "#FF97FF",
           "#FECB52"
          ],
          "font": {
           "color": "#2a3f5f"
          },
          "geo": {
           "bgcolor": "white",
           "lakecolor": "white",
           "landcolor": "#E5ECF6",
           "showlakes": true,
           "showland": true,
           "subunitcolor": "white"
          },
          "hoverlabel": {
           "align": "left"
          },
          "hovermode": "closest",
          "mapbox": {
           "style": "light"
          },
          "paper_bgcolor": "white",
          "plot_bgcolor": "#E5ECF6",
          "polar": {
           "angularaxis": {
            "gridcolor": "white",
            "linecolor": "white",
            "ticks": ""
           },
           "bgcolor": "#E5ECF6",
           "radialaxis": {
            "gridcolor": "white",
            "linecolor": "white",
            "ticks": ""
           }
          },
          "scene": {
           "xaxis": {
            "backgroundcolor": "#E5ECF6",
            "gridcolor": "white",
            "gridwidth": 2,
            "linecolor": "white",
            "showbackground": true,
            "ticks": "",
            "zerolinecolor": "white"
           },
           "yaxis": {
            "backgroundcolor": "#E5ECF6",
            "gridcolor": "white",
            "gridwidth": 2,
            "linecolor": "white",
            "showbackground": true,
            "ticks": "",
            "zerolinecolor": "white"
           },
           "zaxis": {
            "backgroundcolor": "#E5ECF6",
            "gridcolor": "white",
            "gridwidth": 2,
            "linecolor": "white",
            "showbackground": true,
            "ticks": "",
            "zerolinecolor": "white"
           }
          },
          "shapedefaults": {
           "line": {
            "color": "#2a3f5f"
           }
          },
          "ternary": {
           "aaxis": {
            "gridcolor": "white",
            "linecolor": "white",
            "ticks": ""
           },
           "baxis": {
            "gridcolor": "white",
            "linecolor": "white",
            "ticks": ""
           },
           "bgcolor": "#E5ECF6",
           "caxis": {
            "gridcolor": "white",
            "linecolor": "white",
            "ticks": ""
           }
          },
          "title": {
           "x": 0.05
          },
          "xaxis": {
           "automargin": true,
           "gridcolor": "white",
           "linecolor": "white",
           "ticks": "",
           "title": {
            "standoff": 15
           },
           "zerolinecolor": "white",
           "zerolinewidth": 2
          },
          "yaxis": {
           "automargin": true,
           "gridcolor": "white",
           "linecolor": "white",
           "ticks": "",
           "title": {
            "standoff": 15
           },
           "zerolinecolor": "white",
           "zerolinewidth": 2
          }
         }
        }
       }
      }
     },
     "metadata": {},
     "output_type": "display_data"
    }
   ],
   "source": [
    "fig = px.scatter_3d(h1_df, x='Renta media por hogar', y='Edad media', \n",
    "                    z='Porcentaje de hogares con dispositivos de energía renovable', color = labels)\n",
    "fig.show()"
   ]
  },
  {
   "cell_type": "markdown",
   "metadata": {},
   "source": [
    "Dibujamos un gráfico de barras para cada característica con el objetivo de interpretar y ver el objetivo de cada grupo."
   ]
  },
  {
   "cell_type": "code",
   "execution_count": null,
   "metadata": {},
   "outputs": [],
   "source": []
  },
  {
   "cell_type": "markdown",
   "metadata": {},
   "source": [
    "#### Conclusiones"
   ]
  },
  {
   "cell_type": "markdown",
   "metadata": {},
   "source": [
    "<br>"
   ]
  },
  {
   "cell_type": "markdown",
   "metadata": {},
   "source": [
    "#### b) K-Means Clustering"
   ]
  },
  {
   "cell_type": "markdown",
   "metadata": {},
   "source": [
    "Para determinar el número óptimo de grupos, se utilizará el método del codo (Elbow Method). Este método nos indica la ganancia que se obtiene al hacer n clusters. El objetivo es buscar el punto óptimo ganancia/clusters."
   ]
  },
  {
   "cell_type": "code",
   "execution_count": 990,
   "metadata": {},
   "outputs": [
    {
     "data": {
      "image/png": "[encoded data removed]",
      "text/plain": [
       "<Figure size 640x480 with 1 Axes>"
      ]
     },
     "metadata": {},
     "output_type": "display_data"
    }
   ],
   "source": [
    "wcss = []\n",
    "\n",
    "for i in range(2, 11):\n",
    "    kmeans = KMeans(n_clusters=i, init='k-means++', max_iter=300, n_init=10, random_state=0)\n",
    "    kmeans.fit(datanorm)\n",
    "    wcss.append(kmeans.inertia_)\n",
    "\n",
    "# Se dibuja la gráfica\n",
    "plt.plot(range(2, 11), wcss, marker = 'o')\n",
    "plt.title('Elbow Method')\n",
    "plt.xlabel('Number of Clusters')\n",
    "plt.ylabel('WCSS')\n",
    "plt.show()"
   ]
  },
  {
   "cell_type": "markdown",
   "metadata": {},
   "source": [
    "Entrenamos el modelo y vemos los resultados."
   ]
  },
  {
   "cell_type": "code",
   "execution_count": 991,
   "metadata": {},
   "outputs": [
    {
     "data": {
      "application/vnd.plotly.v1+json": {
       "config": {
        "plotlyServerURL": "https://plot.ly"
       },
       "data": [
        {
         "hovertemplate": "Renta media por hogar=%{x}<br>Edad media=%{y}<br>Porcentaje de hogares con dispositivos de energía renovable=%{z}<br>color=%{marker.color}<extra></extra>",
         "legendgroup": "",
         "marker": {
          "color": [
           2,
           2,
           2,
           1,
           0,
           2,
           3,
           3,
           0,
           0,
           2,
           2,
           0,
           0,
           0,
           1,
           2,
           3,
           3,
           2,
           3,
           1,
           2,
           2,
           0,
           2,
           0,
           3,
           2,
           2,
           3,
           0,
           0,
           0,
           2,
           0,
           0,
           1,
           1,
           2,
           0,
           2,
           2,
           0,
           0,
           3,
           0
          ],
          "coloraxis": "coloraxis",
          "symbol": "circle"
         },
         "mode": "markers",
         "name": "",
         "scene": "scene",
         "showlegend": false,
         "type": "scatter3d",
         "x": [
          30908,
          28965,
          28442,
          38586,
          33242,
          27243,
          41594,
          40694,
          34530,
          34461,
          32694,
          29290,
          34683,
          29064,
          26529,
          30055,
          29082,
          43392,
          37444,
          29113,
          35509,
          29133,
          34901,
          27429,
          31392,
          35640,
          30709,
          45726,
          32743,
          30644,
          40760,
          29073,
          32105,
          33230,
          33314,
          30435,
          33362,
          31899,
          33830,
          34872,
          32889,
          30626,
          34198,
          34708,
          27928,
          36098,
          28227
         ],
         "y": [
          43.67752322238267,
          43.76688925185923,
          40.32044848717277,
          44.56569142255661,
          48.68338963616493,
          43.78070110994331,
          42.89217780873889,
          46.103247591669685,
          46.68604543086088,
          45.91393264799232,
          43.51042470911726,
          44.066242058980535,
          47.24261334191104,
          45.921312399149656,
          46.53167184538621,
          42.21228507652908,
          43.69378508254106,
          45.14539809888766,
          42.2436702718916,
          42.74662549471956,
          41.69619620552947,
          42.09964388582409,
          45.25832978496913,
          43.76587026120581,
          49.24604231791316,
          43.24068112984009,
          49.98722796144313,
          42.52777298789275,
          40.696911242279086,
          42.41661504136235,
          43.27407369484594,
          50.72758971999474,
          48.20278720064807,
          46.04912329072178,
          44.45862353544321,
          48.311732505262384,
          45.849528292686095,
          41.71263395013224,
          47.28416895798681,
          42.88057705629009,
          46.11338258159068,
          42.21760228073889,
          43.40447056268102,
          46.250527535112695,
          51.06958705857728,
          44.531061485579,
          47.86603009991147
         ],
         "z": [
          4.314061590196861,
          4.036059976402042,
          6.713842035208567,
          10.445423882543013,
          5.0313676562166485,
          4.284820916745457,
          6.148334823194686,
          5.066981026531365,
          5.041191843882249,
          3.450025990823397,
          4.248335365281815,
          4.2337207090981055,
          3.763714481050372,
          4.592573977508325,
          4.726792827479327,
          8.209187456271342,
          6.240187873833897,
          5.352706704655504,
          5.622456412346883,
          6.498633545656589,
          7.19346102519821,
          7.828205305948643,
          5.696279912416223,
          4.610367750544508,
          4.7350366749387085,
          4.726341316583086,
          2.8206825804480204,
          7.618574712083433,
          4.774558746962079,
          6.058336270708495,
          6.4650613385626166,
          2.8646559323694065,
          4.656689478829811,
          3.622916051437623,
          4.419237127381597,
          4.042366773596371,
          4.45177769668893,
          12.301336612791774,
          9.921941376380628,
          5.281246455102047,
          5.284367535238234,
          4.016496934231516,
          3.6176838115770105,
          3.979309406052906,
          3.3244380717197064,
          6.736766565808996,
          4.210416883251898
         ]
        }
       ],
       "layout": {
        "coloraxis": {
         "colorbar": {
          "title": {
           "text": "color"
          }
         },
         "colorscale": [
          [
           0,
           "#0d0887"
          ],
          [
           0.1111111111111111,
           "#46039f"
          ],
          [
           0.2222222222222222,
           "#7201a8"
          ],
          [
           0.3333333333333333,
           "#9c179e"
          ],
          [
           0.4444444444444444,
           "#bd3786"
          ],
          [
           0.5555555555555556,
           "#d8576b"
          ],
          [
           0.6666666666666666,
           "#ed7953"
          ],
          [
           0.7777777777777778,
           "#fb9f3a"
          ],
          [
           0.8888888888888888,
           "#fdca26"
          ],
          [
           1,
           "#f0f921"
          ]
         ]
        },
        "legend": {
         "tracegroupgap": 0
        },
        "margin": {
         "t": 60
        },
        "scene": {
         "domain": {
          "x": [
           0,
           1
          ],
          "y": [
           0,
           1
          ]
         },
         "xaxis": {
          "title": {
           "text": "Renta media por hogar"
          }
         },
         "yaxis": {
          "title": {
           "text": "Edad media"
          }
         },
         "zaxis": {
          "title": {
           "text": "Porcentaje de hogares con dispositivos de energía renovable"
          }
         }
        },
        "template": {
         "data": {
          "bar": [
           {
            "error_x": {
             "color": "#2a3f5f"
            },
            "error_y": {
             "color": "#2a3f5f"
            },
            "marker": {
             "line": {
              "color": "#E5ECF6",
              "width": 0.5
             },
             "pattern": {
              "fillmode": "overlay",
              "size": 10,
              "solidity": 0.2
             }
            },
            "type": "bar"
           }
          ],
          "barpolar": [
           {
            "marker": {
             "line": {
              "color": "#E5ECF6",
              "width": 0.5
             },
             "pattern": {
              "fillmode": "overlay",
              "size": 10,
              "solidity": 0.2
             }
            },
            "type": "barpolar"
           }
          ],
          "carpet": [
           {
            "aaxis": {
             "endlinecolor": "#2a3f5f",
             "gridcolor": "white",
             "linecolor": "white",
             "minorgridcolor": "white",
             "startlinecolor": "#2a3f5f"
            },
            "baxis": {
             "endlinecolor": "#2a3f5f",
             "gridcolor": "white",
             "linecolor": "white",
             "minorgridcolor": "white",
             "startlinecolor": "#2a3f5f"
            },
            "type": "carpet"
           }
          ],
          "choropleth": [
           {
            "colorbar": {
             "outlinewidth": 0,
             "ticks": ""
            },
            "type": "choropleth"
           }
          ],
          "contour": [
           {
            "colorbar": {
             "outlinewidth": 0,
             "ticks": ""
            },
            "colorscale": [
             [
              0,
              "#0d0887"
             ],
             [
              0.1111111111111111,
              "#46039f"
             ],
             [
              0.2222222222222222,
              "#7201a8"
             ],
             [
              0.3333333333333333,
              "#9c179e"
             ],
             [
              0.4444444444444444,
              "#bd3786"
             ],
             [
              0.5555555555555556,
              "#d8576b"
             ],
             [
              0.6666666666666666,
              "#ed7953"
             ],
             [
              0.7777777777777778,
              "#fb9f3a"
             ],
             [
              0.8888888888888888,
              "#fdca26"
             ],
             [
              1,
              "#f0f921"
             ]
            ],
            "type": "contour"
           }
          ],
          "contourcarpet": [
           {
            "colorbar": {
             "outlinewidth": 0,
             "ticks": ""
            },
            "type": "contourcarpet"
           }
          ],
          "heatmap": [
           {
            "colorbar": {
             "outlinewidth": 0,
             "ticks": ""
            },
            "colorscale": [
             [
              0,
              "#0d0887"
             ],
             [
              0.1111111111111111,
              "#46039f"
             ],
             [
              0.2222222222222222,
              "#7201a8"
             ],
             [
              0.3333333333333333,
              "#9c179e"
             ],
             [
              0.4444444444444444,
              "#bd3786"
             ],
             [
              0.5555555555555556,
              "#d8576b"
             ],
             [
              0.6666666666666666,
              "#ed7953"
             ],
             [
              0.7777777777777778,
              "#fb9f3a"
             ],
             [
              0.8888888888888888,
              "#fdca26"
             ],
             [
              1,
              "#f0f921"
             ]
            ],
            "type": "heatmap"
           }
          ],
          "heatmapgl": [
           {
            "colorbar": {
             "outlinewidth": 0,
             "ticks": ""
            },
            "colorscale": [
             [
              0,
              "#0d0887"
             ],
             [
              0.1111111111111111,
              "#46039f"
             ],
             [
              0.2222222222222222,
              "#7201a8"
             ],
             [
              0.3333333333333333,
              "#9c179e"
             ],
             [
              0.4444444444444444,
              "#bd3786"
             ],
             [
              0.5555555555555556,
              "#d8576b"
             ],
             [
              0.6666666666666666,
              "#ed7953"
             ],
             [
              0.7777777777777778,
              "#fb9f3a"
             ],
             [
              0.8888888888888888,
              "#fdca26"
             ],
             [
              1,
              "#f0f921"
             ]
            ],
            "type": "heatmapgl"
           }
          ],
          "histogram": [
           {
            "marker": {
             "pattern": {
              "fillmode": "overlay",
              "size": 10,
              "solidity": 0.2
             }
            },
            "type": "histogram"
           }
          ],
          "histogram2d": [
           {
            "colorbar": {
             "outlinewidth": 0,
             "ticks": ""
            },
            "colorscale": [
             [
              0,
              "#0d0887"
             ],
             [
              0.1111111111111111,
              "#46039f"
             ],
             [
              0.2222222222222222,
              "#7201a8"
             ],
             [
              0.3333333333333333,
              "#9c179e"
             ],
             [
              0.4444444444444444,
              "#bd3786"
             ],
             [
              0.5555555555555556,
              "#d8576b"
             ],
             [
              0.6666666666666666,
              "#ed7953"
             ],
             [
              0.7777777777777778,
              "#fb9f3a"
             ],
             [
              0.8888888888888888,
              "#fdca26"
             ],
             [
              1,
              "#f0f921"
             ]
            ],
            "type": "histogram2d"
           }
          ],
          "histogram2dcontour": [
           {
            "colorbar": {
             "outlinewidth": 0,
             "ticks": ""
            },
            "colorscale": [
             [
              0,
              "#0d0887"
             ],
             [
              0.1111111111111111,
              "#46039f"
             ],
             [
              0.2222222222222222,
              "#7201a8"
             ],
             [
              0.3333333333333333,
              "#9c179e"
             ],
             [
              0.4444444444444444,
              "#bd3786"
             ],
             [
              0.5555555555555556,
              "#d8576b"
             ],
             [
              0.6666666666666666,
              "#ed7953"
             ],
             [
              0.7777777777777778,
              "#fb9f3a"
             ],
             [
              0.8888888888888888,
              "#fdca26"
             ],
             [
              1,
              "#f0f921"
             ]
            ],
            "type": "histogram2dcontour"
           }
          ],
          "mesh3d": [
           {
            "colorbar": {
             "outlinewidth": 0,
             "ticks": ""
            },
            "type": "mesh3d"
           }
          ],
          "parcoords": [
           {
            "line": {
             "colorbar": {
              "outlinewidth": 0,
              "ticks": ""
             }
            },
            "type": "parcoords"
           }
          ],
          "pie": [
           {
            "automargin": true,
            "type": "pie"
           }
          ],
          "scatter": [
           {
            "fillpattern": {
             "fillmode": "overlay",
             "size": 10,
             "solidity": 0.2
            },
            "type": "scatter"
           }
          ],
          "scatter3d": [
           {
            "line": {
             "colorbar": {
              "outlinewidth": 0,
              "ticks": ""
             }
            },
            "marker": {
             "colorbar": {
              "outlinewidth": 0,
              "ticks": ""
             }
            },
            "type": "scatter3d"
           }
          ],
          "scattercarpet": [
           {
            "marker": {
             "colorbar": {
              "outlinewidth": 0,
              "ticks": ""
             }
            },
            "type": "scattercarpet"
           }
          ],
          "scattergeo": [
           {
            "marker": {
             "colorbar": {
              "outlinewidth": 0,
              "ticks": ""
             }
            },
            "type": "scattergeo"
           }
          ],
          "scattergl": [
           {
            "marker": {
             "colorbar": {
              "outlinewidth": 0,
              "ticks": ""
             }
            },
            "type": "scattergl"
           }
          ],
          "scattermapbox": [
           {
            "marker": {
             "colorbar": {
              "outlinewidth": 0,
              "ticks": ""
             }
            },
            "type": "scattermapbox"
           }
          ],
          "scatterpolar": [
           {
            "marker": {
             "colorbar": {
              "outlinewidth": 0,
              "ticks": ""
             }
            },
            "type": "scatterpolar"
           }
          ],
          "scatterpolargl": [
           {
            "marker": {
             "colorbar": {
              "outlinewidth": 0,
              "ticks": ""
             }
            },
            "type": "scatterpolargl"
           }
          ],
          "scatterternary": [
           {
            "marker": {
             "colorbar": {
              "outlinewidth": 0,
              "ticks": ""
             }
            },
            "type": "scatterternary"
           }
          ],
          "surface": [
           {
            "colorbar": {
             "outlinewidth": 0,
             "ticks": ""
            },
            "colorscale": [
             [
              0,
              "#0d0887"
             ],
             [
              0.1111111111111111,
              "#46039f"
             ],
             [
              0.2222222222222222,
              "#7201a8"
             ],
             [
              0.3333333333333333,
              "#9c179e"
             ],
             [
              0.4444444444444444,
              "#bd3786"
             ],
             [
              0.5555555555555556,
              "#d8576b"
             ],
             [
              0.6666666666666666,
              "#ed7953"
             ],
             [
              0.7777777777777778,
              "#fb9f3a"
             ],
             [
              0.8888888888888888,
              "#fdca26"
             ],
             [
              1,
              "#f0f921"
             ]
            ],
            "type": "surface"
           }
          ],
          "table": [
           {
            "cells": {
             "fill": {
              "color": "#EBF0F8"
             },
             "line": {
              "color": "white"
             }
            },
            "header": {
             "fill": {
              "color": "#C8D4E3"
             },
             "line": {
              "color": "white"
             }
            },
            "type": "table"
           }
          ]
         },
         "layout": {
          "annotationdefaults": {
           "arrowcolor": "#2a3f5f",
           "arrowhead": 0,
           "arrowwidth": 1
          },
          "autotypenumbers": "strict",
          "coloraxis": {
           "colorbar": {
            "outlinewidth": 0,
            "ticks": ""
           }
          },
          "colorscale": {
           "diverging": [
            [
             0,
             "#8e0152"
            ],
            [
             0.1,
             "#c51b7d"
            ],
            [
             0.2,
             "#de77ae"
            ],
            [
             0.3,
             "#f1b6da"
            ],
            [
             0.4,
             "#fde0ef"
            ],
            [
             0.5,
             "#f7f7f7"
            ],
            [
             0.6,
             "#e6f5d0"
            ],
            [
             0.7,
             "#b8e186"
            ],
            [
             0.8,
             "#7fbc41"
            ],
            [
             0.9,
             "#4d9221"
            ],
            [
             1,
             "#276419"
            ]
           ],
           "sequential": [
            [
             0,
             "#0d0887"
            ],
            [
             0.1111111111111111,
             "#46039f"
            ],
            [
             0.2222222222222222,
             "#7201a8"
            ],
            [
             0.3333333333333333,
             "#9c179e"
            ],
            [
             0.4444444444444444,
             "#bd3786"
            ],
            [
             0.5555555555555556,
             "#d8576b"
            ],
            [
             0.6666666666666666,
             "#ed7953"
            ],
            [
             0.7777777777777778,
             "#fb9f3a"
            ],
            [
             0.8888888888888888,
             "#fdca26"
            ],
            [
             1,
             "#f0f921"
            ]
           ],
           "sequentialminus": [
            [
             0,
             "#0d0887"
            ],
            [
             0.1111111111111111,
             "#46039f"
            ],
            [
             0.2222222222222222,
             "#7201a8"
            ],
            [
             0.3333333333333333,
             "#9c179e"
            ],
            [
             0.4444444444444444,
             "#bd3786"
            ],
            [
             0.5555555555555556,
             "#d8576b"
            ],
            [
             0.6666666666666666,
             "#ed7953"
            ],
            [
             0.7777777777777778,
             "#fb9f3a"
            ],
            [
             0.8888888888888888,
             "#fdca26"
            ],
            [
             1,
             "#f0f921"
            ]
           ]
          },
          "colorway": [
           "#636efa",
           "#EF553B",
           "#00cc96",
           "#ab63fa",
           "#FFA15A",
           "#19d3f3",
           "#FF6692",
           "#B6E880",
           "#FF97FF",
           "#FECB52"
          ],
          "font": {
           "color": "#2a3f5f"
          },
          "geo": {
           "bgcolor": "white",
           "lakecolor": "white",
           "landcolor": "#E5ECF6",
           "showlakes": true,
           "showland": true,
           "subunitcolor": "white"
          },
          "hoverlabel": {
           "align": "left"
          },
          "hovermode": "closest",
          "mapbox": {
           "style": "light"
          },
          "paper_bgcolor": "white",
          "plot_bgcolor": "#E5ECF6",
          "polar": {
           "angularaxis": {
            "gridcolor": "white",
            "linecolor": "white",
            "ticks": ""
           },
           "bgcolor": "#E5ECF6",
           "radialaxis": {
            "gridcolor": "white",
            "linecolor": "white",
            "ticks": ""
           }
          },
          "scene": {
           "xaxis": {
            "backgroundcolor": "#E5ECF6",
            "gridcolor": "white",
            "gridwidth": 2,
            "linecolor": "white",
            "showbackground": true,
            "ticks": "",
            "zerolinecolor": "white"
           },
           "yaxis": {
            "backgroundcolor": "#E5ECF6",
            "gridcolor": "white",
            "gridwidth": 2,
            "linecolor": "white",
            "showbackground": true,
            "ticks": "",
            "zerolinecolor": "white"
           },
           "zaxis": {
            "backgroundcolor": "#E5ECF6",
            "gridcolor": "white",
            "gridwidth": 2,
            "linecolor": "white",
            "showbackground": true,
            "ticks": "",
            "zerolinecolor": "white"
           }
          },
          "shapedefaults": {
           "line": {
            "color": "#2a3f5f"
           }
          },
          "ternary": {
           "aaxis": {
            "gridcolor": "white",
            "linecolor": "white",
            "ticks": ""
           },
           "baxis": {
            "gridcolor": "white",
            "linecolor": "white",
            "ticks": ""
           },
           "bgcolor": "#E5ECF6",
           "caxis": {
            "gridcolor": "white",
            "linecolor": "white",
            "ticks": ""
           }
          },
          "title": {
           "x": 0.05
          },
          "xaxis": {
           "automargin": true,
           "gridcolor": "white",
           "linecolor": "white",
           "ticks": "",
           "title": {
            "standoff": 15
           },
           "zerolinecolor": "white",
           "zerolinewidth": 2
          },
          "yaxis": {
           "automargin": true,
           "gridcolor": "white",
           "linecolor": "white",
           "ticks": "",
           "title": {
            "standoff": 15
           },
           "zerolinecolor": "white",
           "zerolinewidth": 2
          }
         }
        }
       }
      }
     },
     "metadata": {},
     "output_type": "display_data"
    }
   ],
   "source": [
    "k = 4 # grupos\n",
    "\n",
    "# Se entrena el modelo\n",
    "kmeans = KMeans(n_clusters=k, init='k-means++', max_iter=300, n_init=10, random_state=0)\n",
    "kmeans.fit(datanorm)\n",
    "\n",
    "fig = px.scatter_3d(h1_df, x='Renta media por hogar', y='Edad media', \n",
    "                    z='Porcentaje de hogares con dispositivos de energía renovable', color = kmeans.labels_)\n",
    "fig.show()"
   ]
  },
  {
   "cell_type": "markdown",
   "metadata": {},
   "source": [
    "😁😁😁"
   ]
  }
 ],
 "metadata": {
  "kernelspec": {
   "display_name": "Python 3",
   "language": "python",
   "name": "python3"
  },
  "language_info": {
   "codemirror_mode": {
    "name": "ipython",
    "version": 3
   },
   "file_extension": ".py",
   "mimetype": "text/x-python",
   "name": "python",
   "nbconvert_exporter": "python",
   "pygments_lexer": "ipython3",
   "version": "3.11.8"
  }
 },
 "nbformat": 4,
 "nbformat_minor": 2
}

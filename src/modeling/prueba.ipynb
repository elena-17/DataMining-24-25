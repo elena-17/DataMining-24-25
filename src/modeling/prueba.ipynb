{
 "cells": [
  {
   "cell_type": "markdown",
   "metadata": {},
   "source": [
    "# Hipótesis 1:"
   ]
  },
  {
   "cell_type": "markdown",
   "metadata": {},
   "source": [
    "### \"Las provincias con una edad media menor y una renta media por hogar mayor a la nacional, suelen estar más concienciadas con el uso de energías renovables y utilizan más dispositivos que aprovechan este tipo de energía.\""
   ]
  },
  {
   "cell_type": "markdown",
   "metadata": {},
   "source": [
    "La justificación de esta hipótesis es que las personas jóvenes suelen estar más concienciadas con el medio ambiente, además de que tienen más tiempo para amortizar la inversión de este tipo de tecnología a lo largo de su vida."
   ]
  },
  {
   "cell_type": "markdown",
   "metadata": {},
   "source": [
    "<br>"
   ]
  },
  {
   "cell_type": "markdown",
   "metadata": {},
   "source": [
    "### Preparación del entorno"
   ]
  },
  {
   "cell_type": "code",
   "execution_count": 1,
   "metadata": {},
   "outputs": [
    {
     "name": "stderr",
     "output_type": "stream",
     "text": [
      "c:\\Users\\Francisco Javier\\AppData\\Local\\Programs\\Python\\Python311\\Lib\\site-packages\\tqdm\\auto.py:21: TqdmWarning: IProgress not found. Please update jupyter and ipywidgets. See https://ipywidgets.readthedocs.io/en/stable/user_install.html\n",
      "  from .autonotebook import tqdm as notebook_tqdm\n"
     ]
    }
   ],
   "source": [
    "import pandas as pd\n",
    "import matplotlib.pyplot as plt\n",
    "import matplotlib.cm as cm  \n",
    "import numpy as np\n",
    "from ydata_profiling import ProfileReport\n",
    "import os \n",
    "import scipy\n",
    "\n",
    "SILVER_DATA_PATH = os.path.join(\"..\", \"..\", \"data/silver/\")\n",
    "GOLD_DATA_PATH = os.path.join(\"..\", \"..\", \"data/gold/\")"
   ]
  },
  {
   "cell_type": "markdown",
   "metadata": {},
   "source": [
    "<br>"
   ]
  },
  {
   "cell_type": "markdown",
   "metadata": {},
   "source": [
    "### Datos"
   ]
  },
  {
   "cell_type": "markdown",
   "metadata": {},
   "source": [
    "Primero, cargamos el dataset correspondiente a la tarjeta de datos 1."
   ]
  },
  {
   "cell_type": "code",
   "execution_count": 2,
   "metadata": {},
   "outputs": [
    {
     "name": "stdout",
     "output_type": "stream",
     "text": [
      "<class 'pandas.core.frame.DataFrame'>\n",
      "RangeIndex: 47 entries, 0 to 46\n",
      "Data columns (total 5 columns):\n",
      " #   Column                                                       Non-Null Count  Dtype  \n",
      "---  ------                                                       --------------  -----  \n",
      " 0   Provincias                                                   47 non-null     object \n",
      " 1   Población Total                                              47 non-null     int64  \n",
      " 2   Renta media por hogar                                        47 non-null     int64  \n",
      " 3   Edad media                                                   47 non-null     float64\n",
      " 4   Porcentaje de hogares con dispositivos de energía renovable  47 non-null     float64\n",
      "dtypes: float64(2), int64(2), object(1)\n",
      "memory usage: 2.0+ KB\n"
     ]
    }
   ],
   "source": [
    "h1_df=pd.read_csv(GOLD_DATA_PATH+\"data_card_1_df.csv\", sep = \";\", encoding = \"latin\")\n",
    "h1_df.info()"
   ]
  },
  {
   "cell_type": "code",
   "execution_count": 3,
   "metadata": {},
   "outputs": [
    {
     "data": {
      "text/html": [
       "<div>\n",
       "<style scoped>\n",
       "    .dataframe tbody tr th:only-of-type {\n",
       "        vertical-align: middle;\n",
       "    }\n",
       "\n",
       "    .dataframe tbody tr th {\n",
       "        vertical-align: top;\n",
       "    }\n",
       "\n",
       "    .dataframe thead th {\n",
       "        text-align: right;\n",
       "    }\n",
       "</style>\n",
       "<table border=\"1\" class=\"dataframe\">\n",
       "  <thead>\n",
       "    <tr style=\"text-align: right;\">\n",
       "      <th></th>\n",
       "      <th>Provincias</th>\n",
       "      <th>Población Total</th>\n",
       "      <th>Renta media por hogar</th>\n",
       "      <th>Edad media</th>\n",
       "      <th>Porcentaje de hogares con dispositivos de energía renovable</th>\n",
       "    </tr>\n",
       "  </thead>\n",
       "  <tbody>\n",
       "    <tr>\n",
       "      <th>0</th>\n",
       "      <td>Albacete</td>\n",
       "      <td>385727</td>\n",
       "      <td>30908</td>\n",
       "      <td>43.677523</td>\n",
       "      <td>4.314062</td>\n",
       "    </tr>\n",
       "    <tr>\n",
       "      <th>1</th>\n",
       "      <td>Alicante/Alacant</td>\n",
       "      <td>1901594</td>\n",
       "      <td>28965</td>\n",
       "      <td>43.766889</td>\n",
       "      <td>4.036060</td>\n",
       "    </tr>\n",
       "    <tr>\n",
       "      <th>2</th>\n",
       "      <td>Almería</td>\n",
       "      <td>740534</td>\n",
       "      <td>28442</td>\n",
       "      <td>40.320448</td>\n",
       "      <td>6.713842</td>\n",
       "    </tr>\n",
       "    <tr>\n",
       "      <th>3</th>\n",
       "      <td>Araba/Álava</td>\n",
       "      <td>334412</td>\n",
       "      <td>38586</td>\n",
       "      <td>44.565691</td>\n",
       "      <td>10.445424</td>\n",
       "    </tr>\n",
       "    <tr>\n",
       "      <th>4</th>\n",
       "      <td>Asturias</td>\n",
       "      <td>1004686</td>\n",
       "      <td>33242</td>\n",
       "      <td>48.683390</td>\n",
       "      <td>5.031368</td>\n",
       "    </tr>\n",
       "  </tbody>\n",
       "</table>\n",
       "</div>"
      ],
      "text/plain": [
       "         Provincias  Población Total  Renta media por hogar  Edad media  \\\n",
       "0          Albacete           385727                  30908   43.677523   \n",
       "1  Alicante/Alacant          1901594                  28965   43.766889   \n",
       "2           Almería           740534                  28442   40.320448   \n",
       "3       Araba/Álava           334412                  38586   44.565691   \n",
       "4          Asturias          1004686                  33242   48.683390   \n",
       "\n",
       "   Porcentaje de hogares con dispositivos de energía renovable  \n",
       "0                                           4.314062            \n",
       "1                                           4.036060            \n",
       "2                                           6.713842            \n",
       "3                                          10.445424            \n",
       "4                                           5.031368            "
      ]
     },
     "execution_count": 3,
     "metadata": {},
     "output_type": "execute_result"
    }
   ],
   "source": [
    "# Ejemplo de los datos que presenta la tabla\n",
    "h1_df.head(5)"
   ]
  },
  {
   "cell_type": "markdown",
   "metadata": {},
   "source": [
    "<br>"
   ]
  },
  {
   "cell_type": "markdown",
   "metadata": {},
   "source": [
    "### Prueba obteniendo porcentaje entre edades"
   ]
  },
  {
   "cell_type": "code",
   "execution_count": 4,
   "metadata": {},
   "outputs": [
    {
     "name": "stdout",
     "output_type": "stream",
     "text": [
      "<class 'pandas.core.frame.DataFrame'>\n",
      "RangeIndex: 987 entries, 0 to 986\n",
      "Data columns (total 3 columns):\n",
      " #   Column                      Non-Null Count  Dtype \n",
      "---  ------                      --------------  ----- \n",
      " 0   Provincias                  987 non-null    object\n",
      " 1   Edad (grupos quinquenales)  987 non-null    object\n",
      " 2   Total                       987 non-null    int64 \n",
      "dtypes: int64(1), object(2)\n",
      "memory usage: 23.3+ KB\n"
     ]
    }
   ],
   "source": [
    "edades_df =pd.read_csv(SILVER_DATA_PATH+\"distribucion_edad.csv\", sep = \";\", encoding = \"latin\")\n",
    "edades_df.info()"
   ]
  },
  {
   "cell_type": "code",
   "execution_count": 5,
   "metadata": {},
   "outputs": [
    {
     "data": {
      "text/html": [
       "<div>\n",
       "<style scoped>\n",
       "    .dataframe tbody tr th:only-of-type {\n",
       "        vertical-align: middle;\n",
       "    }\n",
       "\n",
       "    .dataframe tbody tr th {\n",
       "        vertical-align: top;\n",
       "    }\n",
       "\n",
       "    .dataframe thead th {\n",
       "        text-align: right;\n",
       "    }\n",
       "</style>\n",
       "<table border=\"1\" class=\"dataframe\">\n",
       "  <thead>\n",
       "    <tr style=\"text-align: right;\">\n",
       "      <th>Rango_Edad</th>\n",
       "      <th>% Menor de 30</th>\n",
       "      <th>% De 30 a 60</th>\n",
       "      <th>% Mayor de 60</th>\n",
       "    </tr>\n",
       "    <tr>\n",
       "      <th>Provincias</th>\n",
       "      <th></th>\n",
       "      <th></th>\n",
       "      <th></th>\n",
       "    </tr>\n",
       "  </thead>\n",
       "  <tbody>\n",
       "    <tr>\n",
       "      <th>Albacete</th>\n",
       "      <td>29.847535</td>\n",
       "      <td>43.625932</td>\n",
       "      <td>26.526533</td>\n",
       "    </tr>\n",
       "    <tr>\n",
       "      <th>Alicante/Alacant</th>\n",
       "      <td>29.139185</td>\n",
       "      <td>43.604103</td>\n",
       "      <td>27.256712</td>\n",
       "    </tr>\n",
       "    <tr>\n",
       "      <th>Almería</th>\n",
       "      <td>33.463150</td>\n",
       "      <td>45.202516</td>\n",
       "      <td>21.334334</td>\n",
       "    </tr>\n",
       "    <tr>\n",
       "      <th>Araba/Álava</th>\n",
       "      <td>28.081229</td>\n",
       "      <td>43.377630</td>\n",
       "      <td>28.541141</td>\n",
       "    </tr>\n",
       "    <tr>\n",
       "      <th>Asturias</th>\n",
       "      <td>22.114372</td>\n",
       "      <td>42.640686</td>\n",
       "      <td>35.244942</td>\n",
       "    </tr>\n",
       "  </tbody>\n",
       "</table>\n",
       "</div>"
      ],
      "text/plain": [
       "Rango_Edad        % Menor de 30  % De 30 a 60  % Mayor de 60\n",
       "Provincias                                                  \n",
       "Albacete              29.847535     43.625932      26.526533\n",
       "Alicante/Alacant      29.139185     43.604103      27.256712\n",
       "Almería               33.463150     45.202516      21.334334\n",
       "Araba/Álava           28.081229     43.377630      28.541141\n",
       "Asturias              22.114372     42.640686      35.244942"
      ]
     },
     "execution_count": 5,
     "metadata": {},
     "output_type": "execute_result"
    }
   ],
   "source": [
    "# Crear una nueva columna 'Rango_Edad' que contiene el rango de edad como texto\n",
    "def obtener_rango_edad(edad):\n",
    "    if 'De 0 a 4' in edad or 'De 5 a 9' in edad or 'De 10 a 14' in edad or 'De 15 a 19' in edad or 'De 20 a 24' in edad or 'De 25 a 29' in edad:\n",
    "        return 'Menor de 30'\n",
    "    elif 'De 30 a 34' in edad or 'De 35 a 39' in edad or 'De 40 a 44' in edad or 'De 45 a 49' in edad or 'De 50 a 54' in edad or 'De 55 a 59' in edad:\n",
    "        return 'De 30 a 60'\n",
    "    else:\n",
    "        return 'Mayor de 60'\n",
    "\n",
    "# Aplicar la función a la columna 'Edad (grupos quinquenales)'\n",
    "edades_df['Rango_Edad'] = edades_df['Edad (grupos quinquenales)'].apply(obtener_rango_edad)\n",
    "\n",
    "# Filtrar y agrupar los datos por provincia y rango de edad, sumando las personas en cada grupo\n",
    "agrupado = edades_df.groupby(['Provincias', 'Rango_Edad'])['Total'].sum().unstack(fill_value=0)\n",
    "\n",
    "# Calcular el total por provincia\n",
    "agrupado['Total_Provincia'] = agrupado.sum(axis=1)\n",
    "\n",
    "# Calcular los porcentajes por cada rango de edad\n",
    "agrupado['% Menor de 30'] = (agrupado['Menor de 30'] / agrupado['Total_Provincia']) * 100\n",
    "agrupado['% De 30 a 60'] = (agrupado['De 30 a 60'] / agrupado['Total_Provincia']) * 100\n",
    "agrupado['% Mayor de 60'] = (agrupado['Mayor de 60'] / agrupado['Total_Provincia']) * 100\n",
    "\n",
    "# Mostrar el resultado final con los porcentajes\n",
    "resultados = agrupado[['% Menor de 30', '% De 30 a 60', '% Mayor de 60']]\n",
    "resultados.head(5)\n"
   ]
  },
  {
   "cell_type": "markdown",
   "metadata": {},
   "source": [
    "<br>"
   ]
  },
  {
   "cell_type": "code",
   "execution_count": 6,
   "metadata": {},
   "outputs": [
    {
     "data": {
      "text/html": [
       "<div>\n",
       "<style scoped>\n",
       "    .dataframe tbody tr th:only-of-type {\n",
       "        vertical-align: middle;\n",
       "    }\n",
       "\n",
       "    .dataframe tbody tr th {\n",
       "        vertical-align: top;\n",
       "    }\n",
       "\n",
       "    .dataframe thead th {\n",
       "        text-align: right;\n",
       "    }\n",
       "</style>\n",
       "<table border=\"1\" class=\"dataframe\">\n",
       "  <thead>\n",
       "    <tr style=\"text-align: right;\">\n",
       "      <th></th>\n",
       "      <th>Provincias</th>\n",
       "      <th>Población Total</th>\n",
       "      <th>Renta media por hogar</th>\n",
       "      <th>Edad media</th>\n",
       "      <th>Porcentaje de hogares con dispositivos de energía renovable</th>\n",
       "      <th>% Menor de 30</th>\n",
       "      <th>% De 30 a 60</th>\n",
       "      <th>% Mayor de 60</th>\n",
       "    </tr>\n",
       "  </thead>\n",
       "  <tbody>\n",
       "    <tr>\n",
       "      <th>0</th>\n",
       "      <td>Albacete</td>\n",
       "      <td>385727</td>\n",
       "      <td>30908</td>\n",
       "      <td>43.677523</td>\n",
       "      <td>4.314062</td>\n",
       "      <td>29.847535</td>\n",
       "      <td>43.625932</td>\n",
       "      <td>26.526533</td>\n",
       "    </tr>\n",
       "    <tr>\n",
       "      <th>1</th>\n",
       "      <td>Alicante/Alacant</td>\n",
       "      <td>1901594</td>\n",
       "      <td>28965</td>\n",
       "      <td>43.766889</td>\n",
       "      <td>4.036060</td>\n",
       "      <td>29.139185</td>\n",
       "      <td>43.604103</td>\n",
       "      <td>27.256712</td>\n",
       "    </tr>\n",
       "    <tr>\n",
       "      <th>2</th>\n",
       "      <td>Almería</td>\n",
       "      <td>740534</td>\n",
       "      <td>28442</td>\n",
       "      <td>40.320448</td>\n",
       "      <td>6.713842</td>\n",
       "      <td>33.463150</td>\n",
       "      <td>45.202516</td>\n",
       "      <td>21.334334</td>\n",
       "    </tr>\n",
       "    <tr>\n",
       "      <th>3</th>\n",
       "      <td>Araba/Álava</td>\n",
       "      <td>334412</td>\n",
       "      <td>38586</td>\n",
       "      <td>44.565691</td>\n",
       "      <td>10.445424</td>\n",
       "      <td>28.081229</td>\n",
       "      <td>43.377630</td>\n",
       "      <td>28.541141</td>\n",
       "    </tr>\n",
       "    <tr>\n",
       "      <th>4</th>\n",
       "      <td>Asturias</td>\n",
       "      <td>1004686</td>\n",
       "      <td>33242</td>\n",
       "      <td>48.683390</td>\n",
       "      <td>5.031368</td>\n",
       "      <td>22.114372</td>\n",
       "      <td>42.640686</td>\n",
       "      <td>35.244942</td>\n",
       "    </tr>\n",
       "  </tbody>\n",
       "</table>\n",
       "</div>"
      ],
      "text/plain": [
       "         Provincias  Población Total  Renta media por hogar  Edad media  \\\n",
       "0          Albacete           385727                  30908   43.677523   \n",
       "1  Alicante/Alacant          1901594                  28965   43.766889   \n",
       "2           Almería           740534                  28442   40.320448   \n",
       "3       Araba/Álava           334412                  38586   44.565691   \n",
       "4          Asturias          1004686                  33242   48.683390   \n",
       "\n",
       "   Porcentaje de hogares con dispositivos de energía renovable  % Menor de 30  \\\n",
       "0                                           4.314062                29.847535   \n",
       "1                                           4.036060                29.139185   \n",
       "2                                           6.713842                33.463150   \n",
       "3                                          10.445424                28.081229   \n",
       "4                                           5.031368                22.114372   \n",
       "\n",
       "   % De 30 a 60  % Mayor de 60  \n",
       "0     43.625932      26.526533  \n",
       "1     43.604103      27.256712  \n",
       "2     45.202516      21.334334  \n",
       "3     43.377630      28.541141  \n",
       "4     42.640686      35.244942  "
      ]
     },
     "execution_count": 6,
     "metadata": {},
     "output_type": "execute_result"
    }
   ],
   "source": [
    "df_completo = pd.merge(h1_df, resultados, how='left', on='Provincias')\n",
    "\n",
    "# Verifica cómo ha quedado el DataFrame unido\n",
    "df_completo.head(5)"
   ]
  },
  {
   "cell_type": "code",
   "execution_count": 7,
   "metadata": {},
   "outputs": [],
   "source": [
    "from sklearn.cluster import KMeans\n",
    "from sklearn.preprocessing import StandardScaler"
   ]
  },
  {
   "cell_type": "code",
   "execution_count": 8,
   "metadata": {},
   "outputs": [],
   "source": [
    "X = df_completo.drop(columns=['Provincias', 'Población Total', 'Edad media', '% Mayor de 60'])\n",
    "scaler = StandardScaler()\n",
    "h1_df_scaled = scaler.fit_transform(X)"
   ]
  },
  {
   "cell_type": "code",
   "execution_count": 9,
   "metadata": {},
   "outputs": [
    {
     "data": {
      "image/png": "[encoded data removed]",
      "text/plain": [
       "<Figure size 640x480 with 1 Axes>"
      ]
     },
     "metadata": {},
     "output_type": "display_data"
    }
   ],
   "source": [
    "# https://www.youtube.com/watch?v=R4DHQs8hi0g\n",
    "wcss = []\n",
    "\n",
    "for i in range(2,10):\n",
    "    kmeans = KMeans(n_clusters=i, init='k-means++', max_iter=300, n_init=10, random_state=42)\n",
    "    kmeans.fit(h1_df_scaled)\n",
    "    wcss.append(kmeans.inertia_)\n",
    "\n",
    "# Plot elbow curve\n",
    "plt.plot(range(2,10), wcss, marker= 'o')\n",
    "plt.title('Elbow Curve')\n",
    "plt.xlabel('Number of clusters')\n",
    "plt.ylabel('WCSS')\n",
    "plt.show()"
   ]
  },
  {
   "cell_type": "code",
   "execution_count": 10,
   "metadata": {},
   "outputs": [
    {
     "data": {
      "image/png": "[encoded data removed]",
      "text/plain": [
       "<Figure size 640x480 with 1 Axes>"
      ]
     },
     "metadata": {},
     "output_type": "display_data"
    }
   ],
   "source": [
    "k = 4 # grupos\n",
    "\n",
    "# Se entrena el modelo\n",
    "kmeans = KMeans(n_clusters=k, init='k-means++', max_iter=300, n_init=10, random_state=42)\n",
    "kmeans.fit(h1_df_scaled)\n",
    "\n",
    "# Clusters\n",
    "cluster_labels = kmeans.labels_\n",
    "\n",
    "# Gráfica para visualizar los clusters\n",
    "plt.scatter(h1_df_scaled[:, 0], h1_df_scaled[:, 1], c=cluster_labels, cmap='viridis', s= 50, alpha=0.5)\n",
    "plt.scatter(kmeans.cluster_centers_[:, 0], kmeans.cluster_centers_[:, 1], c= 'red', marker='x', s=200, label= 'Center')\n",
    "plt.xlabel('Renta media por hogar')\n",
    "plt.ylabel('Edad media')\n",
    "plt.title('KMeans Clustering')\n",
    "plt.legend()\n",
    "plt.show()"
   ]
  },
  {
   "cell_type": "markdown",
   "metadata": {},
   "source": [
    "<br>"
   ]
  }
 ],
 "metadata": {
  "kernelspec": {
   "display_name": "Python 3",
   "language": "python",
   "name": "python3"
  },
  "language_info": {
   "codemirror_mode": {
    "name": "ipython",
    "version": 3
   },
   "file_extension": ".py",
   "mimetype": "text/x-python",
   "name": "python",
   "nbconvert_exporter": "python",
   "pygments_lexer": "ipython3",
   "version": "3.11.8"
  }
 },
 "nbformat": 4,
 "nbformat_minor": 2
}

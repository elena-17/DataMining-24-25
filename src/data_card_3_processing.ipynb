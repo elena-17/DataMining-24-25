{
 "cells": [
  {
   "cell_type": "markdown",
   "metadata": {},
   "source": [
    "# **Tarjeta de datos 3**"
   ]
  },
  {
   "cell_type": "markdown",
   "metadata": {
    "vscode": {
     "languageId": "plaintext"
    }
   },
   "source": [
    "### Hipótesis 3: \"A mayor número de personas en un hogar es más probable que se invierta en energía renovable\""
   ]
  },
  {
   "cell_type": "markdown",
   "metadata": {},
   "source": [
    "- Por un lado, se utiliza *tipo_nucleo_familiar.csv* para procesarlo y hacer una mejor agrupación de hogares en España. \n",
    "- Por otro lado, mediante *dispositivos_renovable.csv* se extrae el número de dispositivos que son de energía renovables en cada provincia.\n",
    "\n",
    "- Con estos datos, se podrá estudiar la correlación que hay entre los diferentes núcleos famliares y el porcentaje de dispositivos renovables. Para ello, en primer lugar, habrá que realizar un mejor procesamiento de los datos, limpiando y redimensionando los datasets. Así, se conseguirá tener nuestro dataset gold para esta tarjeta de datos.\n",
    "\n",
    "- El dataset final estará compuesto por índices en función del total, tanto para dispositivos de energía renovable como para cada tipo de núcleo familiar. De esta manera, se evita que el análisis no esté sesgado hacia provincias con mayor población. Así habrá comparaciones equitativas por los datos normalizados."
   ]
  },
  {
   "cell_type": "markdown",
   "metadata": {},
   "source": [
    "## **Carga de datos**"
   ]
  },
  {
   "cell_type": "code",
   "execution_count": null,
   "metadata": {},
   "outputs": [],
   "source": [
    "# Importar librerías\n",
    "import pandas as pd\n",
    "import os \n",
    "import matplotlib.pyplot as plt\n",
    "import seaborn as sns\n",
    "from statsmodels.graphics.gofplots import qqplot\n",
    "\n",
    "SILVER_DATA_PATH = os.path.join(\"..\", \"data/silver/\")\n",
    "GOLD_DATA_PATH = os.path.join(\"..\", \"data/gold/\")"
   ]
  },
  {
   "cell_type": "code",
   "execution_count": null,
   "metadata": {},
   "outputs": [],
   "source": [
    "# Dispositivos de energía renovable por provincia e ingresos.\n",
    "dispositivos_renovable_df = pd.read_csv(SILVER_DATA_PATH+\"dispositivos_renovable.csv\", sep = \";\", encoding = \"latin\")\n",
    "\n",
    "#dataframe info.\n",
    "dispositivos_renovable_df.info()"
   ]
  },
  {
   "cell_type": "code",
   "execution_count": null,
   "metadata": {},
   "outputs": [],
   "source": [
    "# Cargar el DataFrame con data type str para evitar errores de lectura, luego se cambiará el tipo de dato si es necesario\n",
    "tipo_nucleo_familiar_df = pd.read_csv(SILVER_DATA_PATH + \"tipo_nucleo_familiar.csv\", sep=\";\", encoding=\"latin\")\n",
    "\n",
    "# Ver la información del DataFrame\n",
    "tipo_nucleo_familiar_df.info()\n"
   ]
  },
  {
   "cell_type": "markdown",
   "metadata": {},
   "source": [
    "## **Procesamiento**"
   ]
  },
  {
   "cell_type": "markdown",
   "metadata": {},
   "source": [
    "### tipo_nucleo_familiar.csv\n"
   ]
  },
  {
   "cell_type": "code",
   "execution_count": null,
   "metadata": {},
   "outputs": [],
   "source": [
    "tipo_nucleo_familiar_df.head(13)"
   ]
  },
  {
   "cell_type": "markdown",
   "metadata": {},
   "source": [
    "- Se ve que en el dataset tipo_nucleo_familar_df tiene valores iguales a cero en la columna 'Total'. Se comprueba que filas son y se eliminarán si no afectan a la composición y calidad de los datos. Pues no aportan interés."
   ]
  },
  {
   "cell_type": "code",
   "execution_count": null,
   "metadata": {},
   "outputs": [],
   "source": [
    "# Filas con valores 0 en la columna 'Total'\n",
    "total_cero_df = tipo_nucleo_familiar_df[tipo_nucleo_familiar_df['Total'] == 0]\n",
    "print(\"Dimensión del dataframe con valores 0:\", total_cero_df.shape)\n",
    "\n",
    "print('\\n',total_cero_df.head())\n",
    "\n",
    "# Valores únicos de las columnas 'Tipo de núcleo familiar' y 'Número de hijos' para total_cero_df\n",
    "valores_unicos = total_cero_df[['Tipo de núcleo familiar', 'Número de hijos']].drop_duplicates().values.tolist()\n",
    "print('\\n',valores_unicos)"
   ]
  },
  {
   "cell_type": "markdown",
   "metadata": {},
   "source": [
    "- Se ve que en el dataframe las filas donde 'Total' es cero son aquellas que tienen la combinación: [['Padre sólo con hijos convivientes', '0 hijos conviviendo'], ['Madre sóla con hijos convivientes', '0 hijos conviviendo']]\n",
    "    - Se eliminan esas filas."
   ]
  },
  {
   "cell_type": "code",
   "execution_count": null,
   "metadata": {},
   "outputs": [],
   "source": [
    "#Eliminar filas donde 'Total' sea 0\n",
    "tipo_nucleo_familiar_df = tipo_nucleo_familiar_df[tipo_nucleo_familiar_df['Total'] != 0]"
   ]
  },
  {
   "cell_type": "markdown",
   "metadata": {},
   "source": [
    "- Ahora, se hace una categorización más clara y concisa en *Tipo de núcleo familiar*:\n",
    "    - Pareja casada.\n",
    "    - Pareja no casada.\n",
    "    - Familia monoparental\n",
    "\n",
    "- Igualmente, se hará con *Número de hijos*. Se categorizará únicamente por número de hijos sin distinguir si son o no mayores de 25 años:\n",
    "    - 0 hijos\n",
    "    - 1 hijo\n",
    "    - 2 o más hijos"
   ]
  },
  {
   "cell_type": "code",
   "execution_count": null,
   "metadata": {},
   "outputs": [],
   "source": [
    "# Reemplazar valores en la columna \"Tipo de núcleo familiar\"\n",
    "tipo_nucleo_familiar_df['Tipo de núcleo familiar'] = tipo_nucleo_familiar_df['Tipo de núcleo familiar'].replace({\n",
    "    'Pareja casada, con o sin hijos convivientes': 'Pareja casada',\n",
    "    'Pareja no casada, con o sin hijos convivientes': 'Pareja no casada',\n",
    "    'Padre sólo con hijos convivientes': 'Familia monoparental',\n",
    "    'Madre sóla con hijos convivientes': 'Familia monoparental'\n",
    "})\n",
    "\n",
    "tipo_nucleo_familiar_df['Número de hijos'] = tipo_nucleo_familiar_df['Número de hijos'].replace({\n",
    "    '0 hijos conviviendo': '0 hijos', '0 hijos conviviendo menores de 25 años': '0 hijos',\n",
    "    '1 hijo conviviendo': '1 hijo', '1 hijo conviviendo menor de 25 años': '1 hijo',\n",
    "    '2 o más hijos conviviendo': '2 hijos o más', '2 hijos o más conviviendo menores de 25 años': '2 hijos o más'\n",
    "})\n",
    "# Verificar los cambios\n",
    "print(tipo_nucleo_familiar_df['Tipo de núcleo familiar'].unique())\n",
    "print(tipo_nucleo_familiar_df['Número de hijos'].unique())"
   ]
  },
  {
   "cell_type": "markdown",
   "metadata": {},
   "source": [
    "- Agrupamos columnas con *Provincia*s, *Tipo de núcelo familiar* y *Número de hijos* iguales."
   ]
  },
  {
   "cell_type": "code",
   "execution_count": null,
   "metadata": {},
   "outputs": [],
   "source": [
    "#reset_index() es utilizado para convertir la Serie generada por groupby en un dataframe.\n",
    "tipo_nucleo_familiar_df = tipo_nucleo_familiar_df.groupby(['Provincias', 'Tipo de núcleo familiar', 'Número de hijos'])['Total'].sum().reset_index()"
   ]
  },
  {
   "cell_type": "code",
   "execution_count": null,
   "metadata": {},
   "outputs": [],
   "source": [
    "tipo_nucleo_familiar_df.head(18)"
   ]
  },
  {
   "cell_type": "markdown",
   "metadata": {},
   "source": [
    "- Siguiendo con el procesamiento de *tipo_nucleo_familiar_df* se va a redimensionar el dataframe. Pues lo que se pretende es tener sólamente una fila por provincia. Entonces, se harán diferentes columnas para las combinaciones de valores de *Tipo de núcleo familiar* y *Número de hijos*.\n",
    "    - Además, dimensionando por columnas, tendremos una mayor comprensión de los valores que toma el dataframe."
   ]
  },
  {
   "cell_type": "code",
   "execution_count": null,
   "metadata": {},
   "outputs": [],
   "source": [
    "# Crear una nueva columna combinando 'Tipo de núcleo familiar' y 'Número de hijos'\n",
    "tipo_nucleo_familiar_df['Categoria'] = tipo_nucleo_familiar_df['Tipo de núcleo familiar'] + ' con ' + tipo_nucleo_familiar_df['Número de hijos']\n",
    "\n",
    "# Usar pivot para reorganizar la tabla sin incluir la categoría en el índice\n",
    "tipo_nucleo_familiar_df = tipo_nucleo_familiar_df.pivot(index='Provincias', columns='Categoria', values='Total')\n",
    "\n",
    "# Para tener un DataFrame \"normal\", reiniciamos el índice\n",
    "tipo_nucleo_familiar_df.reset_index(inplace=True)\n",
    "\n",
    "# Eliminamos 'Categoría' como nombre de las columnas\n",
    "tipo_nucleo_familiar_df.columns.name = None\n",
    "\n",
    "# Mostrar el resultado\n",
    "tipo_nucleo_familiar_df.head()"
   ]
  },
  {
   "cell_type": "markdown",
   "metadata": {},
   "source": [
    "- Por último, se va a calcular el índice de cada tipo de familia en función del total por provincia.\n",
    "    - Se suma los valores de cada provincia (excepto columna *Provincias*).\n",
    "    - Tipo de familia / total\n",
    "    - Se actualiza el dataframe"
   ]
  },
  {
   "cell_type": "code",
   "execution_count": null,
   "metadata": {},
   "outputs": [],
   "source": [
    "# Calculamos el total por provincia\n",
    "tipo_nucleo_familiar_df[\"Total\"] = tipo_nucleo_familiar_df.iloc[:, 1:].sum(axis=1)\n",
    "\n",
    "# Calculamos el índice de cada tipo de familia\n",
    "for column in tipo_nucleo_familiar_df.columns[1:-1]:  # Excluimos 'Provincias' y 'Total'\n",
    "    tipo_nucleo_familiar_df[column] = (\n",
    "        tipo_nucleo_familiar_df[column] / tipo_nucleo_familiar_df[\"Total\"]\n",
    "    )\n",
    "\n",
    "# Eliminamos la columna \"Total\" ya que no la necesitamos más\n",
    "tipo_nucleo_familiar_df.drop(columns=[\"Total\"], inplace=True)\n",
    "\n",
    "# Mostrar el DataFrame actualizado\n",
    "tipo_nucleo_familiar_df.head()"
   ]
  },
  {
   "cell_type": "markdown",
   "metadata": {},
   "source": [
    "### dispositivos_renovable_df"
   ]
  },
  {
   "cell_type": "code",
   "execution_count": null,
   "metadata": {},
   "outputs": [],
   "source": [
    "dispositivos_renovable_df.head(20)"
   ]
  },
  {
   "cell_type": "markdown",
   "metadata": {},
   "source": [
    "- La columna *Ingresos Netos* no se tendrá en cuenta, pues no aportan interés al no especificarse a qué tipo de núcleo familiar corresponde tales ingresos. \n",
    "- Por lo tanto, sólo se agrupa por provincia y por disposición de dispositivos de energía renovable."
   ]
  },
  {
   "cell_type": "code",
   "execution_count": null,
   "metadata": {},
   "outputs": [],
   "source": [
    "# Agrupar por provincia (groupby) y sumar las viviendas con y sin dispositivos\n",
    "dispositivos_renovable_df = dispositivos_renovable_df.groupby(['Provincias', 'Dispone de dispositivo de energía renovable'])['Total'].sum().unstack()"
   ]
  },
  {
   "cell_type": "code",
   "execution_count": null,
   "metadata": {},
   "outputs": [],
   "source": [
    "dispositivos_renovable_df.head()"
   ]
  },
  {
   "cell_type": "markdown",
   "metadata": {},
   "source": [
    "- A continuación, se cambia los valores totales de dispone de dispositivos de energía renovable por el índice que representan en función al total de dispositivos."
   ]
  },
  {
   "cell_type": "code",
   "execution_count": null,
   "metadata": {},
   "outputs": [],
   "source": [
    "# Calcular el total de dispositivos por provincia\n",
    "dispositivos_renovable_df[\"Total\"] = dispositivos_renovable_df[\"No\"] + dispositivos_renovable_df[\"Si\"]\n",
    "\n",
    "# Calcular el índice de dispositivos de energía renovable por provincia\n",
    "dispositivos_renovable_df[\"Si\"] = dispositivos_renovable_df[\"Si\"] / dispositivos_renovable_df[\"Total\"]\n",
    "dispositivos_renovable_df[\"No\"] = dispositivos_renovable_df[\"No\"] / dispositivos_renovable_df[\"Total\"]\n",
    "# Eliminar la columna \"Total\", só es necesaria para el cálculo del índice\n",
    "dispositivos_renovable_df.drop(columns=[\"Total\"], inplace=True)\n",
    "   \n",
    "\n",
    "#Mostrar resultado\n",
    "dispositivos_renovable_df.head()"
   ]
  },
  {
   "cell_type": "markdown",
   "metadata": {},
   "source": [
    "- Crear dataframe con los resultados obtenidos:\n",
    "- dispositivos_renovable_df:\n",
    "    - Provincias: nombre de la provincia.\n",
    "    - Dispositivos de energía renovable: Índice de viviendas con dispositivos de energía renovable (sobre 1)."
   ]
  },
  {
   "cell_type": "code",
   "execution_count": null,
   "metadata": {},
   "outputs": [],
   "source": [
    "# Reiniciar el índice para tener Provincias como columna.\n",
    "dispositivos_renovable_df.reset_index(inplace=True)\n",
    "\n",
    "# Eliminar la columna \"No\", ya que no es necesaria, pues se considera únicamente dispositivos de energía renovable.\n",
    "dispositivos_renovable_df.drop(columns=[\"No\"], inplace=True) \n",
    "\n",
    "# Cambiar el nombre de la columna \"Si\" a \"Dispositivos de energía renovable\" para mayor claridad.\n",
    "dispositivos_renovable_df.rename(columns={'Si': 'Índice dispositivos energía renovable'}, inplace=True)\n",
    "\n",
    "# Eliminar el nombre de las columnas\n",
    "dispositivos_renovable_df.columns.name = None\n",
    "\n",
    "# Mostrar resultado\n",
    "dispositivos_renovable_df.head()"
   ]
  },
  {
   "cell_type": "markdown",
   "metadata": {},
   "source": [
    "## Integrar datos"
   ]
  },
  {
   "cell_type": "markdown",
   "metadata": {},
   "source": [
    "- Hacer merge de datos de los datos de porcentaje de dispositivos renovable y tipos de núcleo familiares en un mismo dataframe.\n",
    "\n",
    "- Se combinan los datos de las columnas:\n",
    "    - Provincias (dipositivos_renovable_df y tipo_nucelo_familiar_df)\n",
    "    - Índice dispositivos energía renovable (dipositivos_renovable_df)\n",
    "    - Todas referente a los índices de tipos de núcleos familiares (tipo_nucelo_familiar_df)"
   ]
  },
  {
   "cell_type": "markdown",
   "metadata": {},
   "source": [
    "- Antes de juntar ambos datasets, se comprueba que contienen las mismas provincias.\n",
    "    - Se comparan valores de provincias de cada datasets.\n",
    "    - Se muestra resultados: *set()*: Conjunto vacío.\n",
    "    - Se hace un print que expresa si tienen las mismas provincias."
   ]
  },
  {
   "cell_type": "code",
   "execution_count": null,
   "metadata": {},
   "outputs": [],
   "source": [
    "# Listar las provincias únicas de cada DataFrame\n",
    "provincias_dispositivos = set(dispositivos_renovable_df['Provincias'].unique())\n",
    "provincias_hogar = set(tipo_nucleo_familiar_df['Provincias'].unique())\n",
    "\n",
    "# Provincias presentes en un DataFrame pero no en el otro\n",
    "provincias_solo_dispositivos = provincias_dispositivos - provincias_hogar\n",
    "provincias_solo_hogar = provincias_hogar - provincias_dispositivos\n",
    "\n",
    "# Mostrar los resultados\n",
    "print(\"Provincias en dispositivos_porcentaje_df pero no en media_hogar_df:\")\n",
    "print(provincias_solo_dispositivos)\n",
    "\n",
    "print(\"\\nProvincias en media_hogar_df pero no en dispositivos_porcentaje_df:\")\n",
    "print(provincias_solo_hogar)\n",
    "\n",
    "# Comprobar si tienen valores exactamente iguales\n",
    "valores_iguales = provincias_dispositivos == provincias_hogar\n",
    "print(\"\\n¿Ambos DataFrames tienen exactamente las mismas provincias?:\", valores_iguales)\n"
   ]
  },
  {
   "cell_type": "markdown",
   "metadata": {},
   "source": [
    "- Ambas dataframes contienen las mismas provincias, se continúa con el merge. Los provincias tienne el mismo orden en ambos dataframes. Por lo tanto, concatenándolas y eliminándo una columna Provincia, ya no se tendrá columnas replicadas."
   ]
  },
  {
   "cell_type": "code",
   "execution_count": null,
   "metadata": {},
   "outputs": [],
   "source": [
    "# Eliminar la columna 'Provincias' de tipo_nucleo_familiar_df pues ya está en dispositivos_renovable_df\n",
    "tipo_nucleo_familiar_df = tipo_nucleo_familiar_df.drop(columns=['Provincias'])\n",
    "\n",
    "# Concatenar las DataFrames\n",
    "tarjeta_3 = pd.concat([dispositivos_renovable_df, tipo_nucleo_familiar_df], axis=1)"
   ]
  },
  {
   "cell_type": "markdown",
   "metadata": {},
   "source": [
    "- **Mostrar cómo queda el dataframe procesado para esta tarjeta de datos.**"
   ]
  },
  {
   "cell_type": "code",
   "execution_count": null,
   "metadata": {},
   "outputs": [],
   "source": [
    "tarjeta_3.head() #mostrar cómo queda el dataframe final"
   ]
  },
  {
   "cell_type": "markdown",
   "metadata": {},
   "source": [
    "- **Se guardan los datos como csv en carpeta data/gold**:\n"
   ]
  },
  {
   "cell_type": "code",
   "execution_count": null,
   "metadata": {},
   "outputs": [],
   "source": [
    "with open(GOLD_DATA_PATH + \"data_card_3_df.csv\", \"w\") as f:\n",
    "    tarjeta_3.to_csv(f, sep=';', encoding='utf-8', index=False)"
   ]
  },
  {
   "cell_type": "markdown",
   "metadata": {},
   "source": [
    "## Profiling de la tarjeta para la hipótesis 3"
   ]
  },
  {
   "cell_type": "markdown",
   "metadata": {},
   "source": [
    "- En este apartado, primeramente, se crea un Profile Report en formato html. Las conclusiones extraídas relevantes de este report se comentarán en el entregable 2."
   ]
  },
  {
   "cell_type": "code",
   "execution_count": null,
   "metadata": {},
   "outputs": [],
   "source": [
    "from  ydata_profiling import ProfileReport\n",
    "\n",
    "profile = ProfileReport(tarjeta_3, title=\"Data Card 3 Profiling Report\")\n",
    "profile.to_file(\"../profiling/data_card_3_profile_report.html\")"
   ]
  },
  {
   "cell_type": "markdown",
   "metadata": {},
   "source": [
    "- A continuación, se procede con un profiling de los datos realizados aparte."
   ]
  },
  {
   "cell_type": "code",
   "execution_count": null,
   "metadata": {},
   "outputs": [],
   "source": [
    "tarjeta_3.info()"
   ]
  }
 ],
 "metadata": {
  "language_info": {
   "name": "python"
  }
 },
 "nbformat": 4,
 "nbformat_minor": 2
}

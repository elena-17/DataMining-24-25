{
 "cells": [
  {
   "cell_type": "markdown",
   "metadata": {},
   "source": [
    "# DATA PROCESSING\n",
    "\n",
    "El objetivo de este notebook es cargar cada uno de los archivos csv que contienen los datos de los diferentes datasets y realizar un preprocesamiento de los mismos para posteriormente combinarlos en un único dataFrame.\n",
    "\n",
    "En el preprocesamiento se realizarán las siguientes tareas:\n",
    "- Cargar los datos en un dataFrame\n",
    "- Eliminar las columnas o filas de datos totales\n",
    "- Eliminar los datos a nivel nacional\n",
    "- Eliminar las columnas con el nombre de la comunidad autónoma para evitar duplicidad."
   ]
  },
  {
   "cell_type": "markdown",
   "metadata": {},
   "source": [
    "## Preparación del entorno"
   ]
  },
  {
   "cell_type": "code",
   "execution_count": 2,
   "metadata": {},
   "outputs": [],
   "source": [
    "import pandas as pd\n",
    "import os \n",
    "\n",
    "RAW_DATA_PATH = os.path.join(\"..\", \"data/raw/\")"
   ]
  },
  {
   "cell_type": "markdown",
   "metadata": {},
   "source": [
    "## Consumo Electrico Anual"
   ]
  },
  {
   "cell_type": "code",
   "execution_count": null,
   "metadata": {},
   "outputs": [
    {
     "name": "stdout",
     "output_type": "stream",
     "text": [
      "<class 'pandas.core.frame.DataFrame'>\n",
      "RangeIndex: 100 entries, 0 to 99\n",
      "Data columns (total 5 columns):\n",
      " #   Column                 Non-Null Count  Dtype \n",
      "---  ------                 --------------  ----- \n",
      " 0   Total Nacional         100 non-null    object\n",
      " 1   Comunidades Autónomas  95 non-null     object\n",
      " 2   Producto consumido     100 non-null    object\n",
      " 3   Año                    100 non-null    int64 \n",
      " 4   Total                  100 non-null    object\n",
      "dtypes: int64(1), object(4)\n",
      "memory usage: 4.0+ KB\n"
     ]
    }
   ],
   "source": [
    "import pandas as pd\n",
    "\n",
    "consumo_df = pd.read_csv(RAW_DATA_PATH+ \"ConsumoElectricoAnual.csv\", sep=\"\\t\", encoding=\"latin1\")\n",
    "consumo_df.rename(columns={\"Comunidades y Ciudades Autï¿½nomas\": \"Comunidades Autónomas\", \"aï¿½o\": \"Año\"}, inplace=True) #linux\n",
    "consumo_df.rename(columns={\"Comunidades y Ciudades Autónomas\": \"Comunidades Autónomas\", \"año\": \"Año\"}, inplace=True) #windows\n",
    "#nota: por alguna razón, el encoding funciona distinto, la función 'rename' ignora los errores si la columna no tiene el mismo nombre\n",
    "consumo_df.info()"
   ]
  },
  {
   "cell_type": "code",
   "execution_count": 5,
   "metadata": {},
   "outputs": [
    {
     "data": {
      "text/html": [
       "<div>\n",
       "<style scoped>\n",
       "    .dataframe tbody tr th:only-of-type {\n",
       "        vertical-align: middle;\n",
       "    }\n",
       "\n",
       "    .dataframe tbody tr th {\n",
       "        vertical-align: top;\n",
       "    }\n",
       "\n",
       "    .dataframe thead th {\n",
       "        text-align: right;\n",
       "    }\n",
       "</style>\n",
       "<table border=\"1\" class=\"dataframe\">\n",
       "  <thead>\n",
       "    <tr style=\"text-align: right;\">\n",
       "      <th></th>\n",
       "      <th>Total Nacional</th>\n",
       "      <th>Comunidades Autónomas</th>\n",
       "      <th>Producto consumido</th>\n",
       "      <th>Año</th>\n",
       "      <th>Total</th>\n",
       "    </tr>\n",
       "  </thead>\n",
       "  <tbody>\n",
       "    <tr>\n",
       "      <th>0</th>\n",
       "      <td>Total Nacional</td>\n",
       "      <td>NaN</td>\n",
       "      <td>Electricidad</td>\n",
       "      <td>2022</td>\n",
       "      <td>14.319.055</td>\n",
       "    </tr>\n",
       "    <tr>\n",
       "      <th>1</th>\n",
       "      <td>Total Nacional</td>\n",
       "      <td>NaN</td>\n",
       "      <td>Electricidad</td>\n",
       "      <td>2021</td>\n",
       "      <td>8.892.228</td>\n",
       "    </tr>\n",
       "    <tr>\n",
       "      <th>2</th>\n",
       "      <td>Total Nacional</td>\n",
       "      <td>NaN</td>\n",
       "      <td>Electricidad</td>\n",
       "      <td>2019</td>\n",
       "      <td>6.367.976</td>\n",
       "    </tr>\n",
       "    <tr>\n",
       "      <th>3</th>\n",
       "      <td>Total Nacional</td>\n",
       "      <td>NaN</td>\n",
       "      <td>Electricidad</td>\n",
       "      <td>2017</td>\n",
       "      <td>6.227.459</td>\n",
       "    </tr>\n",
       "    <tr>\n",
       "      <th>4</th>\n",
       "      <td>Total Nacional</td>\n",
       "      <td>NaN</td>\n",
       "      <td>Electricidad</td>\n",
       "      <td>2015</td>\n",
       "      <td>6.177.084</td>\n",
       "    </tr>\n",
       "    <tr>\n",
       "      <th>5</th>\n",
       "      <td>Total Nacional</td>\n",
       "      <td>01 Andalucía</td>\n",
       "      <td>Electricidad</td>\n",
       "      <td>2022</td>\n",
       "      <td>1.653.989</td>\n",
       "    </tr>\n",
       "    <tr>\n",
       "      <th>6</th>\n",
       "      <td>Total Nacional</td>\n",
       "      <td>01 Andalucía</td>\n",
       "      <td>Electricidad</td>\n",
       "      <td>2021</td>\n",
       "      <td>941.599</td>\n",
       "    </tr>\n",
       "  </tbody>\n",
       "</table>\n",
       "</div>"
      ],
      "text/plain": [
       "   Total Nacional Comunidades Autónomas Producto consumido   Año       Total\n",
       "0  Total Nacional                   NaN       Electricidad  2022  14.319.055\n",
       "1  Total Nacional                   NaN       Electricidad  2021   8.892.228\n",
       "2  Total Nacional                   NaN       Electricidad  2019   6.367.976\n",
       "3  Total Nacional                   NaN       Electricidad  2017   6.227.459\n",
       "4  Total Nacional                   NaN       Electricidad  2015   6.177.084\n",
       "5  Total Nacional          01 Andalucía       Electricidad  2022   1.653.989\n",
       "6  Total Nacional          01 Andalucía       Electricidad  2021     941.599"
      ]
     },
     "execution_count": 5,
     "metadata": {},
     "output_type": "execute_result"
    }
   ],
   "source": [
    "consumo_df.head(7)"
   ]
  },
  {
   "cell_type": "markdown",
   "metadata": {},
   "source": [
    "Comprobación de si hay datos nulos"
   ]
  },
  {
   "cell_type": "code",
   "execution_count": 6,
   "metadata": {},
   "outputs": [
    {
     "name": "stdout",
     "output_type": "stream",
     "text": [
      "Total Nacional           0\n",
      "Comunidades Autónomas    5\n",
      "Producto consumido       0\n",
      "Año                      0\n",
      "Total                    0\n",
      "dtype: int64\n"
     ]
    }
   ],
   "source": [
    "print(consumo_df.isnull().sum())"
   ]
  },
  {
   "cell_type": "markdown",
   "metadata": {},
   "source": [
    "Eliminamos los valores nulos en las comunidades autónomas, que representan el total nacional."
   ]
  },
  {
   "cell_type": "code",
   "execution_count": 7,
   "metadata": {},
   "outputs": [],
   "source": [
    "consumo_df.dropna(subset=[\"Comunidades Autónomas\"], inplace=True)"
   ]
  },
  {
   "cell_type": "markdown",
   "metadata": {},
   "source": [
    "Eliminamos las columnas \"Total Nacional\" y \"Producto consumido\", ya que, todos los registros contienen el mismo valor en ambas columnas"
   ]
  },
  {
   "cell_type": "code",
   "execution_count": 8,
   "metadata": {},
   "outputs": [],
   "source": [
    "consumo_df.drop(columns=[\"Total Nacional\", \"Producto consumido\"], inplace=True)"
   ]
  },
  {
   "cell_type": "markdown",
   "metadata": {},
   "source": [
    "Para cada valor de la columna \"Comunidades y Ciudades Autónomas\", eliminamos los 3 primeros carácteres"
   ]
  },
  {
   "cell_type": "code",
   "execution_count": 9,
   "metadata": {},
   "outputs": [],
   "source": [
    "consumo_df[\"Comunidades Autónomas\"] = consumo_df[\"Comunidades Autónomas\"].str.replace(r\"\\b\\d{2} \", \"\", regex=True)"
   ]
  },
  {
   "cell_type": "code",
   "execution_count": 10,
   "metadata": {},
   "outputs": [
    {
     "data": {
      "text/html": [
       "<div>\n",
       "<style scoped>\n",
       "    .dataframe tbody tr th:only-of-type {\n",
       "        vertical-align: middle;\n",
       "    }\n",
       "\n",
       "    .dataframe tbody tr th {\n",
       "        vertical-align: top;\n",
       "    }\n",
       "\n",
       "    .dataframe thead th {\n",
       "        text-align: right;\n",
       "    }\n",
       "</style>\n",
       "<table border=\"1\" class=\"dataframe\">\n",
       "  <thead>\n",
       "    <tr style=\"text-align: right;\">\n",
       "      <th></th>\n",
       "      <th>Comunidades Autónomas</th>\n",
       "      <th>Año</th>\n",
       "      <th>Total</th>\n",
       "    </tr>\n",
       "  </thead>\n",
       "  <tbody>\n",
       "    <tr>\n",
       "      <th>5</th>\n",
       "      <td>Andalucía</td>\n",
       "      <td>2022</td>\n",
       "      <td>1.653.989</td>\n",
       "    </tr>\n",
       "    <tr>\n",
       "      <th>6</th>\n",
       "      <td>Andalucía</td>\n",
       "      <td>2021</td>\n",
       "      <td>941.599</td>\n",
       "    </tr>\n",
       "    <tr>\n",
       "      <th>7</th>\n",
       "      <td>Andalucía</td>\n",
       "      <td>2019</td>\n",
       "      <td>637.486</td>\n",
       "    </tr>\n",
       "    <tr>\n",
       "      <th>8</th>\n",
       "      <td>Andalucía</td>\n",
       "      <td>2017</td>\n",
       "      <td>603.104</td>\n",
       "    </tr>\n",
       "    <tr>\n",
       "      <th>9</th>\n",
       "      <td>Andalucía</td>\n",
       "      <td>2015</td>\n",
       "      <td>572.742</td>\n",
       "    </tr>\n",
       "  </tbody>\n",
       "</table>\n",
       "</div>"
      ],
      "text/plain": [
       "  Comunidades Autónomas   Año      Total\n",
       "5             Andalucía  2022  1.653.989\n",
       "6             Andalucía  2021    941.599\n",
       "7             Andalucía  2019    637.486\n",
       "8             Andalucía  2017    603.104\n",
       "9             Andalucía  2015    572.742"
      ]
     },
     "execution_count": 10,
     "metadata": {},
     "output_type": "execute_result"
    }
   ],
   "source": [
    "consumo_df.head()"
   ]
  },
  {
   "cell_type": "markdown",
   "metadata": {},
   "source": [
    "## Dispositivos de energía renovable"
   ]
  },
  {
   "cell_type": "code",
   "execution_count": null,
   "metadata": {},
   "outputs": [],
   "source": []
  },
  {
   "cell_type": "markdown",
   "metadata": {},
   "source": [
    "## Distribución de edad de la población española"
   ]
  },
  {
   "cell_type": "code",
   "execution_count": 2,
   "metadata": {},
   "outputs": [
    {
     "name": "stdout",
     "output_type": "stream",
     "text": [
      "<class 'pandas.core.frame.DataFrame'>\n",
      "RangeIndex: 12672 entries, 0 to 12671\n",
      "Data columns (total 8 columns):\n",
      " #   Column                            Non-Null Count  Dtype \n",
      "---  ------                            --------------  ----- \n",
      " 0   Total Nacional                    12672 non-null  object\n",
      " 1   Comunidades y Ciudades Autónomas  12496 non-null  object\n",
      " 2   Provincias                        9152 non-null   object\n",
      " 3   Españoles/Extranjeros             12672 non-null  object\n",
      " 4   Edad (grupos quinquenales)        12672 non-null  object\n",
      " 5   Sexo                              12672 non-null  object\n",
      " 6   Periodo                           12672 non-null  object\n",
      " 7   Total                             12672 non-null  object\n",
      "dtypes: object(8)\n",
      "memory usage: 792.1+ KB\n"
     ]
    }
   ],
   "source": [
    "edad_df=pd.read_csv(RAW_DATA_PATH+\"Distribución de edad de la población española.csv\", sep = \";\", encoding = \"latin\")\n",
    "\n",
    "edad_df.info()"
   ]
  },
  {
   "cell_type": "code",
   "execution_count": 3,
   "metadata": {},
   "outputs": [
    {
     "data": {
      "text/html": [
       "<div>\n",
       "<style scoped>\n",
       "    .dataframe tbody tr th:only-of-type {\n",
       "        vertical-align: middle;\n",
       "    }\n",
       "\n",
       "    .dataframe tbody tr th {\n",
       "        vertical-align: top;\n",
       "    }\n",
       "\n",
       "    .dataframe thead th {\n",
       "        text-align: right;\n",
       "    }\n",
       "</style>\n",
       "<table border=\"1\" class=\"dataframe\">\n",
       "  <thead>\n",
       "    <tr style=\"text-align: right;\">\n",
       "      <th></th>\n",
       "      <th>Total Nacional</th>\n",
       "      <th>Comunidades y Ciudades Autónomas</th>\n",
       "      <th>Provincias</th>\n",
       "      <th>Españoles/Extranjeros</th>\n",
       "      <th>Edad (grupos quinquenales)</th>\n",
       "      <th>Sexo</th>\n",
       "      <th>Periodo</th>\n",
       "      <th>Total</th>\n",
       "    </tr>\n",
       "  </thead>\n",
       "  <tbody>\n",
       "    <tr>\n",
       "      <th>592</th>\n",
       "      <td>Total Nacional</td>\n",
       "      <td>01 Andalucía</td>\n",
       "      <td>11 Cádiz</td>\n",
       "      <td>Total</td>\n",
       "      <td>De 35 a 39 años</td>\n",
       "      <td>Total</td>\n",
       "      <td>1 de enero de 2022</td>\n",
       "      <td>83.985</td>\n",
       "    </tr>\n",
       "    <tr>\n",
       "      <th>593</th>\n",
       "      <td>Total Nacional</td>\n",
       "      <td>01 Andalucía</td>\n",
       "      <td>11 Cádiz</td>\n",
       "      <td>Total</td>\n",
       "      <td>De 35 a 39 años</td>\n",
       "      <td>Total</td>\n",
       "      <td>1 de enero de 2021</td>\n",
       "      <td>87.048</td>\n",
       "    </tr>\n",
       "    <tr>\n",
       "      <th>594</th>\n",
       "      <td>Total Nacional</td>\n",
       "      <td>01 Andalucía</td>\n",
       "      <td>11 Cádiz</td>\n",
       "      <td>Total</td>\n",
       "      <td>De 35 a 39 años</td>\n",
       "      <td>Total</td>\n",
       "      <td>1 de enero de 2020</td>\n",
       "      <td>90.338</td>\n",
       "    </tr>\n",
       "    <tr>\n",
       "      <th>595</th>\n",
       "      <td>Total Nacional</td>\n",
       "      <td>01 Andalucía</td>\n",
       "      <td>11 Cádiz</td>\n",
       "      <td>Total</td>\n",
       "      <td>De 35 a 39 años</td>\n",
       "      <td>Total</td>\n",
       "      <td>1 de enero de 2019</td>\n",
       "      <td>93.464</td>\n",
       "    </tr>\n",
       "    <tr>\n",
       "      <th>596</th>\n",
       "      <td>Total Nacional</td>\n",
       "      <td>01 Andalucía</td>\n",
       "      <td>11 Cádiz</td>\n",
       "      <td>Total</td>\n",
       "      <td>De 35 a 39 años</td>\n",
       "      <td>Total</td>\n",
       "      <td>1 de enero de 2018</td>\n",
       "      <td>96.477</td>\n",
       "    </tr>\n",
       "    <tr>\n",
       "      <th>597</th>\n",
       "      <td>Total Nacional</td>\n",
       "      <td>01 Andalucía</td>\n",
       "      <td>11 Cádiz</td>\n",
       "      <td>Total</td>\n",
       "      <td>De 35 a 39 años</td>\n",
       "      <td>Total</td>\n",
       "      <td>1 de enero de 2017</td>\n",
       "      <td>99.754</td>\n",
       "    </tr>\n",
       "    <tr>\n",
       "      <th>598</th>\n",
       "      <td>Total Nacional</td>\n",
       "      <td>01 Andalucía</td>\n",
       "      <td>11 Cádiz</td>\n",
       "      <td>Total</td>\n",
       "      <td>De 35 a 39 años</td>\n",
       "      <td>Total</td>\n",
       "      <td>1 de enero de 2016</td>\n",
       "      <td>102.768</td>\n",
       "    </tr>\n",
       "    <tr>\n",
       "      <th>599</th>\n",
       "      <td>Total Nacional</td>\n",
       "      <td>01 Andalucía</td>\n",
       "      <td>11 Cádiz</td>\n",
       "      <td>Total</td>\n",
       "      <td>De 35 a 39 años</td>\n",
       "      <td>Total</td>\n",
       "      <td>1 de enero de 2015</td>\n",
       "      <td>104.523</td>\n",
       "    </tr>\n",
       "  </tbody>\n",
       "</table>\n",
       "</div>"
      ],
      "text/plain": [
       "     Total Nacional Comunidades y Ciudades Autónomas Provincias  \\\n",
       "592  Total Nacional                     01 Andalucía   11 Cádiz   \n",
       "593  Total Nacional                     01 Andalucía   11 Cádiz   \n",
       "594  Total Nacional                     01 Andalucía   11 Cádiz   \n",
       "595  Total Nacional                     01 Andalucía   11 Cádiz   \n",
       "596  Total Nacional                     01 Andalucía   11 Cádiz   \n",
       "597  Total Nacional                     01 Andalucía   11 Cádiz   \n",
       "598  Total Nacional                     01 Andalucía   11 Cádiz   \n",
       "599  Total Nacional                     01 Andalucía   11 Cádiz   \n",
       "\n",
       "    Españoles/Extranjeros Edad (grupos quinquenales)   Sexo  \\\n",
       "592                 Total            De 35 a 39 años  Total   \n",
       "593                 Total            De 35 a 39 años  Total   \n",
       "594                 Total            De 35 a 39 años  Total   \n",
       "595                 Total            De 35 a 39 años  Total   \n",
       "596                 Total            De 35 a 39 años  Total   \n",
       "597                 Total            De 35 a 39 años  Total   \n",
       "598                 Total            De 35 a 39 años  Total   \n",
       "599                 Total            De 35 a 39 años  Total   \n",
       "\n",
       "                Periodo    Total  \n",
       "592  1 de enero de 2022   83.985  \n",
       "593  1 de enero de 2021   87.048  \n",
       "594  1 de enero de 2020   90.338  \n",
       "595  1 de enero de 2019   93.464  \n",
       "596  1 de enero de 2018   96.477  \n",
       "597  1 de enero de 2017   99.754  \n",
       "598  1 de enero de 2016  102.768  \n",
       "599  1 de enero de 2015  104.523  "
      ]
     },
     "execution_count": 3,
     "metadata": {},
     "output_type": "execute_result"
    }
   ],
   "source": [
    "# ejemplo de los datos de la tabla para una provincia\n",
    "edad_df.head(600).tail(8)"
   ]
  },
  {
   "cell_type": "code",
   "execution_count": 4,
   "metadata": {},
   "outputs": [
    {
     "name": "stdout",
     "output_type": "stream",
     "text": [
      "Total Nacional           1\n",
      "Españoles/Extranjeros    1\n",
      "Sexo                     1\n",
      "dtype: int64\n"
     ]
    }
   ],
   "source": [
    "print(edad_df[['Total Nacional', 'Españoles/Extranjeros','Sexo']].nunique())"
   ]
  },
  {
   "cell_type": "markdown",
   "metadata": {},
   "source": [
    "Observamos que las columnas 'Total Nacional', 'Españoles/Extranjeros' y 'Sexo' no aportan ninguna información, por lo que se pueden eliminar."
   ]
  },
  {
   "cell_type": "code",
   "execution_count": 5,
   "metadata": {},
   "outputs": [],
   "source": [
    "edad_df.drop(columns=['Total Nacional', 'Españoles/Extranjeros', 'Sexo'], inplace=True)"
   ]
  },
  {
   "cell_type": "markdown",
   "metadata": {},
   "source": [
    "Hemos decidido quedarnos solo con los datos del 2022, por lo que se pueden eliminar las filas de otros años y después la columna 'Periodo'."
   ]
  },
  {
   "cell_type": "code",
   "execution_count": 6,
   "metadata": {},
   "outputs": [],
   "source": [
    "edad_df.drop(edad_df[edad_df['Periodo'] != '1 de enero de 2022'].index, inplace=True)\n",
    "edad_df.drop(columns=['Periodo'], inplace=True)"
   ]
  },
  {
   "cell_type": "markdown",
   "metadata": {},
   "source": [
    "Los primeros registros del dataset son los datos a nivel nacional, donde la comunidad autónoma y la provincia son valores nulos, por lo que se pueden eliminar. Además, se eliminará la columna 'Comunidades y Ciudades Autónomas' y las filas con los totales en 'Edad'."
   ]
  },
  {
   "cell_type": "code",
   "execution_count": 7,
   "metadata": {},
   "outputs": [
    {
     "data": {
      "text/html": [
       "<div>\n",
       "<style scoped>\n",
       "    .dataframe tbody tr th:only-of-type {\n",
       "        vertical-align: middle;\n",
       "    }\n",
       "\n",
       "    .dataframe tbody tr th {\n",
       "        vertical-align: top;\n",
       "    }\n",
       "\n",
       "    .dataframe thead th {\n",
       "        text-align: right;\n",
       "    }\n",
       "</style>\n",
       "<table border=\"1\" class=\"dataframe\">\n",
       "  <thead>\n",
       "    <tr style=\"text-align: right;\">\n",
       "      <th></th>\n",
       "      <th>Comunidades y Ciudades Autónomas</th>\n",
       "      <th>Provincias</th>\n",
       "      <th>Edad (grupos quinquenales)</th>\n",
       "      <th>Total</th>\n",
       "    </tr>\n",
       "  </thead>\n",
       "  <tbody>\n",
       "    <tr>\n",
       "      <th>0</th>\n",
       "      <td>NaN</td>\n",
       "      <td>NaN</td>\n",
       "      <td>Todas las edades</td>\n",
       "      <td>47.475.420</td>\n",
       "    </tr>\n",
       "    <tr>\n",
       "      <th>8</th>\n",
       "      <td>NaN</td>\n",
       "      <td>NaN</td>\n",
       "      <td>De 0 a 4 años</td>\n",
       "      <td>1.809.768</td>\n",
       "    </tr>\n",
       "    <tr>\n",
       "      <th>16</th>\n",
       "      <td>NaN</td>\n",
       "      <td>NaN</td>\n",
       "      <td>De 5 a 9 años</td>\n",
       "      <td>2.236.911</td>\n",
       "    </tr>\n",
       "    <tr>\n",
       "      <th>24</th>\n",
       "      <td>NaN</td>\n",
       "      <td>NaN</td>\n",
       "      <td>De 10 a 14 años</td>\n",
       "      <td>2.517.373</td>\n",
       "    </tr>\n",
       "    <tr>\n",
       "      <th>32</th>\n",
       "      <td>NaN</td>\n",
       "      <td>NaN</td>\n",
       "      <td>De 15 a 19 años</td>\n",
       "      <td>2.471.599</td>\n",
       "    </tr>\n",
       "  </tbody>\n",
       "</table>\n",
       "</div>"
      ],
      "text/plain": [
       "   Comunidades y Ciudades Autónomas Provincias Edad (grupos quinquenales)  \\\n",
       "0                               NaN        NaN           Todas las edades   \n",
       "8                               NaN        NaN              De 0 a 4 años   \n",
       "16                              NaN        NaN              De 5 a 9 años   \n",
       "24                              NaN        NaN          De 10 a 14 años     \n",
       "32                              NaN        NaN          De 15 a 19 años     \n",
       "\n",
       "         Total  \n",
       "0   47.475.420  \n",
       "8    1.809.768  \n",
       "16   2.236.911  \n",
       "24   2.517.373  \n",
       "32   2.471.599  "
      ]
     },
     "execution_count": 7,
     "metadata": {},
     "output_type": "execute_result"
    }
   ],
   "source": [
    "edad_df.head()"
   ]
  },
  {
   "cell_type": "code",
   "execution_count": 8,
   "metadata": {},
   "outputs": [],
   "source": [
    "edad_df.dropna(subset=[\"Comunidades y Ciudades Autónomas\", \"Provincias\"], inplace=True)\n",
    "edad_df.drop(columns=['Comunidades y Ciudades Autónomas'], inplace=True)\n",
    "edad_df.drop(edad_df[edad_df['Edad (grupos quinquenales)'] == 'Todas las edades'].index, inplace=True)"
   ]
  },
  {
   "cell_type": "markdown",
   "metadata": {},
   "source": [
    "Se eliminará el número que identifica a cada provincia para dejar solo el nombre."
   ]
  },
  {
   "cell_type": "code",
   "execution_count": 9,
   "metadata": {},
   "outputs": [],
   "source": [
    "edad_df[\"Provincias\"] = edad_df[\"Provincias\"].str.replace(r\"^\\d+\\s\", \"\", regex=True)"
   ]
  },
  {
   "cell_type": "markdown",
   "metadata": {},
   "source": [
    "Una vez finalizado el preprocesamiento, el dataset queda con 1092 entradas y 3 columnas."
   ]
  },
  {
   "cell_type": "code",
   "execution_count": 36,
   "metadata": {},
   "outputs": [
    {
     "data": {
      "text/html": [
       "<div>\n",
       "<style scoped>\n",
       "    .dataframe tbody tr th:only-of-type {\n",
       "        vertical-align: middle;\n",
       "    }\n",
       "\n",
       "    .dataframe tbody tr th {\n",
       "        vertical-align: top;\n",
       "    }\n",
       "\n",
       "    .dataframe thead th {\n",
       "        text-align: right;\n",
       "    }\n",
       "</style>\n",
       "<table border=\"1\" class=\"dataframe\">\n",
       "  <thead>\n",
       "    <tr style=\"text-align: right;\">\n",
       "      <th></th>\n",
       "      <th>Provincias</th>\n",
       "      <th>Edad (grupos quinquenales)</th>\n",
       "      <th>Total</th>\n",
       "    </tr>\n",
       "  </thead>\n",
       "  <tbody>\n",
       "    <tr>\n",
       "      <th>360</th>\n",
       "      <td>Almería</td>\n",
       "      <td>De 0 a 4 años</td>\n",
       "      <td>36.360</td>\n",
       "    </tr>\n",
       "    <tr>\n",
       "      <th>368</th>\n",
       "      <td>Almería</td>\n",
       "      <td>De 5 a 9 años</td>\n",
       "      <td>41.033</td>\n",
       "    </tr>\n",
       "    <tr>\n",
       "      <th>376</th>\n",
       "      <td>Almería</td>\n",
       "      <td>De 10 a 14 años</td>\n",
       "      <td>43.411</td>\n",
       "    </tr>\n",
       "    <tr>\n",
       "      <th>384</th>\n",
       "      <td>Almería</td>\n",
       "      <td>De 15 a 19 años</td>\n",
       "      <td>40.722</td>\n",
       "    </tr>\n",
       "    <tr>\n",
       "      <th>392</th>\n",
       "      <td>Almería</td>\n",
       "      <td>De 20 a 24 años</td>\n",
       "      <td>41.532</td>\n",
       "    </tr>\n",
       "  </tbody>\n",
       "</table>\n",
       "</div>"
      ],
      "text/plain": [
       "    Provincias Edad (grupos quinquenales)   Total\n",
       "360    Almería              De 0 a 4 años  36.360\n",
       "368    Almería              De 5 a 9 años  41.033\n",
       "376    Almería          De 10 a 14 años    43.411\n",
       "384    Almería          De 15 a 19 años    40.722\n",
       "392    Almería            De 20 a 24 años  41.532"
      ]
     },
     "execution_count": 36,
     "metadata": {},
     "output_type": "execute_result"
    }
   ],
   "source": [
    "edad_df.head()"
   ]
  },
  {
   "cell_type": "code",
   "execution_count": 10,
   "metadata": {},
   "outputs": [
    {
     "name": "stdout",
     "output_type": "stream",
     "text": [
      "<class 'pandas.core.frame.DataFrame'>\n",
      "Index: 1092 entries, 360 to 12664\n",
      "Data columns (total 3 columns):\n",
      " #   Column                      Non-Null Count  Dtype \n",
      "---  ------                      --------------  ----- \n",
      " 0   Provincias                  1092 non-null   object\n",
      " 1   Edad (grupos quinquenales)  1092 non-null   object\n",
      " 2   Total                       1092 non-null   object\n",
      "dtypes: object(3)\n",
      "memory usage: 34.1+ KB\n"
     ]
    }
   ],
   "source": [
    "edad_df.info()"
   ]
  },
  {
   "cell_type": "markdown",
   "metadata": {},
   "source": [
    "## Intensidad de uso en viviendas"
   ]
  },
  {
   "cell_type": "code",
   "execution_count": 12,
   "metadata": {},
   "outputs": [
    {
     "data": {
      "text/html": [
       "<div>\n",
       "<style scoped>\n",
       "    .dataframe tbody tr th:only-of-type {\n",
       "        vertical-align: middle;\n",
       "    }\n",
       "\n",
       "    .dataframe tbody tr th {\n",
       "        vertical-align: top;\n",
       "    }\n",
       "\n",
       "    .dataframe thead th {\n",
       "        text-align: right;\n",
       "    }\n",
       "</style>\n",
       "<table border=\"1\" class=\"dataframe\">\n",
       "  <thead>\n",
       "    <tr style=\"text-align: right;\">\n",
       "      <th></th>\n",
       "      <th>Total Nacional</th>\n",
       "      <th>Comunidades Autónomas</th>\n",
       "      <th>Provincias</th>\n",
       "      <th>Municipios</th>\n",
       "      <th>Consumo eléctrico</th>\n",
       "      <th>Total</th>\n",
       "    </tr>\n",
       "  </thead>\n",
       "  <tbody>\n",
       "    <tr>\n",
       "      <th>0</th>\n",
       "      <td>Total Nacional</td>\n",
       "      <td>NaN</td>\n",
       "      <td>NaN</td>\n",
       "      <td>NaN</td>\n",
       "      <td>Viviendas totales</td>\n",
       "      <td>26.623.708</td>\n",
       "    </tr>\n",
       "    <tr>\n",
       "      <th>1</th>\n",
       "      <td>Total Nacional</td>\n",
       "      <td>NaN</td>\n",
       "      <td>NaN</td>\n",
       "      <td>NaN</td>\n",
       "      <td>Viviendas vacías</td>\n",
       "      <td>3.837.328</td>\n",
       "    </tr>\n",
       "    <tr>\n",
       "      <th>2</th>\n",
       "      <td>Total Nacional</td>\n",
       "      <td>NaN</td>\n",
       "      <td>NaN</td>\n",
       "      <td>NaN</td>\n",
       "      <td>Mediana consumo anual</td>\n",
       "      <td>2.196</td>\n",
       "    </tr>\n",
       "    <tr>\n",
       "      <th>3</th>\n",
       "      <td>Total Nacional</td>\n",
       "      <td>NaN</td>\n",
       "      <td>NaN</td>\n",
       "      <td>NaN</td>\n",
       "      <td>Viviendas con bajo consumo</td>\n",
       "      <td>943.924</td>\n",
       "    </tr>\n",
       "    <tr>\n",
       "      <th>4</th>\n",
       "      <td>Total Nacional</td>\n",
       "      <td>NaN</td>\n",
       "      <td>NaN</td>\n",
       "      <td>NaN</td>\n",
       "      <td>Viviendas de uso esporádico</td>\n",
       "      <td>2.514.511</td>\n",
       "    </tr>\n",
       "  </tbody>\n",
       "</table>\n",
       "</div>"
      ],
      "text/plain": [
       "   Total Nacional Comunidades Autónomas Provincias  Municipios  \\\n",
       "0  Total Nacional                   NaN        NaN         NaN   \n",
       "1  Total Nacional                   NaN        NaN         NaN   \n",
       "2  Total Nacional                   NaN        NaN         NaN   \n",
       "3  Total Nacional                   NaN        NaN         NaN   \n",
       "4  Total Nacional                   NaN        NaN         NaN   \n",
       "\n",
       "             Consumo eléctrico       Total  \n",
       "0            Viviendas totales  26.623.708  \n",
       "1             Viviendas vacías   3.837.328  \n",
       "2        Mediana consumo anual       2.196  \n",
       "3   Viviendas con bajo consumo     943.924  \n",
       "4  Viviendas de uso esporádico   2.514.511  "
      ]
     },
     "execution_count": 12,
     "metadata": {},
     "output_type": "execute_result"
    }
   ],
   "source": [
    "import pandas as pd \n",
    "\n",
    "intensidad_df = pd.read_csv(RAW_DATA_PATH + \"Intensidad de uso en viviendas.csv\", sep=\";\", encoding=\"latin1\")\n",
    "intensidad_df.rename(columns={\"Comunidades y Ciudades Autónomas\": \"Comunidades Autónomas\"}, inplace=True)\n",
    "intensidad_df.head()"
   ]
  },
  {
   "cell_type": "markdown",
   "metadata": {},
   "source": [
    "Comprobamos si hay valores nulos en cada una de las columnas del dataframe"
   ]
  },
  {
   "cell_type": "code",
   "execution_count": 18,
   "metadata": {},
   "outputs": [
    {
     "data": {
      "text/plain": [
       "Comunidades Autónomas    0\n",
       "Provincias               0\n",
       "Consumo eléctrico        0\n",
       "Total                    0\n",
       "dtype: int64"
      ]
     },
     "execution_count": 18,
     "metadata": {},
     "output_type": "execute_result"
    }
   ],
   "source": [
    "intensidad_df.isnull().sum()"
   ]
  },
  {
   "cell_type": "code",
   "execution_count": 14,
   "metadata": {},
   "outputs": [
    {
     "data": {
      "text/plain": [
       "954"
      ]
     },
     "execution_count": 14,
     "metadata": {},
     "output_type": "execute_result"
    }
   ],
   "source": [
    "len(intensidad_df[\"Comunidades Autónomas\"].tolist())"
   ]
  },
  {
   "cell_type": "markdown",
   "metadata": {},
   "source": [
    "En este proyecto se realizarán una serie de analísis de datos teniendo en cuenta únicamente las comunidades autónomas y las provincias, por lo que se elimina la columna \"Municipios\",ya que no nos ofrece información útil para el estudio.\n",
    "\n",
    "Además, se elimina la columna \"Total Nacional\" ya que tampoco aporta ninguna información."
   ]
  },
  {
   "cell_type": "code",
   "execution_count": 15,
   "metadata": {},
   "outputs": [],
   "source": [
    "intensidad_df.drop(columns=[\"Municipios\",\"Total Nacional\"], inplace=True)"
   ]
  },
  {
   "cell_type": "markdown",
   "metadata": {},
   "source": [
    "Eliminamos las filas con valores en \"Provincia\" y \"Comunidad Autónoma\" nulos. Además de la columna Comunidad Autónoma."
   ]
  },
  {
   "cell_type": "code",
   "execution_count": 21,
   "metadata": {},
   "outputs": [],
   "source": [
    "intensidad_df.dropna(subset=[\"Provincias\"],inplace=True)\n",
    "intensidad_df.drop(columns=[\"Comunidades Autónomas\"], inplace=True)"
   ]
  },
  {
   "cell_type": "markdown",
   "metadata": {},
   "source": [
    "Quitamos el número de la provincia para dejar solo el nombre."
   ]
  },
  {
   "cell_type": "code",
   "execution_count": 19,
   "metadata": {},
   "outputs": [],
   "source": [
    "intensidad_df[\"Provincias\"] = intensidad_df[\"Provincias\"].str.replace(r\"^\\d+\\s\", \"\", regex=True)"
   ]
  },
  {
   "cell_type": "markdown",
   "metadata": {},
   "source": [
    "## Producción de energía por lugar"
   ]
  },
  {
   "cell_type": "code",
   "execution_count": null,
   "metadata": {},
   "outputs": [],
   "source": []
  },
  {
   "cell_type": "markdown",
   "metadata": {},
   "source": [
    "## Renta por hogar por comunidades autónomas"
   ]
  },
  {
   "cell_type": "code",
   "execution_count": 4,
   "metadata": {},
   "outputs": [
    {
     "data": {
      "text/html": [
       "<div>\n",
       "<style scoped>\n",
       "    .dataframe tbody tr th:only-of-type {\n",
       "        vertical-align: middle;\n",
       "    }\n",
       "\n",
       "    .dataframe tbody tr th {\n",
       "        vertical-align: top;\n",
       "    }\n",
       "\n",
       "    .dataframe thead th {\n",
       "        text-align: right;\n",
       "    }\n",
       "</style>\n",
       "<table border=\"1\" class=\"dataframe\">\n",
       "  <thead>\n",
       "    <tr style=\"text-align: right;\">\n",
       "      <th></th>\n",
       "      <th>Comunidades y Ciudades Autónomas</th>\n",
       "      <th>Renta anual neta media por hogar</th>\n",
       "      <th>Periodo</th>\n",
       "      <th>Total</th>\n",
       "    </tr>\n",
       "  </thead>\n",
       "  <tbody>\n",
       "    <tr>\n",
       "      <th>0</th>\n",
       "      <td>Total Nacional</td>\n",
       "      <td>Renta neta media por hogar</td>\n",
       "      <td>2022</td>\n",
       "      <td>32.216</td>\n",
       "    </tr>\n",
       "    <tr>\n",
       "      <th>1</th>\n",
       "      <td>Total Nacional</td>\n",
       "      <td>Renta neta media por hogar</td>\n",
       "      <td>2021</td>\n",
       "      <td>30.552</td>\n",
       "    </tr>\n",
       "    <tr>\n",
       "      <th>2</th>\n",
       "      <td>Total Nacional</td>\n",
       "      <td>Renta neta media por hogar</td>\n",
       "      <td>2020</td>\n",
       "      <td>30.690</td>\n",
       "    </tr>\n",
       "    <tr>\n",
       "      <th>3</th>\n",
       "      <td>Total Nacional</td>\n",
       "      <td>Renta media por hogar (con alquiler imputado)</td>\n",
       "      <td>2022</td>\n",
       "      <td>37.363</td>\n",
       "    </tr>\n",
       "    <tr>\n",
       "      <th>4</th>\n",
       "      <td>Total Nacional</td>\n",
       "      <td>Renta media por hogar (con alquiler imputado)</td>\n",
       "      <td>2021</td>\n",
       "      <td>35.497</td>\n",
       "    </tr>\n",
       "  </tbody>\n",
       "</table>\n",
       "</div>"
      ],
      "text/plain": [
       "  Comunidades y Ciudades Autónomas  \\\n",
       "0                   Total Nacional   \n",
       "1                   Total Nacional   \n",
       "2                   Total Nacional   \n",
       "3                   Total Nacional   \n",
       "4                   Total Nacional   \n",
       "\n",
       "                Renta anual neta media por hogar  Periodo   Total  \n",
       "0                     Renta neta media por hogar     2022  32.216  \n",
       "1                     Renta neta media por hogar     2021  30.552  \n",
       "2                     Renta neta media por hogar     2020  30.690  \n",
       "3  Renta media por hogar (con alquiler imputado)     2022  37.363  \n",
       "4  Renta media por hogar (con alquiler imputado)     2021  35.497  "
      ]
     },
     "execution_count": 4,
     "metadata": {},
     "output_type": "execute_result"
    }
   ],
   "source": [
    "# Leer el archivo CSV con un delimitador y manejo de errores por tildes\n",
    "renta_df = pd.read_csv(RAW_DATA_PATH+\"Renta por hogar por comunidades autónomas.csv\", sep = \";\", encoding = \"latin\")\n",
    "\n",
    "renta_df.head()"
   ]
  },
  {
   "cell_type": "code",
   "execution_count": 5,
   "metadata": {},
   "outputs": [
    {
     "data": {
      "text/plain": [
       "Comunidades y Ciudades Autónomas    0\n",
       "Renta anual neta media por hogar    0\n",
       "Periodo                             0\n",
       "Total                               0\n",
       "dtype: int64"
      ]
     },
     "execution_count": 5,
     "metadata": {},
     "output_type": "execute_result"
    }
   ],
   "source": [
    "#Comprobar si hay valores nulos\n",
    "renta_df.isnull().sum()"
   ]
  },
  {
   "cell_type": "code",
   "execution_count": 6,
   "metadata": {},
   "outputs": [
    {
     "data": {
      "text/html": [
       "<div>\n",
       "<style scoped>\n",
       "    .dataframe tbody tr th:only-of-type {\n",
       "        vertical-align: middle;\n",
       "    }\n",
       "\n",
       "    .dataframe tbody tr th {\n",
       "        vertical-align: top;\n",
       "    }\n",
       "\n",
       "    .dataframe thead th {\n",
       "        text-align: right;\n",
       "    }\n",
       "</style>\n",
       "<table border=\"1\" class=\"dataframe\">\n",
       "  <thead>\n",
       "    <tr style=\"text-align: right;\">\n",
       "      <th></th>\n",
       "      <th>Comunidades</th>\n",
       "      <th>Renta anual neta media por hogar</th>\n",
       "      <th>Periodo</th>\n",
       "      <th>Total</th>\n",
       "    </tr>\n",
       "  </thead>\n",
       "  <tbody>\n",
       "    <tr>\n",
       "      <th>0</th>\n",
       "      <td>Total Nacional</td>\n",
       "      <td>Renta neta media por hogar</td>\n",
       "      <td>2022</td>\n",
       "      <td>32.216</td>\n",
       "    </tr>\n",
       "    <tr>\n",
       "      <th>1</th>\n",
       "      <td>Total Nacional</td>\n",
       "      <td>Renta neta media por hogar</td>\n",
       "      <td>2021</td>\n",
       "      <td>30.552</td>\n",
       "    </tr>\n",
       "    <tr>\n",
       "      <th>2</th>\n",
       "      <td>Total Nacional</td>\n",
       "      <td>Renta neta media por hogar</td>\n",
       "      <td>2020</td>\n",
       "      <td>30.690</td>\n",
       "    </tr>\n",
       "    <tr>\n",
       "      <th>3</th>\n",
       "      <td>Total Nacional</td>\n",
       "      <td>Renta media por hogar (con alquiler imputado)</td>\n",
       "      <td>2022</td>\n",
       "      <td>37.363</td>\n",
       "    </tr>\n",
       "    <tr>\n",
       "      <th>4</th>\n",
       "      <td>Total Nacional</td>\n",
       "      <td>Renta media por hogar (con alquiler imputado)</td>\n",
       "      <td>2021</td>\n",
       "      <td>35.497</td>\n",
       "    </tr>\n",
       "  </tbody>\n",
       "</table>\n",
       "</div>"
      ],
      "text/plain": [
       "      Comunidades               Renta anual neta media por hogar  Periodo  \\\n",
       "0  Total Nacional                     Renta neta media por hogar     2022   \n",
       "1  Total Nacional                     Renta neta media por hogar     2021   \n",
       "2  Total Nacional                     Renta neta media por hogar     2020   \n",
       "3  Total Nacional  Renta media por hogar (con alquiler imputado)     2022   \n",
       "4  Total Nacional  Renta media por hogar (con alquiler imputado)     2021   \n",
       "\n",
       "    Total  \n",
       "0  32.216  \n",
       "1  30.552  \n",
       "2  30.690  \n",
       "3  37.363  \n",
       "4  35.497  "
      ]
     },
     "execution_count": 6,
     "metadata": {},
     "output_type": "execute_result"
    }
   ],
   "source": [
    "#Cambiar el nombre de la columna a simplemente \"Comunidades\".\n",
    "renta_df.rename(columns={'Comunidades y Ciudades Autónomas': 'Comunidades'}, inplace=True)\n",
    "\n",
    "renta_df.head()"
   ]
  },
  {
   "cell_type": "code",
   "execution_count": 7,
   "metadata": {},
   "outputs": [
    {
     "data": {
      "text/html": [
       "<div>\n",
       "<style scoped>\n",
       "    .dataframe tbody tr th:only-of-type {\n",
       "        vertical-align: middle;\n",
       "    }\n",
       "\n",
       "    .dataframe tbody tr th {\n",
       "        vertical-align: top;\n",
       "    }\n",
       "\n",
       "    .dataframe thead th {\n",
       "        text-align: right;\n",
       "    }\n",
       "</style>\n",
       "<table border=\"1\" class=\"dataframe\">\n",
       "  <thead>\n",
       "    <tr style=\"text-align: right;\">\n",
       "      <th></th>\n",
       "      <th>Comunidades</th>\n",
       "      <th>Periodo</th>\n",
       "      <th>Total</th>\n",
       "    </tr>\n",
       "  </thead>\n",
       "  <tbody>\n",
       "    <tr>\n",
       "      <th>0</th>\n",
       "      <td>Total Nacional</td>\n",
       "      <td>2022</td>\n",
       "      <td>32.216</td>\n",
       "    </tr>\n",
       "    <tr>\n",
       "      <th>1</th>\n",
       "      <td>Total Nacional</td>\n",
       "      <td>2021</td>\n",
       "      <td>30.552</td>\n",
       "    </tr>\n",
       "    <tr>\n",
       "      <th>2</th>\n",
       "      <td>Total Nacional</td>\n",
       "      <td>2020</td>\n",
       "      <td>30.690</td>\n",
       "    </tr>\n",
       "    <tr>\n",
       "      <th>6</th>\n",
       "      <td>01 Andalucía</td>\n",
       "      <td>2022</td>\n",
       "      <td>27.446</td>\n",
       "    </tr>\n",
       "    <tr>\n",
       "      <th>7</th>\n",
       "      <td>01 Andalucía</td>\n",
       "      <td>2021</td>\n",
       "      <td>25.601</td>\n",
       "    </tr>\n",
       "  </tbody>\n",
       "</table>\n",
       "</div>"
      ],
      "text/plain": [
       "      Comunidades  Periodo   Total\n",
       "0  Total Nacional     2022  32.216\n",
       "1  Total Nacional     2021  30.552\n",
       "2  Total Nacional     2020  30.690\n",
       "6    01 Andalucía     2022  27.446\n",
       "7    01 Andalucía     2021  25.601"
      ]
     },
     "execution_count": 7,
     "metadata": {},
     "output_type": "execute_result"
    }
   ],
   "source": [
    "#Eliminar filas que contienen la media de renta por hogar con alquiler imputado.\n",
    "renta_df = renta_df[renta_df['Renta anual neta media por hogar'] != 'Renta media por hogar (con alquiler imputado)']\n",
    "\n",
    "\n",
    "#Eliminar la columna \"Renta anual media por hogar\" pues no es relevante.\n",
    "renta_df.drop(columns='Renta anual neta media por hogar', inplace=True)\n",
    "\n",
    "renta_df.head()"
   ]
  },
  {
   "cell_type": "code",
   "execution_count": null,
   "metadata": {},
   "outputs": [],
   "source": [
    "#Eliminar los valores totales por comunidad\n",
    "renta_df  = renta_df[renta_df['Comunidades'] != 'Total Nacional']\n",
    "\n",
    "renta_df.head()"
   ]
  },
  {
   "cell_type": "code",
   "execution_count": null,
   "metadata": {},
   "outputs": [],
   "source": [
    "#Eliminar identificadores de las comunidades\n",
    "renta_df['Comunidades'] = renta_df['Comunidades'].str.replace(r'^\\d{2} ', '', regex=True)\n",
    "\n",
    "renta_df.head()"
   ]
  },
  {
   "cell_type": "markdown",
   "metadata": {},
   "source": [
    "## Salario medio de la población española"
   ]
  },
  {
   "cell_type": "code",
   "execution_count": 8,
   "metadata": {},
   "outputs": [
    {
     "data": {
      "text/html": [
       "<div>\n",
       "<style scoped>\n",
       "    .dataframe tbody tr th:only-of-type {\n",
       "        vertical-align: middle;\n",
       "    }\n",
       "\n",
       "    .dataframe tbody tr th {\n",
       "        vertical-align: top;\n",
       "    }\n",
       "\n",
       "    .dataframe thead th {\n",
       "        text-align: right;\n",
       "    }\n",
       "</style>\n",
       "<table border=\"1\" class=\"dataframe\">\n",
       "  <thead>\n",
       "    <tr style=\"text-align: right;\">\n",
       "      <th></th>\n",
       "      <th>Tipo de jornada</th>\n",
       "      <th>Comunidades y Ciudades Autonómas</th>\n",
       "      <th>Decil</th>\n",
       "      <th>Periodo</th>\n",
       "      <th>Total</th>\n",
       "    </tr>\n",
       "  </thead>\n",
       "  <tbody>\n",
       "    <tr>\n",
       "      <th>0</th>\n",
       "      <td>Total</td>\n",
       "      <td>Total Nacional</td>\n",
       "      <td>Total decil</td>\n",
       "      <td>2022</td>\n",
       "      <td>2.128,37</td>\n",
       "    </tr>\n",
       "    <tr>\n",
       "      <th>1</th>\n",
       "      <td>Total</td>\n",
       "      <td>Total Nacional</td>\n",
       "      <td>Total decil</td>\n",
       "      <td>2021</td>\n",
       "      <td>2.086,78</td>\n",
       "    </tr>\n",
       "    <tr>\n",
       "      <th>2</th>\n",
       "      <td>Total</td>\n",
       "      <td>Total Nacional</td>\n",
       "      <td>1</td>\n",
       "      <td>2022</td>\n",
       "      <td>623,30</td>\n",
       "    </tr>\n",
       "    <tr>\n",
       "      <th>3</th>\n",
       "      <td>Total</td>\n",
       "      <td>Total Nacional</td>\n",
       "      <td>1</td>\n",
       "      <td>2021</td>\n",
       "      <td>570,52</td>\n",
       "    </tr>\n",
       "    <tr>\n",
       "      <th>4</th>\n",
       "      <td>Total</td>\n",
       "      <td>Total Nacional</td>\n",
       "      <td>2</td>\n",
       "      <td>2022</td>\n",
       "      <td>1.138,68</td>\n",
       "    </tr>\n",
       "  </tbody>\n",
       "</table>\n",
       "</div>"
      ],
      "text/plain": [
       "  Tipo de jornada Comunidades y Ciudades Autonómas        Decil  Periodo  \\\n",
       "0           Total                   Total Nacional  Total decil     2022   \n",
       "1           Total                   Total Nacional  Total decil     2021   \n",
       "2           Total                   Total Nacional            1     2022   \n",
       "3           Total                   Total Nacional            1     2021   \n",
       "4           Total                   Total Nacional            2     2022   \n",
       "\n",
       "      Total  \n",
       "0  2.128,37  \n",
       "1  2.086,78  \n",
       "2    623,30  \n",
       "3    570,52  \n",
       "4  1.138,68  "
      ]
     },
     "execution_count": 8,
     "metadata": {},
     "output_type": "execute_result"
    }
   ],
   "source": [
    "# Leer el archivo CSV con un delimitador y manejo de errores por tildes\n",
    "salario_df = pd.read_csv(RAW_DATA_PATH+\"Salario medio de la población española.csv\", sep = \";\", encoding = \"latin\")\n",
    "\n",
    "salario_df.head()"
   ]
  },
  {
   "cell_type": "code",
   "execution_count": 9,
   "metadata": {},
   "outputs": [
    {
     "data": {
      "text/plain": [
       "Tipo de jornada                     0\n",
       "Comunidades y Ciudades Autonómas    0\n",
       "Decil                               0\n",
       "Periodo                             0\n",
       "Total                               0\n",
       "dtype: int64"
      ]
     },
     "execution_count": 9,
     "metadata": {},
     "output_type": "execute_result"
    }
   ],
   "source": [
    "#Comprobar si hay valores nulos\n",
    "salario_df.isnull().sum()"
   ]
  },
  {
   "cell_type": "code",
   "execution_count": 10,
   "metadata": {},
   "outputs": [
    {
     "data": {
      "text/html": [
       "<div>\n",
       "<style scoped>\n",
       "    .dataframe tbody tr th:only-of-type {\n",
       "        vertical-align: middle;\n",
       "    }\n",
       "\n",
       "    .dataframe tbody tr th {\n",
       "        vertical-align: top;\n",
       "    }\n",
       "\n",
       "    .dataframe thead th {\n",
       "        text-align: right;\n",
       "    }\n",
       "</style>\n",
       "<table border=\"1\" class=\"dataframe\">\n",
       "  <thead>\n",
       "    <tr style=\"text-align: right;\">\n",
       "      <th></th>\n",
       "      <th>Tipo de jornada</th>\n",
       "      <th>Comunidades</th>\n",
       "      <th>Decil</th>\n",
       "      <th>Periodo</th>\n",
       "      <th>Total</th>\n",
       "    </tr>\n",
       "  </thead>\n",
       "  <tbody>\n",
       "    <tr>\n",
       "      <th>0</th>\n",
       "      <td>Total</td>\n",
       "      <td>Total Nacional</td>\n",
       "      <td>Total decil</td>\n",
       "      <td>2022</td>\n",
       "      <td>2.128,37</td>\n",
       "    </tr>\n",
       "    <tr>\n",
       "      <th>1</th>\n",
       "      <td>Total</td>\n",
       "      <td>Total Nacional</td>\n",
       "      <td>Total decil</td>\n",
       "      <td>2021</td>\n",
       "      <td>2.086,78</td>\n",
       "    </tr>\n",
       "    <tr>\n",
       "      <th>2</th>\n",
       "      <td>Total</td>\n",
       "      <td>Total Nacional</td>\n",
       "      <td>1</td>\n",
       "      <td>2022</td>\n",
       "      <td>623,30</td>\n",
       "    </tr>\n",
       "    <tr>\n",
       "      <th>3</th>\n",
       "      <td>Total</td>\n",
       "      <td>Total Nacional</td>\n",
       "      <td>1</td>\n",
       "      <td>2021</td>\n",
       "      <td>570,52</td>\n",
       "    </tr>\n",
       "    <tr>\n",
       "      <th>4</th>\n",
       "      <td>Total</td>\n",
       "      <td>Total Nacional</td>\n",
       "      <td>2</td>\n",
       "      <td>2022</td>\n",
       "      <td>1.138,68</td>\n",
       "    </tr>\n",
       "  </tbody>\n",
       "</table>\n",
       "</div>"
      ],
      "text/plain": [
       "  Tipo de jornada     Comunidades        Decil  Periodo     Total\n",
       "0           Total  Total Nacional  Total decil     2022  2.128,37\n",
       "1           Total  Total Nacional  Total decil     2021  2.086,78\n",
       "2           Total  Total Nacional            1     2022    623,30\n",
       "3           Total  Total Nacional            1     2021    570,52\n",
       "4           Total  Total Nacional            2     2022  1.138,68"
      ]
     },
     "execution_count": 10,
     "metadata": {},
     "output_type": "execute_result"
    }
   ],
   "source": [
    "#Cambiar el nombre de la columna a simplemente \"Comunidades\".\n",
    "salario_df.rename(columns={'Comunidades y Ciudades Autonómas': 'Comunidades'}, inplace=True)\n",
    "\n",
    "salario_df.head()"
   ]
  },
  {
   "cell_type": "code",
   "execution_count": 11,
   "metadata": {},
   "outputs": [
    {
     "data": {
      "text/html": [
       "<div>\n",
       "<style scoped>\n",
       "    .dataframe tbody tr th:only-of-type {\n",
       "        vertical-align: middle;\n",
       "    }\n",
       "\n",
       "    .dataframe tbody tr th {\n",
       "        vertical-align: top;\n",
       "    }\n",
       "\n",
       "    .dataframe thead th {\n",
       "        text-align: right;\n",
       "    }\n",
       "</style>\n",
       "<table border=\"1\" class=\"dataframe\">\n",
       "  <thead>\n",
       "    <tr style=\"text-align: right;\">\n",
       "      <th></th>\n",
       "      <th>Comunidades</th>\n",
       "      <th>Decil</th>\n",
       "      <th>Periodo</th>\n",
       "      <th>Total</th>\n",
       "    </tr>\n",
       "  </thead>\n",
       "  <tbody>\n",
       "    <tr>\n",
       "      <th>0</th>\n",
       "      <td>Total Nacional</td>\n",
       "      <td>Total decil</td>\n",
       "      <td>2022</td>\n",
       "      <td>2.128,37</td>\n",
       "    </tr>\n",
       "    <tr>\n",
       "      <th>1</th>\n",
       "      <td>Total Nacional</td>\n",
       "      <td>Total decil</td>\n",
       "      <td>2021</td>\n",
       "      <td>2.086,78</td>\n",
       "    </tr>\n",
       "    <tr>\n",
       "      <th>2</th>\n",
       "      <td>Total Nacional</td>\n",
       "      <td>1</td>\n",
       "      <td>2022</td>\n",
       "      <td>623,30</td>\n",
       "    </tr>\n",
       "    <tr>\n",
       "      <th>3</th>\n",
       "      <td>Total Nacional</td>\n",
       "      <td>1</td>\n",
       "      <td>2021</td>\n",
       "      <td>570,52</td>\n",
       "    </tr>\n",
       "    <tr>\n",
       "      <th>4</th>\n",
       "      <td>Total Nacional</td>\n",
       "      <td>2</td>\n",
       "      <td>2022</td>\n",
       "      <td>1.138,68</td>\n",
       "    </tr>\n",
       "  </tbody>\n",
       "</table>\n",
       "</div>"
      ],
      "text/plain": [
       "      Comunidades        Decil  Periodo     Total\n",
       "0  Total Nacional  Total decil     2022  2.128,37\n",
       "1  Total Nacional  Total decil     2021  2.086,78\n",
       "2  Total Nacional            1     2022    623,30\n",
       "3  Total Nacional            1     2021    570,52\n",
       "4  Total Nacional            2     2022  1.138,68"
      ]
     },
     "execution_count": 11,
     "metadata": {},
     "output_type": "execute_result"
    }
   ],
   "source": [
    "#No es de relevancia saber si \"Tipo de Jornada\" es completa o parcial, por lo que se eliminan las filas que contienen esta información.\n",
    "salario_df = salario_df[salario_df['Tipo de jornada'] != 'Jornada a tiempo completo']\n",
    "salario_df = salario_df[salario_df['Tipo de jornada'] != 'Jornada a tiempo parcial']\n",
    "\n",
    "#Eliminar la columna \"Tipo de jornada\" ya que no es relevante.\n",
    "salario_df.drop(columns='Tipo de jornada', inplace=True)\n",
    "\n",
    "salario_df.head()"
   ]
  },
  {
   "cell_type": "code",
   "execution_count": 12,
   "metadata": {},
   "outputs": [
    {
     "data": {
      "text/html": [
       "<div>\n",
       "<style scoped>\n",
       "    .dataframe tbody tr th:only-of-type {\n",
       "        vertical-align: middle;\n",
       "    }\n",
       "\n",
       "    .dataframe tbody tr th {\n",
       "        vertical-align: top;\n",
       "    }\n",
       "\n",
       "    .dataframe thead th {\n",
       "        text-align: right;\n",
       "    }\n",
       "</style>\n",
       "<table border=\"1\" class=\"dataframe\">\n",
       "  <thead>\n",
       "    <tr style=\"text-align: right;\">\n",
       "      <th></th>\n",
       "      <th>Comunidades</th>\n",
       "      <th>Decil</th>\n",
       "      <th>Periodo</th>\n",
       "      <th>Total</th>\n",
       "    </tr>\n",
       "  </thead>\n",
       "  <tbody>\n",
       "    <tr>\n",
       "      <th>24</th>\n",
       "      <td>01 Andalucía</td>\n",
       "      <td>1</td>\n",
       "      <td>2022</td>\n",
       "      <td>626,54</td>\n",
       "    </tr>\n",
       "    <tr>\n",
       "      <th>25</th>\n",
       "      <td>01 Andalucía</td>\n",
       "      <td>1</td>\n",
       "      <td>2021</td>\n",
       "      <td>571,95</td>\n",
       "    </tr>\n",
       "    <tr>\n",
       "      <th>26</th>\n",
       "      <td>01 Andalucía</td>\n",
       "      <td>2</td>\n",
       "      <td>2022</td>\n",
       "      <td>1.139,95</td>\n",
       "    </tr>\n",
       "    <tr>\n",
       "      <th>27</th>\n",
       "      <td>01 Andalucía</td>\n",
       "      <td>2</td>\n",
       "      <td>2021</td>\n",
       "      <td>1.043,06</td>\n",
       "    </tr>\n",
       "    <tr>\n",
       "      <th>28</th>\n",
       "      <td>01 Andalucía</td>\n",
       "      <td>3</td>\n",
       "      <td>2022</td>\n",
       "      <td>1.346,28</td>\n",
       "    </tr>\n",
       "  </tbody>\n",
       "</table>\n",
       "</div>"
      ],
      "text/plain": [
       "     Comunidades Decil  Periodo     Total\n",
       "24  01 Andalucía     1     2022    626,54\n",
       "25  01 Andalucía     1     2021    571,95\n",
       "26  01 Andalucía     2     2022  1.139,95\n",
       "27  01 Andalucía     2     2021  1.043,06\n",
       "28  01 Andalucía     3     2022  1.346,28"
      ]
     },
     "execution_count": 12,
     "metadata": {},
     "output_type": "execute_result"
    }
   ],
   "source": [
    "#Eliminar el total decil.\n",
    "salario_df = salario_df[salario_df['Decil'] != 'Total decil']\n",
    "\n",
    "#Eliminar los valores totales por comunidad\n",
    "salario_df  = salario_df[salario_df['Comunidades'] != 'Total Nacional']\n",
    "\n",
    "salario_df.head()"
   ]
  },
  {
   "cell_type": "code",
   "execution_count": 13,
   "metadata": {},
   "outputs": [
    {
     "data": {
      "text/html": [
       "<div>\n",
       "<style scoped>\n",
       "    .dataframe tbody tr th:only-of-type {\n",
       "        vertical-align: middle;\n",
       "    }\n",
       "\n",
       "    .dataframe tbody tr th {\n",
       "        vertical-align: top;\n",
       "    }\n",
       "\n",
       "    .dataframe thead th {\n",
       "        text-align: right;\n",
       "    }\n",
       "</style>\n",
       "<table border=\"1\" class=\"dataframe\">\n",
       "  <thead>\n",
       "    <tr style=\"text-align: right;\">\n",
       "      <th></th>\n",
       "      <th>Comunidades</th>\n",
       "      <th>Decil</th>\n",
       "      <th>Periodo</th>\n",
       "      <th>Total</th>\n",
       "    </tr>\n",
       "  </thead>\n",
       "  <tbody>\n",
       "    <tr>\n",
       "      <th>24</th>\n",
       "      <td>Andalucía</td>\n",
       "      <td>1</td>\n",
       "      <td>2022</td>\n",
       "      <td>626,54</td>\n",
       "    </tr>\n",
       "    <tr>\n",
       "      <th>25</th>\n",
       "      <td>Andalucía</td>\n",
       "      <td>1</td>\n",
       "      <td>2021</td>\n",
       "      <td>571,95</td>\n",
       "    </tr>\n",
       "    <tr>\n",
       "      <th>26</th>\n",
       "      <td>Andalucía</td>\n",
       "      <td>2</td>\n",
       "      <td>2022</td>\n",
       "      <td>1.139,95</td>\n",
       "    </tr>\n",
       "    <tr>\n",
       "      <th>27</th>\n",
       "      <td>Andalucía</td>\n",
       "      <td>2</td>\n",
       "      <td>2021</td>\n",
       "      <td>1.043,06</td>\n",
       "    </tr>\n",
       "    <tr>\n",
       "      <th>28</th>\n",
       "      <td>Andalucía</td>\n",
       "      <td>3</td>\n",
       "      <td>2022</td>\n",
       "      <td>1.346,28</td>\n",
       "    </tr>\n",
       "  </tbody>\n",
       "</table>\n",
       "</div>"
      ],
      "text/plain": [
       "   Comunidades Decil  Periodo     Total\n",
       "24   Andalucía     1     2022    626,54\n",
       "25   Andalucía     1     2021    571,95\n",
       "26   Andalucía     2     2022  1.139,95\n",
       "27   Andalucía     2     2021  1.043,06\n",
       "28   Andalucía     3     2022  1.346,28"
      ]
     },
     "execution_count": 13,
     "metadata": {},
     "output_type": "execute_result"
    }
   ],
   "source": [
    "#Eliminar identificadores de las comunidades\n",
    "salario_df['Comunidades'] = salario_df['Comunidades'].str.replace(r'^\\d{2} ', '', regex=True)\n",
    "\n",
    "salario_df.head()"
   ]
  },
  {
   "cell_type": "code",
   "execution_count": 14,
   "metadata": {},
   "outputs": [
    {
     "data": {
      "text/html": [
       "<div>\n",
       "<style scoped>\n",
       "    .dataframe tbody tr th:only-of-type {\n",
       "        vertical-align: middle;\n",
       "    }\n",
       "\n",
       "    .dataframe tbody tr th {\n",
       "        vertical-align: top;\n",
       "    }\n",
       "\n",
       "    .dataframe thead th {\n",
       "        text-align: right;\n",
       "    }\n",
       "</style>\n",
       "<table border=\"1\" class=\"dataframe\">\n",
       "  <thead>\n",
       "    <tr style=\"text-align: right;\">\n",
       "      <th></th>\n",
       "      <th>Comunidades</th>\n",
       "      <th>Decil</th>\n",
       "      <th>Periodo</th>\n",
       "      <th>Total</th>\n",
       "    </tr>\n",
       "  </thead>\n",
       "  <tbody>\n",
       "    <tr>\n",
       "      <th>350</th>\n",
       "      <td>Navarra, Comunidad Foral de</td>\n",
       "      <td>10</td>\n",
       "      <td>2022</td>\n",
       "      <td>4.701,68</td>\n",
       "    </tr>\n",
       "    <tr>\n",
       "      <th>138</th>\n",
       "      <td>Cantabria</td>\n",
       "      <td>3</td>\n",
       "      <td>2022</td>\n",
       "      <td>1.340,60</td>\n",
       "    </tr>\n",
       "    <tr>\n",
       "      <th>56</th>\n",
       "      <td>Aragón</td>\n",
       "      <td>6</td>\n",
       "      <td>2022</td>\n",
       "      <td>1.919,00</td>\n",
       "    </tr>\n",
       "    <tr>\n",
       "      <th>423</th>\n",
       "      <td>Melilla</td>\n",
       "      <td>2</td>\n",
       "      <td>2021</td>\n",
       "      <td>1.023,66</td>\n",
       "    </tr>\n",
       "    <tr>\n",
       "      <th>354</th>\n",
       "      <td>País Vasco</td>\n",
       "      <td>1</td>\n",
       "      <td>2022</td>\n",
       "      <td>602,42</td>\n",
       "    </tr>\n",
       "  </tbody>\n",
       "</table>\n",
       "</div>"
      ],
      "text/plain": [
       "                     Comunidades Decil  Periodo     Total\n",
       "350  Navarra, Comunidad Foral de    10     2022  4.701,68\n",
       "138                    Cantabria     3     2022  1.340,60\n",
       "56                        Aragón     6     2022  1.919,00\n",
       "423                      Melilla     2     2021  1.023,66\n",
       "354                   País Vasco     1     2022    602,42"
      ]
     },
     "execution_count": 14,
     "metadata": {},
     "output_type": "execute_result"
    }
   ],
   "source": [
    "# Ver 5 filas aleatorias\n",
    "filas_aleatorias = salario_df.sample(n=5)\n",
    "filas_aleatorias"
   ]
  },
  {
   "cell_type": "markdown",
   "metadata": {},
   "source": [
    "## Tipo de núcleo familiar"
   ]
  },
  {
   "cell_type": "code",
   "execution_count": 11,
   "metadata": {},
   "outputs": [
    {
     "name": "stdout",
     "output_type": "stream",
     "text": [
      "<class 'pandas.core.frame.DataFrame'>\n",
      "RangeIndex: 1855 entries, 0 to 1854\n",
      "Data columns (total 4 columns):\n",
      " #   Column                   Non-Null Count  Dtype \n",
      "---  ------                   --------------  ----- \n",
      " 0   Provincias               1855 non-null   object\n",
      " 1   Tipo de núcleo familiar  1855 non-null   object\n",
      " 2   Número de hijos          1855 non-null   object\n",
      " 3   Total                    1855 non-null   object\n",
      "dtypes: object(4)\n",
      "memory usage: 58.1+ KB\n"
     ]
    }
   ],
   "source": [
    "tipo_nucleo_familiar_df=pd.read_csv(RAW_DATA_PATH+\"Tipo de núcleo familiar.csv\", sep = \";\", encoding = \"latin\")\n",
    "\n",
    "tipo_nucleo_familiar_df.info()"
   ]
  },
  {
   "cell_type": "code",
   "execution_count": 12,
   "metadata": {},
   "outputs": [
    {
     "data": {
      "text/html": [
       "<div>\n",
       "<style scoped>\n",
       "    .dataframe tbody tr th:only-of-type {\n",
       "        vertical-align: middle;\n",
       "    }\n",
       "\n",
       "    .dataframe tbody tr th {\n",
       "        vertical-align: top;\n",
       "    }\n",
       "\n",
       "    .dataframe thead th {\n",
       "        text-align: right;\n",
       "    }\n",
       "</style>\n",
       "<table border=\"1\" class=\"dataframe\">\n",
       "  <thead>\n",
       "    <tr style=\"text-align: right;\">\n",
       "      <th></th>\n",
       "      <th>Provincias</th>\n",
       "      <th>Tipo de núcleo familiar</th>\n",
       "      <th>Número de hijos</th>\n",
       "      <th>Total</th>\n",
       "    </tr>\n",
       "  </thead>\n",
       "  <tbody>\n",
       "    <tr>\n",
       "      <th>790</th>\n",
       "      <td>Granada</td>\n",
       "      <td>Pareja no casada, con o sin hijos convivientes</td>\n",
       "      <td>Total</td>\n",
       "      <td>35.412</td>\n",
       "    </tr>\n",
       "    <tr>\n",
       "      <th>791</th>\n",
       "      <td>Granada</td>\n",
       "      <td>Padre sólo con hijos convivientes</td>\n",
       "      <td>0 hijos conviviendo</td>\n",
       "      <td>0</td>\n",
       "    </tr>\n",
       "    <tr>\n",
       "      <th>792</th>\n",
       "      <td>Granada</td>\n",
       "      <td>Padre sólo con hijos convivientes</td>\n",
       "      <td>1 hijo conviviendo</td>\n",
       "      <td>4.959</td>\n",
       "    </tr>\n",
       "    <tr>\n",
       "      <th>793</th>\n",
       "      <td>Granada</td>\n",
       "      <td>Padre sólo con hijos convivientes</td>\n",
       "      <td>2 o más hijos conviviendo</td>\n",
       "      <td>3.217</td>\n",
       "    </tr>\n",
       "    <tr>\n",
       "      <th>794</th>\n",
       "      <td>Granada</td>\n",
       "      <td>Padre sólo con hijos convivientes</td>\n",
       "      <td>0 hijos conviviendo menores de 25 años</td>\n",
       "      <td>4.200</td>\n",
       "    </tr>\n",
       "    <tr>\n",
       "      <th>795</th>\n",
       "      <td>Granada</td>\n",
       "      <td>Padre sólo con hijos convivientes</td>\n",
       "      <td>1 hijo conviviendo menor de 25 años</td>\n",
       "      <td>2.442</td>\n",
       "    </tr>\n",
       "    <tr>\n",
       "      <th>796</th>\n",
       "      <td>Granada</td>\n",
       "      <td>Padre sólo con hijos convivientes</td>\n",
       "      <td>2 hijos o más conviviendo menores de 25 años</td>\n",
       "      <td>1.534</td>\n",
       "    </tr>\n",
       "    <tr>\n",
       "      <th>797</th>\n",
       "      <td>Granada</td>\n",
       "      <td>Padre sólo con hijos convivientes</td>\n",
       "      <td>Total</td>\n",
       "      <td>8.176</td>\n",
       "    </tr>\n",
       "    <tr>\n",
       "      <th>798</th>\n",
       "      <td>Granada</td>\n",
       "      <td>Madre sóla con hijos convivientes</td>\n",
       "      <td>0 hijos conviviendo</td>\n",
       "      <td>0</td>\n",
       "    </tr>\n",
       "    <tr>\n",
       "      <th>799</th>\n",
       "      <td>Granada</td>\n",
       "      <td>Madre sóla con hijos convivientes</td>\n",
       "      <td>1 hijo conviviendo</td>\n",
       "      <td>28.188</td>\n",
       "    </tr>\n",
       "  </tbody>\n",
       "</table>\n",
       "</div>"
      ],
      "text/plain": [
       "    Provincias                         Tipo de núcleo familiar  \\\n",
       "790    Granada  Pareja no casada, con o sin hijos convivientes   \n",
       "791    Granada               Padre sólo con hijos convivientes   \n",
       "792    Granada               Padre sólo con hijos convivientes   \n",
       "793    Granada               Padre sólo con hijos convivientes   \n",
       "794    Granada               Padre sólo con hijos convivientes   \n",
       "795    Granada               Padre sólo con hijos convivientes   \n",
       "796    Granada               Padre sólo con hijos convivientes   \n",
       "797    Granada               Padre sólo con hijos convivientes   \n",
       "798    Granada               Madre sóla con hijos convivientes   \n",
       "799    Granada               Madre sóla con hijos convivientes   \n",
       "\n",
       "                                  Número de hijos   Total  \n",
       "790                                         Total  35.412  \n",
       "791                           0 hijos conviviendo       0  \n",
       "792                            1 hijo conviviendo   4.959  \n",
       "793                     2 o más hijos conviviendo   3.217  \n",
       "794        0 hijos conviviendo menores de 25 años   4.200  \n",
       "795           1 hijo conviviendo menor de 25 años   2.442  \n",
       "796  2 hijos o más conviviendo menores de 25 años   1.534  \n",
       "797                                         Total   8.176  \n",
       "798                           0 hijos conviviendo       0  \n",
       "799                            1 hijo conviviendo  28.188  "
      ]
     },
     "execution_count": 12,
     "metadata": {},
     "output_type": "execute_result"
    }
   ],
   "source": [
    "# Ejemplo de los datos que presenta la tabla\n",
    "tipo_nucleo_familiar_df.head(800).tail(10)"
   ]
  },
  {
   "cell_type": "markdown",
   "metadata": {},
   "source": [
    "En la columna \"Provincias\", algunas filas están etiquetadas como \"Total Nacional\". Para simplificar el conjunto de datos, se ha decidido eliminar los registros correspondientes a los datos a nivel nacional."
   ]
  },
  {
   "cell_type": "code",
   "execution_count": 13,
   "metadata": {},
   "outputs": [
    {
     "data": {
      "text/html": [
       "<div>\n",
       "<style scoped>\n",
       "    .dataframe tbody tr th:only-of-type {\n",
       "        vertical-align: middle;\n",
       "    }\n",
       "\n",
       "    .dataframe tbody tr th {\n",
       "        vertical-align: top;\n",
       "    }\n",
       "\n",
       "    .dataframe thead th {\n",
       "        text-align: right;\n",
       "    }\n",
       "</style>\n",
       "<table border=\"1\" class=\"dataframe\">\n",
       "  <thead>\n",
       "    <tr style=\"text-align: right;\">\n",
       "      <th></th>\n",
       "      <th>Provincias</th>\n",
       "      <th>Tipo de núcleo familiar</th>\n",
       "      <th>Número de hijos</th>\n",
       "      <th>Total</th>\n",
       "    </tr>\n",
       "  </thead>\n",
       "  <tbody>\n",
       "    <tr>\n",
       "      <th>0</th>\n",
       "      <td>Total Nacional</td>\n",
       "      <td>Total</td>\n",
       "      <td>0 hijos conviviendo</td>\n",
       "      <td>4.484.568</td>\n",
       "    </tr>\n",
       "    <tr>\n",
       "      <th>1</th>\n",
       "      <td>Total Nacional</td>\n",
       "      <td>Total</td>\n",
       "      <td>1 hijo conviviendo</td>\n",
       "      <td>4.914.044</td>\n",
       "    </tr>\n",
       "    <tr>\n",
       "      <th>2</th>\n",
       "      <td>Total Nacional</td>\n",
       "      <td>Total</td>\n",
       "      <td>2 o más hijos conviviendo</td>\n",
       "      <td>4.368.298</td>\n",
       "    </tr>\n",
       "    <tr>\n",
       "      <th>3</th>\n",
       "      <td>Total Nacional</td>\n",
       "      <td>Total</td>\n",
       "      <td>0 hijos conviviendo menores de 25 años</td>\n",
       "      <td>6.973.068</td>\n",
       "    </tr>\n",
       "    <tr>\n",
       "      <th>4</th>\n",
       "      <td>Total Nacional</td>\n",
       "      <td>Total</td>\n",
       "      <td>1 hijo conviviendo menor de 25 años</td>\n",
       "      <td>3.349.425</td>\n",
       "    </tr>\n",
       "  </tbody>\n",
       "</table>\n",
       "</div>"
      ],
      "text/plain": [
       "       Provincias Tipo de núcleo familiar  \\\n",
       "0  Total Nacional                   Total   \n",
       "1  Total Nacional                   Total   \n",
       "2  Total Nacional                   Total   \n",
       "3  Total Nacional                   Total   \n",
       "4  Total Nacional                   Total   \n",
       "\n",
       "                          Número de hijos      Total  \n",
       "0                     0 hijos conviviendo  4.484.568  \n",
       "1                      1 hijo conviviendo  4.914.044  \n",
       "2               2 o más hijos conviviendo  4.368.298  \n",
       "3  0 hijos conviviendo menores de 25 años  6.973.068  \n",
       "4     1 hijo conviviendo menor de 25 años  3.349.425  "
      ]
     },
     "execution_count": 13,
     "metadata": {},
     "output_type": "execute_result"
    }
   ],
   "source": [
    "tipo_nucleo_familiar_df.head(5)"
   ]
  },
  {
   "cell_type": "code",
   "execution_count": 14,
   "metadata": {},
   "outputs": [],
   "source": [
    "tipo_nucleo_familiar_df = tipo_nucleo_familiar_df[tipo_nucleo_familiar_df['Provincias'] != \"Total Nacional\"]\n"
   ]
  },
  {
   "cell_type": "code",
   "execution_count": 15,
   "metadata": {},
   "outputs": [
    {
     "data": {
      "text/html": [
       "<div>\n",
       "<style scoped>\n",
       "    .dataframe tbody tr th:only-of-type {\n",
       "        vertical-align: middle;\n",
       "    }\n",
       "\n",
       "    .dataframe tbody tr th {\n",
       "        vertical-align: top;\n",
       "    }\n",
       "\n",
       "    .dataframe thead th {\n",
       "        text-align: right;\n",
       "    }\n",
       "</style>\n",
       "<table border=\"1\" class=\"dataframe\">\n",
       "  <thead>\n",
       "    <tr style=\"text-align: right;\">\n",
       "      <th></th>\n",
       "      <th>Provincias</th>\n",
       "      <th>Tipo de núcleo familiar</th>\n",
       "      <th>Número de hijos</th>\n",
       "      <th>Total</th>\n",
       "    </tr>\n",
       "  </thead>\n",
       "  <tbody>\n",
       "    <tr>\n",
       "      <th>35</th>\n",
       "      <td>Albacete</td>\n",
       "      <td>Total</td>\n",
       "      <td>0 hijos conviviendo</td>\n",
       "      <td>33.012</td>\n",
       "    </tr>\n",
       "    <tr>\n",
       "      <th>36</th>\n",
       "      <td>Albacete</td>\n",
       "      <td>Total</td>\n",
       "      <td>1 hijo conviviendo</td>\n",
       "      <td>35.351</td>\n",
       "    </tr>\n",
       "    <tr>\n",
       "      <th>37</th>\n",
       "      <td>Albacete</td>\n",
       "      <td>Total</td>\n",
       "      <td>2 o más hijos conviviendo</td>\n",
       "      <td>41.228</td>\n",
       "    </tr>\n",
       "    <tr>\n",
       "      <th>38</th>\n",
       "      <td>Albacete</td>\n",
       "      <td>Total</td>\n",
       "      <td>0 hijos conviviendo menores de 25 años</td>\n",
       "      <td>52.429</td>\n",
       "    </tr>\n",
       "    <tr>\n",
       "      <th>39</th>\n",
       "      <td>Albacete</td>\n",
       "      <td>Total</td>\n",
       "      <td>1 hijo conviviendo menor de 25 años</td>\n",
       "      <td>25.451</td>\n",
       "    </tr>\n",
       "    <tr>\n",
       "      <th>40</th>\n",
       "      <td>Albacete</td>\n",
       "      <td>Total</td>\n",
       "      <td>2 hijos o más conviviendo menores de 25 años</td>\n",
       "      <td>31.712</td>\n",
       "    </tr>\n",
       "    <tr>\n",
       "      <th>41</th>\n",
       "      <td>Albacete</td>\n",
       "      <td>Total</td>\n",
       "      <td>Total</td>\n",
       "      <td>109.592</td>\n",
       "    </tr>\n",
       "    <tr>\n",
       "      <th>42</th>\n",
       "      <td>Albacete</td>\n",
       "      <td>Pareja casada, con o sin hijos convivientes</td>\n",
       "      <td>0 hijos conviviendo</td>\n",
       "      <td>27.344</td>\n",
       "    </tr>\n",
       "    <tr>\n",
       "      <th>43</th>\n",
       "      <td>Albacete</td>\n",
       "      <td>Pareja casada, con o sin hijos convivientes</td>\n",
       "      <td>1 hijo conviviendo</td>\n",
       "      <td>21.719</td>\n",
       "    </tr>\n",
       "    <tr>\n",
       "      <th>44</th>\n",
       "      <td>Albacete</td>\n",
       "      <td>Pareja casada, con o sin hijos convivientes</td>\n",
       "      <td>2 o más hijos conviviendo</td>\n",
       "      <td>31.743</td>\n",
       "    </tr>\n",
       "  </tbody>\n",
       "</table>\n",
       "</div>"
      ],
      "text/plain": [
       "   Provincias                      Tipo de núcleo familiar  \\\n",
       "35   Albacete                                        Total   \n",
       "36   Albacete                                        Total   \n",
       "37   Albacete                                        Total   \n",
       "38   Albacete                                        Total   \n",
       "39   Albacete                                        Total   \n",
       "40   Albacete                                        Total   \n",
       "41   Albacete                                        Total   \n",
       "42   Albacete  Pareja casada, con o sin hijos convivientes   \n",
       "43   Albacete  Pareja casada, con o sin hijos convivientes   \n",
       "44   Albacete  Pareja casada, con o sin hijos convivientes   \n",
       "\n",
       "                                 Número de hijos    Total  \n",
       "35                           0 hijos conviviendo   33.012  \n",
       "36                            1 hijo conviviendo   35.351  \n",
       "37                     2 o más hijos conviviendo   41.228  \n",
       "38        0 hijos conviviendo menores de 25 años   52.429  \n",
       "39           1 hijo conviviendo menor de 25 años   25.451  \n",
       "40  2 hijos o más conviviendo menores de 25 años   31.712  \n",
       "41                                         Total  109.592  \n",
       "42                           0 hijos conviviendo   27.344  \n",
       "43                            1 hijo conviviendo   21.719  \n",
       "44                     2 o más hijos conviviendo   31.743  "
      ]
     },
     "execution_count": 15,
     "metadata": {},
     "output_type": "execute_result"
    }
   ],
   "source": [
    "tipo_nucleo_familiar_df.head(10)"
   ]
  },
  {
   "cell_type": "markdown",
   "metadata": {},
   "source": [
    "En la columna \"Tipo de núcleo familiar\" se ha encontrado un valor \"Total\", el cual será eliminado."
   ]
  },
  {
   "cell_type": "code",
   "execution_count": 16,
   "metadata": {},
   "outputs": [],
   "source": [
    "tipo_nucleo_familiar_df = tipo_nucleo_familiar_df[tipo_nucleo_familiar_df['Tipo de núcleo familiar'] != \"Total\"]"
   ]
  },
  {
   "cell_type": "markdown",
   "metadata": {},
   "source": [
    "\n",
    "Lo mismo sucede con la columna \"Número de hijos\"."
   ]
  },
  {
   "cell_type": "code",
   "execution_count": 17,
   "metadata": {},
   "outputs": [],
   "source": [
    "tipo_nucleo_familiar_df = tipo_nucleo_familiar_df[tipo_nucleo_familiar_df['Número de hijos'] != \"Total\"]"
   ]
  },
  {
   "cell_type": "markdown",
   "metadata": {},
   "source": [
    "En el dataset, el símbolo '.' debe interpretarse como dato que no se proporciona por muestra insuficiente."
   ]
  },
  {
   "cell_type": "code",
   "execution_count": 18,
   "metadata": {},
   "outputs": [
    {
     "data": {
      "text/plain": [
       "Provincias                 False\n",
       "Tipo de núcleo familiar    False\n",
       "Número de hijos            False\n",
       "Total                      False\n",
       "dtype: bool"
      ]
     },
     "execution_count": 18,
     "metadata": {},
     "output_type": "execute_result"
    }
   ],
   "source": [
    "columnas_a_verificar = ['Provincias', 'Tipo de núcleo familiar', 'Número de hijos', 'Total']\n",
    "tipo_nucleo_familiar_df[columnas_a_verificar].apply(lambda x: x == '.').any()"
   ]
  },
  {
   "cell_type": "markdown",
   "metadata": {},
   "source": [
    "No se han encontrado valores nulos."
   ]
  },
  {
   "cell_type": "markdown",
   "metadata": {},
   "source": [
    "Una vez finalizado el preprocesamiento, el dataset queda con 1248 entradas y 4 columnas."
   ]
  },
  {
   "cell_type": "code",
   "execution_count": 31,
   "metadata": {},
   "outputs": [
    {
     "data": {
      "text/html": [
       "<div>\n",
       "<style scoped>\n",
       "    .dataframe tbody tr th:only-of-type {\n",
       "        vertical-align: middle;\n",
       "    }\n",
       "\n",
       "    .dataframe tbody tr th {\n",
       "        vertical-align: top;\n",
       "    }\n",
       "\n",
       "    .dataframe thead th {\n",
       "        text-align: right;\n",
       "    }\n",
       "</style>\n",
       "<table border=\"1\" class=\"dataframe\">\n",
       "  <thead>\n",
       "    <tr style=\"text-align: right;\">\n",
       "      <th></th>\n",
       "      <th>Provincias</th>\n",
       "      <th>Tipo de núcleo familiar</th>\n",
       "      <th>Número de hijos</th>\n",
       "      <th>Total</th>\n",
       "    </tr>\n",
       "  </thead>\n",
       "  <tbody>\n",
       "    <tr>\n",
       "      <th>42</th>\n",
       "      <td>Albacete</td>\n",
       "      <td>Pareja casada, con o sin hijos convivientes</td>\n",
       "      <td>0 hijos conviviendo</td>\n",
       "      <td>27.344</td>\n",
       "    </tr>\n",
       "    <tr>\n",
       "      <th>43</th>\n",
       "      <td>Albacete</td>\n",
       "      <td>Pareja casada, con o sin hijos convivientes</td>\n",
       "      <td>1 hijo conviviendo</td>\n",
       "      <td>21.719</td>\n",
       "    </tr>\n",
       "    <tr>\n",
       "      <th>44</th>\n",
       "      <td>Albacete</td>\n",
       "      <td>Pareja casada, con o sin hijos convivientes</td>\n",
       "      <td>2 o más hijos conviviendo</td>\n",
       "      <td>31.743</td>\n",
       "    </tr>\n",
       "    <tr>\n",
       "      <th>45</th>\n",
       "      <td>Albacete</td>\n",
       "      <td>Pareja casada, con o sin hijos convivientes</td>\n",
       "      <td>0 hijos conviviendo menores de 25 años</td>\n",
       "      <td>39.498</td>\n",
       "    </tr>\n",
       "    <tr>\n",
       "      <th>46</th>\n",
       "      <td>Albacete</td>\n",
       "      <td>Pareja casada, con o sin hijos convivientes</td>\n",
       "      <td>1 hijo conviviendo menor de 25 años</td>\n",
       "      <td>16.930</td>\n",
       "    </tr>\n",
       "    <tr>\n",
       "      <th>47</th>\n",
       "      <td>Albacete</td>\n",
       "      <td>Pareja casada, con o sin hijos convivientes</td>\n",
       "      <td>2 hijos o más conviviendo menores de 25 años</td>\n",
       "      <td>24.377</td>\n",
       "    </tr>\n",
       "    <tr>\n",
       "      <th>49</th>\n",
       "      <td>Albacete</td>\n",
       "      <td>Pareja no casada, con o sin hijos convivientes</td>\n",
       "      <td>0 hijos conviviendo</td>\n",
       "      <td>5.669</td>\n",
       "    </tr>\n",
       "    <tr>\n",
       "      <th>50</th>\n",
       "      <td>Albacete</td>\n",
       "      <td>Pareja no casada, con o sin hijos convivientes</td>\n",
       "      <td>1 hijo conviviendo</td>\n",
       "      <td>3.085</td>\n",
       "    </tr>\n",
       "    <tr>\n",
       "      <th>51</th>\n",
       "      <td>Albacete</td>\n",
       "      <td>Pareja no casada, con o sin hijos convivientes</td>\n",
       "      <td>2 o más hijos conviviendo</td>\n",
       "      <td>3.555</td>\n",
       "    </tr>\n",
       "    <tr>\n",
       "      <th>52</th>\n",
       "      <td>Albacete</td>\n",
       "      <td>Pareja no casada, con o sin hijos convivientes</td>\n",
       "      <td>0 hijos conviviendo menores de 25 años</td>\n",
       "      <td>5.669</td>\n",
       "    </tr>\n",
       "  </tbody>\n",
       "</table>\n",
       "</div>"
      ],
      "text/plain": [
       "   Provincias                         Tipo de núcleo familiar  \\\n",
       "42   Albacete     Pareja casada, con o sin hijos convivientes   \n",
       "43   Albacete     Pareja casada, con o sin hijos convivientes   \n",
       "44   Albacete     Pareja casada, con o sin hijos convivientes   \n",
       "45   Albacete     Pareja casada, con o sin hijos convivientes   \n",
       "46   Albacete     Pareja casada, con o sin hijos convivientes   \n",
       "47   Albacete     Pareja casada, con o sin hijos convivientes   \n",
       "49   Albacete  Pareja no casada, con o sin hijos convivientes   \n",
       "50   Albacete  Pareja no casada, con o sin hijos convivientes   \n",
       "51   Albacete  Pareja no casada, con o sin hijos convivientes   \n",
       "52   Albacete  Pareja no casada, con o sin hijos convivientes   \n",
       "\n",
       "                                 Número de hijos   Total  \n",
       "42                           0 hijos conviviendo  27.344  \n",
       "43                            1 hijo conviviendo  21.719  \n",
       "44                     2 o más hijos conviviendo  31.743  \n",
       "45        0 hijos conviviendo menores de 25 años  39.498  \n",
       "46           1 hijo conviviendo menor de 25 años  16.930  \n",
       "47  2 hijos o más conviviendo menores de 25 años  24.377  \n",
       "49                           0 hijos conviviendo   5.669  \n",
       "50                            1 hijo conviviendo   3.085  \n",
       "51                     2 o más hijos conviviendo   3.555  \n",
       "52        0 hijos conviviendo menores de 25 años   5.669  "
      ]
     },
     "execution_count": 31,
     "metadata": {},
     "output_type": "execute_result"
    }
   ],
   "source": [
    "tipo_nucleo_familiar_df.head(10)\n"
   ]
  },
  {
   "cell_type": "code",
   "execution_count": 35,
   "metadata": {},
   "outputs": [
    {
     "name": "stdout",
     "output_type": "stream",
     "text": [
      "['Pareja casada, con o sin hijos convivientes'\n",
      " 'Pareja no casada, con o sin hijos convivientes'\n",
      " 'Padre sólo con hijos convivientes' 'Madre sóla con hijos convivientes']\n"
     ]
    }
   ],
   "source": [
    "a = tipo_nucleo_familiar_df['Tipo de núcleo familiar'].unique()\n",
    "print(a)    "
   ]
  },
  {
   "cell_type": "markdown",
   "metadata": {},
   "source": [
    "## Viviendas según el número de personas"
   ]
  },
  {
   "cell_type": "code",
   "execution_count": 20,
   "metadata": {},
   "outputs": [
    {
     "name": "stdout",
     "output_type": "stream",
     "text": [
      "<class 'pandas.core.frame.DataFrame'>\n",
      "RangeIndex: 1764 entries, 0 to 1763\n",
      "Data columns (total 6 columns):\n",
      " #   Column                            Non-Null Count  Dtype \n",
      "---  ------                            --------------  ----- \n",
      " 0   Total Nacional                    1764 non-null   object\n",
      " 1   Comunidades y Ciudades Autónomas  1736 non-null   object\n",
      " 2   Provincias                        1204 non-null   object\n",
      " 3   Tamaño del hogar                  1764 non-null   object\n",
      " 4   Año                               1764 non-null   int64 \n",
      " 5   Total                             1764 non-null   object\n",
      "dtypes: int64(1), object(5)\n",
      "memory usage: 82.8+ KB\n"
     ]
    }
   ],
   "source": [
    "viviendas_numero_personas_df=pd.read_csv(RAW_DATA_PATH+\"Viviendas según el número de personas.csv\", sep = \";\", encoding = \"latin\")\n",
    "\n",
    "viviendas_numero_personas_df.info()"
   ]
  },
  {
   "cell_type": "code",
   "execution_count": 21,
   "metadata": {},
   "outputs": [
    {
     "data": {
      "text/html": [
       "<div>\n",
       "<style scoped>\n",
       "    .dataframe tbody tr th:only-of-type {\n",
       "        vertical-align: middle;\n",
       "    }\n",
       "\n",
       "    .dataframe tbody tr th {\n",
       "        vertical-align: top;\n",
       "    }\n",
       "\n",
       "    .dataframe thead th {\n",
       "        text-align: right;\n",
       "    }\n",
       "</style>\n",
       "<table border=\"1\" class=\"dataframe\">\n",
       "  <thead>\n",
       "    <tr style=\"text-align: right;\">\n",
       "      <th></th>\n",
       "      <th>Total Nacional</th>\n",
       "      <th>Comunidades y Ciudades Autónomas</th>\n",
       "      <th>Provincias</th>\n",
       "      <th>Tamaño del hogar</th>\n",
       "      <th>Año</th>\n",
       "      <th>Total</th>\n",
       "    </tr>\n",
       "  </thead>\n",
       "  <tbody>\n",
       "    <tr>\n",
       "      <th>0</th>\n",
       "      <td>Total Nacional</td>\n",
       "      <td>NaN</td>\n",
       "      <td>NaN</td>\n",
       "      <td>Total</td>\n",
       "      <td>2023</td>\n",
       "      <td>18.849.621</td>\n",
       "    </tr>\n",
       "    <tr>\n",
       "      <th>1</th>\n",
       "      <td>Total Nacional</td>\n",
       "      <td>NaN</td>\n",
       "      <td>NaN</td>\n",
       "      <td>Total</td>\n",
       "      <td>2022</td>\n",
       "      <td>18.791.675</td>\n",
       "    </tr>\n",
       "    <tr>\n",
       "      <th>2</th>\n",
       "      <td>Total Nacional</td>\n",
       "      <td>NaN</td>\n",
       "      <td>NaN</td>\n",
       "      <td>Total</td>\n",
       "      <td>2021</td>\n",
       "      <td>18.736.673</td>\n",
       "    </tr>\n",
       "    <tr>\n",
       "      <th>3</th>\n",
       "      <td>Total Nacional</td>\n",
       "      <td>NaN</td>\n",
       "      <td>NaN</td>\n",
       "      <td>Total</td>\n",
       "      <td>2020</td>\n",
       "      <td>18.692.279</td>\n",
       "    </tr>\n",
       "    <tr>\n",
       "      <th>4</th>\n",
       "      <td>Total Nacional</td>\n",
       "      <td>NaN</td>\n",
       "      <td>NaN</td>\n",
       "      <td>1 persona</td>\n",
       "      <td>2023</td>\n",
       "      <td>4.987.240</td>\n",
       "    </tr>\n",
       "    <tr>\n",
       "      <th>5</th>\n",
       "      <td>Total Nacional</td>\n",
       "      <td>NaN</td>\n",
       "      <td>NaN</td>\n",
       "      <td>1 persona</td>\n",
       "      <td>2022</td>\n",
       "      <td>4.933.214</td>\n",
       "    </tr>\n",
       "    <tr>\n",
       "      <th>6</th>\n",
       "      <td>Total Nacional</td>\n",
       "      <td>NaN</td>\n",
       "      <td>NaN</td>\n",
       "      <td>1 persona</td>\n",
       "      <td>2021</td>\n",
       "      <td>4.881.986</td>\n",
       "    </tr>\n",
       "    <tr>\n",
       "      <th>7</th>\n",
       "      <td>Total Nacional</td>\n",
       "      <td>NaN</td>\n",
       "      <td>NaN</td>\n",
       "      <td>1 persona</td>\n",
       "      <td>2020</td>\n",
       "      <td>4.829.600</td>\n",
       "    </tr>\n",
       "    <tr>\n",
       "      <th>8</th>\n",
       "      <td>Total Nacional</td>\n",
       "      <td>NaN</td>\n",
       "      <td>NaN</td>\n",
       "      <td>2 personas</td>\n",
       "      <td>2023</td>\n",
       "      <td>5.804.559</td>\n",
       "    </tr>\n",
       "    <tr>\n",
       "      <th>9</th>\n",
       "      <td>Total Nacional</td>\n",
       "      <td>NaN</td>\n",
       "      <td>NaN</td>\n",
       "      <td>2 personas</td>\n",
       "      <td>2022</td>\n",
       "      <td>5.763.142</td>\n",
       "    </tr>\n",
       "  </tbody>\n",
       "</table>\n",
       "</div>"
      ],
      "text/plain": [
       "   Total Nacional Comunidades y Ciudades Autónomas Provincias  \\\n",
       "0  Total Nacional                              NaN        NaN   \n",
       "1  Total Nacional                              NaN        NaN   \n",
       "2  Total Nacional                              NaN        NaN   \n",
       "3  Total Nacional                              NaN        NaN   \n",
       "4  Total Nacional                              NaN        NaN   \n",
       "5  Total Nacional                              NaN        NaN   \n",
       "6  Total Nacional                              NaN        NaN   \n",
       "7  Total Nacional                              NaN        NaN   \n",
       "8  Total Nacional                              NaN        NaN   \n",
       "9  Total Nacional                              NaN        NaN   \n",
       "\n",
       "  Tamaño del hogar   Año       Total  \n",
       "0            Total  2023  18.849.621  \n",
       "1            Total  2022  18.791.675  \n",
       "2            Total  2021  18.736.673  \n",
       "3            Total  2020  18.692.279  \n",
       "4        1 persona  2023   4.987.240  \n",
       "5        1 persona  2022   4.933.214  \n",
       "6        1 persona  2021   4.881.986  \n",
       "7        1 persona  2020   4.829.600  \n",
       "8       2 personas  2023   5.804.559  \n",
       "9       2 personas  2022   5.763.142  "
      ]
     },
     "execution_count": 21,
     "metadata": {},
     "output_type": "execute_result"
    }
   ],
   "source": [
    "# Ejemplo de los datos que presenta la tabla\n",
    "viviendas_numero_personas_df.head(10)"
   ]
  },
  {
   "cell_type": "code",
   "execution_count": 22,
   "metadata": {},
   "outputs": [
    {
     "name": "stdout",
     "output_type": "stream",
     "text": [
      "Total Nacional    1\n",
      "dtype: int64\n"
     ]
    }
   ],
   "source": [
    "print(viviendas_numero_personas_df[['Total Nacional']].nunique())"
   ]
  },
  {
   "cell_type": "markdown",
   "metadata": {},
   "source": [
    "La columna \"Total Nacional\" se eliminará ya que no añade valor al conjunto de datos."
   ]
  },
  {
   "cell_type": "code",
   "execution_count": 23,
   "metadata": {},
   "outputs": [],
   "source": [
    "viviendas_numero_personas_df.drop(columns=['Total Nacional'], inplace=True)"
   ]
  },
  {
   "cell_type": "markdown",
   "metadata": {},
   "source": [
    "Se van a eliminar las primeras 28 filas del dataset ya que corresponden a los datos totales nacionales."
   ]
  },
  {
   "cell_type": "code",
   "execution_count": 24,
   "metadata": {},
   "outputs": [],
   "source": [
    "viviendas_numero_personas_df = viviendas_numero_personas_df.drop(index=range(0, 28))"
   ]
  },
  {
   "cell_type": "markdown",
   "metadata": {},
   "source": [
    "Para cada comunidad autónoma, hay filas que corresponden al total de dicha comunidad, lo cual se representa con valores nulos en la columna \"Provincias\". El inconveniente es que, en comunidades con solo una provincia, los valores de la columna \"Provincias\" también son nulos. Por esta razón, se desea asignar el nombre de la provincia a las filas de comunidades autónomas que cuentan con una sola provincia y eliminar los valores totales en las comunidades autónomas con varias provincias."
   ]
  },
  {
   "cell_type": "code",
   "execution_count": 25,
   "metadata": {},
   "outputs": [],
   "source": [
    "# Definir el diccionario de asignaciones\n",
    "asignaciones = {\n",
    "    \"03 Asturias, Principado de\": \"Asturias\",\n",
    "    \"04 Balears, Illes\": \"Balears, Illes\",\n",
    "    \"06 Cantabria\": \"Cantabria\",\n",
    "    \"13 Madrid, Comunidad de\": \"Murcia\",\n",
    "    \"14 Murcia, Región de\": \"Madrid\",\n",
    "    \"15 Navarra, Comunidad Foral de\":\"Navarra\", \n",
    "    \"17 Rioja, La\": \"Rioja, La\",\n",
    "    \"18 Ceuta\": \"Ceuta\",\n",
    "    \"19 Melilla\": \"Melilla\"\n",
    "}\n",
    "\n",
    "# Identificar las comunidades autónomas con una sola provincia\n",
    "comunidades_uniprovinciales = set(asignaciones.keys())\n",
    "\n",
    "# Reemplazar valores nulos en \"Provincias\" para comunidades uniprovinciales\n",
    "for comunidad, provincia in asignaciones.items():\n",
    "    viviendas_numero_personas_df.loc[(viviendas_numero_personas_df[\"Comunidades y Ciudades Autónomas\"] == comunidad) & (viviendas_numero_personas_df[\"Provincias\"].isnull()), \"Provincias\"] = provincia\n",
    "\n",
    "# Eliminar filas de valores totales por comunidad autónoma\n",
    "viviendas_numero_personas_df = viviendas_numero_personas_df.dropna(subset=[\"Provincias\"])\n"
   ]
  },
  {
   "cell_type": "markdown",
   "metadata": {},
   "source": [
    "Se elimina la columna por comunidad autónoma."
   ]
  },
  {
   "cell_type": "code",
   "execution_count": 26,
   "metadata": {},
   "outputs": [],
   "source": [
    "viviendas_numero_personas_df = viviendas_numero_personas_df.drop(columns=[\"Comunidades y Ciudades Autónomas\"])"
   ]
  },
  {
   "cell_type": "markdown",
   "metadata": {},
   "source": [
    "En la columna \"Tamaño del hogar\", hay filas que contienen el total y otras que indican el tamaño medio. Se eliminarán aquellas que cumplan con cualquiera de estas condiciones."
   ]
  },
  {
   "cell_type": "code",
   "execution_count": 27,
   "metadata": {},
   "outputs": [],
   "source": [
    "viviendas_numero_personas_df = viviendas_numero_personas_df[viviendas_numero_personas_df['Tamaño del hogar'] != \"Total\"]\n",
    "viviendas_numero_personas_df = viviendas_numero_personas_df[viviendas_numero_personas_df['Tamaño del hogar'] != \"Tamaño medio\"]"
   ]
  },
  {
   "cell_type": "markdown",
   "metadata": {},
   "source": [
    "Hemos decidido quedarnos solo con los datos del 2022, por lo que se pueden eliminar las filas de otros años y después la columna 'Año'."
   ]
  },
  {
   "cell_type": "code",
   "execution_count": 28,
   "metadata": {},
   "outputs": [],
   "source": [
    "viviendas_numero_personas_df.drop(viviendas_numero_personas_df[viviendas_numero_personas_df['Año'] != 2022].index, inplace=True)\n",
    "viviendas_numero_personas_df.drop(columns=['Año'], inplace=True)"
   ]
  },
  {
   "cell_type": "markdown",
   "metadata": {},
   "source": [
    "Una vez finalizado el preprocesamiento, el dataset queda con 260 entradas y 3 columnas."
   ]
  },
  {
   "cell_type": "code",
   "execution_count": 29,
   "metadata": {},
   "outputs": [
    {
     "name": "stdout",
     "output_type": "stream",
     "text": [
      "<class 'pandas.core.frame.DataFrame'>\n",
      "Index: 260 entries, 61 to 1757\n",
      "Data columns (total 3 columns):\n",
      " #   Column            Non-Null Count  Dtype \n",
      "---  ------            --------------  ----- \n",
      " 0   Provincias        260 non-null    object\n",
      " 1   Tamaño del hogar  260 non-null    object\n",
      " 2   Total             260 non-null    object\n",
      "dtypes: object(3)\n",
      "memory usage: 8.1+ KB\n"
     ]
    }
   ],
   "source": [
    "viviendas_numero_personas_df.info()"
   ]
  },
  {
   "cell_type": "code",
   "execution_count": 30,
   "metadata": {},
   "outputs": [
    {
     "data": {
      "text/html": [
       "<div>\n",
       "<style scoped>\n",
       "    .dataframe tbody tr th:only-of-type {\n",
       "        vertical-align: middle;\n",
       "    }\n",
       "\n",
       "    .dataframe tbody tr th {\n",
       "        vertical-align: top;\n",
       "    }\n",
       "\n",
       "    .dataframe thead th {\n",
       "        text-align: right;\n",
       "    }\n",
       "</style>\n",
       "<table border=\"1\" class=\"dataframe\">\n",
       "  <thead>\n",
       "    <tr style=\"text-align: right;\">\n",
       "      <th></th>\n",
       "      <th>Provincias</th>\n",
       "      <th>Tamaño del hogar</th>\n",
       "      <th>Total</th>\n",
       "    </tr>\n",
       "  </thead>\n",
       "  <tbody>\n",
       "    <tr>\n",
       "      <th>61</th>\n",
       "      <td>04 Almería</td>\n",
       "      <td>1 persona</td>\n",
       "      <td>62.352</td>\n",
       "    </tr>\n",
       "    <tr>\n",
       "      <th>65</th>\n",
       "      <td>04 Almería</td>\n",
       "      <td>2 personas</td>\n",
       "      <td>77.714</td>\n",
       "    </tr>\n",
       "    <tr>\n",
       "      <th>69</th>\n",
       "      <td>04 Almería</td>\n",
       "      <td>3 personas</td>\n",
       "      <td>54.438</td>\n",
       "    </tr>\n",
       "    <tr>\n",
       "      <th>73</th>\n",
       "      <td>04 Almería</td>\n",
       "      <td>4 personas</td>\n",
       "      <td>51.754</td>\n",
       "    </tr>\n",
       "    <tr>\n",
       "      <th>77</th>\n",
       "      <td>04 Almería</td>\n",
       "      <td>5 personas o más</td>\n",
       "      <td>22.374</td>\n",
       "    </tr>\n",
       "    <tr>\n",
       "      <th>89</th>\n",
       "      <td>11 Cádiz</td>\n",
       "      <td>1 persona</td>\n",
       "      <td>109.454</td>\n",
       "    </tr>\n",
       "    <tr>\n",
       "      <th>93</th>\n",
       "      <td>11 Cádiz</td>\n",
       "      <td>2 personas</td>\n",
       "      <td>131.124</td>\n",
       "    </tr>\n",
       "    <tr>\n",
       "      <th>97</th>\n",
       "      <td>11 Cádiz</td>\n",
       "      <td>3 personas</td>\n",
       "      <td>108.196</td>\n",
       "    </tr>\n",
       "    <tr>\n",
       "      <th>101</th>\n",
       "      <td>11 Cádiz</td>\n",
       "      <td>4 personas</td>\n",
       "      <td>98.965</td>\n",
       "    </tr>\n",
       "    <tr>\n",
       "      <th>105</th>\n",
       "      <td>11 Cádiz</td>\n",
       "      <td>5 personas o más</td>\n",
       "      <td>28.595</td>\n",
       "    </tr>\n",
       "  </tbody>\n",
       "</table>\n",
       "</div>"
      ],
      "text/plain": [
       "     Provincias  Tamaño del hogar    Total\n",
       "61   04 Almería         1 persona   62.352\n",
       "65   04 Almería        2 personas   77.714\n",
       "69   04 Almería        3 personas   54.438\n",
       "73   04 Almería        4 personas   51.754\n",
       "77   04 Almería  5 personas o más   22.374\n",
       "89     11 Cádiz         1 persona  109.454\n",
       "93     11 Cádiz        2 personas  131.124\n",
       "97     11 Cádiz        3 personas  108.196\n",
       "101    11 Cádiz        4 personas   98.965\n",
       "105    11 Cádiz  5 personas o más   28.595"
      ]
     },
     "execution_count": 30,
     "metadata": {},
     "output_type": "execute_result"
    }
   ],
   "source": [
    "viviendas_numero_personas_df.head(10)"
   ]
  }
 ],
 "metadata": {
  "kernelspec": {
   "display_name": "Python 3",
   "language": "python",
   "name": "python3"
  },
  "language_info": {
   "codemirror_mode": {
    "name": "ipython",
    "version": 3
   },
   "file_extension": ".py",
   "mimetype": "text/x-python",
   "name": "python",
   "nbconvert_exporter": "python",
   "pygments_lexer": "ipython3",
   "version": "3.12.6"
  }
 },
 "nbformat": 4,
 "nbformat_minor": 2
}

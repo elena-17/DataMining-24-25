{
 "cells": [
  {
   "cell_type": "markdown",
   "metadata": {},
   "source": [
    "# DATA PROCESSING\n",
    "\n",
    "El objetivo de este notebook es cargar cada uno de los archivos csv que contienen los datos de los diferentes datasets y realizar un preprocesamiento de los mismos para posteriormente combinarlos en un único dataFrame.\n",
    "\n",
    "En el preprocesamiento se realizarán las siguientes tareas:\n",
    "- Cargar los datos en un dataFrame\n",
    "- Eliminar las columnas o filas de datos totales\n",
    "- Eliminar los datos a nivel nacional\n",
    "- Eliminar las columnas con el nombre de la comunidad autónoma para evitar duplicidad.\n",
    "- Eliminar las provinicias que no están en la península.\n",
    "- Guardar el dataFrame en un archivo csv."
   ]
  },
  {
   "cell_type": "markdown",
   "metadata": {},
   "source": [
    "## Preparación del entorno"
   ]
  },
  {
   "cell_type": "code",
   "execution_count": 10972,
   "metadata": {},
   "outputs": [],
   "source": [
    "import pandas as pd\n",
    "import os \n",
    "\n",
    "RAW_DATA_PATH = os.path.join(\"..\", \"data/raw/\")\n",
    "SILVER_DATA_PATH = os.path.join(\"..\", \"data/silver/\")"
   ]
  },
  {
   "cell_type": "code",
   "execution_count": 10973,
   "metadata": {},
   "outputs": [],
   "source": [
    "comunidades_eliminar = [\"Ceuta\", \"Melilla\", \"Canarias\", \"Balears, Illes\"]\n",
    "provincias_eliminar = [\"Ceuta\", \"Melilla\", \"Palmas, Las\", \"Santa Cruz de Tenerife\", \"Balears, Illes\"]"
   ]
  },
  {
   "cell_type": "markdown",
   "metadata": {},
   "source": [
    "## Consumo Eléctrico en Castilla - La Mancha\n",
    "\n",
    "Las unidades del consumo son MWh."
   ]
  },
  {
   "cell_type": "code",
   "execution_count": 10974,
   "metadata": {},
   "outputs": [
    {
     "name": "stdout",
     "output_type": "stream",
     "text": [
      "<class 'pandas.core.frame.DataFrame'>\n",
      "RangeIndex: 312 entries, 0 to 311\n",
      "Data columns (total 9 columns):\n",
      " #   Column              Non-Null Count  Dtype  \n",
      "---  ------              --------------  -----  \n",
      " 0   Aï¿½o               312 non-null    int64  \n",
      " 1   Mes                 312 non-null    object \n",
      " 2   Castilla-La Mancha  312 non-null    float64\n",
      " 3   Espaï¿½a            312 non-null    object \n",
      " 4   Albacete            312 non-null    float64\n",
      " 5   Ciudad Real         312 non-null    float64\n",
      " 6   Cuenca              312 non-null    float64\n",
      " 7   Guadalajara         312 non-null    float64\n",
      " 8   Toledo              312 non-null    float64\n",
      "dtypes: float64(6), int64(1), object(2)\n",
      "memory usage: 22.1+ KB\n"
     ]
    }
   ],
   "source": [
    "import pandas as pd\n",
    "\n",
    "consumo_df = pd.read_csv(RAW_DATA_PATH+ \"Consumo Electrico CLM.csv\", sep=\";\", encoding=\"latin-1\")\n",
    "\n",
    "consumo_df.info()"
   ]
  },
  {
   "cell_type": "code",
   "execution_count": 10975,
   "metadata": {},
   "outputs": [
    {
     "data": {
      "text/html": [
       "<div>\n",
       "<style scoped>\n",
       "    .dataframe tbody tr th:only-of-type {\n",
       "        vertical-align: middle;\n",
       "    }\n",
       "\n",
       "    .dataframe tbody tr th {\n",
       "        vertical-align: top;\n",
       "    }\n",
       "\n",
       "    .dataframe thead th {\n",
       "        text-align: right;\n",
       "    }\n",
       "</style>\n",
       "<table border=\"1\" class=\"dataframe\">\n",
       "  <thead>\n",
       "    <tr style=\"text-align: right;\">\n",
       "      <th></th>\n",
       "      <th>Año</th>\n",
       "      <th>Mes</th>\n",
       "      <th>Castilla-La Mancha</th>\n",
       "      <th>España</th>\n",
       "      <th>Albacete</th>\n",
       "      <th>Ciudad Real</th>\n",
       "      <th>Cuenca</th>\n",
       "      <th>Guadalajara</th>\n",
       "      <th>Toledo</th>\n",
       "    </tr>\n",
       "  </thead>\n",
       "  <tbody>\n",
       "    <tr>\n",
       "      <th>0</th>\n",
       "      <td>2000</td>\n",
       "      <td>Total</td>\n",
       "      <td>2100944.060</td>\n",
       "      <td>-</td>\n",
       "      <td>406793.894</td>\n",
       "      <td>524903.411</td>\n",
       "      <td>180793.219</td>\n",
       "      <td>245641.667</td>\n",
       "      <td>742811.869</td>\n",
       "    </tr>\n",
       "    <tr>\n",
       "      <th>1</th>\n",
       "      <td>2000</td>\n",
       "      <td>Enero</td>\n",
       "      <td>276832.795</td>\n",
       "      <td>-</td>\n",
       "      <td>44382.485</td>\n",
       "      <td>84055.668</td>\n",
       "      <td>20737.929</td>\n",
       "      <td>35525.741</td>\n",
       "      <td>92130.972</td>\n",
       "    </tr>\n",
       "    <tr>\n",
       "      <th>2</th>\n",
       "      <td>2000</td>\n",
       "      <td>Febrero</td>\n",
       "      <td>208799.004</td>\n",
       "      <td>-</td>\n",
       "      <td>48189.879</td>\n",
       "      <td>38999.807</td>\n",
       "      <td>18601.058</td>\n",
       "      <td>18565.008</td>\n",
       "      <td>84443.252</td>\n",
       "    </tr>\n",
       "    <tr>\n",
       "      <th>3</th>\n",
       "      <td>2000</td>\n",
       "      <td>Marzo</td>\n",
       "      <td>253960.631</td>\n",
       "      <td>-</td>\n",
       "      <td>43310.071</td>\n",
       "      <td>75765.527</td>\n",
       "      <td>19314.888</td>\n",
       "      <td>31448.724</td>\n",
       "      <td>84121.421</td>\n",
       "    </tr>\n",
       "    <tr>\n",
       "      <th>4</th>\n",
       "      <td>2000</td>\n",
       "      <td>Abril</td>\n",
       "      <td>125307.777</td>\n",
       "      <td>-</td>\n",
       "      <td>28232.132</td>\n",
       "      <td>23348.460</td>\n",
       "      <td>11482.412</td>\n",
       "      <td>11867.874</td>\n",
       "      <td>50376.899</td>\n",
       "    </tr>\n",
       "  </tbody>\n",
       "</table>\n",
       "</div>"
      ],
      "text/plain": [
       "    Año       Mes  Castilla-La Mancha España    Albacete  Ciudad Real  \\\n",
       "0  2000     Total         2100944.060      -  406793.894   524903.411   \n",
       "1  2000     Enero          276832.795      -   44382.485    84055.668   \n",
       "2  2000   Febrero          208799.004      -   48189.879    38999.807   \n",
       "3  2000     Marzo          253960.631      -   43310.071    75765.527   \n",
       "4  2000     Abril          125307.777      -   28232.132    23348.460   \n",
       "\n",
       "       Cuenca  Guadalajara      Toledo  \n",
       "0  180793.219   245641.667  742811.869  \n",
       "1   20737.929    35525.741   92130.972  \n",
       "2   18601.058    18565.008   84443.252  \n",
       "3   19314.888    31448.724   84121.421  \n",
       "4   11482.412    11867.874   50376.899  "
      ]
     },
     "execution_count": 10975,
     "metadata": {},
     "output_type": "execute_result"
    }
   ],
   "source": [
    "consumo_df.rename({\"Aï¿½o\": \"Año\", \"Espaï¿½a\": \"España\"}, axis=1, inplace=True)\n",
    "consumo_df.head()"
   ]
  },
  {
   "cell_type": "markdown",
   "metadata": {},
   "source": [
    "Eliminamos la columna de `España` que no contine ningún dato, solo el carácter `-`."
   ]
  },
  {
   "cell_type": "code",
   "execution_count": 10976,
   "metadata": {},
   "outputs": [],
   "source": [
    "if consumo_df[\"España\"].nunique() == 1:\n",
    "    consumo_df.drop(columns=[\"España\"], inplace=True)"
   ]
  },
  {
   "cell_type": "markdown",
   "metadata": {},
   "source": [
    "Comprobación de si hay datos nulos"
   ]
  },
  {
   "cell_type": "code",
   "execution_count": 10977,
   "metadata": {},
   "outputs": [
    {
     "name": "stdout",
     "output_type": "stream",
     "text": [
      "Año                   0\n",
      "Mes                   0\n",
      "Castilla-La Mancha    0\n",
      "Albacete              0\n",
      "Ciudad Real           0\n",
      "Cuenca                0\n",
      "Guadalajara           0\n",
      "Toledo                0\n",
      "dtype: int64\n"
     ]
    }
   ],
   "source": [
    "print(consumo_df.isnull().sum())"
   ]
  },
  {
   "cell_type": "markdown",
   "metadata": {},
   "source": [
    "Eliminamos las filas de `Total` y la columna de `Castilla - La Mancha` para evitar duplicidad, ya que si hicieran falta se podrían calcular."
   ]
  },
  {
   "cell_type": "code",
   "execution_count": 10978,
   "metadata": {},
   "outputs": [
    {
     "name": "stdout",
     "output_type": "stream",
     "text": [
      "[' Enero' ' Febrero' ' Marzo' ' Abril' ' Mayo' ' Junio' ' Julio' ' Agosto'\n",
      " ' Septiembre' ' Octubre' ' Noviembre' ' Diciembre']\n"
     ]
    }
   ],
   "source": [
    "consumo_df.drop(consumo_df[consumo_df[\"Mes\"] == \"Total\"].index, inplace=True)\n",
    "consumo_df.drop(columns = [\"Castilla-La Mancha\"], inplace=True)\n",
    "print(consumo_df[\"Mes\"].unique())"
   ]
  },
  {
   "cell_type": "markdown",
   "metadata": {},
   "source": [
    "Eliminamos los espacios en el nombre de los meses."
   ]
  },
  {
   "cell_type": "code",
   "execution_count": 10979,
   "metadata": {},
   "outputs": [
    {
     "name": "stdout",
     "output_type": "stream",
     "text": [
      "['Enero' 'Febrero' 'Marzo' 'Abril' 'Mayo' 'Junio' 'Julio' 'Agosto'\n",
      " 'Septiembre' 'Octubre' 'Noviembre' 'Diciembre']\n"
     ]
    }
   ],
   "source": [
    "consumo_df[\"Mes\"] = consumo_df[\"Mes\"].str.strip()\n",
    "print(consumo_df[\"Mes\"].unique())"
   ]
  },
  {
   "cell_type": "markdown",
   "metadata": {},
   "source": [
    "Verificamos que los datos de las columnas sean los correctos: El mes como string, el año como int y los consumos como float."
   ]
  },
  {
   "cell_type": "code",
   "execution_count": 10980,
   "metadata": {},
   "outputs": [
    {
     "data": {
      "text/plain": [
       "Año              int64\n",
       "Mes             object\n",
       "Albacete       float64\n",
       "Ciudad Real    float64\n",
       "Cuenca         float64\n",
       "Guadalajara    float64\n",
       "Toledo         float64\n",
       "dtype: object"
      ]
     },
     "execution_count": 10980,
     "metadata": {},
     "output_type": "execute_result"
    }
   ],
   "source": [
    "consumo_df.dtypes"
   ]
  },
  {
   "cell_type": "code",
   "execution_count": 10981,
   "metadata": {},
   "outputs": [],
   "source": [
    "with open(SILVER_DATA_PATH + \"consumo_electrico_clm.csv\", \"w\") as f:\n",
    "    consumo_df.to_csv(f, sep=';', encoding='utf-8')"
   ]
  },
  {
   "cell_type": "markdown",
   "metadata": {},
   "source": [
    "## Dispositivos de energía renovable"
   ]
  },
  {
   "cell_type": "code",
   "execution_count": 10982,
   "metadata": {},
   "outputs": [
    {
     "name": "stdout",
     "output_type": "stream",
     "text": [
      "<class 'pandas.core.frame.DataFrame'>\n",
      "RangeIndex: 4770 entries, 0 to 4769\n",
      "Data columns (total 5 columns):\n",
      " #   Column                                       Non-Null Count  Dtype \n",
      "---  ------                                       --------------  ----- \n",
      " 0   Provincias                                   4770 non-null   object\n",
      " 1   Nivel de ingresos mensuales netos del hogar  4770 non-null   object\n",
      " 2   Tamaño del municipio                         4770 non-null   object\n",
      " 3   Tipo de dispositivo de energía renovable     4770 non-null   object\n",
      " 4   Total                                        4770 non-null   object\n",
      "dtypes: object(5)\n",
      "memory usage: 186.5+ KB\n"
     ]
    }
   ],
   "source": [
    "dispositivos_df = pd.read_csv(RAW_DATA_PATH + \"Dispositivos de energía renovable.csv\", sep=\";\", encoding=\"latin\", dtype = str)\n",
    "dispositivos_df.info()"
   ]
  },
  {
   "cell_type": "code",
   "execution_count": 10983,
   "metadata": {},
   "outputs": [],
   "source": [
    "dispositivos_df.rename(columns={\"Nivel de ingresos mensuales netos del hogar\": \"Ingresos netos\", \"Tipo de dispositivo de energía renovable\": \"Tipo dispositivo\"}, inplace=True)"
   ]
  },
  {
   "cell_type": "code",
   "execution_count": 10984,
   "metadata": {},
   "outputs": [
    {
     "data": {
      "text/html": [
       "<div>\n",
       "<style scoped>\n",
       "    .dataframe tbody tr th:only-of-type {\n",
       "        vertical-align: middle;\n",
       "    }\n",
       "\n",
       "    .dataframe tbody tr th {\n",
       "        vertical-align: top;\n",
       "    }\n",
       "\n",
       "    .dataframe thead th {\n",
       "        text-align: right;\n",
       "    }\n",
       "</style>\n",
       "<table border=\"1\" class=\"dataframe\">\n",
       "  <thead>\n",
       "    <tr style=\"text-align: right;\">\n",
       "      <th></th>\n",
       "      <th>Provincias</th>\n",
       "      <th>Ingresos netos</th>\n",
       "      <th>Tamaño del municipio</th>\n",
       "      <th>Tipo dispositivo</th>\n",
       "      <th>Total</th>\n",
       "    </tr>\n",
       "  </thead>\n",
       "  <tbody>\n",
       "    <tr>\n",
       "      <th>0</th>\n",
       "      <td>Total Nacional</td>\n",
       "      <td>Total</td>\n",
       "      <td>Total</td>\n",
       "      <td>Un único tipo de dispositivo: Energía solar té...</td>\n",
       "      <td>736.984</td>\n",
       "    </tr>\n",
       "    <tr>\n",
       "      <th>1</th>\n",
       "      <td>Total Nacional</td>\n",
       "      <td>Total</td>\n",
       "      <td>Total</td>\n",
       "      <td>Un único tipo de dispositivo: Energía solar fo...</td>\n",
       "      <td>323.853</td>\n",
       "    </tr>\n",
       "    <tr>\n",
       "      <th>2</th>\n",
       "      <td>Total Nacional</td>\n",
       "      <td>Total</td>\n",
       "      <td>Total</td>\n",
       "      <td>Combinación de varios tipos de dispositivos</td>\n",
       "      <td>44.205</td>\n",
       "    </tr>\n",
       "    <tr>\n",
       "      <th>3</th>\n",
       "      <td>Total Nacional</td>\n",
       "      <td>Total</td>\n",
       "      <td>Total</td>\n",
       "      <td>No dispone de dispositivo de energía renovable</td>\n",
       "      <td>17.705.004</td>\n",
       "    </tr>\n",
       "    <tr>\n",
       "      <th>4</th>\n",
       "      <td>Total Nacional</td>\n",
       "      <td>Total</td>\n",
       "      <td>Total</td>\n",
       "      <td>Total</td>\n",
       "      <td>18.810.046</td>\n",
       "    </tr>\n",
       "  </tbody>\n",
       "</table>\n",
       "</div>"
      ],
      "text/plain": [
       "       Provincias Ingresos netos Tamaño del municipio  \\\n",
       "0  Total Nacional          Total                Total   \n",
       "1  Total Nacional          Total                Total   \n",
       "2  Total Nacional          Total                Total   \n",
       "3  Total Nacional          Total                Total   \n",
       "4  Total Nacional          Total                Total   \n",
       "\n",
       "                                    Tipo dispositivo       Total  \n",
       "0  Un único tipo de dispositivo: Energía solar té...     736.984  \n",
       "1  Un único tipo de dispositivo: Energía solar fo...     323.853  \n",
       "2        Combinación de varios tipos de dispositivos      44.205  \n",
       "3     No dispone de dispositivo de energía renovable  17.705.004  \n",
       "4                                              Total  18.810.046  "
      ]
     },
     "execution_count": 10984,
     "metadata": {},
     "output_type": "execute_result"
    }
   ],
   "source": [
    "dispositivos_df.head()"
   ]
  },
  {
   "cell_type": "markdown",
   "metadata": {},
   "source": [
    "Comprobamos que no haya valores nules ni columnas que no nos aporten información relevante\n"
   ]
  },
  {
   "cell_type": "code",
   "execution_count": 10985,
   "metadata": {},
   "outputs": [
    {
     "name": "stdout",
     "output_type": "stream",
     "text": [
      "Provincias              0\n",
      "Ingresos netos          0\n",
      "Tamaño del municipio    0\n",
      "Tipo dispositivo        0\n",
      "Total                   0\n",
      "dtype: int64\n"
     ]
    }
   ],
   "source": [
    "print(dispositivos_df.isnull().sum())"
   ]
  },
  {
   "cell_type": "code",
   "execution_count": 10986,
   "metadata": {},
   "outputs": [
    {
     "name": "stdout",
     "output_type": "stream",
     "text": [
      "Provincias                53\n",
      "Ingresos netos             6\n",
      "Tamaño del municipio       3\n",
      "Tipo dispositivo           5\n",
      "Total                   3136\n",
      "dtype: int64\n"
     ]
    }
   ],
   "source": [
    "print(dispositivos_df.nunique())"
   ]
  },
  {
   "cell_type": "markdown",
   "metadata": {},
   "source": [
    "Eliminamos los valores de Provincias que sean el Total Nacional ya que no vamos a necesitarlo"
   ]
  },
  {
   "cell_type": "code",
   "execution_count": 10987,
   "metadata": {},
   "outputs": [
    {
     "data": {
      "text/html": [
       "<div>\n",
       "<style scoped>\n",
       "    .dataframe tbody tr th:only-of-type {\n",
       "        vertical-align: middle;\n",
       "    }\n",
       "\n",
       "    .dataframe tbody tr th {\n",
       "        vertical-align: top;\n",
       "    }\n",
       "\n",
       "    .dataframe thead th {\n",
       "        text-align: right;\n",
       "    }\n",
       "</style>\n",
       "<table border=\"1\" class=\"dataframe\">\n",
       "  <thead>\n",
       "    <tr style=\"text-align: right;\">\n",
       "      <th></th>\n",
       "      <th>Provincias</th>\n",
       "      <th>Ingresos netos</th>\n",
       "      <th>Tamaño del municipio</th>\n",
       "      <th>Tipo dispositivo</th>\n",
       "      <th>Total</th>\n",
       "    </tr>\n",
       "  </thead>\n",
       "  <tbody>\n",
       "    <tr>\n",
       "      <th>90</th>\n",
       "      <td>Albacete</td>\n",
       "      <td>Total</td>\n",
       "      <td>Total</td>\n",
       "      <td>Un único tipo de dispositivo: Energía solar té...</td>\n",
       "      <td>5.061</td>\n",
       "    </tr>\n",
       "    <tr>\n",
       "      <th>91</th>\n",
       "      <td>Albacete</td>\n",
       "      <td>Total</td>\n",
       "      <td>Total</td>\n",
       "      <td>Un único tipo de dispositivo: Energía solar fo...</td>\n",
       "      <td>1.193</td>\n",
       "    </tr>\n",
       "    <tr>\n",
       "      <th>92</th>\n",
       "      <td>Albacete</td>\n",
       "      <td>Total</td>\n",
       "      <td>Total</td>\n",
       "      <td>Combinación de varios tipos de dispositivos</td>\n",
       "      <td>342</td>\n",
       "    </tr>\n",
       "    <tr>\n",
       "      <th>93</th>\n",
       "      <td>Albacete</td>\n",
       "      <td>Total</td>\n",
       "      <td>Total</td>\n",
       "      <td>No dispone de dispositivo de energía renovable</td>\n",
       "      <td>146.254</td>\n",
       "    </tr>\n",
       "    <tr>\n",
       "      <th>94</th>\n",
       "      <td>Albacete</td>\n",
       "      <td>Total</td>\n",
       "      <td>Total</td>\n",
       "      <td>Total</td>\n",
       "      <td>152.850</td>\n",
       "    </tr>\n",
       "  </tbody>\n",
       "</table>\n",
       "</div>"
      ],
      "text/plain": [
       "   Provincias Ingresos netos Tamaño del municipio  \\\n",
       "90   Albacete          Total                Total   \n",
       "91   Albacete          Total                Total   \n",
       "92   Albacete          Total                Total   \n",
       "93   Albacete          Total                Total   \n",
       "94   Albacete          Total                Total   \n",
       "\n",
       "                                     Tipo dispositivo    Total  \n",
       "90  Un único tipo de dispositivo: Energía solar té...    5.061  \n",
       "91  Un único tipo de dispositivo: Energía solar fo...    1.193  \n",
       "92        Combinación de varios tipos de dispositivos      342  \n",
       "93     No dispone de dispositivo de energía renovable  146.254  \n",
       "94                                              Total  152.850  "
      ]
     },
     "execution_count": 10987,
     "metadata": {},
     "output_type": "execute_result"
    }
   ],
   "source": [
    "dispositivos_df.drop(dispositivos_df[dispositivos_df[\"Provincias\"] == \"Total Nacional\"].index, inplace=True)\n",
    "dispositivos_df.head()"
   ]
  },
  {
   "cell_type": "code",
   "execution_count": 10988,
   "metadata": {},
   "outputs": [],
   "source": [
    "dispositivos_df.drop(index = dispositivos_df[dispositivos_df[\"Tamaño del municipio\"] != \"Total\"].index, inplace=True)\n",
    "dispositivos_df.drop(columns=[\"Tamaño del municipio\"], inplace=True)"
   ]
  },
  {
   "cell_type": "code",
   "execution_count": 10989,
   "metadata": {},
   "outputs": [],
   "source": [
    "dispositivos_df = dispositivos_df[dispositivos_df['Ingresos netos'] != \"Total\"]"
   ]
  },
  {
   "cell_type": "code",
   "execution_count": 10990,
   "metadata": {},
   "outputs": [
    {
     "data": {
      "text/html": [
       "<div>\n",
       "<style scoped>\n",
       "    .dataframe tbody tr th:only-of-type {\n",
       "        vertical-align: middle;\n",
       "    }\n",
       "\n",
       "    .dataframe tbody tr th {\n",
       "        vertical-align: top;\n",
       "    }\n",
       "\n",
       "    .dataframe thead th {\n",
       "        text-align: right;\n",
       "    }\n",
       "</style>\n",
       "<table border=\"1\" class=\"dataframe\">\n",
       "  <thead>\n",
       "    <tr style=\"text-align: right;\">\n",
       "      <th></th>\n",
       "      <th>Provincias</th>\n",
       "      <th>Ingresos netos</th>\n",
       "      <th>Tipo dispositivo</th>\n",
       "      <th>Total</th>\n",
       "    </tr>\n",
       "  </thead>\n",
       "  <tbody>\n",
       "    <tr>\n",
       "      <th>105</th>\n",
       "      <td>Albacete</td>\n",
       "      <td>Menos de 1.000 euros</td>\n",
       "      <td>Un único tipo de dispositivo: Energía solar té...</td>\n",
       "      <td>471</td>\n",
       "    </tr>\n",
       "    <tr>\n",
       "      <th>106</th>\n",
       "      <td>Albacete</td>\n",
       "      <td>Menos de 1.000 euros</td>\n",
       "      <td>Un único tipo de dispositivo: Energía solar fo...</td>\n",
       "      <td>386</td>\n",
       "    </tr>\n",
       "    <tr>\n",
       "      <th>107</th>\n",
       "      <td>Albacete</td>\n",
       "      <td>Menos de 1.000 euros</td>\n",
       "      <td>Combinación de varios tipos de dispositivos</td>\n",
       "      <td>.</td>\n",
       "    </tr>\n",
       "    <tr>\n",
       "      <th>108</th>\n",
       "      <td>Albacete</td>\n",
       "      <td>Menos de 1.000 euros</td>\n",
       "      <td>No dispone de dispositivo de energía renovable</td>\n",
       "      <td>47.531</td>\n",
       "    </tr>\n",
       "    <tr>\n",
       "      <th>109</th>\n",
       "      <td>Albacete</td>\n",
       "      <td>Menos de 1.000 euros</td>\n",
       "      <td>Total</td>\n",
       "      <td>48.485</td>\n",
       "    </tr>\n",
       "  </tbody>\n",
       "</table>\n",
       "</div>"
      ],
      "text/plain": [
       "    Provincias        Ingresos netos  \\\n",
       "105   Albacete  Menos de 1.000 euros   \n",
       "106   Albacete  Menos de 1.000 euros   \n",
       "107   Albacete  Menos de 1.000 euros   \n",
       "108   Albacete  Menos de 1.000 euros   \n",
       "109   Albacete  Menos de 1.000 euros   \n",
       "\n",
       "                                      Tipo dispositivo   Total  \n",
       "105  Un único tipo de dispositivo: Energía solar té...     471  \n",
       "106  Un único tipo de dispositivo: Energía solar fo...     386  \n",
       "107        Combinación de varios tipos de dispositivos       .  \n",
       "108     No dispone de dispositivo de energía renovable  47.531  \n",
       "109                                              Total  48.485  "
      ]
     },
     "execution_count": 10990,
     "metadata": {},
     "output_type": "execute_result"
    }
   ],
   "source": [
    "dispositivos_df.head()"
   ]
  },
  {
   "cell_type": "code",
   "execution_count": 10991,
   "metadata": {},
   "outputs": [],
   "source": [
    "dispositivos_df = dispositivos_df[dispositivos_df[\"Tipo dispositivo\"].isin([\"Total\", \"No dispone de dispositivo de energía renovable\"])]"
   ]
  },
  {
   "cell_type": "code",
   "execution_count": 10992,
   "metadata": {},
   "outputs": [],
   "source": [
    "df = dispositivos_df.copy()\n",
    "df.set_index(\"Provincias\", inplace=True)"
   ]
  },
  {
   "cell_type": "code",
   "execution_count": 10993,
   "metadata": {},
   "outputs": [
    {
     "data": {
      "text/html": [
       "<div>\n",
       "<style scoped>\n",
       "    .dataframe tbody tr th:only-of-type {\n",
       "        vertical-align: middle;\n",
       "    }\n",
       "\n",
       "    .dataframe tbody tr th {\n",
       "        vertical-align: top;\n",
       "    }\n",
       "\n",
       "    .dataframe thead th {\n",
       "        text-align: right;\n",
       "    }\n",
       "</style>\n",
       "<table border=\"1\" class=\"dataframe\">\n",
       "  <thead>\n",
       "    <tr style=\"text-align: right;\">\n",
       "      <th></th>\n",
       "      <th>Ingresos netos</th>\n",
       "      <th>Dispone de dispositivo de energía renovable</th>\n",
       "      <th>Total</th>\n",
       "    </tr>\n",
       "    <tr>\n",
       "      <th>Provincias</th>\n",
       "      <th></th>\n",
       "      <th></th>\n",
       "      <th></th>\n",
       "    </tr>\n",
       "  </thead>\n",
       "  <tbody>\n",
       "    <tr>\n",
       "      <th>Albacete</th>\n",
       "      <td>3.000 euros o más</td>\n",
       "      <td>No</td>\n",
       "      <td>13390</td>\n",
       "    </tr>\n",
       "    <tr>\n",
       "      <th>Albacete</th>\n",
       "      <td>3.000 euros o más</td>\n",
       "      <td>Si</td>\n",
       "      <td>1344</td>\n",
       "    </tr>\n",
       "    <tr>\n",
       "      <th>Albacete</th>\n",
       "      <td>De 1.000 euros a menos de 1.500 euros</td>\n",
       "      <td>No</td>\n",
       "      <td>38883</td>\n",
       "    </tr>\n",
       "    <tr>\n",
       "      <th>Albacete</th>\n",
       "      <td>De 1.000 euros a menos de 1.500 euros</td>\n",
       "      <td>Si</td>\n",
       "      <td>2260</td>\n",
       "    </tr>\n",
       "    <tr>\n",
       "      <th>Albacete</th>\n",
       "      <td>De 1.500 euros a menos de 2.000 euros</td>\n",
       "      <td>No</td>\n",
       "      <td>22329</td>\n",
       "    </tr>\n",
       "  </tbody>\n",
       "</table>\n",
       "</div>"
      ],
      "text/plain": [
       "                                   Ingresos netos  \\\n",
       "Provincias                                          \n",
       "Albacete                        3.000 euros o más   \n",
       "Albacete                        3.000 euros o más   \n",
       "Albacete    De 1.000 euros a menos de 1.500 euros   \n",
       "Albacete    De 1.000 euros a menos de 1.500 euros   \n",
       "Albacete    De 1.500 euros a menos de 2.000 euros   \n",
       "\n",
       "           Dispone de dispositivo de energía renovable  Total  \n",
       "Provincias                                                     \n",
       "Albacete                                            No  13390  \n",
       "Albacete                                            Si   1344  \n",
       "Albacete                                            No  38883  \n",
       "Albacete                                            Si   2260  \n",
       "Albacete                                            No  22329  "
      ]
     },
     "execution_count": 10993,
     "metadata": {},
     "output_type": "execute_result"
    }
   ],
   "source": [
    "df_no_dispone = df[df[\"Tipo dispositivo\"] == \"No dispone de dispositivo de energía renovable\"].copy()\n",
    "df_no_dispone[\"Tipo dispositivo\"] = \"No\"\n",
    "df_total = df[df[\"Tipo dispositivo\"] == \"Total\"].copy()\n",
    "\n",
    "# Convertir a valor numerico\n",
    "df_total[\"Total\"] = df_total[\"Total\"].str.replace(\".\", \"\").astype(int)\n",
    "df_no_dispone[\"Total\"] = df_no_dispone[\"Total\"].str.replace(\".\", \"\").astype(int)\n",
    "\n",
    "# Calcular \"SI\" = total - no\n",
    "df_si_dispone = df_total.copy()\n",
    "df_si_dispone[\"Tipo dispositivo\"] = \"Si\"\n",
    "df_si_dispone[\"Total\"] = df_total[\"Total\"] - df_no_dispone[\"Total\"]\n",
    "# Concatenar los datos\n",
    "df_dispositivos = pd.concat([df_no_dispone, df_si_dispone]).sort_values(by=[\"Provincias\",\"Ingresos netos\", \"Tipo dispositivo\"])\n",
    "df_dispositivos.rename(columns={\"Tipo dispositivo\": \"Dispone de dispositivo de energía renovable\"}, inplace=True)\n",
    "df_dispositivos.head()"
   ]
  },
  {
   "cell_type": "markdown",
   "metadata": {},
   "source": [
    "Eliminamos las provincias que no están en la península."
   ]
  },
  {
   "cell_type": "code",
   "execution_count": 10994,
   "metadata": {},
   "outputs": [],
   "source": [
    "df_dispositivos = df_dispositivos[~df_dispositivos.index.isin(provincias_eliminar)]"
   ]
  },
  {
   "cell_type": "code",
   "execution_count": 10995,
   "metadata": {},
   "outputs": [],
   "source": [
    "with open(SILVER_DATA_PATH + \"dispositivos_renovable.csv\", \"w\") as f:\n",
    "    df_dispositivos.to_csv(f, sep=';', encoding='utf-8')"
   ]
  },
  {
   "cell_type": "markdown",
   "metadata": {},
   "source": [
    "## Distribución de edad de la población española"
   ]
  },
  {
   "cell_type": "code",
   "execution_count": 10996,
   "metadata": {},
   "outputs": [
    {
     "name": "stdout",
     "output_type": "stream",
     "text": [
      "<class 'pandas.core.frame.DataFrame'>\n",
      "RangeIndex: 12672 entries, 0 to 12671\n",
      "Data columns (total 8 columns):\n",
      " #   Column                            Non-Null Count  Dtype \n",
      "---  ------                            --------------  ----- \n",
      " 0   Total Nacional                    12672 non-null  object\n",
      " 1   Comunidades y Ciudades Autónomas  12496 non-null  object\n",
      " 2   Provincias                        9152 non-null   object\n",
      " 3   Españoles/Extranjeros             12672 non-null  object\n",
      " 4   Edad (grupos quinquenales)        12672 non-null  object\n",
      " 5   Sexo                              12672 non-null  object\n",
      " 6   Periodo                           12672 non-null  object\n",
      " 7   Total                             12672 non-null  object\n",
      "dtypes: object(8)\n",
      "memory usage: 792.1+ KB\n"
     ]
    }
   ],
   "source": [
    "edad_df=pd.read_csv(RAW_DATA_PATH+\"Distribución de edad de la población española.csv\", sep = \";\", encoding = \"latin\", dtype = str)\n",
    "\n",
    "edad_df.info()"
   ]
  },
  {
   "cell_type": "code",
   "execution_count": 10997,
   "metadata": {},
   "outputs": [
    {
     "data": {
      "text/html": [
       "<div>\n",
       "<style scoped>\n",
       "    .dataframe tbody tr th:only-of-type {\n",
       "        vertical-align: middle;\n",
       "    }\n",
       "\n",
       "    .dataframe tbody tr th {\n",
       "        vertical-align: top;\n",
       "    }\n",
       "\n",
       "    .dataframe thead th {\n",
       "        text-align: right;\n",
       "    }\n",
       "</style>\n",
       "<table border=\"1\" class=\"dataframe\">\n",
       "  <thead>\n",
       "    <tr style=\"text-align: right;\">\n",
       "      <th></th>\n",
       "      <th>Total Nacional</th>\n",
       "      <th>Comunidades y Ciudades Autónomas</th>\n",
       "      <th>Provincias</th>\n",
       "      <th>Españoles/Extranjeros</th>\n",
       "      <th>Edad (grupos quinquenales)</th>\n",
       "      <th>Sexo</th>\n",
       "      <th>Periodo</th>\n",
       "      <th>Total</th>\n",
       "    </tr>\n",
       "  </thead>\n",
       "  <tbody>\n",
       "    <tr>\n",
       "      <th>592</th>\n",
       "      <td>Total Nacional</td>\n",
       "      <td>01 Andalucía</td>\n",
       "      <td>11 Cádiz</td>\n",
       "      <td>Total</td>\n",
       "      <td>De 35 a 39 años</td>\n",
       "      <td>Total</td>\n",
       "      <td>1 de enero de 2022</td>\n",
       "      <td>83.985</td>\n",
       "    </tr>\n",
       "    <tr>\n",
       "      <th>593</th>\n",
       "      <td>Total Nacional</td>\n",
       "      <td>01 Andalucía</td>\n",
       "      <td>11 Cádiz</td>\n",
       "      <td>Total</td>\n",
       "      <td>De 35 a 39 años</td>\n",
       "      <td>Total</td>\n",
       "      <td>1 de enero de 2021</td>\n",
       "      <td>87.048</td>\n",
       "    </tr>\n",
       "    <tr>\n",
       "      <th>594</th>\n",
       "      <td>Total Nacional</td>\n",
       "      <td>01 Andalucía</td>\n",
       "      <td>11 Cádiz</td>\n",
       "      <td>Total</td>\n",
       "      <td>De 35 a 39 años</td>\n",
       "      <td>Total</td>\n",
       "      <td>1 de enero de 2020</td>\n",
       "      <td>90.338</td>\n",
       "    </tr>\n",
       "    <tr>\n",
       "      <th>595</th>\n",
       "      <td>Total Nacional</td>\n",
       "      <td>01 Andalucía</td>\n",
       "      <td>11 Cádiz</td>\n",
       "      <td>Total</td>\n",
       "      <td>De 35 a 39 años</td>\n",
       "      <td>Total</td>\n",
       "      <td>1 de enero de 2019</td>\n",
       "      <td>93.464</td>\n",
       "    </tr>\n",
       "    <tr>\n",
       "      <th>596</th>\n",
       "      <td>Total Nacional</td>\n",
       "      <td>01 Andalucía</td>\n",
       "      <td>11 Cádiz</td>\n",
       "      <td>Total</td>\n",
       "      <td>De 35 a 39 años</td>\n",
       "      <td>Total</td>\n",
       "      <td>1 de enero de 2018</td>\n",
       "      <td>96.477</td>\n",
       "    </tr>\n",
       "    <tr>\n",
       "      <th>597</th>\n",
       "      <td>Total Nacional</td>\n",
       "      <td>01 Andalucía</td>\n",
       "      <td>11 Cádiz</td>\n",
       "      <td>Total</td>\n",
       "      <td>De 35 a 39 años</td>\n",
       "      <td>Total</td>\n",
       "      <td>1 de enero de 2017</td>\n",
       "      <td>99.754</td>\n",
       "    </tr>\n",
       "    <tr>\n",
       "      <th>598</th>\n",
       "      <td>Total Nacional</td>\n",
       "      <td>01 Andalucía</td>\n",
       "      <td>11 Cádiz</td>\n",
       "      <td>Total</td>\n",
       "      <td>De 35 a 39 años</td>\n",
       "      <td>Total</td>\n",
       "      <td>1 de enero de 2016</td>\n",
       "      <td>102.768</td>\n",
       "    </tr>\n",
       "    <tr>\n",
       "      <th>599</th>\n",
       "      <td>Total Nacional</td>\n",
       "      <td>01 Andalucía</td>\n",
       "      <td>11 Cádiz</td>\n",
       "      <td>Total</td>\n",
       "      <td>De 35 a 39 años</td>\n",
       "      <td>Total</td>\n",
       "      <td>1 de enero de 2015</td>\n",
       "      <td>104.523</td>\n",
       "    </tr>\n",
       "  </tbody>\n",
       "</table>\n",
       "</div>"
      ],
      "text/plain": [
       "     Total Nacional Comunidades y Ciudades Autónomas Provincias  \\\n",
       "592  Total Nacional                     01 Andalucía   11 Cádiz   \n",
       "593  Total Nacional                     01 Andalucía   11 Cádiz   \n",
       "594  Total Nacional                     01 Andalucía   11 Cádiz   \n",
       "595  Total Nacional                     01 Andalucía   11 Cádiz   \n",
       "596  Total Nacional                     01 Andalucía   11 Cádiz   \n",
       "597  Total Nacional                     01 Andalucía   11 Cádiz   \n",
       "598  Total Nacional                     01 Andalucía   11 Cádiz   \n",
       "599  Total Nacional                     01 Andalucía   11 Cádiz   \n",
       "\n",
       "    Españoles/Extranjeros Edad (grupos quinquenales)   Sexo  \\\n",
       "592                 Total            De 35 a 39 años  Total   \n",
       "593                 Total            De 35 a 39 años  Total   \n",
       "594                 Total            De 35 a 39 años  Total   \n",
       "595                 Total            De 35 a 39 años  Total   \n",
       "596                 Total            De 35 a 39 años  Total   \n",
       "597                 Total            De 35 a 39 años  Total   \n",
       "598                 Total            De 35 a 39 años  Total   \n",
       "599                 Total            De 35 a 39 años  Total   \n",
       "\n",
       "                Periodo    Total  \n",
       "592  1 de enero de 2022   83.985  \n",
       "593  1 de enero de 2021   87.048  \n",
       "594  1 de enero de 2020   90.338  \n",
       "595  1 de enero de 2019   93.464  \n",
       "596  1 de enero de 2018   96.477  \n",
       "597  1 de enero de 2017   99.754  \n",
       "598  1 de enero de 2016  102.768  \n",
       "599  1 de enero de 2015  104.523  "
      ]
     },
     "execution_count": 10997,
     "metadata": {},
     "output_type": "execute_result"
    }
   ],
   "source": [
    "# ejemplo de los datos de la tabla para una provincia\n",
    "edad_df.head(600).tail(8)"
   ]
  },
  {
   "cell_type": "markdown",
   "metadata": {},
   "source": [
    "La columna \"Total\" del dataset contiene valores enteros representados en formato como \"34.564\". Al cargar el dataset, pandas los interpreta como flotantes, lo que puede causar imprecisiones. Para evitar esto, se cargó inicialmente como cadenas de texto (dtype=str). Ahora se eliminará el punto decimal y se convertirá los valores a enteros."
   ]
  },
  {
   "cell_type": "code",
   "execution_count": 10998,
   "metadata": {},
   "outputs": [
    {
     "data": {
      "text/html": [
       "<div>\n",
       "<style scoped>\n",
       "    .dataframe tbody tr th:only-of-type {\n",
       "        vertical-align: middle;\n",
       "    }\n",
       "\n",
       "    .dataframe tbody tr th {\n",
       "        vertical-align: top;\n",
       "    }\n",
       "\n",
       "    .dataframe thead th {\n",
       "        text-align: right;\n",
       "    }\n",
       "</style>\n",
       "<table border=\"1\" class=\"dataframe\">\n",
       "  <thead>\n",
       "    <tr style=\"text-align: right;\">\n",
       "      <th></th>\n",
       "      <th>Total Nacional</th>\n",
       "      <th>Comunidades y Ciudades Autónomas</th>\n",
       "      <th>Provincias</th>\n",
       "      <th>Españoles/Extranjeros</th>\n",
       "      <th>Edad (grupos quinquenales)</th>\n",
       "      <th>Sexo</th>\n",
       "      <th>Periodo</th>\n",
       "      <th>Total</th>\n",
       "    </tr>\n",
       "  </thead>\n",
       "  <tbody>\n",
       "    <tr>\n",
       "      <th>592</th>\n",
       "      <td>Total Nacional</td>\n",
       "      <td>01 Andalucía</td>\n",
       "      <td>11 Cádiz</td>\n",
       "      <td>Total</td>\n",
       "      <td>De 35 a 39 años</td>\n",
       "      <td>Total</td>\n",
       "      <td>1 de enero de 2022</td>\n",
       "      <td>83985</td>\n",
       "    </tr>\n",
       "    <tr>\n",
       "      <th>593</th>\n",
       "      <td>Total Nacional</td>\n",
       "      <td>01 Andalucía</td>\n",
       "      <td>11 Cádiz</td>\n",
       "      <td>Total</td>\n",
       "      <td>De 35 a 39 años</td>\n",
       "      <td>Total</td>\n",
       "      <td>1 de enero de 2021</td>\n",
       "      <td>87048</td>\n",
       "    </tr>\n",
       "    <tr>\n",
       "      <th>594</th>\n",
       "      <td>Total Nacional</td>\n",
       "      <td>01 Andalucía</td>\n",
       "      <td>11 Cádiz</td>\n",
       "      <td>Total</td>\n",
       "      <td>De 35 a 39 años</td>\n",
       "      <td>Total</td>\n",
       "      <td>1 de enero de 2020</td>\n",
       "      <td>90338</td>\n",
       "    </tr>\n",
       "    <tr>\n",
       "      <th>595</th>\n",
       "      <td>Total Nacional</td>\n",
       "      <td>01 Andalucía</td>\n",
       "      <td>11 Cádiz</td>\n",
       "      <td>Total</td>\n",
       "      <td>De 35 a 39 años</td>\n",
       "      <td>Total</td>\n",
       "      <td>1 de enero de 2019</td>\n",
       "      <td>93464</td>\n",
       "    </tr>\n",
       "    <tr>\n",
       "      <th>596</th>\n",
       "      <td>Total Nacional</td>\n",
       "      <td>01 Andalucía</td>\n",
       "      <td>11 Cádiz</td>\n",
       "      <td>Total</td>\n",
       "      <td>De 35 a 39 años</td>\n",
       "      <td>Total</td>\n",
       "      <td>1 de enero de 2018</td>\n",
       "      <td>96477</td>\n",
       "    </tr>\n",
       "    <tr>\n",
       "      <th>597</th>\n",
       "      <td>Total Nacional</td>\n",
       "      <td>01 Andalucía</td>\n",
       "      <td>11 Cádiz</td>\n",
       "      <td>Total</td>\n",
       "      <td>De 35 a 39 años</td>\n",
       "      <td>Total</td>\n",
       "      <td>1 de enero de 2017</td>\n",
       "      <td>99754</td>\n",
       "    </tr>\n",
       "    <tr>\n",
       "      <th>598</th>\n",
       "      <td>Total Nacional</td>\n",
       "      <td>01 Andalucía</td>\n",
       "      <td>11 Cádiz</td>\n",
       "      <td>Total</td>\n",
       "      <td>De 35 a 39 años</td>\n",
       "      <td>Total</td>\n",
       "      <td>1 de enero de 2016</td>\n",
       "      <td>102768</td>\n",
       "    </tr>\n",
       "    <tr>\n",
       "      <th>599</th>\n",
       "      <td>Total Nacional</td>\n",
       "      <td>01 Andalucía</td>\n",
       "      <td>11 Cádiz</td>\n",
       "      <td>Total</td>\n",
       "      <td>De 35 a 39 años</td>\n",
       "      <td>Total</td>\n",
       "      <td>1 de enero de 2015</td>\n",
       "      <td>104523</td>\n",
       "    </tr>\n",
       "  </tbody>\n",
       "</table>\n",
       "</div>"
      ],
      "text/plain": [
       "     Total Nacional Comunidades y Ciudades Autónomas Provincias  \\\n",
       "592  Total Nacional                     01 Andalucía   11 Cádiz   \n",
       "593  Total Nacional                     01 Andalucía   11 Cádiz   \n",
       "594  Total Nacional                     01 Andalucía   11 Cádiz   \n",
       "595  Total Nacional                     01 Andalucía   11 Cádiz   \n",
       "596  Total Nacional                     01 Andalucía   11 Cádiz   \n",
       "597  Total Nacional                     01 Andalucía   11 Cádiz   \n",
       "598  Total Nacional                     01 Andalucía   11 Cádiz   \n",
       "599  Total Nacional                     01 Andalucía   11 Cádiz   \n",
       "\n",
       "    Españoles/Extranjeros Edad (grupos quinquenales)   Sexo  \\\n",
       "592                 Total            De 35 a 39 años  Total   \n",
       "593                 Total            De 35 a 39 años  Total   \n",
       "594                 Total            De 35 a 39 años  Total   \n",
       "595                 Total            De 35 a 39 años  Total   \n",
       "596                 Total            De 35 a 39 años  Total   \n",
       "597                 Total            De 35 a 39 años  Total   \n",
       "598                 Total            De 35 a 39 años  Total   \n",
       "599                 Total            De 35 a 39 años  Total   \n",
       "\n",
       "                Periodo   Total  \n",
       "592  1 de enero de 2022   83985  \n",
       "593  1 de enero de 2021   87048  \n",
       "594  1 de enero de 2020   90338  \n",
       "595  1 de enero de 2019   93464  \n",
       "596  1 de enero de 2018   96477  \n",
       "597  1 de enero de 2017   99754  \n",
       "598  1 de enero de 2016  102768  \n",
       "599  1 de enero de 2015  104523  "
      ]
     },
     "execution_count": 10998,
     "metadata": {},
     "output_type": "execute_result"
    }
   ],
   "source": [
    "edad_df['Total'] = edad_df['Total'].str.replace('.', '', regex=False).astype(int)\n",
    "edad_df.head(600).tail(8)"
   ]
  },
  {
   "cell_type": "code",
   "execution_count": 10999,
   "metadata": {},
   "outputs": [
    {
     "name": "stdout",
     "output_type": "stream",
     "text": [
      "Total Nacional           1\n",
      "Españoles/Extranjeros    1\n",
      "Sexo                     1\n",
      "dtype: int64\n"
     ]
    }
   ],
   "source": [
    "print(edad_df[['Total Nacional', 'Españoles/Extranjeros','Sexo']].nunique())"
   ]
  },
  {
   "cell_type": "markdown",
   "metadata": {},
   "source": [
    "Observamos que las columnas 'Total Nacional', 'Españoles/Extranjeros' y 'Sexo' no aportan ninguna información, por lo que se pueden eliminar."
   ]
  },
  {
   "cell_type": "code",
   "execution_count": 11000,
   "metadata": {},
   "outputs": [],
   "source": [
    "edad_df.drop(columns=['Total Nacional', 'Españoles/Extranjeros', 'Sexo'], inplace=True)"
   ]
  },
  {
   "cell_type": "markdown",
   "metadata": {},
   "source": [
    "Hemos decidido quedarnos solo con los datos del 2022, por lo que se pueden eliminar las filas de otros años y después la columna 'Periodo'."
   ]
  },
  {
   "cell_type": "code",
   "execution_count": 11001,
   "metadata": {},
   "outputs": [],
   "source": [
    "edad_df.drop(edad_df[edad_df['Periodo'] != '1 de enero de 2022'].index, inplace=True)\n",
    "edad_df.drop(columns=['Periodo'], inplace=True)"
   ]
  },
  {
   "cell_type": "markdown",
   "metadata": {},
   "source": [
    "Los primeros registros del dataset son los datos a nivel nacional, donde la comunidad autónoma y la provincia son valores nulos, por lo que se pueden eliminar. Además, se eliminará la columna 'Comunidades y Ciudades Autónomas' y las filas con los totales en 'Edad'."
   ]
  },
  {
   "cell_type": "code",
   "execution_count": 11002,
   "metadata": {},
   "outputs": [
    {
     "data": {
      "text/html": [
       "<div>\n",
       "<style scoped>\n",
       "    .dataframe tbody tr th:only-of-type {\n",
       "        vertical-align: middle;\n",
       "    }\n",
       "\n",
       "    .dataframe tbody tr th {\n",
       "        vertical-align: top;\n",
       "    }\n",
       "\n",
       "    .dataframe thead th {\n",
       "        text-align: right;\n",
       "    }\n",
       "</style>\n",
       "<table border=\"1\" class=\"dataframe\">\n",
       "  <thead>\n",
       "    <tr style=\"text-align: right;\">\n",
       "      <th></th>\n",
       "      <th>Comunidades y Ciudades Autónomas</th>\n",
       "      <th>Provincias</th>\n",
       "      <th>Edad (grupos quinquenales)</th>\n",
       "      <th>Total</th>\n",
       "    </tr>\n",
       "  </thead>\n",
       "  <tbody>\n",
       "    <tr>\n",
       "      <th>0</th>\n",
       "      <td>NaN</td>\n",
       "      <td>NaN</td>\n",
       "      <td>Todas las edades</td>\n",
       "      <td>47475420</td>\n",
       "    </tr>\n",
       "    <tr>\n",
       "      <th>8</th>\n",
       "      <td>NaN</td>\n",
       "      <td>NaN</td>\n",
       "      <td>De 0 a 4 años</td>\n",
       "      <td>1809768</td>\n",
       "    </tr>\n",
       "    <tr>\n",
       "      <th>16</th>\n",
       "      <td>NaN</td>\n",
       "      <td>NaN</td>\n",
       "      <td>De 5 a 9 años</td>\n",
       "      <td>2236911</td>\n",
       "    </tr>\n",
       "    <tr>\n",
       "      <th>24</th>\n",
       "      <td>NaN</td>\n",
       "      <td>NaN</td>\n",
       "      <td>De 10 a 14 años</td>\n",
       "      <td>2517373</td>\n",
       "    </tr>\n",
       "    <tr>\n",
       "      <th>32</th>\n",
       "      <td>NaN</td>\n",
       "      <td>NaN</td>\n",
       "      <td>De 15 a 19 años</td>\n",
       "      <td>2471599</td>\n",
       "    </tr>\n",
       "  </tbody>\n",
       "</table>\n",
       "</div>"
      ],
      "text/plain": [
       "   Comunidades y Ciudades Autónomas Provincias Edad (grupos quinquenales)  \\\n",
       "0                               NaN        NaN           Todas las edades   \n",
       "8                               NaN        NaN              De 0 a 4 años   \n",
       "16                              NaN        NaN              De 5 a 9 años   \n",
       "24                              NaN        NaN          De 10 a 14 años     \n",
       "32                              NaN        NaN          De 15 a 19 años     \n",
       "\n",
       "       Total  \n",
       "0   47475420  \n",
       "8    1809768  \n",
       "16   2236911  \n",
       "24   2517373  \n",
       "32   2471599  "
      ]
     },
     "execution_count": 11002,
     "metadata": {},
     "output_type": "execute_result"
    }
   ],
   "source": [
    "edad_df.head()"
   ]
  },
  {
   "cell_type": "code",
   "execution_count": 11003,
   "metadata": {},
   "outputs": [],
   "source": [
    "edad_df.dropna(subset=[\"Comunidades y Ciudades Autónomas\", \"Provincias\"], inplace=True)\n",
    "edad_df.drop(columns=['Comunidades y Ciudades Autónomas'], inplace=True)\n",
    "edad_df.drop(edad_df[edad_df['Edad (grupos quinquenales)'] == 'Todas las edades'].index, inplace=True)"
   ]
  },
  {
   "cell_type": "markdown",
   "metadata": {},
   "source": [
    "Se eliminará el número que identifica a cada provincia para dejar solo el nombre."
   ]
  },
  {
   "cell_type": "code",
   "execution_count": 11004,
   "metadata": {},
   "outputs": [],
   "source": [
    "edad_df[\"Provincias\"] = edad_df[\"Provincias\"].str.replace(r\"^\\d+\\s\", \"\", regex=True)"
   ]
  },
  {
   "cell_type": "markdown",
   "metadata": {},
   "source": [
    "Una vez finalizado el preprocesamiento, el dataset queda con 1092 entradas y 3 columnas."
   ]
  },
  {
   "cell_type": "code",
   "execution_count": 11005,
   "metadata": {},
   "outputs": [
    {
     "data": {
      "text/html": [
       "<div>\n",
       "<style scoped>\n",
       "    .dataframe tbody tr th:only-of-type {\n",
       "        vertical-align: middle;\n",
       "    }\n",
       "\n",
       "    .dataframe tbody tr th {\n",
       "        vertical-align: top;\n",
       "    }\n",
       "\n",
       "    .dataframe thead th {\n",
       "        text-align: right;\n",
       "    }\n",
       "</style>\n",
       "<table border=\"1\" class=\"dataframe\">\n",
       "  <thead>\n",
       "    <tr style=\"text-align: right;\">\n",
       "      <th></th>\n",
       "      <th>Provincias</th>\n",
       "      <th>Edad (grupos quinquenales)</th>\n",
       "      <th>Total</th>\n",
       "    </tr>\n",
       "  </thead>\n",
       "  <tbody>\n",
       "    <tr>\n",
       "      <th>360</th>\n",
       "      <td>Almería</td>\n",
       "      <td>De 0 a 4 años</td>\n",
       "      <td>36360</td>\n",
       "    </tr>\n",
       "    <tr>\n",
       "      <th>368</th>\n",
       "      <td>Almería</td>\n",
       "      <td>De 5 a 9 años</td>\n",
       "      <td>41033</td>\n",
       "    </tr>\n",
       "    <tr>\n",
       "      <th>376</th>\n",
       "      <td>Almería</td>\n",
       "      <td>De 10 a 14 años</td>\n",
       "      <td>43411</td>\n",
       "    </tr>\n",
       "    <tr>\n",
       "      <th>384</th>\n",
       "      <td>Almería</td>\n",
       "      <td>De 15 a 19 años</td>\n",
       "      <td>40722</td>\n",
       "    </tr>\n",
       "    <tr>\n",
       "      <th>392</th>\n",
       "      <td>Almería</td>\n",
       "      <td>De 20 a 24 años</td>\n",
       "      <td>41532</td>\n",
       "    </tr>\n",
       "  </tbody>\n",
       "</table>\n",
       "</div>"
      ],
      "text/plain": [
       "    Provincias Edad (grupos quinquenales)  Total\n",
       "360    Almería              De 0 a 4 años  36360\n",
       "368    Almería              De 5 a 9 años  41033\n",
       "376    Almería          De 10 a 14 años    43411\n",
       "384    Almería          De 15 a 19 años    40722\n",
       "392    Almería            De 20 a 24 años  41532"
      ]
     },
     "execution_count": 11005,
     "metadata": {},
     "output_type": "execute_result"
    }
   ],
   "source": [
    "edad_df.head()"
   ]
  },
  {
   "cell_type": "code",
   "execution_count": 11006,
   "metadata": {},
   "outputs": [
    {
     "name": "stdout",
     "output_type": "stream",
     "text": [
      "<class 'pandas.core.frame.DataFrame'>\n",
      "Index: 1092 entries, 360 to 12664\n",
      "Data columns (total 3 columns):\n",
      " #   Column                      Non-Null Count  Dtype \n",
      "---  ------                      --------------  ----- \n",
      " 0   Provincias                  1092 non-null   object\n",
      " 1   Edad (grupos quinquenales)  1092 non-null   object\n",
      " 2   Total                       1092 non-null   int32 \n",
      "dtypes: int32(1), object(2)\n",
      "memory usage: 29.9+ KB\n"
     ]
    }
   ],
   "source": [
    "edad_df.info()"
   ]
  },
  {
   "cell_type": "markdown",
   "metadata": {},
   "source": [
    "Transformamos el dataframe para que cada fila sea una comunidad autónoma y cada columna un año, en cada celda estará el valor total. También eliminamos las provincias que no están en la península."
   ]
  },
  {
   "cell_type": "code",
   "execution_count": 11007,
   "metadata": {},
   "outputs": [],
   "source": [
    "edad_df.set_index(\"Provincias\", inplace=True)\n",
    "edad_df = edad_df[~edad_df.index.isin(provincias_eliminar)]"
   ]
  },
  {
   "cell_type": "code",
   "execution_count": 11008,
   "metadata": {},
   "outputs": [],
   "source": [
    "with open(SILVER_DATA_PATH + \"distribucion_edad.csv\", \"w\") as f:\n",
    "    edad_df.to_csv(f, sep=';', encoding='utf-8')"
   ]
  },
  {
   "cell_type": "markdown",
   "metadata": {},
   "source": [
    "## Intensidad de uso en viviendas"
   ]
  },
  {
   "cell_type": "code",
   "execution_count": 11009,
   "metadata": {},
   "outputs": [
    {
     "data": {
      "text/html": [
       "<div>\n",
       "<style scoped>\n",
       "    .dataframe tbody tr th:only-of-type {\n",
       "        vertical-align: middle;\n",
       "    }\n",
       "\n",
       "    .dataframe tbody tr th {\n",
       "        vertical-align: top;\n",
       "    }\n",
       "\n",
       "    .dataframe thead th {\n",
       "        text-align: right;\n",
       "    }\n",
       "</style>\n",
       "<table border=\"1\" class=\"dataframe\">\n",
       "  <thead>\n",
       "    <tr style=\"text-align: right;\">\n",
       "      <th></th>\n",
       "      <th>Total Nacional</th>\n",
       "      <th>Comunidades Autónomas</th>\n",
       "      <th>Provincias</th>\n",
       "      <th>Municipios</th>\n",
       "      <th>Consumo eléctrico</th>\n",
       "      <th>Total</th>\n",
       "    </tr>\n",
       "  </thead>\n",
       "  <tbody>\n",
       "    <tr>\n",
       "      <th>0</th>\n",
       "      <td>Total Nacional</td>\n",
       "      <td>NaN</td>\n",
       "      <td>NaN</td>\n",
       "      <td>NaN</td>\n",
       "      <td>Viviendas totales</td>\n",
       "      <td>26.623.708</td>\n",
       "    </tr>\n",
       "    <tr>\n",
       "      <th>1</th>\n",
       "      <td>Total Nacional</td>\n",
       "      <td>NaN</td>\n",
       "      <td>NaN</td>\n",
       "      <td>NaN</td>\n",
       "      <td>Viviendas vacías</td>\n",
       "      <td>3.837.328</td>\n",
       "    </tr>\n",
       "    <tr>\n",
       "      <th>2</th>\n",
       "      <td>Total Nacional</td>\n",
       "      <td>NaN</td>\n",
       "      <td>NaN</td>\n",
       "      <td>NaN</td>\n",
       "      <td>Mediana consumo anual</td>\n",
       "      <td>2.196</td>\n",
       "    </tr>\n",
       "    <tr>\n",
       "      <th>3</th>\n",
       "      <td>Total Nacional</td>\n",
       "      <td>NaN</td>\n",
       "      <td>NaN</td>\n",
       "      <td>NaN</td>\n",
       "      <td>Viviendas con bajo consumo</td>\n",
       "      <td>943.924</td>\n",
       "    </tr>\n",
       "    <tr>\n",
       "      <th>4</th>\n",
       "      <td>Total Nacional</td>\n",
       "      <td>NaN</td>\n",
       "      <td>NaN</td>\n",
       "      <td>NaN</td>\n",
       "      <td>Viviendas de uso esporádico</td>\n",
       "      <td>2.514.511</td>\n",
       "    </tr>\n",
       "  </tbody>\n",
       "</table>\n",
       "</div>"
      ],
      "text/plain": [
       "   Total Nacional Comunidades Autónomas Provincias Municipios  \\\n",
       "0  Total Nacional                   NaN        NaN        NaN   \n",
       "1  Total Nacional                   NaN        NaN        NaN   \n",
       "2  Total Nacional                   NaN        NaN        NaN   \n",
       "3  Total Nacional                   NaN        NaN        NaN   \n",
       "4  Total Nacional                   NaN        NaN        NaN   \n",
       "\n",
       "             Consumo eléctrico       Total  \n",
       "0            Viviendas totales  26.623.708  \n",
       "1             Viviendas vacías   3.837.328  \n",
       "2        Mediana consumo anual       2.196  \n",
       "3   Viviendas con bajo consumo     943.924  \n",
       "4  Viviendas de uso esporádico   2.514.511  "
      ]
     },
     "execution_count": 11009,
     "metadata": {},
     "output_type": "execute_result"
    }
   ],
   "source": [
    "import pandas as pd \n",
    "\n",
    "intensidad_df = pd.read_csv(RAW_DATA_PATH + \"Intensidad de uso en viviendas.csv\", sep=\";\", encoding=\"latin1\", dtype = str)\n",
    "intensidad_df.rename(columns={\"Comunidades y Ciudades Autónomas\": \"Comunidades Autónomas\"}, inplace=True)\n",
    "intensidad_df.head()"
   ]
  },
  {
   "cell_type": "markdown",
   "metadata": {},
   "source": [
    "Con la columna \"Total\" de este dataset ocurre lo mismo que con anteriores. Se le da formato eliminando el punto decimal y convirtiéndola a entero."
   ]
  },
  {
   "cell_type": "code",
   "execution_count": 11010,
   "metadata": {},
   "outputs": [],
   "source": [
    "intensidad_df['Total'] = intensidad_df['Total'].str.replace('.', '', regex=False).astype(int)"
   ]
  },
  {
   "cell_type": "markdown",
   "metadata": {},
   "source": [
    "Comprobamos si hay valores nulos en cada una de las columnas del dataframe"
   ]
  },
  {
   "cell_type": "code",
   "execution_count": 11011,
   "metadata": {},
   "outputs": [
    {
     "data": {
      "text/plain": [
       "Total Nacional             0\n",
       "Comunidades Autónomas     18\n",
       "Provincias                18\n",
       "Municipios               954\n",
       "Consumo eléctrico          0\n",
       "Total                      0\n",
       "dtype: int64"
      ]
     },
     "execution_count": 11011,
     "metadata": {},
     "output_type": "execute_result"
    }
   ],
   "source": [
    "intensidad_df.isnull().sum()"
   ]
  },
  {
   "cell_type": "code",
   "execution_count": 11012,
   "metadata": {},
   "outputs": [
    {
     "data": {
      "text/plain": [
       "954"
      ]
     },
     "execution_count": 11012,
     "metadata": {},
     "output_type": "execute_result"
    }
   ],
   "source": [
    "len(intensidad_df[\"Comunidades Autónomas\"].tolist())"
   ]
  },
  {
   "cell_type": "markdown",
   "metadata": {},
   "source": [
    "En este proyecto se realizarán una serie de analísis de datos teniendo en cuenta únicamente las comunidades autónomas y las provincias, por lo que se elimina la columna \"Municipios\",ya que no nos ofrece información útil para el estudio.\n",
    "\n",
    "Además, se elimina la columna \"Total Nacional\" ya que tampoco aporta ninguna información."
   ]
  },
  {
   "cell_type": "code",
   "execution_count": 11013,
   "metadata": {},
   "outputs": [],
   "source": [
    "intensidad_df.drop(columns=[\"Municipios\",\"Total Nacional\"], inplace=True)"
   ]
  },
  {
   "cell_type": "markdown",
   "metadata": {},
   "source": [
    "Eliminamos las filas con valores en \"Provincia\" y \"Comunidad Autónoma\" nulos. Además de la columna Comunidad Autónoma."
   ]
  },
  {
   "cell_type": "code",
   "execution_count": 11014,
   "metadata": {},
   "outputs": [],
   "source": [
    "intensidad_df.dropna(subset=[\"Provincias\"],inplace=True)\n",
    "intensidad_df.drop(columns=[\"Comunidades Autónomas\"], inplace=True)"
   ]
  },
  {
   "cell_type": "markdown",
   "metadata": {},
   "source": [
    "Quitamos el número de la provincia para dejar solo el nombre."
   ]
  },
  {
   "cell_type": "code",
   "execution_count": 11015,
   "metadata": {},
   "outputs": [],
   "source": [
    "intensidad_df[\"Provincias\"] = intensidad_df[\"Provincias\"].str.replace(r\"^\\d+\\s\", \"\", regex=True)"
   ]
  },
  {
   "cell_type": "markdown",
   "metadata": {},
   "source": [
    "Transformamos el dataframe para que cada fila sea una comunidad autónoma y cada columna un año, en cada celda estará el valor total. También eliminamos las provincias que no están en la península."
   ]
  },
  {
   "cell_type": "code",
   "execution_count": 11016,
   "metadata": {},
   "outputs": [],
   "source": [
    "intensidad_df.set_index(\"Provincias\", inplace=True)\n",
    "intensidad_df = intensidad_df[~intensidad_df.index.isin(provincias_eliminar)]"
   ]
  },
  {
   "cell_type": "code",
   "execution_count": 11017,
   "metadata": {},
   "outputs": [],
   "source": [
    "with open(SILVER_DATA_PATH + \"intensidad_de_uso_en_viviendas.csv\", \"w\") as f:\n",
    "    intensidad_df.to_csv(f, sep=';', encoding='utf-8')"
   ]
  },
  {
   "cell_type": "markdown",
   "metadata": {},
   "source": [
    "## Producción de energía por lugar"
   ]
  },
  {
   "cell_type": "code",
   "execution_count": 11018,
   "metadata": {},
   "outputs": [
    {
     "name": "stdout",
     "output_type": "stream",
     "text": [
      "<class 'pandas.core.frame.DataFrame'>\n",
      "RangeIndex: 10595 entries, 0 to 10594\n",
      "Data columns (total 5 columns):\n",
      " #   Column              Non-Null Count  Dtype  \n",
      "---  ------              --------------  -----  \n",
      " 0   Latitud             10595 non-null  float64\n",
      " 1   Longitud            10595 non-null  float64\n",
      " 2   Potencia            10594 non-null  object \n",
      " 3   Comunidad Autonoma  10595 non-null  object \n",
      " 4   Provincia           10595 non-null  object \n",
      "dtypes: float64(2), object(3)\n",
      "memory usage: 414.0+ KB\n"
     ]
    }
   ],
   "source": [
    "produccion_df = pd.read_csv(RAW_DATA_PATH + \"Producción de energía por lugar.csv\", sep=\",\", encoding=\"utf-8\")\n",
    "produccion_df.info()"
   ]
  },
  {
   "cell_type": "code",
   "execution_count": 11019,
   "metadata": {},
   "outputs": [
    {
     "data": {
      "text/html": [
       "<div>\n",
       "<style scoped>\n",
       "    .dataframe tbody tr th:only-of-type {\n",
       "        vertical-align: middle;\n",
       "    }\n",
       "\n",
       "    .dataframe tbody tr th {\n",
       "        vertical-align: top;\n",
       "    }\n",
       "\n",
       "    .dataframe thead th {\n",
       "        text-align: right;\n",
       "    }\n",
       "</style>\n",
       "<table border=\"1\" class=\"dataframe\">\n",
       "  <thead>\n",
       "    <tr style=\"text-align: right;\">\n",
       "      <th></th>\n",
       "      <th>Latitud</th>\n",
       "      <th>Longitud</th>\n",
       "      <th>Potencia</th>\n",
       "      <th>Comunidad Autonoma</th>\n",
       "      <th>Provincia</th>\n",
       "    </tr>\n",
       "  </thead>\n",
       "  <tbody>\n",
       "    <tr>\n",
       "      <th>0</th>\n",
       "      <td>36.1</td>\n",
       "      <td>-6.05</td>\n",
       "      <td>PV outputJanuary: 116.96 kWh</td>\n",
       "      <td>Comunidad autónoma no encontrada</td>\n",
       "      <td>Provincia no encontrada</td>\n",
       "    </tr>\n",
       "    <tr>\n",
       "      <th>1</th>\n",
       "      <td>36.1</td>\n",
       "      <td>-6.05</td>\n",
       "      <td>PV outputFebruary: 120.11 kWh</td>\n",
       "      <td>Comunidad autónoma no encontrada</td>\n",
       "      <td>Provincia no encontrada</td>\n",
       "    </tr>\n",
       "    <tr>\n",
       "      <th>2</th>\n",
       "      <td>36.1</td>\n",
       "      <td>-6.05</td>\n",
       "      <td>PV outputMarch: 143.07 kWh</td>\n",
       "      <td>Comunidad autónoma no encontrada</td>\n",
       "      <td>Provincia no encontrada</td>\n",
       "    </tr>\n",
       "    <tr>\n",
       "      <th>3</th>\n",
       "      <td>36.1</td>\n",
       "      <td>-6.05</td>\n",
       "      <td>PV outputApril: 154.15 kWh</td>\n",
       "      <td>Comunidad autónoma no encontrada</td>\n",
       "      <td>Provincia no encontrada</td>\n",
       "    </tr>\n",
       "    <tr>\n",
       "      <th>4</th>\n",
       "      <td>36.1</td>\n",
       "      <td>-6.05</td>\n",
       "      <td>PV outputMay: 165.48 kWh</td>\n",
       "      <td>Comunidad autónoma no encontrada</td>\n",
       "      <td>Provincia no encontrada</td>\n",
       "    </tr>\n",
       "  </tbody>\n",
       "</table>\n",
       "</div>"
      ],
      "text/plain": [
       "   Latitud  Longitud                       Potencia  \\\n",
       "0     36.1     -6.05   PV outputJanuary: 116.96 kWh   \n",
       "1     36.1     -6.05  PV outputFebruary: 120.11 kWh   \n",
       "2     36.1     -6.05     PV outputMarch: 143.07 kWh   \n",
       "3     36.1     -6.05     PV outputApril: 154.15 kWh   \n",
       "4     36.1     -6.05       PV outputMay: 165.48 kWh   \n",
       "\n",
       "                 Comunidad Autonoma                Provincia  \n",
       "0  Comunidad autónoma no encontrada  Provincia no encontrada  \n",
       "1  Comunidad autónoma no encontrada  Provincia no encontrada  \n",
       "2  Comunidad autónoma no encontrada  Provincia no encontrada  \n",
       "3  Comunidad autónoma no encontrada  Provincia no encontrada  \n",
       "4  Comunidad autónoma no encontrada  Provincia no encontrada  "
      ]
     },
     "execution_count": 11019,
     "metadata": {},
     "output_type": "execute_result"
    }
   ],
   "source": [
    "produccion_df.head()"
   ]
  },
  {
   "cell_type": "markdown",
   "metadata": {},
   "source": [
    "Comporobamos si hay valores nulos o columnas que no nos aporten información"
   ]
  },
  {
   "cell_type": "code",
   "execution_count": 11020,
   "metadata": {},
   "outputs": [
    {
     "name": "stdout",
     "output_type": "stream",
     "text": [
      "Latitud               0\n",
      "Longitud              0\n",
      "Potencia              1\n",
      "Comunidad Autonoma    0\n",
      "Provincia             0\n",
      "dtype: int64\n"
     ]
    }
   ],
   "source": [
    "print(produccion_df.isnull().sum())"
   ]
  },
  {
   "cell_type": "code",
   "execution_count": 11021,
   "metadata": {},
   "outputs": [
    {
     "name": "stdout",
     "output_type": "stream",
     "text": [
      "Latitud                 29\n",
      "Longitud                41\n",
      "Potencia              9004\n",
      "Comunidad Autonoma      28\n",
      "Provincia               44\n",
      "dtype: int64\n"
     ]
    }
   ],
   "source": [
    "print(produccion_df.nunique())"
   ]
  },
  {
   "cell_type": "markdown",
   "metadata": {},
   "source": [
    "Eliminamos los valores nulos de Potencia y en Provincia y Comunidad Autónoma los valores no encontrados.\n",
    "\n",
    "Eliminamos también las columnas Latitud y Longitud que no son necesarias."
   ]
  },
  {
   "cell_type": "code",
   "execution_count": 11022,
   "metadata": {},
   "outputs": [],
   "source": [
    "produccion_df.dropna(subset=[\"Potencia\"], inplace=True)\n",
    "produccion_df.drop(produccion_df[produccion_df[\"Provincia\"] == \"Provincia no encontrada\"].index, inplace=True)\n",
    "produccion_df.drop(produccion_df[produccion_df[\"Comunidad Autonoma\"] == \"Comunidad autónoma no encontrada\"].index, inplace=True)\n",
    "produccion_df.drop(columns=[\"Latitud\", \"Longitud\"], inplace=True)"
   ]
  },
  {
   "cell_type": "markdown",
   "metadata": {},
   "source": [
    "Separamos los valores de Potencia que tienen esta forma, PV outputJanuary: 116.96 kWh, en Mes y Potencia kWh. "
   ]
  },
  {
   "cell_type": "code",
   "execution_count": 11023,
   "metadata": {},
   "outputs": [
    {
     "data": {
      "text/html": [
       "<div>\n",
       "<style scoped>\n",
       "    .dataframe tbody tr th:only-of-type {\n",
       "        vertical-align: middle;\n",
       "    }\n",
       "\n",
       "    .dataframe tbody tr th {\n",
       "        vertical-align: top;\n",
       "    }\n",
       "\n",
       "    .dataframe thead th {\n",
       "        text-align: right;\n",
       "    }\n",
       "</style>\n",
       "<table border=\"1\" class=\"dataframe\">\n",
       "  <thead>\n",
       "    <tr style=\"text-align: right;\">\n",
       "      <th></th>\n",
       "      <th>Potencia kWh</th>\n",
       "      <th>Comunidad Autonoma</th>\n",
       "      <th>Provincia</th>\n",
       "      <th>Mes</th>\n",
       "    </tr>\n",
       "  </thead>\n",
       "  <tbody>\n",
       "    <tr>\n",
       "      <th>12</th>\n",
       "      <td>104.97</td>\n",
       "      <td>Andalucía</td>\n",
       "      <td>Cádiz</td>\n",
       "      <td>January</td>\n",
       "    </tr>\n",
       "    <tr>\n",
       "      <th>13</th>\n",
       "      <td>113.40</td>\n",
       "      <td>Andalucía</td>\n",
       "      <td>Cádiz</td>\n",
       "      <td>February</td>\n",
       "    </tr>\n",
       "    <tr>\n",
       "      <th>14</th>\n",
       "      <td>137.00</td>\n",
       "      <td>Andalucía</td>\n",
       "      <td>Cádiz</td>\n",
       "      <td>March</td>\n",
       "    </tr>\n",
       "    <tr>\n",
       "      <th>15</th>\n",
       "      <td>147.93</td>\n",
       "      <td>Andalucía</td>\n",
       "      <td>Cádiz</td>\n",
       "      <td>April</td>\n",
       "    </tr>\n",
       "    <tr>\n",
       "      <th>16</th>\n",
       "      <td>161.61</td>\n",
       "      <td>Andalucía</td>\n",
       "      <td>Cádiz</td>\n",
       "      <td>May</td>\n",
       "    </tr>\n",
       "    <tr>\n",
       "      <th>17</th>\n",
       "      <td>158.61</td>\n",
       "      <td>Andalucía</td>\n",
       "      <td>Cádiz</td>\n",
       "      <td>June</td>\n",
       "    </tr>\n",
       "    <tr>\n",
       "      <th>18</th>\n",
       "      <td>165.98</td>\n",
       "      <td>Andalucía</td>\n",
       "      <td>Cádiz</td>\n",
       "      <td>July</td>\n",
       "    </tr>\n",
       "    <tr>\n",
       "      <th>19</th>\n",
       "      <td>163.39</td>\n",
       "      <td>Andalucía</td>\n",
       "      <td>Cádiz</td>\n",
       "      <td>August</td>\n",
       "    </tr>\n",
       "    <tr>\n",
       "      <th>20</th>\n",
       "      <td>147.51</td>\n",
       "      <td>Andalucía</td>\n",
       "      <td>Cádiz</td>\n",
       "      <td>September</td>\n",
       "    </tr>\n",
       "    <tr>\n",
       "      <th>21</th>\n",
       "      <td>132.53</td>\n",
       "      <td>Andalucía</td>\n",
       "      <td>Cádiz</td>\n",
       "      <td>October</td>\n",
       "    </tr>\n",
       "    <tr>\n",
       "      <th>22</th>\n",
       "      <td>106.69</td>\n",
       "      <td>Andalucía</td>\n",
       "      <td>Cádiz</td>\n",
       "      <td>November</td>\n",
       "    </tr>\n",
       "    <tr>\n",
       "      <th>23</th>\n",
       "      <td>100.76</td>\n",
       "      <td>Andalucía</td>\n",
       "      <td>Cádiz</td>\n",
       "      <td>December</td>\n",
       "    </tr>\n",
       "    <tr>\n",
       "      <th>24</th>\n",
       "      <td>94.39</td>\n",
       "      <td>Andalucía</td>\n",
       "      <td>Cádiz</td>\n",
       "      <td>January</td>\n",
       "    </tr>\n",
       "    <tr>\n",
       "      <th>25</th>\n",
       "      <td>96.38</td>\n",
       "      <td>Andalucía</td>\n",
       "      <td>Cádiz</td>\n",
       "      <td>February</td>\n",
       "    </tr>\n",
       "    <tr>\n",
       "      <th>26</th>\n",
       "      <td>124.95</td>\n",
       "      <td>Andalucía</td>\n",
       "      <td>Cádiz</td>\n",
       "      <td>March</td>\n",
       "    </tr>\n",
       "    <tr>\n",
       "      <th>27</th>\n",
       "      <td>137.69</td>\n",
       "      <td>Andalucía</td>\n",
       "      <td>Cádiz</td>\n",
       "      <td>April</td>\n",
       "    </tr>\n",
       "    <tr>\n",
       "      <th>28</th>\n",
       "      <td>159.23</td>\n",
       "      <td>Andalucía</td>\n",
       "      <td>Cádiz</td>\n",
       "      <td>May</td>\n",
       "    </tr>\n",
       "    <tr>\n",
       "      <th>29</th>\n",
       "      <td>161.20</td>\n",
       "      <td>Andalucía</td>\n",
       "      <td>Cádiz</td>\n",
       "      <td>June</td>\n",
       "    </tr>\n",
       "    <tr>\n",
       "      <th>30</th>\n",
       "      <td>168.72</td>\n",
       "      <td>Andalucía</td>\n",
       "      <td>Cádiz</td>\n",
       "      <td>July</td>\n",
       "    </tr>\n",
       "    <tr>\n",
       "      <th>31</th>\n",
       "      <td>161.47</td>\n",
       "      <td>Andalucía</td>\n",
       "      <td>Cádiz</td>\n",
       "      <td>August</td>\n",
       "    </tr>\n",
       "    <tr>\n",
       "      <th>32</th>\n",
       "      <td>137.80</td>\n",
       "      <td>Andalucía</td>\n",
       "      <td>Cádiz</td>\n",
       "      <td>September</td>\n",
       "    </tr>\n",
       "    <tr>\n",
       "      <th>33</th>\n",
       "      <td>116.94</td>\n",
       "      <td>Andalucía</td>\n",
       "      <td>Cádiz</td>\n",
       "      <td>October</td>\n",
       "    </tr>\n",
       "    <tr>\n",
       "      <th>34</th>\n",
       "      <td>95.18</td>\n",
       "      <td>Andalucía</td>\n",
       "      <td>Cádiz</td>\n",
       "      <td>November</td>\n",
       "    </tr>\n",
       "    <tr>\n",
       "      <th>35</th>\n",
       "      <td>82.38</td>\n",
       "      <td>Andalucía</td>\n",
       "      <td>Cádiz</td>\n",
       "      <td>December</td>\n",
       "    </tr>\n",
       "  </tbody>\n",
       "</table>\n",
       "</div>"
      ],
      "text/plain": [
       "    Potencia kWh Comunidad Autonoma Provincia        Mes\n",
       "12        104.97          Andalucía     Cádiz    January\n",
       "13        113.40          Andalucía     Cádiz   February\n",
       "14        137.00          Andalucía     Cádiz      March\n",
       "15        147.93          Andalucía     Cádiz      April\n",
       "16        161.61          Andalucía     Cádiz        May\n",
       "17        158.61          Andalucía     Cádiz       June\n",
       "18        165.98          Andalucía     Cádiz       July\n",
       "19        163.39          Andalucía     Cádiz     August\n",
       "20        147.51          Andalucía     Cádiz  September\n",
       "21        132.53          Andalucía     Cádiz    October\n",
       "22        106.69          Andalucía     Cádiz   November\n",
       "23        100.76          Andalucía     Cádiz   December\n",
       "24         94.39          Andalucía     Cádiz    January\n",
       "25         96.38          Andalucía     Cádiz   February\n",
       "26        124.95          Andalucía     Cádiz      March\n",
       "27        137.69          Andalucía     Cádiz      April\n",
       "28        159.23          Andalucía     Cádiz        May\n",
       "29        161.20          Andalucía     Cádiz       June\n",
       "30        168.72          Andalucía     Cádiz       July\n",
       "31        161.47          Andalucía     Cádiz     August\n",
       "32        137.80          Andalucía     Cádiz  September\n",
       "33        116.94          Andalucía     Cádiz    October\n",
       "34         95.18          Andalucía     Cádiz   November\n",
       "35         82.38          Andalucía     Cádiz   December"
      ]
     },
     "execution_count": 11023,
     "metadata": {},
     "output_type": "execute_result"
    }
   ],
   "source": [
    "produccion_df[\"Mes\"] = produccion_df[\"Potencia\"].str.extract(r'^PV output([^:]+)')\n",
    "produccion_df[\"Potencia\"] = produccion_df[\"Potencia\"].str.extract(r\":\\s*([\\d.]+)\").astype(float)\n",
    "produccion_df.rename(columns={\"Potencia\": \"Potencia kWh\"}, inplace=True)\n",
    "produccion_df.head(24)"
   ]
  },
  {
   "cell_type": "markdown",
   "metadata": {},
   "source": [
    "Como podemos observar que hay varios valores para la misma provincia, esto se debe a que el dataset lo divide por latitudes y longitudes. Hacemos la media para tener los valores por provincia."
   ]
  },
  {
   "cell_type": "code",
   "execution_count": 11024,
   "metadata": {},
   "outputs": [
    {
     "data": {
      "text/html": [
       "<div>\n",
       "<style scoped>\n",
       "    .dataframe tbody tr th:only-of-type {\n",
       "        vertical-align: middle;\n",
       "    }\n",
       "\n",
       "    .dataframe tbody tr th {\n",
       "        vertical-align: top;\n",
       "    }\n",
       "\n",
       "    .dataframe thead th {\n",
       "        text-align: right;\n",
       "    }\n",
       "</style>\n",
       "<table border=\"1\" class=\"dataframe\">\n",
       "  <thead>\n",
       "    <tr style=\"text-align: right;\">\n",
       "      <th></th>\n",
       "      <th>Potencia kWh</th>\n",
       "      <th>Comunidad Autonoma</th>\n",
       "      <th>Provincia</th>\n",
       "      <th>Mes</th>\n",
       "    </tr>\n",
       "  </thead>\n",
       "  <tbody>\n",
       "    <tr>\n",
       "      <th>12</th>\n",
       "      <td>112.198462</td>\n",
       "      <td>Andalucía</td>\n",
       "      <td>Cádiz</td>\n",
       "      <td>January</td>\n",
       "    </tr>\n",
       "    <tr>\n",
       "      <th>13</th>\n",
       "      <td>112.970769</td>\n",
       "      <td>Andalucía</td>\n",
       "      <td>Cádiz</td>\n",
       "      <td>February</td>\n",
       "    </tr>\n",
       "    <tr>\n",
       "      <th>14</th>\n",
       "      <td>137.280769</td>\n",
       "      <td>Andalucía</td>\n",
       "      <td>Cádiz</td>\n",
       "      <td>March</td>\n",
       "    </tr>\n",
       "    <tr>\n",
       "      <th>15</th>\n",
       "      <td>143.985385</td>\n",
       "      <td>Andalucía</td>\n",
       "      <td>Cádiz</td>\n",
       "      <td>April</td>\n",
       "    </tr>\n",
       "    <tr>\n",
       "      <th>16</th>\n",
       "      <td>158.723846</td>\n",
       "      <td>Andalucía</td>\n",
       "      <td>Cádiz</td>\n",
       "      <td>May</td>\n",
       "    </tr>\n",
       "    <tr>\n",
       "      <th>17</th>\n",
       "      <td>157.848462</td>\n",
       "      <td>Andalucía</td>\n",
       "      <td>Cádiz</td>\n",
       "      <td>June</td>\n",
       "    </tr>\n",
       "    <tr>\n",
       "      <th>18</th>\n",
       "      <td>168.123846</td>\n",
       "      <td>Andalucía</td>\n",
       "      <td>Cádiz</td>\n",
       "      <td>July</td>\n",
       "    </tr>\n",
       "    <tr>\n",
       "      <th>19</th>\n",
       "      <td>165.183846</td>\n",
       "      <td>Andalucía</td>\n",
       "      <td>Cádiz</td>\n",
       "      <td>August</td>\n",
       "    </tr>\n",
       "    <tr>\n",
       "      <th>20</th>\n",
       "      <td>146.355385</td>\n",
       "      <td>Andalucía</td>\n",
       "      <td>Cádiz</td>\n",
       "      <td>September</td>\n",
       "    </tr>\n",
       "    <tr>\n",
       "      <th>21</th>\n",
       "      <td>131.309231</td>\n",
       "      <td>Andalucía</td>\n",
       "      <td>Cádiz</td>\n",
       "      <td>October</td>\n",
       "    </tr>\n",
       "    <tr>\n",
       "      <th>22</th>\n",
       "      <td>108.556154</td>\n",
       "      <td>Andalucía</td>\n",
       "      <td>Cádiz</td>\n",
       "      <td>November</td>\n",
       "    </tr>\n",
       "    <tr>\n",
       "      <th>23</th>\n",
       "      <td>105.307692</td>\n",
       "      <td>Andalucía</td>\n",
       "      <td>Cádiz</td>\n",
       "      <td>December</td>\n",
       "    </tr>\n",
       "    <tr>\n",
       "      <th>299</th>\n",
       "      <td>107.062857</td>\n",
       "      <td>Andalucía</td>\n",
       "      <td>Málaga</td>\n",
       "      <td>January</td>\n",
       "    </tr>\n",
       "    <tr>\n",
       "      <th>300</th>\n",
       "      <td>110.180714</td>\n",
       "      <td>Andalucía</td>\n",
       "      <td>Málaga</td>\n",
       "      <td>February</td>\n",
       "    </tr>\n",
       "    <tr>\n",
       "      <th>301</th>\n",
       "      <td>135.250714</td>\n",
       "      <td>Andalucía</td>\n",
       "      <td>Málaga</td>\n",
       "      <td>March</td>\n",
       "    </tr>\n",
       "    <tr>\n",
       "      <th>302</th>\n",
       "      <td>139.955714</td>\n",
       "      <td>Andalucía</td>\n",
       "      <td>Málaga</td>\n",
       "      <td>April</td>\n",
       "    </tr>\n",
       "    <tr>\n",
       "      <th>303</th>\n",
       "      <td>157.090000</td>\n",
       "      <td>Andalucía</td>\n",
       "      <td>Málaga</td>\n",
       "      <td>May</td>\n",
       "    </tr>\n",
       "    <tr>\n",
       "      <th>304</th>\n",
       "      <td>158.371429</td>\n",
       "      <td>Andalucía</td>\n",
       "      <td>Málaga</td>\n",
       "      <td>June</td>\n",
       "    </tr>\n",
       "    <tr>\n",
       "      <th>305</th>\n",
       "      <td>167.208571</td>\n",
       "      <td>Andalucía</td>\n",
       "      <td>Málaga</td>\n",
       "      <td>July</td>\n",
       "    </tr>\n",
       "    <tr>\n",
       "      <th>306</th>\n",
       "      <td>164.404286</td>\n",
       "      <td>Andalucía</td>\n",
       "      <td>Málaga</td>\n",
       "      <td>August</td>\n",
       "    </tr>\n",
       "    <tr>\n",
       "      <th>307</th>\n",
       "      <td>144.500714</td>\n",
       "      <td>Andalucía</td>\n",
       "      <td>Málaga</td>\n",
       "      <td>September</td>\n",
       "    </tr>\n",
       "    <tr>\n",
       "      <th>308</th>\n",
       "      <td>128.729286</td>\n",
       "      <td>Andalucía</td>\n",
       "      <td>Málaga</td>\n",
       "      <td>October</td>\n",
       "    </tr>\n",
       "    <tr>\n",
       "      <th>309</th>\n",
       "      <td>103.972857</td>\n",
       "      <td>Andalucía</td>\n",
       "      <td>Málaga</td>\n",
       "      <td>November</td>\n",
       "    </tr>\n",
       "    <tr>\n",
       "      <th>310</th>\n",
       "      <td>97.912857</td>\n",
       "      <td>Andalucía</td>\n",
       "      <td>Málaga</td>\n",
       "      <td>December</td>\n",
       "    </tr>\n",
       "  </tbody>\n",
       "</table>\n",
       "</div>"
      ],
      "text/plain": [
       "     Potencia kWh Comunidad Autonoma Provincia        Mes\n",
       "12     112.198462          Andalucía     Cádiz    January\n",
       "13     112.970769          Andalucía     Cádiz   February\n",
       "14     137.280769          Andalucía     Cádiz      March\n",
       "15     143.985385          Andalucía     Cádiz      April\n",
       "16     158.723846          Andalucía     Cádiz        May\n",
       "17     157.848462          Andalucía     Cádiz       June\n",
       "18     168.123846          Andalucía     Cádiz       July\n",
       "19     165.183846          Andalucía     Cádiz     August\n",
       "20     146.355385          Andalucía     Cádiz  September\n",
       "21     131.309231          Andalucía     Cádiz    October\n",
       "22     108.556154          Andalucía     Cádiz   November\n",
       "23     105.307692          Andalucía     Cádiz   December\n",
       "299    107.062857          Andalucía    Málaga    January\n",
       "300    110.180714          Andalucía    Málaga   February\n",
       "301    135.250714          Andalucía    Málaga      March\n",
       "302    139.955714          Andalucía    Málaga      April\n",
       "303    157.090000          Andalucía    Málaga        May\n",
       "304    158.371429          Andalucía    Málaga       June\n",
       "305    167.208571          Andalucía    Málaga       July\n",
       "306    164.404286          Andalucía    Málaga     August\n",
       "307    144.500714          Andalucía    Málaga  September\n",
       "308    128.729286          Andalucía    Málaga    October\n",
       "309    103.972857          Andalucía    Málaga   November\n",
       "310     97.912857          Andalucía    Málaga   December"
      ]
     },
     "execution_count": 11024,
     "metadata": {},
     "output_type": "execute_result"
    }
   ],
   "source": [
    "produccion_df[\"Potencia kWh\"] = produccion_df.groupby([\"Comunidad Autonoma\", \"Provincia\", \"Mes\"])[\"Potencia kWh\"].transform(\"mean\")\n",
    "produccion_df.drop_duplicates(subset=[\"Comunidad Autonoma\", \"Provincia\", \"Mes\"], inplace=True)\n",
    "produccion_df.head(24)"
   ]
  },
  {
   "cell_type": "code",
   "execution_count": 11025,
   "metadata": {},
   "outputs": [],
   "source": [
    "produccion_df.drop(columns = [\"Comunidad Autonoma\"], inplace=True)"
   ]
  },
  {
   "cell_type": "code",
   "execution_count": 11026,
   "metadata": {},
   "outputs": [
    {
     "data": {
      "text/html": [
       "<div>\n",
       "<style scoped>\n",
       "    .dataframe tbody tr th:only-of-type {\n",
       "        vertical-align: middle;\n",
       "    }\n",
       "\n",
       "    .dataframe tbody tr th {\n",
       "        vertical-align: top;\n",
       "    }\n",
       "\n",
       "    .dataframe thead th {\n",
       "        text-align: right;\n",
       "    }\n",
       "</style>\n",
       "<table border=\"1\" class=\"dataframe\">\n",
       "  <thead>\n",
       "    <tr style=\"text-align: right;\">\n",
       "      <th></th>\n",
       "      <th>Potencia kWh</th>\n",
       "      <th>Provincia</th>\n",
       "      <th>Mes</th>\n",
       "    </tr>\n",
       "  </thead>\n",
       "  <tbody>\n",
       "    <tr>\n",
       "      <th>12</th>\n",
       "      <td>112.198462</td>\n",
       "      <td>Cádiz</td>\n",
       "      <td>January</td>\n",
       "    </tr>\n",
       "    <tr>\n",
       "      <th>13</th>\n",
       "      <td>112.970769</td>\n",
       "      <td>Cádiz</td>\n",
       "      <td>February</td>\n",
       "    </tr>\n",
       "    <tr>\n",
       "      <th>14</th>\n",
       "      <td>137.280769</td>\n",
       "      <td>Cádiz</td>\n",
       "      <td>March</td>\n",
       "    </tr>\n",
       "    <tr>\n",
       "      <th>15</th>\n",
       "      <td>143.985385</td>\n",
       "      <td>Cádiz</td>\n",
       "      <td>April</td>\n",
       "    </tr>\n",
       "    <tr>\n",
       "      <th>16</th>\n",
       "      <td>158.723846</td>\n",
       "      <td>Cádiz</td>\n",
       "      <td>May</td>\n",
       "    </tr>\n",
       "    <tr>\n",
       "      <th>...</th>\n",
       "      <td>...</td>\n",
       "      <td>...</td>\n",
       "      <td>...</td>\n",
       "    </tr>\n",
       "    <tr>\n",
       "      <th>10326</th>\n",
       "      <td>121.105000</td>\n",
       "      <td>Guipúzcoa</td>\n",
       "      <td>August</td>\n",
       "    </tr>\n",
       "    <tr>\n",
       "      <th>10327</th>\n",
       "      <td>109.895000</td>\n",
       "      <td>Guipúzcoa</td>\n",
       "      <td>September</td>\n",
       "    </tr>\n",
       "    <tr>\n",
       "      <th>10328</th>\n",
       "      <td>84.430000</td>\n",
       "      <td>Guipúzcoa</td>\n",
       "      <td>October</td>\n",
       "    </tr>\n",
       "    <tr>\n",
       "      <th>10329</th>\n",
       "      <td>49.950000</td>\n",
       "      <td>Guipúzcoa</td>\n",
       "      <td>November</td>\n",
       "    </tr>\n",
       "    <tr>\n",
       "      <th>10330</th>\n",
       "      <td>42.415000</td>\n",
       "      <td>Guipúzcoa</td>\n",
       "      <td>December</td>\n",
       "    </tr>\n",
       "  </tbody>\n",
       "</table>\n",
       "<p>528 rows × 3 columns</p>\n",
       "</div>"
      ],
      "text/plain": [
       "       Potencia kWh  Provincia        Mes\n",
       "12       112.198462      Cádiz    January\n",
       "13       112.970769      Cádiz   February\n",
       "14       137.280769      Cádiz      March\n",
       "15       143.985385      Cádiz      April\n",
       "16       158.723846      Cádiz        May\n",
       "...             ...        ...        ...\n",
       "10326    121.105000  Guipúzcoa     August\n",
       "10327    109.895000  Guipúzcoa  September\n",
       "10328     84.430000  Guipúzcoa    October\n",
       "10329     49.950000  Guipúzcoa   November\n",
       "10330     42.415000  Guipúzcoa   December\n",
       "\n",
       "[528 rows x 3 columns]"
      ]
     },
     "execution_count": 11026,
     "metadata": {},
     "output_type": "execute_result"
    }
   ],
   "source": [
    "produccion_df"
   ]
  },
  {
   "cell_type": "markdown",
   "metadata": {},
   "source": [
    "Eliminamos las provincias que no están en la península y guardamos el dataset en un archivo csv."
   ]
  },
  {
   "cell_type": "code",
   "execution_count": 11027,
   "metadata": {},
   "outputs": [],
   "source": [
    "produccion_df.set_index(\"Provincia\", inplace=True)\n",
    "produccion_df = produccion_df[~produccion_df.index.isin([\"Islas Baleares\"])]"
   ]
  },
  {
   "cell_type": "code",
   "execution_count": 11028,
   "metadata": {},
   "outputs": [],
   "source": [
    "with open(SILVER_DATA_PATH + \"produccion_lugar.csv\", \"w\") as f:\n",
    "    produccion_df.to_csv(f, sep=';', encoding='utf-8')"
   ]
  },
  {
   "cell_type": "markdown",
   "metadata": {},
   "source": [
    "## Renta por hogar "
   ]
  },
  {
   "cell_type": "code",
   "execution_count": 11029,
   "metadata": {},
   "outputs": [
    {
     "name": "stdout",
     "output_type": "stream",
     "text": [
      "<class 'pandas.core.frame.DataFrame'>\n",
      "RangeIndex: 186 entries, 0 to 185\n",
      "Data columns (total 6 columns):\n",
      " #   Column                            Non-Null Count  Dtype \n",
      "---  ------                            --------------  ----- \n",
      " 0   Comunidades y Ciudades Autónomas  186 non-null    object\n",
      " 1   Provincias                        186 non-null    object\n",
      " 2   Islas                             30 non-null     object\n",
      " 3   Indicadores de renta media        186 non-null    object\n",
      " 4   Periodo                           186 non-null    object\n",
      " 5   Total                             185 non-null    object\n",
      "dtypes: object(6)\n",
      "memory usage: 8.8+ KB\n"
     ]
    }
   ],
   "source": [
    "renta_df=pd.read_csv(RAW_DATA_PATH+\"Renta media por hogar.csv\", sep = \";\", encoding = \"latin\", dtype = str)\n",
    "\n",
    "renta_df.info()"
   ]
  },
  {
   "cell_type": "code",
   "execution_count": 11030,
   "metadata": {},
   "outputs": [
    {
     "data": {
      "text/html": [
       "<div>\n",
       "<style scoped>\n",
       "    .dataframe tbody tr th:only-of-type {\n",
       "        vertical-align: middle;\n",
       "    }\n",
       "\n",
       "    .dataframe tbody tr th {\n",
       "        vertical-align: top;\n",
       "    }\n",
       "\n",
       "    .dataframe thead th {\n",
       "        text-align: right;\n",
       "    }\n",
       "</style>\n",
       "<table border=\"1\" class=\"dataframe\">\n",
       "  <thead>\n",
       "    <tr style=\"text-align: right;\">\n",
       "      <th></th>\n",
       "      <th>Comunidades y Ciudades Autónomas</th>\n",
       "      <th>Provincias</th>\n",
       "      <th>Islas</th>\n",
       "      <th>Indicadores de renta media</th>\n",
       "      <th>Periodo</th>\n",
       "      <th>Total</th>\n",
       "    </tr>\n",
       "  </thead>\n",
       "  <tbody>\n",
       "    <tr>\n",
       "      <th>60</th>\n",
       "      <td>Canarias</td>\n",
       "      <td>Santa Cruz de Tenerife</td>\n",
       "      <td>NaN</td>\n",
       "      <td>Renta neta media por hogar</td>\n",
       "      <td>2022</td>\n",
       "      <td>32.485</td>\n",
       "    </tr>\n",
       "    <tr>\n",
       "      <th>61</th>\n",
       "      <td>Canarias</td>\n",
       "      <td>Santa Cruz de Tenerife</td>\n",
       "      <td>NaN</td>\n",
       "      <td>Renta neta media por hogar</td>\n",
       "      <td>2021</td>\n",
       "      <td>29.849</td>\n",
       "    </tr>\n",
       "    <tr>\n",
       "      <th>62</th>\n",
       "      <td>Canarias</td>\n",
       "      <td>Santa Cruz de Tenerife</td>\n",
       "      <td>NaN</td>\n",
       "      <td>Renta neta media por hogar</td>\n",
       "      <td>2020</td>\n",
       "      <td>28.792</td>\n",
       "    </tr>\n",
       "    <tr>\n",
       "      <th>63</th>\n",
       "      <td>Canarias</td>\n",
       "      <td>Santa Cruz de Tenerife</td>\n",
       "      <td>Gomera, La</td>\n",
       "      <td>Renta neta media por hogar</td>\n",
       "      <td>2022</td>\n",
       "      <td>30.156</td>\n",
       "    </tr>\n",
       "    <tr>\n",
       "      <th>64</th>\n",
       "      <td>Canarias</td>\n",
       "      <td>Santa Cruz de Tenerife</td>\n",
       "      <td>Gomera, La</td>\n",
       "      <td>Renta neta media por hogar</td>\n",
       "      <td>2021</td>\n",
       "      <td>28.054</td>\n",
       "    </tr>\n",
       "    <tr>\n",
       "      <th>65</th>\n",
       "      <td>Canarias</td>\n",
       "      <td>Santa Cruz de Tenerife</td>\n",
       "      <td>Gomera, La</td>\n",
       "      <td>Renta neta media por hogar</td>\n",
       "      <td>2020</td>\n",
       "      <td>26.509</td>\n",
       "    </tr>\n",
       "    <tr>\n",
       "      <th>66</th>\n",
       "      <td>Canarias</td>\n",
       "      <td>Santa Cruz de Tenerife</td>\n",
       "      <td>Hierro, El</td>\n",
       "      <td>Renta neta media por hogar</td>\n",
       "      <td>2022</td>\n",
       "      <td>31.010</td>\n",
       "    </tr>\n",
       "    <tr>\n",
       "      <th>67</th>\n",
       "      <td>Canarias</td>\n",
       "      <td>Santa Cruz de Tenerife</td>\n",
       "      <td>Hierro, El</td>\n",
       "      <td>Renta neta media por hogar</td>\n",
       "      <td>2021</td>\n",
       "      <td>29.903</td>\n",
       "    </tr>\n",
       "  </tbody>\n",
       "</table>\n",
       "</div>"
      ],
      "text/plain": [
       "   Comunidades y Ciudades Autónomas              Provincias       Islas  \\\n",
       "60                         Canarias  Santa Cruz de Tenerife         NaN   \n",
       "61                         Canarias  Santa Cruz de Tenerife         NaN   \n",
       "62                         Canarias  Santa Cruz de Tenerife         NaN   \n",
       "63                         Canarias  Santa Cruz de Tenerife  Gomera, La   \n",
       "64                         Canarias  Santa Cruz de Tenerife  Gomera, La   \n",
       "65                         Canarias  Santa Cruz de Tenerife  Gomera, La   \n",
       "66                         Canarias  Santa Cruz de Tenerife  Hierro, El   \n",
       "67                         Canarias  Santa Cruz de Tenerife  Hierro, El   \n",
       "\n",
       "    Indicadores de renta media Periodo   Total  \n",
       "60  Renta neta media por hogar    2022  32.485  \n",
       "61  Renta neta media por hogar    2021  29.849  \n",
       "62  Renta neta media por hogar    2020  28.792  \n",
       "63  Renta neta media por hogar    2022  30.156  \n",
       "64  Renta neta media por hogar    2021  28.054  \n",
       "65  Renta neta media por hogar    2020  26.509  \n",
       "66  Renta neta media por hogar    2022  31.010  \n",
       "67  Renta neta media por hogar    2021  29.903  "
      ]
     },
     "execution_count": 11030,
     "metadata": {},
     "output_type": "execute_result"
    }
   ],
   "source": [
    "# Ejemplo de los datos de la tabla para una provincia\n",
    "renta_df.head(68).tail(8)"
   ]
  },
  {
   "cell_type": "code",
   "execution_count": 11031,
   "metadata": {},
   "outputs": [
    {
     "data": {
      "text/html": [
       "<div>\n",
       "<style scoped>\n",
       "    .dataframe tbody tr th:only-of-type {\n",
       "        vertical-align: middle;\n",
       "    }\n",
       "\n",
       "    .dataframe tbody tr th {\n",
       "        vertical-align: top;\n",
       "    }\n",
       "\n",
       "    .dataframe thead th {\n",
       "        text-align: right;\n",
       "    }\n",
       "</style>\n",
       "<table border=\"1\" class=\"dataframe\">\n",
       "  <thead>\n",
       "    <tr style=\"text-align: right;\">\n",
       "      <th></th>\n",
       "      <th>Provincias</th>\n",
       "      <th>Periodo</th>\n",
       "      <th>Total</th>\n",
       "    </tr>\n",
       "  </thead>\n",
       "  <tbody>\n",
       "    <tr>\n",
       "      <th>0</th>\n",
       "      <td>Almería</td>\n",
       "      <td>2022</td>\n",
       "      <td>28.442</td>\n",
       "    </tr>\n",
       "    <tr>\n",
       "      <th>1</th>\n",
       "      <td>Almería</td>\n",
       "      <td>2021</td>\n",
       "      <td>27.184</td>\n",
       "    </tr>\n",
       "    <tr>\n",
       "      <th>2</th>\n",
       "      <td>Almería</td>\n",
       "      <td>2020</td>\n",
       "      <td>26.276</td>\n",
       "    </tr>\n",
       "    <tr>\n",
       "      <th>3</th>\n",
       "      <td>Cádiz</td>\n",
       "      <td>2022</td>\n",
       "      <td>30.055</td>\n",
       "    </tr>\n",
       "    <tr>\n",
       "      <th>4</th>\n",
       "      <td>Cádiz</td>\n",
       "      <td>2021</td>\n",
       "      <td>28.501</td>\n",
       "    </tr>\n",
       "  </tbody>\n",
       "</table>\n",
       "</div>"
      ],
      "text/plain": [
       "  Provincias Periodo   Total\n",
       "0    Almería    2022  28.442\n",
       "1    Almería    2021  27.184\n",
       "2    Almería    2020  26.276\n",
       "3      Cádiz    2022  30.055\n",
       "4      Cádiz    2021  28.501"
      ]
     },
     "execution_count": 11031,
     "metadata": {},
     "output_type": "execute_result"
    }
   ],
   "source": [
    "#Eliminamos la columna Islas, pues no es de interés.\n",
    "renta_df.drop(columns=['Islas'], inplace=True)\n",
    "\n",
    "#Eliminamos la columna \"Renta anual media por hogar\" pues no es relevante.\n",
    "renta_df.drop(columns='Indicadores de renta media', inplace=True)\n",
    "\n",
    "#Eliminamos la columna \"Comunidades y Ciudades Autónomas\".\n",
    "renta_df.drop(columns='Comunidades y Ciudades Autónomas', inplace=True)\n",
    "\n",
    "renta_df.head()"
   ]
  },
  {
   "cell_type": "code",
   "execution_count": 11032,
   "metadata": {},
   "outputs": [],
   "source": [
    "#Como la provincia de Navarra en el año 2020 tiene un valor nulo, se añade su correspondiente valor, consultado en Nastat.\n",
    "#Ver valor primero\n",
    "\n",
    "# Localizamos la fila específica para Navarra en 2020 y le asignamos un nuevo valor en la columna \"Total\"\n",
    "renta_df.loc[(renta_df['Provincias'] == 'Navarra') & (renta_df['Periodo'] == \"2020\"), 'Total'] = \"37.082\""
   ]
  },
  {
   "cell_type": "markdown",
   "metadata": {},
   "source": [
    "Con la columna \"Total\" de este dataset ocurre lo mismo que con anteriores. Se le da formato eliminando el punto decimal y convirtiéndola a entero."
   ]
  },
  {
   "cell_type": "code",
   "execution_count": 11033,
   "metadata": {},
   "outputs": [],
   "source": [
    "renta_df['Total'] = renta_df['Total'].str.replace('.', '', regex=False).astype(int)"
   ]
  },
  {
   "cell_type": "code",
   "execution_count": 11034,
   "metadata": {},
   "outputs": [
    {
     "name": "stdout",
     "output_type": "stream",
     "text": [
      "<class 'pandas.core.frame.DataFrame'>\n",
      "RangeIndex: 186 entries, 0 to 185\n",
      "Data columns (total 3 columns):\n",
      " #   Column      Non-Null Count  Dtype \n",
      "---  ------      --------------  ----- \n",
      " 0   Provincias  186 non-null    object\n",
      " 1   Periodo     186 non-null    object\n",
      " 2   Total       186 non-null    int32 \n",
      "dtypes: int32(1), object(2)\n",
      "memory usage: 3.8+ KB\n"
     ]
    },
    {
     "data": {
      "text/html": [
       "<div>\n",
       "<style scoped>\n",
       "    .dataframe tbody tr th:only-of-type {\n",
       "        vertical-align: middle;\n",
       "    }\n",
       "\n",
       "    .dataframe tbody tr th {\n",
       "        vertical-align: top;\n",
       "    }\n",
       "\n",
       "    .dataframe thead th {\n",
       "        text-align: right;\n",
       "    }\n",
       "</style>\n",
       "<table border=\"1\" class=\"dataframe\">\n",
       "  <thead>\n",
       "    <tr style=\"text-align: right;\">\n",
       "      <th></th>\n",
       "      <th>Provincias</th>\n",
       "      <th>Periodo</th>\n",
       "      <th>Total</th>\n",
       "    </tr>\n",
       "  </thead>\n",
       "  <tbody>\n",
       "    <tr>\n",
       "      <th>0</th>\n",
       "      <td>Almería</td>\n",
       "      <td>2022</td>\n",
       "      <td>28442</td>\n",
       "    </tr>\n",
       "    <tr>\n",
       "      <th>1</th>\n",
       "      <td>Almería</td>\n",
       "      <td>2021</td>\n",
       "      <td>27184</td>\n",
       "    </tr>\n",
       "    <tr>\n",
       "      <th>2</th>\n",
       "      <td>Almería</td>\n",
       "      <td>2020</td>\n",
       "      <td>26276</td>\n",
       "    </tr>\n",
       "    <tr>\n",
       "      <th>3</th>\n",
       "      <td>Cádiz</td>\n",
       "      <td>2022</td>\n",
       "      <td>30055</td>\n",
       "    </tr>\n",
       "    <tr>\n",
       "      <th>4</th>\n",
       "      <td>Cádiz</td>\n",
       "      <td>2021</td>\n",
       "      <td>28501</td>\n",
       "    </tr>\n",
       "    <tr>\n",
       "      <th>5</th>\n",
       "      <td>Cádiz</td>\n",
       "      <td>2020</td>\n",
       "      <td>27179</td>\n",
       "    </tr>\n",
       "    <tr>\n",
       "      <th>6</th>\n",
       "      <td>Córdoba</td>\n",
       "      <td>2022</td>\n",
       "      <td>29082</td>\n",
       "    </tr>\n",
       "    <tr>\n",
       "      <th>7</th>\n",
       "      <td>Córdoba</td>\n",
       "      <td>2021</td>\n",
       "      <td>27909</td>\n",
       "    </tr>\n",
       "  </tbody>\n",
       "</table>\n",
       "</div>"
      ],
      "text/plain": [
       "  Provincias Periodo  Total\n",
       "0    Almería    2022  28442\n",
       "1    Almería    2021  27184\n",
       "2    Almería    2020  26276\n",
       "3      Cádiz    2022  30055\n",
       "4      Cádiz    2021  28501\n",
       "5      Cádiz    2020  27179\n",
       "6    Córdoba    2022  29082\n",
       "7    Córdoba    2021  27909"
      ]
     },
     "execution_count": 11034,
     "metadata": {},
     "output_type": "execute_result"
    }
   ],
   "source": [
    "#Información actual de nuestro dataframe:\n",
    "renta_df.info()\n",
    "\n",
    "#Cómo se ve el dataframe ahora:\n",
    "renta_df.head(8)"
   ]
  },
  {
   "cell_type": "markdown",
   "metadata": {},
   "source": [
    "Transformamos el dataframe para que cada fila sea una comunidad autónoma y cada columna un año, en cada celda estará el valor total. También eliminamos las provincias que no están en la península."
   ]
  },
  {
   "cell_type": "code",
   "execution_count": 11035,
   "metadata": {},
   "outputs": [],
   "source": [
    "renta_df.set_index(\"Provincias\", inplace=True)\n",
    "renta_df = renta_df[~renta_df.index.isin(provincias_eliminar)]"
   ]
  },
  {
   "cell_type": "code",
   "execution_count": 11036,
   "metadata": {},
   "outputs": [],
   "source": [
    "with open(SILVER_DATA_PATH + \"renta_media_hogar.csv\", \"w\") as f:\n",
    "    renta_df.to_csv(f, sep=';', encoding='utf-8')"
   ]
  },
  {
   "cell_type": "markdown",
   "metadata": {},
   "source": [
    "## Tipo de núcleo familiar"
   ]
  },
  {
   "cell_type": "code",
   "execution_count": 11037,
   "metadata": {},
   "outputs": [
    {
     "name": "stdout",
     "output_type": "stream",
     "text": [
      "<class 'pandas.core.frame.DataFrame'>\n",
      "RangeIndex: 1855 entries, 0 to 1854\n",
      "Data columns (total 4 columns):\n",
      " #   Column                   Non-Null Count  Dtype \n",
      "---  ------                   --------------  ----- \n",
      " 0   Provincias               1855 non-null   object\n",
      " 1   Tipo de núcleo familiar  1855 non-null   object\n",
      " 2   Número de hijos          1855 non-null   object\n",
      " 3   Total                    1855 non-null   object\n",
      "dtypes: object(4)\n",
      "memory usage: 58.1+ KB\n"
     ]
    }
   ],
   "source": [
    "tipo_nucleo_familiar_df=pd.read_csv(RAW_DATA_PATH+\"Tipo de núcleo familiar.csv\", sep = \";\", encoding = \"latin\", dtype = str)\n",
    "\n",
    "tipo_nucleo_familiar_df.info()"
   ]
  },
  {
   "cell_type": "code",
   "execution_count": 11038,
   "metadata": {},
   "outputs": [
    {
     "data": {
      "text/html": [
       "<div>\n",
       "<style scoped>\n",
       "    .dataframe tbody tr th:only-of-type {\n",
       "        vertical-align: middle;\n",
       "    }\n",
       "\n",
       "    .dataframe tbody tr th {\n",
       "        vertical-align: top;\n",
       "    }\n",
       "\n",
       "    .dataframe thead th {\n",
       "        text-align: right;\n",
       "    }\n",
       "</style>\n",
       "<table border=\"1\" class=\"dataframe\">\n",
       "  <thead>\n",
       "    <tr style=\"text-align: right;\">\n",
       "      <th></th>\n",
       "      <th>Provincias</th>\n",
       "      <th>Tipo de núcleo familiar</th>\n",
       "      <th>Número de hijos</th>\n",
       "      <th>Total</th>\n",
       "    </tr>\n",
       "  </thead>\n",
       "  <tbody>\n",
       "    <tr>\n",
       "      <th>790</th>\n",
       "      <td>Granada</td>\n",
       "      <td>Pareja no casada, con o sin hijos convivientes</td>\n",
       "      <td>Total</td>\n",
       "      <td>35.412</td>\n",
       "    </tr>\n",
       "    <tr>\n",
       "      <th>791</th>\n",
       "      <td>Granada</td>\n",
       "      <td>Padre sólo con hijos convivientes</td>\n",
       "      <td>0 hijos conviviendo</td>\n",
       "      <td>0</td>\n",
       "    </tr>\n",
       "    <tr>\n",
       "      <th>792</th>\n",
       "      <td>Granada</td>\n",
       "      <td>Padre sólo con hijos convivientes</td>\n",
       "      <td>1 hijo conviviendo</td>\n",
       "      <td>4.959</td>\n",
       "    </tr>\n",
       "    <tr>\n",
       "      <th>793</th>\n",
       "      <td>Granada</td>\n",
       "      <td>Padre sólo con hijos convivientes</td>\n",
       "      <td>2 o más hijos conviviendo</td>\n",
       "      <td>3.217</td>\n",
       "    </tr>\n",
       "    <tr>\n",
       "      <th>794</th>\n",
       "      <td>Granada</td>\n",
       "      <td>Padre sólo con hijos convivientes</td>\n",
       "      <td>0 hijos conviviendo menores de 25 años</td>\n",
       "      <td>4.200</td>\n",
       "    </tr>\n",
       "    <tr>\n",
       "      <th>795</th>\n",
       "      <td>Granada</td>\n",
       "      <td>Padre sólo con hijos convivientes</td>\n",
       "      <td>1 hijo conviviendo menor de 25 años</td>\n",
       "      <td>2.442</td>\n",
       "    </tr>\n",
       "    <tr>\n",
       "      <th>796</th>\n",
       "      <td>Granada</td>\n",
       "      <td>Padre sólo con hijos convivientes</td>\n",
       "      <td>2 hijos o más conviviendo menores de 25 años</td>\n",
       "      <td>1.534</td>\n",
       "    </tr>\n",
       "    <tr>\n",
       "      <th>797</th>\n",
       "      <td>Granada</td>\n",
       "      <td>Padre sólo con hijos convivientes</td>\n",
       "      <td>Total</td>\n",
       "      <td>8.176</td>\n",
       "    </tr>\n",
       "    <tr>\n",
       "      <th>798</th>\n",
       "      <td>Granada</td>\n",
       "      <td>Madre sóla con hijos convivientes</td>\n",
       "      <td>0 hijos conviviendo</td>\n",
       "      <td>0</td>\n",
       "    </tr>\n",
       "    <tr>\n",
       "      <th>799</th>\n",
       "      <td>Granada</td>\n",
       "      <td>Madre sóla con hijos convivientes</td>\n",
       "      <td>1 hijo conviviendo</td>\n",
       "      <td>28.188</td>\n",
       "    </tr>\n",
       "  </tbody>\n",
       "</table>\n",
       "</div>"
      ],
      "text/plain": [
       "    Provincias                         Tipo de núcleo familiar  \\\n",
       "790    Granada  Pareja no casada, con o sin hijos convivientes   \n",
       "791    Granada               Padre sólo con hijos convivientes   \n",
       "792    Granada               Padre sólo con hijos convivientes   \n",
       "793    Granada               Padre sólo con hijos convivientes   \n",
       "794    Granada               Padre sólo con hijos convivientes   \n",
       "795    Granada               Padre sólo con hijos convivientes   \n",
       "796    Granada               Padre sólo con hijos convivientes   \n",
       "797    Granada               Padre sólo con hijos convivientes   \n",
       "798    Granada               Madre sóla con hijos convivientes   \n",
       "799    Granada               Madre sóla con hijos convivientes   \n",
       "\n",
       "                                  Número de hijos   Total  \n",
       "790                                         Total  35.412  \n",
       "791                           0 hijos conviviendo       0  \n",
       "792                            1 hijo conviviendo   4.959  \n",
       "793                     2 o más hijos conviviendo   3.217  \n",
       "794        0 hijos conviviendo menores de 25 años   4.200  \n",
       "795           1 hijo conviviendo menor de 25 años   2.442  \n",
       "796  2 hijos o más conviviendo menores de 25 años   1.534  \n",
       "797                                         Total   8.176  \n",
       "798                           0 hijos conviviendo       0  \n",
       "799                            1 hijo conviviendo  28.188  "
      ]
     },
     "execution_count": 11038,
     "metadata": {},
     "output_type": "execute_result"
    }
   ],
   "source": [
    "# Ejemplo de los datos que presenta la tabla\n",
    "tipo_nucleo_familiar_df.head(800).tail(10)"
   ]
  },
  {
   "cell_type": "markdown",
   "metadata": {},
   "source": [
    "Con la columna \"Total\" de este dataset ocurre lo mismo que con anteriores. Se le da formato eliminando el punto decimal y convirtiéndola a entero."
   ]
  },
  {
   "cell_type": "code",
   "execution_count": 11039,
   "metadata": {},
   "outputs": [],
   "source": [
    "tipo_nucleo_familiar_df['Total'] = tipo_nucleo_familiar_df['Total'].str.replace('.', '', regex=False).astype(int)"
   ]
  },
  {
   "cell_type": "markdown",
   "metadata": {},
   "source": [
    "En la columna \"Provincias\", algunas filas están etiquetadas como \"Total Nacional\". Para simplificar el conjunto de datos, se ha decidido eliminar los registros correspondientes a los datos a nivel nacional."
   ]
  },
  {
   "cell_type": "code",
   "execution_count": 11040,
   "metadata": {},
   "outputs": [
    {
     "data": {
      "text/html": [
       "<div>\n",
       "<style scoped>\n",
       "    .dataframe tbody tr th:only-of-type {\n",
       "        vertical-align: middle;\n",
       "    }\n",
       "\n",
       "    .dataframe tbody tr th {\n",
       "        vertical-align: top;\n",
       "    }\n",
       "\n",
       "    .dataframe thead th {\n",
       "        text-align: right;\n",
       "    }\n",
       "</style>\n",
       "<table border=\"1\" class=\"dataframe\">\n",
       "  <thead>\n",
       "    <tr style=\"text-align: right;\">\n",
       "      <th></th>\n",
       "      <th>Provincias</th>\n",
       "      <th>Tipo de núcleo familiar</th>\n",
       "      <th>Número de hijos</th>\n",
       "      <th>Total</th>\n",
       "    </tr>\n",
       "  </thead>\n",
       "  <tbody>\n",
       "    <tr>\n",
       "      <th>0</th>\n",
       "      <td>Total Nacional</td>\n",
       "      <td>Total</td>\n",
       "      <td>0 hijos conviviendo</td>\n",
       "      <td>4484568</td>\n",
       "    </tr>\n",
       "    <tr>\n",
       "      <th>1</th>\n",
       "      <td>Total Nacional</td>\n",
       "      <td>Total</td>\n",
       "      <td>1 hijo conviviendo</td>\n",
       "      <td>4914044</td>\n",
       "    </tr>\n",
       "    <tr>\n",
       "      <th>2</th>\n",
       "      <td>Total Nacional</td>\n",
       "      <td>Total</td>\n",
       "      <td>2 o más hijos conviviendo</td>\n",
       "      <td>4368298</td>\n",
       "    </tr>\n",
       "    <tr>\n",
       "      <th>3</th>\n",
       "      <td>Total Nacional</td>\n",
       "      <td>Total</td>\n",
       "      <td>0 hijos conviviendo menores de 25 años</td>\n",
       "      <td>6973068</td>\n",
       "    </tr>\n",
       "    <tr>\n",
       "      <th>4</th>\n",
       "      <td>Total Nacional</td>\n",
       "      <td>Total</td>\n",
       "      <td>1 hijo conviviendo menor de 25 años</td>\n",
       "      <td>3349425</td>\n",
       "    </tr>\n",
       "  </tbody>\n",
       "</table>\n",
       "</div>"
      ],
      "text/plain": [
       "       Provincias Tipo de núcleo familiar  \\\n",
       "0  Total Nacional                   Total   \n",
       "1  Total Nacional                   Total   \n",
       "2  Total Nacional                   Total   \n",
       "3  Total Nacional                   Total   \n",
       "4  Total Nacional                   Total   \n",
       "\n",
       "                          Número de hijos    Total  \n",
       "0                     0 hijos conviviendo  4484568  \n",
       "1                      1 hijo conviviendo  4914044  \n",
       "2               2 o más hijos conviviendo  4368298  \n",
       "3  0 hijos conviviendo menores de 25 años  6973068  \n",
       "4     1 hijo conviviendo menor de 25 años  3349425  "
      ]
     },
     "execution_count": 11040,
     "metadata": {},
     "output_type": "execute_result"
    }
   ],
   "source": [
    "tipo_nucleo_familiar_df.head(5) "
   ]
  },
  {
   "cell_type": "code",
   "execution_count": 11041,
   "metadata": {},
   "outputs": [],
   "source": [
    "tipo_nucleo_familiar_df = tipo_nucleo_familiar_df[tipo_nucleo_familiar_df['Provincias'] != \"Total Nacional\"]\n"
   ]
  },
  {
   "cell_type": "code",
   "execution_count": 11042,
   "metadata": {},
   "outputs": [
    {
     "data": {
      "text/html": [
       "<div>\n",
       "<style scoped>\n",
       "    .dataframe tbody tr th:only-of-type {\n",
       "        vertical-align: middle;\n",
       "    }\n",
       "\n",
       "    .dataframe tbody tr th {\n",
       "        vertical-align: top;\n",
       "    }\n",
       "\n",
       "    .dataframe thead th {\n",
       "        text-align: right;\n",
       "    }\n",
       "</style>\n",
       "<table border=\"1\" class=\"dataframe\">\n",
       "  <thead>\n",
       "    <tr style=\"text-align: right;\">\n",
       "      <th></th>\n",
       "      <th>Provincias</th>\n",
       "      <th>Tipo de núcleo familiar</th>\n",
       "      <th>Número de hijos</th>\n",
       "      <th>Total</th>\n",
       "    </tr>\n",
       "  </thead>\n",
       "  <tbody>\n",
       "    <tr>\n",
       "      <th>35</th>\n",
       "      <td>Albacete</td>\n",
       "      <td>Total</td>\n",
       "      <td>0 hijos conviviendo</td>\n",
       "      <td>33012</td>\n",
       "    </tr>\n",
       "    <tr>\n",
       "      <th>36</th>\n",
       "      <td>Albacete</td>\n",
       "      <td>Total</td>\n",
       "      <td>1 hijo conviviendo</td>\n",
       "      <td>35351</td>\n",
       "    </tr>\n",
       "    <tr>\n",
       "      <th>37</th>\n",
       "      <td>Albacete</td>\n",
       "      <td>Total</td>\n",
       "      <td>2 o más hijos conviviendo</td>\n",
       "      <td>41228</td>\n",
       "    </tr>\n",
       "    <tr>\n",
       "      <th>38</th>\n",
       "      <td>Albacete</td>\n",
       "      <td>Total</td>\n",
       "      <td>0 hijos conviviendo menores de 25 años</td>\n",
       "      <td>52429</td>\n",
       "    </tr>\n",
       "    <tr>\n",
       "      <th>39</th>\n",
       "      <td>Albacete</td>\n",
       "      <td>Total</td>\n",
       "      <td>1 hijo conviviendo menor de 25 años</td>\n",
       "      <td>25451</td>\n",
       "    </tr>\n",
       "    <tr>\n",
       "      <th>40</th>\n",
       "      <td>Albacete</td>\n",
       "      <td>Total</td>\n",
       "      <td>2 hijos o más conviviendo menores de 25 años</td>\n",
       "      <td>31712</td>\n",
       "    </tr>\n",
       "    <tr>\n",
       "      <th>41</th>\n",
       "      <td>Albacete</td>\n",
       "      <td>Total</td>\n",
       "      <td>Total</td>\n",
       "      <td>109592</td>\n",
       "    </tr>\n",
       "    <tr>\n",
       "      <th>42</th>\n",
       "      <td>Albacete</td>\n",
       "      <td>Pareja casada, con o sin hijos convivientes</td>\n",
       "      <td>0 hijos conviviendo</td>\n",
       "      <td>27344</td>\n",
       "    </tr>\n",
       "    <tr>\n",
       "      <th>43</th>\n",
       "      <td>Albacete</td>\n",
       "      <td>Pareja casada, con o sin hijos convivientes</td>\n",
       "      <td>1 hijo conviviendo</td>\n",
       "      <td>21719</td>\n",
       "    </tr>\n",
       "    <tr>\n",
       "      <th>44</th>\n",
       "      <td>Albacete</td>\n",
       "      <td>Pareja casada, con o sin hijos convivientes</td>\n",
       "      <td>2 o más hijos conviviendo</td>\n",
       "      <td>31743</td>\n",
       "    </tr>\n",
       "  </tbody>\n",
       "</table>\n",
       "</div>"
      ],
      "text/plain": [
       "   Provincias                      Tipo de núcleo familiar  \\\n",
       "35   Albacete                                        Total   \n",
       "36   Albacete                                        Total   \n",
       "37   Albacete                                        Total   \n",
       "38   Albacete                                        Total   \n",
       "39   Albacete                                        Total   \n",
       "40   Albacete                                        Total   \n",
       "41   Albacete                                        Total   \n",
       "42   Albacete  Pareja casada, con o sin hijos convivientes   \n",
       "43   Albacete  Pareja casada, con o sin hijos convivientes   \n",
       "44   Albacete  Pareja casada, con o sin hijos convivientes   \n",
       "\n",
       "                                 Número de hijos   Total  \n",
       "35                           0 hijos conviviendo   33012  \n",
       "36                            1 hijo conviviendo   35351  \n",
       "37                     2 o más hijos conviviendo   41228  \n",
       "38        0 hijos conviviendo menores de 25 años   52429  \n",
       "39           1 hijo conviviendo menor de 25 años   25451  \n",
       "40  2 hijos o más conviviendo menores de 25 años   31712  \n",
       "41                                         Total  109592  \n",
       "42                           0 hijos conviviendo   27344  \n",
       "43                            1 hijo conviviendo   21719  \n",
       "44                     2 o más hijos conviviendo   31743  "
      ]
     },
     "execution_count": 11042,
     "metadata": {},
     "output_type": "execute_result"
    }
   ],
   "source": [
    "tipo_nucleo_familiar_df.head(10)"
   ]
  },
  {
   "cell_type": "markdown",
   "metadata": {},
   "source": [
    "En la columna \"Tipo de núcleo familiar\" se ha encontrado un valor \"Total\", el cual será eliminado."
   ]
  },
  {
   "cell_type": "code",
   "execution_count": 11043,
   "metadata": {},
   "outputs": [],
   "source": [
    "tipo_nucleo_familiar_df = tipo_nucleo_familiar_df[tipo_nucleo_familiar_df['Tipo de núcleo familiar'] != \"Total\"]"
   ]
  },
  {
   "cell_type": "markdown",
   "metadata": {},
   "source": [
    "\n",
    "Lo mismo sucede con la columna \"Número de hijos\"."
   ]
  },
  {
   "cell_type": "code",
   "execution_count": 11044,
   "metadata": {},
   "outputs": [],
   "source": [
    "tipo_nucleo_familiar_df = tipo_nucleo_familiar_df[tipo_nucleo_familiar_df['Número de hijos'] != \"Total\"]"
   ]
  },
  {
   "cell_type": "markdown",
   "metadata": {},
   "source": [
    "En el dataset, el símbolo '.' debe interpretarse como dato que no se proporciona por muestra insuficiente."
   ]
  },
  {
   "cell_type": "code",
   "execution_count": 11045,
   "metadata": {},
   "outputs": [
    {
     "data": {
      "text/plain": [
       "Provincias                 False\n",
       "Tipo de núcleo familiar    False\n",
       "Número de hijos            False\n",
       "Total                      False\n",
       "dtype: bool"
      ]
     },
     "execution_count": 11045,
     "metadata": {},
     "output_type": "execute_result"
    }
   ],
   "source": [
    "columnas_a_verificar = ['Provincias', 'Tipo de núcleo familiar', 'Número de hijos', 'Total']\n",
    "tipo_nucleo_familiar_df[columnas_a_verificar].apply(lambda x: x == '.').any()"
   ]
  },
  {
   "cell_type": "markdown",
   "metadata": {},
   "source": [
    "No se han encontrado valores nulos."
   ]
  },
  {
   "cell_type": "code",
   "execution_count": 11046,
   "metadata": {},
   "outputs": [
    {
     "name": "stdout",
     "output_type": "stream",
     "text": [
      "['Pareja casada, con o sin hijos convivientes'\n",
      " 'Pareja no casada, con o sin hijos convivientes'\n",
      " 'Padre sólo con hijos convivientes' 'Madre sóla con hijos convivientes']\n"
     ]
    }
   ],
   "source": [
    "a = tipo_nucleo_familiar_df['Tipo de núcleo familiar'].unique()\n",
    "print(a)    "
   ]
  },
  {
   "cell_type": "markdown",
   "metadata": {},
   "source": [
    "Transformamos el dataframe para que cada fila sea una comunidad autónoma y cada columna un año, en cada celda estará el valor total. También eliminamos las provincias que no están en la península."
   ]
  },
  {
   "cell_type": "code",
   "execution_count": 11047,
   "metadata": {},
   "outputs": [],
   "source": [
    "tipo_nucleo_familiar_df.set_index(\"Provincias\", inplace=True)\n",
    "tipo_nucleo_familiar_df = tipo_nucleo_familiar_df[~tipo_nucleo_familiar_df.index.isin(provincias_eliminar)]"
   ]
  },
  {
   "cell_type": "code",
   "execution_count": 11048,
   "metadata": {},
   "outputs": [],
   "source": [
    "with open(SILVER_DATA_PATH + \"tipo_nucleo_familiar.csv\", \"w\") as f:\n",
    "    tipo_nucleo_familiar_df.to_csv(f, sep=';', encoding='utf-8')"
   ]
  },
  {
   "cell_type": "markdown",
   "metadata": {},
   "source": [
    "## Viviendas según el número de personas"
   ]
  },
  {
   "cell_type": "code",
   "execution_count": 11049,
   "metadata": {},
   "outputs": [
    {
     "name": "stdout",
     "output_type": "stream",
     "text": [
      "<class 'pandas.core.frame.DataFrame'>\n",
      "RangeIndex: 1764 entries, 0 to 1763\n",
      "Data columns (total 6 columns):\n",
      " #   Column                            Non-Null Count  Dtype \n",
      "---  ------                            --------------  ----- \n",
      " 0   Total Nacional                    1764 non-null   object\n",
      " 1   Comunidades y Ciudades Autónomas  1736 non-null   object\n",
      " 2   Provincias                        1204 non-null   object\n",
      " 3   Tamaño del hogar                  1764 non-null   object\n",
      " 4   Año                               1764 non-null   object\n",
      " 5   Total                             1764 non-null   object\n",
      "dtypes: object(6)\n",
      "memory usage: 82.8+ KB\n"
     ]
    }
   ],
   "source": [
    "viviendas_numero_personas_df=pd.read_csv(RAW_DATA_PATH+\"Viviendas según el número de personas.csv\", sep = \";\", encoding = \"latin\", dtype = str)\n",
    "\n",
    "viviendas_numero_personas_df.info()"
   ]
  },
  {
   "cell_type": "code",
   "execution_count": 11050,
   "metadata": {},
   "outputs": [
    {
     "data": {
      "text/html": [
       "<div>\n",
       "<style scoped>\n",
       "    .dataframe tbody tr th:only-of-type {\n",
       "        vertical-align: middle;\n",
       "    }\n",
       "\n",
       "    .dataframe tbody tr th {\n",
       "        vertical-align: top;\n",
       "    }\n",
       "\n",
       "    .dataframe thead th {\n",
       "        text-align: right;\n",
       "    }\n",
       "</style>\n",
       "<table border=\"1\" class=\"dataframe\">\n",
       "  <thead>\n",
       "    <tr style=\"text-align: right;\">\n",
       "      <th></th>\n",
       "      <th>Total Nacional</th>\n",
       "      <th>Comunidades y Ciudades Autónomas</th>\n",
       "      <th>Provincias</th>\n",
       "      <th>Tamaño del hogar</th>\n",
       "      <th>Año</th>\n",
       "      <th>Total</th>\n",
       "    </tr>\n",
       "  </thead>\n",
       "  <tbody>\n",
       "    <tr>\n",
       "      <th>0</th>\n",
       "      <td>Total Nacional</td>\n",
       "      <td>NaN</td>\n",
       "      <td>NaN</td>\n",
       "      <td>Total</td>\n",
       "      <td>2023</td>\n",
       "      <td>18.849.621</td>\n",
       "    </tr>\n",
       "    <tr>\n",
       "      <th>1</th>\n",
       "      <td>Total Nacional</td>\n",
       "      <td>NaN</td>\n",
       "      <td>NaN</td>\n",
       "      <td>Total</td>\n",
       "      <td>2022</td>\n",
       "      <td>18.791.675</td>\n",
       "    </tr>\n",
       "    <tr>\n",
       "      <th>2</th>\n",
       "      <td>Total Nacional</td>\n",
       "      <td>NaN</td>\n",
       "      <td>NaN</td>\n",
       "      <td>Total</td>\n",
       "      <td>2021</td>\n",
       "      <td>18.736.673</td>\n",
       "    </tr>\n",
       "    <tr>\n",
       "      <th>3</th>\n",
       "      <td>Total Nacional</td>\n",
       "      <td>NaN</td>\n",
       "      <td>NaN</td>\n",
       "      <td>Total</td>\n",
       "      <td>2020</td>\n",
       "      <td>18.692.279</td>\n",
       "    </tr>\n",
       "    <tr>\n",
       "      <th>4</th>\n",
       "      <td>Total Nacional</td>\n",
       "      <td>NaN</td>\n",
       "      <td>NaN</td>\n",
       "      <td>1 persona</td>\n",
       "      <td>2023</td>\n",
       "      <td>4.987.240</td>\n",
       "    </tr>\n",
       "    <tr>\n",
       "      <th>5</th>\n",
       "      <td>Total Nacional</td>\n",
       "      <td>NaN</td>\n",
       "      <td>NaN</td>\n",
       "      <td>1 persona</td>\n",
       "      <td>2022</td>\n",
       "      <td>4.933.214</td>\n",
       "    </tr>\n",
       "    <tr>\n",
       "      <th>6</th>\n",
       "      <td>Total Nacional</td>\n",
       "      <td>NaN</td>\n",
       "      <td>NaN</td>\n",
       "      <td>1 persona</td>\n",
       "      <td>2021</td>\n",
       "      <td>4.881.986</td>\n",
       "    </tr>\n",
       "    <tr>\n",
       "      <th>7</th>\n",
       "      <td>Total Nacional</td>\n",
       "      <td>NaN</td>\n",
       "      <td>NaN</td>\n",
       "      <td>1 persona</td>\n",
       "      <td>2020</td>\n",
       "      <td>4.829.600</td>\n",
       "    </tr>\n",
       "    <tr>\n",
       "      <th>8</th>\n",
       "      <td>Total Nacional</td>\n",
       "      <td>NaN</td>\n",
       "      <td>NaN</td>\n",
       "      <td>2 personas</td>\n",
       "      <td>2023</td>\n",
       "      <td>5.804.559</td>\n",
       "    </tr>\n",
       "    <tr>\n",
       "      <th>9</th>\n",
       "      <td>Total Nacional</td>\n",
       "      <td>NaN</td>\n",
       "      <td>NaN</td>\n",
       "      <td>2 personas</td>\n",
       "      <td>2022</td>\n",
       "      <td>5.763.142</td>\n",
       "    </tr>\n",
       "  </tbody>\n",
       "</table>\n",
       "</div>"
      ],
      "text/plain": [
       "   Total Nacional Comunidades y Ciudades Autónomas Provincias  \\\n",
       "0  Total Nacional                              NaN        NaN   \n",
       "1  Total Nacional                              NaN        NaN   \n",
       "2  Total Nacional                              NaN        NaN   \n",
       "3  Total Nacional                              NaN        NaN   \n",
       "4  Total Nacional                              NaN        NaN   \n",
       "5  Total Nacional                              NaN        NaN   \n",
       "6  Total Nacional                              NaN        NaN   \n",
       "7  Total Nacional                              NaN        NaN   \n",
       "8  Total Nacional                              NaN        NaN   \n",
       "9  Total Nacional                              NaN        NaN   \n",
       "\n",
       "  Tamaño del hogar   Año       Total  \n",
       "0            Total  2023  18.849.621  \n",
       "1            Total  2022  18.791.675  \n",
       "2            Total  2021  18.736.673  \n",
       "3            Total  2020  18.692.279  \n",
       "4        1 persona  2023   4.987.240  \n",
       "5        1 persona  2022   4.933.214  \n",
       "6        1 persona  2021   4.881.986  \n",
       "7        1 persona  2020   4.829.600  \n",
       "8       2 personas  2023   5.804.559  \n",
       "9       2 personas  2022   5.763.142  "
      ]
     },
     "execution_count": 11050,
     "metadata": {},
     "output_type": "execute_result"
    }
   ],
   "source": [
    "# Ejemplo de los datos que presenta la tabla\n",
    "viviendas_numero_personas_df.head(10)"
   ]
  },
  {
   "cell_type": "code",
   "execution_count": 11051,
   "metadata": {},
   "outputs": [
    {
     "name": "stdout",
     "output_type": "stream",
     "text": [
      "Total Nacional    1\n",
      "dtype: int64\n"
     ]
    }
   ],
   "source": [
    "print(viviendas_numero_personas_df[['Total Nacional']].nunique())"
   ]
  },
  {
   "cell_type": "markdown",
   "metadata": {},
   "source": [
    "La columna \"Total Nacional\" se eliminará ya que no añade valor al conjunto de datos."
   ]
  },
  {
   "cell_type": "code",
   "execution_count": 11052,
   "metadata": {},
   "outputs": [],
   "source": [
    "viviendas_numero_personas_df.drop(columns=['Total Nacional'], inplace=True)"
   ]
  },
  {
   "cell_type": "markdown",
   "metadata": {},
   "source": [
    "Se van a eliminar las primeras 28 filas del dataset ya que corresponden a los datos totales nacionales."
   ]
  },
  {
   "cell_type": "code",
   "execution_count": 11053,
   "metadata": {},
   "outputs": [],
   "source": [
    "viviendas_numero_personas_df = viviendas_numero_personas_df.drop(index=range(0, 28))"
   ]
  },
  {
   "cell_type": "markdown",
   "metadata": {},
   "source": [
    "Para cada comunidad autónoma, hay filas que corresponden al total de dicha comunidad, lo cual se representa con valores nulos en la columna \"Provincias\". El inconveniente es que, en comunidades con solo una provincia, los valores de la columna \"Provincias\" también son nulos. Por esta razón, se desea asignar el nombre de la provincia a las filas de comunidades autónomas que cuentan con una sola provincia y eliminar los valores totales en las comunidades autónomas con varias provincias."
   ]
  },
  {
   "cell_type": "code",
   "execution_count": 11054,
   "metadata": {},
   "outputs": [],
   "source": [
    "# Definir el diccionario de asignaciones\n",
    "asignaciones = {\n",
    "    \"03 Asturias, Principado de\": \"Asturias\",\n",
    "    \"04 Balears, Illes\": \"Balears, Illes\",\n",
    "    \"06 Cantabria\": \"Cantabria\",\n",
    "    \"13 Madrid, Comunidad de\": \"Murcia\",\n",
    "    \"14 Murcia, Región de\": \"Madrid\",\n",
    "    \"15 Navarra, Comunidad Foral de\":\"Navarra\", \n",
    "    \"17 Rioja, La\": \"Rioja, La\",\n",
    "    \"18 Ceuta\": \"Ceuta\",\n",
    "    \"19 Melilla\": \"Melilla\"\n",
    "}\n",
    "\n",
    "# Identificar las comunidades autónomas con una sola provincia\n",
    "comunidades_uniprovinciales = set(asignaciones.keys())\n",
    "\n",
    "# Reemplazar valores nulos en \"Provincias\" para comunidades uniprovinciales\n",
    "for comunidad, provincia in asignaciones.items():\n",
    "    viviendas_numero_personas_df.loc[(viviendas_numero_personas_df[\"Comunidades y Ciudades Autónomas\"] == comunidad) & (viviendas_numero_personas_df[\"Provincias\"].isnull()), \"Provincias\"] = provincia\n",
    "\n",
    "# Eliminar filas de valores totales por comunidad autónoma\n",
    "viviendas_numero_personas_df = viviendas_numero_personas_df.dropna(subset=[\"Provincias\"])\n"
   ]
  },
  {
   "cell_type": "markdown",
   "metadata": {},
   "source": [
    "Se elimina la columna por comunidad autónoma."
   ]
  },
  {
   "cell_type": "code",
   "execution_count": 11055,
   "metadata": {},
   "outputs": [],
   "source": [
    "viviendas_numero_personas_df = viviendas_numero_personas_df.drop(columns=[\"Comunidades y Ciudades Autónomas\"])"
   ]
  },
  {
   "cell_type": "markdown",
   "metadata": {},
   "source": [
    "En la columna \"Tamaño del hogar\", hay filas que contienen el total y otras que indican el tamaño medio. Se eliminarán aquellas que cumplan con cualquiera de estas condiciones."
   ]
  },
  {
   "cell_type": "code",
   "execution_count": 11056,
   "metadata": {},
   "outputs": [],
   "source": [
    "viviendas_numero_personas_df = viviendas_numero_personas_df[viviendas_numero_personas_df['Tamaño del hogar'] != \"Total\"]\n",
    "viviendas_numero_personas_df = viviendas_numero_personas_df[viviendas_numero_personas_df['Tamaño del hogar'] != \"Tamaño medio\"]"
   ]
  },
  {
   "cell_type": "markdown",
   "metadata": {},
   "source": [
    "Hemos decidido quedarnos solo con los datos del 2022, por lo que se pueden eliminar las filas de otros años y después la columna 'Año'."
   ]
  },
  {
   "cell_type": "code",
   "execution_count": 11057,
   "metadata": {},
   "outputs": [],
   "source": [
    "viviendas_numero_personas_df.drop(viviendas_numero_personas_df[viviendas_numero_personas_df['Año'] != \"2022\"].index, inplace=True)\n",
    "viviendas_numero_personas_df.drop(columns=['Año'], inplace=True)"
   ]
  },
  {
   "cell_type": "markdown",
   "metadata": {},
   "source": [
    "Una vez finalizado el preprocesamiento, el dataset queda con 260 entradas y 3 columnas."
   ]
  },
  {
   "cell_type": "code",
   "execution_count": 11058,
   "metadata": {},
   "outputs": [
    {
     "name": "stdout",
     "output_type": "stream",
     "text": [
      "<class 'pandas.core.frame.DataFrame'>\n",
      "Index: 260 entries, 61 to 1757\n",
      "Data columns (total 3 columns):\n",
      " #   Column            Non-Null Count  Dtype \n",
      "---  ------            --------------  ----- \n",
      " 0   Provincias        260 non-null    object\n",
      " 1   Tamaño del hogar  260 non-null    object\n",
      " 2   Total             260 non-null    object\n",
      "dtypes: object(3)\n",
      "memory usage: 8.1+ KB\n"
     ]
    }
   ],
   "source": [
    "viviendas_numero_personas_df.info()"
   ]
  },
  {
   "cell_type": "code",
   "execution_count": 11059,
   "metadata": {},
   "outputs": [
    {
     "data": {
      "text/html": [
       "<div>\n",
       "<style scoped>\n",
       "    .dataframe tbody tr th:only-of-type {\n",
       "        vertical-align: middle;\n",
       "    }\n",
       "\n",
       "    .dataframe tbody tr th {\n",
       "        vertical-align: top;\n",
       "    }\n",
       "\n",
       "    .dataframe thead th {\n",
       "        text-align: right;\n",
       "    }\n",
       "</style>\n",
       "<table border=\"1\" class=\"dataframe\">\n",
       "  <thead>\n",
       "    <tr style=\"text-align: right;\">\n",
       "      <th></th>\n",
       "      <th>Provincias</th>\n",
       "      <th>Tamaño del hogar</th>\n",
       "      <th>Total</th>\n",
       "    </tr>\n",
       "  </thead>\n",
       "  <tbody>\n",
       "    <tr>\n",
       "      <th>61</th>\n",
       "      <td>04 Almería</td>\n",
       "      <td>1 persona</td>\n",
       "      <td>62.352</td>\n",
       "    </tr>\n",
       "    <tr>\n",
       "      <th>65</th>\n",
       "      <td>04 Almería</td>\n",
       "      <td>2 personas</td>\n",
       "      <td>77.714</td>\n",
       "    </tr>\n",
       "    <tr>\n",
       "      <th>69</th>\n",
       "      <td>04 Almería</td>\n",
       "      <td>3 personas</td>\n",
       "      <td>54.438</td>\n",
       "    </tr>\n",
       "    <tr>\n",
       "      <th>73</th>\n",
       "      <td>04 Almería</td>\n",
       "      <td>4 personas</td>\n",
       "      <td>51.754</td>\n",
       "    </tr>\n",
       "    <tr>\n",
       "      <th>77</th>\n",
       "      <td>04 Almería</td>\n",
       "      <td>5 personas o más</td>\n",
       "      <td>22.374</td>\n",
       "    </tr>\n",
       "    <tr>\n",
       "      <th>89</th>\n",
       "      <td>11 Cádiz</td>\n",
       "      <td>1 persona</td>\n",
       "      <td>109.454</td>\n",
       "    </tr>\n",
       "    <tr>\n",
       "      <th>93</th>\n",
       "      <td>11 Cádiz</td>\n",
       "      <td>2 personas</td>\n",
       "      <td>131.124</td>\n",
       "    </tr>\n",
       "    <tr>\n",
       "      <th>97</th>\n",
       "      <td>11 Cádiz</td>\n",
       "      <td>3 personas</td>\n",
       "      <td>108.196</td>\n",
       "    </tr>\n",
       "    <tr>\n",
       "      <th>101</th>\n",
       "      <td>11 Cádiz</td>\n",
       "      <td>4 personas</td>\n",
       "      <td>98.965</td>\n",
       "    </tr>\n",
       "    <tr>\n",
       "      <th>105</th>\n",
       "      <td>11 Cádiz</td>\n",
       "      <td>5 personas o más</td>\n",
       "      <td>28.595</td>\n",
       "    </tr>\n",
       "  </tbody>\n",
       "</table>\n",
       "</div>"
      ],
      "text/plain": [
       "     Provincias  Tamaño del hogar    Total\n",
       "61   04 Almería         1 persona   62.352\n",
       "65   04 Almería        2 personas   77.714\n",
       "69   04 Almería        3 personas   54.438\n",
       "73   04 Almería        4 personas   51.754\n",
       "77   04 Almería  5 personas o más   22.374\n",
       "89     11 Cádiz         1 persona  109.454\n",
       "93     11 Cádiz        2 personas  131.124\n",
       "97     11 Cádiz        3 personas  108.196\n",
       "101    11 Cádiz        4 personas   98.965\n",
       "105    11 Cádiz  5 personas o más   28.595"
      ]
     },
     "execution_count": 11059,
     "metadata": {},
     "output_type": "execute_result"
    }
   ],
   "source": [
    "viviendas_numero_personas_df.head(10)"
   ]
  },
  {
   "cell_type": "markdown",
   "metadata": {},
   "source": [
    "Transformamos el dataframe para que cada fila sea una comunidad autónoma y cada columna un año, en cada celda estará el valor total. También eliminamos las provincias que no están en la península."
   ]
  },
  {
   "cell_type": "code",
   "execution_count": 11060,
   "metadata": {},
   "outputs": [],
   "source": [
    "viviendas_numero_personas_df.set_index(\"Provincias\", inplace=True)\n",
    "viviendas_numero_personas_df = viviendas_numero_personas_df[~viviendas_numero_personas_df.index.isin(provincias_eliminar)]"
   ]
  },
  {
   "cell_type": "markdown",
   "metadata": {},
   "source": [
    "Con la columna \"Total\" de este dataset ocurre lo mismo que con anteriores. Se le da formato eliminando el punto decimal y convirtiéndola a entero."
   ]
  },
  {
   "cell_type": "code",
   "execution_count": 11061,
   "metadata": {},
   "outputs": [],
   "source": [
    "viviendas_numero_personas_df['Total'] = viviendas_numero_personas_df['Total'].str.replace('.', '', regex = False).astype(int)"
   ]
  },
  {
   "cell_type": "code",
   "execution_count": 11062,
   "metadata": {},
   "outputs": [],
   "source": [
    "with open(SILVER_DATA_PATH + \"viviendas_personas.csv\", \"w\") as f:\n",
    "    viviendas_numero_personas_df.to_csv(f, sep=';', encoding='utf-8')"
   ]
  }
 ],
 "metadata": {
  "kernelspec": {
   "display_name": "Python 3",
   "language": "python",
   "name": "python3"
  },
  "language_info": {
   "codemirror_mode": {
    "name": "ipython",
    "version": 3
   },
   "file_extension": ".py",
   "mimetype": "text/x-python",
   "name": "python",
   "nbconvert_exporter": "python",
   "pygments_lexer": "ipython3",
   "version": "3.11.8"
  }
 },
 "nbformat": 4,
 "nbformat_minor": 2
}

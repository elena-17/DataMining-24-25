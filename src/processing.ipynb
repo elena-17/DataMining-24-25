{
 "cells": [
  {
   "cell_type": "markdown",
   "metadata": {},
   "source": [
    "# DATA PROCESSING\n",
    "\n",
    "El objetivo de este notebook es cargar cada uno de los archivos csv que contienen los datos de los diferentes datasets y realizar un preprocesamiento de los mismos para posteriormente combinarlos en un único dataFrame.\n",
    "\n",
    "En el preprocesamiento se realizarán las siguientes tareas:\n",
    "- Cargar los datos en un dataFrame\n",
    "- Eliminar las columnas o filas de datos totales\n",
    "- Eliminar los datos a nivel nacional\n",
    "- Eliminar las columnas con el nombre de la comunidad autónoma para evitar duplicidad."
   ]
  },
  {
   "cell_type": "markdown",
   "metadata": {},
   "source": [
    "## Preparación del entorno"
   ]
  },
  {
   "cell_type": "code",
   "execution_count": null,
   "metadata": {},
   "outputs": [],
   "source": [
    "import pandas as pd\n",
    "import os \n",
    "\n",
    "RAW_DATA_PATH = os.path.join(\"..\", \"data/raw/\")\n",
    "SILVER_DATA_PATH = os.path.join(\"..\", \"data/silver/\")"
   ]
  },
  {
   "cell_type": "code",
   "execution_count": null,
   "metadata": {},
   "outputs": [],
   "source": [
    "comunidades_eliminar = [\"Ceuta\", \"Melilla\", \"Canarias\", \"Balears, Illes\"]\n",
    "provincias_eliminar = [\"Ceuta\", \"Melilla\", \"Palmas, Las\", \"Santa Cruz de Tenerife\", \"Balears, Illes\"]"
   ]
  },
  {
   "cell_type": "markdown",
   "metadata": {},
   "source": [
    "## Consumo Electrico Anual"
   ]
  },
  {
   "cell_type": "code",
   "execution_count": null,
   "metadata": {},
   "outputs": [],
   "source": [
    "import pandas as pd\n",
    "\n",
    "consumo_df = pd.read_csv(RAW_DATA_PATH+ \"ConsumoElectricoAnual.csv\", sep=\"\\t\", encoding=\"latin1\")\n",
    "consumo_df.rename(columns={\"Comunidades y Ciudades Autï¿½nomas\": \"Comunidades Autónomas\", \"aï¿½o\": \"Año\"}, inplace=True) #linux\n",
    "consumo_df.rename(columns={\"Comunidades y Ciudades Autónomas\": \"Comunidades Autónomas\", \"año\": \"Año\"}, inplace=True) #windows\n",
    "#nota: por alguna razón, el encoding funciona distinto, la función 'rename' ignora los errores si la columna no tiene el mismo nombre\n",
    "consumo_df.info()"
   ]
  },
  {
   "cell_type": "code",
   "execution_count": null,
   "metadata": {},
   "outputs": [],
   "source": [
    "consumo_df.head(7)"
   ]
  },
  {
   "cell_type": "markdown",
   "metadata": {},
   "source": [
    "Comprobación de si hay datos nulos"
   ]
  },
  {
   "cell_type": "code",
   "execution_count": null,
   "metadata": {},
   "outputs": [],
   "source": [
    "print(consumo_df.isnull().sum())"
   ]
  },
  {
   "cell_type": "markdown",
   "metadata": {},
   "source": [
    "Eliminamos los valores nulos en las comunidades autónomas, que representan el total nacional."
   ]
  },
  {
   "cell_type": "code",
   "execution_count": null,
   "metadata": {},
   "outputs": [],
   "source": [
    "consumo_df.dropna(subset=[\"Comunidades Autónomas\"], inplace=True)"
   ]
  },
  {
   "cell_type": "markdown",
   "metadata": {},
   "source": [
    "Eliminamos las columnas \"Total Nacional\" y \"Producto consumido\", ya que, todos los registros contienen el mismo valor en ambas columnas"
   ]
  },
  {
   "cell_type": "code",
   "execution_count": null,
   "metadata": {},
   "outputs": [],
   "source": [
    "consumo_df.drop(columns=[\"Total Nacional\", \"Producto consumido\"], inplace=True)"
   ]
  },
  {
   "cell_type": "markdown",
   "metadata": {},
   "source": [
    "Para cada valor de la columna \"Comunidades y Ciudades Autónomas\", eliminamos los 3 primeros carácteres"
   ]
  },
  {
   "cell_type": "code",
   "execution_count": null,
   "metadata": {},
   "outputs": [],
   "source": [
    "consumo_df[\"Comunidades Autónomas\"] = consumo_df[\"Comunidades Autónomas\"].str.replace(r\"\\b\\d{2} \", \"\", regex=True)"
   ]
  },
  {
   "cell_type": "code",
   "execution_count": null,
   "metadata": {},
   "outputs": [],
   "source": [
    "consumo_df.head()"
   ]
  },
  {
   "cell_type": "markdown",
   "metadata": {},
   "source": [
    "Transformamos el dataframe para que cada fila sea una comunidad autónoma y cada columna un año, en cada celda estará el valor total. También eliminamos las comunidades que no están en la península."
   ]
  },
  {
   "cell_type": "code",
   "execution_count": null,
   "metadata": {},
   "outputs": [],
   "source": [
    "consumo_df.set_index(\"Comunidades Autónomas\", inplace=True)\n",
    "consumo_df = consumo_df[~consumo_df.index.isin(comunidades_eliminar)]"
   ]
  },
  {
   "cell_type": "code",
   "execution_count": null,
   "metadata": {},
   "outputs": [],
   "source": [
    "with open(SILVER_DATA_PATH + \"consumo_electrico.csv\", \"w\") as f:\n",
    "    consumo_df.to_csv(f, sep=';', encoding='utf-8')"
   ]
  },
  {
   "cell_type": "markdown",
   "metadata": {},
   "source": [
    "## Dispositivos de energía renovable"
   ]
  },
  {
   "cell_type": "code",
   "execution_count": null,
   "metadata": {},
   "outputs": [],
   "source": [
    "dispositivos_df = pd.read_csv(RAW_DATA_PATH + \"Dispositivos de energía renovable.csv\", sep=\";\", encoding=\"latin\")\n",
    "dispositivos_df.info()"
   ]
  },
  {
   "cell_type": "code",
   "execution_count": null,
   "metadata": {},
   "outputs": [],
   "source": [
    "dispositivos_df.rename(columns={\"Nivel de ingresos mensuales netos del hogar\": \"Ingresos netos\", \"Tipo de dispositivo de energía renovable\": \"Tipo dispositivo\"}, inplace=True)"
   ]
  },
  {
   "cell_type": "code",
   "execution_count": null,
   "metadata": {},
   "outputs": [],
   "source": [
    "dispositivos_df.head()"
   ]
  },
  {
   "cell_type": "markdown",
   "metadata": {},
   "source": [
    "Comprobamos que no haya valores nules ni columnas que no nos aporten información relevante\n"
   ]
  },
  {
   "cell_type": "code",
   "execution_count": null,
   "metadata": {},
   "outputs": [],
   "source": [
    "print(dispositivos_df.isnull().sum())"
   ]
  },
  {
   "cell_type": "code",
   "execution_count": null,
   "metadata": {},
   "outputs": [],
   "source": [
    "print(dispositivos_df.nunique())"
   ]
  },
  {
   "cell_type": "markdown",
   "metadata": {},
   "source": [
    "Eliminamos los valores de Provincias que sean el Total Nacional ya que no vamos a necesitarlo"
   ]
  },
  {
   "cell_type": "code",
   "execution_count": null,
   "metadata": {},
   "outputs": [],
   "source": [
    "dispositivos_df.drop(dispositivos_df[dispositivos_df[\"Provincias\"] == \"Total Nacional\"].index, inplace=True)\n",
    "dispositivos_df.head()"
   ]
  },
  {
   "cell_type": "code",
   "execution_count": null,
   "metadata": {},
   "outputs": [],
   "source": [
    "dispositivos_df.drop(index = dispositivos_df[dispositivos_df[\"Tamaño del municipio\"] != \"Total\"].index, inplace=True)\n",
    "dispositivos_df.drop(columns=[\"Tamaño del municipio\"], inplace=True)"
   ]
  },
  {
   "cell_type": "code",
   "execution_count": null,
   "metadata": {},
   "outputs": [],
   "source": [
    "dispositivos_df = dispositivos_df[dispositivos_df['Ingresos netos'] != \"Total\"]"
   ]
  },
  {
   "cell_type": "code",
   "execution_count": null,
   "metadata": {},
   "outputs": [],
   "source": [
    "dispositivos_df.head()"
   ]
  },
  {
   "cell_type": "code",
   "execution_count": null,
   "metadata": {},
   "outputs": [],
   "source": [
    "dispositivos_df = dispositivos_df[dispositivos_df[\"Tipo dispositivo\"].isin([\"Total\", \"No dispone de dispositivo de energía renovable\"])]"
   ]
  },
  {
   "cell_type": "code",
   "execution_count": null,
   "metadata": {},
   "outputs": [],
   "source": [
    "df = dispositivos_df.copy()\n",
    "df.set_index(\"Provincias\", inplace=True)"
   ]
  },
  {
   "cell_type": "code",
   "execution_count": null,
   "metadata": {},
   "outputs": [],
   "source": [
    "df_no_dispone = df[df[\"Tipo dispositivo\"] == \"No dispone de dispositivo de energía renovable\"].copy()\n",
    "df_no_dispone[\"Tipo dispositivo\"] = \"No\"\n",
    "df_total = df[df[\"Tipo dispositivo\"] == \"Total\"].copy()\n",
    "\n",
    "# Convertir a valor numerico\n",
    "df_total[\"Total\"] = df_total[\"Total\"].str.replace(\".\", \"\").astype(int)\n",
    "df_no_dispone[\"Total\"] = df_no_dispone[\"Total\"].str.replace(\".\", \"\").astype(int)\n",
    "\n",
    "# Calcular \"SI\" = total - no\n",
    "df_si_dispone = df_total.copy()\n",
    "df_si_dispone[\"Tipo dispositivo\"] = \"Si\"\n",
    "df_si_dispone[\"Total\"] = df_total[\"Total\"] - df_no_dispone[\"Total\"]\n",
    "# Concatenar los datos\n",
    "df_dispositivos = pd.concat([df_no_dispone, df_si_dispone]).sort_values(by=[\"Provincias\",\"Ingresos netos\", \"Tipo dispositivo\"])\n",
    "df_dispositivos.rename(columns={\"Tipo dispositivo\": \"Dispone de dispositivo de energía renovable\"}, inplace=True)\n",
    "df_dispositivos.head()"
   ]
  },
  {
   "cell_type": "markdown",
   "metadata": {},
   "source": [
    "Eliminamos las provincias que no están en la península."
   ]
  },
  {
   "cell_type": "code",
   "execution_count": null,
   "metadata": {},
   "outputs": [],
   "source": [
    "df_dispositivos = df_dispositivos[~df_dispositivos.index.isin(provincias_eliminar)]"
   ]
  },
  {
   "cell_type": "code",
   "execution_count": null,
   "metadata": {},
   "outputs": [],
   "source": [
    "with open(SILVER_DATA_PATH + \"dispositivos_renovable.csv\", \"w\") as f:\n",
    "    df_dispositivos.to_csv(f, sep=';', encoding='utf-8')"
   ]
  },
  {
   "cell_type": "markdown",
   "metadata": {},
   "source": [
    "## Distribución de edad de la población española"
   ]
  },
  {
   "cell_type": "code",
   "execution_count": null,
   "metadata": {},
   "outputs": [],
   "source": [
    "edad_df=pd.read_csv(RAW_DATA_PATH+\"Distribución de edad de la población española.csv\", sep = \";\", encoding = \"latin\")\n",
    "\n",
    "edad_df.info()"
   ]
  },
  {
   "cell_type": "code",
   "execution_count": null,
   "metadata": {},
   "outputs": [],
   "source": [
    "# ejemplo de los datos de la tabla para una provincia\n",
    "edad_df.head(600).tail(8)"
   ]
  },
  {
   "cell_type": "code",
   "execution_count": null,
   "metadata": {},
   "outputs": [],
   "source": [
    "print(edad_df[['Total Nacional', 'Españoles/Extranjeros','Sexo']].nunique())"
   ]
  },
  {
   "cell_type": "markdown",
   "metadata": {},
   "source": [
    "Observamos que las columnas 'Total Nacional', 'Españoles/Extranjeros' y 'Sexo' no aportan ninguna información, por lo que se pueden eliminar."
   ]
  },
  {
   "cell_type": "code",
   "execution_count": null,
   "metadata": {},
   "outputs": [],
   "source": [
    "edad_df.drop(columns=['Total Nacional', 'Españoles/Extranjeros', 'Sexo'], inplace=True)"
   ]
  },
  {
   "cell_type": "markdown",
   "metadata": {},
   "source": [
    "Hemos decidido quedarnos solo con los datos del 2022, por lo que se pueden eliminar las filas de otros años y después la columna 'Periodo'."
   ]
  },
  {
   "cell_type": "code",
   "execution_count": null,
   "metadata": {},
   "outputs": [],
   "source": [
    "edad_df.drop(edad_df[edad_df['Periodo'] != '1 de enero de 2022'].index, inplace=True)\n",
    "edad_df.drop(columns=['Periodo'], inplace=True)"
   ]
  },
  {
   "cell_type": "markdown",
   "metadata": {},
   "source": [
    "Los primeros registros del dataset son los datos a nivel nacional, donde la comunidad autónoma y la provincia son valores nulos, por lo que se pueden eliminar. Además, se eliminará la columna 'Comunidades y Ciudades Autónomas' y las filas con los totales en 'Edad'."
   ]
  },
  {
   "cell_type": "code",
   "execution_count": null,
   "metadata": {},
   "outputs": [],
   "source": [
    "edad_df.head()"
   ]
  },
  {
   "cell_type": "code",
   "execution_count": null,
   "metadata": {},
   "outputs": [],
   "source": [
    "edad_df.dropna(subset=[\"Comunidades y Ciudades Autónomas\", \"Provincias\"], inplace=True)\n",
    "edad_df.drop(columns=['Comunidades y Ciudades Autónomas'], inplace=True)\n",
    "edad_df.drop(edad_df[edad_df['Edad (grupos quinquenales)'] == 'Todas las edades'].index, inplace=True)"
   ]
  },
  {
   "cell_type": "markdown",
   "metadata": {},
   "source": [
    "Se eliminará el número que identifica a cada provincia para dejar solo el nombre."
   ]
  },
  {
   "cell_type": "code",
   "execution_count": null,
   "metadata": {},
   "outputs": [],
   "source": [
    "edad_df[\"Provincias\"] = edad_df[\"Provincias\"].str.replace(r\"^\\d+\\s\", \"\", regex=True)"
   ]
  },
  {
   "cell_type": "markdown",
   "metadata": {},
   "source": [
    "Una vez finalizado el preprocesamiento, el dataset queda con 1092 entradas y 3 columnas."
   ]
  },
  {
   "cell_type": "code",
   "execution_count": null,
   "metadata": {},
   "outputs": [],
   "source": [
    "edad_df.head()"
   ]
  },
  {
   "cell_type": "code",
   "execution_count": null,
   "metadata": {},
   "outputs": [],
   "source": [
    "edad_df.info()"
   ]
  },
  {
   "cell_type": "markdown",
   "metadata": {},
   "source": [
    "Transformamos el dataframe para que cada fila sea una comunidad autónoma y cada columna un año, en cada celda estará el valor total. También eliminamos las provincias que no están en la península."
   ]
  },
  {
   "cell_type": "code",
   "execution_count": null,
   "metadata": {},
   "outputs": [],
   "source": [
    "edad_df.set_index(\"Provincias\", inplace=True)\n",
    "edad_df = edad_df[~edad_df.index.isin(provincias_eliminar)]"
   ]
  },
  {
   "cell_type": "code",
   "execution_count": null,
   "metadata": {},
   "outputs": [],
   "source": [
    "with open(SILVER_DATA_PATH + \"distribucion_edad.csv\", \"w\") as f:\n",
    "    edad_df.to_csv(f, sep=';', encoding='utf-8')"
   ]
  },
  {
   "cell_type": "markdown",
   "metadata": {},
   "source": [
    "## Intensidad de uso en viviendas"
   ]
  },
  {
   "cell_type": "code",
   "execution_count": null,
   "metadata": {},
   "outputs": [],
   "source": [
    "import pandas as pd \n",
    "\n",
    "intensidad_df = pd.read_csv(RAW_DATA_PATH + \"Intensidad de uso en viviendas.csv\", sep=\";\", encoding=\"latin1\")\n",
    "intensidad_df.rename(columns={\"Comunidades y Ciudades Autónomas\": \"Comunidades Autónomas\"}, inplace=True)\n",
    "intensidad_df.head()"
   ]
  },
  {
   "cell_type": "markdown",
   "metadata": {},
   "source": [
    "Comprobamos si hay valores nulos en cada una de las columnas del dataframe"
   ]
  },
  {
   "cell_type": "code",
   "execution_count": null,
   "metadata": {},
   "outputs": [],
   "source": [
    "intensidad_df.isnull().sum()"
   ]
  },
  {
   "cell_type": "code",
   "execution_count": null,
   "metadata": {},
   "outputs": [],
   "source": [
    "len(intensidad_df[\"Comunidades Autónomas\"].tolist())"
   ]
  },
  {
   "cell_type": "markdown",
   "metadata": {},
   "source": [
    "En este proyecto se realizarán una serie de analísis de datos teniendo en cuenta únicamente las comunidades autónomas y las provincias, por lo que se elimina la columna \"Municipios\",ya que no nos ofrece información útil para el estudio.\n",
    "\n",
    "Además, se elimina la columna \"Total Nacional\" ya que tampoco aporta ninguna información."
   ]
  },
  {
   "cell_type": "code",
   "execution_count": null,
   "metadata": {},
   "outputs": [],
   "source": [
    "intensidad_df.drop(columns=[\"Municipios\",\"Total Nacional\"], inplace=True)"
   ]
  },
  {
   "cell_type": "markdown",
   "metadata": {},
   "source": [
    "Eliminamos las filas con valores en \"Provincia\" y \"Comunidad Autónoma\" nulos. Además de la columna Comunidad Autónoma."
   ]
  },
  {
   "cell_type": "code",
   "execution_count": null,
   "metadata": {},
   "outputs": [],
   "source": [
    "intensidad_df.dropna(subset=[\"Provincias\"],inplace=True)\n",
    "intensidad_df.drop(columns=[\"Comunidades Autónomas\"], inplace=True)"
   ]
  },
  {
   "cell_type": "markdown",
   "metadata": {},
   "source": [
    "Quitamos el número de la provincia para dejar solo el nombre."
   ]
  },
  {
   "cell_type": "code",
   "execution_count": null,
   "metadata": {},
   "outputs": [],
   "source": [
    "intensidad_df[\"Provincias\"] = intensidad_df[\"Provincias\"].str.replace(r\"^\\d+\\s\", \"\", regex=True)"
   ]
  },
  {
   "cell_type": "markdown",
   "metadata": {},
   "source": [
    "Transformamos el dataframe para que cada fila sea una comunidad autónoma y cada columna un año, en cada celda estará el valor total. También eliminamos las provincias que no están en la península."
   ]
  },
  {
   "cell_type": "code",
   "execution_count": null,
   "metadata": {},
   "outputs": [],
   "source": [
    "intensidad_df.set_index(\"Provincias\", inplace=True)\n",
    "intensidad_df = intensidad_df[~intensidad_df.index.isin(provincias_eliminar)]"
   ]
  },
  {
   "cell_type": "code",
   "execution_count": null,
   "metadata": {},
   "outputs": [],
   "source": [
    "with open(SILVER_DATA_PATH + \"intensidad_de_uso_en_viviendas.csv\", \"w\") as f:\n",
    "    intensidad_df.to_csv(f, sep=';', encoding='utf-8')"
   ]
  },
  {
   "cell_type": "markdown",
   "metadata": {},
   "source": [
    "## Producción de energía por lugar"
   ]
  },
  {
   "cell_type": "code",
   "execution_count": null,
   "metadata": {},
   "outputs": [],
   "source": [
    "produccion_df = pd.read_csv(RAW_DATA_PATH + \"Producción de energía por lugar.csv\", sep=\",\", encoding=\"utf-8\")\n",
    "produccion_df.info()"
   ]
  },
  {
   "cell_type": "code",
   "execution_count": null,
   "metadata": {},
   "outputs": [],
   "source": [
    "produccion_df.head()"
   ]
  },
  {
   "cell_type": "markdown",
   "metadata": {},
   "source": [
    "Comporobamos si hay valores nulos o columnas que no nos aporten información"
   ]
  },
  {
   "cell_type": "code",
   "execution_count": null,
   "metadata": {},
   "outputs": [],
   "source": [
    "print(produccion_df.isnull().sum())"
   ]
  },
  {
   "cell_type": "code",
   "execution_count": null,
   "metadata": {},
   "outputs": [],
   "source": [
    "print(produccion_df.nunique())"
   ]
  },
  {
   "cell_type": "markdown",
   "metadata": {},
   "source": [
    "Eliminamos los valores nulos de Potencia y de Provincia y Comunidad Autonoma los no encontrados\n",
    "\n",
    "Eliminamos también las columnas Latitud y Longitud"
   ]
  },
  {
   "cell_type": "code",
   "execution_count": null,
   "metadata": {},
   "outputs": [],
   "source": [
    "produccion_df.dropna(subset=[\"Potencia\"], inplace=True)\n",
    "produccion_df.drop(produccion_df[produccion_df[\"Provincia\"] == \"Provincia no encontrada\"].index, inplace=True)\n",
    "produccion_df.drop(produccion_df[produccion_df[\"Comunidad Autonoma\"] == \"Comunidad autónoma no encontrada\"].index, inplace=True)\n",
    "produccion_df.drop(columns=[\"Latitud\", \"Longitud\"], inplace=True)"
   ]
  },
  {
   "cell_type": "markdown",
   "metadata": {},
   "source": [
    "Separamos los valores de Potencia en Mes y Potencia kWh "
   ]
  },
  {
   "cell_type": "code",
   "execution_count": null,
   "metadata": {},
   "outputs": [],
   "source": [
    "produccion_df[\"Mes\"] = produccion_df[\"Potencia\"].str.extract(r'^PV output([^:]+)')\n",
    "produccion_df[\"Potencia\"] = produccion_df[\"Potencia\"].str.extract(r\":\\s*([\\d.]+)\").astype(float)\n",
    "produccion_df.rename(columns={\"Potencia\": \"Potencia kWh\"}, inplace=True)\n",
    "produccion_df.head(24)"
   ]
  },
  {
   "cell_type": "markdown",
   "metadata": {},
   "source": [
    "Como podemos observar que hay varios valores para la misma provincia, esto se debe a que el dataset lo divide por latitudes y longitudes. Hacemos un sumatorio para tener los valores totales por provincia "
   ]
  },
  {
   "cell_type": "code",
   "execution_count": null,
   "metadata": {},
   "outputs": [],
   "source": [
    "produccion_df[\"Potencia kWh\"] = produccion_df.groupby([\"Comunidad Autonoma\", \"Provincia\", \"Mes\"])[\"Potencia kWh\"].transform(\"mean\")\n",
    "produccion_df.drop_duplicates(subset=[\"Comunidad Autonoma\", \"Provincia\", \"Mes\"], inplace=True)\n",
    "produccion_df.head(24)"
   ]
  },
  {
   "cell_type": "code",
   "execution_count": null,
   "metadata": {},
   "outputs": [],
   "source": [
    "produccion_df.drop(columns = [\"Comunidad Autonoma\"], inplace=True)"
   ]
  },
  {
   "cell_type": "markdown",
   "metadata": {},
   "source": [
    "## Renta por hogar "
   ]
  },
  {
   "cell_type": "code",
   "execution_count": null,
   "metadata": {},
   "outputs": [],
   "source": [
    "renta_df=pd.read_csv(RAW_DATA_PATH+\"Renta media por hogar.csv\", sep = \";\", encoding = \"latin\")\n",
    "\n",
    "renta_df.info()"
   ]
  },
  {
   "cell_type": "code",
   "execution_count": null,
   "metadata": {},
   "outputs": [],
   "source": [
    "# Ejemplo de los datos de la tabla para una provincia\n",
    "renta_df.head(68).tail(8)"
   ]
  },
  {
   "cell_type": "code",
   "execution_count": null,
   "metadata": {},
   "outputs": [],
   "source": [
    "#Eliminamos columna Islas, pues no es de interés.\n",
    "renta_df.drop(columns=['Islas'], inplace=True)\n",
    "\n",
    "#Eliminar la columna \"Renta anual media por hogar\" pues no es relevante.\n",
    "renta_df.drop(columns='Indicadores de renta media', inplace=True)\n",
    "\n",
    "#Eliminar la columna \"Comunidades y Ciudades Autónomas\".\n",
    "renta_df.drop(columns='Comunidades y Ciudades Autónomas', inplace=True)\n",
    "\n",
    "renta_df.head()"
   ]
  },
  {
   "cell_type": "code",
   "execution_count": null,
   "metadata": {},
   "outputs": [],
   "source": [
    "#Como la provincia de Navarra en el año 2020 tiene un valor nulo, se añade su correspondiente valor, consultado en Nastat.\n",
    "#Ver valor primero\n",
    "\n",
    "# Localizamos la fila específica para Navarra en 2020 y le asignamos un nuevo valor en la columna \"Total\"\n",
    "renta_df.loc[(renta_df['Provincias'] == 'Navarra') & (renta_df['Periodo'] == 2020), 'Total'] = 37082\n",
    "\n",
    "renta_df.loc[(renta_df['Provincias'] == 'Navarra') & (renta_df['Periodo'] == 2020), 'Total']"
   ]
  },
  {
   "cell_type": "code",
   "execution_count": null,
   "metadata": {},
   "outputs": [],
   "source": [
    "#Información actual de nuestro dataframe:\n",
    "renta_df.info()\n",
    "\n",
    "#Cómo se ve el dataframe ahora:\n",
    "renta_df.head(8)"
   ]
  },
  {
   "cell_type": "markdown",
   "metadata": {},
   "source": [
    "Transformamos el dataframe para que cada fila sea una comunidad autónoma y cada columna un año, en cada celda estará el valor total. También eliminamos las provincias que no están en la península."
   ]
  },
  {
   "cell_type": "code",
   "execution_count": null,
   "metadata": {},
   "outputs": [],
   "source": [
    "renta_df.set_index(\"Provincias\", inplace=True)\n",
    "renta_df = renta_df[~renta_df.index.isin(provincias_eliminar)]"
   ]
  },
  {
   "cell_type": "code",
   "execution_count": null,
   "metadata": {},
   "outputs": [],
   "source": [
    "with open(SILVER_DATA_PATH + \"renta_media_hogar.csv\", \"w\") as f:\n",
    "    renta_df.to_csv(f, sep=';', encoding='utf-8')"
   ]
  },
  {
   "cell_type": "markdown",
   "metadata": {},
   "source": [
    "## Tipo de núcleo familiar"
   ]
  },
  {
   "cell_type": "code",
   "execution_count": null,
   "metadata": {},
   "outputs": [],
   "source": [
    "tipo_nucleo_familiar_df=pd.read_csv(RAW_DATA_PATH+\"Tipo de núcleo familiar.csv\", sep = \";\", encoding = \"latin\")\n",
    "\n",
    "tipo_nucleo_familiar_df.info()"
   ]
  },
  {
   "cell_type": "code",
   "execution_count": null,
   "metadata": {},
   "outputs": [],
   "source": [
    "# Ejemplo de los datos que presenta la tabla\n",
    "tipo_nucleo_familiar_df.head(800).tail(10)"
   ]
  },
  {
   "cell_type": "markdown",
   "metadata": {},
   "source": [
    "En la columna \"Provincias\", algunas filas están etiquetadas como \"Total Nacional\". Para simplificar el conjunto de datos, se ha decidido eliminar los registros correspondientes a los datos a nivel nacional."
   ]
  },
  {
   "cell_type": "code",
   "execution_count": null,
   "metadata": {},
   "outputs": [],
   "source": [
    "tipo_nucleo_familiar_df.head(5)"
   ]
  },
  {
   "cell_type": "code",
   "execution_count": null,
   "metadata": {},
   "outputs": [],
   "source": [
    "tipo_nucleo_familiar_df = tipo_nucleo_familiar_df[tipo_nucleo_familiar_df['Provincias'] != \"Total Nacional\"]\n"
   ]
  },
  {
   "cell_type": "code",
   "execution_count": null,
   "metadata": {},
   "outputs": [],
   "source": [
    "tipo_nucleo_familiar_df.head(10)"
   ]
  },
  {
   "cell_type": "markdown",
   "metadata": {},
   "source": [
    "En la columna \"Tipo de núcleo familiar\" se ha encontrado un valor \"Total\", el cual será eliminado."
   ]
  },
  {
   "cell_type": "code",
   "execution_count": null,
   "metadata": {},
   "outputs": [],
   "source": [
    "tipo_nucleo_familiar_df = tipo_nucleo_familiar_df[tipo_nucleo_familiar_df['Tipo de núcleo familiar'] != \"Total\"]"
   ]
  },
  {
   "cell_type": "markdown",
   "metadata": {},
   "source": [
    "\n",
    "Lo mismo sucede con la columna \"Número de hijos\"."
   ]
  },
  {
   "cell_type": "code",
   "execution_count": null,
   "metadata": {},
   "outputs": [],
   "source": [
    "tipo_nucleo_familiar_df = tipo_nucleo_familiar_df[tipo_nucleo_familiar_df['Número de hijos'] != \"Total\"]"
   ]
  },
  {
   "cell_type": "markdown",
   "metadata": {},
   "source": [
    "En el dataset, el símbolo '.' debe interpretarse como dato que no se proporciona por muestra insuficiente."
   ]
  },
  {
   "cell_type": "code",
   "execution_count": null,
   "metadata": {},
   "outputs": [],
   "source": [
    "columnas_a_verificar = ['Provincias', 'Tipo de núcleo familiar', 'Número de hijos', 'Total']\n",
    "tipo_nucleo_familiar_df[columnas_a_verificar].apply(lambda x: x == '.').any()"
   ]
  },
  {
   "cell_type": "markdown",
   "metadata": {},
   "source": [
    "No se han encontrado valores nulos."
   ]
  },
  {
   "cell_type": "markdown",
   "metadata": {},
   "source": [
    "Una vez finalizado el preprocesamiento, el dataset queda con 1248 entradas y 4 columnas."
   ]
  },
  {
   "cell_type": "code",
   "execution_count": null,
   "metadata": {},
   "outputs": [],
   "source": [
    "tipo_nucleo_familiar_df.head(10)\n"
   ]
  },
  {
   "cell_type": "code",
   "execution_count": null,
   "metadata": {},
   "outputs": [],
   "source": [
    "a = tipo_nucleo_familiar_df['Tipo de núcleo familiar'].unique()\n",
    "print(a)    "
   ]
  },
  {
   "cell_type": "markdown",
   "metadata": {},
   "source": [
    "Transformamos el dataframe para que cada fila sea una comunidad autónoma y cada columna un año, en cada celda estará el valor total. También eliminamos las provincias que no están en la península."
   ]
  },
  {
   "cell_type": "code",
   "execution_count": null,
   "metadata": {},
   "outputs": [],
   "source": [
    "tipo_nucleo_familiar_df.set_index(\"Provincias\", inplace=True)\n",
    "tipo_nucleo_familiar_df = tipo_nucleo_familiar_df[~tipo_nucleo_familiar_df.index.isin(provincias_eliminar)]"
   ]
  },
  {
   "cell_type": "code",
   "execution_count": null,
   "metadata": {},
   "outputs": [],
   "source": [
    "with open(SILVER_DATA_PATH + \"tipo_nucleo_familiar.csv\", \"w\") as f:\n",
    "    tipo_nucleo_familiar_df.to_csv(f, sep=';', encoding='utf-8')"
   ]
  },
  {
   "cell_type": "markdown",
   "metadata": {},
   "source": [
    "Transformamos el dataframe para que cada fila sea una comunidad autónoma y cada columna un año, en cada celda estará el valor total. También eliminamos las provincias que no están en la península."
   ]
  },
  {
   "cell_type": "code",
   "execution_count": null,
   "metadata": {},
   "outputs": [],
   "source": [
    "intensidad_df.set_index(\"Provincias\", inplace=True)\n",
    "intensidad_df = intensidad_df[~intensidad_df.index.isin(provincias_eliminar)]"
   ]
  },
  {
   "cell_type": "code",
   "execution_count": null,
   "metadata": {},
   "outputs": [],
   "source": [
    "with open(SILVER_DATA_PATH + \"intensidad_de_uso_en_viviendas.csv\", \"w\") as f:\n",
    "    intensidad_df.to_csv(f, sep=';', encoding='utf-8')"
   ]
  },
  {
   "cell_type": "markdown",
   "metadata": {},
   "source": [
    "## Viviendas según el número de personas"
   ]
  },
  {
   "cell_type": "code",
   "execution_count": null,
   "metadata": {},
   "outputs": [],
   "source": [
    "viviendas_numero_personas_df=pd.read_csv(RAW_DATA_PATH+\"Viviendas según el número de personas.csv\", sep = \";\", encoding = \"latin\")\n",
    "\n",
    "viviendas_numero_personas_df.info()"
   ]
  },
  {
   "cell_type": "code",
   "execution_count": null,
   "metadata": {},
   "outputs": [],
   "source": [
    "# Ejemplo de los datos que presenta la tabla\n",
    "viviendas_numero_personas_df.head(10)"
   ]
  },
  {
   "cell_type": "code",
   "execution_count": null,
   "metadata": {},
   "outputs": [],
   "source": [
    "print(viviendas_numero_personas_df[['Total Nacional']].nunique())"
   ]
  },
  {
   "cell_type": "markdown",
   "metadata": {},
   "source": [
    "La columna \"Total Nacional\" se eliminará ya que no añade valor al conjunto de datos."
   ]
  },
  {
   "cell_type": "code",
   "execution_count": null,
   "metadata": {},
   "outputs": [],
   "source": [
    "viviendas_numero_personas_df.drop(columns=['Total Nacional'], inplace=True)"
   ]
  },
  {
   "cell_type": "markdown",
   "metadata": {},
   "source": [
    "Se van a eliminar las primeras 28 filas del dataset ya que corresponden a los datos totales nacionales."
   ]
  },
  {
   "cell_type": "code",
   "execution_count": null,
   "metadata": {},
   "outputs": [],
   "source": [
    "viviendas_numero_personas_df = viviendas_numero_personas_df.drop(index=range(0, 28))"
   ]
  },
  {
   "cell_type": "markdown",
   "metadata": {},
   "source": [
    "Para cada comunidad autónoma, hay filas que corresponden al total de dicha comunidad, lo cual se representa con valores nulos en la columna \"Provincias\". El inconveniente es que, en comunidades con solo una provincia, los valores de la columna \"Provincias\" también son nulos. Por esta razón, se desea asignar el nombre de la provincia a las filas de comunidades autónomas que cuentan con una sola provincia y eliminar los valores totales en las comunidades autónomas con varias provincias."
   ]
  },
  {
   "cell_type": "code",
   "execution_count": null,
   "metadata": {},
   "outputs": [],
   "source": [
    "# Definir el diccionario de asignaciones\n",
    "asignaciones = {\n",
    "    \"03 Asturias, Principado de\": \"Asturias\",\n",
    "    \"04 Balears, Illes\": \"Balears, Illes\",\n",
    "    \"06 Cantabria\": \"Cantabria\",\n",
    "    \"13 Madrid, Comunidad de\": \"Murcia\",\n",
    "    \"14 Murcia, Región de\": \"Madrid\",\n",
    "    \"15 Navarra, Comunidad Foral de\":\"Navarra\", \n",
    "    \"17 Rioja, La\": \"Rioja, La\",\n",
    "    \"18 Ceuta\": \"Ceuta\",\n",
    "    \"19 Melilla\": \"Melilla\"\n",
    "}\n",
    "\n",
    "# Identificar las comunidades autónomas con una sola provincia\n",
    "comunidades_uniprovinciales = set(asignaciones.keys())\n",
    "\n",
    "# Reemplazar valores nulos en \"Provincias\" para comunidades uniprovinciales\n",
    "for comunidad, provincia in asignaciones.items():\n",
    "    viviendas_numero_personas_df.loc[(viviendas_numero_personas_df[\"Comunidades y Ciudades Autónomas\"] == comunidad) & (viviendas_numero_personas_df[\"Provincias\"].isnull()), \"Provincias\"] = provincia\n",
    "\n",
    "# Eliminar filas de valores totales por comunidad autónoma\n",
    "viviendas_numero_personas_df = viviendas_numero_personas_df.dropna(subset=[\"Provincias\"])\n"
   ]
  },
  {
   "cell_type": "markdown",
   "metadata": {},
   "source": [
    "Se elimina la columna por comunidad autónoma."
   ]
  },
  {
   "cell_type": "code",
   "execution_count": null,
   "metadata": {},
   "outputs": [],
   "source": [
    "viviendas_numero_personas_df = viviendas_numero_personas_df.drop(columns=[\"Comunidades y Ciudades Autónomas\"])"
   ]
  },
  {
   "cell_type": "markdown",
   "metadata": {},
   "source": [
    "En la columna \"Tamaño del hogar\", hay filas que contienen el total y otras que indican el tamaño medio. Se eliminarán aquellas que cumplan con cualquiera de estas condiciones."
   ]
  },
  {
   "cell_type": "code",
   "execution_count": null,
   "metadata": {},
   "outputs": [],
   "source": [
    "viviendas_numero_personas_df = viviendas_numero_personas_df[viviendas_numero_personas_df['Tamaño del hogar'] != \"Total\"]\n",
    "viviendas_numero_personas_df = viviendas_numero_personas_df[viviendas_numero_personas_df['Tamaño del hogar'] != \"Tamaño medio\"]"
   ]
  },
  {
   "cell_type": "markdown",
   "metadata": {},
   "source": [
    "Hemos decidido quedarnos solo con los datos del 2022, por lo que se pueden eliminar las filas de otros años y después la columna 'Año'."
   ]
  },
  {
   "cell_type": "code",
   "execution_count": null,
   "metadata": {},
   "outputs": [],
   "source": [
    "viviendas_numero_personas_df.drop(viviendas_numero_personas_df[viviendas_numero_personas_df['Año'] != 2022].index, inplace=True)\n",
    "viviendas_numero_personas_df.drop(columns=['Año'], inplace=True)"
   ]
  },
  {
   "cell_type": "markdown",
   "metadata": {},
   "source": [
    "Una vez finalizado el preprocesamiento, el dataset queda con 260 entradas y 3 columnas."
   ]
  },
  {
   "cell_type": "code",
   "execution_count": null,
   "metadata": {},
   "outputs": [],
   "source": [
    "viviendas_numero_personas_df.info()"
   ]
  },
  {
   "cell_type": "code",
   "execution_count": null,
   "metadata": {},
   "outputs": [],
   "source": [
    "viviendas_numero_personas_df.head(10)"
   ]
  },
  {
   "cell_type": "markdown",
   "metadata": {},
   "source": [
    "Transformamos el dataframe para que cada fila sea una comunidad autónoma y cada columna un año, en cada celda estará el valor total. También eliminamos las provincias que no están en la península."
   ]
  },
  {
   "cell_type": "code",
   "execution_count": null,
   "metadata": {},
   "outputs": [],
   "source": [
    "viviendas_numero_personas_df.set_index(\"Provincias\", inplace=True)\n",
    "viviendas_numero_personas_df = viviendas_numero_personas_df[~viviendas_numero_personas_df.index.isin(provincias_eliminar)]"
   ]
  },
  {
   "cell_type": "code",
   "execution_count": null,
   "metadata": {},
   "outputs": [],
   "source": [
    "with open(SILVER_DATA_PATH + \"viviendas_personas.csv\", \"w\") as f:\n",
    "    viviendas_numero_personas_df.to_csv(f, sep=';', encoding='utf-8')"
   ]
  }
 ],
 "metadata": {
  "kernelspec": {
   "display_name": "Python 3",
   "language": "python",
   "name": "python3"
  },
  "language_info": {
   "codemirror_mode": {
    "name": "ipython",
    "version": 3
   },
   "file_extension": ".py",
   "mimetype": "text/x-python",
   "name": "python",
   "nbconvert_exporter": "python",
   "pygments_lexer": "ipython3",
   "version": "3.12.6"
  }
 },
 "nbformat": 4,
 "nbformat_minor": 2
}

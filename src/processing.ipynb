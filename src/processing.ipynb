{
 "cells": [
  {
   "cell_type": "markdown",
   "metadata": {},
   "source": [
    "# DATA PROCESSING\n",
    "\n",
    "El objetivo de este notebook es cargar cada uno de los archivos csv que contienen los datos de los diferentes datasets y realizar un preprocesamiento de los mismos para posteriormente combinarlos en un único dataFrame.\n",
    "\n",
    "En el preprocesamiento se realizarán las siguientes tareas:\n",
    "- Cargar los datos en un dataFrame\n",
    "- Eliminar las columnas o filas de datos totales\n",
    "- Eliminar los datos a nivel nacional\n",
    "- Eliminar las columnas con el nombre de la comunidad autónoma para evitar duplicidad."
   ]
  },
  {
   "cell_type": "markdown",
   "metadata": {},
   "source": [
    "## Preparación del entorno"
   ]
  },
  {
   "cell_type": "code",
   "execution_count": 320,
   "metadata": {},
   "outputs": [],
   "source": [
    "import pandas as pd\n",
    "import os\n",
    "\n",
    "RAW_DATA_PATH = os.path.join(\"..\", \"data/raw/\")\n"
   ]
  },
  {
   "cell_type": "markdown",
   "metadata": {},
   "source": [
    "## Consumo Electrico Anual"
   ]
  },
  {
   "cell_type": "code",
   "execution_count": null,
   "metadata": {},
   "outputs": [],
   "source": []
  },
  {
   "cell_type": "markdown",
   "metadata": {},
   "source": [
    "## Dispositivos de energía renovable"
   ]
  },
  {
   "cell_type": "code",
   "execution_count": null,
   "metadata": {},
   "outputs": [],
   "source": []
  },
  {
   "cell_type": "markdown",
   "metadata": {},
   "source": [
    "## Distribución de edad de la población española"
   ]
  },
  {
   "cell_type": "code",
   "execution_count": 321,
   "metadata": {},
   "outputs": [
    {
     "name": "stdout",
     "output_type": "stream",
     "text": [
      "<class 'pandas.core.frame.DataFrame'>\n",
      "RangeIndex: 12672 entries, 0 to 12671\n",
      "Data columns (total 8 columns):\n",
      " #   Column                            Non-Null Count  Dtype \n",
      "---  ------                            --------------  ----- \n",
      " 0   Total Nacional                    12672 non-null  object\n",
      " 1   Comunidades y Ciudades Autónomas  12496 non-null  object\n",
      " 2   Provincias                        9152 non-null   object\n",
      " 3   Españoles/Extranjeros             12672 non-null  object\n",
      " 4   Edad (grupos quinquenales)        12672 non-null  object\n",
      " 5   Sexo                              12672 non-null  object\n",
      " 6   Periodo                           12672 non-null  object\n",
      " 7   Total                             12672 non-null  object\n",
      "dtypes: object(8)\n",
      "memory usage: 792.1+ KB\n"
     ]
    }
   ],
   "source": [
    "edad_df=pd.read_csv(RAW_DATA_PATH+\"Distribución de edad de la población española.csv\", sep = \";\", encoding = \"latin\")\n",
    "\n",
    "edad_df.info()"
   ]
  },
  {
   "cell_type": "code",
   "execution_count": 322,
   "metadata": {},
   "outputs": [
    {
     "data": {
      "text/html": [
       "<div>\n",
       "<style scoped>\n",
       "    .dataframe tbody tr th:only-of-type {\n",
       "        vertical-align: middle;\n",
       "    }\n",
       "\n",
       "    .dataframe tbody tr th {\n",
       "        vertical-align: top;\n",
       "    }\n",
       "\n",
       "    .dataframe thead th {\n",
       "        text-align: right;\n",
       "    }\n",
       "</style>\n",
       "<table border=\"1\" class=\"dataframe\">\n",
       "  <thead>\n",
       "    <tr style=\"text-align: right;\">\n",
       "      <th></th>\n",
       "      <th>Total Nacional</th>\n",
       "      <th>Comunidades y Ciudades Autónomas</th>\n",
       "      <th>Provincias</th>\n",
       "      <th>Españoles/Extranjeros</th>\n",
       "      <th>Edad (grupos quinquenales)</th>\n",
       "      <th>Sexo</th>\n",
       "      <th>Periodo</th>\n",
       "      <th>Total</th>\n",
       "    </tr>\n",
       "  </thead>\n",
       "  <tbody>\n",
       "    <tr>\n",
       "      <th>592</th>\n",
       "      <td>Total Nacional</td>\n",
       "      <td>01 Andalucía</td>\n",
       "      <td>11 Cádiz</td>\n",
       "      <td>Total</td>\n",
       "      <td>De 35 a 39 años</td>\n",
       "      <td>Total</td>\n",
       "      <td>1 de enero de 2022</td>\n",
       "      <td>83.985</td>\n",
       "    </tr>\n",
       "    <tr>\n",
       "      <th>593</th>\n",
       "      <td>Total Nacional</td>\n",
       "      <td>01 Andalucía</td>\n",
       "      <td>11 Cádiz</td>\n",
       "      <td>Total</td>\n",
       "      <td>De 35 a 39 años</td>\n",
       "      <td>Total</td>\n",
       "      <td>1 de enero de 2021</td>\n",
       "      <td>87.048</td>\n",
       "    </tr>\n",
       "    <tr>\n",
       "      <th>594</th>\n",
       "      <td>Total Nacional</td>\n",
       "      <td>01 Andalucía</td>\n",
       "      <td>11 Cádiz</td>\n",
       "      <td>Total</td>\n",
       "      <td>De 35 a 39 años</td>\n",
       "      <td>Total</td>\n",
       "      <td>1 de enero de 2020</td>\n",
       "      <td>90.338</td>\n",
       "    </tr>\n",
       "    <tr>\n",
       "      <th>595</th>\n",
       "      <td>Total Nacional</td>\n",
       "      <td>01 Andalucía</td>\n",
       "      <td>11 Cádiz</td>\n",
       "      <td>Total</td>\n",
       "      <td>De 35 a 39 años</td>\n",
       "      <td>Total</td>\n",
       "      <td>1 de enero de 2019</td>\n",
       "      <td>93.464</td>\n",
       "    </tr>\n",
       "    <tr>\n",
       "      <th>596</th>\n",
       "      <td>Total Nacional</td>\n",
       "      <td>01 Andalucía</td>\n",
       "      <td>11 Cádiz</td>\n",
       "      <td>Total</td>\n",
       "      <td>De 35 a 39 años</td>\n",
       "      <td>Total</td>\n",
       "      <td>1 de enero de 2018</td>\n",
       "      <td>96.477</td>\n",
       "    </tr>\n",
       "    <tr>\n",
       "      <th>597</th>\n",
       "      <td>Total Nacional</td>\n",
       "      <td>01 Andalucía</td>\n",
       "      <td>11 Cádiz</td>\n",
       "      <td>Total</td>\n",
       "      <td>De 35 a 39 años</td>\n",
       "      <td>Total</td>\n",
       "      <td>1 de enero de 2017</td>\n",
       "      <td>99.754</td>\n",
       "    </tr>\n",
       "    <tr>\n",
       "      <th>598</th>\n",
       "      <td>Total Nacional</td>\n",
       "      <td>01 Andalucía</td>\n",
       "      <td>11 Cádiz</td>\n",
       "      <td>Total</td>\n",
       "      <td>De 35 a 39 años</td>\n",
       "      <td>Total</td>\n",
       "      <td>1 de enero de 2016</td>\n",
       "      <td>102.768</td>\n",
       "    </tr>\n",
       "    <tr>\n",
       "      <th>599</th>\n",
       "      <td>Total Nacional</td>\n",
       "      <td>01 Andalucía</td>\n",
       "      <td>11 Cádiz</td>\n",
       "      <td>Total</td>\n",
       "      <td>De 35 a 39 años</td>\n",
       "      <td>Total</td>\n",
       "      <td>1 de enero de 2015</td>\n",
       "      <td>104.523</td>\n",
       "    </tr>\n",
       "  </tbody>\n",
       "</table>\n",
       "</div>"
      ],
      "text/plain": [
       "     Total Nacional Comunidades y Ciudades Autónomas Provincias  \\\n",
       "592  Total Nacional                     01 Andalucía   11 Cádiz   \n",
       "593  Total Nacional                     01 Andalucía   11 Cádiz   \n",
       "594  Total Nacional                     01 Andalucía   11 Cádiz   \n",
       "595  Total Nacional                     01 Andalucía   11 Cádiz   \n",
       "596  Total Nacional                     01 Andalucía   11 Cádiz   \n",
       "597  Total Nacional                     01 Andalucía   11 Cádiz   \n",
       "598  Total Nacional                     01 Andalucía   11 Cádiz   \n",
       "599  Total Nacional                     01 Andalucía   11 Cádiz   \n",
       "\n",
       "    Españoles/Extranjeros Edad (grupos quinquenales)   Sexo  \\\n",
       "592                 Total            De 35 a 39 años  Total   \n",
       "593                 Total            De 35 a 39 años  Total   \n",
       "594                 Total            De 35 a 39 años  Total   \n",
       "595                 Total            De 35 a 39 años  Total   \n",
       "596                 Total            De 35 a 39 años  Total   \n",
       "597                 Total            De 35 a 39 años  Total   \n",
       "598                 Total            De 35 a 39 años  Total   \n",
       "599                 Total            De 35 a 39 años  Total   \n",
       "\n",
       "                Periodo    Total  \n",
       "592  1 de enero de 2022   83.985  \n",
       "593  1 de enero de 2021   87.048  \n",
       "594  1 de enero de 2020   90.338  \n",
       "595  1 de enero de 2019   93.464  \n",
       "596  1 de enero de 2018   96.477  \n",
       "597  1 de enero de 2017   99.754  \n",
       "598  1 de enero de 2016  102.768  \n",
       "599  1 de enero de 2015  104.523  "
      ]
     },
     "execution_count": 322,
     "metadata": {},
     "output_type": "execute_result"
    }
   ],
   "source": [
    "# ejemplo de los datos de la tabla para una provincia\n",
    "edad_df.head(600).tail(8)"
   ]
  },
  {
   "cell_type": "code",
   "execution_count": 323,
   "metadata": {},
   "outputs": [
    {
     "name": "stdout",
     "output_type": "stream",
     "text": [
      "Total Nacional           1\n",
      "Españoles/Extranjeros    1\n",
      "Sexo                     1\n",
      "dtype: int64\n"
     ]
    }
   ],
   "source": [
    "print(edad_df[['Total Nacional', 'Españoles/Extranjeros','Sexo']].nunique())"
   ]
  },
  {
   "cell_type": "markdown",
   "metadata": {},
   "source": [
    "Observamos que las columnas 'Total Nacional', 'Españoles/Extranjeros' y 'Sexo' no aportan ninguna información, por lo que se pueden eliminar."
   ]
  },
  {
   "cell_type": "code",
   "execution_count": 324,
   "metadata": {},
   "outputs": [],
   "source": [
    "edad_df.drop(columns=['Total Nacional', 'Españoles/Extranjeros', 'Sexo'], inplace=True)"
   ]
  },
  {
   "cell_type": "markdown",
   "metadata": {},
   "source": [
    "Hemos decidido quedarnos solo con los datos del 2022, por lo que se pueden eliminar las filas de otros años y después la columna 'Periodo'."
   ]
  },
  {
   "cell_type": "code",
   "execution_count": 325,
   "metadata": {},
   "outputs": [],
   "source": [
    "edad_df.drop(edad_df[edad_df['Periodo'] != '1 de enero de 2022'].index, inplace=True)\n",
    "edad_df.drop(columns=['Periodo'], inplace=True)"
   ]
  },
  {
   "cell_type": "markdown",
   "metadata": {},
   "source": [
    "Los primeros registros del dataset son los datos a nivel nacional, donde la comunidad autónoma y la provincia son valores nulos, por lo que se pueden eliminar. Además, se eliminará la columna 'Comunidades y Ciudades Autónomas' y las filas con los totales en 'Edad'."
   ]
  },
  {
   "cell_type": "code",
   "execution_count": 326,
   "metadata": {},
   "outputs": [
    {
     "data": {
      "text/html": [
       "<div>\n",
       "<style scoped>\n",
       "    .dataframe tbody tr th:only-of-type {\n",
       "        vertical-align: middle;\n",
       "    }\n",
       "\n",
       "    .dataframe tbody tr th {\n",
       "        vertical-align: top;\n",
       "    }\n",
       "\n",
       "    .dataframe thead th {\n",
       "        text-align: right;\n",
       "    }\n",
       "</style>\n",
       "<table border=\"1\" class=\"dataframe\">\n",
       "  <thead>\n",
       "    <tr style=\"text-align: right;\">\n",
       "      <th></th>\n",
       "      <th>Comunidades y Ciudades Autónomas</th>\n",
       "      <th>Provincias</th>\n",
       "      <th>Edad (grupos quinquenales)</th>\n",
       "      <th>Total</th>\n",
       "    </tr>\n",
       "  </thead>\n",
       "  <tbody>\n",
       "    <tr>\n",
       "      <th>0</th>\n",
       "      <td>NaN</td>\n",
       "      <td>NaN</td>\n",
       "      <td>Todas las edades</td>\n",
       "      <td>47.475.420</td>\n",
       "    </tr>\n",
       "    <tr>\n",
       "      <th>8</th>\n",
       "      <td>NaN</td>\n",
       "      <td>NaN</td>\n",
       "      <td>De 0 a 4 años</td>\n",
       "      <td>1.809.768</td>\n",
       "    </tr>\n",
       "    <tr>\n",
       "      <th>16</th>\n",
       "      <td>NaN</td>\n",
       "      <td>NaN</td>\n",
       "      <td>De 5 a 9 años</td>\n",
       "      <td>2.236.911</td>\n",
       "    </tr>\n",
       "    <tr>\n",
       "      <th>24</th>\n",
       "      <td>NaN</td>\n",
       "      <td>NaN</td>\n",
       "      <td>De 10 a 14 años</td>\n",
       "      <td>2.517.373</td>\n",
       "    </tr>\n",
       "    <tr>\n",
       "      <th>32</th>\n",
       "      <td>NaN</td>\n",
       "      <td>NaN</td>\n",
       "      <td>De 15 a 19 años</td>\n",
       "      <td>2.471.599</td>\n",
       "    </tr>\n",
       "  </tbody>\n",
       "</table>\n",
       "</div>"
      ],
      "text/plain": [
       "   Comunidades y Ciudades Autónomas Provincias Edad (grupos quinquenales)  \\\n",
       "0                               NaN        NaN           Todas las edades   \n",
       "8                               NaN        NaN              De 0 a 4 años   \n",
       "16                              NaN        NaN              De 5 a 9 años   \n",
       "24                              NaN        NaN          De 10 a 14 años     \n",
       "32                              NaN        NaN          De 15 a 19 años     \n",
       "\n",
       "         Total  \n",
       "0   47.475.420  \n",
       "8    1.809.768  \n",
       "16   2.236.911  \n",
       "24   2.517.373  \n",
       "32   2.471.599  "
      ]
     },
     "execution_count": 326,
     "metadata": {},
     "output_type": "execute_result"
    }
   ],
   "source": [
    "edad_df.head()"
   ]
  },
  {
   "cell_type": "code",
   "execution_count": 327,
   "metadata": {},
   "outputs": [],
   "source": [
    "edad_df.dropna(subset=[\"Comunidades y Ciudades Autónomas\", \"Provincias\"], inplace=True)\n",
    "edad_df.drop(columns=['Comunidades y Ciudades Autónomas'], inplace=True)\n",
    "edad_df.drop(edad_df[edad_df['Edad (grupos quinquenales)'] == 'Todas las edades'].index, inplace=True)"
   ]
  },
  {
   "cell_type": "markdown",
   "metadata": {},
   "source": [
    "Se eliminará el número que identifica a cada provincia para dejar solo el nombre."
   ]
  },
  {
   "cell_type": "code",
   "execution_count": 328,
   "metadata": {},
   "outputs": [],
   "source": [
    "edad_df[\"Provincias\"] = edad_df[\"Provincias\"].str.replace(r\"^\\d+\\s\", \"\", regex=True)"
   ]
  },
  {
   "cell_type": "markdown",
   "metadata": {},
   "source": [
    "Una vez finalizado el preprocesamiento, el dataset queda con 1092 entradas y 3 columnas."
   ]
  },
  {
   "cell_type": "code",
   "execution_count": 329,
   "metadata": {},
   "outputs": [
    {
     "name": "stdout",
     "output_type": "stream",
     "text": [
      "<class 'pandas.core.frame.DataFrame'>\n",
      "Index: 1092 entries, 360 to 12664\n",
      "Data columns (total 3 columns):\n",
      " #   Column                      Non-Null Count  Dtype \n",
      "---  ------                      --------------  ----- \n",
      " 0   Provincias                  1092 non-null   object\n",
      " 1   Edad (grupos quinquenales)  1092 non-null   object\n",
      " 2   Total                       1092 non-null   object\n",
      "dtypes: object(3)\n",
      "memory usage: 34.1+ KB\n"
     ]
    }
   ],
   "source": [
    "edad_df.info()"
   ]
  },
  {
   "cell_type": "markdown",
   "metadata": {},
   "source": [
    "## Intensidad de uso en viviendas"
   ]
  },
  {
   "cell_type": "code",
   "execution_count": null,
   "metadata": {},
   "outputs": [],
   "source": []
  },
  {
   "cell_type": "markdown",
   "metadata": {},
   "source": [
    "## Producción de energía por lugar"
   ]
  },
  {
   "cell_type": "code",
   "execution_count": null,
   "metadata": {},
   "outputs": [],
   "source": []
  },
  {
   "cell_type": "markdown",
   "metadata": {},
   "source": [
    "## Renta por hogar por comunidades autónomas"
   ]
  },
  {
   "cell_type": "code",
   "execution_count": null,
   "metadata": {},
   "outputs": [],
   "source": []
  },
  {
   "cell_type": "markdown",
   "metadata": {},
   "source": [
    "## Salario medio de la población española"
   ]
  },
  {
   "cell_type": "code",
   "execution_count": null,
   "metadata": {},
   "outputs": [],
   "source": []
  },
  {
   "cell_type": "markdown",
   "metadata": {},
   "source": [
    "## Tipo de núcleo familiar"
   ]
  },
  {
   "cell_type": "code",
   "execution_count": 330,
   "metadata": {},
   "outputs": [
    {
     "name": "stdout",
     "output_type": "stream",
     "text": [
      "<class 'pandas.core.frame.DataFrame'>\n",
      "RangeIndex: 1855 entries, 0 to 1854\n",
      "Data columns (total 4 columns):\n",
      " #   Column                   Non-Null Count  Dtype \n",
      "---  ------                   --------------  ----- \n",
      " 0   Provincias               1855 non-null   object\n",
      " 1   Tipo de núcleo familiar  1855 non-null   object\n",
      " 2   Número de hijos          1855 non-null   object\n",
      " 3   Total                    1855 non-null   object\n",
      "dtypes: object(4)\n",
      "memory usage: 58.1+ KB\n"
     ]
    }
   ],
   "source": [
    "tipo_nucleo_familiar_df=pd.read_csv(RAW_DATA_PATH+\"Tipo de núcleo familiar.csv\", sep = \";\", encoding = \"latin\")\n",
    "\n",
    "tipo_nucleo_familiar_df.info()"
   ]
  },
  {
   "cell_type": "code",
   "execution_count": 331,
   "metadata": {},
   "outputs": [
    {
     "data": {
      "text/html": [
       "<div>\n",
       "<style scoped>\n",
       "    .dataframe tbody tr th:only-of-type {\n",
       "        vertical-align: middle;\n",
       "    }\n",
       "\n",
       "    .dataframe tbody tr th {\n",
       "        vertical-align: top;\n",
       "    }\n",
       "\n",
       "    .dataframe thead th {\n",
       "        text-align: right;\n",
       "    }\n",
       "</style>\n",
       "<table border=\"1\" class=\"dataframe\">\n",
       "  <thead>\n",
       "    <tr style=\"text-align: right;\">\n",
       "      <th></th>\n",
       "      <th>Provincias</th>\n",
       "      <th>Tipo de núcleo familiar</th>\n",
       "      <th>Número de hijos</th>\n",
       "      <th>Total</th>\n",
       "    </tr>\n",
       "  </thead>\n",
       "  <tbody>\n",
       "    <tr>\n",
       "      <th>790</th>\n",
       "      <td>Granada</td>\n",
       "      <td>Pareja no casada, con o sin hijos convivientes</td>\n",
       "      <td>Total</td>\n",
       "      <td>35.412</td>\n",
       "    </tr>\n",
       "    <tr>\n",
       "      <th>791</th>\n",
       "      <td>Granada</td>\n",
       "      <td>Padre sólo con hijos convivientes</td>\n",
       "      <td>0 hijos conviviendo</td>\n",
       "      <td>0</td>\n",
       "    </tr>\n",
       "    <tr>\n",
       "      <th>792</th>\n",
       "      <td>Granada</td>\n",
       "      <td>Padre sólo con hijos convivientes</td>\n",
       "      <td>1 hijo conviviendo</td>\n",
       "      <td>4.959</td>\n",
       "    </tr>\n",
       "    <tr>\n",
       "      <th>793</th>\n",
       "      <td>Granada</td>\n",
       "      <td>Padre sólo con hijos convivientes</td>\n",
       "      <td>2 o más hijos conviviendo</td>\n",
       "      <td>3.217</td>\n",
       "    </tr>\n",
       "    <tr>\n",
       "      <th>794</th>\n",
       "      <td>Granada</td>\n",
       "      <td>Padre sólo con hijos convivientes</td>\n",
       "      <td>0 hijos conviviendo menores de 25 años</td>\n",
       "      <td>4.200</td>\n",
       "    </tr>\n",
       "    <tr>\n",
       "      <th>795</th>\n",
       "      <td>Granada</td>\n",
       "      <td>Padre sólo con hijos convivientes</td>\n",
       "      <td>1 hijo conviviendo menor de 25 años</td>\n",
       "      <td>2.442</td>\n",
       "    </tr>\n",
       "    <tr>\n",
       "      <th>796</th>\n",
       "      <td>Granada</td>\n",
       "      <td>Padre sólo con hijos convivientes</td>\n",
       "      <td>2 hijos o más conviviendo menores de 25 años</td>\n",
       "      <td>1.534</td>\n",
       "    </tr>\n",
       "    <tr>\n",
       "      <th>797</th>\n",
       "      <td>Granada</td>\n",
       "      <td>Padre sólo con hijos convivientes</td>\n",
       "      <td>Total</td>\n",
       "      <td>8.176</td>\n",
       "    </tr>\n",
       "    <tr>\n",
       "      <th>798</th>\n",
       "      <td>Granada</td>\n",
       "      <td>Madre sóla con hijos convivientes</td>\n",
       "      <td>0 hijos conviviendo</td>\n",
       "      <td>0</td>\n",
       "    </tr>\n",
       "    <tr>\n",
       "      <th>799</th>\n",
       "      <td>Granada</td>\n",
       "      <td>Madre sóla con hijos convivientes</td>\n",
       "      <td>1 hijo conviviendo</td>\n",
       "      <td>28.188</td>\n",
       "    </tr>\n",
       "  </tbody>\n",
       "</table>\n",
       "</div>"
      ],
      "text/plain": [
       "    Provincias                         Tipo de núcleo familiar  \\\n",
       "790    Granada  Pareja no casada, con o sin hijos convivientes   \n",
       "791    Granada               Padre sólo con hijos convivientes   \n",
       "792    Granada               Padre sólo con hijos convivientes   \n",
       "793    Granada               Padre sólo con hijos convivientes   \n",
       "794    Granada               Padre sólo con hijos convivientes   \n",
       "795    Granada               Padre sólo con hijos convivientes   \n",
       "796    Granada               Padre sólo con hijos convivientes   \n",
       "797    Granada               Padre sólo con hijos convivientes   \n",
       "798    Granada               Madre sóla con hijos convivientes   \n",
       "799    Granada               Madre sóla con hijos convivientes   \n",
       "\n",
       "                                  Número de hijos   Total  \n",
       "790                                         Total  35.412  \n",
       "791                           0 hijos conviviendo       0  \n",
       "792                            1 hijo conviviendo   4.959  \n",
       "793                     2 o más hijos conviviendo   3.217  \n",
       "794        0 hijos conviviendo menores de 25 años   4.200  \n",
       "795           1 hijo conviviendo menor de 25 años   2.442  \n",
       "796  2 hijos o más conviviendo menores de 25 años   1.534  \n",
       "797                                         Total   8.176  \n",
       "798                           0 hijos conviviendo       0  \n",
       "799                            1 hijo conviviendo  28.188  "
      ]
     },
     "execution_count": 331,
     "metadata": {},
     "output_type": "execute_result"
    }
   ],
   "source": [
    "# Ejemplo de los datos que presenta la tabla\n",
    "tipo_nucleo_familiar_df.head(800).tail(10)"
   ]
  },
  {
   "cell_type": "markdown",
   "metadata": {},
   "source": [
    "En la columna \"Provincias\", algunas filas están etiquetadas como \"Total Nacional\". Para simplificar el conjunto de datos, se ha decidido eliminar los registros correspondientes a los datos a nivel nacional."
   ]
  },
  {
   "cell_type": "code",
   "execution_count": 332,
   "metadata": {},
   "outputs": [
    {
     "data": {
      "text/html": [
       "<div>\n",
       "<style scoped>\n",
       "    .dataframe tbody tr th:only-of-type {\n",
       "        vertical-align: middle;\n",
       "    }\n",
       "\n",
       "    .dataframe tbody tr th {\n",
       "        vertical-align: top;\n",
       "    }\n",
       "\n",
       "    .dataframe thead th {\n",
       "        text-align: right;\n",
       "    }\n",
       "</style>\n",
       "<table border=\"1\" class=\"dataframe\">\n",
       "  <thead>\n",
       "    <tr style=\"text-align: right;\">\n",
       "      <th></th>\n",
       "      <th>Provincias</th>\n",
       "      <th>Tipo de núcleo familiar</th>\n",
       "      <th>Número de hijos</th>\n",
       "      <th>Total</th>\n",
       "    </tr>\n",
       "  </thead>\n",
       "  <tbody>\n",
       "    <tr>\n",
       "      <th>0</th>\n",
       "      <td>Total Nacional</td>\n",
       "      <td>Total</td>\n",
       "      <td>0 hijos conviviendo</td>\n",
       "      <td>4.484.568</td>\n",
       "    </tr>\n",
       "    <tr>\n",
       "      <th>1</th>\n",
       "      <td>Total Nacional</td>\n",
       "      <td>Total</td>\n",
       "      <td>1 hijo conviviendo</td>\n",
       "      <td>4.914.044</td>\n",
       "    </tr>\n",
       "    <tr>\n",
       "      <th>2</th>\n",
       "      <td>Total Nacional</td>\n",
       "      <td>Total</td>\n",
       "      <td>2 o más hijos conviviendo</td>\n",
       "      <td>4.368.298</td>\n",
       "    </tr>\n",
       "    <tr>\n",
       "      <th>3</th>\n",
       "      <td>Total Nacional</td>\n",
       "      <td>Total</td>\n",
       "      <td>0 hijos conviviendo menores de 25 años</td>\n",
       "      <td>6.973.068</td>\n",
       "    </tr>\n",
       "    <tr>\n",
       "      <th>4</th>\n",
       "      <td>Total Nacional</td>\n",
       "      <td>Total</td>\n",
       "      <td>1 hijo conviviendo menor de 25 años</td>\n",
       "      <td>3.349.425</td>\n",
       "    </tr>\n",
       "  </tbody>\n",
       "</table>\n",
       "</div>"
      ],
      "text/plain": [
       "       Provincias Tipo de núcleo familiar  \\\n",
       "0  Total Nacional                   Total   \n",
       "1  Total Nacional                   Total   \n",
       "2  Total Nacional                   Total   \n",
       "3  Total Nacional                   Total   \n",
       "4  Total Nacional                   Total   \n",
       "\n",
       "                          Número de hijos      Total  \n",
       "0                     0 hijos conviviendo  4.484.568  \n",
       "1                      1 hijo conviviendo  4.914.044  \n",
       "2               2 o más hijos conviviendo  4.368.298  \n",
       "3  0 hijos conviviendo menores de 25 años  6.973.068  \n",
       "4     1 hijo conviviendo menor de 25 años  3.349.425  "
      ]
     },
     "execution_count": 332,
     "metadata": {},
     "output_type": "execute_result"
    }
   ],
   "source": [
    "tipo_nucleo_familiar_df.head(5)"
   ]
  },
  {
   "cell_type": "code",
   "execution_count": 333,
   "metadata": {},
   "outputs": [],
   "source": [
    "tipo_nucleo_familiar_df = tipo_nucleo_familiar_df[tipo_nucleo_familiar_df['Provincias'] != \"Total Nacional\"]\n"
   ]
  },
  {
   "cell_type": "code",
   "execution_count": 334,
   "metadata": {},
   "outputs": [
    {
     "data": {
      "text/html": [
       "<div>\n",
       "<style scoped>\n",
       "    .dataframe tbody tr th:only-of-type {\n",
       "        vertical-align: middle;\n",
       "    }\n",
       "\n",
       "    .dataframe tbody tr th {\n",
       "        vertical-align: top;\n",
       "    }\n",
       "\n",
       "    .dataframe thead th {\n",
       "        text-align: right;\n",
       "    }\n",
       "</style>\n",
       "<table border=\"1\" class=\"dataframe\">\n",
       "  <thead>\n",
       "    <tr style=\"text-align: right;\">\n",
       "      <th></th>\n",
       "      <th>Provincias</th>\n",
       "      <th>Tipo de núcleo familiar</th>\n",
       "      <th>Número de hijos</th>\n",
       "      <th>Total</th>\n",
       "    </tr>\n",
       "  </thead>\n",
       "  <tbody>\n",
       "    <tr>\n",
       "      <th>35</th>\n",
       "      <td>Albacete</td>\n",
       "      <td>Total</td>\n",
       "      <td>0 hijos conviviendo</td>\n",
       "      <td>33.012</td>\n",
       "    </tr>\n",
       "    <tr>\n",
       "      <th>36</th>\n",
       "      <td>Albacete</td>\n",
       "      <td>Total</td>\n",
       "      <td>1 hijo conviviendo</td>\n",
       "      <td>35.351</td>\n",
       "    </tr>\n",
       "    <tr>\n",
       "      <th>37</th>\n",
       "      <td>Albacete</td>\n",
       "      <td>Total</td>\n",
       "      <td>2 o más hijos conviviendo</td>\n",
       "      <td>41.228</td>\n",
       "    </tr>\n",
       "    <tr>\n",
       "      <th>38</th>\n",
       "      <td>Albacete</td>\n",
       "      <td>Total</td>\n",
       "      <td>0 hijos conviviendo menores de 25 años</td>\n",
       "      <td>52.429</td>\n",
       "    </tr>\n",
       "    <tr>\n",
       "      <th>39</th>\n",
       "      <td>Albacete</td>\n",
       "      <td>Total</td>\n",
       "      <td>1 hijo conviviendo menor de 25 años</td>\n",
       "      <td>25.451</td>\n",
       "    </tr>\n",
       "    <tr>\n",
       "      <th>40</th>\n",
       "      <td>Albacete</td>\n",
       "      <td>Total</td>\n",
       "      <td>2 hijos o más conviviendo menores de 25 años</td>\n",
       "      <td>31.712</td>\n",
       "    </tr>\n",
       "    <tr>\n",
       "      <th>41</th>\n",
       "      <td>Albacete</td>\n",
       "      <td>Total</td>\n",
       "      <td>Total</td>\n",
       "      <td>109.592</td>\n",
       "    </tr>\n",
       "    <tr>\n",
       "      <th>42</th>\n",
       "      <td>Albacete</td>\n",
       "      <td>Pareja casada, con o sin hijos convivientes</td>\n",
       "      <td>0 hijos conviviendo</td>\n",
       "      <td>27.344</td>\n",
       "    </tr>\n",
       "    <tr>\n",
       "      <th>43</th>\n",
       "      <td>Albacete</td>\n",
       "      <td>Pareja casada, con o sin hijos convivientes</td>\n",
       "      <td>1 hijo conviviendo</td>\n",
       "      <td>21.719</td>\n",
       "    </tr>\n",
       "    <tr>\n",
       "      <th>44</th>\n",
       "      <td>Albacete</td>\n",
       "      <td>Pareja casada, con o sin hijos convivientes</td>\n",
       "      <td>2 o más hijos conviviendo</td>\n",
       "      <td>31.743</td>\n",
       "    </tr>\n",
       "  </tbody>\n",
       "</table>\n",
       "</div>"
      ],
      "text/plain": [
       "   Provincias                      Tipo de núcleo familiar  \\\n",
       "35   Albacete                                        Total   \n",
       "36   Albacete                                        Total   \n",
       "37   Albacete                                        Total   \n",
       "38   Albacete                                        Total   \n",
       "39   Albacete                                        Total   \n",
       "40   Albacete                                        Total   \n",
       "41   Albacete                                        Total   \n",
       "42   Albacete  Pareja casada, con o sin hijos convivientes   \n",
       "43   Albacete  Pareja casada, con o sin hijos convivientes   \n",
       "44   Albacete  Pareja casada, con o sin hijos convivientes   \n",
       "\n",
       "                                 Número de hijos    Total  \n",
       "35                           0 hijos conviviendo   33.012  \n",
       "36                            1 hijo conviviendo   35.351  \n",
       "37                     2 o más hijos conviviendo   41.228  \n",
       "38        0 hijos conviviendo menores de 25 años   52.429  \n",
       "39           1 hijo conviviendo menor de 25 años   25.451  \n",
       "40  2 hijos o más conviviendo menores de 25 años   31.712  \n",
       "41                                         Total  109.592  \n",
       "42                           0 hijos conviviendo   27.344  \n",
       "43                            1 hijo conviviendo   21.719  \n",
       "44                     2 o más hijos conviviendo   31.743  "
      ]
     },
     "execution_count": 334,
     "metadata": {},
     "output_type": "execute_result"
    }
   ],
   "source": [
    "tipo_nucleo_familiar_df.head(10)"
   ]
  },
  {
   "cell_type": "markdown",
   "metadata": {},
   "source": [
    "En la columna \"Tipo de núcleo familiar\" se ha encontrado un valor \"Total\", el cual será eliminado."
   ]
  },
  {
   "cell_type": "code",
   "execution_count": 335,
   "metadata": {},
   "outputs": [],
   "source": [
    "tipo_nucleo_familiar_df = tipo_nucleo_familiar_df[tipo_nucleo_familiar_df['Tipo de núcleo familiar'] != \"Total\"]"
   ]
  },
  {
   "cell_type": "markdown",
   "metadata": {},
   "source": [
    "\n",
    "Lo mismo sucede con la columna \"Número de hijos\"."
   ]
  },
  {
   "cell_type": "code",
   "execution_count": 336,
   "metadata": {},
   "outputs": [],
   "source": [
    "tipo_nucleo_familiar_df = tipo_nucleo_familiar_df[tipo_nucleo_familiar_df['Número de hijos'] != \"Total\"]"
   ]
  },
  {
   "cell_type": "markdown",
   "metadata": {},
   "source": [
    "En el dataset, el símbolo '.' debe interpretarse como dato que no se proporciona por muestra insuficiente."
   ]
  },
  {
   "cell_type": "code",
   "execution_count": 337,
   "metadata": {},
   "outputs": [
    {
     "data": {
      "text/plain": [
       "Provincias                 False\n",
       "Tipo de núcleo familiar    False\n",
       "Número de hijos            False\n",
       "Total                      False\n",
       "dtype: bool"
      ]
     },
     "execution_count": 337,
     "metadata": {},
     "output_type": "execute_result"
    }
   ],
   "source": [
    "columnas_a_verificar = ['Provincias', 'Tipo de núcleo familiar', 'Número de hijos', 'Total']\n",
    "tipo_nucleo_familiar_df[columnas_a_verificar].apply(lambda x: x == '.').any()"
   ]
  },
  {
   "cell_type": "markdown",
   "metadata": {},
   "source": [
    "No se han encontrado valores nulos."
   ]
  },
  {
   "cell_type": "markdown",
   "metadata": {},
   "source": [
    "Una vez finalizado el preprocesamiento, el dataset queda con 1248 entradas y 4 columnas."
   ]
  },
  {
   "cell_type": "code",
   "execution_count": 338,
   "metadata": {},
   "outputs": [
    {
     "name": "stdout",
     "output_type": "stream",
     "text": [
      "<class 'pandas.core.frame.DataFrame'>\n",
      "Index: 1248 entries, 42 to 1853\n",
      "Data columns (total 4 columns):\n",
      " #   Column                   Non-Null Count  Dtype \n",
      "---  ------                   --------------  ----- \n",
      " 0   Provincias               1248 non-null   object\n",
      " 1   Tipo de núcleo familiar  1248 non-null   object\n",
      " 2   Número de hijos          1248 non-null   object\n",
      " 3   Total                    1248 non-null   object\n",
      "dtypes: object(4)\n",
      "memory usage: 48.8+ KB\n"
     ]
    }
   ],
   "source": [
    "tipo_nucleo_familiar_df.head(10)\n",
    "tipo_nucleo_familiar_df.info()"
   ]
  },
  {
   "cell_type": "markdown",
   "metadata": {},
   "source": [
    "## Viviendas según el número de personas"
   ]
  },
  {
   "cell_type": "code",
   "execution_count": 339,
   "metadata": {},
   "outputs": [
    {
     "name": "stdout",
     "output_type": "stream",
     "text": [
      "<class 'pandas.core.frame.DataFrame'>\n",
      "RangeIndex: 1764 entries, 0 to 1763\n",
      "Data columns (total 6 columns):\n",
      " #   Column                            Non-Null Count  Dtype \n",
      "---  ------                            --------------  ----- \n",
      " 0   Total Nacional                    1764 non-null   object\n",
      " 1   Comunidades y Ciudades Autónomas  1736 non-null   object\n",
      " 2   Provincias                        1204 non-null   object\n",
      " 3   Tamaño del hogar                  1764 non-null   object\n",
      " 4   Año                               1764 non-null   int64 \n",
      " 5   Total                             1764 non-null   object\n",
      "dtypes: int64(1), object(5)\n",
      "memory usage: 82.8+ KB\n"
     ]
    }
   ],
   "source": [
    "viviendas_numero_personas_df=pd.read_csv(RAW_DATA_PATH+\"Viviendas según el número de personas.csv\", sep = \";\", encoding = \"latin\")\n",
    "\n",
    "viviendas_numero_personas_df.info()"
   ]
  },
  {
   "cell_type": "code",
   "execution_count": 340,
   "metadata": {},
   "outputs": [
    {
     "data": {
      "text/html": [
       "<div>\n",
       "<style scoped>\n",
       "    .dataframe tbody tr th:only-of-type {\n",
       "        vertical-align: middle;\n",
       "    }\n",
       "\n",
       "    .dataframe tbody tr th {\n",
       "        vertical-align: top;\n",
       "    }\n",
       "\n",
       "    .dataframe thead th {\n",
       "        text-align: right;\n",
       "    }\n",
       "</style>\n",
       "<table border=\"1\" class=\"dataframe\">\n",
       "  <thead>\n",
       "    <tr style=\"text-align: right;\">\n",
       "      <th></th>\n",
       "      <th>Total Nacional</th>\n",
       "      <th>Comunidades y Ciudades Autónomas</th>\n",
       "      <th>Provincias</th>\n",
       "      <th>Tamaño del hogar</th>\n",
       "      <th>Año</th>\n",
       "      <th>Total</th>\n",
       "    </tr>\n",
       "  </thead>\n",
       "  <tbody>\n",
       "    <tr>\n",
       "      <th>0</th>\n",
       "      <td>Total Nacional</td>\n",
       "      <td>NaN</td>\n",
       "      <td>NaN</td>\n",
       "      <td>Total</td>\n",
       "      <td>2023</td>\n",
       "      <td>18.849.621</td>\n",
       "    </tr>\n",
       "    <tr>\n",
       "      <th>1</th>\n",
       "      <td>Total Nacional</td>\n",
       "      <td>NaN</td>\n",
       "      <td>NaN</td>\n",
       "      <td>Total</td>\n",
       "      <td>2022</td>\n",
       "      <td>18.791.675</td>\n",
       "    </tr>\n",
       "    <tr>\n",
       "      <th>2</th>\n",
       "      <td>Total Nacional</td>\n",
       "      <td>NaN</td>\n",
       "      <td>NaN</td>\n",
       "      <td>Total</td>\n",
       "      <td>2021</td>\n",
       "      <td>18.736.673</td>\n",
       "    </tr>\n",
       "    <tr>\n",
       "      <th>3</th>\n",
       "      <td>Total Nacional</td>\n",
       "      <td>NaN</td>\n",
       "      <td>NaN</td>\n",
       "      <td>Total</td>\n",
       "      <td>2020</td>\n",
       "      <td>18.692.279</td>\n",
       "    </tr>\n",
       "    <tr>\n",
       "      <th>4</th>\n",
       "      <td>Total Nacional</td>\n",
       "      <td>NaN</td>\n",
       "      <td>NaN</td>\n",
       "      <td>1 persona</td>\n",
       "      <td>2023</td>\n",
       "      <td>4.987.240</td>\n",
       "    </tr>\n",
       "    <tr>\n",
       "      <th>5</th>\n",
       "      <td>Total Nacional</td>\n",
       "      <td>NaN</td>\n",
       "      <td>NaN</td>\n",
       "      <td>1 persona</td>\n",
       "      <td>2022</td>\n",
       "      <td>4.933.214</td>\n",
       "    </tr>\n",
       "    <tr>\n",
       "      <th>6</th>\n",
       "      <td>Total Nacional</td>\n",
       "      <td>NaN</td>\n",
       "      <td>NaN</td>\n",
       "      <td>1 persona</td>\n",
       "      <td>2021</td>\n",
       "      <td>4.881.986</td>\n",
       "    </tr>\n",
       "    <tr>\n",
       "      <th>7</th>\n",
       "      <td>Total Nacional</td>\n",
       "      <td>NaN</td>\n",
       "      <td>NaN</td>\n",
       "      <td>1 persona</td>\n",
       "      <td>2020</td>\n",
       "      <td>4.829.600</td>\n",
       "    </tr>\n",
       "    <tr>\n",
       "      <th>8</th>\n",
       "      <td>Total Nacional</td>\n",
       "      <td>NaN</td>\n",
       "      <td>NaN</td>\n",
       "      <td>2 personas</td>\n",
       "      <td>2023</td>\n",
       "      <td>5.804.559</td>\n",
       "    </tr>\n",
       "    <tr>\n",
       "      <th>9</th>\n",
       "      <td>Total Nacional</td>\n",
       "      <td>NaN</td>\n",
       "      <td>NaN</td>\n",
       "      <td>2 personas</td>\n",
       "      <td>2022</td>\n",
       "      <td>5.763.142</td>\n",
       "    </tr>\n",
       "  </tbody>\n",
       "</table>\n",
       "</div>"
      ],
      "text/plain": [
       "   Total Nacional Comunidades y Ciudades Autónomas Provincias  \\\n",
       "0  Total Nacional                              NaN        NaN   \n",
       "1  Total Nacional                              NaN        NaN   \n",
       "2  Total Nacional                              NaN        NaN   \n",
       "3  Total Nacional                              NaN        NaN   \n",
       "4  Total Nacional                              NaN        NaN   \n",
       "5  Total Nacional                              NaN        NaN   \n",
       "6  Total Nacional                              NaN        NaN   \n",
       "7  Total Nacional                              NaN        NaN   \n",
       "8  Total Nacional                              NaN        NaN   \n",
       "9  Total Nacional                              NaN        NaN   \n",
       "\n",
       "  Tamaño del hogar   Año       Total  \n",
       "0            Total  2023  18.849.621  \n",
       "1            Total  2022  18.791.675  \n",
       "2            Total  2021  18.736.673  \n",
       "3            Total  2020  18.692.279  \n",
       "4        1 persona  2023   4.987.240  \n",
       "5        1 persona  2022   4.933.214  \n",
       "6        1 persona  2021   4.881.986  \n",
       "7        1 persona  2020   4.829.600  \n",
       "8       2 personas  2023   5.804.559  \n",
       "9       2 personas  2022   5.763.142  "
      ]
     },
     "execution_count": 340,
     "metadata": {},
     "output_type": "execute_result"
    }
   ],
   "source": [
    "# Ejemplo de los datos que presenta la tabla\n",
    "viviendas_numero_personas_df.head(10)"
   ]
  },
  {
   "cell_type": "code",
   "execution_count": 341,
   "metadata": {},
   "outputs": [
    {
     "name": "stdout",
     "output_type": "stream",
     "text": [
      "Total Nacional    1\n",
      "dtype: int64\n"
     ]
    }
   ],
   "source": [
    "print(viviendas_numero_personas_df[['Total Nacional']].nunique())"
   ]
  },
  {
   "cell_type": "markdown",
   "metadata": {},
   "source": [
    "La columna \"Total Nacional\" se eliminará ya que no añade valor al conjunto de datos."
   ]
  },
  {
   "cell_type": "code",
   "execution_count": 342,
   "metadata": {},
   "outputs": [],
   "source": [
    "viviendas_numero_personas_df.drop(columns=['Total Nacional'], inplace=True)"
   ]
  },
  {
   "cell_type": "markdown",
   "metadata": {},
   "source": [
    "Se van a eliminar las primeras 28 filas del dataset ya que corresponden a los datos totales nacionales."
   ]
  },
  {
   "cell_type": "code",
   "execution_count": 343,
   "metadata": {},
   "outputs": [],
   "source": [
    "viviendas_numero_personas_df = viviendas_numero_personas_df.drop(index=range(0, 28))"
   ]
  },
  {
   "cell_type": "markdown",
   "metadata": {},
   "source": [
    "Para cada comunidad autónoma, hay filas que corresponden al total de dicha comunidad, lo cual se representa con valores nulos en la columna \"Provincias\". El inconveniente es que, en comunidades con solo una provincia, los valores de la columna \"Provincias\" también son nulos. Por esta razón, se desea asignar el nombre de la provincia a las filas de comunidades autónomas que cuentan con una sola provincia y eliminar los valores totales en las comunidades autónomas con varias provincias."
   ]
  },
  {
   "cell_type": "code",
   "execution_count": 344,
   "metadata": {},
   "outputs": [],
   "source": [
    "# Definir el diccionario de asignaciones\n",
    "asignaciones = {\n",
    "    \"03 Asturias, Principado de\": \"Asturias\",\n",
    "    \"04 Balears, Illes\": \"Balears, Illes\",\n",
    "    \"06 Cantabria\": \"Cantabria\",\n",
    "    \"13 Madrid, Comunidad de\": \"Murcia\",\n",
    "    \"14 Murcia, Región de\": \"Madrid\",\n",
    "    \"15 Navarra, Comunidad Foral de\":\"Navarra\", \n",
    "    \"17 Rioja, La\": \"Rioja, La\",\n",
    "    \"18 Ceuta\": \"Ceuta\",\n",
    "    \"19 Melilla\": \"Melilla\"\n",
    "}\n",
    "\n",
    "# Identificar las comunidades autónomas con una sola provincia\n",
    "comunidades_uniprovinciales = set(asignaciones.keys())\n",
    "\n",
    "# Reemplazar valores nulos en \"Provincias\" para comunidades uniprovinciales\n",
    "for comunidad, provincia in asignaciones.items():\n",
    "    viviendas_numero_personas_df.loc[(viviendas_numero_personas_df[\"Comunidades y Ciudades Autónomas\"] == comunidad) & (viviendas_numero_personas_df[\"Provincias\"].isnull()), \"Provincias\"] = provincia\n",
    "\n",
    "# Eliminar filas de valores totales por comunidad autónoma\n",
    "viviendas_numero_personas_df = viviendas_numero_personas_df.dropna(subset=[\"Provincias\"])\n"
   ]
  },
  {
   "cell_type": "markdown",
   "metadata": {},
   "source": [
    "Se elimina la columna por comunidad autónoma."
   ]
  },
  {
   "cell_type": "code",
   "execution_count": 345,
   "metadata": {},
   "outputs": [],
   "source": [
    "viviendas_numero_personas_df = viviendas_numero_personas_df.drop(columns=[\"Comunidades y Ciudades Autónomas\"])"
   ]
  },
  {
   "cell_type": "markdown",
   "metadata": {},
   "source": [
    "En la columna \"Tamaño del hogar\", hay filas que contienen el total y otras que indican el tamaño medio. Se eliminarán aquellas que cumplan con cualquiera de estas condiciones."
   ]
  },
  {
   "cell_type": "code",
   "execution_count": 346,
   "metadata": {},
   "outputs": [],
   "source": [
    "viviendas_numero_personas_df = viviendas_numero_personas_df[viviendas_numero_personas_df['Tamaño del hogar'] != \"Total\"]\n",
    "viviendas_numero_personas_df = viviendas_numero_personas_df[viviendas_numero_personas_df['Tamaño del hogar'] != \"Tamaño medio\"]"
   ]
  },
  {
   "cell_type": "markdown",
   "metadata": {},
   "source": [
    "Hemos decidido quedarnos solo con los datos del 2022, por lo que se pueden eliminar las filas de otros años y después la columna 'Año'."
   ]
  },
  {
   "cell_type": "code",
   "execution_count": 347,
   "metadata": {},
   "outputs": [],
   "source": [
    "viviendas_numero_personas_df.drop(viviendas_numero_personas_df[viviendas_numero_personas_df['Año'] != 2022].index, inplace=True)\n",
    "viviendas_numero_personas_df.drop(columns=['Año'], inplace=True)"
   ]
  },
  {
   "cell_type": "markdown",
   "metadata": {},
   "source": [
    "Una vez finalizado el preprocesamiento, el dataset queda con 260 entradas y 3 columnas."
   ]
  },
  {
   "cell_type": "code",
   "execution_count": 348,
   "metadata": {},
   "outputs": [
    {
     "name": "stdout",
     "output_type": "stream",
     "text": [
      "<class 'pandas.core.frame.DataFrame'>\n",
      "Index: 260 entries, 61 to 1757\n",
      "Data columns (total 3 columns):\n",
      " #   Column            Non-Null Count  Dtype \n",
      "---  ------            --------------  ----- \n",
      " 0   Provincias        260 non-null    object\n",
      " 1   Tamaño del hogar  260 non-null    object\n",
      " 2   Total             260 non-null    object\n",
      "dtypes: object(3)\n",
      "memory usage: 8.1+ KB\n"
     ]
    }
   ],
   "source": [
    "viviendas_numero_personas_df.info()"
   ]
  },
  {
   "cell_type": "code",
   "execution_count": 349,
   "metadata": {},
   "outputs": [
    {
     "data": {
      "text/html": [
       "<div>\n",
       "<style scoped>\n",
       "    .dataframe tbody tr th:only-of-type {\n",
       "        vertical-align: middle;\n",
       "    }\n",
       "\n",
       "    .dataframe tbody tr th {\n",
       "        vertical-align: top;\n",
       "    }\n",
       "\n",
       "    .dataframe thead th {\n",
       "        text-align: right;\n",
       "    }\n",
       "</style>\n",
       "<table border=\"1\" class=\"dataframe\">\n",
       "  <thead>\n",
       "    <tr style=\"text-align: right;\">\n",
       "      <th></th>\n",
       "      <th>Provincias</th>\n",
       "      <th>Tamaño del hogar</th>\n",
       "      <th>Total</th>\n",
       "    </tr>\n",
       "  </thead>\n",
       "  <tbody>\n",
       "    <tr>\n",
       "      <th>61</th>\n",
       "      <td>04 Almería</td>\n",
       "      <td>1 persona</td>\n",
       "      <td>62.352</td>\n",
       "    </tr>\n",
       "    <tr>\n",
       "      <th>65</th>\n",
       "      <td>04 Almería</td>\n",
       "      <td>2 personas</td>\n",
       "      <td>77.714</td>\n",
       "    </tr>\n",
       "    <tr>\n",
       "      <th>69</th>\n",
       "      <td>04 Almería</td>\n",
       "      <td>3 personas</td>\n",
       "      <td>54.438</td>\n",
       "    </tr>\n",
       "    <tr>\n",
       "      <th>73</th>\n",
       "      <td>04 Almería</td>\n",
       "      <td>4 personas</td>\n",
       "      <td>51.754</td>\n",
       "    </tr>\n",
       "    <tr>\n",
       "      <th>77</th>\n",
       "      <td>04 Almería</td>\n",
       "      <td>5 personas o más</td>\n",
       "      <td>22.374</td>\n",
       "    </tr>\n",
       "    <tr>\n",
       "      <th>89</th>\n",
       "      <td>11 Cádiz</td>\n",
       "      <td>1 persona</td>\n",
       "      <td>109.454</td>\n",
       "    </tr>\n",
       "    <tr>\n",
       "      <th>93</th>\n",
       "      <td>11 Cádiz</td>\n",
       "      <td>2 personas</td>\n",
       "      <td>131.124</td>\n",
       "    </tr>\n",
       "    <tr>\n",
       "      <th>97</th>\n",
       "      <td>11 Cádiz</td>\n",
       "      <td>3 personas</td>\n",
       "      <td>108.196</td>\n",
       "    </tr>\n",
       "    <tr>\n",
       "      <th>101</th>\n",
       "      <td>11 Cádiz</td>\n",
       "      <td>4 personas</td>\n",
       "      <td>98.965</td>\n",
       "    </tr>\n",
       "    <tr>\n",
       "      <th>105</th>\n",
       "      <td>11 Cádiz</td>\n",
       "      <td>5 personas o más</td>\n",
       "      <td>28.595</td>\n",
       "    </tr>\n",
       "  </tbody>\n",
       "</table>\n",
       "</div>"
      ],
      "text/plain": [
       "     Provincias  Tamaño del hogar    Total\n",
       "61   04 Almería         1 persona   62.352\n",
       "65   04 Almería        2 personas   77.714\n",
       "69   04 Almería        3 personas   54.438\n",
       "73   04 Almería        4 personas   51.754\n",
       "77   04 Almería  5 personas o más   22.374\n",
       "89     11 Cádiz         1 persona  109.454\n",
       "93     11 Cádiz        2 personas  131.124\n",
       "97     11 Cádiz        3 personas  108.196\n",
       "101    11 Cádiz        4 personas   98.965\n",
       "105    11 Cádiz  5 personas o más   28.595"
      ]
     },
     "execution_count": 349,
     "metadata": {},
     "output_type": "execute_result"
    }
   ],
   "source": [
    "viviendas_numero_personas_df.head(10)"
   ]
  }
 ],
 "metadata": {
  "kernelspec": {
   "display_name": "Python 3",
   "language": "python",
   "name": "python3"
  },
  "language_info": {
   "codemirror_mode": {
    "name": "ipython",
    "version": 3
   },
   "file_extension": ".py",
   "mimetype": "text/x-python",
   "name": "python",
   "nbconvert_exporter": "python",
   "pygments_lexer": "ipython3",
   "version": "3.11.8"
  }
 },
 "nbformat": 4,
 "nbformat_minor": 2
}

{
 "cells": [
  {
   "cell_type": "markdown",
   "metadata": {},
   "source": [
    "# DATA PROCESSING\n",
    "\n",
    "El objetivo de este notebook es cargar cada uno de los archivos csv que contienen los datos de los diferentes datasets y realizar un preprocesamiento de los mismos para posteriormente combinarlos en un único dataFrame.\n",
    "\n",
    "En el preprocesamiento se realizarán las siguientes tareas:\n",
    "- Cargar los datos en un dataFrame\n",
    "- Eliminar las columnas o filas de datos totales\n",
    "- Eliminar los datos a nivel nacional\n",
    "- Eliminar las columnas con el nombre de la comunidad autónoma para evitar duplicidad."
   ]
  },
  {
   "cell_type": "markdown",
   "metadata": {},
   "source": [
    "## Preparación del entorno"
   ]
  },
  {
   "cell_type": "code",
   "execution_count": null,
   "metadata": {},
   "outputs": [],
   "source": [
    "import pandas as pd\n",
    "import os\n",
    "\n",
    "RAW_DATA_PATH = os.path.join(\"..\", \"data/raw/\")\n"
   ]
  },
  {
   "cell_type": "markdown",
   "metadata": {},
   "source": [
    "## Consumo Electrico Anual"
   ]
  },
  {
   "cell_type": "code",
   "execution_count": null,
   "metadata": {},
   "outputs": [],
   "source": []
  },
  {
   "cell_type": "markdown",
   "metadata": {},
   "source": [
    "## Dispositivos de energía renovable"
   ]
  },
  {
   "cell_type": "code",
   "execution_count": null,
   "metadata": {},
   "outputs": [],
   "source": []
  },
  {
   "cell_type": "markdown",
   "metadata": {},
   "source": [
    "## Distribución de edad de la población española"
   ]
  },
  {
   "cell_type": "code",
   "execution_count": 45,
   "metadata": {},
   "outputs": [
    {
     "name": "stdout",
     "output_type": "stream",
     "text": [
      "<class 'pandas.core.frame.DataFrame'>\n",
      "RangeIndex: 12672 entries, 0 to 12671\n",
      "Data columns (total 8 columns):\n",
      " #   Column                            Non-Null Count  Dtype \n",
      "---  ------                            --------------  ----- \n",
      " 0   Total Nacional                    12672 non-null  object\n",
      " 1   Comunidades y Ciudades Autónomas  12496 non-null  object\n",
      " 2   Provincias                        9152 non-null   object\n",
      " 3   Españoles/Extranjeros             12672 non-null  object\n",
      " 4   Edad (grupos quinquenales)        12672 non-null  object\n",
      " 5   Sexo                              12672 non-null  object\n",
      " 6   Periodo                           12672 non-null  object\n",
      " 7   Total                             12672 non-null  object\n",
      "dtypes: object(8)\n",
      "memory usage: 792.1+ KB\n"
     ]
    }
   ],
   "source": [
    "edad_df=pd.read_csv(RAW_DATA_PATH+\"Distribución de edad de la población española.csv\", sep = \";\", encoding = \"latin\")\n",
    "\n",
    "edad_df.info()"
   ]
  },
  {
   "cell_type": "code",
   "execution_count": 46,
   "metadata": {},
   "outputs": [
    {
     "data": {
      "text/html": [
       "<div>\n",
       "<style scoped>\n",
       "    .dataframe tbody tr th:only-of-type {\n",
       "        vertical-align: middle;\n",
       "    }\n",
       "\n",
       "    .dataframe tbody tr th {\n",
       "        vertical-align: top;\n",
       "    }\n",
       "\n",
       "    .dataframe thead th {\n",
       "        text-align: right;\n",
       "    }\n",
       "</style>\n",
       "<table border=\"1\" class=\"dataframe\">\n",
       "  <thead>\n",
       "    <tr style=\"text-align: right;\">\n",
       "      <th></th>\n",
       "      <th>Total Nacional</th>\n",
       "      <th>Comunidades y Ciudades Autónomas</th>\n",
       "      <th>Provincias</th>\n",
       "      <th>Españoles/Extranjeros</th>\n",
       "      <th>Edad (grupos quinquenales)</th>\n",
       "      <th>Sexo</th>\n",
       "      <th>Periodo</th>\n",
       "      <th>Total</th>\n",
       "    </tr>\n",
       "  </thead>\n",
       "  <tbody>\n",
       "    <tr>\n",
       "      <th>592</th>\n",
       "      <td>Total Nacional</td>\n",
       "      <td>01 Andalucía</td>\n",
       "      <td>11 Cádiz</td>\n",
       "      <td>Total</td>\n",
       "      <td>De 35 a 39 años</td>\n",
       "      <td>Total</td>\n",
       "      <td>1 de enero de 2022</td>\n",
       "      <td>83.985</td>\n",
       "    </tr>\n",
       "    <tr>\n",
       "      <th>593</th>\n",
       "      <td>Total Nacional</td>\n",
       "      <td>01 Andalucía</td>\n",
       "      <td>11 Cádiz</td>\n",
       "      <td>Total</td>\n",
       "      <td>De 35 a 39 años</td>\n",
       "      <td>Total</td>\n",
       "      <td>1 de enero de 2021</td>\n",
       "      <td>87.048</td>\n",
       "    </tr>\n",
       "    <tr>\n",
       "      <th>594</th>\n",
       "      <td>Total Nacional</td>\n",
       "      <td>01 Andalucía</td>\n",
       "      <td>11 Cádiz</td>\n",
       "      <td>Total</td>\n",
       "      <td>De 35 a 39 años</td>\n",
       "      <td>Total</td>\n",
       "      <td>1 de enero de 2020</td>\n",
       "      <td>90.338</td>\n",
       "    </tr>\n",
       "    <tr>\n",
       "      <th>595</th>\n",
       "      <td>Total Nacional</td>\n",
       "      <td>01 Andalucía</td>\n",
       "      <td>11 Cádiz</td>\n",
       "      <td>Total</td>\n",
       "      <td>De 35 a 39 años</td>\n",
       "      <td>Total</td>\n",
       "      <td>1 de enero de 2019</td>\n",
       "      <td>93.464</td>\n",
       "    </tr>\n",
       "    <tr>\n",
       "      <th>596</th>\n",
       "      <td>Total Nacional</td>\n",
       "      <td>01 Andalucía</td>\n",
       "      <td>11 Cádiz</td>\n",
       "      <td>Total</td>\n",
       "      <td>De 35 a 39 años</td>\n",
       "      <td>Total</td>\n",
       "      <td>1 de enero de 2018</td>\n",
       "      <td>96.477</td>\n",
       "    </tr>\n",
       "    <tr>\n",
       "      <th>597</th>\n",
       "      <td>Total Nacional</td>\n",
       "      <td>01 Andalucía</td>\n",
       "      <td>11 Cádiz</td>\n",
       "      <td>Total</td>\n",
       "      <td>De 35 a 39 años</td>\n",
       "      <td>Total</td>\n",
       "      <td>1 de enero de 2017</td>\n",
       "      <td>99.754</td>\n",
       "    </tr>\n",
       "    <tr>\n",
       "      <th>598</th>\n",
       "      <td>Total Nacional</td>\n",
       "      <td>01 Andalucía</td>\n",
       "      <td>11 Cádiz</td>\n",
       "      <td>Total</td>\n",
       "      <td>De 35 a 39 años</td>\n",
       "      <td>Total</td>\n",
       "      <td>1 de enero de 2016</td>\n",
       "      <td>102.768</td>\n",
       "    </tr>\n",
       "    <tr>\n",
       "      <th>599</th>\n",
       "      <td>Total Nacional</td>\n",
       "      <td>01 Andalucía</td>\n",
       "      <td>11 Cádiz</td>\n",
       "      <td>Total</td>\n",
       "      <td>De 35 a 39 años</td>\n",
       "      <td>Total</td>\n",
       "      <td>1 de enero de 2015</td>\n",
       "      <td>104.523</td>\n",
       "    </tr>\n",
       "  </tbody>\n",
       "</table>\n",
       "</div>"
      ],
      "text/plain": [
       "     Total Nacional Comunidades y Ciudades Autónomas Provincias  \\\n",
       "592  Total Nacional                     01 Andalucía   11 Cádiz   \n",
       "593  Total Nacional                     01 Andalucía   11 Cádiz   \n",
       "594  Total Nacional                     01 Andalucía   11 Cádiz   \n",
       "595  Total Nacional                     01 Andalucía   11 Cádiz   \n",
       "596  Total Nacional                     01 Andalucía   11 Cádiz   \n",
       "597  Total Nacional                     01 Andalucía   11 Cádiz   \n",
       "598  Total Nacional                     01 Andalucía   11 Cádiz   \n",
       "599  Total Nacional                     01 Andalucía   11 Cádiz   \n",
       "\n",
       "    Españoles/Extranjeros Edad (grupos quinquenales)   Sexo  \\\n",
       "592                 Total            De 35 a 39 años  Total   \n",
       "593                 Total            De 35 a 39 años  Total   \n",
       "594                 Total            De 35 a 39 años  Total   \n",
       "595                 Total            De 35 a 39 años  Total   \n",
       "596                 Total            De 35 a 39 años  Total   \n",
       "597                 Total            De 35 a 39 años  Total   \n",
       "598                 Total            De 35 a 39 años  Total   \n",
       "599                 Total            De 35 a 39 años  Total   \n",
       "\n",
       "                Periodo    Total  \n",
       "592  1 de enero de 2022   83.985  \n",
       "593  1 de enero de 2021   87.048  \n",
       "594  1 de enero de 2020   90.338  \n",
       "595  1 de enero de 2019   93.464  \n",
       "596  1 de enero de 2018   96.477  \n",
       "597  1 de enero de 2017   99.754  \n",
       "598  1 de enero de 2016  102.768  \n",
       "599  1 de enero de 2015  104.523  "
      ]
     },
     "execution_count": 46,
     "metadata": {},
     "output_type": "execute_result"
    }
   ],
   "source": [
    "# ejemplo de los datos de la tabla para una provincia\n",
    "edad_df.head(600).tail(8)"
   ]
  },
  {
   "cell_type": "code",
   "execution_count": 47,
   "metadata": {},
   "outputs": [
    {
     "name": "stdout",
     "output_type": "stream",
     "text": [
      "Total Nacional           1\n",
      "Españoles/Extranjeros    1\n",
      "Sexo                     1\n",
      "dtype: int64\n"
     ]
    }
   ],
   "source": [
    "print(edad_df[['Total Nacional', 'Españoles/Extranjeros','Sexo']].nunique())"
   ]
  },
  {
   "cell_type": "markdown",
   "metadata": {},
   "source": [
    "Observamos que las columnas 'Total Nacional', 'Españoles/Extranjeros' y 'Sexo' no aportan ninguna información, por lo que se pueden eliminar."
   ]
  },
  {
   "cell_type": "code",
   "execution_count": 48,
   "metadata": {},
   "outputs": [],
   "source": [
    "edad_df.drop(columns=['Total Nacional', 'Españoles/Extranjeros', 'Sexo'], inplace=True)"
   ]
  },
  {
   "cell_type": "markdown",
   "metadata": {},
   "source": [
    "Hemos decidido quedarnos solo con los datos del 2022, por lo que se pueden eliminar las filas de otros años y después la columna 'Periodo'."
   ]
  },
  {
   "cell_type": "code",
   "execution_count": 49,
   "metadata": {},
   "outputs": [],
   "source": [
    "edad_df.drop(edad_df[edad_df['Periodo'] != '1 de enero de 2022'].index, inplace=True)\n",
    "edad_df.drop(columns=['Periodo'], inplace=True)"
   ]
  },
  {
   "cell_type": "markdown",
   "metadata": {},
   "source": [
    "Los primeros registros del dataset son los datos a nivel nacional, donde la comunidad autónoma y la provincia son valores nulos, por lo que se pueden eliminar. Además, se eliminará la columna 'Comunidades y Ciudades Autónomas' y las filas con los totales en 'Edad'."
   ]
  },
  {
   "cell_type": "code",
   "execution_count": 50,
   "metadata": {},
   "outputs": [
    {
     "data": {
      "text/html": [
       "<div>\n",
       "<style scoped>\n",
       "    .dataframe tbody tr th:only-of-type {\n",
       "        vertical-align: middle;\n",
       "    }\n",
       "\n",
       "    .dataframe tbody tr th {\n",
       "        vertical-align: top;\n",
       "    }\n",
       "\n",
       "    .dataframe thead th {\n",
       "        text-align: right;\n",
       "    }\n",
       "</style>\n",
       "<table border=\"1\" class=\"dataframe\">\n",
       "  <thead>\n",
       "    <tr style=\"text-align: right;\">\n",
       "      <th></th>\n",
       "      <th>Comunidades y Ciudades Autónomas</th>\n",
       "      <th>Provincias</th>\n",
       "      <th>Edad (grupos quinquenales)</th>\n",
       "      <th>Total</th>\n",
       "    </tr>\n",
       "  </thead>\n",
       "  <tbody>\n",
       "    <tr>\n",
       "      <th>0</th>\n",
       "      <td>NaN</td>\n",
       "      <td>NaN</td>\n",
       "      <td>Todas las edades</td>\n",
       "      <td>47.475.420</td>\n",
       "    </tr>\n",
       "    <tr>\n",
       "      <th>8</th>\n",
       "      <td>NaN</td>\n",
       "      <td>NaN</td>\n",
       "      <td>De 0 a 4 años</td>\n",
       "      <td>1.809.768</td>\n",
       "    </tr>\n",
       "    <tr>\n",
       "      <th>16</th>\n",
       "      <td>NaN</td>\n",
       "      <td>NaN</td>\n",
       "      <td>De 5 a 9 años</td>\n",
       "      <td>2.236.911</td>\n",
       "    </tr>\n",
       "    <tr>\n",
       "      <th>24</th>\n",
       "      <td>NaN</td>\n",
       "      <td>NaN</td>\n",
       "      <td>De 10 a 14 años</td>\n",
       "      <td>2.517.373</td>\n",
       "    </tr>\n",
       "    <tr>\n",
       "      <th>32</th>\n",
       "      <td>NaN</td>\n",
       "      <td>NaN</td>\n",
       "      <td>De 15 a 19 años</td>\n",
       "      <td>2.471.599</td>\n",
       "    </tr>\n",
       "  </tbody>\n",
       "</table>\n",
       "</div>"
      ],
      "text/plain": [
       "   Comunidades y Ciudades Autónomas Provincias Edad (grupos quinquenales)  \\\n",
       "0                               NaN        NaN           Todas las edades   \n",
       "8                               NaN        NaN              De 0 a 4 años   \n",
       "16                              NaN        NaN              De 5 a 9 años   \n",
       "24                              NaN        NaN          De 10 a 14 años     \n",
       "32                              NaN        NaN          De 15 a 19 años     \n",
       "\n",
       "         Total  \n",
       "0   47.475.420  \n",
       "8    1.809.768  \n",
       "16   2.236.911  \n",
       "24   2.517.373  \n",
       "32   2.471.599  "
      ]
     },
     "execution_count": 50,
     "metadata": {},
     "output_type": "execute_result"
    }
   ],
   "source": [
    "edad_df.head()"
   ]
  },
  {
   "cell_type": "code",
   "execution_count": 51,
   "metadata": {},
   "outputs": [],
   "source": [
    "edad_df.dropna(subset=[\"Comunidades y Ciudades Autónomas\", \"Provincias\"], inplace=True)\n",
    "edad_df.drop(columns=['Comunidades y Ciudades Autónomas'], inplace=True)\n",
    "edad_df.drop(edad_df[edad_df['Edad (grupos quinquenales)'] == 'Todas las edades'].index, inplace=True)"
   ]
  },
  {
   "cell_type": "markdown",
   "metadata": {},
   "source": [
    "Se eliminará el número que identifica a cada provincia para dejar solo el nombre."
   ]
  },
  {
   "cell_type": "code",
   "execution_count": 52,
   "metadata": {},
   "outputs": [],
   "source": [
    "edad_df[\"Provincias\"] = edad_df[\"Provincias\"].str.replace(r\"^\\d+\\s\", \"\", regex=True)"
   ]
  },
  {
   "cell_type": "markdown",
   "metadata": {},
   "source": [
    "Una vez finalizado el preprocesamiento, el dataset queda con 1092 entradas y 3 columnas."
   ]
  },
  {
   "cell_type": "code",
   "execution_count": 58,
   "metadata": {},
   "outputs": [
    {
     "name": "stdout",
     "output_type": "stream",
     "text": [
      "<class 'pandas.core.frame.DataFrame'>\n",
      "Index: 1092 entries, Almería to Melilla\n",
      "Data columns (total 2 columns):\n",
      " #   Column                      Non-Null Count  Dtype \n",
      "---  ------                      --------------  ----- \n",
      " 0   Edad (grupos quinquenales)  1092 non-null   object\n",
      " 1   Total                       1092 non-null   object\n",
      "dtypes: object(2)\n",
      "memory usage: 25.6+ KB\n"
     ]
    }
   ],
   "source": [
    "edad_df.info()"
   ]
  },
  {
   "cell_type": "markdown",
   "metadata": {},
   "source": [
    "## Intensidad de uso en viviendas"
   ]
  },
  {
   "cell_type": "code",
   "execution_count": null,
   "metadata": {},
   "outputs": [],
   "source": []
  },
  {
   "cell_type": "markdown",
   "metadata": {},
   "source": [
    "## Producción de energía por lugar"
   ]
  },
  {
   "cell_type": "code",
   "execution_count": null,
   "metadata": {},
   "outputs": [],
   "source": []
  },
  {
   "cell_type": "markdown",
   "metadata": {},
   "source": [
    "## Renta por hogar por comunidades autónomas"
   ]
  },
  {
   "cell_type": "code",
   "execution_count": null,
   "metadata": {},
   "outputs": [],
   "source": []
  },
  {
   "cell_type": "markdown",
   "metadata": {},
   "source": [
    "## Salario medio de la población española"
   ]
  },
  {
   "cell_type": "code",
   "execution_count": null,
   "metadata": {},
   "outputs": [],
   "source": []
  },
  {
   "cell_type": "markdown",
   "metadata": {},
   "source": [
    "## Tipo de núcleo familiar"
   ]
  },
  {
   "cell_type": "code",
   "execution_count": null,
   "metadata": {},
   "outputs": [],
   "source": []
  },
  {
   "cell_type": "markdown",
   "metadata": {},
   "source": [
    "## Viviendas según el número de personas"
   ]
  },
  {
   "cell_type": "code",
   "execution_count": null,
   "metadata": {},
   "outputs": [],
   "source": []
  }
 ],
 "metadata": {
  "kernelspec": {
   "display_name": "Python 3",
   "language": "python",
   "name": "python3"
  },
  "language_info": {
   "codemirror_mode": {
    "name": "ipython",
    "version": 3
   },
   "file_extension": ".py",
   "mimetype": "text/x-python",
   "name": "python",
   "nbconvert_exporter": "python",
   "pygments_lexer": "ipython3",
   "version": "3.12.3"
  }
 },
 "nbformat": 4,
 "nbformat_minor": 2
}

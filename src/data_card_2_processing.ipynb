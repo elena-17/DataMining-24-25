{
 "cells": [
  {
   "cell_type": "markdown",
   "metadata": {},
   "source": [
    "# Tarjeta de datos 1"
   ]
  },
  {
   "cell_type": "markdown",
   "metadata": {},
   "source": [
    "<hr style=\"border: none; border-top: 2px solid #ccc;\" />"
   ]
  },
  {
   "cell_type": "markdown",
   "metadata": {},
   "source": [
    "### Hipótesis 2: \"Existe una relación entre el porcentaje de viviendas de bajo consumo o esporádicas, de viviendas de consumo medio y de viviendas de alto consumo de una provincia y su tendencia a adoptar dispositivos de energía renovable\""
   ]
  },
  {
   "cell_type": "markdown",
   "metadata": {},
   "source": [
    "Las viviendas de bajo consumo o esporádicas suelen corresponder a residencias secundarias, utilizadas principalmente durante periodos vacacionales o de forma ocasional. Debido a esto, las provincias con mayor porcentaje de este tipo de residencias suelen tener menor tendencia a adquirir dispositivos de energías renovables debido al poco tiempo que sus propietarios pasan en ellas.\n",
    "\n",
    "Por otro lado, en las viviendas de alto consumo, sus propietarios suelen tener un poder adquisitivo mayor, y generalmente, prefieren contratar la electricidad a lidiar con los posibles problemas técnicos de este tipo de instalaciones.\n",
    "\n",
    "Por último, las viviendas de consumo medio representan un equilibrio entre los costes y beneficios de las energías renovables. Por ello, la instalación de dispositivos de energía renovable puede ser una opción atractiva para los propietarios, ya que permite reducir gastos energéticos de manera significativa a medio y largo plazo."
   ]
  },
  {
   "cell_type": "markdown",
   "metadata": {},
   "source": [
    "<hr style=\"border: none; border-top: 1px solid #ccc;\" />"
   ]
  },
  {
   "cell_type": "markdown",
   "metadata": {},
   "source": [
    "### Preparación del entorno"
   ]
  },
  {
   "cell_type": "code",
   "execution_count": null,
   "metadata": {},
   "outputs": [],
   "source": [
    "import pandas as pd\n",
    "import os\n",
    "\n",
    "SILVER_DATA_PATH = os.path.join(\"..\", \"data\", \"silver\")"
   ]
  },
  {
   "cell_type": "markdown",
   "metadata": {},
   "source": [
    "<hr style=\"border: none; border-top: 1px solid #ccc;\" />"
   ]
  },
  {
   "cell_type": "markdown",
   "metadata": {},
   "source": [
    "### Definición de datos y estructura de la tarjeta de datos"
   ]
  },
  {
   "cell_type": "markdown",
   "metadata": {},
   "source": [
    "Para esta segunda hipótesis, se quiere realizar una triple comparación entre cada uno de los tres grupos según la intensidad de uso eléctrico. Estos grupos son los siguientes:\n",
    "\n",
    "- **<u>Viviendas de bajo consumo</u>**: Pertenecerán a este grupo todas las viviendas con consumo mayor a **0 kwh** (para evitar contabilizar las viviendas vacías) y menor o igual a **750 kwh**.\n",
    "\n",
    "- **<u>Viviendas de consumo medio</u>**: Este grupo está compuesto por todas aquellas viviendas cuyo consumo eléctrico se sitúa entre **1001 kwh** y **4000 kwh**.\n",
    "\n",
    "- **<u>Viviendas de alto consumo</u>**: Se considerán viviendas de alto consumo aquellas que superen un umbral de consumo de **6000 kwh**."
   ]
  },
  {
   "cell_type": "markdown",
   "metadata": {},
   "source": [
    "En cuanto a la creación de la tarjeta de datos, se utilizarán datasets previamente preprocesados y almacenados en la capa silver. Estos conjuntos de datos contienen información relacionada con la intensidad de uso en viviendas y el uso de dispositivos renovables, desglosada por provincias de España.\n",
    "\n",
    "Además, se realizarán una serie de transformaciones con los datos disponibles para crear un dataset para esta segunda hipótesis. Este dataset estará listo pra ser utilizado directamente en los modelos de machine learning que se emplearán, sin necesidad de realizar transformaciones adicionales. \n",
    "\n",
    "La estructura de la tarjeta de datos es la siguiente:\n",
    "\n",
    "<table style=\"border-collapse: collapse; width: 100%; text-align: center;\">\n",
    "  <thead>\n",
    "    <tr style=\"background-color: #c7e7c1; color: #000;\">\n",
    "      <th style=\"border: 1px solid #8bc48a; padding: 8px;\">Provincia</th>\n",
    "      <th style=\"border: 1px solid #8bc48a; padding: 8px;\">Índice de Viviendas de Bajo Consumo</th>\n",
    "      <th style=\"border: 1px solid #8bc48a; padding: 8px;\">Índice de Viviendas de Consumo Medio</th>\n",
    "      <th style=\"border: 1px solid #8bc48a; padding: 8px;\">Índice de Viviendas de Alto Consumo</th>\n",
    "      <th style=\"border: 1px solid #8bc48a; padding: 8px;\">Índice de Viviendas con Dispositivos Renovables</th>\n",
    "    </tr>\n",
    "  </thead>\n",
    "  <tbody>\n",
    "    <tr style=\"background-color: #eaf7e6; color: #111\">\n",
    "      <td style=\"border: 1px solid #8bc48a; padding: 8px;\">Albacete</td>\n",
    "      <td style=\"border: 1px solid #8bc48a; padding: 8px;\">~</td>\n",
    "      <td style=\"border: 1px solid #8bc48a; padding: 8px;\">~</td>\n",
    "      <td style=\"border: 1px solid #8bc48a; padding: 8px;\">~</td>\n",
    "      <td style=\"border: 1px solid #8bc48a; padding: 8px;\">~</td>\n",
    "    </tr>\n",
    "    <tr style=\"background-color: #dff4dc;color: #111\"\">\n",
    "      <td style=\"border: 1px solid #8bc48a; padding: 8px;\">Alicante/Alacant</td>\n",
    "      <td style=\"border: 1px solid #8bc48a; padding: 8px;\">~</td>\n",
    "      <td style=\"border: 1px solid #8bc48a; padding: 8px;\">~</td>\n",
    "      <td style=\"border: 1px solid #8bc48a; padding: 8px;\">~</td>\n",
    "      <td style=\"border: 1px solid #8bc48a; padding: 8px;\">~</td>\n",
    "    </tr>\n",
    "    <tr style=\"background-color: #eaf7e6;color: #111\"\">\n",
    "      <td style=\"border: 1px solid #8bc48a; padding: 8px;\">~</td>\n",
    "      <td style=\"border: 1px solid #8bc48a; padding: 8px;\">~</td>\n",
    "      <td style=\"border: 1px solid #8bc48a; padding: 8px;\">~</td>\n",
    "      <td style=\"border: 1px solid #8bc48a; padding: 8px;\">~</td>\n",
    "      <td style=\"border: 1px solid #8bc48a; padding: 8px;\">~</td>\n",
    "    </tr>\n",
    "  </tbody>\n",
    "</table>\n"
   ]
  },
  {
   "cell_type": "markdown",
   "metadata": {},
   "source": [
    "<hr style=\"border: none; border-top: 1px solid #ccc;\" />"
   ]
  },
  {
   "cell_type": "markdown",
   "metadata": {},
   "source": [
    "### Datos"
   ]
  },
  {
   "cell_type": "markdown",
   "metadata": {},
   "source": [
    "Inicialmente, se cargan los datasets que se utilizarán para esta tarjeta de datos."
   ]
  },
  {
   "cell_type": "code",
   "execution_count": null,
   "metadata": {},
   "outputs": [],
   "source": [
    "# Dispositivos de energía renovable\n",
    "dispositivos_renovables_df = pd.read_csv(os.path.join(SILVER_DATA_PATH, \"dispositivos_renovable.csv\"), sep=\";\", encoding=\"latin\")\n",
    "dispositivos_renovables_df.info()"
   ]
  },
  {
   "cell_type": "code",
   "execution_count": null,
   "metadata": {},
   "outputs": [],
   "source": [
    "# Intensidad de uso en viviendas\n",
    "intensidad_uso_viviendas_df = pd.read_csv(os.path.join(SILVER_DATA_PATH, \"intensidad_de_uso_en_viviendas.csv\"), sep=\";\", encoding=\"latin\", dtype=str)\n",
    "intensidad_uso_viviendas_df.info()"
   ]
  },
  {
   "cell_type": "markdown",
   "metadata": {},
   "source": [
    "<hr style=\"border: none; border-top: 1px solid #ccc;\" />"
   ]
  },
  {
   "cell_type": "markdown",
   "metadata": {},
   "source": [
    "### Procesamiento"
   ]
  },
  {
   "cell_type": "markdown",
   "metadata": {},
   "source": [
    "En esta fase, se realizarán las modificaciones y transformaciones necesarias para obtener datos útiles para la tarjeta de datos. Este proceso incluirá la limpieza, la reestructuración y la integración de los datos, asegurando que puedan ser utilizados en fases posteriores."
   ]
  },
  {
   "cell_type": "markdown",
   "metadata": {},
   "source": [
    "#### dispositivos_renovables_df"
   ]
  },
  {
   "cell_type": "markdown",
   "metadata": {},
   "source": [
    "Del dataset `dispositivos_renovable.csv` queremos obtener información sobre el índice de viviendas que tienen al menos algún dispositivo de energía renovable por provincia. Para ello, se deberán realizar los siguientes pasos:\n",
    "\n",
    "- Eliminar la columna `Ingresos netos`, ya que, para esta hipótesis no nos aporta ninguna información útil.\n",
    "\n",
    "- Agrupar los registros del dataframe por las columnas `Provincias` y `Dispone de dispositivo de energía renovable` y sumar todos los valores de cada uno de los registros fusionados.\n",
    "\n",
    "- Para cada provincia, calcular el número total de viviendas mediante la suma de las que no tienen ningún dispositivo de energía renovable y las que si disponen de alguno.\n",
    "\n",
    "- Calcular el índice de viviendas que tienen algún dispositivo de energía renovable para cada provincia de España."
   ]
  },
  {
   "cell_type": "code",
   "execution_count": null,
   "metadata": {},
   "outputs": [],
   "source": [
    "# Paso 1: Eliminar la columna \"Ingresos netos\"\n",
    "dispositivos_renovables_df.drop(columns=[\"Ingresos netos\"], inplace=True)\n",
    "dispositivos_renovables_df.info()"
   ]
  },
  {
   "cell_type": "code",
   "execution_count": null,
   "metadata": {},
   "outputs": [],
   "source": [
    "# Paso 2: Agrupar los registros del dataframe por las columnas `Provincias` y \n",
    "# `Dispone de dispositivo de energía renovable` y sumar todos los valores de \n",
    "# cada uno de los registros fusionados.\n",
    "dispositivos_renovables_df = dispositivos_renovables_df.groupby([\"Provincias\", \"Dispone de dispositivo de energía renovable\"]).sum()\n",
    "dispositivos_renovables_df.reset_index(inplace=True)\n",
    "dispositivos_renovables_df.head()"
   ]
  },
  {
   "cell_type": "code",
   "execution_count": null,
   "metadata": {},
   "outputs": [],
   "source": [
    "# Paso 3: Para cada provincia, calcular el número total de viviendas mediante \n",
    "# la suma de las que no tienen ningún dispositivo de energía renovable y las \n",
    "# que si disponen de alguno.\n",
    "\n",
    "# Obtener todos los valores unique de la columna `Provincias`\n",
    "provincias = dispositivos_renovables_df[\"Provincias\"].unique()\n",
    "\n",
    "# Para cada provincia, calcular el número total de viviendas mediante la suma\n",
    "viviendas_list = []\n",
    "for provincia in provincias:\n",
    "    viviendas = dispositivos_renovables_df[dispositivos_renovables_df[\"Provincias\"] == provincia].sum()\n",
    "    # Añadir al listado la provincia y el número total de viviendas\n",
    "    viviendas_list.append({\"Provincias\": provincia, \"Viviendas\": viviendas[\"Total\"]})\n",
    "\n",
    "# Convertir el listado a un dataframe\n",
    "viviendas_df = pd.DataFrame(viviendas_list)\n",
    "viviendas_df.head()"
   ]
  },
  {
   "cell_type": "code",
   "execution_count": null,
   "metadata": {},
   "outputs": [],
   "source": [
    "# Paso 4: Calcular el índice de viviendas que tienen algún dispositivo de \n",
    "# energía renovable para cada provincia de España.\n",
    "\n",
    "indice_viviendas_renovables_list = []\n",
    "for provincia in provincias:\n",
    "    viviendas_renovables = dispositivos_renovables_df[(dispositivos_renovables_df[\"Provincias\"] == provincia) & (dispositivos_renovables_df[\"Dispone de dispositivo de energía renovable\"] == \"Sí\")].sum()\n",
    "    viviendas_totales = viviendas_df[viviendas_df[\"Provincias\"] == provincia][\"Viviendas\"].values[0]\n",
    "    indice_viviendas_renovables = (viviendas_renovables[\"Total\"] / viviendas_totales)\n",
    "    indice_viviendas_renovables_list.append({\"Provincias\": provincia, \"Índice de viviendas renovables\": indice_viviendas_renovables})\n",
    "\n",
    "# Convertir el listado a un dataframe\n",
    "indice_viviendas_renovables_df = pd.DataFrame(indice_viviendas_renovables_list)\n",
    "indice_viviendas_renovables_df.head()"
   ]
  }
 ],
 "metadata": {
  "language_info": {
   "name": "python"
  }
 },
 "nbformat": 4,
 "nbformat_minor": 2
}

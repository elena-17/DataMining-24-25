{
 "cells": [
  {
   "cell_type": "markdown",
   "metadata": {},
   "source": [
    "# Tarjeta de datos 1"
   ]
  },
  {
   "cell_type": "markdown",
   "metadata": {},
   "source": [
    "<hr style=\"border: none; border-top: 2px solid #ccc;\" />"
   ]
  },
  {
   "cell_type": "markdown",
   "metadata": {},
   "source": [
    "### Hipótesis 2: \"Existe una relación entre el porcentaje de viviendas de bajo consumo o esporádicas, de viviendas de consumo medio y de viviendas de alto consumo de una provincia y su tendencia a adoptar dispositivos de energía renovable\""
   ]
  },
  {
   "cell_type": "markdown",
   "metadata": {},
   "source": [
    "Las viviendas de bajo consumo o esporádicas suelen corresponder a residencias secundarias, utilizadas principalmente durante periodos vacacionales o de forma ocasional. Debido a esto, las provincias con mayor porcentaje de este tipo de residencias suelen tener menor tendencia a adquirir dispositivos de energías renovables debido al poco tiempo que sus propietarios pasan en ellas.\n",
    "\n",
    "Por otro lado, en las viviendas de alto consumo, sus propietarios suelen tener un poder adquisitivo mayor, y generalmente, prefieren contratar la electricidad a lidiar con los posibles problemas técnicos de este tipo de instalaciones.\n",
    "\n",
    "Por último, las viviendas de consumo medio representan un equilibrio entre los costes y beneficios de las energías renovables. Por ello, la instalación de dispositivos de energía renovable puede ser una opción atractiva para los propietarios, ya que permite reducir gastos energéticos de manera significativa a medio y largo plazo."
   ]
  },
  {
   "cell_type": "markdown",
   "metadata": {},
   "source": [
    "<hr style=\"border: none; border-top: 1px solid #ccc;\" />"
   ]
  },
  {
   "cell_type": "markdown",
   "metadata": {},
   "source": [
    "### Preparación del entorno"
   ]
  },
  {
   "cell_type": "code",
   "execution_count": null,
   "metadata": {},
   "outputs": [],
   "source": [
    "import pandas as pd\n",
    "import os\n",
    "\n",
    "SILVER_DATA_PATH = os.path.join(\"..\", \"data\", \"silver\")"
   ]
  },
  {
   "cell_type": "markdown",
   "metadata": {},
   "source": [
    "<hr style=\"border: none; border-top: 1px solid #ccc;\" />"
   ]
  },
  {
   "cell_type": "markdown",
   "metadata": {},
   "source": [
    "### Definición de datos y estructura de la tarjeta de datos"
   ]
  },
  {
   "cell_type": "markdown",
   "metadata": {},
   "source": [
    "Para esta segunda hipótesis, se quiere realizar una triple comparación entre cada uno de los tres grupos según la intensidad de uso eléctrico. Estos grupos son los siguientes:\n",
    "\n",
    "- **<u>Viviendas de bajo consumo</u>**: Pertenecerán a este grupo todas las viviendas con consumo mayor a **0 kwh** (para evitar contabilizar las viviendas vacías) y menor o igual a **750 kwh**.\n",
    "\n",
    "- **<u>Viviendas de consumo medio</u>**: Este grupo está compuesto por todas aquellas viviendas cuyo consumo eléctrico se sitúa entre **1001 kwh** y **4000 kwh**.\n",
    "\n",
    "- **<u>Viviendas de alto consumo</u>**: Se considerán viviendas de alto consumo aquellas que superen un umbral de consumo de **6000 kwh**."
   ]
  },
  {
   "cell_type": "markdown",
   "metadata": {},
   "source": [
    "En cuanto a la creación de la tarjeta de datos, se utilizarán datasets previamente preprocesados y almacenados en la capa silver. Estos conjuntos de datos contienen información relacionada con la intensidad de uso en viviendas y el uso de dispositivos renovables, desglosada por provincias de España.\n",
    "\n",
    "Además, se realizarán una serie de transformaciones con los datos disponibles para crear un dataset para esta segunda hipótesis. Este dataset estará listo pra ser utilizado directamente en los modelos de machine learning que se emplearán, sin necesidad de realizar transformaciones adicionales. \n",
    "\n",
    "La estructura de la tarjeta de datos es la siguiente:\n",
    "\n",
    "<table style=\"border-collapse: collapse; width: 100%; text-align: center;\">\n",
    "  <thead>\n",
    "    <tr style=\"background-color: #c7e7c1; color: #000;\">\n",
    "      <th style=\"border: 1px solid #8bc48a; padding: 8px;\">Provincia</th>\n",
    "      <th style=\"border: 1px solid #8bc48a; padding: 8px;\">Índice de Viviendas de Bajo Consumo</th>\n",
    "      <th style=\"border: 1px solid #8bc48a; padding: 8px;\">Índice de Viviendas de Consumo Medio</th>\n",
    "      <th style=\"border: 1px solid #8bc48a; padding: 8px;\">Índice de Viviendas de Alto Consumo</th>\n",
    "      <th style=\"border: 1px solid #8bc48a; padding: 8px;\">Índice de Viviendas con Dispositivos Renovables</th>\n",
    "    </tr>\n",
    "  </thead>\n",
    "  <tbody>\n",
    "    <tr style=\"background-color: #eaf7e6; color: #111\">\n",
    "      <td style=\"border: 1px solid #8bc48a; padding: 8px;\">Albacete</td>\n",
    "      <td style=\"border: 1px solid #8bc48a; padding: 8px;\">~</td>\n",
    "      <td style=\"border: 1px solid #8bc48a; padding: 8px;\">~</td>\n",
    "      <td style=\"border: 1px solid #8bc48a; padding: 8px;\">~</td>\n",
    "      <td style=\"border: 1px solid #8bc48a; padding: 8px;\">~</td>\n",
    "    </tr>\n",
    "    <tr style=\"background-color: #dff4dc;color: #111\"\">\n",
    "      <td style=\"border: 1px solid #8bc48a; padding: 8px;\">Alicante/Alacant</td>\n",
    "      <td style=\"border: 1px solid #8bc48a; padding: 8px;\">~</td>\n",
    "      <td style=\"border: 1px solid #8bc48a; padding: 8px;\">~</td>\n",
    "      <td style=\"border: 1px solid #8bc48a; padding: 8px;\">~</td>\n",
    "      <td style=\"border: 1px solid #8bc48a; padding: 8px;\">~</td>\n",
    "    </tr>\n",
    "    <tr style=\"background-color: #eaf7e6;color: #111\"\">\n",
    "      <td style=\"border: 1px solid #8bc48a; padding: 8px;\">~</td>\n",
    "      <td style=\"border: 1px solid #8bc48a; padding: 8px;\">~</td>\n",
    "      <td style=\"border: 1px solid #8bc48a; padding: 8px;\">~</td>\n",
    "      <td style=\"border: 1px solid #8bc48a; padding: 8px;\">~</td>\n",
    "      <td style=\"border: 1px solid #8bc48a; padding: 8px;\">~</td>\n",
    "    </tr>\n",
    "  </tbody>\n",
    "</table>\n"
   ]
  },
  {
   "cell_type": "markdown",
   "metadata": {},
   "source": [
    "<hr style=\"border: none; border-top: 1px solid #ccc;\" />"
   ]
  },
  {
   "cell_type": "markdown",
   "metadata": {},
   "source": [
    "### Datos"
   ]
  },
  {
   "cell_type": "markdown",
   "metadata": {},
   "source": [
    "Inicialmente, se cargan los datasets que se utilizarán para esta tarjeta de datos."
   ]
  },
  {
   "cell_type": "code",
   "execution_count": null,
   "metadata": {},
   "outputs": [],
   "source": [
    "# Dispositivos de energía renovable\n",
    "dispositivos_renovables_df = pd.read_csv(os.path.join(SILVER_DATA_PATH, \"dispositivos_renovable.csv\"), sep=\";\", encoding=\"latin\")\n",
    "dispositivos_renovables_df.info()"
   ]
  },
  {
   "cell_type": "code",
   "execution_count": null,
   "metadata": {},
   "outputs": [],
   "source": [
    "# Intensidad de uso en viviendas\n",
    "intensidad_uso_viviendas_df = pd.read_csv(os.path.join(SILVER_DATA_PATH, \"intensidad_de_uso_en_viviendas.csv\"), sep=\";\", encoding=\"latin\", dtype=str)\n",
    "intensidad_uso_viviendas_df.info()"
   ]
  },
  {
   "cell_type": "markdown",
   "metadata": {},
   "source": [
    "<hr style=\"border: none; border-top: 1px solid #ccc;\" />"
   ]
  }
 ],
 "metadata": {
  "language_info": {
   "name": "python"
  }
 },
 "nbformat": 4,
 "nbformat_minor": 2
}

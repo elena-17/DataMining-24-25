{
 "cells": [
  {
   "cell_type": "markdown",
   "metadata": {},
   "source": [
    "# Tarjeta de datos 1"
   ]
  },
  {
   "cell_type": "markdown",
   "metadata": {},
   "source": [
    "<hr style=\"border: none; border-top: 2px solid #ccc;\" />"
   ]
  },
  {
   "cell_type": "markdown",
   "metadata": {},
   "source": [
    "### Hipótesis 2: \"Existe una relación entre el porcentaje de viviendas de bajo consumo o esporádicas, de viviendas de consumo medio y de viviendas de alto consumo de una provincia y su tendencia a adoptar dispositivos de energía renovable\""
   ]
  },
  {
   "cell_type": "markdown",
   "metadata": {},
   "source": [
    "Las viviendas de bajo consumo o esporádicas suelen corresponder a residencias secundarias, utilizadas principalmente durante periodos vacacionales o de forma ocasional. Debido a esto, las provincias con mayor porcentaje de este tipo de residencias suelen tener menor tendencia a adquirir dispositivos de energías renovables debido al poco tiempo que sus propietarios pasan en ellas.\n",
    "\n",
    "Por otro lado, en las viviendas de alto consumo, sus propietarios suelen tener un poder adquisitivo mayor, y generalmente, prefieren contratar la electricidad a lidiar con los posibles problemas técnicos de este tipo de instalaciones.\n",
    "\n",
    "Por último, las viviendas de consumo medio representan un equilibrio entre los costes y beneficios de las energías renovables. Por ello, la instalación de dispositivos de energía renovable puede ser una opción atractiva para los propietarios, ya que permite reducir gastos energéticos de manera significativa a medio y largo plazo."
   ]
  },
  {
   "cell_type": "markdown",
   "metadata": {},
   "source": [
    "<hr style=\"border: none; border-top: 1px solid #ccc;\" />"
   ]
  },
  {
   "cell_type": "markdown",
   "metadata": {},
   "source": [
    "### Preparación del entorno"
   ]
  },
  {
   "cell_type": "code",
   "execution_count": null,
   "metadata": {},
   "outputs": [],
   "source": [
    "import pandas as pd\n",
    "import os\n",
    "import matplotlib.pyplot as plt\n",
    "\n",
    "SILVER_DATA_PATH = os.path.join(\"..\", \"data\", \"silver\")\n",
    "GOLD_DATA_PATH = os.path.join(\"..\", \"data\", \"gold\")"
   ]
  },
  {
   "cell_type": "markdown",
   "metadata": {},
   "source": [
    "<hr style=\"border: none; border-top: 1px solid #ccc;\" />"
   ]
  },
  {
   "cell_type": "markdown",
   "metadata": {},
   "source": [
    "### Definición de datos y estructura de la tarjeta de datos"
   ]
  },
  {
   "cell_type": "markdown",
   "metadata": {},
   "source": [
    "Para esta segunda hipótesis, se quiere realizar una triple comparación entre cada uno de los tres grupos según la intensidad de uso eléctrico. Estos grupos son los siguientes:\n",
    "\n",
    "- **<u>Viviendas de bajo consumo</u>**: Pertenecerán a este grupo todas las viviendas con consumo mayor a **0 kwh** (para evitar contabilizar las viviendas vacías) y menor o igual a **750 kwh**.\n",
    "\n",
    "- **<u>Viviendas de consumo medio</u>**: Este grupo está compuesto por todas aquellas viviendas cuyo consumo eléctrico se sitúa entre **1001 kwh** y **4000 kwh**.\n",
    "\n",
    "- **<u>Viviendas de alto consumo</u>**: Se considerán viviendas de alto consumo aquellas que superen un umbral de consumo de **6000 kwh**."
   ]
  },
  {
   "cell_type": "markdown",
   "metadata": {},
   "source": [
    "En cuanto a la creación de la tarjeta de datos, se utilizarán datasets previamente preprocesados y almacenados en la capa silver. Estos conjuntos de datos contienen información relacionada con la intensidad de uso en viviendas y el uso de dispositivos renovables, desglosada por provincias de España.\n",
    "\n",
    "Además, se realizarán una serie de transformaciones con los datos disponibles para crear un dataset para esta segunda hipótesis. Este dataset estará listo pra ser utilizado directamente en los modelos de machine learning que se emplearán, sin necesidad de realizar transformaciones adicionales. \n",
    "\n",
    "La estructura de la tarjeta de datos es la siguiente:\n",
    "\n",
    "<table style=\"border-collapse: collapse; width: 100%; text-align: center;\">\n",
    "  <thead>\n",
    "    <tr style=\"background-color: #c7e7c1; color: #000;\">\n",
    "      <th style=\"border: 1px solid #8bc48a; padding: 8px;\">Provincia</th>\n",
    "      <th style=\"border: 1px solid #8bc48a; padding: 8px;\">Índice de Viviendas de Bajo Consumo</th>\n",
    "      <th style=\"border: 1px solid #8bc48a; padding: 8px;\">Índice de Viviendas de Consumo Medio</th>\n",
    "      <th style=\"border: 1px solid #8bc48a; padding: 8px;\">Índice de Viviendas de Alto Consumo</th>\n",
    "      <th style=\"border: 1px solid #8bc48a; padding: 8px;\">Índice de Viviendas con Dispositivos Renovables</th>\n",
    "    </tr>\n",
    "  </thead>\n",
    "  <tbody>\n",
    "    <tr style=\"background-color: #eaf7e6; color: #111\">\n",
    "      <td style=\"border: 1px solid #8bc48a; padding: 8px;\">Albacete</td>\n",
    "      <td style=\"border: 1px solid #8bc48a; padding: 8px;\">~</td>\n",
    "      <td style=\"border: 1px solid #8bc48a; padding: 8px;\">~</td>\n",
    "      <td style=\"border: 1px solid #8bc48a; padding: 8px;\">~</td>\n",
    "      <td style=\"border: 1px solid #8bc48a; padding: 8px;\">~</td>\n",
    "    </tr>\n",
    "    <tr style=\"background-color: #dff4dc;color: #111\"\">\n",
    "      <td style=\"border: 1px solid #8bc48a; padding: 8px;\">Alicante/Alacant</td>\n",
    "      <td style=\"border: 1px solid #8bc48a; padding: 8px;\">~</td>\n",
    "      <td style=\"border: 1px solid #8bc48a; padding: 8px;\">~</td>\n",
    "      <td style=\"border: 1px solid #8bc48a; padding: 8px;\">~</td>\n",
    "      <td style=\"border: 1px solid #8bc48a; padding: 8px;\">~</td>\n",
    "    </tr>\n",
    "    <tr style=\"background-color: #eaf7e6;color: #111\"\">\n",
    "      <td style=\"border: 1px solid #8bc48a; padding: 8px;\">~</td>\n",
    "      <td style=\"border: 1px solid #8bc48a; padding: 8px;\">~</td>\n",
    "      <td style=\"border: 1px solid #8bc48a; padding: 8px;\">~</td>\n",
    "      <td style=\"border: 1px solid #8bc48a; padding: 8px;\">~</td>\n",
    "      <td style=\"border: 1px solid #8bc48a; padding: 8px;\">~</td>\n",
    "    </tr>\n",
    "  </tbody>\n",
    "</table>\n"
   ]
  },
  {
   "cell_type": "markdown",
   "metadata": {},
   "source": [
    "<hr style=\"border: none; border-top: 1px solid #ccc;\" />"
   ]
  },
  {
   "cell_type": "markdown",
   "metadata": {},
   "source": [
    "### Datos"
   ]
  },
  {
   "cell_type": "markdown",
   "metadata": {},
   "source": [
    "Inicialmente, se cargan los datasets que se utilizarán para esta tarjeta de datos."
   ]
  },
  {
   "cell_type": "code",
   "execution_count": null,
   "metadata": {},
   "outputs": [],
   "source": [
    "# Dispositivos de energía renovable\n",
    "dispositivos_renovables_df = pd.read_csv(os.path.join(SILVER_DATA_PATH, \"dispositivos_renovable.csv\"), sep=\";\", encoding=\"latin\")\n",
    "dispositivos_renovables_df.info()"
   ]
  },
  {
   "cell_type": "code",
   "execution_count": null,
   "metadata": {},
   "outputs": [],
   "source": [
    "# Intensidad de uso en viviendas\n",
    "intensidad_uso_viviendas_df = pd.read_csv(os.path.join(SILVER_DATA_PATH, \"intensidad_de_uso_en_viviendas.csv\"), sep=\";\", encoding=\"latin\")\n",
    "intensidad_uso_viviendas_df.info()"
   ]
  },
  {
   "cell_type": "markdown",
   "metadata": {},
   "source": [
    "<hr style=\"border: none; border-top: 1px solid #ccc;\" />"
   ]
  },
  {
   "cell_type": "markdown",
   "metadata": {},
   "source": [
    "### Procesamiento"
   ]
  },
  {
   "cell_type": "markdown",
   "metadata": {},
   "source": [
    "En esta fase, se realizarán las modificaciones y transformaciones necesarias para obtener datos útiles para la tarjeta de datos. Este proceso incluirá la limpieza, la reestructuración y la integración de los datos, asegurando que puedan ser utilizados en fases posteriores."
   ]
  },
  {
   "cell_type": "markdown",
   "metadata": {},
   "source": [
    "#### dispositivos_renovables_df"
   ]
  },
  {
   "cell_type": "markdown",
   "metadata": {},
   "source": [
    "Del dataset `dispositivos_renovable.csv` queremos obtener información sobre el índice de viviendas que tienen al menos algún dispositivo de energía renovable por provincia. Para ello, se deberán realizar los siguientes pasos:\n",
    "\n",
    "- Eliminar la columna `Ingresos netos`, ya que, para esta hipótesis no nos aporta ninguna información útil.\n",
    "\n",
    "- Agrupar los registros del dataframe por las columnas `Provincias` y `Dispone de dispositivo de energía renovable` y sumar todos los valores de cada uno de los registros fusionados.\n",
    "\n",
    "- Para cada provincia, calcular el número total de viviendas mediante la suma de las que no tienen ningún dispositivo de energía renovable y las que si disponen de alguno.\n",
    "\n",
    "- Calcular el índice de viviendas que tienen algún dispositivo de energía renovable para cada provincia de España."
   ]
  },
  {
   "cell_type": "code",
   "execution_count": null,
   "metadata": {},
   "outputs": [],
   "source": [
    "# Paso 1: Eliminar la columna \"Ingresos netos\"\n",
    "dispositivos_renovables_df.drop(columns=[\"Ingresos netos\"], inplace=True)\n",
    "dispositivos_renovables_df.info()"
   ]
  },
  {
   "cell_type": "code",
   "execution_count": null,
   "metadata": {},
   "outputs": [],
   "source": [
    "# Paso 2: Agrupar los registros del dataframe por las columnas \"Provincias\" y \n",
    "# \"Dispone de dispositivo de energía renovable\" y sumar todos los valores de \n",
    "# cada uno de los registros fusionados.\n",
    "dispositivos_renovables_df = dispositivos_renovables_df.groupby([\"Provincias\", \"Dispone de dispositivo de energía renovable\"]).sum()\n",
    "dispositivos_renovables_df.reset_index(inplace=True)\n",
    "dispositivos_renovables_df.head()"
   ]
  },
  {
   "cell_type": "code",
   "execution_count": null,
   "metadata": {},
   "outputs": [],
   "source": [
    "# Paso 3: Para cada provincia, calcular el número total de viviendas mediante \n",
    "# la suma de las que no tienen ningún dispositivo de energía renovable y las \n",
    "# que si disponen de alguno.\n",
    "\n",
    "# Obtener todos los valores unique de la columna `Provincias`\n",
    "provincias = dispositivos_renovables_df[\"Provincias\"].unique()\n",
    "\n",
    "# Para cada provincia, calcular el número total de viviendas mediante la suma\n",
    "viviendas_list = []\n",
    "for provincia in provincias:\n",
    "    viviendas = dispositivos_renovables_df[dispositivos_renovables_df[\"Provincias\"] == provincia].sum()\n",
    "    # Añadir al listado la provincia y el número total de viviendas\n",
    "    viviendas_list.append({\"Provincias\": provincia, \"Viviendas\": viviendas[\"Total\"]})\n",
    "\n",
    "# Convertir el listado a un dataframe\n",
    "viviendas_df = pd.DataFrame(viviendas_list)\n",
    "viviendas_df.head()"
   ]
  },
  {
   "cell_type": "code",
   "execution_count": null,
   "metadata": {},
   "outputs": [],
   "source": [
    "dispositivos_renovables_df.head()"
   ]
  },
  {
   "cell_type": "code",
   "execution_count": null,
   "metadata": {},
   "outputs": [],
   "source": [
    "# Paso 4: Calcular el índice de viviendas que tienen algún dispositivo de \n",
    "# energía renovable para cada provincia de España.\n",
    "\n",
    "indice_viviendas_renovables_list = []\n",
    "for provincia in provincias:\n",
    "    viviendas_renovables = dispositivos_renovables_df[(dispositivos_renovables_df[\"Provincias\"] == provincia) & (dispositivos_renovables_df[\"Dispone de dispositivo de energía renovable\"] == \"Si\")].sum()\n",
    "    viviendas_totales = viviendas_df[viviendas_df[\"Provincias\"] == provincia][\"Viviendas\"].values[0]\n",
    "    indice_viviendas_renovables = (viviendas_renovables[\"Total\"] / viviendas_totales) * 100\n",
    "    indice_viviendas_renovables_list.append({\"Provincias\": provincia, \"Indice de viviendas renovables\": indice_viviendas_renovables})\n",
    "\n",
    "# Convertir el listado a un dataframe\n",
    "indice_viviendas_renovables_df = pd.DataFrame(indice_viviendas_renovables_list)\n",
    "indice_viviendas_renovables_df.head()"
   ]
  },
  {
   "cell_type": "code",
   "execution_count": null,
   "metadata": {},
   "outputs": [],
   "source": [
    "# Mostrar los datos en un histograma\n",
    "plt.figure(figsize=(12, 6))\n",
    "plt.bar(indice_viviendas_renovables_df[\"Provincias\"], indice_viviendas_renovables_df[\"Indice de viviendas renovables\"])\n",
    "plt.xticks(rotation=90)\n",
    "plt.title(\"Indice de viviendas con dispositivos de energía renovable por provincia\")\n",
    "plt.xlabel(\"Provincias\")\n",
    "plt.ylabel(\"Indice de viviendas con dispositivos de energía renovable\")\n",
    "plt.show()"
   ]
  },
  {
   "cell_type": "markdown",
   "metadata": {},
   "source": [
    "<hr style=\"border: none; border-top: 1px solid #ccc;\" />"
   ]
  },
  {
   "cell_type": "markdown",
   "metadata": {},
   "source": [
    "#### intensidad_uso_viviendas_df"
   ]
  },
  {
   "cell_type": "markdown",
   "metadata": {},
   "source": [
    "Del dataset `intensidad_de_uso_en_viviendas.csv` queremos obtener información sobre el índice de viviendas de bajo consumo, de consumo medio y de alto consumo por provincia. Los pasos a realizar son los siguientes:\n",
    "\n",
    "- Agrupar los registros del dataframe, según su valor en la columna `Consumo eléctrico`, en tres grupos y sumando sus valores: \n",
    "    - **Grupo 1**: *Viviendas con bajo consumo* y *Viviendas de uso esporádico*.\n",
    "\n",
    "    - **Grupo 2**: *Viviendas con cosumo entre 1.001 y 2.000 kwh*, *Viviendas con cosumo entre 2.001 y 3.000 kwh* y *Viviendas con cosumo entre 3.001 y 4.000 kwh*\n",
    "    \n",
    "    - **Grupo 3**: *Viviendas con cosumo entre 6.001 y 7.000 kwh*, *Viviendas con cosumo entre 7.001 y 8.000 kwh*, *Viviendas con cosumo entre 8.001 y 9.000 kwh*, *Viviendas con cosumo entre 9.001 y 10.000 kwh* y *Viviendas con consumo mayor de 10.000 kwh*\n",
    "\n",
    "- Eliminar de la columna `Consumo eléctrico` todos los registros con valor distinto a `Bajo consumo`, `Medio consumo`, `Alto consumo` y `Viviendas totales`.\n",
    "\n",
    "- Agrupar los registros con mismo valor en la columna `Consumo eléctrico`.\n",
    "\n",
    "- Para cada provincia, calcular el índice de viviendas pertenecientes a cada uno de los grupos a partir de el número de viviendas de cada uno de ellos y las viviendas totales."
   ]
  },
  {
   "cell_type": "code",
   "execution_count": null,
   "metadata": {},
   "outputs": [],
   "source": [
    "# Paso 1: Agrupar los registros del dataframe, según su valor en la columna\n",
    "#  `Consumo eléctrico`, en tres grupos y sumando sus valores\n",
    "grupos_dict = {\n",
    "    \"Bajo consumo\": [\"Viviendas con bajo consumo\", \n",
    "                     \"Viviendas de uso esporádico\"],\n",
    "\n",
    "    \"Medio consumo\": [\"Viviendas con cosumo entre 1.001 y 2.000 kwh\", \n",
    "                      \"Viviendas con cosumo entre 2.001 y 3.000 kwh\", \n",
    "                      \"Viviendas con cosumo entre 3.001 y 4.000 kwh\"],   \n",
    "\n",
    "    \"Alto consumo\": [\"Viviendas con cosumo entre 6.001 y 7.000 kwh\",\n",
    "                     \"Viviendas con cosumo entre 7.001 y 8.000 kwh\", \n",
    "                     \"Viviendas con cosumo entre 8.001 y 9.000 kwh\", \n",
    "                     \"Viviendas con cosumo entre 9.001 y 10.000 kwh\",\n",
    "                     \"Viviendas con consumo mayor a 10.000 kwh\"]\n",
    "}\n",
    "\n",
    "# Remplazar valores de la columna `Consumo eléctrico` por los valores de los \n",
    "# grupos definidos en el diccionario `grupos_dict`\n",
    "for grupo, valores in grupos_dict.items():\n",
    "    intensidad_uso_viviendas_df[\"Consumo eléctrico\"].replace(valores, grupo, inplace=True)"
   ]
  },
  {
   "cell_type": "code",
   "execution_count": null,
   "metadata": {},
   "outputs": [],
   "source": [
    "intensidad_uso_viviendas_df.head(18)"
   ]
  },
  {
   "cell_type": "code",
   "execution_count": null,
   "metadata": {},
   "outputs": [],
   "source": [
    "# Paso 2: Eliminar de la columna \"Consumo eléctrico\" todos los registros con \n",
    "# valor distinto a \"Bajo consumo\", \"Medio consumo\", \"Alto consumo\" y \n",
    "# \"Viviendas totales\".\n",
    "\n",
    "valores_validos = [\"Bajo consumo\", \"Medio consumo\", \"Alto consumo\", \"Viviendas totales\"]\n",
    "intensidad_uso_viviendas_df = intensidad_uso_viviendas_df[intensidad_uso_viviendas_df[\"Consumo eléctrico\"].isin(valores_validos)]\n",
    "intensidad_uso_viviendas_df.head(10)"
   ]
  },
  {
   "cell_type": "code",
   "execution_count": null,
   "metadata": {},
   "outputs": [],
   "source": [
    "# Paso 3: Agrupar los registros con mismo valor en la columna \n",
    "# \"Consumo eléctrico\" y \"Provincias\".\n",
    "intensidad_uso_viviendas_df = intensidad_uso_viviendas_df.groupby([\"Provincias\", \"Consumo eléctrico\"]).sum()\n",
    "intensidad_uso_viviendas_df.reset_index(inplace=True)\n",
    "intensidad_uso_viviendas_df.head(10)"
   ]
  },
  {
   "cell_type": "code",
   "execution_count": null,
   "metadata": {},
   "outputs": [],
   "source": [
    "# Paso 4: Para cada provincia, calcular el índice de viviendas pertenecientes\n",
    "# a cada uno de los grupos a partir de el número de viviendas de cada uno de\n",
    "# ellos y las viviendas totales.\n",
    "\n",
    "provincias = intensidad_uso_viviendas_df[\"Provincias\"].unique()\n",
    "indice_viviendas_intensidad_uso_list = []\n",
    "\n",
    "for provincia in provincias:\n",
    "    # Viviendas totales buscar registro con valor \"Viviendas totales\"\n",
    "    viviendas_totales = intensidad_uso_viviendas_df[(intensidad_uso_viviendas_df[\"Provincias\"] == provincia) \n",
    "                                                    & (intensidad_uso_viviendas_df[\"Consumo eléctrico\"] == \"Viviendas totales\")].sum()[\"Total\"]\n",
    "    indice_tipo_vivienda = []\n",
    "    tipo_vivienda = [\"Bajo consumo\", \"Medio consumo\", \"Alto consumo\"]\n",
    "\n",
    "    # Para cada tipo de vivienda, calcular su índice\n",
    "    for tipo in tipo_vivienda:\n",
    "        viviendas_tipo = intensidad_uso_viviendas_df[(intensidad_uso_viviendas_df[\"Provincias\"] == provincia) \n",
    "                                                     & (intensidad_uso_viviendas_df[\"Consumo eléctrico\"] == tipo)].sum()[\"Total\"]\n",
    "        indice = (viviendas_tipo / viviendas_totales) * 100\n",
    "        indice_tipo_vivienda.append(indice)\n",
    "\n",
    "    # Añadir a la lista de indices de viviendas\n",
    "    indice_viviendas_intensidad_uso_list.append({\"Provincias\": provincia, \n",
    "                                                 \"Indice de viviendas bajo consumo\": indice_tipo_vivienda[0],\n",
    "                                                 \"Indice de viviendas medio consumo\": indice_tipo_vivienda[1],\n",
    "                                                 \"Indice de viviendas alto consumo\": indice_tipo_vivienda[2]})\n",
    "    \n",
    "# Convertir la lista en un dataframe\n",
    "indice_viviendas_intensidad_uso_df = pd.DataFrame(indice_viviendas_intensidad_uso_list)"
   ]
  },
  {
   "cell_type": "code",
   "execution_count": null,
   "metadata": {},
   "outputs": [],
   "source": [
    "indice_viviendas_intensidad_uso_df.head()"
   ]
  },
  {
   "cell_type": "code",
   "execution_count": null,
   "metadata": {},
   "outputs": [],
   "source": [
    "# Mostrar los datos en un histograma\n",
    "\n",
    "# Viviendas de bajo consumo\n",
    "\n",
    "# Ordenar los valores por el índice de viviendas de bajo consumo\n",
    "indice_viviendas_intensidad_uso_df = indice_viviendas_intensidad_uso_df.sort_values(by=\"Indice de viviendas bajo consumo\", ascending=False)\n",
    "\n",
    "plt.figure(figsize=(12, 6))\n",
    "plt.bar(indice_viviendas_intensidad_uso_df[\"Provincias\"], indice_viviendas_intensidad_uso_df[\"Indice de viviendas bajo consumo\"], color=\"green\")\n",
    "plt.xticks(rotation=90)\n",
    "plt.title(\"Indice de viviendas con bajo consumo por provincia\")\n",
    "plt.xlabel(\"Provincias\")\n",
    "plt.ylabel(\"Indice de viviendas con bajo consumo\")\n",
    "plt.show()\n",
    "\n",
    "# Viviendas de medio consumo\n",
    "\n",
    "# Ordenar los valores por el índice de viviendas de medio consumo\n",
    "indice_viviendas_intensidad_uso_df = indice_viviendas_intensidad_uso_df.sort_values(by=\"Indice de viviendas medio consumo\", ascending=False)\n",
    "\n",
    "plt.figure(figsize=(12, 6))\n",
    "plt.bar(indice_viviendas_intensidad_uso_df[\"Provincias\"], indice_viviendas_intensidad_uso_df[\"Indice de viviendas medio consumo\"], color=\"orange\")\n",
    "plt.xticks(rotation=90)\n",
    "plt.title(\"Indice de viviendas con medio consumo por provincia\")\n",
    "plt.xlabel(\"Provincias\")\n",
    "plt.ylabel(\"Indice de viviendas con medio consumo\")\n",
    "plt.show()\n",
    "\n",
    "# Viviendas de alto consumo\n",
    "\n",
    "# Ordenar los valores por el índice de viviendas de alto consumo\n",
    "indice_viviendas_intensidad_uso_df = indice_viviendas_intensidad_uso_df.sort_values(by=\"Indice de viviendas alto consumo\", ascending=False)\n",
    "\n",
    "plt.figure(figsize=(12, 6))\n",
    "plt.bar(indice_viviendas_intensidad_uso_df[\"Provincias\"], indice_viviendas_intensidad_uso_df[\"Indice de viviendas alto consumo\"], color=\"red\")\n",
    "plt.xticks(rotation=90)\n",
    "plt.title(\"Indice de viviendas con alto consumo por provincia\")\n",
    "plt.xlabel(\"Provincias\")\n",
    "plt.ylabel(\"Indice de viviendas con alto consumo\")\n",
    "plt.show()"
   ]
  },
  {
   "cell_type": "markdown",
   "metadata": {},
   "source": [
    "### Resultado"
   ]
  },
  {
   "cell_type": "markdown",
   "metadata": {},
   "source": [
    "A continuación, unimos los datos en un único dataframe para obtener la tarjeta de datos de la hipótesis 2."
   ]
  },
  {
   "cell_type": "code",
   "execution_count": null,
   "metadata": {},
   "outputs": [],
   "source": [
    "# Unir DataFrames\n",
    "data_card_2_df = pd.merge(indice_viviendas_renovables_df, indice_viviendas_intensidad_uso_df, on=\"Provincias\")\n",
    "\n",
    "data_card_2_df.head()"
   ]
  },
  {
   "cell_type": "markdown",
   "metadata": {},
   "source": [
    "Se guardan los datos en el archivo `gold/data_card_2_df.csv`"
   ]
  },
  {
   "cell_type": "code",
   "execution_count": null,
   "metadata": {},
   "outputs": [],
   "source": [
    "with open(os.path.join(GOLD_DATA_PATH, \"data_card_2.csv\"), \"w\") as f:\n",
    "    data_card_2_df.to_csv(f, sep=\";\", encoding=\"utf-8\")"
   ]
  }
 ],
 "metadata": {
  "language_info": {
   "name": "python"
  }
 },
 "nbformat": 4,
 "nbformat_minor": 2
}
